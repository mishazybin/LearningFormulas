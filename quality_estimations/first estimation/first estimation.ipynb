{
 "cells": [
  {
   "cell_type": "code",
   "execution_count": 6,
   "metadata": {
    "ExecuteTime": {
     "end_time": "2020-04-22T12:33:03.195457Z",
     "start_time": "2020-04-22T12:33:03.191669Z"
    }
   },
   "outputs": [],
   "source": [
    "import sys\n",
    "import os\n",
    "from os.path import dirname\n",
    "current_location = os.getcwd()\n",
    "sys.path.append(dirname(dirname(current_location)) + \"/lib\")\n",
    "\n",
    "import numpy as np\n",
    "import pandas as pd\n",
    "\n",
    "import pickle\n",
    "import explore"
   ]
  },
  {
   "cell_type": "markdown",
   "metadata": {},
   "source": [
    "## Linear combination of 3 variables and bias with standard-normally distributed coefficients"
   ]
  },
  {
   "cell_type": "code",
   "execution_count": 32,
   "metadata": {
    "collapsed": true
   },
   "outputs": [
    {
     "name": "stdout",
     "output_type": "stream",
     "text": [
      "\n",
      "\n",
      "----------------------------Exploring new formula #1----------------------------\n",
      "  Initialization #1\n",
      "    Epoch 5000, current loss 0.0449, current formula \\left(-11.424x_1^{-0.027} + 10.731x_2^{-0.015} + 0.915x_3^{1.071} + 0.819\\right)\n",
      "  Finished run #1, loss 0.04426300898194313, best loss 0.04426300898194313\n",
      "  Initialization #2\n",
      "  Finished run #2, loss 0.011057988740503788, best loss 0.011057988740503788\n",
      "  Initialization #3\n",
      "  Finished run #3, loss 7.58524076882594e-10, best loss 7.58524076882594e-10\n",
      "loss is smaller than 1e-05, terminating learning process\n",
      "38 seconds passed from the start, the iteration took 38 seconds\n",
      "ground truth and obtained formula\n"
     ]
    },
    {
     "data": {
      "text/latex": [
       "$\\displaystyle 1.276x_{1}^{1}-0.65x_{2}^{1}+0.9x_{3}^{1}-0.344$"
      ],
      "text/plain": [
       "<IPython.core.display.Math object>"
      ]
     },
     "metadata": {},
     "output_type": "display_data"
    },
    {
     "data": {
      "text/latex": [
       "$\\displaystyle \\left(1.276x_1^{1.000}-0.650x_2^{1.000} + 0.900x_3^{1.000}-0.344\\right)$"
      ],
      "text/plain": [
       "<IPython.core.display.Math object>"
      ]
     },
     "metadata": {},
     "output_type": "display_data"
    },
    {
     "name": "stdout",
     "output_type": "stream",
     "text": [
      "MSE between formula parameters is 1.2181853367313319e-08\n",
      "EXACT RECOVERY\n",
      "\n",
      "\n",
      "----------------------------Exploring new formula #2----------------------------\n",
      "  Initialization #1\n",
      "  Finished run #1, loss 0.01343916542828083, best loss 0.01343916542828083\n",
      "  Initialization #2\n",
      "  Finished run #2, loss 0.0015267726266756654, best loss 0.0015267726266756654\n",
      "  Initialization #3\n",
      "  Finished run #3, loss 0.013873125426471233, best loss 0.0015267726266756654\n",
      "  Initialization #4\n",
      "  Finished run #4, loss 0.011437230743467808, best loss 0.0015267726266756654\n",
      "  Initialization #5\n",
      "  Finished run #5, loss 0.00028848694637417793, best loss 0.00028848694637417793\n",
      "  Initialization #6\n",
      "  Finished run #6, loss 0.011361205950379372, best loss 0.00028848694637417793\n",
      "  Initialization #7\n",
      "  Finished run #7, loss 0.012482903897762299, best loss 0.00028848694637417793\n",
      "  Initialization #8\n",
      "    Epoch 5000, current loss 0.00934, current formula \\left(5.719x_1^{-0.029}-0.210x_2^{1.102} + 1.330x_3^{-0.024}-6.305\\right)\n",
      "  Finished run #8, loss 0.00918937474489212, best loss 0.00028848694637417793\n",
      "  Initialization #9\n",
      "  Finished run #9, loss 0.011318389326334, best loss 0.00028848694637417793\n",
      "  Initialization #10\n",
      "  Finished run #10, loss 0.00027836591470986605, best loss 0.00027836591470986605\n",
      "1 minutes 34 seconds passed from the start, the iteration took 56 seconds\n",
      "ground truth and obtained formula\n"
     ]
    },
    {
     "data": {
      "text/latex": [
       "$\\displaystyle -0.675x_{1}^{1}-0.208x_{2}^{1}-0.127x_{3}^{1}+1.352$"
      ],
      "text/plain": [
       "<IPython.core.display.Math object>"
      ]
     },
     "metadata": {},
     "output_type": "display_data"
    },
    {
     "data": {
      "text/latex": [
       "$\\displaystyle \\left(-0.674x_1^{0.997}-0.211x_2^{0.978}-1.659x_3^{0.021} + 2.916\\right)$"
      ],
      "text/plain": [
       "<IPython.core.display.Math object>"
      ]
     },
     "metadata": {},
     "output_type": "display_data"
    },
    {
     "name": "stdout",
     "output_type": "stream",
     "text": [
      "MSE between formula parameters is 0.8217513293213506\n",
      "FAILURE\n",
      "\n",
      "\n",
      "----------------------------Exploring new formula #3----------------------------\n",
      "  Initialization #1\n",
      "  Finished run #1, loss 0.0004741509328596294, best loss 0.0004741509328596294\n",
      "  Initialization #2\n",
      "  Finished run #2, loss 0.00046852396917529404, best loss 0.00046852396917529404\n",
      "  Initialization #3\n",
      "  Finished run #3, loss 0.000554167025256902, best loss 0.00046852396917529404\n",
      "  Initialization #4\n",
      "  Finished run #4, loss 2.823388856043607e-09, best loss 2.823388856043607e-09\n",
      "loss is smaller than 1e-05, terminating learning process\n",
      "1 minutes 49 seconds passed from the start, the iteration took 15 seconds\n",
      "ground truth and obtained formula\n"
     ]
    },
    {
     "data": {
      "text/latex": [
       "$\\displaystyle -0.58x_{1}^{1}-1.201x_{2}^{1}+0.161x_{3}^{1}-1.495$"
      ],
      "text/plain": [
       "<IPython.core.display.Math object>"
      ]
     },
     "metadata": {},
     "output_type": "display_data"
    },
    {
     "data": {
      "text/latex": [
       "$\\displaystyle \\left(-0.580x_1^{1.000}-1.201x_2^{1.000} + 0.161x_3^{1.002}-1.495\\right)$"
      ],
      "text/plain": [
       "<IPython.core.display.Math object>"
      ]
     },
     "metadata": {},
     "output_type": "display_data"
    },
    {
     "name": "stdout",
     "output_type": "stream",
     "text": [
      "MSE between formula parameters is 7.0111635002463e-07\n",
      "EXACT RECOVERY\n",
      "\n",
      "\n",
      "----------------------------Exploring new formula #4----------------------------\n",
      "  Initialization #1\n",
      "  Finished run #1, loss 7.996097672879898e-10, best loss 7.996097672879898e-10\n",
      "loss is smaller than 1e-05, terminating learning process\n",
      "1 minutes 51 seconds passed from the start, the iteration took 2 seconds\n",
      "ground truth and obtained formula\n"
     ]
    },
    {
     "data": {
      "text/latex": [
       "$\\displaystyle 0.571x_{1}^{1}-0.64x_{2}^{1}-0.373x_{3}^{1}+0.536$"
      ],
      "text/plain": [
       "<IPython.core.display.Math object>"
      ]
     },
     "metadata": {},
     "output_type": "display_data"
    },
    {
     "data": {
      "text/latex": [
       "$\\displaystyle \\left(0.571x_1^{1.000}-0.640x_2^{1.000}-0.373x_3^{1.000} + 0.536\\right)$"
      ],
      "text/plain": [
       "<IPython.core.display.Math object>"
      ]
     },
     "metadata": {},
     "output_type": "display_data"
    },
    {
     "name": "stdout",
     "output_type": "stream",
     "text": [
      "MSE between formula parameters is 5.000738325021205e-08\n",
      "EXACT RECOVERY\n",
      "\n",
      "\n",
      "----------------------------Exploring new formula #5----------------------------\n",
      "  Initialization #1\n",
      "    Epoch 5000, current loss 0.119, current formula \\left(0.060x_1^{5.802}-9.050x_2^{-0.051}-1.181x_3^{0.991} + 9.822\\right)\n",
      "    Epoch 10000, current loss 0.114, current formula \\left(0.059x_1^{5.951}-14.402x_2^{-0.034}-1.188x_3^{0.977} + 15.199\\right)\n",
      "  Finished run #1, loss 0.11366713047027588, best loss 0.11366713047027588\n",
      "  Initialization #2\n",
      "  Finished run #2, loss 2.2134427624109776e-08, best loss 2.2134427624109776e-08\n",
      "loss is smaller than 1e-05, terminating learning process\n",
      "2 minutes 32 seconds passed from the start, the iteration took 41 seconds\n",
      "ground truth and obtained formula\n"
     ]
    },
    {
     "data": {
      "text/latex": [
       "$\\displaystyle -0.065x_{1}^{1}+2.196x_{2}^{1}-1.213x_{3}^{1}-0.766$"
      ],
      "text/plain": [
       "<IPython.core.display.Math object>"
      ]
     },
     "metadata": {},
     "output_type": "display_data"
    },
    {
     "data": {
      "text/latex": [
       "$\\displaystyle \\left(-0.065x_1^{0.993} + 2.195x_2^{1.000}-1.213x_3^{0.999}-0.765\\right)$"
      ],
      "text/plain": [
       "<IPython.core.display.Math object>"
      ]
     },
     "metadata": {},
     "output_type": "display_data"
    },
    {
     "name": "stdout",
     "output_type": "stream",
     "text": [
      "MSE between formula parameters is 6.7070178810246794e-06\n",
      "EXACT RECOVERY\n",
      "\n",
      "\n",
      "----------------------------Exploring new formula #6----------------------------\n",
      "  Initialization #1\n",
      "  Finished run #1, loss 3.651099422796733e-09, best loss 3.651099422796733e-09\n",
      "loss is smaller than 1e-05, terminating learning process\n",
      "2 minutes 34 seconds passed from the start, the iteration took 2 seconds\n",
      "ground truth and obtained formula\n"
     ]
    },
    {
     "data": {
      "text/latex": [
       "$\\displaystyle -0.423x_{1}^{1}-0.364x_{2}^{1}-0.849x_{3}^{1}-0.66$"
      ],
      "text/plain": [
       "<IPython.core.display.Math object>"
      ]
     },
     "metadata": {},
     "output_type": "display_data"
    },
    {
     "data": {
      "text/latex": [
       "$\\displaystyle \\left(-0.424x_1^{1.000}-0.365x_2^{0.999}-0.849x_3^{1.000}-0.660\\right)$"
      ],
      "text/plain": [
       "<IPython.core.display.Math object>"
      ]
     },
     "metadata": {},
     "output_type": "display_data"
    },
    {
     "name": "stdout",
     "output_type": "stream",
     "text": [
      "MSE between formula parameters is 3.073016812444556e-07\n",
      "EXACT RECOVERY\n",
      "\n",
      "\n",
      "----------------------------Exploring new formula #7----------------------------\n",
      "  Initialization #1\n",
      "  Finished run #1, loss 0.012222030200064182, best loss 0.012222030200064182\n",
      "  Initialization #2\n",
      "  Finished run #2, loss 2.1197285704488422e-08, best loss 2.1197285704488422e-08\n",
      "loss is smaller than 1e-05, terminating learning process\n",
      "2 minutes 38 seconds passed from the start, the iteration took 3 seconds\n",
      "ground truth and obtained formula\n"
     ]
    },
    {
     "data": {
      "text/latex": [
       "$\\displaystyle 0.847x_{1}^{1}+0.59x_{2}^{1}+0.205x_{3}^{1}+1.124$"
      ],
      "text/plain": [
       "<IPython.core.display.Math object>"
      ]
     },
     "metadata": {},
     "output_type": "display_data"
    },
    {
     "data": {
      "text/latex": [
       "$\\displaystyle \\left(0.847x_1^{0.999} + 0.590x_2^{0.999} + 0.206x_3^{0.996} + 1.123\\right)$"
      ],
      "text/plain": [
       "<IPython.core.display.Math object>"
      ]
     },
     "metadata": {},
     "output_type": "display_data"
    },
    {
     "name": "stdout",
     "output_type": "stream",
     "text": [
      "MSE between formula parameters is 3.166313272906507e-06\n",
      "EXACT RECOVERY\n",
      "\n",
      "\n",
      "----------------------------Exploring new formula #8----------------------------\n",
      "  Initialization #1\n",
      "  Finished run #1, loss 5.693628679637186e-09, best loss 5.693628679637186e-09\n",
      "loss is smaller than 1e-05, terminating learning process\n",
      "2 minutes 40 seconds passed from the start, the iteration took 2 seconds\n",
      "ground truth and obtained formula\n"
     ]
    },
    {
     "data": {
      "text/latex": [
       "$\\displaystyle -0.68x_{1}^{1}+0.608x_{2}^{1}-0.857x_{3}^{1}+0.342$"
      ],
      "text/plain": [
       "<IPython.core.display.Math object>"
      ]
     },
     "metadata": {},
     "output_type": "display_data"
    },
    {
     "data": {
      "text/latex": [
       "$\\displaystyle \\left(-0.679x_1^{1.001} + 0.608x_2^{0.999}-0.857x_3^{1.001} + 0.341\\right)$"
      ],
      "text/plain": [
       "<IPython.core.display.Math object>"
      ]
     },
     "metadata": {},
     "output_type": "display_data"
    },
    {
     "name": "stdout",
     "output_type": "stream",
     "text": [
      "MSE between formula parameters is 1.9255488898599943e-07\n",
      "EXACT RECOVERY\n",
      "\n",
      "\n",
      "----------------------------Exploring new formula #9----------------------------\n",
      "  Initialization #1\n",
      "  Finished run #1, loss 0.0002396345662418753, best loss 0.0002396345662418753\n",
      "  Initialization #2\n",
      "  Finished run #2, loss 0.0001678973058005795, best loss 0.0001678973058005795\n",
      "  Initialization #3\n",
      "  Finished run #3, loss 0.002253648592159152, best loss 0.0001678973058005795\n",
      "  Initialization #4\n",
      "  Finished run #4, loss 0.0036190208047628403, best loss 0.0001678973058005795\n",
      "  Initialization #5\n",
      "  Finished run #5, loss 4.4747611172013535e-10, best loss 4.4747611172013535e-10\n",
      "loss is smaller than 1e-05, terminating learning process\n",
      "2 minutes 52 seconds passed from the start, the iteration took 13 seconds\n",
      "ground truth and obtained formula\n"
     ]
    },
    {
     "data": {
      "text/latex": [
       "$\\displaystyle 2.421x_{1}^{1}-0.371x_{2}^{1}+0.112x_{3}^{1}-1.21$"
      ],
      "text/plain": [
       "<IPython.core.display.Math object>"
      ]
     },
     "metadata": {},
     "output_type": "display_data"
    },
    {
     "data": {
      "text/latex": [
       "$\\displaystyle \\left(2.421x_1^{1.000}-0.371x_2^{1.000} + 0.112x_3^{1.001}-1.210\\right)$"
      ],
      "text/plain": [
       "<IPython.core.display.Math object>"
      ]
     },
     "metadata": {},
     "output_type": "display_data"
    },
    {
     "name": "stdout",
     "output_type": "stream",
     "text": [
      "MSE between formula parameters is 2.1145637650400927e-07\n",
      "EXACT RECOVERY\n",
      "\n",
      "\n",
      "----------------------------Exploring new formula #10----------------------------\n",
      "  Initialization #1\n",
      "  Finished run #1, loss 0.012512505054473877, best loss 0.012512505054473877\n",
      "  Initialization #2\n",
      "  Finished run #2, loss 0.011847813613712788, best loss 0.011847813613712788\n",
      "  Initialization #3\n",
      "  Finished run #3, loss 0.04677753150463104, best loss 0.011847813613712788\n",
      "  Initialization #4\n",
      "  Finished run #4, loss 2.9658236977425645e-10, best loss 2.9658236977425645e-10\n",
      "loss is smaller than 1e-05, terminating learning process\n",
      "3 minutes 6 seconds passed from the start, the iteration took 13 seconds\n",
      "ground truth and obtained formula\n"
     ]
    },
    {
     "data": {
      "text/latex": [
       "$\\displaystyle 0.744x_{1}^{1}-0.694x_{2}^{1}-0.945x_{3}^{1}+0.209$"
      ],
      "text/plain": [
       "<IPython.core.display.Math object>"
      ]
     },
     "metadata": {},
     "output_type": "display_data"
    },
    {
     "data": {
      "text/latex": [
       "$\\displaystyle \\left(0.744x_1^{1.000}-0.694x_2^{1.000}-0.945x_3^{1.000} + 0.209\\right)$"
      ],
      "text/plain": [
       "<IPython.core.display.Math object>"
      ]
     },
     "metadata": {},
     "output_type": "display_data"
    },
    {
     "name": "stdout",
     "output_type": "stream",
     "text": [
      "MSE between formula parameters is 7.622096477786857e-09\n",
      "EXACT RECOVERY\n",
      "\n",
      "################################################################################\n",
      "MSEs between parameters:\n",
      "[1.2181853367313319e-08, 0.8217513293213506, 7.0111635002463e-07, 5.000738325021205e-08, 6.7070178810246794e-06, 3.073016812444556e-07, 3.166313272906507e-06, 1.9255488898599943e-07, 2.1145637650400927e-07, 7.622096477786857e-09]\n",
      "For 9 formulas out of 10 the error is less than 1e-05.\n"
     ]
    }
   ],
   "source": [
    "explore.explore()"
   ]
  },
  {
   "cell_type": "markdown",
   "metadata": {},
   "source": [
    "## Linear combination of 3 squared variables and bias with standard-normally distributed coefficients"
   ]
  },
  {
   "cell_type": "code",
   "execution_count": 11,
   "metadata": {
    "collapsed": true
   },
   "outputs": [
    {
     "name": "stdout",
     "output_type": "stream",
     "text": [
      "\n",
      "\n",
      "----------------------------Exploring new formula #1----------------------------\n",
      "  Initialization #1\n",
      "  Finished run #1, loss 0.19504092633724213, best loss 0.19504092633724213\n",
      "  Initialization #2\n",
      "  Finished run #2, loss 0.007013747934252024, best loss 0.007013747934252024\n",
      "  Initialization #3\n",
      "  Finished run #3, loss 0.009375261142849922, best loss 0.007013747934252024\n",
      "  Initialization #4\n",
      "  Finished run #4, loss 0.009800040163099766, best loss 0.007013747934252024\n",
      "  Initialization #5\n",
      "  Finished run #5, loss 1.8762023185070476e-12, best loss 1.8762023185070476e-12\n",
      "loss is smaller than 0.001, terminating learning process\n",
      "15 seconds passed from the start, the iteration took 15 seconds\n",
      "ground truth and obtained formula\n"
     ]
    },
    {
     "data": {
      "text/latex": [
       "$\\displaystyle -2.118x_{1}^{2}-2.121x_{2}^{2}+0.462x_{3}^{2}+0.852$"
      ],
      "text/plain": [
       "<IPython.core.display.Math object>"
      ]
     },
     "metadata": {},
     "output_type": "display_data"
    },
    {
     "data": {
      "text/latex": [
       "$\\displaystyle \\left(-2.118x_1^{2.000}-2.121x_2^{2.000} + 0.462x_3^{2.000} + 0.852\\right)$"
      ],
      "text/plain": [
       "<IPython.core.display.Math object>"
      ]
     },
     "metadata": {},
     "output_type": "display_data"
    },
    {
     "name": "stdout",
     "output_type": "stream",
     "text": [
      "MSE between formula parameters is 6.69699216717033e-12\n",
      "EXACT RECOVERY\n",
      "\n",
      "\n",
      "----------------------------Exploring new formula #2----------------------------\n",
      "  Initialization #1\n",
      "  Finished run #1, loss 3.5127137743701242e-12, best loss 3.5127137743701242e-12\n",
      "loss is smaller than 0.001, terminating learning process\n",
      "16 seconds passed from the start, the iteration took 1 seconds\n",
      "ground truth and obtained formula\n"
     ]
    },
    {
     "data": {
      "text/latex": [
       "$\\displaystyle -0.787x_{1}^{2}-0.506x_{2}^{2}-1.607x_{3}^{2}+1.722$"
      ],
      "text/plain": [
       "<IPython.core.display.Math object>"
      ]
     },
     "metadata": {},
     "output_type": "display_data"
    },
    {
     "data": {
      "text/latex": [
       "$\\displaystyle \\left(-0.787x_1^{2.000}-0.506x_2^{2.000}-1.607x_3^{2.000} + 1.722\\right)$"
      ],
      "text/plain": [
       "<IPython.core.display.Math object>"
      ]
     },
     "metadata": {},
     "output_type": "display_data"
    },
    {
     "name": "stdout",
     "output_type": "stream",
     "text": [
      "MSE between formula parameters is 7.412026548081485e-11\n",
      "EXACT RECOVERY\n",
      "\n",
      "\n",
      "----------------------------Exploring new formula #3----------------------------\n",
      "  Initialization #1\n",
      "  Finished run #1, loss 0.1483605057001114, best loss 0.1483605057001114\n",
      "  Initialization #2\n",
      "  Finished run #2, loss 0.02518836408853531, best loss 0.02518836408853531\n",
      "  Initialization #3\n",
      "  Finished run #3, loss 1.3154793226943795e-11, best loss 1.3154793226943795e-11\n",
      "loss is smaller than 0.001, terminating learning process\n",
      "32 seconds passed from the start, the iteration took 15 seconds\n",
      "ground truth and obtained formula\n"
     ]
    },
    {
     "data": {
      "text/latex": [
       "$\\displaystyle -1.043x_{1}^{2}-1.52x_{2}^{2}-0.755x_{3}^{2}-0.242$"
      ],
      "text/plain": [
       "<IPython.core.display.Math object>"
      ]
     },
     "metadata": {},
     "output_type": "display_data"
    },
    {
     "data": {
      "text/latex": [
       "$\\displaystyle \\left(-1.043x_1^{2.000}-1.520x_2^{2.000}-0.755x_3^{2.000}-0.242\\right)$"
      ],
      "text/plain": [
       "<IPython.core.display.Math object>"
      ]
     },
     "metadata": {},
     "output_type": "display_data"
    },
    {
     "name": "stdout",
     "output_type": "stream",
     "text": [
      "MSE between formula parameters is 3.558649565503304e-10\n",
      "EXACT RECOVERY\n",
      "\n",
      "\n",
      "----------------------------Exploring new formula #4----------------------------\n",
      "  Initialization #1\n",
      "  Finished run #1, loss 1.5556061647159503e-11, best loss 1.5556061647159503e-11\n",
      "loss is smaller than 0.001, terminating learning process\n",
      "33 seconds passed from the start, the iteration took 2 seconds\n",
      "ground truth and obtained formula\n"
     ]
    },
    {
     "data": {
      "text/latex": [
       "$\\displaystyle -0.549x_{1}^{2}+0.916x_{2}^{2}+1.277x_{3}^{2}+0.891$"
      ],
      "text/plain": [
       "<IPython.core.display.Math object>"
      ]
     },
     "metadata": {},
     "output_type": "display_data"
    },
    {
     "data": {
      "text/latex": [
       "$\\displaystyle \\left(-0.549x_1^{2.000} + 0.916x_2^{2.000} + 1.277x_3^{2.000} + 0.891\\right)$"
      ],
      "text/plain": [
       "<IPython.core.display.Math object>"
      ]
     },
     "metadata": {},
     "output_type": "display_data"
    },
    {
     "name": "stdout",
     "output_type": "stream",
     "text": [
      "MSE between formula parameters is 4.6123866630815817e-10\n",
      "EXACT RECOVERY\n",
      "\n",
      "\n",
      "----------------------------Exploring new formula #5----------------------------\n",
      "  Initialization #1\n",
      "  Finished run #1, loss 0.0013860539766028523, best loss 0.0013860539766028523\n",
      "  Initialization #2\n",
      "  Finished run #2, loss 0.0016387712676078081, best loss 0.0013860539766028523\n",
      "  Initialization #3\n",
      "  Finished run #3, loss 5.024526801566953e-12, best loss 5.024526801566953e-12\n",
      "loss is smaller than 0.001, terminating learning process\n",
      "38 seconds passed from the start, the iteration took 5 seconds\n",
      "ground truth and obtained formula\n"
     ]
    },
    {
     "data": {
      "text/latex": [
       "$\\displaystyle 0.11x_{1}^{2}-2.128x_{2}^{2}+0.169x_{3}^{2}-0.251$"
      ],
      "text/plain": [
       "<IPython.core.display.Math object>"
      ]
     },
     "metadata": {},
     "output_type": "display_data"
    },
    {
     "data": {
      "text/latex": [
       "$\\displaystyle \\left(0.110x_1^{2.000}-2.128x_2^{2.000} + 0.169x_3^{2.000}-0.251\\right)$"
      ],
      "text/plain": [
       "<IPython.core.display.Math object>"
      ]
     },
     "metadata": {},
     "output_type": "display_data"
    },
    {
     "name": "stdout",
     "output_type": "stream",
     "text": [
      "MSE between formula parameters is 3.520428805612953e-09\n",
      "EXACT RECOVERY\n",
      "\n",
      "\n",
      "----------------------------Exploring new formula #6----------------------------\n",
      "  Initialization #1\n",
      "  Finished run #1, loss 0.03510764613747597, best loss 0.03510764613747597\n",
      "  Initialization #2\n",
      "  Finished run #2, loss 0.03426942229270935, best loss 0.03426942229270935\n",
      "  Initialization #3\n",
      "  Finished run #3, loss 0.035176824778318405, best loss 0.03426942229270935\n",
      "  Initialization #4\n",
      "  Finished run #4, loss 0.023263581097126007, best loss 0.023263581097126007\n",
      "  Initialization #5\n",
      "    Epoch 5000, current loss 0.054, current formula \\left(0.879x_1^{1.832}-8.612x_2^{-0.023} + 8.933x_3^{-0.019}-1.041\\right)\n",
      "    Epoch 10000, current loss 0.0535, current formula \\left(0.879x_1^{1.835}-12.666x_2^{-0.016} + 12.986x_3^{-0.013}-1.041\\right)\n",
      "  Finished run #5, loss 0.05348413810133934, best loss 0.023263581097126007\n",
      "  Initialization #6\n",
      "  Finished run #6, loss 8.06729336111367e-12, best loss 8.06729336111367e-12\n",
      "loss is smaller than 0.001, terminating learning process\n",
      "1 minutes 29 seconds passed from the start, the iteration took 51 seconds\n",
      "ground truth and obtained formula\n"
     ]
    },
    {
     "data": {
      "text/latex": [
       "$\\displaystyle 0.917x_{1}^{2}+0.782x_{2}^{2}-0.866x_{3}^{2}-0.72$"
      ],
      "text/plain": [
       "<IPython.core.display.Math object>"
      ]
     },
     "metadata": {},
     "output_type": "display_data"
    },
    {
     "data": {
      "text/latex": [
       "$\\displaystyle \\left(0.917x_1^{2.000} + 0.782x_2^{2.000}-0.866x_3^{2.000}-0.720\\right)$"
      ],
      "text/plain": [
       "<IPython.core.display.Math object>"
      ]
     },
     "metadata": {},
     "output_type": "display_data"
    },
    {
     "name": "stdout",
     "output_type": "stream",
     "text": [
      "MSE between formula parameters is 3.1134510842483516e-10\n",
      "EXACT RECOVERY\n",
      "\n",
      "\n",
      "----------------------------Exploring new formula #7----------------------------\n",
      "  Initialization #1\n",
      "  Finished run #1, loss 0.010849709622561932, best loss 0.010849709622561932\n",
      "  Initialization #2\n",
      "  Finished run #2, loss 0.038911230862140656, best loss 0.010849709622561932\n",
      "  Initialization #3\n",
      "  Finished run #3, loss 0.009395286440849304, best loss 0.009395286440849304\n",
      "  Initialization #4\n",
      "  Finished run #4, loss 0.0017017177306115627, best loss 0.0017017177306115627\n",
      "  Initialization #5\n",
      "  Finished run #5, loss 0.03575057163834572, best loss 0.0017017177306115627\n",
      "  Initialization #6\n",
      "  Finished run #6, loss 0.011514522135257721, best loss 0.0017017177306115627\n",
      "  Initialization #7\n",
      "    Epoch 5000, current loss 0.0114, current formula \\left(-5.762x_1^{-0.020} + 0.945x_2^{1.895} + 3.524x_3^{-0.011} + 3.652\\right)\n",
      "  Finished run #7, loss 0.011352745816111565, best loss 0.0017017177306115627\n",
      "  Initialization #8\n",
      "  Finished run #8, loss 1.14887084221027e-11, best loss 1.14887084221027e-11\n",
      "loss is smaller than 0.001, terminating learning process\n",
      "2 minutes 46 seconds passed from the start, the iteration took 1 minutes 17 seconds\n",
      "ground truth and obtained formula\n"
     ]
    },
    {
     "data": {
      "text/latex": [
       "$\\displaystyle 0.517x_{1}^{2}+0.938x_{2}^{2}-0.182x_{3}^{2}+1.244$"
      ],
      "text/plain": [
       "<IPython.core.display.Math object>"
      ]
     },
     "metadata": {},
     "output_type": "display_data"
    },
    {
     "data": {
      "text/latex": [
       "$\\displaystyle \\left(0.517x_1^{2.000} + 0.938x_2^{2.000}-0.182x_3^{2.000} + 1.244\\right)$"
      ],
      "text/plain": [
       "<IPython.core.display.Math object>"
      ]
     },
     "metadata": {},
     "output_type": "display_data"
    },
    {
     "name": "stdout",
     "output_type": "stream",
     "text": [
      "MSE between formula parameters is 6.36695601003672e-09\n",
      "EXACT RECOVERY\n",
      "\n",
      "\n",
      "----------------------------Exploring new formula #8----------------------------\n",
      "  Initialization #1\n",
      "  Finished run #1, loss 0.00043949144310317934, best loss 0.00043949144310317934\n",
      "loss is smaller than 0.001, terminating learning process\n",
      "2 minutes 48 seconds passed from the start, the iteration took 2 seconds\n",
      "ground truth and obtained formula\n"
     ]
    },
    {
     "data": {
      "text/latex": [
       "$\\displaystyle -0.118x_{1}^{2}-0.574x_{2}^{2}-0.106x_{3}^{2}+2.927$"
      ],
      "text/plain": [
       "<IPython.core.display.Math object>"
      ]
     },
     "metadata": {},
     "output_type": "display_data"
    },
    {
     "data": {
      "text/latex": [
       "$\\displaystyle \\left(-0.118x_1^{1.944}-0.576x_2^{2.009} + 2.378x_3^{-0.010} + 0.491\\right)$"
      ],
      "text/plain": [
       "<IPython.core.display.Math object>"
      ]
     },
     "metadata": {},
     "output_type": "display_data"
    },
    {
     "name": "stdout",
     "output_type": "stream",
     "text": [
      "MSE between formula parameters is 2.306655452500273\n",
      "FAILURE\n",
      "\n",
      "\n",
      "----------------------------Exploring new formula #9----------------------------\n",
      "  Initialization #1\n",
      "  Finished run #1, loss 2.1731370175581688e-11, best loss 2.1731370175581688e-11\n",
      "loss is smaller than 0.001, terminating learning process\n",
      "2 minutes 50 seconds passed from the start, the iteration took 2 seconds\n",
      "ground truth and obtained formula\n"
     ]
    },
    {
     "data": {
      "text/latex": [
       "$\\displaystyle 1.098x_{1}^{2}+0.082x_{2}^{2}-1.988x_{3}^{2}-0.771$"
      ],
      "text/plain": [
       "<IPython.core.display.Math object>"
      ]
     },
     "metadata": {},
     "output_type": "display_data"
    },
    {
     "data": {
      "text/latex": [
       "$\\displaystyle \\left(1.098x_1^{2.000} + 0.082x_2^{1.999}-1.988x_3^{2.000}-0.771\\right)$"
      ],
      "text/plain": [
       "<IPython.core.display.Math object>"
      ]
     },
     "metadata": {},
     "output_type": "display_data"
    },
    {
     "name": "stdout",
     "output_type": "stream",
     "text": [
      "MSE between formula parameters is 7.782828465030533e-08\n",
      "EXACT RECOVERY\n",
      "\n",
      "\n",
      "----------------------------Exploring new formula #10----------------------------\n",
      "  Initialization #1\n",
      "  Finished run #1, loss 7.292567591465904e-12, best loss 7.292567591465904e-12\n",
      "loss is smaller than 0.001, terminating learning process\n",
      "2 minutes 55 seconds passed from the start, the iteration took 6 seconds\n",
      "ground truth and obtained formula\n"
     ]
    },
    {
     "data": {
      "text/latex": [
       "$\\displaystyle -0.726x_{1}^{2}-0.951x_{2}^{2}+0.516x_{3}^{2}-0.259$"
      ],
      "text/plain": [
       "<IPython.core.display.Math object>"
      ]
     },
     "metadata": {},
     "output_type": "display_data"
    },
    {
     "data": {
      "text/latex": [
       "$\\displaystyle \\left(-0.726x_1^{2.000}-0.951x_2^{2.000} + 0.516x_3^{2.000}-0.259\\right)$"
      ],
      "text/plain": [
       "<IPython.core.display.Math object>"
      ]
     },
     "metadata": {},
     "output_type": "display_data"
    },
    {
     "name": "stdout",
     "output_type": "stream",
     "text": [
      "MSE between formula parameters is 5.295644557788495e-10\n",
      "EXACT RECOVERY\n",
      "\n",
      "################################################################################\n",
      "MSEs between parameters:\n",
      "[6.69699216717033e-12, 7.412026548081485e-11, 3.558649565503304e-10, 4.6123866630815817e-10, 3.520428805612953e-09, 3.1134510842483516e-10, 6.36695601003672e-09, 2.306655452500273, 7.782828465030533e-08, 5.295644557788495e-10]\n",
      "For 9 formulas out of 10 the error is less than 1e-05.\n"
     ]
    }
   ],
   "source": [
    "explore(min_power=2, max_power=2)"
   ]
  },
  {
   "cell_type": "markdown",
   "metadata": {},
   "source": [
    "## Linear combination of 3 variables with powers uniformly distributed over {1, 2 ,3 ,4, 5} and standard-normally distributed coefficients"
   ]
  },
  {
   "cell_type": "code",
   "execution_count": 35,
   "metadata": {
    "collapsed": true
   },
   "outputs": [
    {
     "name": "stdout",
     "output_type": "stream",
     "text": [
      "\n",
      "\n",
      "----------------------------Exploring new formula #1----------------------------\n",
      "  Initialization #1\n",
      "  Finished run #1, loss 0.06304360181093216, best loss 0.06304360181093216\n",
      "  Initialization #2\n",
      "  Finished run #2, loss 0.004367060959339142, best loss 0.004367060959339142\n",
      "  Initialization #3\n",
      "  Finished run #3, loss 1.3601357019832339e-11, best loss 1.3601357019832339e-11\n",
      "loss is smaller than 1e-05, terminating learning process\n",
      "6 seconds passed from the start, the iteration took 6 seconds\n",
      "ground truth and obtained formula\n"
     ]
    },
    {
     "data": {
      "text/latex": [
       "$\\displaystyle -1.126x_{1}^{2}-1.236x_{2}^{2}+0.312x_{3}^{3}+0.729$"
      ],
      "text/plain": [
       "<IPython.core.display.Math object>"
      ]
     },
     "metadata": {},
     "output_type": "display_data"
    },
    {
     "data": {
      "text/latex": [
       "$\\displaystyle \\left(-1.126x_1^{2.000}-1.236x_2^{2.000} + 0.312x_3^{3.000} + 0.729\\right)$"
      ],
      "text/plain": [
       "<IPython.core.display.Math object>"
      ]
     },
     "metadata": {},
     "output_type": "display_data"
    },
    {
     "name": "stdout",
     "output_type": "stream",
     "text": [
      "MSE between formula parameters is 5.667260058065235e-09\n",
      "EXACT RECOVERY\n",
      "\n",
      "\n",
      "----------------------------Exploring new formula #2----------------------------\n",
      "  Initialization #1\n",
      "  Finished run #1, loss 0.08279216289520264, best loss 0.08279216289520264\n",
      "  Initialization #2\n",
      "  Finished run #2, loss 1.7293509289514897e-12, best loss 1.7293509289514897e-12\n",
      "loss is smaller than 1e-05, terminating learning process\n",
      "10 seconds passed from the start, the iteration took 4 seconds\n",
      "ground truth and obtained formula\n"
     ]
    },
    {
     "data": {
      "text/latex": [
       "$\\displaystyle -0.937x_{1}^{4}-0.922x_{2}^{4}+1.209x_{3}^{5}+1.655$"
      ],
      "text/plain": [
       "<IPython.core.display.Math object>"
      ]
     },
     "metadata": {},
     "output_type": "display_data"
    },
    {
     "data": {
      "text/latex": [
       "$\\displaystyle \\left(-0.937x_1^{4.000}-0.922x_2^{4.000} + 1.209x_3^{5.000} + 1.655\\right)$"
      ],
      "text/plain": [
       "<IPython.core.display.Math object>"
      ]
     },
     "metadata": {},
     "output_type": "display_data"
    },
    {
     "name": "stdout",
     "output_type": "stream",
     "text": [
      "MSE between formula parameters is 1.1465926620855628e-10\n",
      "EXACT RECOVERY\n",
      "\n",
      "\n",
      "----------------------------Exploring new formula #3----------------------------\n",
      "  Initialization #1\n",
      "  Finished run #1, loss 7.422276226791424e-13, best loss 7.422276226791424e-13\n",
      "loss is smaller than 1e-05, terminating learning process\n",
      "14 seconds passed from the start, the iteration took 4 seconds\n",
      "ground truth and obtained formula\n"
     ]
    },
    {
     "data": {
      "text/latex": [
       "$\\displaystyle -1.539x_{1}^{6}-1.276x_{2}^{3}-0.967x_{3}^{6}-0.346$"
      ],
      "text/plain": [
       "<IPython.core.display.Math object>"
      ]
     },
     "metadata": {},
     "output_type": "display_data"
    },
    {
     "data": {
      "text/latex": [
       "$\\displaystyle \\left(-1.539x_1^{6.000}-1.276x_2^{3.000}-0.967x_3^{6.000}-0.346\\right)$"
      ],
      "text/plain": [
       "<IPython.core.display.Math object>"
      ]
     },
     "metadata": {},
     "output_type": "display_data"
    },
    {
     "name": "stdout",
     "output_type": "stream",
     "text": [
      "MSE between formula parameters is 1.1858755247625855e-10\n",
      "EXACT RECOVERY\n",
      "\n",
      "\n",
      "----------------------------Exploring new formula #4----------------------------\n",
      "  Initialization #1\n",
      "  Finished run #1, loss 0.002982549136504531, best loss 0.002982549136504531\n",
      "  Initialization #2\n",
      "  Finished run #2, loss 0.033160265535116196, best loss 0.002982549136504531\n",
      "  Initialization #3\n",
      "  Finished run #3, loss 0.09207728505134583, best loss 0.002982549136504531\n",
      "  Initialization #4\n",
      "  Finished run #4, loss 0.03271259367465973, best loss 0.002982549136504531\n",
      "  Initialization #5\n",
      "  Finished run #5, loss 0.0027095582336187363, best loss 0.0027095582336187363\n",
      "  Initialization #6\n",
      "  Finished run #6, loss 2.9511610169508096e-12, best loss 2.9511610169508096e-12\n",
      "loss is smaller than 1e-05, terminating learning process\n",
      "36 seconds passed from the start, the iteration took 22 seconds\n",
      "ground truth and obtained formula\n"
     ]
    },
    {
     "data": {
      "text/latex": [
       "$\\displaystyle 1.452x_{1}^{4}-0.316x_{2}^{1}-0.89x_{3}^{6}-1.062$"
      ],
      "text/plain": [
       "<IPython.core.display.Math object>"
      ]
     },
     "metadata": {},
     "output_type": "display_data"
    },
    {
     "data": {
      "text/latex": [
       "$\\displaystyle \\left(1.452x_1^{4.000}-0.316x_2^{1.000}-0.890x_3^{6.000}-1.062\\right)$"
      ],
      "text/plain": [
       "<IPython.core.display.Math object>"
      ]
     },
     "metadata": {},
     "output_type": "display_data"
    },
    {
     "name": "stdout",
     "output_type": "stream",
     "text": [
      "MSE between formula parameters is 3.3764445208005004e-10\n",
      "EXACT RECOVERY\n",
      "\n",
      "\n",
      "----------------------------Exploring new formula #5----------------------------\n",
      "  Initialization #1\n",
      "    Epoch 5000, current loss 0.0621, current formula \\left(-7.449x_1^{-0.011}-0.163x_2^{3.560} + 6.996x_3^{-0.015} + 0.764\\right)\n",
      "  Finished run #1, loss 0.06207393482327461, best loss 0.06207393482327461\n",
      "  Initialization #2\n",
      "    Epoch 5000, current loss 0.0622, current formula \\left(-7.718x_1^{-0.011}-0.163x_2^{3.565} + 6.194x_3^{-0.017} + 1.836\\right)\n",
      "  Finished run #2, loss 0.06211938336491585, best loss 0.06207393482327461\n",
      "  Initialization #3\n",
      "  Finished run #3, loss 1.208213824127613e-11, best loss 1.208213824127613e-11\n",
      "loss is smaller than 1e-05, terminating learning process\n",
      "1 minutes 25 seconds passed from the start, the iteration took 49 seconds\n",
      "ground truth and obtained formula\n"
     ]
    },
    {
     "data": {
      "text/latex": [
       "$\\displaystyle 0.526x_{1}^{4}-0.143x_{2}^{2}-1.118x_{3}^{6}+0.4$"
      ],
      "text/plain": [
       "<IPython.core.display.Math object>"
      ]
     },
     "metadata": {},
     "output_type": "display_data"
    },
    {
     "data": {
      "text/latex": [
       "$\\displaystyle \\left(0.526x_1^{4.000}-0.143x_2^{2.000}-1.118x_3^{6.000} + 0.400\\right)$"
      ],
      "text/plain": [
       "<IPython.core.display.Math object>"
      ]
     },
     "metadata": {},
     "output_type": "display_data"
    },
    {
     "name": "stdout",
     "output_type": "stream",
     "text": [
      "MSE between formula parameters is 1.4469741119579486e-08\n",
      "EXACT RECOVERY\n",
      "\n",
      "\n",
      "----------------------------Exploring new formula #6----------------------------\n",
      "  Initialization #1\n",
      "  Finished run #1, loss 0.08188065886497498, best loss 0.08188065886497498\n",
      "  Initialization #2\n",
      "    Epoch 5000, current loss 0.182, current formula \\left(-9.522x_1^{-0.026} + 1.402x_2^{4.533} + 2.577x_3^{0.022} + 8.277\\right)\n",
      "  Finished run #2, loss 0.18087251484394073, best loss 0.08188065886497498\n",
      "  Initialization #3\n",
      "  Finished run #3, loss 0.0822642371058464, best loss 0.08188065886497498\n",
      "  Initialization #4\n",
      "  Finished run #4, loss 2.086057455247259e-12, best loss 2.086057455247259e-12\n",
      "loss is smaller than 1e-05, terminating learning process\n",
      "2 minutes 3 seconds passed from the start, the iteration took 38 seconds\n",
      "ground truth and obtained formula\n"
     ]
    },
    {
     "data": {
      "text/latex": [
       "$\\displaystyle 1.963x_{1}^{5}+1.38x_{2}^{5}+0.423x_{3}^{6}+0.658$"
      ],
      "text/plain": [
       "<IPython.core.display.Math object>"
      ]
     },
     "metadata": {},
     "output_type": "display_data"
    },
    {
     "data": {
      "text/latex": [
       "$\\displaystyle \\left(1.963x_1^{5.000} + 1.380x_2^{5.000} + 0.423x_3^{6.000} + 0.658\\right)$"
      ],
      "text/plain": [
       "<IPython.core.display.Math object>"
      ]
     },
     "metadata": {},
     "output_type": "display_data"
    },
    {
     "name": "stdout",
     "output_type": "stream",
     "text": [
      "MSE between formula parameters is 1.5023411086596232e-10\n",
      "EXACT RECOVERY\n",
      "\n",
      "\n",
      "----------------------------Exploring new formula #7----------------------------\n",
      "  Initialization #1\n",
      "  Finished run #1, loss 0.0009585803491063416, best loss 0.0009585803491063416\n",
      "  Initialization #2\n",
      "  Finished run #2, loss 0.016282297670841217, best loss 0.0009585803491063416\n",
      "  Initialization #3\n",
      "  Finished run #3, loss 0.016563350334763527, best loss 0.0009585803491063416\n",
      "  Initialization #4\n",
      "  Finished run #4, loss 6.829097292000708e-13, best loss 6.829097292000708e-13\n",
      "loss is smaller than 1e-05, terminating learning process\n",
      "2 minutes 31 seconds passed from the start, the iteration took 28 seconds\n",
      "ground truth and obtained formula\n"
     ]
    },
    {
     "data": {
      "text/latex": [
       "$\\displaystyle 1.571x_{1}^{5}+0.15x_{2}^{5}-0.613x_{3}^{2}+1.084$"
      ],
      "text/plain": [
       "<IPython.core.display.Math object>"
      ]
     },
     "metadata": {},
     "output_type": "display_data"
    },
    {
     "data": {
      "text/latex": [
       "$\\displaystyle \\left(1.571x_1^{5.000} + 0.150x_2^{5.000}-0.613x_3^{2.000} + 1.084\\right)$"
      ],
      "text/plain": [
       "<IPython.core.display.Math object>"
      ]
     },
     "metadata": {},
     "output_type": "display_data"
    },
    {
     "name": "stdout",
     "output_type": "stream",
     "text": [
      "MSE between formula parameters is 3.4865421660867923e-10\n",
      "EXACT RECOVERY\n",
      "\n",
      "\n",
      "----------------------------Exploring new formula #8----------------------------\n",
      "  Initialization #1\n",
      "  Finished run #1, loss 0.0010126919951289892, best loss 0.0010126919951289892\n",
      "  Initialization #2\n",
      "  Finished run #2, loss 5.297980804064295e-12, best loss 5.297980804064295e-12\n",
      "loss is smaller than 1e-05, terminating learning process\n",
      "2 minutes 34 seconds passed from the start, the iteration took 3 seconds\n",
      "ground truth and obtained formula\n"
     ]
    },
    {
     "data": {
      "text/latex": [
       "$\\displaystyle 0.154x_{1}^{5}-0.309x_{2}^{3}+1.08x_{3}^{1}+0.952$"
      ],
      "text/plain": [
       "<IPython.core.display.Math object>"
      ]
     },
     "metadata": {},
     "output_type": "display_data"
    },
    {
     "data": {
      "text/latex": [
       "$\\displaystyle \\left(0.154x_1^{5.000}-0.309x_2^{3.000} + 1.080x_3^{1.000} + 0.952\\right)$"
      ],
      "text/plain": [
       "<IPython.core.display.Math object>"
      ]
     },
     "metadata": {},
     "output_type": "display_data"
    },
    {
     "name": "stdout",
     "output_type": "stream",
     "text": [
      "MSE between formula parameters is 1.1178741107390318e-08\n",
      "EXACT RECOVERY\n",
      "\n",
      "\n",
      "----------------------------Exploring new formula #9----------------------------\n",
      "  Initialization #1\n",
      "  Finished run #1, loss 0.05849596858024597, best loss 0.05849596858024597\n",
      "  Initialization #2\n",
      "  Finished run #2, loss 0.000568809628020972, best loss 0.000568809628020972\n",
      "  Initialization #3\n",
      "    Epoch 5000, current loss 0.0352, current formula \\left(-1.289x_1^{-0.011}-5.506x_2^{-0.024} + 0.662x_3^{3.975} + 5.457\\right)\n",
      "  Finished run #3, loss 0.03520870953798294, best loss 0.000568809628020972\n",
      "  Initialization #4\n",
      "  Finished run #4, loss 0.034622740000486374, best loss 0.000568809628020972\n",
      "  Initialization #5\n",
      "  Finished run #5, loss 0.0006225152174010873, best loss 0.000568809628020972\n",
      "  Initialization #6\n",
      "  Finished run #6, loss 5.907022267159778e-12, best loss 5.907022267159778e-12\n",
      "loss is smaller than 1e-05, terminating learning process\n",
      "3 minutes 3 seconds passed from the start, the iteration took 29 seconds\n",
      "ground truth and obtained formula\n"
     ]
    },
    {
     "data": {
      "text/latex": [
       "$\\displaystyle 0.11x_{1}^{3}+0.842x_{2}^{3}+0.655x_{3}^{4}-1.72$"
      ],
      "text/plain": [
       "<IPython.core.display.Math object>"
      ]
     },
     "metadata": {},
     "output_type": "display_data"
    },
    {
     "data": {
      "text/latex": [
       "$\\displaystyle \\left(0.110x_1^{3.000} + 0.842x_2^{3.000} + 0.655x_3^{4.000}-1.720\\right)$"
      ],
      "text/plain": [
       "<IPython.core.display.Math object>"
      ]
     },
     "metadata": {},
     "output_type": "display_data"
    },
    {
     "name": "stdout",
     "output_type": "stream",
     "text": [
      "MSE between formula parameters is 2.363041794779213e-08\n",
      "EXACT RECOVERY\n",
      "\n",
      "\n",
      "----------------------------Exploring new formula #10----------------------------\n",
      "  Initialization #1\n",
      "  Finished run #1, loss 0.005140147637575865, best loss 0.005140147637575865\n",
      "  Initialization #2\n",
      "  Finished run #2, loss 1.1832983377868533e-11, best loss 1.1832983377868533e-11\n",
      "loss is smaller than 1e-05, terminating learning process\n",
      "3 minutes 6 seconds passed from the start, the iteration took 3 seconds\n",
      "ground truth and obtained formula\n"
     ]
    },
    {
     "data": {
      "text/latex": [
       "$\\displaystyle -0.014x_{1}^{3}+0.342x_{2}^{2}-0.814x_{3}^{6}+0.378$"
      ],
      "text/plain": [
       "<IPython.core.display.Math object>"
      ]
     },
     "metadata": {},
     "output_type": "display_data"
    },
    {
     "data": {
      "text/latex": [
       "$\\displaystyle \\left(-0.014x_1^{2.997} + 0.342x_2^{2.000}-0.814x_3^{6.000} + 0.378\\right)$"
      ],
      "text/plain": [
       "<IPython.core.display.Math object>"
      ]
     },
     "metadata": {},
     "output_type": "display_data"
    },
    {
     "name": "stdout",
     "output_type": "stream",
     "text": [
      "MSE between formula parameters is 9.018604936760181e-07\n",
      "EXACT RECOVERY\n",
      "\n",
      "################################################################################\n",
      "MSEs between parameters:\n",
      "[5.667260058065235e-09, 1.1465926620855628e-10, 1.1858755247625855e-10, 3.3764445208005004e-10, 1.4469741119579486e-08, 1.5023411086596232e-10, 3.4865421660867923e-10, 1.1178741107390318e-08, 2.363041794779213e-08, 9.018604936760181e-07]\n",
      "For 10 formulas out of 10 the error is less than 1e-05.\n"
     ]
    }
   ],
   "source": [
    "explore.explore(max_power=6)"
   ]
  },
  {
   "cell_type": "code",
   "execution_count": 46,
   "metadata": {
    "collapsed": true
   },
   "outputs": [
    {
     "name": "stdout",
     "output_type": "stream",
     "text": [
      "\n",
      "\n",
      "----------------------------Exploring new formula #1----------------------------\n",
      "  Initialization #1\n",
      "  Finished run #1, loss 0.0005649023805744946, best loss 0.0005649023805744946\n",
      "  Initialization #2\n",
      "  Finished run #2, loss 3.363373165046757e-12, best loss 3.363373165046757e-12\n",
      "loss is smaller than 1e-05, terminating learning process\n",
      "3 seconds passed from the start, the iteration took 3 seconds\n",
      "ground truth and obtained formula\n"
     ]
    },
    {
     "data": {
      "text/latex": [
       "$\\displaystyle 2.049x_{1}^{3.333}+0.114x_{2}^{4.667}+1.084x_{3}^{1.667}-0.099$"
      ],
      "text/plain": [
       "<IPython.core.display.Math object>"
      ]
     },
     "metadata": {},
     "output_type": "display_data"
    },
    {
     "data": {
      "text/latex": [
       "$\\displaystyle \\left(2.049x_1^{3.333} + 0.114x_2^{4.667} + 1.084x_3^{1.667}-0.099\\right)$"
      ],
      "text/plain": [
       "<IPython.core.display.Math object>"
      ]
     },
     "metadata": {},
     "output_type": "display_data"
    },
    {
     "name": "stdout",
     "output_type": "stream",
     "text": [
      "MSE between formula parameters is 1.0837911044804726e-09\n",
      "EXACT RECOVERY\n",
      "\n",
      "\n",
      "----------------------------Exploring new formula #2----------------------------\n",
      "  Initialization #1\n",
      "  Finished run #1, loss 0.043854933232069016, best loss 0.043854933232069016\n",
      "  Initialization #2\n",
      "  Finished run #2, loss 5.613911113755421e-09, best loss 5.613911113755421e-09\n",
      "loss is smaller than 1e-05, terminating learning process\n",
      "15 seconds passed from the start, the iteration took 12 seconds\n",
      "ground truth and obtained formula\n"
     ]
    },
    {
     "data": {
      "text/latex": [
       "$\\displaystyle -1.221x_{1}^{2.0}-1.776x_{2}^{0.667}-1.643x_{3}^{1.333}+1.616$"
      ],
      "text/plain": [
       "<IPython.core.display.Math object>"
      ]
     },
     "metadata": {},
     "output_type": "display_data"
    },
    {
     "data": {
      "text/latex": [
       "$\\displaystyle \\left(-1.221x_1^{2.000}-1.776x_2^{0.667}-1.643x_3^{1.334} + 1.615\\right)$"
      ],
      "text/plain": [
       "<IPython.core.display.Math object>"
      ]
     },
     "metadata": {},
     "output_type": "display_data"
    },
    {
     "name": "stdout",
     "output_type": "stream",
     "text": [
      "MSE between formula parameters is 7.233614190178222e-08\n",
      "EXACT RECOVERY\n",
      "\n",
      "\n",
      "----------------------------Exploring new formula #3----------------------------\n",
      "  Initialization #1\n",
      "  Finished run #1, loss 0.028962085023522377, best loss 0.028962085023522377\n",
      "  Initialization #2\n",
      "  Finished run #2, loss 4.988416549167596e-05, best loss 4.988416549167596e-05\n",
      "  Initialization #3\n",
      "  Finished run #3, loss 0.026912150904536247, best loss 4.988416549167596e-05\n",
      "  Initialization #4\n",
      "  Finished run #4, loss 0.14470908045768738, best loss 4.988416549167596e-05\n",
      "  Initialization #5\n",
      "  Finished run #5, loss 5.1276245358167216e-05, best loss 4.988416549167596e-05\n",
      "  Initialization #6\n",
      "    Epoch 5000, current loss 0.153, current formula \\left(0.061x_1^{14.948} + 13.875x_2^{-0.027}-12.422x_3^{-0.014}-2.685\\right)\n",
      "  Finished run #6, loss 0.15167467296123505, best loss 4.988416549167596e-05\n",
      "  Initialization #7\n",
      "  Finished run #7, loss 5.1009068556595594e-05, best loss 4.988416549167596e-05\n",
      "  Initialization #8\n",
      "  Finished run #8, loss 0.029082538560032845, best loss 4.988416549167596e-05\n",
      "  Initialization #9\n",
      "  Finished run #9, loss 0.02650262415409088, best loss 4.988416549167596e-05\n",
      "  Initialization #10\n",
      "  Finished run #10, loss 0.13250789046287537, best loss 4.988416549167596e-05\n",
      "1 minutes 27 seconds passed from the start, the iteration took 1 minutes 12 seconds\n",
      "ground truth and obtained formula\n"
     ]
    },
    {
     "data": {
      "text/latex": [
       "$\\displaystyle 0.033x_{1}^{3.667}-1.803x_{2}^{1.667}+0.798x_{3}^{2.333}-0.584$"
      ],
      "text/plain": [
       "<IPython.core.display.Math object>"
      ]
     },
     "metadata": {},
     "output_type": "display_data"
    },
    {
     "data": {
      "text/latex": [
       "$\\displaystyle \\left(-1.351x_1^{-0.004}-1.803x_2^{1.664} + 0.799x_3^{2.329} + 0.779\\right)$"
      ],
      "text/plain": [
       "<IPython.core.display.Math object>"
      ]
     },
     "metadata": {},
     "output_type": "display_data"
    },
    {
     "name": "stdout",
     "output_type": "stream",
     "text": [
      "MSE between formula parameters is 2.464195771728083\n",
      "FAILURE\n",
      "\n",
      "\n",
      "----------------------------Exploring new formula #4----------------------------\n",
      "  Initialization #1\n",
      "  Finished run #1, loss 0.00016132325981743634, best loss 0.00016132325981743634\n",
      "  Initialization #2\n",
      "  Finished run #2, loss 5.5267452940543915e-12, best loss 5.5267452940543915e-12\n",
      "loss is smaller than 1e-05, terminating learning process\n",
      "1 minutes 31 seconds passed from the start, the iteration took 3 seconds\n",
      "ground truth and obtained formula\n"
     ]
    },
    {
     "data": {
      "text/latex": [
       "$\\displaystyle -1.232x_{1}^{2.333}+0.259x_{2}^{4.0}-0.06x_{3}^{2.667}-0.169$"
      ],
      "text/plain": [
       "<IPython.core.display.Math object>"
      ]
     },
     "metadata": {},
     "output_type": "display_data"
    },
    {
     "data": {
      "text/latex": [
       "$\\displaystyle \\left(-1.232x_1^{2.333} + 0.259x_2^{4.000}-0.060x_3^{2.666}-0.169\\right)$"
      ],
      "text/plain": [
       "<IPython.core.display.Math object>"
      ]
     },
     "metadata": {},
     "output_type": "display_data"
    },
    {
     "name": "stdout",
     "output_type": "stream",
     "text": [
      "MSE between formula parameters is 3.936620335265317e-08\n",
      "EXACT RECOVERY\n",
      "\n",
      "\n",
      "----------------------------Exploring new formula #5----------------------------\n",
      "  Initialization #1\n",
      "  Finished run #1, loss 0.017211973667144775, best loss 0.017211973667144775\n",
      "  Initialization #2\n",
      "  Finished run #2, loss 1.972271304606643e-12, best loss 1.972271304606643e-12\n",
      "loss is smaller than 1e-05, terminating learning process\n",
      "1 minutes 39 seconds passed from the start, the iteration took 9 seconds\n",
      "ground truth and obtained formula\n"
     ]
    },
    {
     "data": {
      "text/latex": [
       "$\\displaystyle -0.623x_{1}^{2.0}-1.421x_{2}^{2.667}+1.193x_{3}^{2.333}-1.313$"
      ],
      "text/plain": [
       "<IPython.core.display.Math object>"
      ]
     },
     "metadata": {},
     "output_type": "display_data"
    },
    {
     "data": {
      "text/latex": [
       "$\\displaystyle \\left(-0.623x_1^{2.000}-1.421x_2^{2.667} + 1.193x_3^{2.333}-1.313\\right)$"
      ],
      "text/plain": [
       "<IPython.core.display.Math object>"
      ]
     },
     "metadata": {},
     "output_type": "display_data"
    },
    {
     "name": "stdout",
     "output_type": "stream",
     "text": [
      "MSE between formula parameters is 6.349257627594592e-11\n",
      "EXACT RECOVERY\n",
      "\n",
      "\n",
      "----------------------------Exploring new formula #6----------------------------\n",
      "  Initialization #1\n",
      "    Epoch 5000, current loss 0.0459, current formula \\left(-8.472x_1^{-0.034} + 7.621x_2^{-0.010}-2.173x_3^{3.907} + 1.297\\right)\n",
      "  Finished run #1, loss 0.045699264854192734, best loss 0.045699264854192734\n",
      "  Initialization #2\n",
      "  Finished run #2, loss 0.03883028030395508, best loss 0.03883028030395508\n",
      "  Initialization #3\n",
      "  Finished run #3, loss 0.010128953494131565, best loss 0.010128953494131565\n",
      "  Initialization #4\n",
      "    Epoch 5000, current loss 0.225, current formula \\left(1.250x_1^{0.741}-0.498x_2^{3.728} + 7.295x_3^{-0.041}-8.444\\right)\n",
      "    Epoch 10000, current loss 0.223, current formula \\left(1.254x_1^{0.735}-0.498x_2^{3.743} + 11.863x_3^{-0.026}-13.029\\right)\n",
      "  Finished run #4, loss 0.2226993441581726, best loss 0.010128953494131565\n",
      "  Initialization #5\n",
      "  Finished run #5, loss 4.736817708905772e-12, best loss 4.736817708905772e-12\n",
      "loss is smaller than 1e-05, terminating learning process\n",
      "2 minutes 55 seconds passed from the start, the iteration took 1 minutes 16 seconds\n",
      "ground truth and obtained formula\n"
     ]
    },
    {
     "data": {
      "text/latex": [
       "$\\displaystyle 1.241x_{1}^{1.0}-0.46x_{2}^{3.667}-2.218x_{3}^{4.0}-0.299$"
      ],
      "text/plain": [
       "<IPython.core.display.Math object>"
      ]
     },
     "metadata": {},
     "output_type": "display_data"
    },
    {
     "data": {
      "text/latex": [
       "$\\displaystyle \\left(1.241x_1^{1.000}-0.460x_2^{3.667}-2.218x_3^{4.000}-0.299\\right)$"
      ],
      "text/plain": [
       "<IPython.core.display.Math object>"
      ]
     },
     "metadata": {},
     "output_type": "display_data"
    },
    {
     "name": "stdout",
     "output_type": "stream",
     "text": [
      "MSE between formula parameters is 6.099755621237688e-11\n",
      "EXACT RECOVERY\n",
      "\n",
      "\n",
      "----------------------------Exploring new formula #7----------------------------\n",
      "  Initialization #1\n",
      "  Finished run #1, loss 4.2805082395291905e-12, best loss 4.2805082395291905e-12\n",
      "loss is smaller than 1e-05, terminating learning process\n",
      "2 minutes 57 seconds passed from the start, the iteration took 1 seconds\n",
      "ground truth and obtained formula\n"
     ]
    },
    {
     "data": {
      "text/latex": [
       "$\\displaystyle 3.203x_{1}^{2.333}-1.724x_{2}^{4.333}-0.757x_{3}^{1.667}-1.98$"
      ],
      "text/plain": [
       "<IPython.core.display.Math object>"
      ]
     },
     "metadata": {},
     "output_type": "display_data"
    },
    {
     "data": {
      "text/latex": [
       "$\\displaystyle \\left(3.203x_1^{2.333}-1.724x_2^{4.333}-0.757x_3^{1.667}-1.980\\right)$"
      ],
      "text/plain": [
       "<IPython.core.display.Math object>"
      ]
     },
     "metadata": {},
     "output_type": "display_data"
    },
    {
     "name": "stdout",
     "output_type": "stream",
     "text": [
      "MSE between formula parameters is 8.138962519816622e-11\n",
      "EXACT RECOVERY\n",
      "\n",
      "\n",
      "----------------------------Exploring new formula #8----------------------------\n",
      "  Initialization #1\n",
      "  Finished run #1, loss 0.016357822343707085, best loss 0.016357822343707085\n",
      "  Initialization #2\n",
      "  Finished run #2, loss 6.806492820032872e-06, best loss 6.806492820032872e-06\n",
      "loss is smaller than 1e-05, terminating learning process\n",
      "2 minutes 60 seconds passed from the start, the iteration took 3 seconds\n",
      "ground truth and obtained formula\n"
     ]
    },
    {
     "data": {
      "text/latex": [
       "$\\displaystyle -0.609x_{1}^{4.667}+0.781x_{2}^{5.0}-0.898x_{3}^{0.333}+1.012$"
      ],
      "text/plain": [
       "<IPython.core.display.Math object>"
      ]
     },
     "metadata": {},
     "output_type": "display_data"
    },
    {
     "data": {
      "text/latex": [
       "$\\displaystyle \\left(-0.608x_1^{4.660} + 0.780x_2^{4.990}-0.940x_3^{0.310} + 1.056\\right)$"
      ],
      "text/plain": [
       "<IPython.core.display.Math object>"
      ]
     },
     "metadata": {},
     "output_type": "display_data"
    },
    {
     "name": "stdout",
     "output_type": "stream",
     "text": [
      "MSE between formula parameters is 0.0006299513376686962\n",
      "FAILURE\n",
      "\n",
      "\n",
      "----------------------------Exploring new formula #9----------------------------\n",
      "  Initialization #1\n",
      "  Finished run #1, loss 1.62283077601022e-12, best loss 1.62283077601022e-12\n",
      "loss is smaller than 1e-05, terminating learning process\n",
      "3 minutes 1 seconds passed from the start, the iteration took 2 seconds\n",
      "ground truth and obtained formula\n"
     ]
    },
    {
     "data": {
      "text/latex": [
       "$\\displaystyle -1.027x_{1}^{4.667}+1.451x_{2}^{2.333}-1.368x_{3}^{2.667}-0.876$"
      ],
      "text/plain": [
       "<IPython.core.display.Math object>"
      ]
     },
     "metadata": {},
     "output_type": "display_data"
    },
    {
     "data": {
      "text/latex": [
       "$\\displaystyle \\left(-1.027x_1^{4.667} + 1.451x_2^{2.333}-1.368x_3^{2.667}-0.876\\right)$"
      ],
      "text/plain": [
       "<IPython.core.display.Math object>"
      ]
     },
     "metadata": {},
     "output_type": "display_data"
    },
    {
     "name": "stdout",
     "output_type": "stream",
     "text": [
      "MSE between formula parameters is 4.5763519957680336e-11\n",
      "EXACT RECOVERY\n",
      "\n",
      "\n",
      "----------------------------Exploring new formula #10----------------------------\n",
      "  Initialization #1\n",
      "  Finished run #1, loss 7.805804489180446e-05, best loss 7.805804489180446e-05\n",
      "  Initialization #2\n",
      "  Finished run #2, loss 0.04445670545101166, best loss 7.805804489180446e-05\n",
      "  Initialization #3\n",
      "  Finished run #3, loss 7.458134496118873e-05, best loss 7.458134496118873e-05\n",
      "  Initialization #4\n",
      "  Finished run #4, loss 6.3320629124064e-05, best loss 6.3320629124064e-05\n",
      "  Initialization #5\n",
      "  Finished run #5, loss 0.04257139191031456, best loss 6.3320629124064e-05\n",
      "  Initialization #6\n",
      "  Finished run #6, loss 0.04354075714945793, best loss 6.3320629124064e-05\n",
      "  Initialization #7\n",
      "  Finished run #7, loss 0.04352091625332832, best loss 6.3320629124064e-05\n",
      "  Initialization #8\n",
      "  Finished run #8, loss 6.833985389675945e-05, best loss 6.3320629124064e-05\n",
      "  Initialization #9\n",
      "    Epoch 5000, current loss 0.19, current formula \\left(-7.580x_1^{-0.043}-0.033x_2^{1.028} + 1.034x_3^{4.753} + 8.133\\right)\n",
      "  Finished run #9, loss 0.18901683390140533, best loss 6.3320629124064e-05\n",
      "  Initialization #10\n",
      "  Finished run #10, loss 0.24506711959838867, best loss 6.3320629124064e-05\n",
      "3 minutes 57 seconds passed from the start, the iteration took 56 seconds\n",
      "ground truth and obtained formula\n"
     ]
    },
    {
     "data": {
      "text/latex": [
       "$\\displaystyle 1.913x_{1}^{3.333}-0.043x_{2}^{1.667}+0.953x_{3}^{4.333}-0.265$"
      ],
      "text/plain": [
       "<IPython.core.display.Math object>"
      ]
     },
     "metadata": {},
     "output_type": "display_data"
    },
    {
     "data": {
      "text/latex": [
       "$\\displaystyle \\left(1.913x_1^{3.330}-2.160x_2^{0.005} + 0.954x_3^{4.325} + 1.869\\right)$"
      ],
      "text/plain": [
       "<IPython.core.display.Math object>"
      ]
     },
     "metadata": {},
     "output_type": "display_data"
    },
    {
     "name": "stdout",
     "output_type": "stream",
     "text": [
      "MSE between formula parameters is 1.6850588041040635\n",
      "FAILURE\n",
      "\n",
      "################################################################################\n",
      "MSEs between parameters:\n",
      "[1.0837911044804726e-09, 7.233614190178222e-08, 2.464195771728083, 3.936620335265317e-08, 6.349257627594592e-11, 6.099755621237688e-11, 8.138962519816622e-11, 0.0006299513376686962, 4.5763519957680336e-11, 1.6850588041040635]\n",
      "For 7 formulas out of 10 the error is less than 1e-05.\n"
     ]
    }
   ],
   "source": [
    "explore.explore(max_power=15, divide_powers_by=3)"
   ]
  },
  {
   "cell_type": "code",
   "execution_count": 16,
   "metadata": {
    "scrolled": true
   },
   "outputs": [
    {
     "name": "stdout",
     "output_type": "stream",
     "text": [
      "\n",
      "\n",
      "----------------------------Exploring new formula #1----------------------------\n",
      "  Initialization #1\n",
      "    Epoch 5000, current loss 0.0942, current formula \\left(-16.218x_1^{-0.017} + 14.928x_2^{-0.021} + 1.766x_3^{0.021} + 1.120x_4^{2.003}-0.748\\right)\n",
      "  Finished run #1, loss 0.0930163636803627, best loss 0.0930163636803627\n",
      "  Initialization #2\n",
      "    Epoch 5000, current loss 0.0951, current formula \\left(-12.279x_1^{-0.022} + 13.479x_2^{-0.023}-0.602x_3^{-0.045} + 1.120x_4^{2.003}-0.878\\right)\n",
      "    Epoch 10000, current loss 0.0946, current formula \\left(-13.577x_1^{-0.020} + 14.814x_2^{-0.021}-0.647x_3^{-0.042} + 1.120x_4^{2.003}-0.870\\right)\n",
      "  Finished run #2, loss 0.09464673697948456, best loss 0.0930163636803627\n",
      "  Initialization #3\n",
      "    Epoch 5000, current loss 0.0474, current formula \\left(-4.589x_1^{-0.053}-1.287x_2^{1.368}-0.519x_3^{-0.052} + 1.140x_4^{1.980} + 5.665\\right)\n",
      "  Finished run #3, loss 0.046409040689468384, best loss 0.046409040689468384\n",
      "  Initialization #4\n",
      "    Epoch 5000, current loss 0.1, current formula \\left(1.143x_1^{1.339} + 12.331x_2^{-0.026} + 0.332x_3^{5.156}-13.906x_4^{-0.018} + 1.078\\right)\n",
      "    Epoch 10000, current loss 0.0988, current formula \\left(1.144x_1^{1.343} + 18.714x_2^{-0.018} + 0.332x_3^{5.143}-20.276x_4^{-0.013} + 1.062\\right)\n",
      "  Finished run #4, loss 0.09879747033119202, best loss 0.046409040689468384\n",
      "  Initialization #5\n",
      "    Epoch 5000, current loss 0.0532, current formula \\left(1.160x_1^{1.292}-1.310x_2^{1.280} + 0.301x_3^{3.468}-5.114x_4^{-0.046} + 5.475\\right)\n",
      "    Epoch 10000, current loss 0.052, current formula \\left(1.159x_1^{1.300}-1.311x_2^{1.279} + 0.301x_3^{3.467}-8.301x_4^{-0.030} + 8.680\\right)\n",
      "  Finished run #5, loss 0.05199287459254265, best loss 0.046409040689468384\n",
      "  Initialization #6\n",
      "  Finished run #6, loss 7.338774032916717e-11, best loss 7.338774032916717e-11\n",
      "loss is smaller than 1e-05, terminating learning process\n",
      "4 minutes 3 seconds passed from the start, the iteration took 4 minutes 3 seconds\n",
      "ground truth and obtained formula\n"
     ]
    },
    {
     "data": {
      "text/latex": [
       "$\\displaystyle 1.136x_{1}^{1.333}-1.342x_{2}^{1.25}+0.295x_{3}^{3.083}+1.159x_{4}^{1.917}-0.244$"
      ],
      "text/plain": [
       "<IPython.core.display.Math object>"
      ]
     },
     "metadata": {},
     "output_type": "display_data"
    },
    {
     "data": {
      "text/latex": [
       "$\\displaystyle \\left(1.136x_1^{1.333}-1.342x_2^{1.250} + 0.295x_3^{3.083} + 1.159x_4^{1.917}-0.244\\right)$"
      ],
      "text/plain": [
       "<IPython.core.display.Math object>"
      ]
     },
     "metadata": {},
     "output_type": "display_data"
    },
    {
     "name": "stdout",
     "output_type": "stream",
     "text": [
      "MSE between formula parameters is 2.3299586704439434e-09\n",
      "EXACT RECOVERY\n",
      "\n",
      "\n",
      "----------------------------Exploring new formula #2----------------------------\n",
      "  Initialization #1\n",
      "  Finished run #1, loss 0.0011191540397703648, best loss 0.0011191540397703648\n",
      "  Initialization #2\n",
      "  Finished run #2, loss 0.001156878424808383, best loss 0.0011191540397703648\n",
      "  Initialization #3\n",
      "  Finished run #3, loss 0.0633557066321373, best loss 0.0011191540397703648\n",
      "  Initialization #4\n",
      "    Epoch 5000, current loss 0.0646, current formula \\left(-0.155x_1^{1.299}-6.539x_2^{-0.044}-2.509x_3^{0.649}-1.934x_4^{1.843} + 8.407\\right)\n",
      "    Epoch 10000, current loss 0.0624, current formula \\left(-0.159x_1^{1.085}-10.400x_2^{-0.029}-2.516x_3^{0.645}-1.935x_4^{1.843} + 12.296\\right)\n",
      "  Finished run #4, loss 0.06237761676311493, best loss 0.0011191540397703648\n",
      "  Initialization #5\n",
      "    Epoch 5000, current loss 0.168, current formula \\left(-0.488x_1^{0.047} + 1.332x_2^{1.668}-2.287x_3^{0.731} + 18.646x_4^{-0.021}-18.460\\right)\n",
      "    Epoch 10000, current loss 0.165, current formula \\left(-0.521x_1^{0.045} + 1.332x_2^{1.666}-2.287x_3^{0.731} + 30.321x_4^{-0.014}-30.114\\right)\n",
      "  Finished run #5, loss 0.164914071559906, best loss 0.0011191540397703648\n",
      "  Initialization #6\n",
      "    Epoch 5000, current loss 0.178, current formula \\left(-3.719x_1^{0.005} + 1.329x_2^{1.699}-2.316x_3^{0.706} + 7.729x_4^{-0.046}-4.231\\right)\n",
      "    Epoch 10000, current loss 0.172, current formula \\left(-6.899x_1^{0.003} + 1.331x_2^{1.676}-2.292x_3^{0.726} + 11.487x_4^{-0.033}-4.863\\right)\n",
      "  Finished run #6, loss 0.17245455086231232, best loss 0.0011191540397703648\n",
      "  Initialization #7\n",
      "    Epoch 5000, current loss 0.221, current formula \\left(-0.335x_1^{0.161}-18.382x_2^{-0.018}-2.383x_3^{0.703} + 19.902x_4^{-0.020}-0.604\\right)\n",
      "    Epoch 10000, current loss 0.218, current formula \\left(-0.373x_1^{0.141}-24.744x_2^{-0.013}-2.383x_3^{0.704} + 26.302x_4^{-0.015}-0.607\\right)\n",
      "  Finished run #7, loss 0.21840810775756836, best loss 0.0011191540397703648\n",
      "  Initialization #8\n",
      "    Epoch 5000, current loss 0.178, current formula \\left(-3.591x_1^{0.005} + 1.330x_2^{1.697}-2.315x_3^{0.707} + 7.812x_4^{-0.045}-4.445\\right)\n",
      "  Finished run #8, loss 0.1738404929637909, best loss 0.0011191540397703648\n",
      "  Initialization #9\n",
      "    Epoch 5000, current loss 0.0724, current formula \\left(-8.389x_1^{0.001} + 1.331x_2^{1.632} + 11.748x_3^{-0.045}-1.975x_4^{1.966}-4.453\\right)\n",
      "    Epoch 10000, current loss 0.0707, current formula \\left(-10.230x_1^{0.001} + 1.332x_2^{1.628} + 13.701x_3^{-0.040}-1.975x_4^{1.967}-4.573\\right)\n",
      "  Finished run #9, loss 0.07067271322011948, best loss 0.0011191540397703648\n",
      "  Initialization #10\n",
      "    Epoch 5000, current loss 0.0776, current formula \\left(-4.134x_1^{0.001} + 1.327x_2^{1.663} + 8.133x_3^{-0.062}-1.974x_4^{1.955}-5.063\\right)\n",
      "    Epoch 10000, current loss 0.0709, current formula \\left(-9.018x_1^{0.001} + 1.331x_2^{1.628} + 13.352x_3^{-0.041}-1.975x_4^{1.967}-5.434\\right)\n",
      "  Finished run #10, loss 0.07094106823205948, best loss 0.0011191540397703648\n",
      "10 minutes 8 seconds passed from the start, the iteration took 6 minutes 6 seconds\n",
      "ground truth and obtained formula\n"
     ]
    },
    {
     "data": {
      "text/latex": [
       "$\\displaystyle -0.163x_{1}^{4.0}+1.352x_{2}^{1.5}-2.43x_{3}^{0.667}-1.985x_{4}^{1.833}+0.952$"
      ],
      "text/plain": [
       "<IPython.core.display.Math object>"
      ]
     },
     "metadata": {},
     "output_type": "display_data"
    },
    {
     "data": {
      "text/latex": [
       "$\\displaystyle \\left(-1.169x_1^{0.023} + 1.350x_2^{1.496}-2.425x_3^{0.667}-1.980x_4^{1.832} + 2.058\\right)$"
      ],
      "text/plain": [
       "<IPython.core.display.Math object>"
      ]
     },
     "metadata": {},
     "output_type": "display_data"
    },
    {
     "name": "stdout",
     "output_type": "stream",
     "text": [
      "MSE between formula parameters is 2.0063896865672595\n",
      "FAILURE\n",
      "\n",
      "\n",
      "----------------------------Exploring new formula #3----------------------------\n",
      "  Initialization #1\n",
      "    Epoch 5000, current loss 0.207, current formula \\left(-0.154x_1^{0.389}-7.613x_2^{-0.043}-0.251x_3^{1.166}-2.744x_4^{-0.048} + 10.734\\right)\n",
      "  Finished run #1, loss 0.2074088603258133, best loss 0.2074088603258133\n",
      "  Initialization #2\n",
      "    Epoch 5000, current loss 0.0717, current formula \\left(-0.093x_1^{7.623} + 1.774x_2^{2.433} + 7.794x_3^{-0.010}-9.239x_4^{-0.019} + 0.696\\right)\n",
      "  Finished run #2, loss 0.07172449678182602, best loss 0.07172449678182602\n",
      "  Initialization #3\n",
      "  Finished run #3, loss 2.259490247524809e-05, best loss 2.259490247524809e-05\n",
      "  Initialization #4\n",
      "  Finished run #4, loss 3.4714398022828163e-11, best loss 3.4714398022828163e-11\n",
      "loss is smaller than 1e-05, terminating learning process\n",
      "11 minutes 8 seconds passed from the start, the iteration took 1 minutes 0 seconds\n",
      "ground truth and obtained formula\n"
     ]
    },
    {
     "data": {
      "text/latex": [
       "$\\displaystyle -0.029x_{1}^{1.333}+1.801x_{2}^{2.417}-0.361x_{3}^{2.083}+1.207x_{4}^{3.417}-1.003$"
      ],
      "text/plain": [
       "<IPython.core.display.Math object>"
      ]
     },
     "metadata": {},
     "output_type": "display_data"
    },
    {
     "data": {
      "text/latex": [
       "$\\displaystyle \\left(-0.029x_1^{1.332} + 1.801x_2^{2.417}-0.361x_3^{2.083} + 1.207x_4^{3.417}-1.003\\right)$"
      ],
      "text/plain": [
       "<IPython.core.display.Math object>"
      ]
     },
     "metadata": {},
     "output_type": "display_data"
    },
    {
     "name": "stdout",
     "output_type": "stream",
     "text": [
      "MSE between formula parameters is 2.8310162592125474e-07\n",
      "EXACT RECOVERY\n",
      "\n",
      "\n",
      "----------------------------Exploring new formula #4----------------------------\n",
      "  Initialization #1\n",
      "    Epoch 5000, current loss 0.146, current formula \\left(1.570x_1^{2.314}-5.034x_2^{-0.051}-0.235x_3^{3.021} + 0.117x_4^{6.323} + 5.976\\right)\n",
      "  Finished run #1, loss 0.14529700577259064, best loss 0.14529700577259064\n",
      "  Initialization #2\n",
      "  Finished run #2, loss 0.0028159967623651028, best loss 0.0028159967623651028\n",
      "  Initialization #3\n",
      "  Finished run #3, loss 0.00048364687245339155, best loss 0.00048364687245339155\n",
      "  Initialization #4\n",
      "  Finished run #4, loss 0.003353861393406987, best loss 0.00048364687245339155\n",
      "  Initialization #5\n",
      "  Finished run #5, loss 6.656671307919693e-12, best loss 6.656671307919693e-12\n",
      "loss is smaller than 1e-05, terminating learning process\n",
      "12 minutes 2 seconds passed from the start, the iteration took 54 seconds\n",
      "ground truth and obtained formula\n"
     ]
    },
    {
     "data": {
      "text/latex": [
       "$\\displaystyle 1.585x_{1}^{2.083}+1.683x_{2}^{3.0}-0.242x_{3}^{2.667}+0.109x_{4}^{1.917}+0.174$"
      ],
      "text/plain": [
       "<IPython.core.display.Math object>"
      ]
     },
     "metadata": {},
     "output_type": "display_data"
    },
    {
     "data": {
      "text/latex": [
       "$\\displaystyle \\left(1.585x_1^{2.083} + 1.683x_2^{3.000}-0.242x_3^{2.667} + 0.109x_4^{1.917} + 0.174\\right)$"
      ],
      "text/plain": [
       "<IPython.core.display.Math object>"
      ]
     },
     "metadata": {},
     "output_type": "display_data"
    },
    {
     "name": "stdout",
     "output_type": "stream",
     "text": [
      "MSE between formula parameters is 4.067346564489643e-09\n",
      "EXACT RECOVERY\n",
      "\n",
      "\n",
      "----------------------------Exploring new formula #5----------------------------\n",
      "  Initialization #1\n",
      "    Epoch 5000, current loss 0.0636, current formula \\left(-1.213x_1^{0.641} + 0.128x_2^{1.892}-9.821x_3^{-0.020} + 8.572x_4^{-0.034}-0.525\\right)\n",
      "    Epoch 10000, current loss 0.062, current formula \\left(-1.212x_1^{0.641} + 0.129x_2^{1.852}-17.596x_3^{-0.012} + 16.359x_4^{-0.018}-0.544\\right)\n",
      "  Finished run #1, loss 0.06200076639652252, best loss 0.06200076639652252\n",
      "  Initialization #2\n",
      "    Epoch 5000, current loss 0.0556, current formula \\left(3.211x_1^{-0.071} + 0.134x_2^{2.998} + 0.898x_3^{2.649} + 3.351x_4^{-0.079}-9.748\\right)\n"
     ]
    },
    {
     "ename": "KeyboardInterrupt",
     "evalue": "",
     "output_type": "error",
     "traceback": [
      "\u001b[0;31m---------------------------------------------------------------------------\u001b[0m",
      "\u001b[0;31mKeyboardInterrupt\u001b[0m                         Traceback (most recent call last)",
      "\u001b[0;32m<ipython-input-16-5fd5fc00a897>\u001b[0m in \u001b[0;36m<module>\u001b[0;34m\u001b[0m\n\u001b[0;32m----> 1\u001b[0;31m \u001b[0mexplore\u001b[0m\u001b[0;34m.\u001b[0m\u001b[0mexplore\u001b[0m\u001b[0;34m(\u001b[0m\u001b[0mn_variables\u001b[0m\u001b[0;34m=\u001b[0m\u001b[0;36m4\u001b[0m\u001b[0;34m,\u001b[0m \u001b[0mmax_power\u001b[0m\u001b[0;34m=\u001b[0m\u001b[0;36m48\u001b[0m\u001b[0;34m,\u001b[0m \u001b[0mdivide_powers_by\u001b[0m\u001b[0;34m=\u001b[0m\u001b[0;36m12\u001b[0m\u001b[0;34m,\u001b[0m \u001b[0;34m)\u001b[0m\u001b[0;34m\u001b[0m\u001b[0;34m\u001b[0m\u001b[0m\n\u001b[0m",
      "\u001b[0;32m/home/zybinmikhail/Documents/personal github projects/LearningFormulas/explore.py\u001b[0m in \u001b[0;36mexplore\u001b[0;34m(n_variables, m_samples, min_power, max_power, number_of_tested_formulas, recovery_threshold, divide_powers_by)\u001b[0m\n\u001b[1;32m     71\u001b[0m         \u001b[0mcoeffs\u001b[0m\u001b[0;34m,\u001b[0m \u001b[0mpowers\u001b[0m\u001b[0;34m,\u001b[0m \u001b[0mb\u001b[0m\u001b[0;34m,\u001b[0m \u001b[0mX\u001b[0m\u001b[0;34m,\u001b[0m \u001b[0my\u001b[0m\u001b[0;34m,\u001b[0m \u001b[0mtrue_params\u001b[0m \u001b[0;34m=\u001b[0m \u001b[0mgenerate_data\u001b[0m\u001b[0;34m(\u001b[0m\u001b[0mn_variables\u001b[0m\u001b[0;34m,\u001b[0m \u001b[0mm_samples\u001b[0m\u001b[0;34m,\u001b[0m \u001b[0mmin_power\u001b[0m\u001b[0;34m,\u001b[0m \u001b[0mmax_power\u001b[0m \u001b[0;34m+\u001b[0m \u001b[0;36m1\u001b[0m\u001b[0;34m,\u001b[0m \u001b[0mdivide_powers_by\u001b[0m\u001b[0;34m)\u001b[0m\u001b[0;34m\u001b[0m\u001b[0;34m\u001b[0m\u001b[0m\n\u001b[1;32m     72\u001b[0m         \u001b[0mcnt_iteration\u001b[0m \u001b[0;34m=\u001b[0m \u001b[0mtime\u001b[0m\u001b[0;34m.\u001b[0m\u001b[0mperf_counter\u001b[0m\u001b[0;34m(\u001b[0m\u001b[0;34m)\u001b[0m\u001b[0;34m\u001b[0m\u001b[0;34m\u001b[0m\u001b[0m\n\u001b[0;32m---> 73\u001b[0;31m         \u001b[0mregressor\u001b[0m\u001b[0;34m,\u001b[0m \u001b[0m_\u001b[0m \u001b[0;34m=\u001b[0m \u001b[0mNestedFormula\u001b[0m\u001b[0;34m.\u001b[0m\u001b[0mLearnFormula\u001b[0m\u001b[0;34m(\u001b[0m\u001b[0mX\u001b[0m\u001b[0;34m,\u001b[0m \u001b[0my\u001b[0m\u001b[0;34m,\u001b[0m \u001b[0moptimizer_for_formula\u001b[0m\u001b[0;34m=\u001b[0m\u001b[0mtorch\u001b[0m\u001b[0;34m.\u001b[0m\u001b[0moptim\u001b[0m\u001b[0;34m.\u001b[0m\u001b[0mRprop\u001b[0m\u001b[0;34m,\u001b[0m \u001b[0mn_init\u001b[0m\u001b[0;34m=\u001b[0m\u001b[0;36m10\u001b[0m\u001b[0;34m)\u001b[0m\u001b[0;34m\u001b[0m\u001b[0;34m\u001b[0m\u001b[0m\n\u001b[0m\u001b[1;32m     74\u001b[0m         \u001b[0mprint_time\u001b[0m\u001b[0;34m(\u001b[0m\u001b[0mcnt\u001b[0m\u001b[0;34m,\u001b[0m \u001b[0mcnt_iteration\u001b[0m\u001b[0;34m)\u001b[0m\u001b[0;34m\u001b[0m\u001b[0;34m\u001b[0m\u001b[0m\n\u001b[1;32m     75\u001b[0m         \u001b[0mprint\u001b[0m\u001b[0;34m(\u001b[0m\u001b[0;34m\"ground truth and obtained formula\"\u001b[0m\u001b[0;34m)\u001b[0m\u001b[0;34m\u001b[0m\u001b[0;34m\u001b[0m\u001b[0m\n",
      "\u001b[0;32m/home/zybinmikhail/Documents/personal github projects/LearningFormulas/NestedFormula.py\u001b[0m in \u001b[0;36mLearnFormula\u001b[0;34m(X, y, optimizer_for_formula, device, n_init, max_iter, lr, depth, verbose, verbose_frequency, max_epochs_without_improvement, minimal_acceptable_improvement, max_tol, use_swa)\u001b[0m\n\u001b[1;32m    264\u001b[0m             \u001b[0moptimizer\u001b[0m\u001b[0;34m.\u001b[0m\u001b[0mstep\u001b[0m\u001b[0;34m(\u001b[0m\u001b[0;34m)\u001b[0m\u001b[0;34m\u001b[0m\u001b[0;34m\u001b[0m\u001b[0m\n\u001b[1;32m    265\u001b[0m             \u001b[0mepoch\u001b[0m \u001b[0;34m+=\u001b[0m \u001b[0;36m1\u001b[0m\u001b[0;34m\u001b[0m\u001b[0;34m\u001b[0m\u001b[0m\n\u001b[0;32m--> 266\u001b[0;31m             \u001b[0;32mif\u001b[0m \u001b[0mtorch\u001b[0m\u001b[0;34m.\u001b[0m\u001b[0mabs\u001b[0m\u001b[0;34m(\u001b[0m\u001b[0mprevious_loss\u001b[0m \u001b[0;34m-\u001b[0m \u001b[0mloss\u001b[0m\u001b[0;34m)\u001b[0m \u001b[0;34m<\u001b[0m \u001b[0mminimal_acceptable_improvement\u001b[0m\u001b[0;34m:\u001b[0m\u001b[0;34m\u001b[0m\u001b[0;34m\u001b[0m\u001b[0m\n\u001b[0m\u001b[1;32m    267\u001b[0m                 \u001b[0mepochs_without_improvement\u001b[0m \u001b[0;34m+=\u001b[0m \u001b[0;36m1\u001b[0m\u001b[0;34m\u001b[0m\u001b[0;34m\u001b[0m\u001b[0m\n\u001b[1;32m    268\u001b[0m             \u001b[0;32melse\u001b[0m\u001b[0;34m:\u001b[0m\u001b[0;34m\u001b[0m\u001b[0;34m\u001b[0m\u001b[0m\n",
      "\u001b[0;31mKeyboardInterrupt\u001b[0m: "
     ]
    }
   ],
   "source": [
    "explore.explore(\n",
    "    n_variables=4,\n",
    "    max_power=48,\n",
    "    divide_powers_by=12,\n",
    ")"
   ]
  },
  {
   "cell_type": "code",
   "execution_count": 10,
   "metadata": {
    "ExecuteTime": {
     "end_time": "2020-04-22T14:16:31.422549Z",
     "start_time": "2020-04-22T12:33:56.767134Z"
    },
    "scrolled": true
   },
   "outputs": [
    {
     "name": "stdout",
     "output_type": "stream",
     "text": [
      "\n",
      "\n",
      "----------------------------Exploring new formula #1----------------------------\n",
      "  Initialization #1\n",
      "  Finished run #1, loss 6.669153944371953e-12, best loss 6.669153944371953e-12\n",
      "loss is smaller than 1e-05, terminating learning process\n",
      "4 seconds passed from the start, the iteration took 4 seconds\n",
      "ground truth and obtained formula\n"
     ]
    },
    {
     "data": {
      "text/latex": [
       "$\\displaystyle 1.125x_{1}^{6.0}-1.817x_{2}^{1.0}-1.722$"
      ],
      "text/plain": [
       "<IPython.core.display.Math object>"
      ]
     },
     "metadata": {},
     "output_type": "display_data"
    },
    {
     "data": {
      "text/latex": [
       "$\\displaystyle \\left(1.125x_1^{6.000}-1.817x_2^{1.000}-1.722\\right)$"
      ],
      "text/plain": [
       "<IPython.core.display.Math object>"
      ]
     },
     "metadata": {},
     "output_type": "display_data"
    },
    {
     "name": "stdout",
     "output_type": "stream",
     "text": [
      "MSE between formula parameters is 2.467977822107059e-10\n",
      "EXACT RECOVERY\n",
      "\n",
      "\n",
      "----------------------------Exploring new formula #2----------------------------\n",
      "  Initialization #1\n",
      "  Finished run #1, loss 0.0005969000631012022, best loss 0.0005969000631012022\n",
      "  Initialization #2\n",
      "  Finished run #2, loss 0.0008964214357547462, best loss 0.0005969000631012022\n",
      "  Initialization #3\n",
      "  Finished run #3, loss 0.001314854365773499, best loss 0.0005969000631012022\n",
      "  Initialization #4\n",
      "  Finished run #4, loss 0.0016175126656889915, best loss 0.0005969000631012022\n",
      "12 seconds passed from the start, the iteration took 8 seconds\n",
      "ground truth and obtained formula\n"
     ]
    },
    {
     "data": {
      "text/latex": [
       "$\\displaystyle -0.344x_{1}^{1.0}-0.21x_{2}^{5.0}-2.047$"
      ],
      "text/plain": [
       "<IPython.core.display.Math object>"
      ]
     },
     "metadata": {},
     "output_type": "display_data"
    },
    {
     "data": {
      "text/latex": [
       "$\\displaystyle \\left(-3.065x_1^{0.033}-0.204x_2^{2.570} + 0.790\\right)$"
      ],
      "text/plain": [
       "<IPython.core.display.Math object>"
      ]
     },
     "metadata": {},
     "output_type": "display_data"
    },
    {
     "name": "stdout",
     "output_type": "stream",
     "text": [
      "MSE between formula parameters is 4.459009723678816\n",
      "FAILURE\n",
      "\n",
      "\n",
      "----------------------------Exploring new formula #3----------------------------\n",
      "  Initialization #1\n",
      "  Finished run #1, loss 1.6938894948151373e-12, best loss 1.6938894948151373e-12\n",
      "loss is smaller than 1e-05, terminating learning process\n",
      "14 seconds passed from the start, the iteration took 1 seconds\n",
      "ground truth and obtained formula\n"
     ]
    },
    {
     "data": {
      "text/latex": [
       "$\\displaystyle 0.877x_{1}^{2.0}+0.422x_{2}^{4.0}-0.118$"
      ],
      "text/plain": [
       "<IPython.core.display.Math object>"
      ]
     },
     "metadata": {},
     "output_type": "display_data"
    },
    {
     "data": {
      "text/latex": [
       "$\\displaystyle \\left(0.877x_1^{2.000} + 0.422x_2^{4.000}-0.118\\right)$"
      ],
      "text/plain": [
       "<IPython.core.display.Math object>"
      ]
     },
     "metadata": {},
     "output_type": "display_data"
    },
    {
     "name": "stdout",
     "output_type": "stream",
     "text": [
      "MSE between formula parameters is 6.503597660412197e-12\n",
      "EXACT RECOVERY\n",
      "\n",
      "\n",
      "----------------------------Exploring new formula #4----------------------------\n",
      "  Initialization #1\n",
      "  Finished run #1, loss 1.474553812386148e-11, best loss 1.474553812386148e-11\n",
      "loss is smaller than 1e-05, terminating learning process\n",
      "15 seconds passed from the start, the iteration took 1 seconds\n",
      "ground truth and obtained formula\n"
     ]
    },
    {
     "data": {
      "text/latex": [
       "$\\displaystyle 0.547x_{1}^{1.0}-3.1x_{2}^{2.0}-1.205$"
      ],
      "text/plain": [
       "<IPython.core.display.Math object>"
      ]
     },
     "metadata": {},
     "output_type": "display_data"
    },
    {
     "data": {
      "text/latex": [
       "$\\displaystyle \\left(0.547x_1^{1.000}-3.100x_2^{2.000}-1.205\\right)$"
      ],
      "text/plain": [
       "<IPython.core.display.Math object>"
      ]
     },
     "metadata": {},
     "output_type": "display_data"
    },
    {
     "name": "stdout",
     "output_type": "stream",
     "text": [
      "MSE between formula parameters is 1.972105678760272e-09\n",
      "EXACT RECOVERY\n",
      "\n",
      "\n",
      "----------------------------Exploring new formula #5----------------------------\n",
      "  Initialization #1\n",
      "  Finished run #1, loss 0.005197590216994286, best loss 0.005197590216994286\n",
      "  Initialization #2\n",
      "  Finished run #2, loss 9.492850949754938e-12, best loss 9.492850949754938e-12\n",
      "loss is smaller than 1e-05, terminating learning process\n",
      "18 seconds passed from the start, the iteration took 4 seconds\n",
      "ground truth and obtained formula\n"
     ]
    },
    {
     "data": {
      "text/latex": [
       "$\\displaystyle -0.83x_{1}^{5.0}+0.606x_{2}^{6.0}+2.44$"
      ],
      "text/plain": [
       "<IPython.core.display.Math object>"
      ]
     },
     "metadata": {},
     "output_type": "display_data"
    },
    {
     "data": {
      "text/latex": [
       "$\\displaystyle \\left(-0.830x_1^{5.000} + 0.606x_2^{5.999} + 2.440\\right)$"
      ],
      "text/plain": [
       "<IPython.core.display.Math object>"
      ]
     },
     "metadata": {},
     "output_type": "display_data"
    },
    {
     "name": "stdout",
     "output_type": "stream",
     "text": [
      "MSE between formula parameters is 1.1119167453443879e-07\n",
      "EXACT RECOVERY\n",
      "\n",
      "################################################################################\n",
      "MSEs between parameters:\n",
      "[2.467977822107059e-10, 4.459009723678816, 6.503597660412197e-12, 1.972105678760272e-09, 1.1119167453443879e-07]\n",
      "For 4 formulas out of 5 the error is less than 1e-05.\n",
      "\n",
      "\n",
      "----------------------------Exploring new formula #1----------------------------\n",
      "  Initialization #1\n",
      "  Finished run #1, loss 1.9186163074946805e-11, best loss 1.9186163074946805e-11\n",
      "loss is smaller than 1e-05, terminating learning process\n",
      "1 seconds passed from the start, the iteration took 1 seconds\n",
      "ground truth and obtained formula\n"
     ]
    },
    {
     "data": {
      "text/latex": [
       "$\\displaystyle -0.682x_{1}^{2.5}-0.722x_{2}^{4.5}+0.846$"
      ],
      "text/plain": [
       "<IPython.core.display.Math object>"
      ]
     },
     "metadata": {},
     "output_type": "display_data"
    },
    {
     "data": {
      "text/latex": [
       "$\\displaystyle \\left(-0.682x_1^{2.500}-0.722x_2^{4.499} + 0.846\\right)$"
      ],
      "text/plain": [
       "<IPython.core.display.Math object>"
      ]
     },
     "metadata": {},
     "output_type": "display_data"
    },
    {
     "name": "stdout",
     "output_type": "stream",
     "text": [
      "MSE between formula parameters is 3.178914944612643e-07\n",
      "EXACT RECOVERY\n",
      "\n",
      "\n",
      "----------------------------Exploring new formula #2----------------------------\n",
      "  Initialization #1\n",
      "  Finished run #1, loss 0.002834692597389221, best loss 0.002834692597389221\n",
      "  Initialization #2\n",
      "    Epoch 5000, current loss 0.0347, current formula \\left(-2.813x_1^{-0.069}-0.658x_2^{6.697} + 3.725\\right)\n",
      "    Epoch 10000, current loss 0.0343, current formula \\left(-4.334x_1^{-0.047}-0.663x_2^{6.754} + 5.251\\right)\n",
      "  Finished run #2, loss 0.03426085412502289, best loss 0.002834692597389221\n",
      "  Initialization #3\n",
      "    Epoch 5000, current loss 0.0347, current formula \\left(-2.873x_1^{-0.068}-0.659x_2^{6.701} + 3.785\\right)\n",
      "    Epoch 10000, current loss 0.0342, current formula \\left(-4.393x_1^{-0.047}-0.663x_2^{6.757} + 5.309\\right)\n",
      "  Finished run #3, loss 0.034249626100063324, best loss 0.002834692597389221\n",
      "  Initialization #4\n",
      "  Finished run #4, loss 0.03500327840447426, best loss 0.002834692597389221\n",
      "29 seconds passed from the start, the iteration took 28 seconds\n",
      "ground truth and obtained formula\n"
     ]
    },
    {
     "data": {
      "text/latex": [
       "$\\displaystyle 0.797x_{1}^{4.5}-0.301x_{2}^{3.5}+0.583$"
      ],
      "text/plain": [
       "<IPython.core.display.Math object>"
      ]
     },
     "metadata": {},
     "output_type": "display_data"
    },
    {
     "data": {
      "text/latex": [
       "$\\displaystyle \\left(0.813x_1^{5.687} + 1.370x_2^{-0.026}-0.873\\right)$"
      ],
      "text/plain": [
       "<IPython.core.display.Math object>"
      ]
     },
     "metadata": {},
     "output_type": "display_data"
    },
    {
     "name": "stdout",
     "output_type": "stream",
     "text": [
      "MSE between formula parameters is 3.7507401657298325\n",
      "FAILURE\n",
      "\n",
      "\n",
      "----------------------------Exploring new formula #3----------------------------\n",
      "  Initialization #1\n",
      "  Finished run #1, loss 0.0010175628121942282, best loss 0.0010175628121942282\n",
      "  Initialization #2\n",
      "  Finished run #2, loss 0.0004532480670604855, best loss 0.0004532480670604855\n",
      "  Initialization #3\n",
      "  Finished run #3, loss 0.0005184082547202706, best loss 0.0004532480670604855\n",
      "  Initialization #4\n",
      "    Epoch 5000, current loss 0.00105, current formula \\left(-0.860x_1^{-0.063} + 0.479x_2^{-0.107} + 0.460\\right)\n",
      "  Finished run #4, loss 0.0010363144101575017, best loss 0.0004532480670604855\n",
      "42 seconds passed from the start, the iteration took 13 seconds\n",
      "ground truth and obtained formula\n"
     ]
    },
    {
     "data": {
      "text/latex": [
       "$\\displaystyle 0.149x_{1}^{4.5}-0.248x_{2}^{3.5}+0.091$"
      ],
      "text/plain": [
       "<IPython.core.display.Math object>"
      ]
     },
     "metadata": {},
     "output_type": "display_data"
    },
    {
     "data": {
      "text/latex": [
       "$\\displaystyle \\left(0.142x_1^{4.036} + 1.872x_2^{-0.026}-1.858\\right)$"
      ],
      "text/plain": [
       "<IPython.core.display.Math object>"
      ]
     },
     "metadata": {},
     "output_type": "display_data"
    },
    {
     "name": "stdout",
     "output_type": "stream",
     "text": [
      "MSE between formula parameters is 4.188070676028021\n",
      "FAILURE\n",
      "\n",
      "\n",
      "----------------------------Exploring new formula #4----------------------------\n",
      "  Initialization #1\n",
      "  Finished run #1, loss 0.00127919833175838, best loss 0.00127919833175838\n",
      "  Initialization #2\n",
      "  Finished run #2, loss 0.0012907403288409114, best loss 0.00127919833175838\n",
      "  Initialization #3\n",
      "  Finished run #3, loss 0.0031630955636501312, best loss 0.00127919833175838\n",
      "  Initialization #4\n",
      "  Finished run #4, loss 0.0013123222161084414, best loss 0.00127919833175838\n",
      "54 seconds passed from the start, the iteration took 12 seconds\n",
      "ground truth and obtained formula\n"
     ]
    },
    {
     "data": {
      "text/latex": [
       "$\\displaystyle -0.217x_{1}^{3.5}-0.311x_{2}^{5.5}+0.579$"
      ],
      "text/plain": [
       "<IPython.core.display.Math object>"
      ]
     },
     "metadata": {},
     "output_type": "display_data"
    },
    {
     "data": {
      "text/latex": [
       "$\\displaystyle \\left(0.461x_1^{-0.040}-0.283x_2^{3.412} + 0.086\\right)$"
      ],
      "text/plain": [
       "<IPython.core.display.Math object>"
      ]
     },
     "metadata": {},
     "output_type": "display_data"
    },
    {
     "name": "stdout",
     "output_type": "stream",
     "text": [
      "MSE between formula parameters is 3.5190572947334173\n",
      "FAILURE\n",
      "\n",
      "\n",
      "----------------------------Exploring new formula #5----------------------------\n",
      "  Initialization #1\n",
      "    Epoch 5000, current loss 0.0228, current formula \\left(-3.340x_1^{-0.057} + 5.926x_2^{0.015}-2.434\\right)\n",
      "    Epoch 10000, current loss 0.0226, current formula \\left(-4.283x_1^{-0.045} + 6.815x_2^{0.013}-2.377\\right)\n",
      "  Finished run #1, loss 0.022581398487091064, best loss 0.022581398487091064\n",
      "  Initialization #2\n",
      "  Finished run #2, loss 0.0019082246581092477, best loss 0.0019082246581092477\n",
      "  Initialization #3\n",
      "  Finished run #3, loss 1.3072831879512581e-11, best loss 1.3072831879512581e-11\n",
      "loss is smaller than 1e-05, terminating learning process\n",
      "1 minutes 8 seconds passed from the start, the iteration took 14 seconds\n",
      "ground truth and obtained formula\n"
     ]
    },
    {
     "data": {
      "text/latex": [
       "$\\displaystyle 0.931x_{1}^{3.5}-0.448x_{2}^{3.5}-0.265$"
      ],
      "text/plain": [
       "<IPython.core.display.Math object>"
      ]
     },
     "metadata": {},
     "output_type": "display_data"
    },
    {
     "data": {
      "text/latex": [
       "$\\displaystyle \\left(0.931x_1^{3.500}-0.448x_2^{3.500}-0.265\\right)$"
      ],
      "text/plain": [
       "<IPython.core.display.Math object>"
      ]
     },
     "metadata": {},
     "output_type": "display_data"
    },
    {
     "name": "stdout",
     "output_type": "stream",
     "text": [
      "MSE between formula parameters is 2.8696013743001458e-08\n",
      "EXACT RECOVERY\n",
      "\n",
      "################################################################################\n",
      "MSEs between parameters:\n",
      "[3.178914944612643e-07, 3.7507401657298325, 4.188070676028021, 3.5190572947334173, 2.8696013743001458e-08]\n",
      "For 2 formulas out of 5 the error is less than 1e-05.\n",
      "\n",
      "\n",
      "----------------------------Exploring new formula #1----------------------------\n",
      "  Initialization #1\n",
      "  Finished run #1, loss 0.014054335653781891, best loss 0.014054335653781891\n",
      "  Initialization #2\n",
      "  Finished run #2, loss 0.003690452082082629, best loss 0.003690452082082629\n",
      "  Initialization #3\n",
      "  Finished run #3, loss 0.003953013569116592, best loss 0.003690452082082629\n",
      "  Initialization #4\n",
      "    Epoch 5000, current loss 0.00405, current formula \\left(0.944x_1^{-0.036}-0.467x_2^{2.664}-1.223\\right)\n",
      "  Finished run #4, loss 0.004050173796713352, best loss 0.003690452082082629\n",
      "12 seconds passed from the start, the iteration took 12 seconds\n",
      "ground truth and obtained formula\n"
     ]
    },
    {
     "data": {
      "text/latex": [
       "$\\displaystyle -0.418x_{1}^{3.0}-0.559x_{2}^{4.667}-0.176$"
      ],
      "text/plain": [
       "<IPython.core.display.Math object>"
      ]
     },
     "metadata": {},
     "output_type": "display_data"
    },
    {
     "data": {
      "text/latex": [
       "$\\displaystyle \\left(-0.793x_1^{0.062}-0.467x_2^{2.743} + 0.499\\right)$"
      ],
      "text/plain": [
       "<IPython.core.display.Math object>"
      ]
     },
     "metadata": {},
     "output_type": "display_data"
    },
    {
     "name": "stdout",
     "output_type": "stream",
     "text": [
      "MSE between formula parameters is 2.587208116337435\n",
      "FAILURE\n",
      "\n",
      "\n",
      "----------------------------Exploring new formula #2----------------------------\n",
      "  Initialization #1\n",
      "    Epoch 5000, current loss 0.016, current formula \\left(2.915x_1^{-0.200}-0.740x_2^{-0.155}-1.271\\right)\n",
      "  Finished run #1, loss 0.015894193202257156, best loss 0.015894193202257156\n",
      "  Initialization #2\n",
      "    Epoch 5000, current loss 0.0158, current formula \\left(3.093x_1^{-0.191}-0.770x_2^{-0.150}-1.420\\right)\n",
      "  Finished run #2, loss 0.015657352283596992, best loss 0.015657352283596992\n",
      "  Initialization #3\n",
      "  Finished run #3, loss 0.003813070012256503, best loss 0.003813070012256503\n",
      "  Initialization #4\n",
      "    Epoch 5000, current loss 0.016, current formula \\left(3.171x_1^{-0.187} + 0.911x_2^{0.225}-3.157\\right)\n",
      "    Epoch 10000, current loss 0.015, current formula \\left(4.487x_1^{-0.139} + 1.022x_2^{0.194}-4.592\\right)\n",
      "  Finished run #4, loss 0.015010841190814972, best loss 0.003813070012256503\n",
      "34 seconds passed from the start, the iteration took 22 seconds\n",
      "ground truth and obtained formula\n"
     ]
    },
    {
     "data": {
      "text/latex": [
       "$\\displaystyle -1.424x_{1}^{1.417}+0.595x_{2}^{1.167}+1.627$"
      ],
      "text/plain": [
       "<IPython.core.display.Math object>"
      ]
     },
     "metadata": {},
     "output_type": "display_data"
    },
    {
     "data": {
      "text/latex": [
       "$\\displaystyle \\left(-1.535x_1^{1.005} + 1.886x_2^{0.105} + 0.408\\right)$"
      ],
      "text/plain": [
       "<IPython.core.display.Math object>"
      ]
     },
     "metadata": {},
     "output_type": "display_data"
    },
    {
     "name": "stdout",
     "output_type": "stream",
     "text": [
      "MSE between formula parameters is 0.8925285589491905\n",
      "FAILURE\n",
      "\n",
      "\n",
      "----------------------------Exploring new formula #3----------------------------\n",
      "  Initialization #1\n",
      "    Epoch 5000, current loss 0.108, current formula \\left(7.034x_1^{0.007}-4.884x_2^{-0.155}-2.368\\right)\n",
      "    Epoch 10000, current loss 0.107, current formula \\left(9.737x_1^{0.005}-7.727x_2^{-0.103}-2.215\\right)\n",
      "  Finished run #1, loss 0.10658738762140274, best loss 0.10658738762140274\n",
      "  Initialization #2\n",
      "  Finished run #2, loss 7.762679388179095e-12, best loss 7.762679388179095e-12\n",
      "loss is smaller than 1e-05, terminating learning process\n",
      "45 seconds passed from the start, the iteration took 11 seconds\n",
      "ground truth and obtained formula\n"
     ]
    },
    {
     "data": {
      "text/latex": [
       "$\\displaystyle 1.046x_{1}^{3.417}+2.062x_{2}^{4.833}-1.456$"
      ],
      "text/plain": [
       "<IPython.core.display.Math object>"
      ]
     },
     "metadata": {},
     "output_type": "display_data"
    },
    {
     "data": {
      "text/latex": [
       "$\\displaystyle \\left(1.046x_1^{3.417} + 2.062x_2^{4.833}-1.456\\right)$"
      ],
      "text/plain": [
       "<IPython.core.display.Math object>"
      ]
     },
     "metadata": {},
     "output_type": "display_data"
    },
    {
     "name": "stdout",
     "output_type": "stream",
     "text": [
      "MSE between formula parameters is 2.4826846356518217e-09\n",
      "EXACT RECOVERY\n",
      "\n",
      "\n",
      "----------------------------Exploring new formula #4----------------------------\n",
      "  Initialization #1\n",
      "  Finished run #1, loss 0.00539399404078722, best loss 0.00539399404078722\n",
      "  Initialization #2\n",
      "    Epoch 5000, current loss 0.0309, current formula \\left(-1.396x_1^{-0.128}-2.287x_2^{-0.201} + 4.111\\right)\n",
      "    Epoch 10000, current loss 0.0303, current formula \\left(-1.772x_1^{-0.104}-2.936x_2^{-0.163} + 5.142\\right)\n",
      "  Finished run #2, loss 0.030300751328468323, best loss 0.00539399404078722\n",
      "  Initialization #3\n",
      "  Finished run #3, loss 0.005319469608366489, best loss 0.005319469608366489\n",
      "  Initialization #4\n",
      "  Finished run #4, loss 0.031356800347566605, best loss 0.005319469608366489\n",
      "1 minutes 3 seconds passed from the start, the iteration took 17 seconds\n",
      "ground truth and obtained formula\n"
     ]
    },
    {
     "data": {
      "text/latex": [
       "$\\displaystyle 0.443x_{1}^{5.0}+1.276x_{2}^{3.0}-0.65$"
      ],
      "text/plain": [
       "<IPython.core.display.Math object>"
      ]
     },
     "metadata": {},
     "output_type": "display_data"
    },
    {
     "data": {
      "text/latex": [
       "$\\displaystyle \\left(-0.830x_1^{-0.067} + 1.333x_2^{3.780} + 0.357\\right)$"
      ],
      "text/plain": [
       "<IPython.core.display.Math object>"
      ]
     },
     "metadata": {},
     "output_type": "display_data"
    },
    {
     "name": "stdout",
     "output_type": "stream",
     "text": [
      "MSE between formula parameters is 5.783645060274312\n",
      "FAILURE\n",
      "\n",
      "\n",
      "----------------------------Exploring new formula #5----------------------------\n",
      "  Initialization #1\n",
      "  Finished run #1, loss 5.992361988560457e-12, best loss 5.992361988560457e-12\n",
      "loss is smaller than 1e-05, terminating learning process\n",
      "1 minutes 5 seconds passed from the start, the iteration took 2 seconds\n",
      "ground truth and obtained formula\n"
     ]
    },
    {
     "data": {
      "text/latex": [
       "$\\displaystyle 1.315x_{1}^{3.917}+0.402x_{2}^{2.5}+0.758$"
      ],
      "text/plain": [
       "<IPython.core.display.Math object>"
      ]
     },
     "metadata": {},
     "output_type": "display_data"
    },
    {
     "data": {
      "text/latex": [
       "$\\displaystyle \\left(1.315x_1^{3.917} + 0.402x_2^{2.500} + 0.758\\right)$"
      ],
      "text/plain": [
       "<IPython.core.display.Math object>"
      ]
     },
     "metadata": {},
     "output_type": "display_data"
    },
    {
     "name": "stdout",
     "output_type": "stream",
     "text": [
      "MSE between formula parameters is 4.105604034521093e-09\n",
      "EXACT RECOVERY\n",
      "\n",
      "################################################################################\n",
      "MSEs between parameters:\n",
      "[2.587208116337435, 0.8925285589491905, 2.4826846356518217e-09, 5.783645060274312, 4.105604034521093e-09]\n",
      "For 2 formulas out of 5 the error is less than 1e-05.\n",
      "\n",
      "\n",
      "----------------------------Exploring new formula #1----------------------------\n",
      "  Initialization #1\n",
      "  Finished run #1, loss 1.4539389137091518e-10, best loss 1.4539389137091518e-10\n",
      "loss is smaller than 1e-05, terminating learning process\n",
      "2 seconds passed from the start, the iteration took 2 seconds\n",
      "ground truth and obtained formula\n"
     ]
    },
    {
     "data": {
      "text/latex": [
       "$\\displaystyle -0.12x_{1}^{3.0}-0.481x_{2}^{2.0}+0.459x_{3}^{4.0}-0.102$"
      ],
      "text/plain": [
       "<IPython.core.display.Math object>"
      ]
     },
     "metadata": {},
     "output_type": "display_data"
    },
    {
     "data": {
      "text/latex": [
       "$\\displaystyle \\left(-0.120x_1^{2.991}-0.481x_2^{2.001} + 0.459x_3^{4.000}-0.102\\right)$"
      ],
      "text/plain": [
       "<IPython.core.display.Math object>"
      ]
     },
     "metadata": {},
     "output_type": "display_data"
    },
    {
     "name": "stdout",
     "output_type": "stream",
     "text": [
      "MSE between formula parameters is 1.2513614854944447e-05\n",
      "EXACT RECOVERY\n",
      "\n",
      "\n",
      "----------------------------Exploring new formula #2----------------------------\n",
      "  Initialization #1\n",
      "  Finished run #1, loss 3.698468162838253e-06, best loss 3.698468162838253e-06\n",
      "loss is smaller than 1e-05, terminating learning process\n",
      "3 seconds passed from the start, the iteration took 1 seconds\n",
      "ground truth and obtained formula\n"
     ]
    },
    {
     "data": {
      "text/latex": [
       "$\\displaystyle 0.33x_{1}^{2.0}+1.629x_{2}^{5.0}-0.016x_{3}^{4.0}-0.805$"
      ],
      "text/plain": [
       "<IPython.core.display.Math object>"
      ]
     },
     "metadata": {},
     "output_type": "display_data"
    },
    {
     "data": {
      "text/latex": [
       "$\\displaystyle \\left(0.347x_1^{1.958} + 1.640x_2^{5.130} + 0.008x_3^{-0.032}-0.821\\right)$"
      ],
      "text/plain": [
       "<IPython.core.display.Math object>"
      ]
     },
     "metadata": {},
     "output_type": "display_data"
    },
    {
     "name": "stdout",
     "output_type": "stream",
     "text": [
      "MSE between formula parameters is 2.3247180666514375\n",
      "FAILURE\n",
      "\n",
      "\n",
      "----------------------------Exploring new formula #3----------------------------\n",
      "  Initialization #1\n",
      "  Finished run #1, loss 0.06581981480121613, best loss 0.06581981480121613\n",
      "  Initialization #2\n",
      "    Epoch 5000, current loss 0.0794, current formula \\left(-4.735x_1^{-0.022} + 0.346x_2^{1.443} + 5.490x_3^{-0.076} + 0.367\\right)\n",
      "    Epoch 10000, current loss 0.0784, current formula \\left(-7.943x_1^{-0.014} + 0.336x_2^{1.410} + 8.705x_3^{-0.050} + 0.361\\right)\n",
      "  Finished run #2, loss 0.07844074815511703, best loss 0.06581981480121613\n",
      "  Initialization #3\n",
      "  Finished run #3, loss 0.01675032638013363, best loss 0.01675032638013363\n",
      "  Initialization #4\n",
      "  Finished run #4, loss 0.0010188600281253457, best loss 0.0010188600281253457\n",
      "26 seconds passed from the start, the iteration took 23 seconds\n",
      "ground truth and obtained formula\n"
     ]
    },
    {
     "data": {
      "text/latex": [
       "$\\displaystyle 1.011x_{1}^{3.0}-0.452x_{2}^{4.0}-1.409x_{3}^{2.0}+1.744$"
      ],
      "text/plain": [
       "<IPython.core.display.Math object>"
      ]
     },
     "metadata": {},
     "output_type": "display_data"
    },
    {
     "data": {
      "text/latex": [
       "$\\displaystyle \\left(1.006x_1^{3.802} + 0.368x_2^{-0.110}-1.325x_3^{1.952} + 1.279\\right)$"
      ],
      "text/plain": [
       "<IPython.core.display.Math object>"
      ]
     },
     "metadata": {},
     "output_type": "display_data"
    },
    {
     "name": "stdout",
     "output_type": "stream",
     "text": [
      "MSE between formula parameters is 2.6333381919448255\n",
      "FAILURE\n",
      "\n",
      "\n",
      "----------------------------Exploring new formula #4----------------------------\n",
      "  Initialization #1\n",
      "  Finished run #1, loss 1.0057022055420806e-11, best loss 1.0057022055420806e-11\n",
      "loss is smaller than 1e-05, terminating learning process\n",
      "29 seconds passed from the start, the iteration took 3 seconds\n",
      "ground truth and obtained formula\n"
     ]
    },
    {
     "data": {
      "text/latex": [
       "$\\displaystyle 1.468x_{1}^{4.0}+0.034x_{2}^{5.0}-0.162x_{3}^{3.0}-1.729$"
      ],
      "text/plain": [
       "<IPython.core.display.Math object>"
      ]
     },
     "metadata": {},
     "output_type": "display_data"
    },
    {
     "data": {
      "text/latex": [
       "$\\displaystyle \\left(1.468x_1^{4.000} + 0.034x_2^{5.002}-0.162x_3^{3.000}-1.729\\right)$"
      ],
      "text/plain": [
       "<IPython.core.display.Math object>"
      ]
     },
     "metadata": {},
     "output_type": "display_data"
    },
    {
     "name": "stdout",
     "output_type": "stream",
     "text": [
      "MSE between formula parameters is 4.90229356569267e-07\n",
      "EXACT RECOVERY\n",
      "\n",
      "\n",
      "----------------------------Exploring new formula #5----------------------------\n",
      "  Initialization #1\n",
      "  Finished run #1, loss 0.005452512297779322, best loss 0.005452512297779322\n",
      "  Initialization #2\n",
      "  Finished run #2, loss 0.0004391792754177004, best loss 0.0004391792754177004\n",
      "  Initialization #3\n",
      "    Epoch 5000, current loss 0.00544, current formula \\left(-2.094x_1^{-0.053}-2.293x_2^{0.034} + 0.241x_3^{0.968} + 4.436\\right)\n",
      "  Finished run #3, loss 0.005389821715652943, best loss 0.0004391792754177004\n",
      "  Initialization #4\n",
      "  Finished run #4, loss 0.004519193433225155, best loss 0.0004391792754177004\n",
      "50 seconds passed from the start, the iteration took 21 seconds\n",
      "ground truth and obtained formula\n"
     ]
    },
    {
     "data": {
      "text/latex": [
       "$\\displaystyle 0.542x_{1}^{5.0}-0.208x_{2}^{3.0}+0.178x_{3}^{6.0}+0.082$"
      ],
      "text/plain": [
       "<IPython.core.display.Math object>"
      ]
     },
     "metadata": {},
     "output_type": "display_data"
    },
    {
     "data": {
      "text/latex": [
       "$\\displaystyle \\left(0.725x_1^{8.148}-0.382x_2^{0.326} + 0.256x_3^{-0.015} + 0.083\\right)$"
      ],
      "text/plain": [
       "<IPython.core.display.Math object>"
      ]
     },
     "metadata": {},
     "output_type": "display_data"
    },
    {
     "name": "stdout",
     "output_type": "stream",
     "text": [
      "MSE between formula parameters is 7.616065296755037\n",
      "FAILURE\n",
      "\n",
      "################################################################################\n",
      "MSEs between parameters:\n",
      "[1.2513614854944447e-05, 2.3247180666514375, 2.6333381919448255, 4.90229356569267e-07, 7.616065296755037]\n",
      "For 1 formulas out of 5 the error is less than 1e-05.\n",
      "\n",
      "\n",
      "----------------------------Exploring new formula #1----------------------------\n",
      "  Initialization #1\n",
      "  Finished run #1, loss 0.0004035017918795347, best loss 0.0004035017918795347\n",
      "  Initialization #2\n",
      "  Finished run #2, loss 3.539199155966344e-08, best loss 3.539199155966344e-08\n",
      "loss is smaller than 1e-05, terminating learning process\n",
      "3 seconds passed from the start, the iteration took 3 seconds\n",
      "ground truth and obtained formula\n"
     ]
    },
    {
     "data": {
      "text/latex": [
       "$\\displaystyle -0.875x_{1}^{3.5}+0.807x_{2}^{2.5}-0.797x_{3}^{1.0}-0.373$"
      ],
      "text/plain": [
       "<IPython.core.display.Math object>"
      ]
     },
     "metadata": {},
     "output_type": "display_data"
    },
    {
     "data": {
      "text/latex": [
       "$\\displaystyle \\left(-0.875x_1^{3.504} + 0.809x_2^{2.505}-0.794x_3^{1.008}-0.376\\right)$"
      ],
      "text/plain": [
       "<IPython.core.display.Math object>"
      ]
     },
     "metadata": {},
     "output_type": "display_data"
    },
    {
     "name": "stdout",
     "output_type": "stream",
     "text": [
      "MSE between formula parameters is 1.7478173637032667e-05\n",
      "EXACT RECOVERY\n",
      "\n",
      "\n",
      "----------------------------Exploring new formula #2----------------------------\n",
      "  Initialization #1\n",
      "  Finished run #1, loss 0.0006003390881232917, best loss 0.0006003390881232917\n",
      "  Initialization #2\n",
      "  Finished run #2, loss 0.0017891762545332313, best loss 0.0006003390881232917\n",
      "  Initialization #3\n",
      "  Finished run #3, loss 0.0019221737748011947, best loss 0.0006003390881232917\n",
      "  Initialization #4\n",
      "  Finished run #4, loss 0.0018536100396886468, best loss 0.0006003390881232917\n",
      "12 seconds passed from the start, the iteration took 9 seconds\n",
      "ground truth and obtained formula\n"
     ]
    },
    {
     "data": {
      "text/latex": [
       "$\\displaystyle 0.298x_{1}^{4.5}-0.389x_{2}^{3.5}+1.025x_{3}^{0.5}+0.061$"
      ],
      "text/plain": [
       "<IPython.core.display.Math object>"
      ]
     },
     "metadata": {},
     "output_type": "display_data"
    },
    {
     "data": {
      "text/latex": [
       "$\\displaystyle \\left(-1.895x_1^{-0.013}-0.263x_2^{2.119} + 1.110x_3^{0.501} + 1.970\\right)$"
      ],
      "text/plain": [
       "<IPython.core.display.Math object>"
      ]
     },
     "metadata": {},
     "output_type": "display_data"
    },
    {
     "name": "stdout",
     "output_type": "stream",
     "text": [
      "MSE between formula parameters is 4.393563587325054\n",
      "FAILURE\n",
      "\n",
      "\n",
      "----------------------------Exploring new formula #3----------------------------\n",
      "  Initialization #1\n",
      "  Finished run #1, loss 0.016129981726408005, best loss 0.016129981726408005\n",
      "  Initialization #2\n",
      "  Finished run #2, loss 0.00011130001803394407, best loss 0.00011130001803394407\n",
      "  Initialization #3\n",
      "    Epoch 5000, current loss 0.032, current formula \\left(3.824x_1^{-0.053}-1.287x_2^{0.121}-3.022x_3^{-0.108} + 1.711\\right)\n",
      "    Epoch 10000, current loss 0.0305, current formula \\left(5.900x_1^{-0.036}-1.729x_2^{0.085}-4.663x_3^{-0.074} + 1.726\\right)\n",
      "  Finished run #3, loss 0.030488574877381325, best loss 0.00011130001803394407\n",
      "  Initialization #4\n",
      "    Epoch 5000, current loss 0.00634, current formula \\left(2.046x_1^{-0.053}-1.532x_2^{9.621} + 1.405x_3^{1.691}-1.381\\right)\n",
      "    Epoch 10000, current loss 0.00613, current formula \\left(3.314x_1^{-0.035}-2.152x_2^{10.685} + 1.405x_3^{1.681}-2.660\\right)\n",
      "  Finished run #4, loss 0.006126529071480036, best loss 0.00011130001803394407\n",
      "44 seconds passed from the start, the iteration took 32 seconds\n",
      "ground truth and obtained formula\n"
     ]
    },
    {
     "data": {
      "text/latex": [
       "$\\displaystyle -0.636x_{1}^{1.0}-0.209x_{2}^{3.0}+1.525x_{3}^{1.5}+0.983$"
      ],
      "text/plain": [
       "<IPython.core.display.Math object>"
      ]
     },
     "metadata": {},
     "output_type": "display_data"
    },
    {
     "data": {
      "text/latex": [
       "$\\displaystyle \\left(-0.688x_1^{0.971} + 0.320x_2^{-0.076} + 1.540x_3^{1.369} + 0.593\\right)$"
      ],
      "text/plain": [
       "<IPython.core.display.Math object>"
      ]
     },
     "metadata": {},
     "output_type": "display_data"
    },
    {
     "name": "stdout",
     "output_type": "stream",
     "text": [
      "MSE between formula parameters is 1.4164370745410295\n",
      "FAILURE\n",
      "\n",
      "\n",
      "----------------------------Exploring new formula #4----------------------------\n",
      "  Initialization #1\n",
      "  Finished run #1, loss 0.006698698736727238, best loss 0.006698698736727238\n",
      "  Initialization #2\n",
      "  Finished run #2, loss 0.07387501746416092, best loss 0.006698698736727238\n",
      "  Initialization #3\n",
      "    Epoch 5000, current loss 0.0821, current formula \\left(-1.495x_1^{-0.019} + 0.000x_2^{-4.855} + 2.607x_3^{0.093}-0.511\\right)\n",
      "    Epoch 10000, current loss 0.082, current formula \\left(-1.637x_1^{-0.018} + 0.000x_2^{-4.855} + 2.749x_3^{0.087}-0.511\\right)\n",
      "  Finished run #3, loss 0.0819503515958786, best loss 0.006698698736727238\n",
      "  Initialization #4\n",
      "  Finished run #4, loss 0.006749534048140049, best loss 0.006698698736727238\n",
      "1 minutes 10 seconds passed from the start, the iteration took 27 seconds\n",
      "ground truth and obtained formula\n"
     ]
    },
    {
     "data": {
      "text/latex": [
       "$\\displaystyle 1.003x_{1}^{2.5}+0.689x_{2}^{4.5}+1.328x_{3}^{5.5}-0.333$"
      ],
      "text/plain": [
       "<IPython.core.display.Math object>"
      ]
     },
     "metadata": {},
     "output_type": "display_data"
    },
    {
     "data": {
      "text/latex": [
       "$\\displaystyle \\left(1.708x_1^{4.399}-1.259x_2^{-0.314} + 2.132x_3^{7.120} + 1.274\\right)$"
      ],
      "text/plain": [
       "<IPython.core.display.Math object>"
      ]
     },
     "metadata": {},
     "output_type": "display_data"
    },
    {
     "name": "stdout",
     "output_type": "stream",
     "text": [
      "MSE between formula parameters is 5.276079496135774\n",
      "FAILURE\n",
      "\n",
      "\n",
      "----------------------------Exploring new formula #5----------------------------\n",
      "  Initialization #1\n",
      "  Finished run #1, loss 0.002715812996029854, best loss 0.002715812996029854\n",
      "  Initialization #2\n",
      "  Finished run #2, loss 0.006075482815504074, best loss 0.002715812996029854\n",
      "  Initialization #3\n",
      "  Finished run #3, loss 0.0001365163770969957, best loss 0.0001365163770969957\n",
      "  Initialization #4\n",
      "    Epoch 5000, current loss 0.00252, current formula \\left(-1.936x_1^{0.224}-1.057x_2^{5.052}-1.757x_3^{0.080} + 2.063\\right)\n",
      "    Epoch 10000, current loss 0.00193, current formula \\left(-3.229x_1^{0.126}-1.029x_2^{5.009}-0.481x_3^{0.471} + 2.055\\right)\n",
      "  Finished run #4, loss 0.0019270137418061495, best loss 0.0001365163770969957\n",
      "1 minutes 31 seconds passed from the start, the iteration took 21 seconds\n",
      "ground truth and obtained formula\n"
     ]
    },
    {
     "data": {
      "text/latex": [
       "$\\displaystyle -1.026x_{1}^{0.5}-0.881x_{2}^{4.0}-0.591x_{3}^{6.0}-0.44$"
      ],
      "text/plain": [
       "<IPython.core.display.Math object>"
      ]
     },
     "metadata": {},
     "output_type": "display_data"
    },
    {
     "data": {
      "text/latex": [
       "$\\displaystyle \\left(0.071x_1^{-1.734}-0.969x_2^{5.686}-0.423x_3^{1.963}-1.397\\right)$"
      ],
      "text/plain": [
       "<IPython.core.display.Math object>"
      ]
     },
     "metadata": {},
     "output_type": "display_data"
    },
    {
     "name": "stdout",
     "output_type": "stream",
     "text": [
      "MSE between formula parameters is 3.754762192684501\n",
      "FAILURE\n",
      "\n",
      "################################################################################\n",
      "MSEs between parameters:\n",
      "[1.7478173637032667e-05, 4.393563587325054, 1.4164370745410295, 5.276079496135774, 3.754762192684501]\n",
      "For 0 formulas out of 5 the error is less than 1e-05.\n",
      "\n",
      "\n",
      "----------------------------Exploring new formula #1----------------------------\n",
      "  Initialization #1\n",
      "  Finished run #1, loss 0.00034760075504891574, best loss 0.00034760075504891574\n",
      "  Initialization #2\n",
      "  Finished run #2, loss 2.7363978460925864e-06, best loss 2.7363978460925864e-06\n",
      "loss is smaller than 1e-05, terminating learning process\n",
      "6 seconds passed from the start, the iteration took 6 seconds\n",
      "ground truth and obtained formula\n"
     ]
    },
    {
     "data": {
      "text/latex": [
       "$\\displaystyle 0.295x_{1}^{0.083}-0.892x_{2}^{5.667}+1.563x_{3}^{0.25}+1.457$"
      ],
      "text/plain": [
       "<IPython.core.display.Math object>"
      ]
     },
     "metadata": {},
     "output_type": "display_data"
    },
    {
     "data": {
      "text/latex": [
       "$\\displaystyle \\left(0.143x_1^{0.204}-0.920x_2^{5.884} + 1.553x_3^{0.255} + 1.622\\right)$"
      ],
      "text/plain": [
       "<IPython.core.display.Math object>"
      ]
     },
     "metadata": {},
     "output_type": "display_data"
    },
    {
     "name": "stdout",
     "output_type": "stream",
     "text": [
      "MSE between formula parameters is 0.016117216841597195\n",
      "FAILURE\n",
      "\n",
      "\n",
      "----------------------------Exploring new formula #2----------------------------\n",
      "  Initialization #1\n",
      "  Finished run #1, loss 1.564046635260663e-11, best loss 1.564046635260663e-11\n",
      "loss is smaller than 1e-05, terminating learning process\n",
      "7 seconds passed from the start, the iteration took 1 seconds\n",
      "ground truth and obtained formula\n"
     ]
    },
    {
     "data": {
      "text/latex": [
       "$\\displaystyle 0.613x_{1}^{3.083}-0.152x_{2}^{5.167}-0.722x_{3}^{4.75}+1.311$"
      ],
      "text/plain": [
       "<IPython.core.display.Math object>"
      ]
     },
     "metadata": {},
     "output_type": "display_data"
    },
    {
     "data": {
      "text/latex": [
       "$\\displaystyle \\left(0.613x_1^{3.083}-0.152x_2^{5.164}-0.722x_3^{4.750} + 1.311\\right)$"
      ],
      "text/plain": [
       "<IPython.core.display.Math object>"
      ]
     },
     "metadata": {},
     "output_type": "display_data"
    },
    {
     "name": "stdout",
     "output_type": "stream",
     "text": [
      "MSE between formula parameters is 8.517388841524008e-07\n",
      "EXACT RECOVERY\n",
      "\n",
      "\n",
      "----------------------------Exploring new formula #3----------------------------\n",
      "  Initialization #1\n",
      "  Finished run #1, loss 0.0019113741582259536, best loss 0.0019113741582259536\n",
      "  Initialization #2\n",
      "  Finished run #2, loss 0.005314432550221682, best loss 0.0019113741582259536\n",
      "  Initialization #3\n",
      "    Epoch 5000, current loss 0.0139, current formula \\left(85.002x_1^{107.110}-1.193x_2^{-0.045} + 1.902x_3^{10.516} + 1.691\\right)\n",
      "    Epoch 10000, current loss 0.0138, current formula \\left(117.563x_1^{114.412}-1.791x_2^{-0.032} + 1.867x_3^{10.295} + 2.292\\right)\n",
      "  Finished run #3, loss 0.01378302276134491, best loss 0.0019113741582259536\n",
      "  Initialization #4\n",
      "  Finished run #4, loss 2.0312538708822103e-06, best loss 2.0312538708822103e-06\n",
      "loss is smaller than 1e-05, terminating learning process\n",
      "28 seconds passed from the start, the iteration took 21 seconds\n",
      "ground truth and obtained formula\n"
     ]
    },
    {
     "data": {
      "text/latex": [
       "$\\displaystyle 0.019x_{1}^{2.5}+0.957x_{2}^{3.167}+0.617x_{3}^{2.0}+0.219$"
      ],
      "text/plain": [
       "<IPython.core.display.Math object>"
      ]
     },
     "metadata": {},
     "output_type": "display_data"
    },
    {
     "data": {
      "text/latex": [
       "$\\displaystyle \\left(0.204x_1^{0.044} + 0.958x_2^{3.162} + 0.619x_3^{2.048} + 0.030\\right)$"
      ],
      "text/plain": [
       "<IPython.core.display.Math object>"
      ]
     },
     "metadata": {},
     "output_type": "display_data"
    },
    {
     "name": "stdout",
     "output_type": "stream",
     "text": [
      "MSE between formula parameters is 0.872245232351517\n",
      "FAILURE\n",
      "\n",
      "\n",
      "----------------------------Exploring new formula #4----------------------------\n",
      "  Initialization #1\n",
      "  Finished run #1, loss 0.0007706080796197057, best loss 0.0007706080796197057\n",
      "  Initialization #2\n",
      "  Finished run #2, loss 0.0014941033441573381, best loss 0.0007706080796197057\n",
      "  Initialization #3\n",
      "  The model does not seem to converge, finishing at epoch 1000\n",
      "  Finished run #3, loss 21359026.0, best loss 0.0007706080796197057\n",
      "  Initialization #4\n",
      "    Epoch 5000, current loss 0.024, current formula \\left(6.165x_1^{0.008} + 0.008x_2^{-1.027}-3.140x_3^{-0.119} + 0.435\\right)\n",
      "  Finished run #4, loss 0.02349047176539898, best loss 0.0007706080796197057\n",
      "41 seconds passed from the start, the iteration took 13 seconds\n",
      "ground truth and obtained formula\n"
     ]
    },
    {
     "data": {
      "text/latex": [
       "$\\displaystyle 0.451x_{1}^{5.667}-0.131x_{2}^{2.167}+1.351x_{3}^{1.083}+2.337$"
      ],
      "text/plain": [
       "<IPython.core.display.Math object>"
      ]
     },
     "metadata": {},
     "output_type": "display_data"
    },
    {
     "data": {
      "text/latex": [
       "$\\displaystyle \\left(0.522x_1^{6.628} + 0.169x_2^{-0.106} + 1.382x_3^{0.942} + 2.052\\right)$"
      ],
      "text/plain": [
       "<IPython.core.display.Math object>"
      ]
     },
     "metadata": {},
     "output_type": "display_data"
    },
    {
     "name": "stdout",
     "output_type": "stream",
     "text": [
      "MSE between formula parameters is 0.8976224735086562\n",
      "FAILURE\n",
      "\n",
      "\n",
      "----------------------------Exploring new formula #5----------------------------\n",
      "  Initialization #1\n",
      "  Finished run #1, loss 1.0734971510828473e-05, best loss 1.0734971510828473e-05\n",
      "  Initialization #2\n",
      "  Finished run #2, loss 0.00010149916488444433, best loss 1.0734971510828473e-05\n",
      "  Initialization #3\n",
      "    Epoch 5000, current loss 0.0348, current formula \\left(2.157x_1^{0.061} + 1.585x_2^{9.620} + 0.000x_3^{-3.989}-1.409\\right)\n",
      "    Epoch 10000, current loss 0.0348, current formula \\left(2.157x_1^{0.061} + 1.585x_2^{9.620} + 0.000x_3^{-3.989}-1.409\\right)\n",
      "  Finished run #3, loss 0.03480508178472519, best loss 1.0734971510828473e-05\n",
      "  Initialization #4\n",
      "  Finished run #4, loss 2.0429036240443565e-10, best loss 2.0429036240443565e-10\n",
      "loss is smaller than 1e-05, terminating learning process\n",
      "59 seconds passed from the start, the iteration took 17 seconds\n",
      "ground truth and obtained formula\n"
     ]
    },
    {
     "data": {
      "text/latex": [
       "$\\displaystyle 1.166x_{1}^{5.667}-0.078x_{2}^{2.333}+1.177x_{3}^{4.667}+0.451$"
      ],
      "text/plain": [
       "<IPython.core.display.Math object>"
      ]
     },
     "metadata": {},
     "output_type": "display_data"
    },
    {
     "data": {
      "text/latex": [
       "$\\displaystyle \\left(1.166x_1^{5.667}-0.078x_2^{2.324} + 1.176x_3^{4.665} + 0.451\\right)$"
      ],
      "text/plain": [
       "<IPython.core.display.Math object>"
      ]
     },
     "metadata": {},
     "output_type": "display_data"
    },
    {
     "name": "stdout",
     "output_type": "stream",
     "text": [
      "MSE between formula parameters is 1.313946839643603e-05\n",
      "EXACT RECOVERY\n",
      "\n",
      "################################################################################\n",
      "MSEs between parameters:\n",
      "[0.016117216841597195, 8.517388841524008e-07, 0.872245232351517, 0.8976224735086562, 1.313946839643603e-05]\n",
      "For 1 formulas out of 5 the error is less than 1e-05.\n",
      "\n",
      "\n",
      "----------------------------Exploring new formula #1----------------------------\n",
      "  Initialization #1\n",
      "    Epoch 5000, current loss 0.0162, current formula \\left(3.692x_1^{0.206}-22.387x_2^{41.448}-2.986x_3^{-0.071}-1.144x_4^{6.337}-0.164\\right)\n",
      "  Finished run #1, loss 0.01573159173130989, best loss 0.01573159173130989\n",
      "  Initialization #2\n",
      "  Finished run #2, loss 0.03728807345032692, best loss 0.01573159173130989\n",
      "  Initialization #3\n",
      "  Finished run #3, loss 0.05402813106775284, best loss 0.01573159173130989\n",
      "  Initialization #4\n",
      "  Finished run #4, loss 0.00030668405815958977, best loss 0.00030668405815958977\n",
      "28 seconds passed from the start, the iteration took 28 seconds\n",
      "ground truth and obtained formula\n"
     ]
    },
    {
     "data": {
      "text/latex": [
       "$\\displaystyle 0.191x_{1}^{4.0}-1.942x_{2}^{5.0}+0.991x_{3}^{5.0}-0.693x_{4}^{6.0}-0.366$"
      ],
      "text/plain": [
       "<IPython.core.display.Math object>"
      ]
     },
     "metadata": {},
     "output_type": "display_data"
    },
    {
     "data": {
      "text/latex": [
       "$\\displaystyle \\left(-0.765x_1^{-0.064}-2.081x_2^{5.392} + 1.038x_3^{5.808}-1.136x_4^{13.185} + 0.452\\right)$"
      ],
      "text/plain": [
       "<IPython.core.display.Math object>"
      ]
     },
     "metadata": {},
     "output_type": "display_data"
    },
    {
     "name": "stdout",
     "output_type": "stream",
     "text": [
      "MSE between formula parameters is 7.860932647380827\n",
      "FAILURE\n",
      "\n",
      "\n",
      "----------------------------Exploring new formula #2----------------------------\n",
      "  Initialization #1\n",
      "  Finished run #1, loss 0.005718783475458622, best loss 0.005718783475458622\n",
      "  Initialization #2\n",
      "    Epoch 5000, current loss 0.0206, current formula \\left(2.818x_1^{-0.224} + 0.973x_2^{2.086}-0.519x_3^{0.441}-1.542x_4^{2.051}-2.584\\right)\n",
      "  Finished run #2, loss 0.020489966496825218, best loss 0.005718783475458622\n",
      "  Initialization #3\n",
      "  Finished run #3, loss 0.0058562057092785835, best loss 0.005718783475458622\n",
      "  Initialization #4\n",
      "    Epoch 5000, current loss 0.12, current formula \\left(-1.197x_1^{6.111}-8.578x_2^{-0.000} + 1.198x_3^{0.143} + 9.274x_4^{-0.110}-2.352\\right)\n",
      "  Finished run #4, loss 0.1189647689461708, best loss 0.005718783475458622\n",
      "51 seconds passed from the start, the iteration took 23 seconds\n",
      "ground truth and obtained formula\n"
     ]
    },
    {
     "data": {
      "text/latex": [
       "$\\displaystyle -1.556x_{1}^{3.0}+0.544x_{2}^{3.0}+0.038x_{3}^{1.0}-1.649x_{4}^{5.0}+0.704$"
      ],
      "text/plain": [
       "<IPython.core.display.Math object>"
      ]
     },
     "metadata": {},
     "output_type": "display_data"
    },
    {
     "data": {
      "text/latex": [
       "$\\displaystyle \\left(-1.709x_1^{4.016}-2.197x_2^{-0.018}-0.540x_3^{-0.023}-1.888x_4^{4.866} + 3.653\\right)$"
      ],
      "text/plain": [
       "<IPython.core.display.Math object>"
      ]
     },
     "metadata": {},
     "output_type": "display_data"
    },
    {
     "name": "stdout",
     "output_type": "stream",
     "text": [
      "MSE between formula parameters is 3.091890768161962\n",
      "FAILURE\n",
      "\n",
      "\n",
      "----------------------------Exploring new formula #3----------------------------\n",
      "  Initialization #1\n",
      "  Finished run #1, loss 0.05996491387486458, best loss 0.05996491387486458\n",
      "  Initialization #2\n",
      "  Finished run #2, loss 5.962915747659281e-05, best loss 5.962915747659281e-05\n",
      "  Initialization #3\n",
      "  Finished run #3, loss 0.01568448916077614, best loss 5.962915747659281e-05\n",
      "  Initialization #4\n",
      "    Epoch 5000, current loss 0.0652, current formula \\left(1.610x_1^{19.358} + 1.878x_2^{-0.191} + 1.967x_3^{-0.072} + 1.080x_4^{0.088}-4.101\\right)\n",
      "  Finished run #4, loss 0.06437020748853683, best loss 5.962915747659281e-05\n",
      "1 minutes 18 seconds passed from the start, the iteration took 27 seconds\n",
      "ground truth and obtained formula\n"
     ]
    },
    {
     "data": {
      "text/latex": [
       "$\\displaystyle 1.222x_{1}^{4.0}-0.012x_{2}^{3.0}-1.409x_{3}^{6.0}+0.189x_{4}^{4.0}+1.344$"
      ],
      "text/plain": [
       "<IPython.core.display.Math object>"
      ]
     },
     "metadata": {},
     "output_type": "display_data"
    },
    {
     "data": {
      "text/latex": [
       "$\\displaystyle \\left(1.297x_1^{5.142}-0.271x_2^{0.338}-1.407x_3^{8.365} + 2.992x_4^{0.008}-1.381\\right)$"
      ],
      "text/plain": [
       "<IPython.core.display.Math object>"
      ]
     },
     "metadata": {},
     "output_type": "display_data"
    },
    {
     "name": "stdout",
     "output_type": "stream",
     "text": [
      "MSE between formula parameters is 5.030533271392651\n",
      "FAILURE\n",
      "\n",
      "\n",
      "----------------------------Exploring new formula #4----------------------------\n",
      "  Initialization #1\n",
      "    Epoch 5000, current loss 0.021, current formula \\left(0.470x_1^{1.925} + 2.230x_2^{-0.115}-0.691x_3^{-0.074} + 1.094x_4^{-0.249}-2.991\\right)\n",
      "  Finished run #1, loss 0.020229462534189224, best loss 0.020229462534189224\n",
      "  Initialization #2\n",
      "  Finished run #2, loss 0.000217837980017066, best loss 0.000217837980017066\n",
      "  Initialization #3\n",
      "  Finished run #3, loss 0.0020343991927802563, best loss 0.000217837980017066\n",
      "  Initialization #4\n",
      "    Epoch 5000, current loss 0.00819, current formula \\left(0.057x_1^{1.783} + 3.871x_2^{-0.126}-0.646x_3^{-0.123}-1.230x_4^{1.745}-2.911\\right)\n",
      "    Epoch 10000, current loss 0.00705, current formula \\left(0.049x_1^{1.754} + 5.737x_2^{-0.091}-0.648x_3^{-0.119}-1.259x_4^{1.762}-4.789\\right)\n",
      "  Finished run #4, loss 0.007051957305520773, best loss 0.000217837980017066\n",
      "1 minutes 56 seconds passed from the start, the iteration took 38 seconds\n",
      "ground truth and obtained formula\n"
     ]
    },
    {
     "data": {
      "text/latex": [
       "$\\displaystyle 0.697x_{1}^{6.0}-1.154x_{2}^{2.0}+0.564x_{3}^{4.0}-0.623x_{4}^{6.0}+0.517$"
      ],
      "text/plain": [
       "<IPython.core.display.Math object>"
      ]
     },
     "metadata": {},
     "output_type": "display_data"
    },
    {
     "data": {
      "text/latex": [
       "$\\displaystyle \\left(0.476x_1^{6.396}-1.538x_2^{0.816} + 0.379x_3^{2.532}-0.931x_4^{2.585} + 1.212\\right)$"
      ],
      "text/plain": [
       "<IPython.core.display.Math object>"
      ]
     },
     "metadata": {},
     "output_type": "display_data"
    },
    {
     "name": "stdout",
     "output_type": "stream",
     "text": [
      "MSE between formula parameters is 1.7981039263013119\n",
      "FAILURE\n",
      "\n",
      "\n",
      "----------------------------Exploring new formula #5----------------------------\n",
      "  Initialization #1\n",
      "  Finished run #1, loss 4.4648656993828695e-10, best loss 4.4648656993828695e-10\n",
      "loss is smaller than 1e-05, terminating learning process\n",
      "1 minutes 59 seconds passed from the start, the iteration took 4 seconds\n",
      "ground truth and obtained formula\n"
     ]
    },
    {
     "data": {
      "text/latex": [
       "$\\displaystyle 0.68x_{1}^{5.0}+0.761x_{2}^{3.0}+1.857x_{3}^{1.0}-0.879x_{4}^{6.0}+1.132$"
      ],
      "text/plain": [
       "<IPython.core.display.Math object>"
      ]
     },
     "metadata": {},
     "output_type": "display_data"
    },
    {
     "data": {
      "text/latex": [
       "$\\displaystyle \\left(0.681x_1^{5.006} + 0.761x_2^{3.001} + 1.856x_3^{1.000}-0.879x_4^{5.999} + 1.132\\right)$"
      ],
      "text/plain": [
       "<IPython.core.display.Math object>"
      ]
     },
     "metadata": {},
     "output_type": "display_data"
    },
    {
     "name": "stdout",
     "output_type": "stream",
     "text": [
      "MSE between formula parameters is 4.2576923379537375e-06\n",
      "EXACT RECOVERY\n",
      "\n",
      "################################################################################\n",
      "MSEs between parameters:\n",
      "[7.860932647380827, 3.091890768161962, 5.030533271392651, 1.7981039263013119, 4.2576923379537375e-06]\n",
      "For 1 formulas out of 5 the error is less than 1e-05.\n",
      "\n",
      "\n",
      "----------------------------Exploring new formula #1----------------------------\n",
      "  Initialization #1\n",
      "    Epoch 5000, current loss 0.00319, current formula \\left(-0.775x_1^{-0.100}-0.590x_2^{-0.115}-0.929x_3^{0.057} + 0.390x_4^{2.117} + 2.330\\right)\n",
      "  Finished run #1, loss 0.0031711601186543703, best loss 0.0031711601186543703\n",
      "  Initialization #2\n",
      "  Finished run #2, loss 0.002955680713057518, best loss 0.002955680713057518\n",
      "  Initialization #3\n",
      "    Epoch 5000, current loss 0.00382, current formula \\left(-1.298x_1^{-0.067} + 4.006x_2^{0.029} + 0.060x_3^{-0.757}-1.921x_4^{-0.064}-0.573\\right)\n",
      "  Finished run #3, loss 0.003776462282985449, best loss 0.002955680713057518\n",
      "  Initialization #4\n",
      "  Finished run #4, loss 0.00026729400269687176, best loss 0.00026729400269687176\n",
      "30 seconds passed from the start, the iteration took 30 seconds\n",
      "ground truth and obtained formula\n"
     ]
    },
    {
     "data": {
      "text/latex": [
       "$\\displaystyle 0.268x_{1}^{2.5}+0.488x_{2}^{1.0}-0.406x_{3}^{3.5}+0.612x_{4}^{3.0}-0.469$"
      ],
      "text/plain": [
       "<IPython.core.display.Math object>"
      ]
     },
     "metadata": {},
     "output_type": "display_data"
    },
    {
     "data": {
      "text/latex": [
       "$\\displaystyle \\left(0.339x_1^{8.969} + 0.832x_2^{0.101}-0.447x_3^{1.706}-0.158x_4^{-0.452}-0.439\\right)$"
      ],
      "text/plain": [
       "<IPython.core.display.Math object>"
      ]
     },
     "metadata": {},
     "output_type": "display_data"
    },
    {
     "name": "stdout",
     "output_type": "stream",
     "text": [
      "MSE between formula parameters is 6.5003843836475\n",
      "FAILURE\n",
      "\n",
      "\n",
      "----------------------------Exploring new formula #2----------------------------\n",
      "  Initialization #1\n",
      "  Finished run #1, loss 0.05034876614809036, best loss 0.05034876614809036\n",
      "  Initialization #2\n",
      "  Finished run #2, loss 0.036962222307920456, best loss 0.036962222307920456\n",
      "  Initialization #3\n",
      "  Finished run #3, loss 0.01669895648956299, best loss 0.01669895648956299\n",
      "  Initialization #4\n",
      "    Epoch 5000, current loss 0.046, current formula \\left(466.525x_1^{34.861} + 1.271x_2^{10.516}-2.128x_3^{-0.185}-2.943x_4^{0.161} + 3.224\\right)\n",
      "    Epoch 10000, current loss 0.0451, current formula \\left(569.019x_1^{36.658} + 1.252x_2^{10.778}-3.027x_3^{-0.139}-3.428x_4^{0.130} + 4.640\\right)\n",
      "  Finished run #4, loss 0.045077160000801086, best loss 0.01669895648956299\n",
      "1 minutes 2 seconds passed from the start, the iteration took 32 seconds\n",
      "ground truth and obtained formula\n"
     ]
    },
    {
     "data": {
      "text/latex": [
       "$\\displaystyle -0.566x_{1}^{1.5}-0.084x_{2}^{1.5}+1.38x_{3}^{3.0}-2.052x_{4}^{6.0}-1.608$"
      ],
      "text/plain": [
       "<IPython.core.display.Math object>"
      ]
     },
     "metadata": {},
     "output_type": "display_data"
    },
    {
     "data": {
      "text/latex": [
       "$\\displaystyle \\left(1.206x_1^{0.105}-0.511x_2^{0.385} + 1.270x_3^{3.325}-1.844x_4^{0.124}-1.103\\right)$"
      ],
      "text/plain": [
       "<IPython.core.display.Math object>"
      ]
     },
     "metadata": {},
     "output_type": "display_data"
    },
    {
     "name": "stdout",
     "output_type": "stream",
     "text": [
      "MSE between formula parameters is 4.605298030402427\n",
      "FAILURE\n",
      "\n",
      "\n",
      "----------------------------Exploring new formula #3----------------------------\n",
      "  Initialization #1\n",
      "  Finished run #1, loss 0.00015418187831528485, best loss 0.00015418187831528485\n",
      "  Initialization #2\n",
      "  Finished run #2, loss 1.2983830401935847e-06, best loss 1.2983830401935847e-06\n",
      "loss is smaller than 1e-05, terminating learning process\n",
      "1 minutes 5 seconds passed from the start, the iteration took 4 seconds\n",
      "ground truth and obtained formula\n"
     ]
    },
    {
     "data": {
      "text/latex": [
       "$\\displaystyle 0.029x_{1}^{2.0}-0.19x_{2}^{3.0}+1.252x_{3}^{4.0}+0.687x_{4}^{1.0}+1.514$"
      ],
      "text/plain": [
       "<IPython.core.display.Math object>"
      ]
     },
     "metadata": {},
     "output_type": "display_data"
    },
    {
     "data": {
      "text/latex": [
       "$\\displaystyle \\left(1.879x_1^{0.003}-0.176x_2^{2.769} + 1.251x_3^{3.994} + 0.681x_4^{0.996}-0.349\\right)$"
      ],
      "text/plain": [
       "<IPython.core.display.Math object>"
      ]
     },
     "metadata": {},
     "output_type": "display_data"
    },
    {
     "name": "stdout",
     "output_type": "stream",
     "text": [
      "MSE between formula parameters is 1.2150739361904037\n",
      "FAILURE\n",
      "\n",
      "\n",
      "----------------------------Exploring new formula #4----------------------------\n",
      "  Initialization #1\n",
      "  Finished run #1, loss 0.011804090812802315, best loss 0.011804090812802315\n",
      "  Initialization #2\n",
      "  Finished run #2, loss 0.0007301989244297147, best loss 0.0007301989244297147\n",
      "  Initialization #3\n",
      "  Finished run #3, loss 0.000764265249017626, best loss 0.0007301989244297147\n",
      "  Initialization #4\n",
      "  Finished run #4, loss 0.0071419477462768555, best loss 0.0007301989244297147\n",
      "1 minutes 23 seconds passed from the start, the iteration took 17 seconds\n",
      "ground truth and obtained formula\n"
     ]
    },
    {
     "data": {
      "text/latex": [
       "$\\displaystyle -0.453x_{1}^{1.5}+0.325x_{2}^{0.5}-0.056x_{3}^{4.0}-0.714x_{4}^{2.5}-0.393$"
      ],
      "text/plain": [
       "<IPython.core.display.Math object>"
      ]
     },
     "metadata": {},
     "output_type": "display_data"
    },
    {
     "data": {
      "text/latex": [
       "$\\displaystyle \\left(0.585x_1^{-0.135} + 0.205x_2^{0.329}-0.417x_3^{-0.086}-0.795x_4^{3.690}-0.729\\right)$"
      ],
      "text/plain": [
       "<IPython.core.display.Math object>"
      ]
     },
     "metadata": {},
     "output_type": "display_data"
    },
    {
     "name": "stdout",
     "output_type": "stream",
     "text": [
      "MSE between formula parameters is 2.4612610982659513\n",
      "FAILURE\n",
      "\n",
      "\n",
      "----------------------------Exploring new formula #5----------------------------\n",
      "  Initialization #1\n",
      "  Finished run #1, loss 0.0012875025859102607, best loss 0.0012875025859102607\n",
      "  Initialization #2\n",
      "  Finished run #2, loss 0.001006915932521224, best loss 0.001006915932521224\n",
      "  Initialization #3\n",
      "    Epoch 5000, current loss 0.0256, current formula \\left(-3.293x_1^{-0.040} + 0.776x_2^{0.201}-5.844x_3^{0.032} + 5.734x_4^{-0.128} + 0.623\\right)\n",
      "    Epoch 10000, current loss 0.0237, current formula \\left(-3.858x_1^{-0.035} + 0.937x_2^{0.158}-7.078x_3^{0.025} + 7.372x_4^{-0.103} + 0.611\\right)\n",
      "  Finished run #3, loss 0.023730400949716568, best loss 0.001006915932521224\n",
      "  Initialization #4\n",
      "  Finished run #4, loss 0.00011391549924155697, best loss 0.00011391549924155697\n",
      "1 minutes 47 seconds passed from the start, the iteration took 24 seconds\n",
      "ground truth and obtained formula\n"
     ]
    },
    {
     "data": {
      "text/latex": [
       "$\\displaystyle 0.153x_{1}^{2.0}+0.671x_{2}^{5.5}+0.104x_{3}^{5.5}-1.897x_{4}^{1.0}-0.675$"
      ],
      "text/plain": [
       "<IPython.core.display.Math object>"
      ]
     },
     "metadata": {},
     "output_type": "display_data"
    },
    {
     "data": {
      "text/latex": [
       "$\\displaystyle \\left(-2.435x_1^{-0.011} + 0.489x_2^{4.238} + 0.323x_3^{36.670}-2.054x_4^{0.924} + 1.973\\right)$"
      ],
      "text/plain": [
       "<IPython.core.display.Math object>"
      ]
     },
     "metadata": {},
     "output_type": "display_data"
    },
    {
     "name": "stdout",
     "output_type": "stream",
     "text": [
      "MSE between formula parameters is 110.11759320343948\n",
      "FAILURE\n",
      "\n",
      "################################################################################\n",
      "MSEs between parameters:\n",
      "[6.5003843836475, 4.605298030402427, 1.2150739361904037, 2.4612610982659513, 110.11759320343948]\n",
      "For 0 formulas out of 5 the error is less than 1e-05.\n",
      "\n",
      "\n",
      "----------------------------Exploring new formula #1----------------------------\n",
      "  Initialization #1\n",
      "  Finished run #1, loss 3.3868968074557415e-08, best loss 3.3868968074557415e-08\n",
      "loss is smaller than 1e-05, terminating learning process\n",
      "3 seconds passed from the start, the iteration took 3 seconds\n",
      "ground truth and obtained formula\n"
     ]
    },
    {
     "data": {
      "text/latex": [
       "$\\displaystyle -0.731x_{1}^{1.167}-0.846x_{2}^{1.167}-0.394x_{3}^{4.333}-0.604x_{4}^{2.5}-0.948$"
      ],
      "text/plain": [
       "<IPython.core.display.Math object>"
      ]
     },
     "metadata": {},
     "output_type": "display_data"
    },
    {
     "data": {
      "text/latex": [
       "$\\displaystyle \\left(-0.734x_1^{1.171}-0.847x_2^{1.162}-0.394x_3^{4.300}-0.605x_4^{2.509}-0.947\\right)$"
      ],
      "text/plain": [
       "<IPython.core.display.Math object>"
      ]
     },
     "metadata": {},
     "output_type": "display_data"
    },
    {
     "name": "stdout",
     "output_type": "stream",
     "text": [
      "MSE between formula parameters is 0.0001386414739224209\n",
      "FAILURE\n",
      "\n",
      "\n",
      "----------------------------Exploring new formula #2----------------------------\n",
      "  Initialization #1\n",
      "    Epoch 5000, current loss 0.01, current formula \\left(5.142x_1^{6.509}-16.380x_2^{9.494} + 3.008x_3^{-0.145} + 14.449x_4^{12.516}-3.739\\right)\n",
      "  Finished run #1, loss 0.00966721959412098, best loss 0.00966721959412098\n",
      "  Initialization #2\n",
      "  Finished run #2, loss 0.0003343560383655131, best loss 0.0003343560383655131\n",
      "  Initialization #3\n",
      "    Epoch 5000, current loss 0.0163, current formula \\left(-3.934x_1^{-0.001} + 0.503x_2^{2.362} + 3.018x_3^{-0.126} + 2.024x_4^{0.055}-1.584\\right)\n",
      "  Finished run #3, loss 0.015786634758114815, best loss 0.0003343560383655131\n",
      "  Initialization #4\n",
      "  Finished run #4, loss 0.0007598050870001316, best loss 0.0003343560383655131\n",
      "32 seconds passed from the start, the iteration took 29 seconds\n",
      "ground truth and obtained formula\n"
     ]
    },
    {
     "data": {
      "text/latex": [
       "$\\displaystyle 0.05x_{1}^{4.917}+0.559x_{2}^{3.083}-0.989x_{3}^{2.25}+0.42x_{4}^{2.417}+0.088$"
      ],
      "text/plain": [
       "<IPython.core.display.Math object>"
      ]
     },
     "metadata": {},
     "output_type": "display_data"
    },
    {
     "data": {
      "text/latex": [
       "$\\displaystyle \\left(-0.122x_1^{2.138} + 0.999x_2^{3.844}-0.954x_3^{2.467} + 1.132x_4^{0.117}-0.851\\right)$"
      ],
      "text/plain": [
       "<IPython.core.display.Math object>"
      ]
     },
     "metadata": {},
     "output_type": "display_data"
    },
    {
     "name": "stdout",
     "output_type": "stream",
     "text": [
      "MSE between formula parameters is 1.69486027161937\n",
      "FAILURE\n",
      "\n",
      "\n",
      "----------------------------Exploring new formula #3----------------------------\n",
      "  Initialization #1\n",
      "  Finished run #1, loss 0.000575774465687573, best loss 0.000575774465687573\n",
      "  Initialization #2\n",
      "  Finished run #2, loss 0.0003332512569613755, best loss 0.0003332512569613755\n",
      "  Initialization #3\n",
      "    Epoch 5000, current loss 0.0157, current formula \\left(0.000x_1^{-4.979}-1.321x_2^{-0.643}-0.239x_3^{1.691} + 1.504x_4^{0.186} + 1.399\\right)\n",
      "    Epoch 10000, current loss 0.0157, current formula \\left(0.000x_1^{-4.979}-1.321x_2^{-0.643}-0.239x_3^{1.691} + 1.504x_4^{0.186} + 1.399\\right)\n",
      "  Finished run #3, loss 0.015670517459511757, best loss 0.0003332512569613755\n",
      "  Initialization #4\n",
      "    Epoch 5000, current loss 0.0135, current formula \\left(3.306x_1^{-0.049}-3.248x_2^{-0.328}-1.020x_3^{0.109} + 2.575x_4^{0.079}-0.283\\right)\n",
      "    Epoch 10000, current loss 0.0123, current formula \\left(3.487x_1^{-0.047}-4.454x_2^{-0.253}-1.281x_3^{0.083} + 2.674x_4^{0.076} + 0.920\\right)\n",
      "  Finished run #4, loss 0.012253896333277225, best loss 0.0003332512569613755\n",
      "1 minutes 8 seconds passed from the start, the iteration took 35 seconds\n",
      "ground truth and obtained formula\n"
     ]
    },
    {
     "data": {
      "text/latex": [
       "$\\displaystyle -0.56x_{1}^{3.333}+1.333x_{2}^{2.917}-0.473x_{3}^{2.417}+1.473x_{4}^{3.583}+0.299$"
      ],
      "text/plain": [
       "<IPython.core.display.Math object>"
      ]
     },
     "metadata": {},
     "output_type": "display_data"
    },
    {
     "data": {
      "text/latex": [
       "$\\displaystyle \\left(-0.835x_1^{0.339} + 1.696x_2^{2.033}-0.430x_3^{0.326} + 1.309x_4^{3.306} + 0.730\\right)$"
      ],
      "text/plain": [
       "<IPython.core.display.Math object>"
      ]
     },
     "metadata": {},
     "output_type": "display_data"
    },
    {
     "name": "stdout",
     "output_type": "stream",
     "text": [
      "MSE between formula parameters is 1.6242900470176669\n",
      "FAILURE\n",
      "\n",
      "\n",
      "----------------------------Exploring new formula #4----------------------------\n",
      "  Initialization #1\n",
      "  Finished run #1, loss 0.019842952489852905, best loss 0.019842952489852905\n",
      "  Initialization #2\n",
      "    Epoch 5000, current loss 0.0247, current formula \\left(-0.262x_1^{-0.279}-0.644x_2^{-0.347}-1.573x_3^{-0.125} + 1.389x_4^{13.972} + 4.352\\right)\n",
      "    Epoch 10000, current loss 0.0243, current formula \\left(-0.341x_1^{-0.224}-0.844x_2^{-0.286}-2.148x_3^{-0.097} + 1.415x_4^{14.784} + 5.223\\right)\n",
      "  Finished run #2, loss 0.02427283674478531, best loss 0.019842952489852905\n",
      "  Initialization #3\n",
      "  Finished run #3, loss 0.012245653197169304, best loss 0.012245653197169304\n",
      "  Initialization #4\n",
      "  Finished run #4, loss 0.0020162262953817844, best loss 0.0020162262953817844\n",
      "1 minutes 36 seconds passed from the start, the iteration took 28 seconds\n",
      "ground truth and obtained formula\n"
     ]
    },
    {
     "data": {
      "text/latex": [
       "$\\displaystyle -0.054x_{1}^{0.667}+0.695x_{2}^{1.25}+1.858x_{3}^{5.583}+0.808x_{4}^{5.417}+0.886$"
      ],
      "text/plain": [
       "<IPython.core.display.Math object>"
      ]
     },
     "metadata": {},
     "output_type": "display_data"
    },
    {
     "data": {
      "text/latex": [
       "$\\displaystyle \\left(0.935x_1^{5.912}-0.699x_2^{-0.413} + 2.063x_3^{6.948} + 1.207x_4^{12.844} + 2.141\\right)$"
      ],
      "text/plain": [
       "<IPython.core.display.Math object>"
      ]
     },
     "metadata": {},
     "output_type": "display_data"
    },
    {
     "name": "stdout",
     "output_type": "stream",
     "text": [
      "MSE between formula parameters is 10.223296611795408\n",
      "FAILURE\n",
      "\n",
      "\n",
      "----------------------------Exploring new formula #5----------------------------\n",
      "  Initialization #1\n",
      "  Finished run #1, loss 0.0014055328210815787, best loss 0.0014055328210815787\n",
      "  Initialization #2\n",
      "  Finished run #2, loss 0.004357134457677603, best loss 0.0014055328210815787\n",
      "  Initialization #3\n",
      "  Finished run #3, loss 7.727263437118381e-05, best loss 7.727263437118381e-05\n",
      "  Initialization #4\n",
      "  Finished run #4, loss 2.3921809315652354e-06, best loss 2.3921809315652354e-06\n",
      "loss is smaller than 1e-05, terminating learning process\n",
      "1 minutes 46 seconds passed from the start, the iteration took 10 seconds\n",
      "ground truth and obtained formula\n"
     ]
    },
    {
     "data": {
      "text/latex": [
       "$\\displaystyle 0.762x_{1}^{2.333}+0.454x_{2}^{3.583}-0.562x_{3}^{0.833}+0.584x_{4}^{2.833}+0.259$"
      ],
      "text/plain": [
       "<IPython.core.display.Math object>"
      ]
     },
     "metadata": {},
     "output_type": "display_data"
    },
    {
     "data": {
      "text/latex": [
       "$\\displaystyle \\left(0.731x_1^{2.270} + 0.459x_2^{3.638}-0.526x_3^{0.992} + 0.753x_4^{3.160} + 0.216\\right)$"
      ],
      "text/plain": [
       "<IPython.core.display.Math object>"
      ]
     },
     "metadata": {},
     "output_type": "display_data"
    },
    {
     "name": "stdout",
     "output_type": "stream",
     "text": [
      "MSE between formula parameters is 0.019079631852477224\n",
      "FAILURE\n",
      "\n",
      "################################################################################\n",
      "MSEs between parameters:\n",
      "[0.0001386414739224209, 1.69486027161937, 1.6242900470176669, 10.223296611795408, 0.019079631852477224]\n",
      "For 0 formulas out of 5 the error is less than 1e-05.\n",
      "\n",
      "\n",
      "----------------------------Exploring new formula #1----------------------------\n",
      "  Initialization #1\n",
      "    Epoch 5000, current loss 0.127, current formula \\left(-5.511x_1^{-0.050}-0.796x_2^{13.265} + 5.657\\right)\n",
      "    Epoch 10000, current loss 0.125, current formula \\left(-8.817x_1^{-0.033}-0.784x_2^{12.925} + 8.972\\right)\n",
      "  Finished run #1, loss 0.12529638409614563, best loss 0.12529638409614563\n",
      "  Initialization #2\n",
      "  Finished run #2, loss 0.0036273174919188023, best loss 0.0036273174919188023\n",
      "  Initialization #3\n",
      "  Finished run #3, loss 0.14191946387290955, best loss 0.0036273174919188023\n",
      "  Initialization #4\n",
      "    Epoch 5000, current loss 0.127, current formula \\left(-6.055x_1^{-0.046}-0.793x_2^{13.188} + 6.202\\right)\n",
      "    Epoch 10000, current loss 0.125, current formula \\left(-9.109x_1^{-0.032}-0.783x_2^{12.912} + 9.264\\right)\n",
      "  Finished run #4, loss 0.1251956820487976, best loss 0.0036273174919188023\n",
      "30 seconds passed from the start, the iteration took 30 seconds\n",
      "ground truth and obtained formula\n"
     ]
    },
    {
     "data": {
      "text/latex": [
       "$\\displaystyle 1.56x_{1}^{3.0}-0.324x_{2}^{6.0}-0.558$"
      ],
      "text/plain": [
       "<IPython.core.display.Math object>"
      ]
     },
     "metadata": {},
     "output_type": "display_data"
    },
    {
     "data": {
      "text/latex": [
       "$\\displaystyle \\left(1.590x_1^{3.087}-1.178x_2^{0.025} + 0.543\\right)$"
      ],
      "text/plain": [
       "<IPython.core.display.Math object>"
      ]
     },
     "metadata": {},
     "output_type": "display_data"
    },
    {
     "name": "stdout",
     "output_type": "stream",
     "text": [
      "MSE between formula parameters is 7.531100623126866\n",
      "FAILURE\n",
      "\n",
      "\n",
      "----------------------------Exploring new formula #2----------------------------\n",
      "  Initialization #1\n",
      "  Finished run #1, loss 0.001878166338428855, best loss 0.001878166338428855\n",
      "  Initialization #2\n",
      "    Epoch 5000, current loss 0.0709, current formula \\left(5.676x_1^{-0.057} + 0.344x_2^{2.045}-6.213\\right)\n",
      "    Epoch 10000, current loss 0.0691, current formula \\left(8.955x_1^{-0.038} + 0.343x_2^{2.010}-9.503\\right)\n",
      "  Finished run #2, loss 0.06914134323596954, best loss 0.001878166338428855\n",
      "  Initialization #3\n",
      "  Finished run #3, loss 0.0018842980498448014, best loss 0.001878166338428855\n",
      "  Initialization #4\n",
      "  Finished run #4, loss 9.911960575231804e-13, best loss 9.911960575231804e-13\n",
      "loss is smaller than 1e-05, terminating learning process\n",
      "47 seconds passed from the start, the iteration took 17 seconds\n",
      "ground truth and obtained formula\n"
     ]
    },
    {
     "data": {
      "text/latex": [
       "$\\displaystyle -1.35x_{1}^{2.0}+0.281x_{2}^{1.0}+0.261$"
      ],
      "text/plain": [
       "<IPython.core.display.Math object>"
      ]
     },
     "metadata": {},
     "output_type": "display_data"
    },
    {
     "data": {
      "text/latex": [
       "$\\displaystyle \\left(-1.350x_1^{2.000} + 0.281x_2^{1.000} + 0.261\\right)$"
      ],
      "text/plain": [
       "<IPython.core.display.Math object>"
      ]
     },
     "metadata": {},
     "output_type": "display_data"
    },
    {
     "name": "stdout",
     "output_type": "stream",
     "text": [
      "MSE between formula parameters is 7.053646555732485e-11\n",
      "EXACT RECOVERY\n",
      "\n",
      "\n",
      "----------------------------Exploring new formula #3----------------------------\n",
      "  Initialization #1\n",
      "    Epoch 5000, current loss 0.117, current formula \\left(-12.416x_1^{-0.031} + 11.243x_2^{-0.019} + 1.578\\right)\n",
      "    Epoch 10000, current loss 0.115, current formula \\left(-18.162x_1^{-0.022} + 16.935x_2^{-0.012} + 1.621\\right)\n",
      "  Finished run #1, loss 0.11457331478595734, best loss 0.11457331478595734\n",
      "  Initialization #2\n",
      "  Finished run #2, loss 6.113544566421769e-12, best loss 6.113544566421769e-12\n",
      "loss is smaller than 1e-05, terminating learning process\n",
      "1 minutes 0 seconds passed from the start, the iteration took 13 seconds\n",
      "ground truth and obtained formula\n"
     ]
    },
    {
     "data": {
      "text/latex": [
       "$\\displaystyle 1.615x_{1}^{2.0}-0.817x_{2}^{1.0}+0.078$"
      ],
      "text/plain": [
       "<IPython.core.display.Math object>"
      ]
     },
     "metadata": {},
     "output_type": "display_data"
    },
    {
     "data": {
      "text/latex": [
       "$\\displaystyle \\left(1.615x_1^{2.000}-0.817x_2^{1.000} + 0.078\\right)$"
      ],
      "text/plain": [
       "<IPython.core.display.Math object>"
      ]
     },
     "metadata": {},
     "output_type": "display_data"
    },
    {
     "name": "stdout",
     "output_type": "stream",
     "text": [
      "MSE between formula parameters is 7.92332532917328e-11\n",
      "EXACT RECOVERY\n",
      "\n",
      "\n",
      "----------------------------Exploring new formula #4----------------------------\n",
      "  Initialization #1\n",
      "    Epoch 5000, current loss 0.00715, current formula \\left(2.997x_1^{-0.073}-3.145x_2^{0.034}-0.217\\right)\n",
      "    Epoch 10000, current loss 0.00702, current formula \\left(3.892x_1^{-0.058}-3.140x_2^{0.034}-1.119\\right)\n",
      "  Finished run #1, loss 0.007015948183834553, best loss 0.007015948183834553\n",
      "  Initialization #2\n",
      "    Epoch 5000, current loss 0.00518, current formula \\left(1.880x_1^{-0.107}-0.406x_2^{0.782}-1.902\\right)\n",
      "    Epoch 10000, current loss 0.00483, current formula \\left(2.987x_1^{-0.071}-0.402x_2^{0.805}-3.020\\right)\n",
      "  Finished run #2, loss 0.004832119215279818, best loss 0.004832119215279818\n",
      "  Initialization #3\n",
      "  Finished run #3, loss 0.008757279254496098, best loss 0.004832119215279818\n",
      "  Initialization #4\n",
      "    Epoch 5000, current loss 0.00872, current formula \\left(1.498x_1^{-0.134} + 1.042x_2^{-0.072}-2.876\\right)\n",
      "  Finished run #4, loss 0.008707528002560139, best loss 0.004832119215279818\n",
      "1 minutes 35 seconds passed from the start, the iteration took 34 seconds\n",
      "ground truth and obtained formula\n"
     ]
    },
    {
     "data": {
      "text/latex": [
       "$\\displaystyle -0.707x_{1}^{1.0}-0.401x_{2}^{1.0}+0.502$"
      ],
      "text/plain": [
       "<IPython.core.display.Math object>"
      ]
     },
     "metadata": {},
     "output_type": "display_data"
    },
    {
     "data": {
      "text/latex": [
       "$\\displaystyle \\left(2.987x_1^{-0.071}-0.402x_2^{0.805}-3.021\\right)$"
      ],
      "text/plain": [
       "<IPython.core.display.Math object>"
      ]
     },
     "metadata": {},
     "output_type": "display_data"
    },
    {
     "name": "stdout",
     "output_type": "stream",
     "text": [
      "MSE between formula parameters is 5.449175883655885\n",
      "FAILURE\n",
      "\n",
      "\n",
      "----------------------------Exploring new formula #5----------------------------\n",
      "  Initialization #1\n",
      "  Finished run #1, loss 1.8763391448212152e-12, best loss 1.8763391448212152e-12\n",
      "loss is smaller than 1e-05, terminating learning process\n",
      "1 minutes 37 seconds passed from the start, the iteration took 2 seconds\n",
      "ground truth and obtained formula\n"
     ]
    },
    {
     "data": {
      "text/latex": [
       "$\\displaystyle -0.702x_{1}^{4.0}+0.271x_{2}^{4.0}-0.435$"
      ],
      "text/plain": [
       "<IPython.core.display.Math object>"
      ]
     },
     "metadata": {},
     "output_type": "display_data"
    },
    {
     "data": {
      "text/latex": [
       "$\\displaystyle \\left(-0.702x_1^{4.000} + 0.271x_2^{4.000}-0.435\\right)$"
      ],
      "text/plain": [
       "<IPython.core.display.Math object>"
      ]
     },
     "metadata": {},
     "output_type": "display_data"
    },
    {
     "name": "stdout",
     "output_type": "stream",
     "text": [
      "MSE between formula parameters is 8.052113642520453e-10\n",
      "EXACT RECOVERY\n",
      "\n",
      "################################################################################\n",
      "MSEs between parameters:\n",
      "[7.531100623126866, 7.053646555732485e-11, 7.92332532917328e-11, 5.449175883655885, 8.052113642520453e-10]\n",
      "For 3 formulas out of 5 the error is less than 1e-05.\n",
      "\n",
      "\n",
      "----------------------------Exploring new formula #1----------------------------\n",
      "  Initialization #1\n",
      "    Epoch 5000, current loss 0.0264, current formula \\left(-3.458x_1^{-0.077} + 0.296x_2^{2.849} + 3.941\\right)\n",
      "    Epoch 10000, current loss 0.0255, current formula \\left(-5.275x_1^{-0.053} + 0.295x_2^{2.867} + 5.764\\right)\n",
      "  Finished run #1, loss 0.025542933493852615, best loss 0.025542933493852615\n",
      "  Initialization #2\n",
      "  Finished run #2, loss 5.713733522774711e-13, best loss 5.713733522774711e-13\n",
      "loss is smaller than 1e-05, terminating learning process\n",
      "14 seconds passed from the start, the iteration took 14 seconds\n",
      "ground truth and obtained formula\n"
     ]
    },
    {
     "data": {
      "text/latex": [
       "$\\displaystyle 0.968x_{1}^{2.0}+0.252x_{2}^{3.0}-0.106$"
      ],
      "text/plain": [
       "<IPython.core.display.Math object>"
      ]
     },
     "metadata": {},
     "output_type": "display_data"
    },
    {
     "data": {
      "text/latex": [
       "$\\displaystyle \\left(0.968x_1^{2.000} + 0.252x_2^{3.000}-0.106\\right)$"
      ],
      "text/plain": [
       "<IPython.core.display.Math object>"
      ]
     },
     "metadata": {},
     "output_type": "display_data"
    },
    {
     "name": "stdout",
     "output_type": "stream",
     "text": [
      "MSE between formula parameters is 1.843663000045126e-10\n",
      "EXACT RECOVERY\n",
      "\n",
      "\n",
      "----------------------------Exploring new formula #2----------------------------\n",
      "  Initialization #1\n",
      "    Epoch 5000, current loss 0.033, current formula \\left(-6.953x_1^{-0.099}-1.814x_2^{1.124} + 8.235\\right)\n",
      "    Epoch 10000, current loss 0.0298, current formula \\left(-10.191x_1^{-0.071}-1.817x_2^{1.115} + 11.492\\right)\n",
      "  Finished run #1, loss 0.029758377000689507, best loss 0.029758377000689507\n",
      "  Initialization #2\n",
      "  Finished run #2, loss 2.82306933385712e-09, best loss 2.82306933385712e-09\n",
      "loss is smaller than 1e-05, terminating learning process\n",
      "27 seconds passed from the start, the iteration took 13 seconds\n",
      "ground truth and obtained formula\n"
     ]
    },
    {
     "data": {
      "text/latex": [
       "$\\displaystyle 2.999x_{1}^{0.5}-1.839x_{2}^{1.0}-1.386$"
      ],
      "text/plain": [
       "<IPython.core.display.Math object>"
      ]
     },
     "metadata": {},
     "output_type": "display_data"
    },
    {
     "data": {
      "text/latex": [
       "$\\displaystyle \\left(2.998x_1^{0.500}-1.840x_2^{1.000}-1.385\\right)$"
      ],
      "text/plain": [
       "<IPython.core.display.Math object>"
      ]
     },
     "metadata": {},
     "output_type": "display_data"
    },
    {
     "name": "stdout",
     "output_type": "stream",
     "text": [
      "MSE between formula parameters is 1.880616345317776e-07\n",
      "EXACT RECOVERY\n",
      "\n",
      "\n",
      "----------------------------Exploring new formula #3----------------------------\n",
      "  Initialization #1\n",
      "  Finished run #1, loss 2.4263614121361465e-12, best loss 2.4263614121361465e-12\n",
      "loss is smaller than 1e-05, terminating learning process\n",
      "28 seconds passed from the start, the iteration took 1 seconds\n",
      "ground truth and obtained formula\n"
     ]
    },
    {
     "data": {
      "text/latex": [
       "$\\displaystyle -0.149x_{1}^{5.0}+1.091x_{2}^{4.0}+1.604$"
      ],
      "text/plain": [
       "<IPython.core.display.Math object>"
      ]
     },
     "metadata": {},
     "output_type": "display_data"
    },
    {
     "data": {
      "text/latex": [
       "$\\displaystyle \\left(-0.149x_1^{5.000} + 1.091x_2^{4.000} + 1.604\\right)$"
      ],
      "text/plain": [
       "<IPython.core.display.Math object>"
      ]
     },
     "metadata": {},
     "output_type": "display_data"
    },
    {
     "name": "stdout",
     "output_type": "stream",
     "text": [
      "MSE between formula parameters is 3.297966788551321e-10\n",
      "EXACT RECOVERY\n",
      "\n",
      "\n",
      "----------------------------Exploring new formula #4----------------------------\n",
      "  Initialization #1\n",
      "  Finished run #1, loss 0.0012326539726927876, best loss 0.0012326539726927876\n",
      "  Initialization #2\n",
      "  Finished run #2, loss 0.003019830211997032, best loss 0.0012326539726927876\n",
      "  Initialization #3\n",
      "    Epoch 5000, current loss 0.00123, current formula \\left(-0.208x_1^{2.938} + 1.407x_2^{-0.021}-1.138\\right)\n",
      "  Finished run #3, loss 0.0012344189453870058, best loss 0.0012326539726927876\n",
      "  Initialization #4\n",
      "  Finished run #4, loss 0.0016851021209731698, best loss 0.0012326539726927876\n",
      "39 seconds passed from the start, the iteration took 11 seconds\n",
      "ground truth and obtained formula\n"
     ]
    },
    {
     "data": {
      "text/latex": [
       "$\\displaystyle -0.201x_{1}^{3.0}-0.168x_{2}^{3.5}+0.331$"
      ],
      "text/plain": [
       "<IPython.core.display.Math object>"
      ]
     },
     "metadata": {},
     "output_type": "display_data"
    },
    {
     "data": {
      "text/latex": [
       "$\\displaystyle \\left(-0.207x_1^{2.937} + 1.535x_2^{-0.020}-1.266\\right)$"
      ],
      "text/plain": [
       "<IPython.core.display.Math object>"
      ]
     },
     "metadata": {},
     "output_type": "display_data"
    },
    {
     "name": "stdout",
     "output_type": "stream",
     "text": [
      "MSE between formula parameters is 3.568464271337519\n",
      "FAILURE\n",
      "\n",
      "\n",
      "----------------------------Exploring new formula #5----------------------------\n",
      "  Initialization #1\n",
      "    Epoch 5000, current loss 0.00273, current formula \\left(-1.059x_1^{0.070}-1.842x_2^{5.066} + 0.260\\right)\n",
      "  Finished run #1, loss 6.57358607651648e-13, best loss 6.57358607651648e-13\n",
      "loss is smaller than 1e-05, terminating learning process\n",
      "48 seconds passed from the start, the iteration took 9 seconds\n",
      "ground truth and obtained formula\n"
     ]
    },
    {
     "data": {
      "text/latex": [
       "$\\displaystyle -0.272x_{1}^{2.5}-1.791x_{2}^{5.0}-0.655$"
      ],
      "text/plain": [
       "<IPython.core.display.Math object>"
      ]
     },
     "metadata": {},
     "output_type": "display_data"
    },
    {
     "data": {
      "text/latex": [
       "$\\displaystyle \\left(-0.272x_1^{2.500}-1.791x_2^{5.000}-0.655\\right)$"
      ],
      "text/plain": [
       "<IPython.core.display.Math object>"
      ]
     },
     "metadata": {},
     "output_type": "display_data"
    },
    {
     "name": "stdout",
     "output_type": "stream",
     "text": [
      "MSE between formula parameters is 6.690132892117617e-11\n",
      "EXACT RECOVERY\n",
      "\n",
      "################################################################################\n",
      "MSEs between parameters:\n",
      "[1.843663000045126e-10, 1.880616345317776e-07, 3.297966788551321e-10, 3.568464271337519, 6.690132892117617e-11]\n",
      "For 4 formulas out of 5 the error is less than 1e-05.\n",
      "\n",
      "\n",
      "----------------------------Exploring new formula #1----------------------------\n",
      "  Initialization #1\n",
      "  Finished run #1, loss 2.861791472241748e-05, best loss 2.861791472241748e-05\n",
      "  Initialization #2\n",
      "  Finished run #2, loss 2.975691131723579e-05, best loss 2.861791472241748e-05\n",
      "  Initialization #3\n",
      "  Finished run #3, loss 0.0016963813686743379, best loss 2.861791472241748e-05\n",
      "  Initialization #4\n",
      "  Finished run #4, loss 4.3873173323494274e-12, best loss 4.3873173323494274e-12\n",
      "loss is smaller than 1e-05, terminating learning process\n",
      "5 seconds passed from the start, the iteration took 5 seconds\n",
      "ground truth and obtained formula\n"
     ]
    },
    {
     "data": {
      "text/latex": [
       "$\\displaystyle -0.238x_{1}^{2.167}-0.028x_{2}^{1.667}-1.537$"
      ],
      "text/plain": [
       "<IPython.core.display.Math object>"
      ]
     },
     "metadata": {},
     "output_type": "display_data"
    },
    {
     "data": {
      "text/latex": [
       "$\\displaystyle \\left(-0.238x_1^{2.167}-0.028x_2^{1.667}-1.537\\right)$"
      ],
      "text/plain": [
       "<IPython.core.display.Math object>"
      ]
     },
     "metadata": {},
     "output_type": "display_data"
    },
    {
     "name": "stdout",
     "output_type": "stream",
     "text": [
      "MSE between formula parameters is 1.0829126438072212e-07\n",
      "EXACT RECOVERY\n",
      "\n",
      "\n",
      "----------------------------Exploring new formula #2----------------------------\n",
      "  Initialization #1\n",
      "  Finished run #1, loss 3.4459212826937202e-12, best loss 3.4459212826937202e-12\n",
      "loss is smaller than 1e-05, terminating learning process\n",
      "7 seconds passed from the start, the iteration took 2 seconds\n",
      "ground truth and obtained formula\n"
     ]
    },
    {
     "data": {
      "text/latex": [
       "$\\displaystyle -0.848x_{1}^{2.5}+0.344x_{2}^{2.417}+0.063$"
      ],
      "text/plain": [
       "<IPython.core.display.Math object>"
      ]
     },
     "metadata": {},
     "output_type": "display_data"
    },
    {
     "data": {
      "text/latex": [
       "$\\displaystyle \\left(-0.848x_1^{2.500} + 0.344x_2^{2.417} + 0.063\\right)$"
      ],
      "text/plain": [
       "<IPython.core.display.Math object>"
      ]
     },
     "metadata": {},
     "output_type": "display_data"
    },
    {
     "name": "stdout",
     "output_type": "stream",
     "text": [
      "MSE between formula parameters is 1.0114976523034614e-09\n",
      "EXACT RECOVERY\n",
      "\n",
      "\n",
      "----------------------------Exploring new formula #3----------------------------\n",
      "  Initialization #1\n",
      "  Finished run #1, loss 1.4445226042880677e-05, best loss 1.4445226042880677e-05\n",
      "  Initialization #2\n",
      "  Finished run #2, loss 1.046250599756604e-05, best loss 1.046250599756604e-05\n",
      "  Initialization #3\n",
      "  Finished run #3, loss 0.0001643597352085635, best loss 1.046250599756604e-05\n",
      "  Initialization #4\n",
      "  Finished run #4, loss 0.0001760540035320446, best loss 1.046250599756604e-05\n",
      "12 seconds passed from the start, the iteration took 6 seconds\n",
      "ground truth and obtained formula\n"
     ]
    },
    {
     "data": {
      "text/latex": [
       "$\\displaystyle -0.728x_{1}^{0.167}+0.062x_{2}^{5.917}-0.487$"
      ],
      "text/plain": [
       "<IPython.core.display.Math object>"
      ]
     },
     "metadata": {},
     "output_type": "display_data"
    },
    {
     "data": {
      "text/latex": [
       "$\\displaystyle \\left(-0.512x_1^{0.266} + 0.062x_2^{5.709}-0.707\\right)$"
      ],
      "text/plain": [
       "<IPython.core.display.Math object>"
      ]
     },
     "metadata": {},
     "output_type": "display_data"
    },
    {
     "name": "stdout",
     "output_type": "stream",
     "text": [
      "MSE between formula parameters is 0.02958196366300584\n",
      "FAILURE\n",
      "\n",
      "\n",
      "----------------------------Exploring new formula #4----------------------------\n",
      "  Initialization #1\n",
      "    Epoch 5000, current loss 0.000964, current formula \\left(2.211x_1^{-0.036} + 0.488x_2^{4.097}-1.664\\right)\n",
      "  Finished run #1, loss 0.0009579181205481291, best loss 0.0009579181205481291\n",
      "  Initialization #2\n",
      "    Epoch 5000, current loss 0.0134, current formula \\left(1.804x_1^{-0.047} + 1.985x_2^{0.052}-3.051\\right)\n",
      "  Finished run #2, loss 0.0009359958930872381, best loss 0.0009359958930872381\n",
      "  Initialization #3\n",
      "    Epoch 5000, current loss 0.0124, current formula \\left(-0.306x_1^{1.068}-2.125x_2^{-0.034} + 3.078\\right)\n",
      "    Epoch 10000, current loss 0.0123, current formula \\left(-0.306x_1^{1.063}-3.320x_2^{-0.023} + 4.276\\right)\n",
      "  Finished run #3, loss 0.012292807921767235, best loss 0.0009359958930872381\n",
      "  Initialization #4\n",
      "  Finished run #4, loss 0.0011551176430657506, best loss 0.0009359958930872381\n",
      "44 seconds passed from the start, the iteration took 32 seconds\n",
      "ground truth and obtained formula\n"
     ]
    },
    {
     "data": {
      "text/latex": [
       "$\\displaystyle -0.276x_{1}^{0.917}+0.472x_{2}^{4.0}+0.774$"
      ],
      "text/plain": [
       "<IPython.core.display.Math object>"
      ]
     },
     "metadata": {},
     "output_type": "display_data"
    },
    {
     "data": {
      "text/latex": [
       "$\\displaystyle \\left(3.456x_1^{-0.024} + 0.488x_2^{4.092}-2.910\\right)$"
      ],
      "text/plain": [
       "<IPython.core.display.Math object>"
      ]
     },
     "metadata": {},
     "output_type": "display_data"
    },
    {
     "name": "stdout",
     "output_type": "stream",
     "text": [
      "MSE between formula parameters is 5.678502184501317\n",
      "FAILURE\n",
      "\n",
      "\n",
      "----------------------------Exploring new formula #5----------------------------\n",
      "  Initialization #1\n",
      "  Finished run #1, loss 1.7144130082594189e-12, best loss 1.7144130082594189e-12\n",
      "loss is smaller than 1e-05, terminating learning process\n",
      "46 seconds passed from the start, the iteration took 1 seconds\n",
      "ground truth and obtained formula\n"
     ]
    },
    {
     "data": {
      "text/latex": [
       "$\\displaystyle 1.709x_{1}^{3.0}+0.693x_{2}^{2.333}-0.215$"
      ],
      "text/plain": [
       "<IPython.core.display.Math object>"
      ]
     },
     "metadata": {},
     "output_type": "display_data"
    },
    {
     "data": {
      "text/latex": [
       "$\\displaystyle \\left(1.709x_1^{3.000} + 0.693x_2^{2.333}-0.215\\right)$"
      ],
      "text/plain": [
       "<IPython.core.display.Math object>"
      ]
     },
     "metadata": {},
     "output_type": "display_data"
    },
    {
     "name": "stdout",
     "output_type": "stream",
     "text": [
      "MSE between formula parameters is 2.3630666312612904e-10\n",
      "EXACT RECOVERY\n",
      "\n",
      "################################################################################\n",
      "MSEs between parameters:\n",
      "[1.0829126438072212e-07, 1.0114976523034614e-09, 0.02958196366300584, 5.678502184501317, 2.3630666312612904e-10]\n",
      "For 3 formulas out of 5 the error is less than 1e-05.\n",
      "\n",
      "\n",
      "----------------------------Exploring new formula #1----------------------------\n",
      "  Initialization #1\n",
      "  Finished run #1, loss 0.000875416852068156, best loss 0.000875416852068156\n",
      "  Initialization #2\n",
      "  Finished run #2, loss 2.6066794122509007e-12, best loss 2.6066794122509007e-12\n",
      "loss is smaller than 1e-05, terminating learning process\n",
      "3 seconds passed from the start, the iteration took 3 seconds\n",
      "ground truth and obtained formula\n"
     ]
    },
    {
     "data": {
      "text/latex": [
       "$\\displaystyle 0.726x_{1}^{4.0}-0.885x_{2}^{1.0}-0.165x_{3}^{2.0}-0.749$"
      ],
      "text/plain": [
       "<IPython.core.display.Math object>"
      ]
     },
     "metadata": {},
     "output_type": "display_data"
    },
    {
     "data": {
      "text/latex": [
       "$\\displaystyle \\left(0.726x_1^{4.000}-0.885x_2^{1.000}-0.165x_3^{2.000}-0.749\\right)$"
      ],
      "text/plain": [
       "<IPython.core.display.Math object>"
      ]
     },
     "metadata": {},
     "output_type": "display_data"
    },
    {
     "name": "stdout",
     "output_type": "stream",
     "text": [
      "MSE between formula parameters is 1.1851655212780088e-09\n",
      "EXACT RECOVERY\n",
      "\n",
      "\n",
      "----------------------------Exploring new formula #2----------------------------\n",
      "  Initialization #1\n",
      "  Finished run #1, loss 1.2021637157966225e-11, best loss 1.2021637157966225e-11\n",
      "loss is smaller than 1e-05, terminating learning process\n",
      "5 seconds passed from the start, the iteration took 2 seconds\n",
      "ground truth and obtained formula\n"
     ]
    },
    {
     "data": {
      "text/latex": [
       "$\\displaystyle 0.502x_{1}^{1.0}-0.04x_{2}^{6.0}-0.179x_{3}^{3.0}+0.801$"
      ],
      "text/plain": [
       "<IPython.core.display.Math object>"
      ]
     },
     "metadata": {},
     "output_type": "display_data"
    },
    {
     "data": {
      "text/latex": [
       "$\\displaystyle \\left(0.502x_1^{1.000}-0.040x_2^{5.999}-0.179x_3^{3.000} + 0.801\\right)$"
      ],
      "text/plain": [
       "<IPython.core.display.Math object>"
      ]
     },
     "metadata": {},
     "output_type": "display_data"
    },
    {
     "name": "stdout",
     "output_type": "stream",
     "text": [
      "MSE between formula parameters is 2.811217607768495e-07\n",
      "EXACT RECOVERY\n",
      "\n",
      "\n",
      "----------------------------Exploring new formula #3----------------------------\n",
      "  Initialization #1\n",
      "    Epoch 5000, current loss 0.0112, current formula \\left(0.126x_1^{1.485} + 3.875x_2^{-0.062}-3.604x_3^{0.004}-1.811\\right)\n",
      "  Finished run #1, loss 0.01091558113694191, best loss 0.01091558113694191\n",
      "  Initialization #2\n",
      "  Finished run #2, loss 0.0001540162047604099, best loss 0.0001540162047604099\n",
      "  Initialization #3\n",
      "  Finished run #3, loss 3.499316288124721e-12, best loss 3.499316288124721e-12\n",
      "loss is smaller than 1e-05, terminating learning process\n",
      "26 seconds passed from the start, the iteration took 21 seconds\n",
      "ground truth and obtained formula\n"
     ]
    },
    {
     "data": {
      "text/latex": [
       "$\\displaystyle 0.11x_{1}^{4.0}-0.853x_{2}^{1.0}-0.074x_{3}^{4.0}-0.811$"
      ],
      "text/plain": [
       "<IPython.core.display.Math object>"
      ]
     },
     "metadata": {},
     "output_type": "display_data"
    },
    {
     "data": {
      "text/latex": [
       "$\\displaystyle \\left(0.110x_1^{4.000}-0.853x_2^{1.000}-0.074x_3^{4.000}-0.811\\right)$"
      ],
      "text/plain": [
       "<IPython.core.display.Math object>"
      ]
     },
     "metadata": {},
     "output_type": "display_data"
    },
    {
     "name": "stdout",
     "output_type": "stream",
     "text": [
      "MSE between formula parameters is 7.509513836164875e-09\n",
      "EXACT RECOVERY\n",
      "\n",
      "\n",
      "----------------------------Exploring new formula #4----------------------------\n",
      "  Initialization #1\n",
      "  Finished run #1, loss 1.0129824062898862e-11, best loss 1.0129824062898862e-11\n",
      "loss is smaller than 1e-05, terminating learning process\n",
      "28 seconds passed from the start, the iteration took 3 seconds\n",
      "ground truth and obtained formula\n"
     ]
    },
    {
     "data": {
      "text/latex": [
       "$\\displaystyle 0.352x_{1}^{3.0}+1.636x_{2}^{1.0}-0.751x_{3}^{2.0}-0.282$"
      ],
      "text/plain": [
       "<IPython.core.display.Math object>"
      ]
     },
     "metadata": {},
     "output_type": "display_data"
    },
    {
     "data": {
      "text/latex": [
       "$\\displaystyle \\left(0.352x_1^{3.000} + 1.636x_2^{1.000}-0.751x_3^{2.000}-0.282\\right)$"
      ],
      "text/plain": [
       "<IPython.core.display.Math object>"
      ]
     },
     "metadata": {},
     "output_type": "display_data"
    },
    {
     "name": "stdout",
     "output_type": "stream",
     "text": [
      "MSE between formula parameters is 1.4136235039684054e-09\n",
      "EXACT RECOVERY\n",
      "\n",
      "\n",
      "----------------------------Exploring new formula #5----------------------------\n",
      "  Initialization #1\n",
      "    Epoch 5000, current loss 0.174, current formula \\left(14.094x_1^{-0.011}-0.302x_2^{1.272}-13.899x_3^{-0.010} + 1.276\\right)\n",
      "  Finished run #1, loss 0.17355814576148987, best loss 0.17355814576148987\n",
      "  Initialization #2\n",
      "    Epoch 5000, current loss 0.00826, current formula \\left(-1.325x_1^{1.943} + 1.715x_2^{-0.035} + 1.433x_3^{5.348}-0.198\\right)\n",
      "    Epoch 10000, current loss 0.00818, current formula \\left(-1.325x_1^{1.946} + 2.568x_2^{-0.024} + 1.434x_3^{5.353}-1.054\\right)\n",
      "  Finished run #2, loss 0.008176561444997787, best loss 0.008176561444997787\n",
      "  Initialization #3\n",
      "    Epoch 5000, current loss 0.00824, current formula \\left(-1.325x_1^{1.944} + 1.921x_2^{-0.031} + 1.434x_3^{5.349}-0.405\\right)\n",
      "    Epoch 10000, current loss 0.00817, current formula \\left(-1.325x_1^{1.946} + 2.680x_2^{-0.023} + 1.434x_3^{5.354}-1.166\\right)\n",
      "  Finished run #3, loss 0.0081689627841115, best loss 0.0081689627841115\n",
      "  Initialization #4\n",
      "    Epoch 5000, current loss 0.075, current formula \\left(5.016x_1^{-0.030}-0.560x_2^{2.852} + 1.602x_3^{7.074}-3.857\\right)\n",
      "    Epoch 10000, current loss 0.0739, current formula \\left(7.663x_1^{-0.021}-0.556x_2^{2.847} + 1.601x_3^{7.046}-6.511\\right)\n",
      "  Finished run #4, loss 0.07391094416379929, best loss 0.0081689627841115\n",
      "1 minutes 24 seconds passed from the start, the iteration took 56 seconds\n",
      "ground truth and obtained formula\n"
     ]
    },
    {
     "data": {
      "text/latex": [
       "$\\displaystyle -1.28x_{1}^{2.0}-0.455x_{2}^{3.0}+1.531x_{3}^{6.0}+1.674$"
      ],
      "text/plain": [
       "<IPython.core.display.Math object>"
      ]
     },
     "metadata": {},
     "output_type": "display_data"
    },
    {
     "data": {
      "text/latex": [
       "$\\displaystyle \\left(-1.325x_1^{1.946} + 2.680x_2^{-0.023} + 1.434x_3^{5.354}-1.166\\right)$"
      ],
      "text/plain": [
       "<IPython.core.display.Math object>"
      ]
     },
     "metadata": {},
     "output_type": "display_data"
    },
    {
     "name": "stdout",
     "output_type": "stream",
     "text": [
      "MSE between formula parameters is 3.923734177906962\n",
      "FAILURE\n",
      "\n",
      "################################################################################\n",
      "MSEs between parameters:\n",
      "[1.1851655212780088e-09, 2.811217607768495e-07, 7.509513836164875e-09, 1.4136235039684054e-09, 3.923734177906962]\n",
      "For 4 formulas out of 5 the error is less than 1e-05.\n",
      "\n",
      "\n",
      "----------------------------Exploring new formula #1----------------------------\n",
      "  Initialization #1\n",
      "  Finished run #1, loss 0.02297806926071644, best loss 0.02297806926071644\n",
      "  Initialization #2\n",
      "  Finished run #2, loss 2.831219633736559e-12, best loss 2.831219633736559e-12\n",
      "loss is smaller than 1e-05, terminating learning process\n",
      "6 seconds passed from the start, the iteration took 6 seconds\n",
      "ground truth and obtained formula\n"
     ]
    },
    {
     "data": {
      "text/latex": [
       "$\\displaystyle 0.441x_{1}^{3.5}+0.387x_{2}^{5.0}+0.453x_{3}^{3.5}-0.499$"
      ],
      "text/plain": [
       "<IPython.core.display.Math object>"
      ]
     },
     "metadata": {},
     "output_type": "display_data"
    },
    {
     "data": {
      "text/latex": [
       "$\\displaystyle \\left(0.441x_1^{3.500} + 0.387x_2^{5.000} + 0.453x_3^{3.500}-0.499\\right)$"
      ],
      "text/plain": [
       "<IPython.core.display.Math object>"
      ]
     },
     "metadata": {},
     "output_type": "display_data"
    },
    {
     "name": "stdout",
     "output_type": "stream",
     "text": [
      "MSE between formula parameters is 8.340946980719569e-10\n",
      "EXACT RECOVERY\n",
      "\n",
      "\n",
      "----------------------------Exploring new formula #2----------------------------\n",
      "  Initialization #1\n",
      "  Finished run #1, loss 1.4228902778246066e-11, best loss 1.4228902778246066e-11\n",
      "loss is smaller than 1e-05, terminating learning process\n",
      "8 seconds passed from the start, the iteration took 2 seconds\n",
      "ground truth and obtained formula\n"
     ]
    },
    {
     "data": {
      "text/latex": [
       "$\\displaystyle -1.602x_{1}^{4.5}-1.616x_{2}^{1.5}+0.271x_{3}^{2.0}-1.306$"
      ],
      "text/plain": [
       "<IPython.core.display.Math object>"
      ]
     },
     "metadata": {},
     "output_type": "display_data"
    },
    {
     "data": {
      "text/latex": [
       "$\\displaystyle \\left(-1.602x_1^{4.500}-1.616x_2^{1.500} + 0.271x_3^{2.000}-1.306\\right)$"
      ],
      "text/plain": [
       "<IPython.core.display.Math object>"
      ]
     },
     "metadata": {},
     "output_type": "display_data"
    },
    {
     "name": "stdout",
     "output_type": "stream",
     "text": [
      "MSE between formula parameters is 2.5764889904118196e-09\n",
      "EXACT RECOVERY\n",
      "\n",
      "\n",
      "----------------------------Exploring new formula #3----------------------------\n",
      "  Initialization #1\n",
      "  Finished run #1, loss 8.897899084203686e-11, best loss 8.897899084203686e-11\n",
      "loss is smaller than 1e-05, terminating learning process\n",
      "10 seconds passed from the start, the iteration took 2 seconds\n",
      "ground truth and obtained formula\n"
     ]
    },
    {
     "data": {
      "text/latex": [
       "$\\displaystyle -2.004x_{1}^{0.5}-1.501x_{2}^{3.5}-1.117x_{3}^{1.0}-1.031$"
      ],
      "text/plain": [
       "<IPython.core.display.Math object>"
      ]
     },
     "metadata": {},
     "output_type": "display_data"
    },
    {
     "data": {
      "text/latex": [
       "$\\displaystyle \\left(-2.004x_1^{0.500}-1.501x_2^{3.500}-1.117x_3^{1.000}-1.031\\right)$"
      ],
      "text/plain": [
       "<IPython.core.display.Math object>"
      ]
     },
     "metadata": {},
     "output_type": "display_data"
    },
    {
     "name": "stdout",
     "output_type": "stream",
     "text": [
      "MSE between formula parameters is 2.040230207001059e-09\n",
      "EXACT RECOVERY\n",
      "\n",
      "\n",
      "----------------------------Exploring new formula #4----------------------------\n",
      "  Initialization #1\n",
      "  Finished run #1, loss 0.00040557366446591914, best loss 0.00040557366446591914\n",
      "  Initialization #2\n",
      "  Finished run #2, loss 0.005490854848176241, best loss 0.00040557366446591914\n",
      "  Initialization #3\n",
      "  Finished run #3, loss 0.00029747578082606196, best loss 0.00029747578082606196\n",
      "  Initialization #4\n",
      "  Finished run #4, loss 0.00031779491109773517, best loss 0.00029747578082606196\n",
      "17 seconds passed from the start, the iteration took 7 seconds\n",
      "ground truth and obtained formula\n"
     ]
    },
    {
     "data": {
      "text/latex": [
       "$\\displaystyle 0.084x_{1}^{4.0}+0.061x_{2}^{2.5}+0.93x_{3}^{0.5}-0.575$"
      ],
      "text/plain": [
       "<IPython.core.display.Math object>"
      ]
     },
     "metadata": {},
     "output_type": "display_data"
    },
    {
     "data": {
      "text/latex": [
       "$\\displaystyle \\left(0.465x_1^{0.036} + 0.054x_2^{1.549} + 0.932x_3^{0.483}-1.021\\right)$"
      ],
      "text/plain": [
       "<IPython.core.display.Math object>"
      ]
     },
     "metadata": {},
     "output_type": "display_data"
    },
    {
     "name": "stdout",
     "output_type": "stream",
     "text": [
      "MSE between formula parameters is 2.423237287825368\n",
      "FAILURE\n",
      "\n",
      "\n",
      "----------------------------Exploring new formula #5----------------------------\n",
      "  Initialization #1\n",
      "    Epoch 5000, current loss 0.0275, current formula \\left(-3.685x_1^{-0.025}-1.799x_2^{-0.031}-0.458x_3^{8.991} + 3.829\\right)\n",
      "    Epoch 10000, current loss 0.0274, current formula \\left(-4.598x_1^{-0.021}-1.806x_2^{-0.031}-0.457x_3^{8.968} + 4.752\\right)\n",
      "  Finished run #1, loss 0.02740422450006008, best loss 0.02740422450006008\n",
      "  Initialization #2\n",
      "  Finished run #2, loss 2.9049828948607415e-12, best loss 2.9049828948607415e-12\n",
      "loss is smaller than 1e-05, terminating learning process\n",
      "33 seconds passed from the start, the iteration took 16 seconds\n",
      "ground truth and obtained formula\n"
     ]
    },
    {
     "data": {
      "text/latex": [
       "$\\displaystyle 0.708x_{1}^{3.5}+0.559x_{2}^{3.5}-0.512x_{3}^{6.0}-2.049$"
      ],
      "text/plain": [
       "<IPython.core.display.Math object>"
      ]
     },
     "metadata": {},
     "output_type": "display_data"
    },
    {
     "data": {
      "text/latex": [
       "$\\displaystyle \\left(0.708x_1^{3.500} + 0.559x_2^{3.500}-0.512x_3^{6.000}-2.049\\right)$"
      ],
      "text/plain": [
       "<IPython.core.display.Math object>"
      ]
     },
     "metadata": {},
     "output_type": "display_data"
    },
    {
     "name": "stdout",
     "output_type": "stream",
     "text": [
      "MSE between formula parameters is 7.846503129777765e-10\n",
      "EXACT RECOVERY\n",
      "\n",
      "################################################################################\n",
      "MSEs between parameters:\n",
      "[8.340946980719569e-10, 2.5764889904118196e-09, 2.040230207001059e-09, 2.423237287825368, 7.846503129777765e-10]\n",
      "For 4 formulas out of 5 the error is less than 1e-05.\n",
      "\n",
      "\n",
      "----------------------------Exploring new formula #1----------------------------\n",
      "  Initialization #1\n",
      "  Finished run #1, loss 5.28599169644095e-12, best loss 5.28599169644095e-12\n",
      "loss is smaller than 1e-05, terminating learning process\n",
      "2 seconds passed from the start, the iteration took 2 seconds\n",
      "ground truth and obtained formula\n"
     ]
    },
    {
     "data": {
      "text/latex": [
       "$\\displaystyle -0.431x_{1}^{2.417}-0.225x_{2}^{3.25}-0.312x_{3}^{2.5}+0.317$"
      ],
      "text/plain": [
       "<IPython.core.display.Math object>"
      ]
     },
     "metadata": {},
     "output_type": "display_data"
    },
    {
     "data": {
      "text/latex": [
       "$\\displaystyle \\left(-0.431x_1^{2.417}-0.225x_2^{3.250}-0.312x_3^{2.500} + 0.317\\right)$"
      ],
      "text/plain": [
       "<IPython.core.display.Math object>"
      ]
     },
     "metadata": {},
     "output_type": "display_data"
    },
    {
     "name": "stdout",
     "output_type": "stream",
     "text": [
      "MSE between formula parameters is 2.356531351007821e-09\n",
      "EXACT RECOVERY\n",
      "\n",
      "\n",
      "----------------------------Exploring new formula #2----------------------------\n",
      "  Initialization #1\n",
      "    Epoch 5000, current loss 0.136, current formula \\left(8.657x_1^{-0.087} + 1.693x_2^{3.272}-3.171x_3^{0.000}-7.532\\right)\n",
      "    Epoch 10000, current loss 0.132, current formula \\left(11.004x_1^{-0.071} + 1.688x_2^{3.259}-3.425x_3^{-0.000}-9.637\\right)\n",
      "  Finished run #1, loss 0.13187481462955475, best loss 0.13187481462955475\n",
      "  Initialization #2\n",
      "    Epoch 5000, current loss 0.0901, current formula \\left(-2.603x_1^{1.544}-5.156x_2^{-0.054} + 0.307x_3^{14.286} + 5.545\\right)\n",
      "    Epoch 10000, current loss 0.0886, current formula \\left(-2.602x_1^{1.541}-8.467x_2^{-0.035} + 0.305x_3^{14.213} + 8.866\\right)\n",
      "  Finished run #2, loss 0.08863333612680435, best loss 0.08863333612680435\n",
      "  Initialization #3\n",
      "    Epoch 5000, current loss 0.0906, current formula \\left(-2.610x_1^{1.524}-5.745x_2^{-0.049}-0.160x_3^{-0.279} + 6.378\\right)\n",
      "    Epoch 10000, current loss 0.0892, current formula \\left(-2.607x_1^{1.521}-9.899x_2^{-0.030}-0.115x_3^{-0.342} + 10.494\\right)\n",
      "  Finished run #3, loss 0.08922439813613892, best loss 0.08863333612680435\n",
      "  Initialization #4\n",
      "    Epoch 5000, current loss 0.0908, current formula \\left(-2.613x_1^{1.527}-5.596x_2^{-0.050} + 5.084x_3^{0.014} + 0.996\\right)\n",
      "    Epoch 10000, current loss 0.0898, current formula \\left(-2.612x_1^{1.525}-8.161x_2^{-0.035} + 7.560x_3^{0.009} + 1.092\\right)\n",
      "  Finished run #4, loss 0.08977354317903519, best loss 0.08863333612680435\n",
      "1 minutes 1 seconds passed from the start, the iteration took 59 seconds\n",
      "ground truth and obtained formula\n"
     ]
    },
    {
     "data": {
      "text/latex": [
       "$\\displaystyle -2.629x_{1}^{1.417}+1.497x_{2}^{3.0}+0.263x_{3}^{4.167}-0.226$"
      ],
      "text/plain": [
       "<IPython.core.display.Math object>"
      ]
     },
     "metadata": {},
     "output_type": "display_data"
    },
    {
     "data": {
      "text/latex": [
       "$\\displaystyle \\left(-2.602x_1^{1.541}-8.467x_2^{-0.035} + 0.305x_3^{14.213} + 8.866\\right)$"
      ],
      "text/plain": [
       "<IPython.core.display.Math object>"
      ]
     },
     "metadata": {},
     "output_type": "display_data"
    },
    {
     "name": "stdout",
     "output_type": "stream",
     "text": [
      "MSE between formula parameters is 41.72710615883112\n",
      "FAILURE\n",
      "\n",
      "\n",
      "----------------------------Exploring new formula #3----------------------------\n",
      "  Initialization #1\n",
      "    Epoch 5000, current loss 0.106, current formula \\left(0.492x_1^{0.241} + 2.980x_2^{-0.069} + 0.547x_3^{-0.138}-2.751\\right)\n",
      "  Finished run #1, loss 0.10570444911718369, best loss 0.10570444911718369\n",
      "  Initialization #2\n",
      "    Epoch 5000, current loss 0.0107, current formula \\left(0.506x_1^{5.832}-1.530x_2^{6.322} + 1.545x_3^{-0.043} + 0.010\\right)\n",
      "    Epoch 10000, current loss 0.0106, current formula \\left(0.505x_1^{5.803}-1.530x_2^{6.315} + 2.337x_3^{-0.029}-0.784\\right)\n",
      "  Finished run #2, loss 0.010614076629281044, best loss 0.010614076629281044\n",
      "  Initialization #3\n",
      "  Finished run #3, loss 0.09268654137849808, best loss 0.010614076629281044\n",
      "  Initialization #4\n",
      "    Epoch 5000, current loss 0.092, current formula \\left(0.516x_1^{0.239} + 3.684x_2^{-0.058}-0.788x_3^{13.073}-2.783\\right)\n",
      "    Epoch 10000, current loss 0.0913, current formula \\left(0.593x_1^{0.199} + 4.796x_2^{-0.046}-0.789x_3^{13.127}-3.978\\right)\n",
      "  Finished run #4, loss 0.09133747965097427, best loss 0.010614076629281044\n",
      "1 minutes 49 seconds passed from the start, the iteration took 48 seconds\n",
      "ground truth and obtained formula\n"
     ]
    },
    {
     "data": {
      "text/latex": [
       "$\\displaystyle 0.499x_{1}^{4.75}-1.508x_{2}^{6.0}-0.487x_{3}^{5.333}+1.699$"
      ],
      "text/plain": [
       "<IPython.core.display.Math object>"
      ]
     },
     "metadata": {},
     "output_type": "display_data"
    },
    {
     "data": {
      "text/latex": [
       "$\\displaystyle \\left(0.505x_1^{5.803}-1.530x_2^{6.315} + 2.337x_3^{-0.029}-0.784\\right)$"
      ],
      "text/plain": [
       "<IPython.core.display.Math object>"
      ]
     },
     "metadata": {},
     "output_type": "display_data"
    },
    {
     "name": "stdout",
     "output_type": "stream",
     "text": [
      "MSE between formula parameters is 6.300938893035307\n",
      "FAILURE\n",
      "\n",
      "\n",
      "----------------------------Exploring new formula #4----------------------------\n",
      "  Initialization #1\n",
      "  Finished run #1, loss 0.0003177961043547839, best loss 0.0003177961043547839\n",
      "  Initialization #2\n",
      "  Finished run #2, loss 0.044596605002880096, best loss 0.0003177961043547839\n",
      "  Initialization #3\n",
      "  Finished run #3, loss 0.044558085501194, best loss 0.0003177961043547839\n",
      "  Initialization #4\n",
      "    Epoch 5000, current loss 0.00118, current formula \\left(2.477x_1^{-0.041}-1.471x_2^{0.044}-0.955x_3^{6.066}-1.439\\right)\n",
      "    Epoch 10000, current loss 0.00113, current formula \\left(3.239x_1^{-0.032}-1.472x_2^{0.044}-0.955x_3^{6.064}-2.202\\right)\n",
      "  Finished run #4, loss 0.0011349854758009315, best loss 0.0003177961043547839\n",
      "2 minutes 15 seconds passed from the start, the iteration took 26 seconds\n",
      "ground truth and obtained formula\n"
     ]
    },
    {
     "data": {
      "text/latex": [
       "$\\displaystyle -0.644x_{1}^{0.333}-0.24x_{2}^{0.583}-0.955x_{3}^{6.0}+0.375$"
      ],
      "text/plain": [
       "<IPython.core.display.Math object>"
      ]
     },
     "metadata": {},
     "output_type": "display_data"
    },
    {
     "data": {
      "text/latex": [
       "$\\displaystyle \\left(-0.661x_1^{0.315}-1.757x_2^{0.036}-0.954x_3^{6.004} + 1.940\\right)$"
      ],
      "text/plain": [
       "<IPython.core.display.Math object>"
      ]
     },
     "metadata": {},
     "output_type": "display_data"
    },
    {
     "name": "stdout",
     "output_type": "stream",
     "text": [
      "MSE between formula parameters is 0.7217777231858028\n",
      "FAILURE\n",
      "\n",
      "\n",
      "----------------------------Exploring new formula #5----------------------------\n",
      "  Initialization #1\n",
      "  Finished run #1, loss 0.0007261690334416926, best loss 0.0007261690334416926\n",
      "  Initialization #2\n",
      "  Finished run #2, loss 9.992243576562032e-06, best loss 9.992243576562032e-06\n",
      "loss is smaller than 1e-05, terminating learning process\n",
      "2 minutes 20 seconds passed from the start, the iteration took 5 seconds\n",
      "ground truth and obtained formula\n"
     ]
    },
    {
     "data": {
      "text/latex": [
       "$\\displaystyle 0.998x_{1}^{0.25}+0.136x_{2}^{4.167}+0.66x_{3}^{5.583}+0.104$"
      ],
      "text/plain": [
       "<IPython.core.display.Math object>"
      ]
     },
     "metadata": {},
     "output_type": "display_data"
    },
    {
     "data": {
      "text/latex": [
       "$\\displaystyle \\left(1.071x_1^{0.225} + 0.135x_2^{4.067} + 0.659x_3^{5.555} + 0.028\\right)$"
      ],
      "text/plain": [
       "<IPython.core.display.Math object>"
      ]
     },
     "metadata": {},
     "output_type": "display_data"
    },
    {
     "name": "stdout",
     "output_type": "stream",
     "text": [
      "MSE between formula parameters is 0.0032304959884499255\n",
      "FAILURE\n",
      "\n",
      "################################################################################\n",
      "MSEs between parameters:\n",
      "[2.356531351007821e-09, 41.72710615883112, 6.300938893035307, 0.7217777231858028, 0.0032304959884499255]\n",
      "For 1 formulas out of 5 the error is less than 1e-05.\n",
      "\n",
      "\n",
      "----------------------------Exploring new formula #1----------------------------\n",
      "  Initialization #1\n",
      "  Finished run #1, loss 0.02038470469415188, best loss 0.02038470469415188\n",
      "  Initialization #2\n",
      "    Epoch 5000, current loss 0.0221, current formula \\left(0.142x_1^{9.214} + 0.181x_2^{3.670} + 4.659x_3^{-0.038}-3.249x_4^{-0.009}-1.288\\right)\n",
      "    Epoch 10000, current loss 0.0216, current formula \\left(0.142x_1^{9.312} + 0.177x_2^{3.463} + 6.431x_3^{-0.028}-4.976x_4^{-0.006}-1.339\\right)\n",
      "  Finished run #2, loss 0.021574659273028374, best loss 0.02038470469415188\n",
      "  Initialization #3\n",
      "    Epoch 5000, current loss 0.0193, current formula \\left(0.194x_1^{9.665} + 0.181x_2^{1.517} + 3.992x_3^{-0.044} + 0.304x_4^{4.759}-3.981\\right)\n",
      "    Epoch 10000, current loss 0.0185, current formula \\left(0.195x_1^{9.841} + 0.180x_2^{1.441} + 6.340x_3^{-0.029} + 0.307x_4^{4.791}-6.337\\right)\n",
      "  Finished run #3, loss 0.01845567487180233, best loss 0.01845567487180233\n",
      "  Initialization #4\n",
      "  Finished run #4, loss 0.00527937663719058, best loss 0.00527937663719058\n",
      "46 seconds passed from the start, the iteration took 46 seconds\n",
      "ground truth and obtained formula\n"
     ]
    },
    {
     "data": {
      "text/latex": [
       "$\\displaystyle 0.139x_{1}^{5.0}+0.133x_{2}^{1.0}-0.865x_{3}^{1.0}+0.426x_{4}^{6.0}+0.635$"
      ],
      "text/plain": [
       "<IPython.core.display.Math object>"
      ]
     },
     "metadata": {},
     "output_type": "display_data"
    },
    {
     "data": {
      "text/latex": [
       "$\\displaystyle \\left(0.089x_1^{5.540}-0.410x_2^{-0.050}-0.859x_3^{0.931}-0.359x_4^{-0.085} + 1.599\\right)$"
      ],
      "text/plain": [
       "<IPython.core.display.Math object>"
      ]
     },
     "metadata": {},
     "output_type": "display_data"
    },
    {
     "name": "stdout",
     "output_type": "stream",
     "text": [
      "MSE between formula parameters is 4.474722328533442\n",
      "FAILURE\n",
      "\n",
      "\n",
      "----------------------------Exploring new formula #2----------------------------\n",
      "  Initialization #1\n",
      "    Epoch 5000, current loss 0.0031, current formula \\left(0.902x_1^{-0.030} + 1.054x_2^{5.952}-0.147x_3^{8.610}-0.865x_4^{0.957} + 1.691\\right)\n",
      "    Epoch 10000, current loss 0.00308, current formula \\left(1.383x_1^{-0.021} + 1.054x_2^{5.944}-0.146x_3^{8.543}-0.865x_4^{0.958} + 1.209\\right)\n",
      "  Finished run #1, loss 0.003075906541198492, best loss 0.003075906541198492\n",
      "  Initialization #2\n",
      "  Finished run #2, loss 1.1294503526881883e-11, best loss 1.1294503526881883e-11\n",
      "loss is smaller than 1e-05, terminating learning process\n",
      "1 minutes 7 seconds passed from the start, the iteration took 21 seconds\n",
      "ground truth and obtained formula\n"
     ]
    },
    {
     "data": {
      "text/latex": [
       "$\\displaystyle -0.22x_{1}^{6.0}+1.069x_{2}^{6.0}-0.11x_{3}^{4.0}-0.849x_{4}^{1.0}+2.649$"
      ],
      "text/plain": [
       "<IPython.core.display.Math object>"
      ]
     },
     "metadata": {},
     "output_type": "display_data"
    },
    {
     "data": {
      "text/latex": [
       "$\\displaystyle \\left(-0.220x_1^{6.000} + 1.069x_2^{6.000}-0.110x_3^{4.000}-0.849x_4^{1.000} + 2.649\\right)$"
      ],
      "text/plain": [
       "<IPython.core.display.Math object>"
      ]
     },
     "metadata": {},
     "output_type": "display_data"
    },
    {
     "name": "stdout",
     "output_type": "stream",
     "text": [
      "MSE between formula parameters is 1.0570260346022387e-08\n",
      "EXACT RECOVERY\n",
      "\n",
      "\n",
      "----------------------------Exploring new formula #3----------------------------\n",
      "  Initialization #1\n",
      "  Finished run #1, loss 0.0005987696931697428, best loss 0.0005987696931697428\n",
      "  Initialization #2\n",
      "  Finished run #2, loss 0.032692715525627136, best loss 0.0005987696931697428\n",
      "  Initialization #3\n",
      "  Finished run #3, loss 0.04340050742030144, best loss 0.0005987696931697428\n",
      "  Initialization #4\n",
      "  Finished run #4, loss 0.2593820095062256, best loss 0.0005987696931697428\n",
      "1 minutes 32 seconds passed from the start, the iteration took 25 seconds\n",
      "ground truth and obtained formula\n"
     ]
    },
    {
     "data": {
      "text/latex": [
       "$\\displaystyle 0.649x_{1}^{4.0}+0.918x_{2}^{5.0}-2.55x_{3}^{5.0}-0.127x_{4}^{4.0}-0.17$"
      ],
      "text/plain": [
       "<IPython.core.display.Math object>"
      ]
     },
     "metadata": {},
     "output_type": "display_data"
    },
    {
     "data": {
      "text/latex": [
       "$\\displaystyle \\left(0.640x_1^{3.923} + 0.940x_2^{5.160}-2.534x_3^{4.940}-1.147x_4^{0.017} + 0.937\\right)$"
      ],
      "text/plain": [
       "<IPython.core.display.Math object>"
      ]
     },
     "metadata": {},
     "output_type": "display_data"
    },
    {
     "name": "stdout",
     "output_type": "stream",
     "text": [
      "MSE between formula parameters is 2.018785618734088\n",
      "FAILURE\n",
      "\n",
      "\n",
      "----------------------------Exploring new formula #4----------------------------\n",
      "  Initialization #1\n",
      "    Epoch 5000, current loss 0.0316, current formula \\left(-0.507x_1^{4.259}-3.693x_2^{-0.042} + 0.150x_3^{1.783}-0.799x_4^{4.220} + 4.240\\right)\n",
      "    Epoch 10000, current loss 0.0314, current formula \\left(-0.507x_1^{4.247}-5.338x_2^{-0.030} + 0.150x_3^{1.802}-0.800x_4^{4.228} + 5.887\\right)\n",
      "  Finished run #1, loss 0.03137803450226784, best loss 0.03137803450226784\n",
      "  Initialization #2\n",
      "  Finished run #2, loss 0.03255008906126022, best loss 0.03137803450226784\n",
      "  Initialization #3\n",
      "    Epoch 5000, current loss 0.0155, current formula \\left(2.147x_1^{-0.046} + 0.759x_2^{4.188}-1.847x_3^{-0.025}-0.810x_4^{5.116}-0.195\\right)\n",
      "  Finished run #3, loss 0.01544116623699665, best loss 0.01544116623699665\n",
      "  Initialization #4\n",
      "    Epoch 5000, current loss 0.0139, current formula \\left(2.305x_1^{-0.043} + 0.775x_2^{4.133} + 0.249x_3^{4.962}-0.883x_4^{5.500}-2.294\\right)\n",
      "    Epoch 10000, current loss 0.0137, current formula \\left(3.711x_1^{-0.028} + 0.776x_2^{4.149} + 0.249x_3^{5.043}-0.887x_4^{5.528}-3.703\\right)\n",
      "  Finished run #4, loss 0.013705212622880936, best loss 0.013705212622880936\n",
      "2 minutes 28 seconds passed from the start, the iteration took 56 seconds\n",
      "ground truth and obtained formula\n"
     ]
    },
    {
     "data": {
      "text/latex": [
       "$\\displaystyle -0.509x_{1}^{3.0}+0.799x_{2}^{5.0}+0.154x_{3}^{3.0}-0.95x_{4}^{5.0}+0.298$"
      ],
      "text/plain": [
       "<IPython.core.display.Math object>"
      ]
     },
     "metadata": {},
     "output_type": "display_data"
    },
    {
     "data": {
      "text/latex": [
       "$\\displaystyle \\left(3.712x_1^{-0.028} + 0.776x_2^{4.149} + 0.249x_3^{5.043}-0.887x_4^{5.528}-3.703\\right)$"
      ],
      "text/plain": [
       "<IPython.core.display.Math object>"
      ]
     },
     "metadata": {},
     "output_type": "display_data"
    },
    {
     "name": "stdout",
     "output_type": "stream",
     "text": [
      "MSE between formula parameters is 5.353728090420215\n",
      "FAILURE\n",
      "\n",
      "\n",
      "----------------------------Exploring new formula #5----------------------------\n",
      "  Initialization #1\n",
      "    Epoch 5000, current loss 0.0463, current formula \\left(1.345x_1^{6.144} + 2.730x_2^{-0.082} + 0.810x_3^{-0.132} + 1.462x_4^{-0.090}-5.423\\right)\n",
      "  Finished run #1, loss 0.04555170610547066, best loss 0.04555170610547066\n",
      "  Initialization #2\n",
      "  Finished run #2, loss 0.008821745403110981, best loss 0.008821745403110981\n",
      "  Initialization #3\n",
      "    Epoch 5000, current loss 0.0222, current formula \\left(1.282x_1^{5.707} + 3.985x_2^{-0.065}-0.543x_3^{1.846}-0.631x_4^{1.858}-3.775\\right)\n",
      "    Epoch 10000, current loss 0.021, current formula \\left(1.276x_1^{5.660} + 6.548x_2^{-0.042}-0.541x_3^{1.853}-0.632x_4^{1.895}-6.351\\right)\n",
      "  Finished run #3, loss 0.021035799756646156, best loss 0.008821745403110981\n",
      "  Initialization #4\n",
      "  Finished run #4, loss 0.022552354261279106, best loss 0.008821745403110981\n",
      "3 minutes 12 seconds passed from the start, the iteration took 44 seconds\n",
      "ground truth and obtained formula\n"
     ]
    },
    {
     "data": {
      "text/latex": [
       "$\\displaystyle 1.109x_{1}^{5.0}-1.106x_{2}^{1.0}-0.547x_{3}^{2.0}-0.551x_{4}^{2.0}+0.987$"
      ],
      "text/plain": [
       "<IPython.core.display.Math object>"
      ]
     },
     "metadata": {},
     "output_type": "display_data"
    },
    {
     "data": {
      "text/latex": [
       "$\\displaystyle \\left(1.069x_1^{4.693}-1.134x_2^{0.962} + 1.016x_3^{-0.114}-0.572x_4^{2.221}-0.315\\right)$"
      ],
      "text/plain": [
       "<IPython.core.display.Math object>"
      ]
     },
     "metadata": {},
     "output_type": "display_data"
    },
    {
     "name": "stdout",
     "output_type": "stream",
     "text": [
      "MSE between formula parameters is 0.9725327020274457\n",
      "FAILURE\n",
      "\n",
      "################################################################################\n",
      "MSEs between parameters:\n",
      "[4.474722328533442, 1.0570260346022387e-08, 2.018785618734088, 5.353728090420215, 0.9725327020274457]\n",
      "For 1 formulas out of 5 the error is less than 1e-05.\n",
      "\n",
      "\n",
      "----------------------------Exploring new formula #1----------------------------\n",
      "  Initialization #1\n",
      "    Epoch 5000, current loss 0.288, current formula \\left(0.995x_1^{-0.003}-0.527x_2^{0.113} + 14.590x_3^{-0.017}-15.608x_4^{-0.018} + 0.209\\right)\n",
      "    Epoch 10000, current loss 0.287, current formula \\left(0.992x_1^{-0.003}-0.522x_2^{0.115} + 19.299x_3^{-0.013}-20.316x_4^{-0.014} + 0.205\\right)\n",
      "  Finished run #1, loss 0.28719034790992737, best loss 0.28719034790992737\n",
      "  Initialization #2\n",
      "    Epoch 5000, current loss 0.219, current formula \\left(-0.641x_1^{-0.049}-5.451x_2^{37.013} + 9.534x_3^{-0.028} + 1.234x_4^{3.262}-9.683\\right)\n",
      "    Epoch 10000, current loss 0.218, current formula \\left(-0.647x_1^{-0.048}-5.439x_2^{36.992} + 11.352x_3^{-0.024} + 1.235x_4^{3.275}-11.498\\right)\n",
      "  Finished run #2, loss 0.21803905069828033, best loss 0.21803905069828033\n",
      "  Initialization #3\n",
      "    Epoch 5000, current loss 0.263, current formula \\left(-0.284x_1^{0.015}-22.077x_2^{65.760} + 11.652x_3^{-0.020}-12.718x_4^{-0.023} + 1.122\\right)\n",
      "    Epoch 10000, current loss 0.262, current formula \\left(-0.286x_1^{0.015}-21.796x_2^{65.495} + 18.056x_3^{-0.013}-19.117x_4^{-0.015} + 1.117\\right)\n",
      "  Finished run #3, loss 0.261997252702713, best loss 0.21803905069828033\n",
      "  Initialization #4\n",
      "  Finished run #4, loss 3.4426899219397455e-05, best loss 3.4426899219397455e-05\n",
      "57 seconds passed from the start, the iteration took 57 seconds\n",
      "ground truth and obtained formula\n"
     ]
    },
    {
     "data": {
      "text/latex": [
       "$\\displaystyle -0.034x_{1}^{3.5}-0.723x_{2}^{5.0}-2.05x_{3}^{5.0}+1.39x_{4}^{5.5}-0.043$"
      ],
      "text/plain": [
       "<IPython.core.display.Math object>"
      ]
     },
     "metadata": {},
     "output_type": "display_data"
    },
    {
     "data": {
      "text/latex": [
       "$\\displaystyle \\left(-0.116x_1^{0.077}-0.719x_2^{4.908}-2.051x_3^{4.993} + 1.395x_4^{5.521} + 0.059\\right)$"
      ],
      "text/plain": [
       "<IPython.core.display.Math object>"
      ]
     },
     "metadata": {},
     "output_type": "display_data"
    },
    {
     "name": "stdout",
     "output_type": "stream",
     "text": [
      "MSE between formula parameters is 1.304750928748915\n",
      "FAILURE\n",
      "\n",
      "\n",
      "----------------------------Exploring new formula #2----------------------------\n",
      "  Initialization #1\n",
      "    Epoch 5000, current loss 0.179, current formula \\left(6.418x_1^{-0.056}-0.111x_2^{5.276} + 0.961x_3^{-0.113} + 0.077x_4^{0.075}-7.481\\right)\n",
      "    Epoch 10000, current loss 0.176, current formula \\left(8.181x_1^{-0.046}-0.112x_2^{5.271} + 1.246x_3^{-0.092} + 0.150x_4^{0.060}-9.613\\right)\n",
      "  Finished run #1, loss 0.17615844309329987, best loss 0.17615844309329987\n",
      "  Initialization #2\n",
      "  Finished run #2, loss 0.0014920250978320837, best loss 0.0014920250978320837\n",
      "  Initialization #3\n",
      "  Finished run #3, loss 6.191070860950276e-05, best loss 6.191070860950276e-05\n",
      "  Initialization #4\n",
      "    Epoch 5000, current loss 0.179, current formula \\left(5.911x_1^{-0.060} + 0.102x_2^{0.190} + 0.864x_3^{-0.120}-0.076x_4^{1.206}-6.865\\right)\n",
      "    Epoch 10000, current loss 0.177, current formula \\left(7.891x_1^{-0.047} + 0.145x_2^{0.149} + 1.143x_3^{-0.096}-0.072x_4^{1.228}-9.180\\right)\n",
      "  Finished run #4, loss 0.17654775083065033, best loss 6.191070860950276e-05\n",
      "1 minutes 41 seconds passed from the start, the iteration took 44 seconds\n",
      "ground truth and obtained formula\n"
     ]
    },
    {
     "data": {
      "text/latex": [
       "$\\displaystyle -1.948x_{1}^{3.0}-0.052x_{2}^{1.5}-0.554x_{3}^{5.5}+0.178x_{4}^{4.0}+0.953$"
      ],
      "text/plain": [
       "<IPython.core.display.Math object>"
      ]
     },
     "metadata": {},
     "output_type": "display_data"
    },
    {
     "data": {
      "text/latex": [
       "$\\displaystyle \\left(-1.949x_1^{2.994} + 0.084x_2^{-0.153}-0.559x_3^{5.546} + 0.177x_4^{4.115} + 0.837\\right)$"
      ],
      "text/plain": [
       "<IPython.core.display.Math object>"
      ]
     },
     "metadata": {},
     "output_type": "display_data"
    },
    {
     "name": "stdout",
     "output_type": "stream",
     "text": [
      "MSE between formula parameters is 0.30873718607688827\n",
      "FAILURE\n",
      "\n",
      "\n",
      "----------------------------Exploring new formula #3----------------------------\n",
      "  Initialization #1\n",
      "  Finished run #1, loss 0.08066204190254211, best loss 0.08066204190254211\n",
      "  Initialization #2\n",
      "  Finished run #2, loss 0.05356908217072487, best loss 0.05356908217072487\n",
      "  Initialization #3\n",
      "  Finished run #3, loss 0.07578478008508682, best loss 0.05356908217072487\n",
      "  Initialization #4\n",
      "  Finished run #4, loss 0.05300375074148178, best loss 0.05300375074148178\n",
      "2 minutes 4 seconds passed from the start, the iteration took 23 seconds\n",
      "ground truth and obtained formula\n"
     ]
    },
    {
     "data": {
      "text/latex": [
       "$\\displaystyle -1.182x_{1}^{5.0}-1.266x_{2}^{2.0}+0.65x_{3}^{5.0}+0.319x_{4}^{5.5}+1.535$"
      ],
      "text/plain": [
       "<IPython.core.display.Math object>"
      ]
     },
     "metadata": {},
     "output_type": "display_data"
    },
    {
     "data": {
      "text/latex": [
       "$\\displaystyle \\left(2.590x_1^{-0.035}-1.085x_2^{1.632} + 0.606x_3^{4.346} + 0.310x_4^{2.945}-1.368\\right)$"
      ],
      "text/plain": [
       "<IPython.core.display.Math object>"
      ]
     },
     "metadata": {},
     "output_type": "display_data"
    },
    {
     "name": "stdout",
     "output_type": "stream",
     "text": [
      "MSE between formula parameters is 6.125409438341955\n",
      "FAILURE\n",
      "\n",
      "\n",
      "----------------------------Exploring new formula #4----------------------------\n",
      "  Initialization #1\n",
      "  Finished run #1, loss 0.048693422228097916, best loss 0.048693422228097916\n",
      "  Initialization #2\n",
      "  Finished run #2, loss 0.01031634770333767, best loss 0.01031634770333767\n",
      "  Initialization #3\n",
      "  Finished run #3, loss 8.34945785754826e-06, best loss 8.34945785754826e-06\n",
      "loss is smaller than 1e-05, terminating learning process\n",
      "2 minutes 14 seconds passed from the start, the iteration took 10 seconds\n",
      "ground truth and obtained formula\n"
     ]
    },
    {
     "data": {
      "text/latex": [
       "$\\displaystyle -0.854x_{1}^{2.0}+0.528x_{2}^{5.5}-0.865x_{3}^{1.0}-0.017x_{4}^{5.0}-1.114$"
      ],
      "text/plain": [
       "<IPython.core.display.Math object>"
      ]
     },
     "metadata": {},
     "output_type": "display_data"
    },
    {
     "data": {
      "text/latex": [
       "$\\displaystyle \\left(-0.853x_1^{1.998} + 0.525x_2^{5.525}-0.866x_3^{0.995}-1.844x_4^{0.001} + 0.728\\right)$"
      ],
      "text/plain": [
       "<IPython.core.display.Math object>"
      ]
     },
     "metadata": {},
     "output_type": "display_data"
    },
    {
     "name": "stdout",
     "output_type": "stream",
     "text": [
      "MSE between formula parameters is 3.5245875673534965\n",
      "FAILURE\n",
      "\n",
      "\n",
      "----------------------------Exploring new formula #5----------------------------\n",
      "  Initialization #1\n",
      "  Finished run #1, loss 6.400843050036187e-11, best loss 6.400843050036187e-11\n",
      "loss is smaller than 1e-05, terminating learning process\n",
      "2 minutes 17 seconds passed from the start, the iteration took 2 seconds\n",
      "ground truth and obtained formula\n"
     ]
    },
    {
     "data": {
      "text/latex": [
       "$\\displaystyle 1.153x_{1}^{1.0}+0.119x_{2}^{4.0}+0.954x_{3}^{3.5}+0.03x_{4}^{1.5}+0.051$"
      ],
      "text/plain": [
       "<IPython.core.display.Math object>"
      ]
     },
     "metadata": {},
     "output_type": "display_data"
    },
    {
     "data": {
      "text/latex": [
       "$\\displaystyle \\left(1.153x_1^{1.000} + 0.119x_2^{3.999} + 0.954x_3^{3.500} + 0.030x_4^{1.498} + 0.051\\right)$"
      ],
      "text/plain": [
       "<IPython.core.display.Math object>"
      ]
     },
     "metadata": {},
     "output_type": "display_data"
    },
    {
     "name": "stdout",
     "output_type": "stream",
     "text": [
      "MSE between formula parameters is 4.3512237191778743e-07\n",
      "EXACT RECOVERY\n",
      "\n",
      "################################################################################\n",
      "MSEs between parameters:\n",
      "[1.304750928748915, 0.30873718607688827, 6.125409438341955, 3.5245875673534965, 4.3512237191778743e-07]\n",
      "For 1 formulas out of 5 the error is less than 1e-05.\n",
      "\n",
      "\n",
      "----------------------------Exploring new formula #1----------------------------\n",
      "  Initialization #1\n",
      "    Epoch 5000, current loss 0.0126, current formula \\left(0.359x_1^{6.073}-0.481x_2^{2.326}-1.283x_3^{3.221}-2.058x_4^{-0.030} + 2.578\\right)\n",
      "    Epoch 10000, current loss 0.0125, current formula \\left(0.359x_1^{6.028}-0.482x_2^{2.337}-1.285x_3^{3.220}-3.072x_4^{-0.021} + 3.594\\right)\n",
      "  Finished run #1, loss 0.012472251430153847, best loss 0.012472251430153847\n",
      "  Initialization #2\n",
      "    Epoch 5000, current loss 0.0689, current formula \\left(0.417x_1^{6.003}-0.480x_2^{2.436} + 5.188x_3^{-0.028}-5.898x_4^{-0.006} + 0.780\\right)\n",
      "    Epoch 10000, current loss 0.0686, current formula \\left(0.417x_1^{5.973}-0.479x_2^{2.432} + 6.729x_3^{-0.022}-7.408x_4^{-0.005} + 0.746\\right)\n",
      "  Finished run #2, loss 0.0685734823346138, best loss 0.012472251430153847\n",
      "  Initialization #3\n",
      "  Finished run #3, loss 0.06691710650920868, best loss 0.012472251430153847\n",
      "  Initialization #4\n",
      "  Finished run #4, loss 0.009602498263120651, best loss 0.009602498263120651\n",
      "42 seconds passed from the start, the iteration took 42 seconds\n",
      "ground truth and obtained formula\n"
     ]
    },
    {
     "data": {
      "text/latex": [
       "$\\displaystyle 0.406x_{1}^{5.0}-0.467x_{2}^{3.417}-1.291x_{3}^{3.167}+0.543x_{4}^{4.833}+0.32$"
      ],
      "text/plain": [
       "<IPython.core.display.Math object>"
      ]
     },
     "metadata": {},
     "output_type": "display_data"
    },
    {
     "data": {
      "text/latex": [
       "$\\displaystyle \\left(0.434x_1^{4.391} + 1.718x_2^{-0.041}-1.279x_3^{2.986} + 0.578x_4^{5.462}-1.577\\right)$"
      ],
      "text/plain": [
       "<IPython.core.display.Math object>"
      ]
     },
     "metadata": {},
     "output_type": "display_data"
    },
    {
     "name": "stdout",
     "output_type": "stream",
     "text": [
      "MSE between formula parameters is 2.3475706910645915\n",
      "FAILURE\n",
      "\n",
      "\n",
      "----------------------------Exploring new formula #2----------------------------\n",
      "  Initialization #1\n",
      "  Finished run #1, loss 0.005722679663449526, best loss 0.005722679663449526\n",
      "  Initialization #2\n",
      "  Finished run #2, loss 0.005730386357754469, best loss 0.005722679663449526\n",
      "  Initialization #3\n",
      "  Finished run #3, loss 0.012394052930176258, best loss 0.005722679663449526\n",
      "  Initialization #4\n",
      "  Finished run #4, loss 0.0008345654350705445, best loss 0.0008345654350705445\n",
      "60 seconds passed from the start, the iteration took 18 seconds\n",
      "ground truth and obtained formula\n"
     ]
    },
    {
     "data": {
      "text/latex": [
       "$\\displaystyle -1.718x_{1}^{1.0}+0.732x_{2}^{1.5}+0.361x_{3}^{3.25}+0.137x_{4}^{4.667}-0.225$"
      ],
      "text/plain": [
       "<IPython.core.display.Math object>"
      ]
     },
     "metadata": {},
     "output_type": "display_data"
    },
    {
     "data": {
      "text/latex": [
       "$\\displaystyle \\left(-1.751x_1^{0.961} + 0.719x_2^{1.496} + 0.352x_3^{2.932}-0.886x_4^{-0.032} + 0.748\\right)$"
      ],
      "text/plain": [
       "<IPython.core.display.Math object>"
      ]
     },
     "metadata": {},
     "output_type": "display_data"
    },
    {
     "name": "stdout",
     "output_type": "stream",
     "text": [
      "MSE between formula parameters is 2.685982636054611\n",
      "FAILURE\n",
      "\n",
      "\n",
      "----------------------------Exploring new formula #3----------------------------\n",
      "  Initialization #1\n",
      "  Finished run #1, loss 4.091109829379436e-12, best loss 4.091109829379436e-12\n",
      "loss is smaller than 1e-05, terminating learning process\n",
      "1 minutes 4 seconds passed from the start, the iteration took 4 seconds\n",
      "ground truth and obtained formula\n"
     ]
    },
    {
     "data": {
      "text/latex": [
       "$\\displaystyle -0.096x_{1}^{3.417}+0.281x_{2}^{5.75}-0.005x_{3}^{1.75}+0.894x_{4}^{5.0}+0.514$"
      ],
      "text/plain": [
       "<IPython.core.display.Math object>"
      ]
     },
     "metadata": {},
     "output_type": "display_data"
    },
    {
     "data": {
      "text/latex": [
       "$\\displaystyle \\left(-0.096x_1^{3.416} + 0.281x_2^{5.750}-0.005x_3^{1.749} + 0.894x_4^{5.000} + 0.514\\right)$"
      ],
      "text/plain": [
       "<IPython.core.display.Math object>"
      ]
     },
     "metadata": {},
     "output_type": "display_data"
    },
    {
     "name": "stdout",
     "output_type": "stream",
     "text": [
      "MSE between formula parameters is 7.29613573796032e-08\n",
      "EXACT RECOVERY\n",
      "\n",
      "\n",
      "----------------------------Exploring new formula #4----------------------------\n",
      "  Initialization #1\n",
      "  Finished run #1, loss 0.010717728175222874, best loss 0.010717728175222874\n",
      "  Initialization #2\n",
      "    Epoch 5000, current loss 0.0736, current formula \\left(7.064x_1^{-0.059} + 0.444x_2^{5.560}-7.499x_3^{-0.023}-0.802x_4^{20.781}-0.630\\right)\n",
      "    Epoch 10000, current loss 0.0711, current formula \\left(12.033x_1^{-0.036} + 0.444x_2^{5.533}-12.397x_3^{-0.014}-0.789x_4^{20.533}-0.711\\right)\n",
      "  Finished run #2, loss 0.07113460451364517, best loss 0.010717728175222874\n",
      "  Initialization #3\n",
      "  Finished run #3, loss 6.394907520190785e-11, best loss 6.394907520190785e-11\n",
      "loss is smaller than 1e-05, terminating learning process\n",
      "1 minutes 33 seconds passed from the start, the iteration took 30 seconds\n",
      "ground truth and obtained formula\n"
     ]
    },
    {
     "data": {
      "text/latex": [
       "$\\displaystyle -1.744x_{1}^{1.417}+0.498x_{2}^{5.083}+1.084x_{3}^{0.5}-0.394x_{4}^{4.167}-0.767$"
      ],
      "text/plain": [
       "<IPython.core.display.Math object>"
      ]
     },
     "metadata": {},
     "output_type": "display_data"
    },
    {
     "data": {
      "text/latex": [
       "$\\displaystyle \\left(-1.744x_1^{1.417} + 0.498x_2^{5.084} + 1.084x_3^{0.500}-0.394x_4^{4.167}-0.767\\right)$"
      ],
      "text/plain": [
       "<IPython.core.display.Math object>"
      ]
     },
     "metadata": {},
     "output_type": "display_data"
    },
    {
     "name": "stdout",
     "output_type": "stream",
     "text": [
      "MSE between formula parameters is 6.148932227587364e-09\n",
      "EXACT RECOVERY\n",
      "\n",
      "\n",
      "----------------------------Exploring new formula #5----------------------------\n",
      "  Initialization #1\n",
      "    Epoch 5000, current loss 0.0466, current formula \\left(0.760x_1^{7.539}-2.739x_2^{-0.043}-1.641x_3^{-0.065}-1.686x_4^{3.554} + 5.308\\right)\n",
      "    Epoch 10000, current loss 0.0461, current formula \\left(0.759x_1^{7.523}-4.781x_2^{-0.026}-1.564x_3^{-0.068}-1.687x_4^{3.555} + 7.280\\right)\n",
      "  Finished run #1, loss 0.046105872839689255, best loss 0.046105872839689255\n",
      "  Initialization #2\n",
      "    Epoch 5000, current loss 0.0464, current formula \\left(0.761x_1^{7.571}-3.350x_2^{-0.036} + 3.057x_3^{0.042}-1.685x_4^{3.530} + 1.236\\right)\n",
      "  Finished run #2, loss 0.04622047767043114, best loss 0.046105872839689255\n",
      "  Initialization #3\n",
      "    Epoch 5000, current loss 0.117, current formula \\left(-6.938x_1^{-0.010} + 1.345x_2^{6.894} + 0.587x_3^{0.267} + 6.431x_4^{-0.042} + 0.197\\right)\n",
      "    Epoch 10000, current loss 0.115, current formula \\left(-10.490x_1^{-0.007} + 1.344x_2^{6.865} + 0.675x_3^{0.218} + 9.984x_4^{-0.028} + 0.095\\right)\n",
      "  Finished run #3, loss 0.11536098271608353, best loss 0.046105872839689255\n",
      "  Initialization #4\n",
      "    Epoch 5000, current loss 0.137, current formula \\left(0.704x_1^{7.891}-11.676x_2^{-0.011}-2.121x_3^{-0.045} + 11.939x_4^{-0.024} + 2.194\\right)\n",
      "    Epoch 10000, current loss 0.136, current formula \\left(0.704x_1^{7.892}-15.182x_2^{-0.009}-2.125x_3^{-0.045} + 15.464x_4^{-0.019} + 2.177\\right)\n",
      "  Finished run #4, loss 0.1364755481481552, best loss 0.046105872839689255\n",
      "2 minutes 44 seconds passed from the start, the iteration took 1 minutes 10 seconds\n",
      "ground truth and obtained formula\n"
     ]
    },
    {
     "data": {
      "text/latex": [
       "$\\displaystyle 0.779x_{1}^{6.0}+1.239x_{2}^{5.333}+0.814x_{3}^{0.167}-1.561x_{4}^{2.833}-0.142$"
      ],
      "text/plain": [
       "<IPython.core.display.Math object>"
      ]
     },
     "metadata": {},
     "output_type": "display_data"
    },
    {
     "data": {
      "text/latex": [
       "$\\displaystyle \\left(0.759x_1^{7.523}-4.782x_2^{-0.026}-1.564x_3^{-0.068}-1.687x_4^{3.555} + 7.281\\right)$"
      ],
      "text/plain": [
       "<IPython.core.display.Math object>"
      ]
     },
     "metadata": {},
     "output_type": "display_data"
    },
    {
     "name": "stdout",
     "output_type": "stream",
     "text": [
      "MSE between formula parameters is 14.293429709061476\n",
      "FAILURE\n",
      "\n",
      "################################################################################\n",
      "MSEs between parameters:\n",
      "[2.3475706910645915, 2.685982636054611, 7.29613573796032e-08, 6.148932227587364e-09, 14.293429709061476]\n",
      "For 2 formulas out of 5 the error is less than 1e-05.\n",
      "\n",
      "\n",
      "----------------------------Exploring new formula #1----------------------------\n",
      "  Initialization #1\n",
      "    Epoch 5000, current loss 0.0273, current formula \\left(-0.708x_1^{5.547}-3.316x_2^{-0.041} + 3.482\\right)\n",
      "    Epoch 10000, current loss 0.0267, current formula \\left(-0.708x_1^{5.526}-5.148x_2^{-0.028} + 5.320\\right)\n",
      "  Finished run #1, loss 0.026665855199098587, best loss 0.026665855199098587\n",
      "  Initialization #2\n",
      "  Finished run #2, loss 3.0004453782650486e-12, best loss 3.0004453782650486e-12\n",
      "loss is smaller than 1e-05, terminating learning process\n",
      "31 seconds passed from the start, the iteration took 31 seconds\n",
      "ground truth and obtained formula\n"
     ]
    },
    {
     "data": {
      "text/latex": [
       "$\\displaystyle -0.717x_{1}^{5.0}+0.793x_{2}^{2.0}-0.226$"
      ],
      "text/plain": [
       "<IPython.core.display.Math object>"
      ]
     },
     "metadata": {},
     "output_type": "display_data"
    },
    {
     "data": {
      "text/latex": [
       "$\\displaystyle \\left(-0.717x_1^{5.000} + 0.793x_2^{2.000}-0.226\\right)$"
      ],
      "text/plain": [
       "<IPython.core.display.Math object>"
      ]
     },
     "metadata": {},
     "output_type": "display_data"
    },
    {
     "name": "stdout",
     "output_type": "stream",
     "text": [
      "MSE between formula parameters is 3.656087432801769e-10\n",
      "EXACT RECOVERY\n",
      "\n",
      "\n",
      "----------------------------Exploring new formula #2----------------------------\n",
      "  Initialization #1\n",
      "  Finished run #1, loss 1.1439542889346566e-12, best loss 1.1439542889346566e-12\n",
      "loss is smaller than 1e-05, terminating learning process\n",
      "35 seconds passed from the start, the iteration took 3 seconds\n",
      "ground truth and obtained formula\n"
     ]
    },
    {
     "data": {
      "text/latex": [
       "$\\displaystyle -0.254x_{1}^{3.0}+2.602x_{2}^{3.0}-0.934$"
      ],
      "text/plain": [
       "<IPython.core.display.Math object>"
      ]
     },
     "metadata": {},
     "output_type": "display_data"
    },
    {
     "data": {
      "text/latex": [
       "$\\displaystyle \\left(-0.254x_1^{3.000} + 2.602x_2^{3.000}-0.934\\right)$"
      ],
      "text/plain": [
       "<IPython.core.display.Math object>"
      ]
     },
     "metadata": {},
     "output_type": "display_data"
    },
    {
     "name": "stdout",
     "output_type": "stream",
     "text": [
      "MSE between formula parameters is 1.727189058442491e-10\n",
      "EXACT RECOVERY\n",
      "\n",
      "\n",
      "----------------------------Exploring new formula #3----------------------------\n",
      "  Initialization #1\n",
      "    Epoch 5000, current loss 0.152, current formula \\left(10.359x_1^{-0.031}-2.614x_2^{0.014}-8.879\\right)\n",
      "    Epoch 10000, current loss 0.151, current formula \\left(14.614x_1^{-0.023}-2.676x_2^{0.014}-13.079\\right)\n",
      "  Finished run #1, loss 0.1507466584444046, best loss 0.1507466584444046\n",
      "  Initialization #2\n",
      "  Finished run #2, loss 0.0006518805166706443, best loss 0.0006518805166706443\n",
      "  Initialization #3\n",
      "  Finished run #3, loss 0.0007145404233597219, best loss 0.0006518805166706443\n",
      "  Initialization #4\n",
      "  Finished run #4, loss 0.0006995151634328067, best loss 0.0006518805166706443\n",
      "1 minutes 16 seconds passed from the start, the iteration took 41 seconds\n",
      "ground truth and obtained formula\n"
     ]
    },
    {
     "data": {
      "text/latex": [
       "$\\displaystyle -1.789x_{1}^{3.0}-0.124x_{2}^{5.0}-0.301$"
      ],
      "text/plain": [
       "<IPython.core.display.Math object>"
      ]
     },
     "metadata": {},
     "output_type": "display_data"
    },
    {
     "data": {
      "text/latex": [
       "$\\displaystyle \\left(-1.786x_1^{3.007}-0.312x_2^{0.071}-0.032\\right)$"
      ],
      "text/plain": [
       "<IPython.core.display.Math object>"
      ]
     },
     "metadata": {},
     "output_type": "display_data"
    },
    {
     "name": "stdout",
     "output_type": "stream",
     "text": [
      "MSE between formula parameters is 4.8800410615729195\n",
      "FAILURE\n",
      "\n",
      "\n",
      "----------------------------Exploring new formula #4----------------------------\n",
      "  Initialization #1\n",
      "    Epoch 5000, current loss 0.0131, current formula \\left(0.241x_1^{6.080} + 1.987x_2^{-0.038}-0.100\\right)\n",
      "    Epoch 10000, current loss 0.013, current formula \\left(0.241x_1^{6.066} + 3.074x_2^{-0.026}-1.189\\right)\n",
      "  Finished run #1, loss 0.01298906747251749, best loss 0.01298906747251749\n",
      "  Initialization #2\n",
      "    Epoch 5000, current loss 0.0156, current formula \\left(-2.818x_1^{-0.010} + 3.106x_2^{-0.025} + 1.660\\right)\n",
      "    Epoch 10000, current loss 0.0155, current formula \\left(-3.921x_1^{-0.007} + 4.218x_2^{-0.019} + 1.649\\right)\n",
      "  Finished run #2, loss 0.01554150227457285, best loss 0.01298906747251749\n",
      "  Initialization #3\n",
      "  Finished run #3, loss 0.0028397338464856148, best loss 0.0028397338464856148\n",
      "  Initialization #4\n",
      "  Finished run #4, loss 7.126743856514239e-13, best loss 7.126743856514239e-13\n",
      "loss is smaller than 1e-05, terminating learning process\n",
      "2 minutes 17 seconds passed from the start, the iteration took 1 minutes 2 seconds\n",
      "ground truth and obtained formula\n"
     ]
    },
    {
     "data": {
      "text/latex": [
       "$\\displaystyle 0.25x_{1}^{6.0}-0.523x_{2}^{4.0}+2.068$"
      ],
      "text/plain": [
       "<IPython.core.display.Math object>"
      ]
     },
     "metadata": {},
     "output_type": "display_data"
    },
    {
     "data": {
      "text/latex": [
       "$\\displaystyle \\left(0.250x_1^{6.000}-0.523x_2^{4.000} + 2.068\\right)$"
      ],
      "text/plain": [
       "<IPython.core.display.Math object>"
      ]
     },
     "metadata": {},
     "output_type": "display_data"
    },
    {
     "name": "stdout",
     "output_type": "stream",
     "text": [
      "MSE between formula parameters is 2.667377430043416e-12\n",
      "EXACT RECOVERY\n",
      "\n",
      "\n",
      "----------------------------Exploring new formula #5----------------------------\n",
      "  Initialization #1\n",
      "    Epoch 5000, current loss 0.00546, current formula \\left(-2.369x_1^{-0.021} + 0.105x_2^{6.691} + 0.889\\right)\n",
      "  Finished run #1, loss 0.005454935133457184, best loss 0.005454935133457184\n",
      "  Initialization #2\n",
      "  Finished run #2, loss 2.0944526495092486e-12, best loss 2.0944526495092486e-12\n",
      "loss is smaller than 1e-05, terminating learning process\n",
      "2 minutes 36 seconds passed from the start, the iteration took 19 seconds\n",
      "ground truth and obtained formula\n"
     ]
    },
    {
     "data": {
      "text/latex": [
       "$\\displaystyle 0.373x_{1}^{5.0}+0.089x_{2}^{6.0}-1.59$"
      ],
      "text/plain": [
       "<IPython.core.display.Math object>"
      ]
     },
     "metadata": {},
     "output_type": "display_data"
    },
    {
     "data": {
      "text/latex": [
       "$\\displaystyle \\left(0.373x_1^{5.000} + 0.089x_2^{5.999}-1.590\\right)$"
      ],
      "text/plain": [
       "<IPython.core.display.Math object>"
      ]
     },
     "metadata": {},
     "output_type": "display_data"
    },
    {
     "name": "stdout",
     "output_type": "stream",
     "text": [
      "MSE between formula parameters is 1.0687521881935779e-07\n",
      "EXACT RECOVERY\n",
      "\n",
      "################################################################################\n",
      "MSEs between parameters:\n",
      "[3.656087432801769e-10, 1.727189058442491e-10, 4.8800410615729195, 2.667377430043416e-12, 1.0687521881935779e-07]\n",
      "For 4 formulas out of 5 the error is less than 1e-05.\n",
      "\n",
      "\n",
      "----------------------------Exploring new formula #1----------------------------\n",
      "  Initialization #1\n",
      "  Finished run #1, loss 8.199272424208592e-13, best loss 8.199272424208592e-13\n",
      "loss is smaller than 1e-05, terminating learning process\n",
      "6 seconds passed from the start, the iteration took 6 seconds\n",
      "ground truth and obtained formula\n"
     ]
    },
    {
     "data": {
      "text/latex": [
       "$\\displaystyle 0.028x_{1}^{5.5}-0.059x_{2}^{3.5}+0.622$"
      ],
      "text/plain": [
       "<IPython.core.display.Math object>"
      ]
     },
     "metadata": {},
     "output_type": "display_data"
    },
    {
     "data": {
      "text/latex": [
       "$\\displaystyle \\left(0.028x_1^{5.500}-0.059x_2^{3.500} + 0.622\\right)$"
      ],
      "text/plain": [
       "<IPython.core.display.Math object>"
      ]
     },
     "metadata": {},
     "output_type": "display_data"
    },
    {
     "name": "stdout",
     "output_type": "stream",
     "text": [
      "MSE between formula parameters is 3.6146263757835805e-08\n",
      "EXACT RECOVERY\n",
      "\n",
      "\n",
      "----------------------------Exploring new formula #2----------------------------\n",
      "  Initialization #1\n",
      "  Finished run #1, loss 2.1710101164723605e-12, best loss 2.1710101164723605e-12\n",
      "loss is smaller than 1e-05, terminating learning process\n",
      "10 seconds passed from the start, the iteration took 4 seconds\n",
      "ground truth and obtained formula\n"
     ]
    },
    {
     "data": {
      "text/latex": [
       "$\\displaystyle -0.707x_{1}^{3.0}-0.25x_{2}^{1.5}+1.129$"
      ],
      "text/plain": [
       "<IPython.core.display.Math object>"
      ]
     },
     "metadata": {},
     "output_type": "display_data"
    },
    {
     "data": {
      "text/latex": [
       "$\\displaystyle \\left(-0.707x_1^{3.000}-0.250x_2^{1.500} + 1.129\\right)$"
      ],
      "text/plain": [
       "<IPython.core.display.Math object>"
      ]
     },
     "metadata": {},
     "output_type": "display_data"
    },
    {
     "name": "stdout",
     "output_type": "stream",
     "text": [
      "MSE between formula parameters is 2.515884389708845e-10\n",
      "EXACT RECOVERY\n",
      "\n",
      "\n",
      "----------------------------Exploring new formula #3----------------------------\n",
      "  Initialization #1\n",
      "    Epoch 5000, current loss 0.00306, current formula \\left(0.938x_1^{-0.039} + 0.782x_2^{3.525}-1.467\\right)\n",
      "    Epoch 10000, current loss 0.00302, current formula \\left(1.381x_1^{-0.028} + 0.782x_2^{3.525}-1.911\\right)\n",
      "  Finished run #1, loss 0.003024008823558688, best loss 0.003024008823558688\n",
      "  Initialization #2\n",
      "  Finished run #2, loss 2.2863134996331524e-12, best loss 2.2863134996331524e-12\n",
      "loss is smaller than 1e-05, terminating learning process\n",
      "40 seconds passed from the start, the iteration took 30 seconds\n",
      "ground truth and obtained formula\n"
     ]
    },
    {
     "data": {
      "text/latex": [
       "$\\displaystyle -0.261x_{1}^{4.0}+0.792x_{2}^{3.5}-0.441$"
      ],
      "text/plain": [
       "<IPython.core.display.Math object>"
      ]
     },
     "metadata": {},
     "output_type": "display_data"
    },
    {
     "data": {
      "text/latex": [
       "$\\displaystyle \\left(-0.261x_1^{4.000} + 0.792x_2^{3.500}-0.441\\right)$"
      ],
      "text/plain": [
       "<IPython.core.display.Math object>"
      ]
     },
     "metadata": {},
     "output_type": "display_data"
    },
    {
     "name": "stdout",
     "output_type": "stream",
     "text": [
      "MSE between formula parameters is 6.934552487791734e-10\n",
      "EXACT RECOVERY\n",
      "\n",
      "\n",
      "----------------------------Exploring new formula #4----------------------------\n",
      "  Initialization #1\n",
      "    Epoch 5000, current loss 0.0355, current formula \\left(-1.227x_1^{6.153}-3.766x_2^{-0.043} + 3.410\\right)\n",
      "    Epoch 10000, current loss 0.035, current formula \\left(-1.227x_1^{6.149}-5.585x_2^{-0.030} + 5.235\\right)\n",
      "  Finished run #1, loss 0.03496414050459862, best loss 0.03496414050459862\n",
      "  Initialization #2\n",
      "  Finished run #2, loss 6.013225399385813e-13, best loss 6.013225399385813e-13\n",
      "loss is smaller than 1e-05, terminating learning process\n",
      "1 minutes 11 seconds passed from the start, the iteration took 30 seconds\n",
      "ground truth and obtained formula\n"
     ]
    },
    {
     "data": {
      "text/latex": [
       "$\\displaystyle -1.221x_{1}^{6.0}+0.891x_{2}^{2.5}-0.774$"
      ],
      "text/plain": [
       "<IPython.core.display.Math object>"
      ]
     },
     "metadata": {},
     "output_type": "display_data"
    },
    {
     "data": {
      "text/latex": [
       "$\\displaystyle \\left(-1.221x_1^{6.000} + 0.891x_2^{2.500}-0.774\\right)$"
      ],
      "text/plain": [
       "<IPython.core.display.Math object>"
      ]
     },
     "metadata": {},
     "output_type": "display_data"
    },
    {
     "name": "stdout",
     "output_type": "stream",
     "text": [
      "MSE between formula parameters is 6.514895289910782e-11\n",
      "EXACT RECOVERY\n",
      "\n",
      "\n",
      "----------------------------Exploring new formula #5----------------------------\n",
      "  Initialization #1\n",
      "    Epoch 5000, current loss 0.0185, current formula \\left(-6.770x_1^{-0.027} + 5.609x_2^{-0.015} + 1.826\\right)\n",
      "    Epoch 10000, current loss 0.0183, current formula \\left(-9.397x_1^{-0.020} + 8.232x_2^{-0.010} + 1.831\\right)\n",
      "  Finished run #1, loss 0.018266920000314713, best loss 0.018266920000314713\n",
      "  Initialization #2\n",
      "    Epoch 5000, current loss 0.00598, current formula \\left(-3.232x_1^{-0.051}-0.528x_2^{2.950} + 4.101\\right)\n",
      "    Epoch 10000, current loss 0.00558, current formula \\left(-4.645x_1^{-0.037}-0.528x_2^{2.946} + 5.518\\right)\n",
      "  Finished run #2, loss 0.00557830510661006, best loss 0.00557830510661006\n",
      "  Initialization #3\n",
      "  Finished run #3, loss 3.035739021273187e-11, best loss 3.035739021273187e-11\n",
      "loss is smaller than 1e-05, terminating learning process\n",
      "2 minutes 10 seconds passed from the start, the iteration took 59 seconds\n",
      "ground truth and obtained formula\n"
     ]
    },
    {
     "data": {
      "text/latex": [
       "$\\displaystyle 0.85x_{1}^{0.5}-0.536x_{2}^{3.0}+0.128$"
      ],
      "text/plain": [
       "<IPython.core.display.Math object>"
      ]
     },
     "metadata": {},
     "output_type": "display_data"
    },
    {
     "data": {
      "text/latex": [
       "$\\displaystyle \\left(0.850x_1^{0.500}-0.536x_2^{3.000} + 0.128\\right)$"
      ],
      "text/plain": [
       "<IPython.core.display.Math object>"
      ]
     },
     "metadata": {},
     "output_type": "display_data"
    },
    {
     "name": "stdout",
     "output_type": "stream",
     "text": [
      "MSE between formula parameters is 1.3852050617657596e-09\n",
      "EXACT RECOVERY\n",
      "\n",
      "################################################################################\n",
      "MSEs between parameters:\n",
      "[3.6146263757835805e-08, 2.515884389708845e-10, 6.934552487791734e-10, 6.514895289910782e-11, 1.3852050617657596e-09]\n",
      "For 5 formulas out of 5 the error is less than 1e-05.\n",
      "\n",
      "\n",
      "----------------------------Exploring new formula #1----------------------------\n",
      "  Initialization #1\n",
      "  Finished run #1, loss 8.928537705184258e-13, best loss 8.928537705184258e-13\n",
      "loss is smaller than 1e-05, terminating learning process\n",
      "3 seconds passed from the start, the iteration took 3 seconds\n",
      "ground truth and obtained formula\n"
     ]
    },
    {
     "data": {
      "text/latex": [
       "$\\displaystyle -0.337x_{1}^{4.333}-0.909x_{2}^{2.417}-1.041$"
      ],
      "text/plain": [
       "<IPython.core.display.Math object>"
      ]
     },
     "metadata": {},
     "output_type": "display_data"
    },
    {
     "data": {
      "text/latex": [
       "$\\displaystyle \\left(-0.337x_1^{4.333}-0.909x_2^{2.417}-1.041\\right)$"
      ],
      "text/plain": [
       "<IPython.core.display.Math object>"
      ]
     },
     "metadata": {},
     "output_type": "display_data"
    },
    {
     "name": "stdout",
     "output_type": "stream",
     "text": [
      "MSE between formula parameters is 1.1948388944915678e-09\n",
      "EXACT RECOVERY\n",
      "\n",
      "\n",
      "----------------------------Exploring new formula #2----------------------------\n",
      "  Initialization #1\n",
      "  Finished run #1, loss 0.0006471439846791327, best loss 0.0006471439846791327\n",
      "  Initialization #2\n",
      "  Finished run #2, loss 0.012393868528306484, best loss 0.0006471439846791327\n",
      "  Initialization #3\n",
      "  Finished run #3, loss 0.0007101351511664689, best loss 0.0006471439846791327\n",
      "  Initialization #4\n",
      "  Finished run #4, loss 0.0006050239317119122, best loss 0.0006050239317119122\n",
      "36 seconds passed from the start, the iteration took 33 seconds\n",
      "ground truth and obtained formula\n"
     ]
    },
    {
     "data": {
      "text/latex": [
       "$\\displaystyle 0.489x_{1}^{3.667}+0.169x_{2}^{1.25}+0.64$"
      ],
      "text/plain": [
       "<IPython.core.display.Math object>"
      ]
     },
     "metadata": {},
     "output_type": "display_data"
    },
    {
     "data": {
      "text/latex": [
       "$\\displaystyle \\left(0.494x_1^{3.659} + 0.970x_2^{0.054}-0.208\\right)$"
      ],
      "text/plain": [
       "<IPython.core.display.Math object>"
      ]
     },
     "metadata": {},
     "output_type": "display_data"
    },
    {
     "name": "stdout",
     "output_type": "stream",
     "text": [
      "MSE between formula parameters is 0.5584244917939067\n",
      "FAILURE\n",
      "\n",
      "\n",
      "----------------------------Exploring new formula #3----------------------------\n",
      "  Initialization #1\n",
      "  Finished run #1, loss 6.6174895424486735e-12, best loss 6.6174895424486735e-12\n",
      "loss is smaller than 1e-05, terminating learning process\n",
      "39 seconds passed from the start, the iteration took 4 seconds\n",
      "ground truth and obtained formula\n"
     ]
    },
    {
     "data": {
      "text/latex": [
       "$\\displaystyle 1.711x_{1}^{2.5}+0.324x_{2}^{0.75}-0.234$"
      ],
      "text/plain": [
       "<IPython.core.display.Math object>"
      ]
     },
     "metadata": {},
     "output_type": "display_data"
    },
    {
     "data": {
      "text/latex": [
       "$\\displaystyle \\left(1.711x_1^{2.500} + 0.324x_2^{0.750}-0.234\\right)$"
      ],
      "text/plain": [
       "<IPython.core.display.Math object>"
      ]
     },
     "metadata": {},
     "output_type": "display_data"
    },
    {
     "name": "stdout",
     "output_type": "stream",
     "text": [
      "MSE between formula parameters is 5.640683031771232e-10\n",
      "EXACT RECOVERY\n",
      "\n",
      "\n",
      "----------------------------Exploring new formula #4----------------------------\n",
      "  Initialization #1\n",
      "    Epoch 5000, current loss 0.00578, current formula \\left(2.405x_1^{-0.025} + 0.723x_2^{5.085}-2.127\\right)\n",
      "    Epoch 10000, current loss 0.00574, current formula \\left(3.082x_1^{-0.020} + 0.723x_2^{5.084}-2.805\\right)\n",
      "  Finished run #1, loss 0.005743620451539755, best loss 0.005743620451539755\n",
      "  Initialization #2\n",
      "    Epoch 5000, current loss 0.00585, current formula \\left(1.724x_1^{-0.034} + 0.723x_2^{5.087}-1.444\\right)\n",
      "    Epoch 10000, current loss 0.00578, current formula \\left(2.379x_1^{-0.025} + 0.723x_2^{5.086}-2.101\\right)\n",
      "  Finished run #2, loss 0.005783321801573038, best loss 0.005743620451539755\n",
      "  Initialization #3\n",
      "  Finished run #3, loss 5.603710854715227e-13, best loss 5.603710854715227e-13\n",
      "loss is smaller than 1e-05, terminating learning process\n",
      "1 minutes 36 seconds passed from the start, the iteration took 56 seconds\n",
      "ground truth and obtained formula\n"
     ]
    },
    {
     "data": {
      "text/latex": [
       "$\\displaystyle -0.345x_{1}^{2.583}+0.728x_{2}^{5.25}+0.444$"
      ],
      "text/plain": [
       "<IPython.core.display.Math object>"
      ]
     },
     "metadata": {},
     "output_type": "display_data"
    },
    {
     "data": {
      "text/latex": [
       "$\\displaystyle \\left(-0.345x_1^{2.583} + 0.728x_2^{5.250} + 0.444\\right)$"
      ],
      "text/plain": [
       "<IPython.core.display.Math object>"
      ]
     },
     "metadata": {},
     "output_type": "display_data"
    },
    {
     "name": "stdout",
     "output_type": "stream",
     "text": [
      "MSE between formula parameters is 2.604824800300776e-10\n",
      "EXACT RECOVERY\n",
      "\n",
      "\n",
      "----------------------------Exploring new formula #5----------------------------\n",
      "  Initialization #1\n",
      "  Finished run #1, loss 1.4036289491814458e-12, best loss 1.4036289491814458e-12\n",
      "loss is smaller than 1e-05, terminating learning process\n",
      "1 minutes 39 seconds passed from the start, the iteration took 3 seconds\n",
      "ground truth and obtained formula\n"
     ]
    },
    {
     "data": {
      "text/latex": [
       "$\\displaystyle -0.411x_{1}^{5.0}+1.253x_{2}^{2.833}+0.362$"
      ],
      "text/plain": [
       "<IPython.core.display.Math object>"
      ]
     },
     "metadata": {},
     "output_type": "display_data"
    },
    {
     "data": {
      "text/latex": [
       "$\\displaystyle \\left(-0.411x_1^{5.000} + 1.253x_2^{2.833} + 0.362\\right)$"
      ],
      "text/plain": [
       "<IPython.core.display.Math object>"
      ]
     },
     "metadata": {},
     "output_type": "display_data"
    },
    {
     "name": "stdout",
     "output_type": "stream",
     "text": [
      "MSE between formula parameters is 2.2031123592114454e-10\n",
      "EXACT RECOVERY\n",
      "\n",
      "################################################################################\n",
      "MSEs between parameters:\n",
      "[1.1948388944915678e-09, 0.5584244917939067, 5.640683031771232e-10, 2.604824800300776e-10, 2.2031123592114454e-10]\n",
      "For 4 formulas out of 5 the error is less than 1e-05.\n",
      "\n",
      "\n",
      "----------------------------Exploring new formula #1----------------------------\n",
      "  Initialization #1\n",
      "    Epoch 5000, current loss 0.185, current formula \\left(-0.363x_1^{-0.105}-6.724x_2^{-0.044} + 1.221x_3^{1.904} + 7.047\\right)\n",
      "    Epoch 10000, current loss 0.182, current formula \\left(-0.519x_1^{-0.083}-8.819x_2^{-0.035} + 1.218x_3^{1.900} + 9.311\\right)\n",
      "  Finished run #1, loss 0.18184778094291687, best loss 0.18184778094291687\n",
      "  Initialization #2\n",
      "  Finished run #2, loss 3.058072892136998e-12, best loss 3.058072892136998e-12\n",
      "loss is smaller than 1e-05, terminating learning process\n",
      "33 seconds passed from the start, the iteration took 33 seconds\n",
      "ground truth and obtained formula\n"
     ]
    },
    {
     "data": {
      "text/latex": [
       "$\\displaystyle 0.517x_{1}^{4.0}+1.892x_{2}^{2.0}+1.189x_{3}^{2.0}-1.114$"
      ],
      "text/plain": [
       "<IPython.core.display.Math object>"
      ]
     },
     "metadata": {},
     "output_type": "display_data"
    },
    {
     "data": {
      "text/latex": [
       "$\\displaystyle \\left(0.517x_1^{4.000} + 1.892x_2^{2.000} + 1.189x_3^{2.000}-1.114\\right)$"
      ],
      "text/plain": [
       "<IPython.core.display.Math object>"
      ]
     },
     "metadata": {},
     "output_type": "display_data"
    },
    {
     "name": "stdout",
     "output_type": "stream",
     "text": [
      "MSE between formula parameters is 4.5574211071652826e-11\n",
      "EXACT RECOVERY\n",
      "\n",
      "\n",
      "----------------------------Exploring new formula #2----------------------------\n",
      "  Initialization #1\n",
      "  Finished run #1, loss 0.02107219398021698, best loss 0.02107219398021698\n",
      "  Initialization #2\n",
      "    Epoch 5000, current loss 1.85e-12, current formula \\left(-0.508x_1^{4.000}-0.799x_2^{4.000}-0.417x_3^{2.000}-0.360\\right)\n",
      "  Finished run #2, loss 1.8539267343520294e-12, best loss 1.8539267343520294e-12\n",
      "loss is smaller than 1e-05, terminating learning process\n",
      "54 seconds passed from the start, the iteration took 21 seconds\n",
      "ground truth and obtained formula\n"
     ]
    },
    {
     "data": {
      "text/latex": [
       "$\\displaystyle -0.508x_{1}^{4.0}-0.799x_{2}^{4.0}-0.417x_{3}^{2.0}-0.36$"
      ],
      "text/plain": [
       "<IPython.core.display.Math object>"
      ]
     },
     "metadata": {},
     "output_type": "display_data"
    },
    {
     "data": {
      "text/latex": [
       "$\\displaystyle \\left(-0.508x_1^{4.000}-0.799x_2^{4.000}-0.417x_3^{2.000}-0.360\\right)$"
      ],
      "text/plain": [
       "<IPython.core.display.Math object>"
      ]
     },
     "metadata": {},
     "output_type": "display_data"
    },
    {
     "name": "stdout",
     "output_type": "stream",
     "text": [
      "MSE between formula parameters is 5.97819317858596e-10\n",
      "EXACT RECOVERY\n",
      "\n",
      "\n",
      "----------------------------Exploring new formula #3----------------------------\n",
      "  Initialization #1\n",
      "  Finished run #1, loss 0.031772758811712265, best loss 0.031772758811712265\n",
      "  Initialization #2\n",
      "  Finished run #2, loss 2.930398111666843e-12, best loss 2.930398111666843e-12\n",
      "loss is smaller than 1e-05, terminating learning process\n",
      "1 minutes 1 seconds passed from the start, the iteration took 7 seconds\n",
      "ground truth and obtained formula\n"
     ]
    },
    {
     "data": {
      "text/latex": [
       "$\\displaystyle 0.08x_{1}^{4.0}-0.871x_{2}^{6.0}-1.042x_{3}^{4.0}-0.162$"
      ],
      "text/plain": [
       "<IPython.core.display.Math object>"
      ]
     },
     "metadata": {},
     "output_type": "display_data"
    },
    {
     "data": {
      "text/latex": [
       "$\\displaystyle \\left(0.080x_1^{4.000}-0.871x_2^{6.000}-1.042x_3^{4.000}-0.162\\right)$"
      ],
      "text/plain": [
       "<IPython.core.display.Math object>"
      ]
     },
     "metadata": {},
     "output_type": "display_data"
    },
    {
     "name": "stdout",
     "output_type": "stream",
     "text": [
      "MSE between formula parameters is 1.1715444106893561e-08\n",
      "EXACT RECOVERY\n",
      "\n",
      "\n",
      "----------------------------Exploring new formula #4----------------------------\n",
      "  Initialization #1\n",
      "    Epoch 5000, current loss 0.00322, current formula \\left(-0.663x_1^{1.005} + 2.407x_2^{-0.030}-0.286x_3^{4.224}-1.449\\right)\n",
      "    Epoch 10000, current loss 0.00317, current formula \\left(-0.663x_1^{1.005} + 2.899x_2^{-0.025}-0.286x_3^{4.222}-1.942\\right)\n",
      "  Finished run #1, loss 0.0031672490295022726, best loss 0.0031672490295022726\n",
      "  Initialization #2\n",
      "  Finished run #2, loss 1.0392653751467584e-11, best loss 1.0392653751467584e-11\n",
      "loss is smaller than 1e-05, terminating learning process\n",
      "1 minutes 35 seconds passed from the start, the iteration took 34 seconds\n",
      "ground truth and obtained formula\n"
     ]
    },
    {
     "data": {
      "text/latex": [
       "$\\displaystyle -0.653x_{1}^{1.0}-0.349x_{2}^{1.0}-0.278x_{3}^{4.0}+1.202$"
      ],
      "text/plain": [
       "<IPython.core.display.Math object>"
      ]
     },
     "metadata": {},
     "output_type": "display_data"
    },
    {
     "data": {
      "text/latex": [
       "$\\displaystyle \\left(-0.653x_1^{1.000}-0.349x_2^{1.000}-0.278x_3^{4.000} + 1.202\\right)$"
      ],
      "text/plain": [
       "<IPython.core.display.Math object>"
      ]
     },
     "metadata": {},
     "output_type": "display_data"
    },
    {
     "name": "stdout",
     "output_type": "stream",
     "text": [
      "MSE between formula parameters is 2.9583378286750825e-09\n",
      "EXACT RECOVERY\n",
      "\n",
      "\n",
      "----------------------------Exploring new formula #5----------------------------\n",
      "  Initialization #1\n",
      "  Finished run #1, loss 3.4776495919097705e-12, best loss 3.4776495919097705e-12\n",
      "loss is smaller than 1e-05, terminating learning process\n",
      "1 minutes 40 seconds passed from the start, the iteration took 4 seconds\n",
      "ground truth and obtained formula\n"
     ]
    },
    {
     "data": {
      "text/latex": [
       "$\\displaystyle -0.218x_{1}^{3.0}+0.764x_{2}^{3.0}-0.156x_{3}^{6.0}-0.093$"
      ],
      "text/plain": [
       "<IPython.core.display.Math object>"
      ]
     },
     "metadata": {},
     "output_type": "display_data"
    },
    {
     "data": {
      "text/latex": [
       "$\\displaystyle \\left(-0.218x_1^{3.000} + 0.764x_2^{3.000}-0.156x_3^{6.000}-0.093\\right)$"
      ],
      "text/plain": [
       "<IPython.core.display.Math object>"
      ]
     },
     "metadata": {},
     "output_type": "display_data"
    },
    {
     "name": "stdout",
     "output_type": "stream",
     "text": [
      "MSE between formula parameters is 4.813538551878034e-09\n",
      "EXACT RECOVERY\n",
      "\n",
      "################################################################################\n",
      "MSEs between parameters:\n",
      "[4.5574211071652826e-11, 5.97819317858596e-10, 1.1715444106893561e-08, 2.9583378286750825e-09, 4.813538551878034e-09]\n",
      "For 5 formulas out of 5 the error is less than 1e-05.\n",
      "\n",
      "\n",
      "----------------------------Exploring new formula #1----------------------------\n",
      "  Initialization #1\n",
      "  Finished run #1, loss 3.673361845812906e-07, best loss 3.673361845812906e-07\n",
      "loss is smaller than 1e-05, terminating learning process\n",
      "3 seconds passed from the start, the iteration took 3 seconds\n",
      "ground truth and obtained formula\n"
     ]
    },
    {
     "data": {
      "text/latex": [
       "$\\displaystyle -1.809x_{1}^{4.0}-0.03x_{2}^{2.0}-0.003x_{3}^{5.5}+0.196$"
      ],
      "text/plain": [
       "<IPython.core.display.Math object>"
      ]
     },
     "metadata": {},
     "output_type": "display_data"
    },
    {
     "data": {
      "text/latex": [
       "$\\displaystyle \\left(-1.809x_1^{4.000}-0.030x_2^{2.006}-0.519x_3^{0.001} + 0.714\\right)$"
      ],
      "text/plain": [
       "<IPython.core.display.Math object>"
      ]
     },
     "metadata": {},
     "output_type": "display_data"
    },
    {
     "name": "stdout",
     "output_type": "stream",
     "text": [
      "MSE between formula parameters is 4.396728691927849\n",
      "FAILURE\n",
      "\n",
      "\n",
      "----------------------------Exploring new formula #2----------------------------\n",
      "  Initialization #1\n",
      "  Finished run #1, loss 0.004415982868522406, best loss 0.004415982868522406\n",
      "  Initialization #2\n",
      "  Finished run #2, loss 0.0077120414935052395, best loss 0.004415982868522406\n",
      "  Initialization #3\n",
      "  Finished run #3, loss 0.002830763813108206, best loss 0.002830763813108206\n",
      "  Initialization #4\n",
      "  Finished run #4, loss 1.4685354711788112e-12, best loss 1.4685354711788112e-12\n",
      "loss is smaller than 1e-05, terminating learning process\n",
      "18 seconds passed from the start, the iteration took 15 seconds\n",
      "ground truth and obtained formula\n"
     ]
    },
    {
     "data": {
      "text/latex": [
       "$\\displaystyle 0.192x_{1}^{5.0}+0.373x_{2}^{5.5}+0.258x_{3}^{6.0}+1.144$"
      ],
      "text/plain": [
       "<IPython.core.display.Math object>"
      ]
     },
     "metadata": {},
     "output_type": "display_data"
    },
    {
     "data": {
      "text/latex": [
       "$\\displaystyle \\left(0.192x_1^{5.000} + 0.373x_2^{5.500} + 0.258x_3^{6.000} + 1.144\\right)$"
      ],
      "text/plain": [
       "<IPython.core.display.Math object>"
      ]
     },
     "metadata": {},
     "output_type": "display_data"
    },
    {
     "name": "stdout",
     "output_type": "stream",
     "text": [
      "MSE between formula parameters is 8.445657189477223e-10\n",
      "EXACT RECOVERY\n",
      "\n",
      "\n",
      "----------------------------Exploring new formula #3----------------------------\n",
      "  Initialization #1\n",
      "  Finished run #1, loss 2.142578649222404e-12, best loss 2.142578649222404e-12\n",
      "loss is smaller than 1e-05, terminating learning process\n",
      "24 seconds passed from the start, the iteration took 6 seconds\n",
      "ground truth and obtained formula\n"
     ]
    },
    {
     "data": {
      "text/latex": [
       "$\\displaystyle 0.102x_{1}^{3.0}+1.123x_{2}^{4.0}-0.803x_{3}^{2.0}+0.463$"
      ],
      "text/plain": [
       "<IPython.core.display.Math object>"
      ]
     },
     "metadata": {},
     "output_type": "display_data"
    },
    {
     "data": {
      "text/latex": [
       "$\\displaystyle \\left(0.102x_1^{3.000} + 1.123x_2^{4.000}-0.803x_3^{2.000} + 0.463\\right)$"
      ],
      "text/plain": [
       "<IPython.core.display.Math object>"
      ]
     },
     "metadata": {},
     "output_type": "display_data"
    },
    {
     "name": "stdout",
     "output_type": "stream",
     "text": [
      "MSE between formula parameters is 3.026962807390581e-11\n",
      "EXACT RECOVERY\n",
      "\n",
      "\n",
      "----------------------------Exploring new formula #4----------------------------\n",
      "  Initialization #1\n",
      "  Finished run #1, loss 0.03414539247751236, best loss 0.03414539247751236\n",
      "  Initialization #2\n",
      "  Finished run #2, loss 0.00014176074182614684, best loss 0.00014176074182614684\n",
      "  Initialization #3\n",
      "  Finished run #3, loss 1.4357368375780832e-12, best loss 1.4357368375780832e-12\n",
      "loss is smaller than 1e-05, terminating learning process\n",
      "50 seconds passed from the start, the iteration took 27 seconds\n",
      "ground truth and obtained formula\n"
     ]
    },
    {
     "data": {
      "text/latex": [
       "$\\displaystyle -1.726x_{1}^{6.0}+0.865x_{2}^{5.5}-0.06x_{3}^{5.0}-1.002$"
      ],
      "text/plain": [
       "<IPython.core.display.Math object>"
      ]
     },
     "metadata": {},
     "output_type": "display_data"
    },
    {
     "data": {
      "text/latex": [
       "$\\displaystyle \\left(-1.726x_1^{6.000} + 0.865x_2^{5.500}-0.060x_3^{5.001}-1.002\\right)$"
      ],
      "text/plain": [
       "<IPython.core.display.Math object>"
      ]
     },
     "metadata": {},
     "output_type": "display_data"
    },
    {
     "name": "stdout",
     "output_type": "stream",
     "text": [
      "MSE between formula parameters is 4.5081213754080296e-08\n",
      "EXACT RECOVERY\n",
      "\n",
      "\n",
      "----------------------------Exploring new formula #5----------------------------\n",
      "  Initialization #1\n",
      "  Finished run #1, loss 0.11698062717914581, best loss 0.11698062717914581\n",
      "  Initialization #2\n",
      "    Epoch 5000, current loss 0.116, current formula \\left(5.228x_1^{-0.029} + 0.535x_2^{4.492} + 0.703x_3^{3.930}-3.336\\right)\n",
      "    Epoch 10000, current loss 0.115, current formula \\left(7.733x_1^{-0.021} + 0.534x_2^{4.469} + 0.704x_3^{3.927}-5.845\\right)\n",
      "  Finished run #2, loss 0.11533622443675995, best loss 0.11533622443675995\n",
      "  Initialization #3\n",
      "  Finished run #3, loss 5.520774809530948e-13, best loss 5.520774809530948e-13\n",
      "loss is smaller than 1e-05, terminating learning process\n",
      "1 minutes 40 seconds passed from the start, the iteration took 49 seconds\n",
      "ground truth and obtained formula\n"
     ]
    },
    {
     "data": {
      "text/latex": [
       "$\\displaystyle -1.626x_{1}^{6.0}+0.51x_{2}^{4.0}+0.787x_{3}^{5.0}+2.302$"
      ],
      "text/plain": [
       "<IPython.core.display.Math object>"
      ]
     },
     "metadata": {},
     "output_type": "display_data"
    },
    {
     "data": {
      "text/latex": [
       "$\\displaystyle \\left(-1.626x_1^{6.000} + 0.510x_2^{4.000} + 0.787x_3^{5.000} + 2.302\\right)$"
      ],
      "text/plain": [
       "<IPython.core.display.Math object>"
      ]
     },
     "metadata": {},
     "output_type": "display_data"
    },
    {
     "name": "stdout",
     "output_type": "stream",
     "text": [
      "MSE between formula parameters is 1.6347050697212192e-11\n",
      "EXACT RECOVERY\n",
      "\n",
      "################################################################################\n",
      "MSEs between parameters:\n",
      "[4.396728691927849, 8.445657189477223e-10, 3.026962807390581e-11, 4.5081213754080296e-08, 1.6347050697212192e-11]\n",
      "For 4 formulas out of 5 the error is less than 1e-05.\n",
      "\n",
      "\n",
      "----------------------------Exploring new formula #1----------------------------\n",
      "  Initialization #1\n",
      "  Finished run #1, loss 3.2344806299988704e-07, best loss 3.2344806299988704e-07\n",
      "loss is smaller than 1e-05, terminating learning process\n",
      "4 seconds passed from the start, the iteration took 4 seconds\n",
      "ground truth and obtained formula\n"
     ]
    },
    {
     "data": {
      "text/latex": [
       "$\\displaystyle 1.31x_{1}^{5.333}+1.833x_{2}^{0.333}+0.657x_{3}^{1.75}+1.641$"
      ],
      "text/plain": [
       "<IPython.core.display.Math object>"
      ]
     },
     "metadata": {},
     "output_type": "display_data"
    },
    {
     "data": {
      "text/latex": [
       "$\\displaystyle \\left(1.310x_1^{5.336} + 1.824x_2^{0.336} + 0.657x_3^{1.752} + 1.650\\right)$"
      ],
      "text/plain": [
       "<IPython.core.display.Math object>"
      ]
     },
     "metadata": {},
     "output_type": "display_data"
    },
    {
     "name": "stdout",
     "output_type": "stream",
     "text": [
      "MSE between formula parameters is 2.7125913765603726e-05\n",
      "EXACT RECOVERY\n",
      "\n",
      "\n",
      "----------------------------Exploring new formula #2----------------------------\n",
      "  Initialization #1\n",
      "  Finished run #1, loss 1.0533316406602378e-11, best loss 1.0533316406602378e-11\n",
      "loss is smaller than 1e-05, terminating learning process\n",
      "11 seconds passed from the start, the iteration took 7 seconds\n",
      "ground truth and obtained formula\n"
     ]
    },
    {
     "data": {
      "text/latex": [
       "$\\displaystyle -0.387x_{1}^{5.417}+1.566x_{2}^{1.25}+0.081x_{3}^{0.75}+1.153$"
      ],
      "text/plain": [
       "<IPython.core.display.Math object>"
      ]
     },
     "metadata": {},
     "output_type": "display_data"
    },
    {
     "data": {
      "text/latex": [
       "$\\displaystyle \\left(-0.387x_1^{5.417} + 1.566x_2^{1.250} + 0.081x_3^{0.750} + 1.153\\right)$"
      ],
      "text/plain": [
       "<IPython.core.display.Math object>"
      ]
     },
     "metadata": {},
     "output_type": "display_data"
    },
    {
     "name": "stdout",
     "output_type": "stream",
     "text": [
      "MSE between formula parameters is 1.3152467337462781e-08\n",
      "EXACT RECOVERY\n",
      "\n",
      "\n",
      "----------------------------Exploring new formula #3----------------------------\n",
      "  Initialization #1\n",
      "  Finished run #1, loss 0.008008926175534725, best loss 0.008008926175534725\n",
      "  Initialization #2\n",
      "  Finished run #2, loss 4.2361136842229696e-13, best loss 4.2361136842229696e-13\n",
      "loss is smaller than 1e-05, terminating learning process\n",
      "24 seconds passed from the start, the iteration took 13 seconds\n",
      "ground truth and obtained formula\n"
     ]
    },
    {
     "data": {
      "text/latex": [
       "$\\displaystyle -0.122x_{1}^{4.0}+0.237x_{2}^{4.083}-0.333x_{3}^{4.583}+1.702$"
      ],
      "text/plain": [
       "<IPython.core.display.Math object>"
      ]
     },
     "metadata": {},
     "output_type": "display_data"
    },
    {
     "data": {
      "text/latex": [
       "$\\displaystyle \\left(-0.122x_1^{4.000} + 0.237x_2^{4.083}-0.333x_3^{4.583} + 1.702\\right)$"
      ],
      "text/plain": [
       "<IPython.core.display.Math object>"
      ]
     },
     "metadata": {},
     "output_type": "display_data"
    },
    {
     "name": "stdout",
     "output_type": "stream",
     "text": [
      "MSE between formula parameters is 2.682940932910835e-10\n",
      "EXACT RECOVERY\n",
      "\n",
      "\n",
      "----------------------------Exploring new formula #4----------------------------\n",
      "  Initialization #1\n",
      "  Finished run #1, loss 0.006766477599740028, best loss 0.006766477599740028\n",
      "  Initialization #2\n",
      "    Epoch 5000, current loss 0.0158, current formula \\left(-0.346x_1^{5.246} + 0.202x_2^{2.853} + 3.608x_3^{-0.039}-2.970\\right)\n",
      "    Epoch 10000, current loss 0.0154, current formula \\left(-0.347x_1^{5.285} + 0.202x_2^{2.866} + 5.299x_3^{-0.027}-4.665\\right)\n",
      "  Finished run #2, loss 0.015367553569376469, best loss 0.006766477599740028\n",
      "  Initialization #3\n",
      "    Epoch 5000, current loss 0.0174, current formula \\left(-0.349x_1^{5.286}-4.053x_2^{-0.009} + 4.774x_3^{-0.030} + 0.003\\right)\n",
      "    Epoch 10000, current loss 0.0171, current formula \\left(-0.350x_1^{5.305}-5.467x_2^{-0.007} + 6.215x_3^{-0.024}-0.027\\right)\n",
      "  Finished run #3, loss 0.017134537920355797, best loss 0.006766477599740028\n",
      "  Initialization #4\n",
      "  Finished run #4, loss 0.0023818835616111755, best loss 0.0023818835616111755\n",
      "1 minutes 34 seconds passed from the start, the iteration took 1 minutes 10 seconds\n",
      "ground truth and obtained formula\n"
     ]
    },
    {
     "data": {
      "text/latex": [
       "$\\displaystyle -0.39x_{1}^{5.917}+0.227x_{2}^{3.75}-0.707x_{3}^{1.167}+1.115$"
      ],
      "text/plain": [
       "<IPython.core.display.Math object>"
      ]
     },
     "metadata": {},
     "output_type": "display_data"
    },
    {
     "data": {
      "text/latex": [
       "$\\displaystyle \\left(-0.392x_1^{5.874}-1.944x_2^{-0.019}-0.708x_3^{1.130} + 3.150\\right)$"
      ],
      "text/plain": [
       "<IPython.core.display.Math object>"
      ]
     },
     "metadata": {},
     "output_type": "display_data"
    },
    {
     "name": "stdout",
     "output_type": "stream",
     "text": [
      "MSE between formula parameters is 3.294236048394308\n",
      "FAILURE\n",
      "\n",
      "\n",
      "----------------------------Exploring new formula #5----------------------------\n",
      "  Initialization #1\n",
      "  Finished run #1, loss 0.028738131746649742, best loss 0.028738131746649742\n",
      "  Initialization #2\n",
      "  Finished run #2, loss 0.02902054786682129, best loss 0.028738131746649742\n",
      "  Initialization #3\n",
      "  Finished run #3, loss 2.572306788146267e-13, best loss 2.572306788146267e-13\n",
      "loss is smaller than 1e-05, terminating learning process\n",
      "1 minutes 50 seconds passed from the start, the iteration took 17 seconds\n",
      "ground truth and obtained formula\n"
     ]
    },
    {
     "data": {
      "text/latex": [
       "$\\displaystyle 0.712x_{1}^{5.667}+0.381x_{2}^{3.0}+1.549x_{3}^{3.333}+1.466$"
      ],
      "text/plain": [
       "<IPython.core.display.Math object>"
      ]
     },
     "metadata": {},
     "output_type": "display_data"
    },
    {
     "data": {
      "text/latex": [
       "$\\displaystyle \\left(0.712x_1^{5.667} + 0.381x_2^{3.000} + 1.549x_3^{3.333} + 1.466\\right)$"
      ],
      "text/plain": [
       "<IPython.core.display.Math object>"
      ]
     },
     "metadata": {},
     "output_type": "display_data"
    },
    {
     "name": "stdout",
     "output_type": "stream",
     "text": [
      "MSE between formula parameters is 2.3897709208345728e-11\n",
      "EXACT RECOVERY\n",
      "\n",
      "################################################################################\n",
      "MSEs between parameters:\n",
      "[2.7125913765603726e-05, 1.3152467337462781e-08, 2.682940932910835e-10, 3.294236048394308, 2.3897709208345728e-11]\n",
      "For 3 formulas out of 5 the error is less than 1e-05.\n",
      "\n",
      "\n",
      "----------------------------Exploring new formula #1----------------------------\n",
      "  Initialization #1\n",
      "    Epoch 5000, current loss 0.0153, current formula \\left(-1.644x_1^{1.993}-2.082x_2^{0.042}-0.219x_3^{4.159}-1.221x_4^{3.012} + 1.411\\right)\n",
      "  Finished run #1, loss 3.9573501268465316e-13, best loss 3.9573501268465316e-13\n",
      "loss is smaller than 1e-05, terminating learning process\n",
      "29 seconds passed from the start, the iteration took 29 seconds\n",
      "ground truth and obtained formula\n"
     ]
    },
    {
     "data": {
      "text/latex": [
       "$\\displaystyle -1.645x_{1}^{2.0}-0.622x_{2}^{5.0}-0.208x_{3}^{4.0}-1.227x_{4}^{3.0}-0.49$"
      ],
      "text/plain": [
       "<IPython.core.display.Math object>"
      ]
     },
     "metadata": {},
     "output_type": "display_data"
    },
    {
     "data": {
      "text/latex": [
       "$\\displaystyle \\left(-1.645x_1^{2.000}-0.622x_2^{5.000}-0.208x_3^{4.000}-1.227x_4^{3.000}-0.490\\right)$"
      ],
      "text/plain": [
       "<IPython.core.display.Math object>"
      ]
     },
     "metadata": {},
     "output_type": "display_data"
    },
    {
     "name": "stdout",
     "output_type": "stream",
     "text": [
      "MSE between formula parameters is 2.6763956483143325e-10\n",
      "EXACT RECOVERY\n",
      "\n",
      "\n",
      "----------------------------Exploring new formula #2----------------------------\n",
      "  Initialization #1\n",
      "    Epoch 5000, current loss 0.268, current formula \\left(2.802x_1^{0.963} + 2.271x_2^{-0.074} + 4.949x_3^{-0.048}-5.641x_4^{-0.018}-3.114\\right)\n",
      "  Finished run #1, loss 0.26570624113082886, best loss 0.26570624113082886\n",
      "  Initialization #2\n",
      "  Finished run #2, loss 6.260279621084219e-12, best loss 6.260279621084219e-12\n",
      "loss is smaller than 1e-05, terminating learning process\n",
      "1 minutes 6 seconds passed from the start, the iteration took 37 seconds\n",
      "ground truth and obtained formula\n"
     ]
    },
    {
     "data": {
      "text/latex": [
       "$\\displaystyle 2.745x_{1}^{1.0}-1.539x_{2}^{6.0}-1.848x_{3}^{4.0}+0.58x_{4}^{5.0}-0.651$"
      ],
      "text/plain": [
       "<IPython.core.display.Math object>"
      ]
     },
     "metadata": {},
     "output_type": "display_data"
    },
    {
     "data": {
      "text/latex": [
       "$\\displaystyle \\left(2.745x_1^{1.000}-1.539x_2^{6.000}-1.848x_3^{4.000} + 0.580x_4^{5.000}-0.651\\right)$"
      ],
      "text/plain": [
       "<IPython.core.display.Math object>"
      ]
     },
     "metadata": {},
     "output_type": "display_data"
    },
    {
     "name": "stdout",
     "output_type": "stream",
     "text": [
      "MSE between formula parameters is 1.435100532237104e-09\n",
      "EXACT RECOVERY\n",
      "\n",
      "\n",
      "----------------------------Exploring new formula #3----------------------------\n",
      "  Initialization #1\n",
      "  Finished run #1, loss 2.016214278866002e-11, best loss 2.016214278866002e-11\n",
      "loss is smaller than 1e-05, terminating learning process\n",
      "1 minutes 13 seconds passed from the start, the iteration took 7 seconds\n",
      "ground truth and obtained formula\n"
     ]
    },
    {
     "data": {
      "text/latex": [
       "$\\displaystyle -0.221x_{1}^{1.0}+0.586x_{2}^{5.0}+1.824x_{3}^{1.0}-1.025x_{4}^{6.0}-0.098$"
      ],
      "text/plain": [
       "<IPython.core.display.Math object>"
      ]
     },
     "metadata": {},
     "output_type": "display_data"
    },
    {
     "data": {
      "text/latex": [
       "$\\displaystyle \\left(-0.221x_1^{1.000} + 0.586x_2^{5.000} + 1.824x_3^{1.000}-1.025x_4^{6.000}-0.098\\right)$"
      ],
      "text/plain": [
       "<IPython.core.display.Math object>"
      ]
     },
     "metadata": {},
     "output_type": "display_data"
    },
    {
     "name": "stdout",
     "output_type": "stream",
     "text": [
      "MSE between formula parameters is 3.393619218972077e-09\n",
      "EXACT RECOVERY\n",
      "\n",
      "\n",
      "----------------------------Exploring new formula #4----------------------------\n",
      "  Initialization #1\n",
      "    Epoch 5000, current loss 0.0366, current formula \\left(1.144x_1^{4.150}-0.293x_2^{1.793}-6.702x_3^{-0.025} + 7.352x_4^{-0.021}-1.154\\right)\n",
      "  Finished run #1, loss 0.036249205470085144, best loss 0.036249205470085144\n",
      "  Initialization #2\n",
      "  Finished run #2, loss 0.07538241147994995, best loss 0.036249205470085144\n",
      "  Initialization #3\n",
      "  Finished run #3, loss 1.961828095808915e-11, best loss 1.961828095808915e-11\n",
      "loss is smaller than 1e-05, terminating learning process\n",
      "2 minutes 15 seconds passed from the start, the iteration took 1 minutes 2 seconds\n",
      "ground truth and obtained formula\n"
     ]
    },
    {
     "data": {
      "text/latex": [
       "$\\displaystyle 1.165x_{1}^{4.0}-0.321x_{2}^{2.0}+0.652x_{3}^{1.0}-0.781x_{4}^{3.0}-0.652$"
      ],
      "text/plain": [
       "<IPython.core.display.Math object>"
      ]
     },
     "metadata": {},
     "output_type": "display_data"
    },
    {
     "data": {
      "text/latex": [
       "$\\displaystyle \\left(1.165x_1^{4.000}-0.321x_2^{2.000} + 0.652x_3^{1.000}-0.781x_4^{3.000}-0.652\\right)$"
      ],
      "text/plain": [
       "<IPython.core.display.Math object>"
      ]
     },
     "metadata": {},
     "output_type": "display_data"
    },
    {
     "name": "stdout",
     "output_type": "stream",
     "text": [
      "MSE between formula parameters is 1.3996165214457e-09\n",
      "EXACT RECOVERY\n",
      "\n",
      "\n",
      "----------------------------Exploring new formula #5----------------------------\n",
      "  Initialization #1\n",
      "  Finished run #1, loss 0.027403319254517555, best loss 0.027403319254517555\n",
      "  Initialization #2\n",
      "  Finished run #2, loss 1.7219239922816598e-11, best loss 1.7219239922816598e-11\n",
      "loss is smaller than 1e-05, terminating learning process\n",
      "2 minutes 26 seconds passed from the start, the iteration took 12 seconds\n",
      "ground truth and obtained formula\n"
     ]
    },
    {
     "data": {
      "text/latex": [
       "$\\displaystyle -0.991x_{1}^{1.0}+0.376x_{2}^{6.0}+0.302x_{3}^{4.0}+1.311x_{4}^{5.0}+1.379$"
      ],
      "text/plain": [
       "<IPython.core.display.Math object>"
      ]
     },
     "metadata": {},
     "output_type": "display_data"
    },
    {
     "data": {
      "text/latex": [
       "$\\displaystyle \\left(-0.991x_1^{1.000} + 0.376x_2^{6.000} + 0.302x_3^{4.000} + 1.311x_4^{5.000} + 1.379\\right)$"
      ],
      "text/plain": [
       "<IPython.core.display.Math object>"
      ]
     },
     "metadata": {},
     "output_type": "display_data"
    },
    {
     "name": "stdout",
     "output_type": "stream",
     "text": [
      "MSE between formula parameters is 3.2957695831707195e-10\n",
      "EXACT RECOVERY\n",
      "\n",
      "################################################################################\n",
      "MSEs between parameters:\n",
      "[2.6763956483143325e-10, 1.435100532237104e-09, 3.393619218972077e-09, 1.3996165214457e-09, 3.2957695831707195e-10]\n",
      "For 5 formulas out of 5 the error is less than 1e-05.\n",
      "\n",
      "\n",
      "----------------------------Exploring new formula #1----------------------------\n",
      "  Initialization #1\n",
      "  Finished run #1, loss 0.006722854450345039, best loss 0.006722854450345039\n",
      "  Initialization #2\n",
      "  Finished run #2, loss 0.007267368957400322, best loss 0.006722854450345039\n",
      "  Initialization #3\n",
      "  Finished run #3, loss 0.0069493637420237064, best loss 0.006722854450345039\n",
      "  Initialization #4\n",
      "    Epoch 5000, current loss 0.00997, current formula \\left(-0.109x_1^{1.539} + 4.737x_2^{-0.011}-0.466x_3^{5.963}-4.355x_4^{-0.022}-0.251\\right)\n",
      "    Epoch 10000, current loss 0.00988, current formula \\left(-0.109x_1^{1.543} + 5.955x_2^{-0.009}-0.466x_3^{5.969}-5.583x_4^{-0.018}-0.241\\right)\n",
      "  Finished run #4, loss 0.009880402125418186, best loss 0.006722854450345039\n",
      "55 seconds passed from the start, the iteration took 55 seconds\n",
      "ground truth and obtained formula\n"
     ]
    },
    {
     "data": {
      "text/latex": [
       "$\\displaystyle -0.106x_{1}^{2.0}-0.388x_{2}^{5.0}-0.448x_{3}^{5.5}+0.531x_{4}^{0.5}-0.212$"
      ],
      "text/plain": [
       "<IPython.core.display.Math object>"
      ]
     },
     "metadata": {},
     "output_type": "display_data"
    },
    {
     "data": {
      "text/latex": [
       "$\\displaystyle \\left(-0.106x_1^{1.567}-1.528x_2^{0.042}-0.459x_3^{5.993} + 0.511x_4^{0.537} + 1.213\\right)$"
      ],
      "text/plain": [
       "<IPython.core.display.Math object>"
      ]
     },
     "metadata": {},
     "output_type": "display_data"
    },
    {
     "name": "stdout",
     "output_type": "stream",
     "text": [
      "MSE between formula parameters is 3.149698184757047\n",
      "FAILURE\n",
      "\n",
      "\n",
      "----------------------------Exploring new formula #2----------------------------\n",
      "  Initialization #1\n",
      "    Epoch 5000, current loss 0.099, current formula \\left(-8.405x_1^{-0.030}-0.707x_2^{0.572}-1.018x_3^{1.609} + 2.277x_4^{0.016} + 6.693\\right)\n",
      "    Epoch 10000, current loss 0.098, current formula \\left(-13.834x_1^{-0.019}-0.707x_2^{0.571}-1.017x_3^{1.611} + 2.318x_4^{0.016} + 12.087\\right)\n",
      "  Finished run #1, loss 0.0980159118771553, best loss 0.0980159118771553\n",
      "  Initialization #2\n",
      "    Epoch 5000, current loss 0.103, current formula \\left(-10.404x_1^{-0.025} + 11.073x_2^{-0.013}-1.017x_3^{1.637} + 0.174x_4^{2.738}-0.783\\right)\n",
      "    Epoch 10000, current loss 0.102, current formula \\left(-15.249x_1^{-0.017} + 15.906x_2^{-0.009}-1.017x_3^{1.638} + 0.174x_4^{2.747}-0.769\\right)\n",
      "  Finished run #2, loss 0.1018437072634697, best loss 0.0980159118771553\n",
      "  Initialization #3\n",
      "    Epoch 5000, current loss 0.1, current formula \\left(-5.896x_1^{-0.042}-0.699x_2^{0.586}-1.017x_3^{1.611}-0.385x_4^{-0.070} + 6.820\\right)\n",
      "    Epoch 10000, current loss 0.099, current formula \\left(-8.791x_1^{-0.029}-0.704x_2^{0.577}-1.017x_3^{1.610}-0.391x_4^{-0.069} + 9.736\\right)\n",
      "  Finished run #3, loss 0.09904984384775162, best loss 0.0980159118771553\n",
      "  Initialization #4\n",
      "  Finished run #4, loss 1.0496098434842338e-10, best loss 1.0496098434842338e-10\n",
      "loss is smaller than 1e-05, terminating learning process\n",
      "2 minutes 57 seconds passed from the start, the iteration took 2 minutes 2 seconds\n",
      "ground truth and obtained formula\n"
     ]
    },
    {
     "data": {
      "text/latex": [
       "$\\displaystyle 1.463x_{1}^{3.5}-0.706x_{2}^{0.5}-1.023x_{3}^{1.5}+0.255x_{4}^{6.0}-0.053$"
      ],
      "text/plain": [
       "<IPython.core.display.Math object>"
      ]
     },
     "metadata": {},
     "output_type": "display_data"
    },
    {
     "data": {
      "text/latex": [
       "$\\displaystyle \\left(1.463x_1^{3.500}-0.706x_2^{0.500}-1.023x_3^{1.500} + 0.255x_4^{6.000}-0.053\\right)$"
      ],
      "text/plain": [
       "<IPython.core.display.Math object>"
      ]
     },
     "metadata": {},
     "output_type": "display_data"
    },
    {
     "name": "stdout",
     "output_type": "stream",
     "text": [
      "MSE between formula parameters is 9.140008405992026e-09\n",
      "EXACT RECOVERY\n",
      "\n",
      "\n",
      "----------------------------Exploring new formula #3----------------------------\n",
      "  Initialization #1\n",
      "    Epoch 5000, current loss 0.00842, current formula \\left(-3.154x_1^{-0.023} + 2.820x_2^{-0.019} + 0.035x_3^{2.326}-1.051x_4^{2.860}-0.121\\right)\n",
      "  Finished run #1, loss 0.008415987715125084, best loss 0.008415987715125084\n",
      "  Initialization #2\n",
      "  Finished run #2, loss 0.05205924063920975, best loss 0.008415987715125084\n",
      "  Initialization #3\n",
      "  Finished run #3, loss 0.0033514914102852345, best loss 0.0033514914102852345\n",
      "  Initialization #4\n",
      "  Finished run #4, loss 0.04894004389643669, best loss 0.0033514914102852345\n",
      "3 minutes 45 seconds passed from the start, the iteration took 48 seconds\n",
      "ground truth and obtained formula\n"
     ]
    },
    {
     "data": {
      "text/latex": [
       "$\\displaystyle 0.355x_{1}^{2.0}-0.27x_{2}^{3.0}+0.068x_{3}^{3.5}-1.037x_{4}^{3.0}-0.542$"
      ],
      "text/plain": [
       "<IPython.core.display.Math object>"
      ]
     },
     "metadata": {},
     "output_type": "display_data"
    },
    {
     "data": {
      "text/latex": [
       "$\\displaystyle \\left(0.355x_1^{2.086} + 1.354x_2^{-0.036} + 0.060x_3^{5.692}-1.042x_4^{2.986}-2.003\\right)$"
      ],
      "text/plain": [
       "<IPython.core.display.Math object>"
      ]
     },
     "metadata": {},
     "output_type": "display_data"
    },
    {
     "name": "stdout",
     "output_type": "stream",
     "text": [
      "MSE between formula parameters is 2.0889685903123887\n",
      "FAILURE\n",
      "\n",
      "\n",
      "----------------------------Exploring new formula #4----------------------------\n",
      "  Initialization #1\n",
      "    Epoch 5000, current loss 0.0387, current formula \\left(1.492x_1^{0.053}-7.237x_2^{-0.062} + 1.668x_3^{4.684} + 0.658x_4^{5.671} + 6.709\\right)\n",
      "    Epoch 10000, current loss 0.0361, current formula \\left(1.520x_1^{0.052}-11.439x_2^{-0.041} + 1.667x_3^{4.674} + 0.656x_4^{5.639} + 10.896\\right)\n",
      "  Finished run #1, loss 0.036066677421331406, best loss 0.036066677421331406\n",
      "  Initialization #2\n",
      "  Finished run #2, loss 0.13780158758163452, best loss 0.036066677421331406\n",
      "  Initialization #3\n",
      "  Finished run #3, loss 5.3139593420015174e-11, best loss 5.3139593420015174e-11\n",
      "loss is smaller than 1e-05, terminating learning process\n",
      "4 minutes 39 seconds passed from the start, the iteration took 54 seconds\n",
      "ground truth and obtained formula\n"
     ]
    },
    {
     "data": {
      "text/latex": [
       "$\\displaystyle 0.426x_{1}^{4.0}+2.201x_{2}^{0.5}+1.655x_{3}^{4.5}+0.603x_{4}^{5.0}-1.147$"
      ],
      "text/plain": [
       "<IPython.core.display.Math object>"
      ]
     },
     "metadata": {},
     "output_type": "display_data"
    },
    {
     "data": {
      "text/latex": [
       "$\\displaystyle \\left(0.426x_1^{4.000} + 2.201x_2^{0.500} + 1.655x_3^{4.500} + 0.603x_4^{5.000}-1.147\\right)$"
      ],
      "text/plain": [
       "<IPython.core.display.Math object>"
      ]
     },
     "metadata": {},
     "output_type": "display_data"
    },
    {
     "name": "stdout",
     "output_type": "stream",
     "text": [
      "MSE between formula parameters is 1.1306966227506463e-09\n",
      "EXACT RECOVERY\n",
      "\n",
      "\n",
      "----------------------------Exploring new formula #5----------------------------\n",
      "  Initialization #1\n",
      "  Finished run #1, loss 2.3212037760650395e-12, best loss 2.3212037760650395e-12\n",
      "loss is smaller than 1e-05, terminating learning process\n",
      "4 minutes 43 seconds passed from the start, the iteration took 4 seconds\n",
      "ground truth and obtained formula\n"
     ]
    },
    {
     "data": {
      "text/latex": [
       "$\\displaystyle 0.545x_{1}^{5.5}+0.812x_{2}^{6.0}-2.113x_{3}^{4.0}-1.578x_{4}^{5.5}+0.625$"
      ],
      "text/plain": [
       "<IPython.core.display.Math object>"
      ]
     },
     "metadata": {},
     "output_type": "display_data"
    },
    {
     "data": {
      "text/latex": [
       "$\\displaystyle \\left(0.545x_1^{5.500} + 0.812x_2^{6.000}-2.113x_3^{4.000}-1.578x_4^{5.500} + 0.625\\right)$"
      ],
      "text/plain": [
       "<IPython.core.display.Math object>"
      ]
     },
     "metadata": {},
     "output_type": "display_data"
    },
    {
     "name": "stdout",
     "output_type": "stream",
     "text": [
      "MSE between formula parameters is 5.996889898243454e-10\n",
      "EXACT RECOVERY\n",
      "\n",
      "################################################################################\n",
      "MSEs between parameters:\n",
      "[3.149698184757047, 9.140008405992026e-09, 2.0889685903123887, 1.1306966227506463e-09, 5.996889898243454e-10]\n",
      "For 3 formulas out of 5 the error is less than 1e-05.\n",
      "\n",
      "\n",
      "----------------------------Exploring new formula #1----------------------------\n",
      "  Initialization #1\n",
      "    Epoch 5000, current loss 0.0531, current formula \\left(0.645x_1^{4.096}-1.128x_2^{5.570} + 6.244x_3^{-0.022}-1.442x_4^{0.029}-5.289\\right)\n",
      "    Epoch 10000, current loss 0.0526, current formula \\left(0.645x_1^{4.102}-1.127x_2^{5.568} + 9.788x_3^{-0.014}-1.447x_4^{0.029}-8.831\\right)\n",
      "  Finished run #1, loss 0.05264490097761154, best loss 0.05264490097761154\n",
      "  Initialization #2\n",
      "  Finished run #2, loss 0.0024801192339509726, best loss 0.0024801192339509726\n",
      "  Initialization #3\n",
      "  Finished run #3, loss 0.0024355167988687754, best loss 0.0024355167988687754\n",
      "  Initialization #4\n",
      "    Epoch 5000, current loss 0.0171, current formula \\left(-2.857x_1^{-0.025}-1.139x_2^{5.487}-1.034x_3^{3.824} + 4.428x_4^{-0.008}-1.496\\right)\n",
      "  Finished run #4, loss 0.01707216538488865, best loss 0.0024355167988687754\n",
      "1 minutes 21 seconds passed from the start, the iteration took 1 minutes 21 seconds\n",
      "ground truth and obtained formula\n"
     ]
    },
    {
     "data": {
      "text/latex": [
       "$\\displaystyle 0.576x_{1}^{4.75}-1.122x_{2}^{5.583}-1.029x_{3}^{3.833}-0.225x_{4}^{3.667}-0.019$"
      ],
      "text/plain": [
       "<IPython.core.display.Math object>"
      ]
     },
     "metadata": {},
     "output_type": "display_data"
    },
    {
     "data": {
      "text/latex": [
       "$\\displaystyle \\left(0.587x_1^{4.868}-1.122x_2^{5.563}-1.033x_3^{3.794} + 1.064x_4^{-0.031}-1.162\\right)$"
      ],
      "text/plain": [
       "<IPython.core.display.Math object>"
      ]
     },
     "metadata": {},
     "output_type": "display_data"
    },
    {
     "name": "stdout",
     "output_type": "stream",
     "text": [
      "MSE between formula parameters is 1.850614363046352\n",
      "FAILURE\n",
      "\n",
      "\n",
      "----------------------------Exploring new formula #2----------------------------\n",
      "  Initialization #1\n",
      "  Finished run #1, loss 0.0041015297174453735, best loss 0.0041015297174453735\n",
      "  Initialization #2\n",
      "  Finished run #2, loss 0.0037639185320585966, best loss 0.0037639185320585966\n",
      "  Initialization #3\n",
      "  Finished run #3, loss 0.04429304972290993, best loss 0.0037639185320585966\n",
      "  Initialization #4\n",
      "  Finished run #4, loss 0.09168460965156555, best loss 0.0037639185320585966\n",
      "1 minutes 55 seconds passed from the start, the iteration took 34 seconds\n",
      "ground truth and obtained formula\n"
     ]
    },
    {
     "data": {
      "text/latex": [
       "$\\displaystyle -0.684x_{1}^{2.667}-0.293x_{2}^{3.583}-0.927x_{3}^{3.417}-0.752x_{4}^{3.667}-0.839$"
      ],
      "text/plain": [
       "<IPython.core.display.Math object>"
      ]
     },
     "metadata": {},
     "output_type": "display_data"
    },
    {
     "data": {
      "text/latex": [
       "$\\displaystyle \\left(-0.682x_1^{2.671}-0.887x_2^{0.069}-0.923x_3^{3.399}-0.752x_4^{3.711}-0.075\\right)$"
      ],
      "text/plain": [
       "<IPython.core.display.Math object>"
      ]
     },
     "metadata": {},
     "output_type": "display_data"
    },
    {
     "name": "stdout",
     "output_type": "stream",
     "text": [
      "MSE between formula parameters is 1.4766592808188357\n",
      "FAILURE\n",
      "\n",
      "\n",
      "----------------------------Exploring new formula #3----------------------------\n",
      "  Initialization #1\n",
      "    Epoch 5000, current loss 0.242, current formula \\left(-9.137x_1^{-0.012}-0.269x_2^{51.204} + 9.829x_3^{-0.025} + 2.145x_4^{-0.046}-3.753\\right)\n",
      "  Finished run #1, loss 0.24236837029457092, best loss 0.24236837029457092\n",
      "  Initialization #2\n",
      "  Finished run #2, loss 0.018586276099085808, best loss 0.018586276099085808\n",
      "  Initialization #3\n",
      "    Epoch 5000, current loss 0.00355, current formula \\left(0.641x_1^{3.535}-0.067x_2^{4.152}-2.213x_3^{6.025}-0.748x_4^{0.198} + 0.134\\right)\n",
      "  Finished run #3, loss 4.3979576924702e-12, best loss 4.3979576924702e-12\n",
      "loss is smaller than 1e-05, terminating learning process\n",
      "2 minutes 43 seconds passed from the start, the iteration took 48 seconds\n",
      "ground truth and obtained formula\n"
     ]
    },
    {
     "data": {
      "text/latex": [
       "$\\displaystyle 0.643x_{1}^{3.583}-0.066x_{2}^{3.5}-2.203x_{3}^{6.0}-0.388x_{4}^{1.75}-0.35$"
      ],
      "text/plain": [
       "<IPython.core.display.Math object>"
      ]
     },
     "metadata": {},
     "output_type": "display_data"
    },
    {
     "data": {
      "text/latex": [
       "$\\displaystyle \\left(0.643x_1^{3.583}-0.066x_2^{3.500}-2.203x_3^{6.000}-0.388x_4^{1.750}-0.350\\right)$"
      ],
      "text/plain": [
       "<IPython.core.display.Math object>"
      ]
     },
     "metadata": {},
     "output_type": "display_data"
    },
    {
     "name": "stdout",
     "output_type": "stream",
     "text": [
      "MSE between formula parameters is 1.5212154505197773e-08\n",
      "EXACT RECOVERY\n",
      "\n",
      "\n",
      "----------------------------Exploring new formula #4----------------------------\n",
      "  Initialization #1\n",
      "    Epoch 5000, current loss 0.246, current formula \\left(8.428x_1^{-0.042}-0.584x_2^{0.838}-6.161x_3^{-0.060} + 0.893x_4^{0.560}-1.024\\right)\n",
      "  Finished run #1, loss 0.24324990808963776, best loss 0.24324990808963776\n",
      "  Initialization #2\n",
      "  Finished run #2, loss 4.80017449400183e-11, best loss 4.80017449400183e-11\n",
      "loss is smaller than 1e-05, terminating learning process\n",
      "3 minutes 18 seconds passed from the start, the iteration took 35 seconds\n",
      "ground truth and obtained formula\n"
     ]
    },
    {
     "data": {
      "text/latex": [
       "$\\displaystyle -2.065x_{1}^{3.167}-0.578x_{2}^{1.917}+1.777x_{3}^{0.917}+0.844x_{4}^{0.5}+0.674$"
      ],
      "text/plain": [
       "<IPython.core.display.Math object>"
      ]
     },
     "metadata": {},
     "output_type": "display_data"
    },
    {
     "data": {
      "text/latex": [
       "$\\displaystyle \\left(-2.065x_1^{3.167}-0.578x_2^{1.917} + 1.777x_3^{0.917} + 0.844x_4^{0.500} + 0.674\\right)$"
      ],
      "text/plain": [
       "<IPython.core.display.Math object>"
      ]
     },
     "metadata": {},
     "output_type": "display_data"
    },
    {
     "name": "stdout",
     "output_type": "stream",
     "text": [
      "MSE between formula parameters is 1.2222516332371924e-09\n",
      "EXACT RECOVERY\n",
      "\n",
      "\n",
      "----------------------------Exploring new formula #5----------------------------\n",
      "  Initialization #1\n",
      "    Epoch 5000, current loss 0.00817, current formula \\left(3.095x_1^{-0.045}-1.994x_2^{-0.009}-0.425x_3^{6.769} + 2.138x_4^{1.247}-1.787\\right)\n",
      "  Finished run #1, loss 0.008148584514856339, best loss 0.008148584514856339\n",
      "  Initialization #2\n",
      "    Epoch 5000, current loss 0.136, current formula \\left(12.959x_1^{-0.011} + 2.650x_2^{0.009}-0.486x_3^{7.335}-14.254x_4^{-0.035}-0.564\\right)\n",
      "    Epoch 10000, current loss 0.134, current formula \\left(18.013x_1^{-0.008} + 2.693x_2^{0.009}-0.484x_3^{7.298}-19.384x_4^{-0.026}-0.523\\right)\n",
      "  Finished run #2, loss 0.13368134200572968, best loss 0.008148584514856339\n",
      "  Initialization #3\n",
      "  Finished run #3, loss 0.00012842158321291208, best loss 0.00012842158321291208\n",
      "  Initialization #4\n",
      "    Epoch 5000, current loss 0.137, current formula \\left(11.535x_1^{-0.012} + 0.643x_2^{0.039}-0.486x_3^{7.357}-13.129x_4^{-0.038} + 1.740\\right)\n",
      "    Epoch 10000, current loss 0.134, current formula \\left(16.711x_1^{-0.008} + 0.717x_2^{0.035}-0.484x_3^{7.304}-18.411x_4^{-0.028} + 1.780\\right)\n",
      "  Finished run #4, loss 0.13406036794185638, best loss 0.00012842158321291208\n",
      "4 minutes 52 seconds passed from the start, the iteration took 1 minutes 34 seconds\n",
      "ground truth and obtained formula\n"
     ]
    },
    {
     "data": {
      "text/latex": [
       "$\\displaystyle -0.637x_{1}^{0.917}+0.056x_{2}^{2.167}-0.379x_{3}^{5.833}+2.125x_{4}^{1.25}-0.235$"
      ],
      "text/plain": [
       "<IPython.core.display.Math object>"
      ]
     },
     "metadata": {},
     "output_type": "display_data"
    },
    {
     "data": {
      "text/latex": [
       "$\\displaystyle \\left(-0.637x_1^{0.914}-0.473x_2^{-0.028}-0.379x_3^{5.783} + 2.124x_4^{1.248} + 0.270\\right)$"
      ],
      "text/plain": [
       "<IPython.core.display.Math object>"
      ]
     },
     "metadata": {},
     "output_type": "display_data"
    },
    {
     "name": "stdout",
     "output_type": "stream",
     "text": [
      "MSE between formula parameters is 0.5947337776530366\n",
      "FAILURE\n",
      "\n",
      "################################################################################\n",
      "MSEs between parameters:\n",
      "[1.850614363046352, 1.4766592808188357, 1.5212154505197773e-08, 1.2222516332371924e-09, 0.5947337776530366]\n",
      "For 2 formulas out of 5 the error is less than 1e-05.\n",
      "\n",
      "\n",
      "----------------------------Exploring new formula #1----------------------------\n",
      "  Initialization #1\n",
      "  Finished run #1, loss 1.266045081271816e-11, best loss 1.266045081271816e-11\n",
      "loss is smaller than 1e-05, terminating learning process\n",
      "2 seconds passed from the start, the iteration took 2 seconds\n",
      "ground truth and obtained formula\n"
     ]
    },
    {
     "data": {
      "text/latex": [
       "$\\displaystyle 0.573x_{1}^{4.0}+0.99x_{2}^{2.0}+1.444$"
      ],
      "text/plain": [
       "<IPython.core.display.Math object>"
      ]
     },
     "metadata": {},
     "output_type": "display_data"
    },
    {
     "data": {
      "text/latex": [
       "$\\displaystyle \\left(0.573x_1^{4.000} + 0.990x_2^{2.000} + 1.444\\right)$"
      ],
      "text/plain": [
       "<IPython.core.display.Math object>"
      ]
     },
     "metadata": {},
     "output_type": "display_data"
    },
    {
     "name": "stdout",
     "output_type": "stream",
     "text": [
      "MSE between formula parameters is 1.2098264079440924e-08\n",
      "EXACT RECOVERY\n",
      "\n",
      "\n",
      "----------------------------Exploring new formula #2----------------------------\n",
      "  Initialization #1\n",
      "    Epoch 5000, current loss 0.0456, current formula \\left(3.996x_1^{-0.017}-4.342x_2^{-0.045}-0.145\\right)\n",
      "    Epoch 10000, current loss 0.0451, current formula \\left(6.054x_1^{-0.011}-6.437x_2^{-0.031}-0.106\\right)\n",
      "  Finished run #1, loss 0.04509713873267174, best loss 0.04509713873267174\n",
      "  Initialization #2\n",
      "  Finished run #2, loss 9.190604007003333e-12, best loss 9.190604007003333e-12\n",
      "loss is smaller than 1e-05, terminating learning process\n",
      "13 seconds passed from the start, the iteration took 12 seconds\n",
      "ground truth and obtained formula\n"
     ]
    },
    {
     "data": {
      "text/latex": [
       "$\\displaystyle -0.207x_{1}^{1.0}+0.8x_{2}^{4.0}-0.765$"
      ],
      "text/plain": [
       "<IPython.core.display.Math object>"
      ]
     },
     "metadata": {},
     "output_type": "display_data"
    },
    {
     "data": {
      "text/latex": [
       "$\\displaystyle \\left(-0.207x_1^{1.000} + 0.800x_2^{4.000}-0.765\\right)$"
      ],
      "text/plain": [
       "<IPython.core.display.Math object>"
      ]
     },
     "metadata": {},
     "output_type": "display_data"
    },
    {
     "name": "stdout",
     "output_type": "stream",
     "text": [
      "MSE between formula parameters is 1.1583397885317481e-08\n",
      "EXACT RECOVERY\n",
      "\n",
      "\n",
      "----------------------------Exploring new formula #3----------------------------\n",
      "  Initialization #1\n",
      "  Finished run #1, loss 8.961009885510851e-12, best loss 8.961009885510851e-12\n",
      "loss is smaller than 1e-05, terminating learning process\n",
      "15 seconds passed from the start, the iteration took 1 seconds\n",
      "ground truth and obtained formula\n"
     ]
    },
    {
     "data": {
      "text/latex": [
       "$\\displaystyle 0.934x_{1}^{4.0}+1.651x_{2}^{6.0}-0.408$"
      ],
      "text/plain": [
       "<IPython.core.display.Math object>"
      ]
     },
     "metadata": {},
     "output_type": "display_data"
    },
    {
     "data": {
      "text/latex": [
       "$\\displaystyle \\left(0.934x_1^{4.000} + 1.651x_2^{6.000}-0.408\\right)$"
      ],
      "text/plain": [
       "<IPython.core.display.Math object>"
      ]
     },
     "metadata": {},
     "output_type": "display_data"
    },
    {
     "name": "stdout",
     "output_type": "stream",
     "text": [
      "MSE between formula parameters is 7.787358136113199e-09\n",
      "EXACT RECOVERY\n",
      "\n",
      "\n",
      "----------------------------Exploring new formula #4----------------------------\n",
      "  Initialization #1\n",
      "    Epoch 5000, current loss 0.2, current formula \\left(-14.982x_1^{-0.013} + 13.576x_2^{-0.022} + 1.514\\right)\n",
      "    Epoch 10000, current loss 0.199, current formula \\left(-20.084x_1^{-0.010} + 18.691x_2^{-0.017} + 1.499\\right)\n",
      "  Finished run #1, loss 0.19853955507278442, best loss 0.19853955507278442\n",
      "  Initialization #2\n",
      "    Epoch 5000, current loss 0.2, current formula \\left(-13.425x_1^{-0.015} + 13.684x_2^{-0.022}-0.153\\right)\n",
      "    Epoch 10000, current loss 0.199, current formula \\left(-17.955x_1^{-0.011} + 18.228x_2^{-0.017}-0.168\\right)\n",
      "  Finished run #2, loss 0.1986788660287857, best loss 0.19853955507278442\n",
      "  Initialization #3\n",
      "    Epoch 5000, current loss 0.0727, current formula \\left(1.376x_1^{5.160} + 4.930x_2^{-0.049}-5.296\\right)\n",
      "    Epoch 10000, current loss 0.0714, current formula \\left(1.372x_1^{5.180} + 7.280x_2^{-0.035}-7.650\\right)\n",
      "  Finished run #3, loss 0.07135304063558578, best loss 0.07135304063558578\n",
      "  Initialization #4\n",
      "    Epoch 5000, current loss 0.0725, current formula \\left(1.375x_1^{5.162} + 5.155x_2^{-0.047}-5.520\\right)\n",
      "    Epoch 10000, current loss 0.0711, current formula \\left(1.371x_1^{5.184} + 7.996x_2^{-0.032}-8.364\\right)\n",
      "  Finished run #4, loss 0.07110799849033356, best loss 0.07110799849033356\n",
      "57 seconds passed from the start, the iteration took 42 seconds\n",
      "ground truth and obtained formula\n"
     ]
    },
    {
     "data": {
      "text/latex": [
       "$\\displaystyle 0.697x_{1}^{6.0}-1.568x_{2}^{2.0}+0.719$"
      ],
      "text/plain": [
       "<IPython.core.display.Math object>"
      ]
     },
     "metadata": {},
     "output_type": "display_data"
    },
    {
     "data": {
      "text/latex": [
       "$\\displaystyle \\left(1.371x_1^{5.184} + 7.994x_2^{-0.032}-8.366\\right)$"
      ],
      "text/plain": [
       "<IPython.core.display.Math object>"
      ]
     },
     "metadata": {},
     "output_type": "display_data"
    },
    {
     "name": "stdout",
     "output_type": "stream",
     "text": [
      "MSE between formula parameters is 35.84467899347483\n",
      "FAILURE\n",
      "\n",
      "\n",
      "----------------------------Exploring new formula #5----------------------------\n",
      "  Initialization #1\n",
      "    Epoch 5000, current loss 0.0195, current formula \\left(-2.557x_1^{-0.210}-1.457x_2^{1.643} + 3.190\\right)\n",
      "  Finished run #1, loss 0.01939300075173378, best loss 0.01939300075173378\n",
      "  Initialization #2\n",
      "    Epoch 5000, current loss 0.0503, current formula \\left(-3.998x_1^{-0.185} + 5.072x_2^{-0.091}-1.334\\right)\n",
      "    Epoch 10000, current loss 0.0494, current formula \\left(-5.702x_1^{-0.134} + 6.809x_2^{-0.070}-1.369\\right)\n",
      "  Finished run #2, loss 0.04943125322461128, best loss 0.01939300075173378\n",
      "  Initialization #3\n",
      "    Epoch 5000, current loss 0.0499, current formula \\left(1.292x_1^{1.221} + 3.799x_2^{-0.109}-5.198\\right)\n",
      "    Epoch 10000, current loss 0.0488, current formula \\left(1.322x_1^{1.140} + 5.301x_2^{-0.082}-6.751\\right)\n",
      "  Finished run #3, loss 0.048807498067617416, best loss 0.01939300075173378\n",
      "  Initialization #4\n",
      "    Epoch 5000, current loss 0.0196, current formula \\left(-2.374x_1^{-0.223}-1.458x_2^{1.641} + 3.007\\right)\n",
      "  Finished run #4, loss 0.019563356414437294, best loss 0.01939300075173378\n",
      "1 minutes 31 seconds passed from the start, the iteration took 35 seconds\n",
      "ground truth and obtained formula\n"
     ]
    },
    {
     "data": {
      "text/latex": [
       "$\\displaystyle 0.99x_{1}^{6.0}-1.323x_{2}^{3.0}-0.144$"
      ],
      "text/plain": [
       "<IPython.core.display.Math object>"
      ]
     },
     "metadata": {},
     "output_type": "display_data"
    },
    {
     "data": {
      "text/latex": [
       "$\\displaystyle \\left(-2.912x_1^{-0.187}-1.454x_2^{1.647} + 3.546\\right)$"
      ],
      "text/plain": [
       "<IPython.core.display.Math object>"
      ]
     },
     "metadata": {},
     "output_type": "display_data"
    },
    {
     "name": "stdout",
     "output_type": "stream",
     "text": [
      "MSE between formula parameters is 13.794295233753758\n",
      "FAILURE\n",
      "\n",
      "################################################################################\n",
      "MSEs between parameters:\n",
      "[1.2098264079440924e-08, 1.1583397885317481e-08, 7.787358136113199e-09, 35.84467899347483, 13.794295233753758]\n",
      "For 3 formulas out of 5 the error is less than 1e-05.\n",
      "\n",
      "\n",
      "----------------------------Exploring new formula #1----------------------------\n",
      "  Initialization #1\n",
      "  Finished run #1, loss 0.0001484544773120433, best loss 0.0001484544773120433\n",
      "  Initialization #2\n",
      "    Epoch 5000, current loss 0.00492, current formula \\left(-2.925x_1^{-0.004} + 2.146x_2^{-0.130}-1.263\\right)\n",
      "  Finished run #2, loss 0.0048436569049954414, best loss 0.0001484544773120433\n",
      "  Initialization #3\n",
      "  Finished run #3, loss 1.743671830187199e-12, best loss 1.743671830187199e-12\n",
      "loss is smaller than 1e-05, terminating learning process\n",
      "9 seconds passed from the start, the iteration took 9 seconds\n",
      "ground truth and obtained formula\n"
     ]
    },
    {
     "data": {
      "text/latex": [
       "$\\displaystyle -0.06x_{1}^{4.5}-0.861x_{2}^{1.0}-1.317$"
      ],
      "text/plain": [
       "<IPython.core.display.Math object>"
      ]
     },
     "metadata": {},
     "output_type": "display_data"
    },
    {
     "data": {
      "text/latex": [
       "$\\displaystyle \\left(-0.060x_1^{4.499}-0.861x_2^{1.000}-1.317\\right)$"
      ],
      "text/plain": [
       "<IPython.core.display.Math object>"
      ]
     },
     "metadata": {},
     "output_type": "display_data"
    },
    {
     "name": "stdout",
     "output_type": "stream",
     "text": [
      "MSE between formula parameters is 6.356327970913345e-08\n",
      "EXACT RECOVERY\n",
      "\n",
      "\n",
      "----------------------------Exploring new formula #2----------------------------\n",
      "  Initialization #1\n",
      "    Epoch 5000, current loss 0.0493, current formula \\left(0.824x_1^{3.413}-3.875x_2^{-0.071} + 5.081\\right)\n",
      "    Epoch 10000, current loss 0.0483, current formula \\left(0.818x_1^{3.363}-5.835x_2^{-0.049} + 7.045\\right)\n",
      "  Finished run #1, loss 0.04832037538290024, best loss 0.04832037538290024\n",
      "  Initialization #2\n",
      "  Finished run #2, loss 2.061373207545847e-12, best loss 2.061373207545847e-12\n",
      "loss is smaller than 1e-05, terminating learning process\n",
      "21 seconds passed from the start, the iteration took 12 seconds\n",
      "ground truth and obtained formula\n"
     ]
    },
    {
     "data": {
      "text/latex": [
       "$\\displaystyle 1.089x_{1}^{1.5}+1.008x_{2}^{3.0}+0.374$"
      ],
      "text/plain": [
       "<IPython.core.display.Math object>"
      ]
     },
     "metadata": {},
     "output_type": "display_data"
    },
    {
     "data": {
      "text/latex": [
       "$\\displaystyle \\left(1.089x_1^{1.500} + 1.008x_2^{3.000} + 0.374\\right)$"
      ],
      "text/plain": [
       "<IPython.core.display.Math object>"
      ]
     },
     "metadata": {},
     "output_type": "display_data"
    },
    {
     "name": "stdout",
     "output_type": "stream",
     "text": [
      "MSE between formula parameters is 1.0923049131861263e-10\n",
      "EXACT RECOVERY\n",
      "\n",
      "\n",
      "----------------------------Exploring new formula #3----------------------------\n",
      "  Initialization #1\n",
      "    Epoch 5000, current loss 0.376, current formula \\left(-7.272x_1^{-0.045}-3.414x_2^{5.011} + 7.556\\right)\n",
      "    Epoch 10000, current loss 0.373, current formula \\left(-11.105x_1^{-0.031}-3.414x_2^{5.006} + 11.401\\right)\n",
      "  Finished run #1, loss 0.3728168308734894, best loss 0.3728168308734894\n",
      "  Initialization #2\n",
      "  Finished run #2, loss 2.0182965541903908e-12, best loss 2.0182965541903908e-12\n",
      "loss is smaller than 1e-05, terminating learning process\n",
      "32 seconds passed from the start, the iteration took 12 seconds\n",
      "ground truth and obtained formula\n"
     ]
    },
    {
     "data": {
      "text/latex": [
       "$\\displaystyle 3.254x_{1}^{5.0}-1.208x_{2}^{2.0}-0.66$"
      ],
      "text/plain": [
       "<IPython.core.display.Math object>"
      ]
     },
     "metadata": {},
     "output_type": "display_data"
    },
    {
     "data": {
      "text/latex": [
       "$\\displaystyle \\left(3.254x_1^{5.000}-1.208x_2^{2.000}-0.660\\right)$"
      ],
      "text/plain": [
       "<IPython.core.display.Math object>"
      ]
     },
     "metadata": {},
     "output_type": "display_data"
    },
    {
     "name": "stdout",
     "output_type": "stream",
     "text": [
      "MSE between formula parameters is 1.3631762385557522e-11\n",
      "EXACT RECOVERY\n",
      "\n",
      "\n",
      "----------------------------Exploring new formula #4----------------------------\n",
      "  Initialization #1\n",
      "  Finished run #1, loss 7.960040966281667e-05, best loss 7.960040966281667e-05\n",
      "  Initialization #2\n",
      "  Finished run #2, loss 5.855885554240103e-09, best loss 5.855885554240103e-09\n",
      "loss is smaller than 1e-05, terminating learning process\n",
      "36 seconds passed from the start, the iteration took 3 seconds\n",
      "ground truth and obtained formula\n"
     ]
    },
    {
     "data": {
      "text/latex": [
       "$\\displaystyle 0.185x_{1}^{2.0}-0.806x_{2}^{4.0}-0.35$"
      ],
      "text/plain": [
       "<IPython.core.display.Math object>"
      ]
     },
     "metadata": {},
     "output_type": "display_data"
    },
    {
     "data": {
      "text/latex": [
       "$\\displaystyle \\left(0.187x_1^{2.016}-0.798x_2^{3.977}-0.350\\right)$"
      ],
      "text/plain": [
       "<IPython.core.display.Math object>"
      ]
     },
     "metadata": {},
     "output_type": "display_data"
    },
    {
     "name": "stdout",
     "output_type": "stream",
     "text": [
      "MSE between formula parameters is 0.00016618760600253246\n",
      "FAILURE\n",
      "\n",
      "\n",
      "----------------------------Exploring new formula #5----------------------------\n",
      "  Initialization #1\n",
      "  Finished run #1, loss 2.6048851395898964e-06, best loss 2.6048851395898964e-06\n",
      "loss is smaller than 1e-05, terminating learning process\n",
      "39 seconds passed from the start, the iteration took 3 seconds\n",
      "ground truth and obtained formula\n"
     ]
    },
    {
     "data": {
      "text/latex": [
       "$\\displaystyle 0.608x_{1}^{6.0}-1.248x_{2}^{1.0}+1.314$"
      ],
      "text/plain": [
       "<IPython.core.display.Math object>"
      ]
     },
     "metadata": {},
     "output_type": "display_data"
    },
    {
     "data": {
      "text/latex": [
       "$\\displaystyle \\left(0.604x_1^{5.845}-1.209x_2^{1.055} + 1.271\\right)$"
      ],
      "text/plain": [
       "<IPython.core.display.Math object>"
      ]
     },
     "metadata": {},
     "output_type": "display_data"
    },
    {
     "name": "stdout",
     "output_type": "stream",
     "text": [
      "MSE between formula parameters is 0.006115919069682718\n",
      "FAILURE\n",
      "\n",
      "################################################################################\n",
      "MSEs between parameters:\n",
      "[6.356327970913345e-08, 1.0923049131861263e-10, 1.3631762385557522e-11, 0.00016618760600253246, 0.006115919069682718]\n",
      "For 3 formulas out of 5 the error is less than 1e-05.\n",
      "\n",
      "\n",
      "----------------------------Exploring new formula #1----------------------------\n",
      "  Initialization #1\n",
      "  Finished run #1, loss 0.00012061892630299553, best loss 0.00012061892630299553\n",
      "  Initialization #2\n",
      "  Finished run #2, loss 1.467011770728277e-05, best loss 1.467011770728277e-05\n",
      "  Initialization #3\n",
      "  Finished run #3, loss 0.01744200475513935, best loss 1.467011770728277e-05\n",
      "  Initialization #4\n",
      "  Finished run #4, loss 0.017731377854943275, best loss 1.467011770728277e-05\n",
      "6 seconds passed from the start, the iteration took 6 seconds\n",
      "ground truth and obtained formula\n"
     ]
    },
    {
     "data": {
      "text/latex": [
       "$\\displaystyle 0.616x_{1}^{5.333}+0.812x_{2}^{0.25}-1.323$"
      ],
      "text/plain": [
       "<IPython.core.display.Math object>"
      ]
     },
     "metadata": {},
     "output_type": "display_data"
    },
    {
     "data": {
      "text/latex": [
       "$\\displaystyle \\left(0.621x_1^{5.461} + 0.507x_2^{0.488}-1.004\\right)$"
      ],
      "text/plain": [
       "<IPython.core.display.Math object>"
      ]
     },
     "metadata": {},
     "output_type": "display_data"
    },
    {
     "name": "stdout",
     "output_type": "stream",
     "text": [
      "MSE between formula parameters is 0.053538528822081585\n",
      "FAILURE\n",
      "\n",
      "\n",
      "----------------------------Exploring new formula #2----------------------------\n",
      "  Initialization #1\n",
      "  Finished run #1, loss 0.006825956515967846, best loss 0.006825956515967846\n",
      "  Initialization #2\n",
      "  Finished run #2, loss 0.06977413594722748, best loss 0.006825956515967846\n",
      "  Initialization #3\n",
      "  Finished run #3, loss 0.006840849760919809, best loss 0.006825956515967846\n",
      "  Initialization #4\n",
      "    Epoch 5000, current loss 0.0686, current formula \\left(4.215x_1^{-0.050}-6.552x_2^{0.002} + 3.310\\right)\n",
      "  Finished run #4, loss 0.06832116842269897, best loss 0.006825956515967846\n",
      "20 seconds passed from the start, the iteration took 14 seconds\n",
      "ground truth and obtained formula\n"
     ]
    },
    {
     "data": {
      "text/latex": [
       "$\\displaystyle -0.964x_{1}^{3.583}+0.572x_{2}^{5.167}+1.351$"
      ],
      "text/plain": [
       "<IPython.core.display.Math object>"
      ]
     },
     "metadata": {},
     "output_type": "display_data"
    },
    {
     "data": {
      "text/latex": [
       "$\\displaystyle \\left(-1.026x_1^{3.271} + 3.131x_2^{0.018}-1.600\\right)$"
      ],
      "text/plain": [
       "<IPython.core.display.Math object>"
      ]
     },
     "metadata": {},
     "output_type": "display_data"
    },
    {
     "name": "stdout",
     "output_type": "stream",
     "text": [
      "MSE between formula parameters is 8.37402740314754\n",
      "FAILURE\n",
      "\n",
      "\n",
      "----------------------------Exploring new formula #3----------------------------\n",
      "  Initialization #1\n",
      "    Epoch 5000, current loss 0.102, current formula \\left(-6.834x_1^{-0.059} + 6.153x_2^{-0.015} + 0.783\\right)\n",
      "    Epoch 10000, current loss 0.0994, current formula \\left(-11.490x_1^{-0.037} + 10.720x_2^{-0.009} + 0.884\\right)\n",
      "  Finished run #1, loss 0.0993877649307251, best loss 0.0993877649307251\n",
      "  Initialization #2\n",
      "    Epoch 5000, current loss 0.0442, current formula \\left(1.671x_1^{1.064} + 2.344x_2^{-0.061}-3.491\\right)\n",
      "    Epoch 10000, current loss 0.0439, current formula \\left(1.669x_1^{1.067} + 3.482x_2^{-0.043}-4.630\\right)\n",
      "  Finished run #2, loss 0.04392918571829796, best loss 0.04392918571829796\n",
      "  Initialization #3\n",
      "  Finished run #3, loss 3.969713555269927e-13, best loss 3.969713555269927e-13\n",
      "loss is smaller than 1e-05, terminating learning process\n",
      "42 seconds passed from the start, the iteration took 22 seconds\n",
      "ground truth and obtained formula\n"
     ]
    },
    {
     "data": {
      "text/latex": [
       "$\\displaystyle 0.967x_{1}^{1.917}-1.225x_{2}^{4.75}-0.253$"
      ],
      "text/plain": [
       "<IPython.core.display.Math object>"
      ]
     },
     "metadata": {},
     "output_type": "display_data"
    },
    {
     "data": {
      "text/latex": [
       "$\\displaystyle \\left(0.967x_1^{1.917}-1.225x_2^{4.750}-0.253\\right)$"
      ],
      "text/plain": [
       "<IPython.core.display.Math object>"
      ]
     },
     "metadata": {},
     "output_type": "display_data"
    },
    {
     "name": "stdout",
     "output_type": "stream",
     "text": [
      "MSE between formula parameters is 1.0047784826383576e-11\n",
      "EXACT RECOVERY\n",
      "\n",
      "\n",
      "----------------------------Exploring new formula #4----------------------------\n",
      "  Initialization #1\n",
      "  Finished run #1, loss 0.036190904676914215, best loss 0.036190904676914215\n",
      "  Initialization #2\n",
      "  Finished run #2, loss 5.000385135645047e-05, best loss 5.000385135645047e-05\n",
      "  Initialization #3\n",
      "  Finished run #3, loss 4.813983105123043e-05, best loss 4.813983105123043e-05\n",
      "  Initialization #4\n",
      "  Finished run #4, loss 0.036143623292446136, best loss 4.813983105123043e-05\n",
      "52 seconds passed from the start, the iteration took 10 seconds\n",
      "ground truth and obtained formula\n"
     ]
    },
    {
     "data": {
      "text/latex": [
       "$\\displaystyle -1.05x_{1}^{5.417}-0.064x_{2}^{3.0}+0.379$"
      ],
      "text/plain": [
       "<IPython.core.display.Math object>"
      ]
     },
     "metadata": {},
     "output_type": "display_data"
    },
    {
     "data": {
      "text/latex": [
       "$\\displaystyle \\left(-1.043x_1^{5.413}-0.956x_2^{0.018} + 1.307\\right)$"
      ],
      "text/plain": [
       "<IPython.core.display.Math object>"
      ]
     },
     "metadata": {},
     "output_type": "display_data"
    },
    {
     "name": "stdout",
     "output_type": "stream",
     "text": [
      "MSE between formula parameters is 2.110008534105225\n",
      "FAILURE\n",
      "\n",
      "\n",
      "----------------------------Exploring new formula #5----------------------------\n",
      "  Initialization #1\n",
      "  Finished run #1, loss 0.0004655905067920685, best loss 0.0004655905067920685\n",
      "  Initialization #2\n",
      "  Finished run #2, loss 3.759692481253296e-05, best loss 3.759692481253296e-05\n",
      "  Initialization #3\n",
      "  Finished run #3, loss 0.0003342518175486475, best loss 3.759692481253296e-05\n",
      "  Initialization #4\n",
      "  Finished run #4, loss 1.218644456457696e-06, best loss 1.218644456457696e-06\n",
      "loss is smaller than 1e-05, terminating learning process\n",
      "58 seconds passed from the start, the iteration took 5 seconds\n",
      "ground truth and obtained formula\n"
     ]
    },
    {
     "data": {
      "text/latex": [
       "$\\displaystyle 0.232x_{1}^{3.333}-0.077x_{2}^{0.5}-0.796$"
      ],
      "text/plain": [
       "<IPython.core.display.Math object>"
      ]
     },
     "metadata": {},
     "output_type": "display_data"
    },
    {
     "data": {
      "text/latex": [
       "$\\displaystyle \\left(0.171x_1^{2.737} + 1.206x_2^{-0.018}-2.076\\right)$"
      ],
      "text/plain": [
       "<IPython.core.display.Math object>"
      ]
     },
     "metadata": {},
     "output_type": "display_data"
    },
    {
     "name": "stdout",
     "output_type": "stream",
     "text": [
      "MSE between formula parameters is 0.7824799806979297\n",
      "FAILURE\n",
      "\n",
      "################################################################################\n",
      "MSEs between parameters:\n",
      "[0.053538528822081585, 8.37402740314754, 1.0047784826383576e-11, 2.110008534105225, 0.7824799806979297]\n",
      "For 1 formulas out of 5 the error is less than 1e-05.\n",
      "\n",
      "\n",
      "----------------------------Exploring new formula #1----------------------------\n",
      "  Initialization #1\n",
      "  Finished run #1, loss 0.00014921512047294527, best loss 0.00014921512047294527\n",
      "  Initialization #2\n",
      "  Finished run #2, loss 1.9908390908041085e-11, best loss 1.9908390908041085e-11\n",
      "loss is smaller than 1e-05, terminating learning process\n",
      "4 seconds passed from the start, the iteration took 4 seconds\n",
      "ground truth and obtained formula\n"
     ]
    },
    {
     "data": {
      "text/latex": [
       "$\\displaystyle -0.145x_{1}^{5.0}+1.448x_{2}^{6.0}+0.28x_{3}^{6.0}+0.108$"
      ],
      "text/plain": [
       "<IPython.core.display.Math object>"
      ]
     },
     "metadata": {},
     "output_type": "display_data"
    },
    {
     "data": {
      "text/latex": [
       "$\\displaystyle \\left(-0.145x_1^{4.993} + 1.448x_2^{6.000} + 0.280x_3^{5.999} + 0.108\\right)$"
      ],
      "text/plain": [
       "<IPython.core.display.Math object>"
      ]
     },
     "metadata": {},
     "output_type": "display_data"
    },
    {
     "name": "stdout",
     "output_type": "stream",
     "text": [
      "MSE between formula parameters is 6.6199399649405755e-06\n",
      "EXACT RECOVERY\n",
      "\n",
      "\n",
      "----------------------------Exploring new formula #2----------------------------\n",
      "  Initialization #1\n",
      "  Finished run #1, loss 0.0011264472268521786, best loss 0.0011264472268521786\n",
      "  Initialization #2\n",
      "  Finished run #2, loss 0.0014154354576021433, best loss 0.0011264472268521786\n",
      "  Initialization #3\n",
      "  Finished run #3, loss 0.0010120143415406346, best loss 0.0010120143415406346\n",
      "  Initialization #4\n",
      "  Finished run #4, loss 0.005485975183546543, best loss 0.0010120143415406346\n",
      "13 seconds passed from the start, the iteration took 10 seconds\n",
      "ground truth and obtained formula\n"
     ]
    },
    {
     "data": {
      "text/latex": [
       "$\\displaystyle -0.314x_{1}^{4.0}+1.843x_{2}^{6.0}-0.435x_{3}^{1.0}+0.845$"
      ],
      "text/plain": [
       "<IPython.core.display.Math object>"
      ]
     },
     "metadata": {},
     "output_type": "display_data"
    },
    {
     "data": {
      "text/latex": [
       "$\\displaystyle \\left(-9.701x_1^{17.439} + 2.164x_2^{6.852} + 0.969x_3^{-0.103}-0.453\\right)$"
      ],
      "text/plain": [
       "<IPython.core.display.Math object>"
      ]
     },
     "metadata": {},
     "output_type": "display_data"
    },
    {
     "name": "stdout",
     "output_type": "stream",
     "text": [
      "MSE between formula parameters is 39.20112239810421\n",
      "FAILURE\n",
      "\n",
      "\n",
      "----------------------------Exploring new formula #3----------------------------\n",
      "  Initialization #1\n",
      "  Finished run #1, loss 0.0012293283361941576, best loss 0.0012293283361941576\n",
      "  Initialization #2\n",
      "    Epoch 5000, current loss 0.179, current formula \\left(-8.584x_1^{-0.036} + 8.039x_2^{0.015}-1.242x_3^{0.096} + 1.683\\right)\n",
      "    Epoch 10000, current loss 0.177, current formula \\left(-12.152x_1^{-0.026} + 11.523x_2^{0.011}-1.243x_3^{0.097} + 1.774\\right)\n",
      "  Finished run #2, loss 0.17726796865463257, best loss 0.0012293283361941576\n",
      "  Initialization #3\n",
      "  Finished run #3, loss 0.0010522581869736314, best loss 0.0010522581869736314\n",
      "  Initialization #4\n",
      "    Epoch 5000, current loss 0.18, current formula \\left(-7.385x_1^{-0.039}-1.066x_2^{20.034}-0.341x_3^{-0.075} + 7.614\\right)\n",
      "    Epoch 10000, current loss 0.178, current formula \\left(-13.274x_1^{-0.022}-1.026x_2^{19.664}-0.321x_3^{-0.072} + 13.486\\right)\n",
      "  Finished run #4, loss 0.17826269567012787, best loss 0.0010522581869736314\n",
      "44 seconds passed from the start, the iteration took 31 seconds\n",
      "ground truth and obtained formula\n"
     ]
    },
    {
     "data": {
      "text/latex": [
       "$\\displaystyle 1.569x_{1}^{6.0}+0.221x_{2}^{4.0}-0.505x_{3}^{2.0}-0.696$"
      ],
      "text/plain": [
       "<IPython.core.display.Math object>"
      ]
     },
     "metadata": {},
     "output_type": "display_data"
    },
    {
     "data": {
      "text/latex": [
       "$\\displaystyle \\left(1.496x_1^{6.828}-0.533x_2^{0.019} + 0.069x_3^{-1.770}-0.508\\right)$"
      ],
      "text/plain": [
       "<IPython.core.display.Math object>"
      ]
     },
     "metadata": {},
     "output_type": "display_data"
    },
    {
     "name": "stdout",
     "output_type": "stream",
     "text": [
      "MSE between formula parameters is 4.527016704301436\n",
      "FAILURE\n",
      "\n",
      "\n",
      "----------------------------Exploring new formula #4----------------------------\n",
      "  Initialization #1\n",
      "  Finished run #1, loss 9.272582701669307e-12, best loss 9.272582701669307e-12\n",
      "loss is smaller than 1e-05, terminating learning process\n",
      "46 seconds passed from the start, the iteration took 2 seconds\n",
      "ground truth and obtained formula\n"
     ]
    },
    {
     "data": {
      "text/latex": [
       "$\\displaystyle 0.494x_{1}^{6.0}+0.815x_{2}^{5.0}+0.221x_{3}^{2.0}+0.909$"
      ],
      "text/plain": [
       "<IPython.core.display.Math object>"
      ]
     },
     "metadata": {},
     "output_type": "display_data"
    },
    {
     "data": {
      "text/latex": [
       "$\\displaystyle \\left(0.494x_1^{6.000} + 0.815x_2^{5.000} + 0.221x_3^{2.000} + 0.909\\right)$"
      ],
      "text/plain": [
       "<IPython.core.display.Math object>"
      ]
     },
     "metadata": {},
     "output_type": "display_data"
    },
    {
     "name": "stdout",
     "output_type": "stream",
     "text": [
      "MSE between formula parameters is 2.411772981325555e-08\n",
      "EXACT RECOVERY\n",
      "\n",
      "\n",
      "----------------------------Exploring new formula #5----------------------------\n",
      "  Initialization #1\n",
      "  Finished run #1, loss 3.821014685212454e-11, best loss 3.821014685212454e-11\n",
      "loss is smaller than 1e-05, terminating learning process\n",
      "47 seconds passed from the start, the iteration took 1 seconds\n",
      "ground truth and obtained formula\n"
     ]
    },
    {
     "data": {
      "text/latex": [
       "$\\displaystyle -2.163x_{1}^{2.0}-0.222x_{2}^{6.0}-1.459x_{3}^{1.0}-1.746$"
      ],
      "text/plain": [
       "<IPython.core.display.Math object>"
      ]
     },
     "metadata": {},
     "output_type": "display_data"
    },
    {
     "data": {
      "text/latex": [
       "$\\displaystyle \\left(-2.163x_1^{2.000}-0.222x_2^{6.000}-1.459x_3^{1.000}-1.746\\right)$"
      ],
      "text/plain": [
       "<IPython.core.display.Math object>"
      ]
     },
     "metadata": {},
     "output_type": "display_data"
    },
    {
     "name": "stdout",
     "output_type": "stream",
     "text": [
      "MSE between formula parameters is 4.049095915701985e-09\n",
      "EXACT RECOVERY\n",
      "\n",
      "################################################################################\n",
      "MSEs between parameters:\n",
      "[6.6199399649405755e-06, 39.20112239810421, 4.527016704301436, 2.411772981325555e-08, 4.049095915701985e-09]\n",
      "For 3 formulas out of 5 the error is less than 1e-05.\n",
      "\n",
      "\n",
      "----------------------------Exploring new formula #1----------------------------\n",
      "  Initialization #1\n",
      "  Finished run #1, loss 6.042492896085605e-05, best loss 6.042492896085605e-05\n",
      "  Initialization #2\n",
      "  Finished run #2, loss 0.0030805389396846294, best loss 6.042492896085605e-05\n",
      "  Initialization #3\n",
      "  Finished run #3, loss 0.0028689177706837654, best loss 6.042492896085605e-05\n",
      "  Initialization #4\n",
      "  Finished run #4, loss 0.00016380634042434394, best loss 6.042492896085605e-05\n",
      "12 seconds passed from the start, the iteration took 12 seconds\n",
      "ground truth and obtained formula\n"
     ]
    },
    {
     "data": {
      "text/latex": [
       "$\\displaystyle 0.156x_{1}^{4.0}+0.679x_{2}^{2.0}+0.064x_{3}^{3.5}-0.426$"
      ],
      "text/plain": [
       "<IPython.core.display.Math object>"
      ]
     },
     "metadata": {},
     "output_type": "display_data"
    },
    {
     "data": {
      "text/latex": [
       "$\\displaystyle \\left(0.107x_1^{2.164} + 0.696x_2^{2.025} + 0.125x_3^{0.040}-0.548\\right)$"
      ],
      "text/plain": [
       "<IPython.core.display.Math object>"
      ]
     },
     "metadata": {},
     "output_type": "display_data"
    },
    {
     "name": "stdout",
     "output_type": "stream",
     "text": [
      "MSE between formula parameters is 2.1947365886498265\n",
      "FAILURE\n",
      "\n",
      "\n",
      "----------------------------Exploring new formula #2----------------------------\n",
      "  Initialization #1\n",
      "  Finished run #1, loss 0.0002706964442040771, best loss 0.0002706964442040771\n",
      "  Initialization #2\n",
      "  Finished run #2, loss 0.0002491127233952284, best loss 0.0002491127233952284\n",
      "  Initialization #3\n",
      "  Finished run #3, loss 0.00030407175654545426, best loss 0.0002491127233952284\n",
      "  Initialization #4\n",
      "  Finished run #4, loss 0.0003065932251047343, best loss 0.0002491127233952284\n",
      "18 seconds passed from the start, the iteration took 6 seconds\n",
      "ground truth and obtained formula\n"
     ]
    },
    {
     "data": {
      "text/latex": [
       "$\\displaystyle -0.866x_{1}^{2.0}+0.065x_{2}^{1.5}+0.188x_{3}^{2.0}+0.862$"
      ],
      "text/plain": [
       "<IPython.core.display.Math object>"
      ]
     },
     "metadata": {},
     "output_type": "display_data"
    },
    {
     "data": {
      "text/latex": [
       "$\\displaystyle \\left(-0.820x_1^{1.533} + 0.069x_2^{0.606} + 1.092x_3^{0.057}-0.073\\right)$"
      ],
      "text/plain": [
       "<IPython.core.display.Math object>"
      ]
     },
     "metadata": {},
     "output_type": "display_data"
    },
    {
     "name": "stdout",
     "output_type": "stream",
     "text": [
      "MSE between formula parameters is 0.9268936694213258\n",
      "FAILURE\n",
      "\n",
      "\n",
      "----------------------------Exploring new formula #3----------------------------\n",
      "  Initialization #1\n",
      "    Epoch 5000, current loss 0.0343, current formula \\left(0.221x_1^{0.111}-2.833x_2^{0.002} + 3.675x_3^{-0.075}-2.987\\right)\n",
      "  Finished run #1, loss 0.03369715064764023, best loss 0.03369715064764023\n",
      "  Initialization #2\n",
      "  Finished run #2, loss 7.430378173012286e-05, best loss 7.430378173012286e-05\n",
      "  Initialization #3\n",
      "  Finished run #3, loss 0.001848301850259304, best loss 7.430378173012286e-05\n",
      "  Initialization #4\n",
      "  Finished run #4, loss 0.03509599342942238, best loss 7.430378173012286e-05\n",
      "43 seconds passed from the start, the iteration took 25 seconds\n",
      "ground truth and obtained formula\n"
     ]
    },
    {
     "data": {
      "text/latex": [
       "$\\displaystyle -1.016x_{1}^{4.0}+0.059x_{2}^{5.0}-1.068x_{3}^{3.0}-1.29$"
      ],
      "text/plain": [
       "<IPython.core.display.Math object>"
      ]
     },
     "metadata": {},
     "output_type": "display_data"
    },
    {
     "data": {
      "text/latex": [
       "$\\displaystyle \\left(-0.720x_1^{3.278}-0.470x_2^{-0.039}-1.079x_3^{3.022}-0.793\\right)$"
      ],
      "text/plain": [
       "<IPython.core.display.Math object>"
      ]
     },
     "metadata": {},
     "output_type": "display_data"
    },
    {
     "name": "stdout",
     "output_type": "stream",
     "text": [
      "MSE between formula parameters is 3.7899576601085743\n",
      "FAILURE\n",
      "\n",
      "\n",
      "----------------------------Exploring new formula #4----------------------------\n",
      "  Initialization #1\n",
      "  Finished run #1, loss 2.3636204105059733e-10, best loss 2.3636204105059733e-10\n",
      "loss is smaller than 1e-05, terminating learning process\n",
      "47 seconds passed from the start, the iteration took 4 seconds\n",
      "ground truth and obtained formula\n"
     ]
    },
    {
     "data": {
      "text/latex": [
       "$\\displaystyle -0.107x_{1}^{1.0}+1.819x_{2}^{2.5}-0.599x_{3}^{2.0}-1.852$"
      ],
      "text/plain": [
       "<IPython.core.display.Math object>"
      ]
     },
     "metadata": {},
     "output_type": "display_data"
    },
    {
     "data": {
      "text/latex": [
       "$\\displaystyle \\left(-0.107x_1^{0.998} + 1.819x_2^{2.500}-0.599x_3^{2.000}-1.852\\right)$"
      ],
      "text/plain": [
       "<IPython.core.display.Math object>"
      ]
     },
     "metadata": {},
     "output_type": "display_data"
    },
    {
     "name": "stdout",
     "output_type": "stream",
     "text": [
      "MSE between formula parameters is 6.067583654876887e-07\n",
      "EXACT RECOVERY\n",
      "\n",
      "\n",
      "----------------------------Exploring new formula #5----------------------------\n",
      "  Initialization #1\n",
      "  Finished run #1, loss 0.00020729631069116294, best loss 0.00020729631069116294\n",
      "  Initialization #2\n",
      "  Finished run #2, loss 1.0147545304040051e-10, best loss 1.0147545304040051e-10\n",
      "loss is smaller than 1e-05, terminating learning process\n",
      "51 seconds passed from the start, the iteration took 3 seconds\n",
      "ground truth and obtained formula\n"
     ]
    },
    {
     "data": {
      "text/latex": [
       "$\\displaystyle -1.452x_{1}^{4.5}+0.571x_{2}^{1.5}-0.526x_{3}^{0.5}-1.246$"
      ],
      "text/plain": [
       "<IPython.core.display.Math object>"
      ]
     },
     "metadata": {},
     "output_type": "display_data"
    },
    {
     "data": {
      "text/latex": [
       "$\\displaystyle \\left(-1.452x_1^{4.500} + 0.571x_2^{1.500}-0.526x_3^{0.500}-1.246\\right)$"
      ],
      "text/plain": [
       "<IPython.core.display.Math object>"
      ]
     },
     "metadata": {},
     "output_type": "display_data"
    },
    {
     "name": "stdout",
     "output_type": "stream",
     "text": [
      "MSE between formula parameters is 1.6707637939816777e-08\n",
      "EXACT RECOVERY\n",
      "\n",
      "################################################################################\n",
      "MSEs between parameters:\n",
      "[2.1947365886498265, 0.9268936694213258, 3.7899576601085743, 6.067583654876887e-07, 1.6707637939816777e-08]\n",
      "For 2 formulas out of 5 the error is less than 1e-05.\n",
      "\n",
      "\n",
      "----------------------------Exploring new formula #1----------------------------\n",
      "  Initialization #1\n",
      "  Finished run #1, loss 0.0003491056268103421, best loss 0.0003491056268103421\n",
      "  Initialization #2\n",
      "  Finished run #2, loss 0.0002930740884039551, best loss 0.0002930740884039551\n",
      "  Initialization #3\n",
      "  Finished run #3, loss 1.1745372830773704e-05, best loss 1.1745372830773704e-05\n",
      "  Initialization #4\n",
      "  Finished run #4, loss 0.0003523435443639755, best loss 1.1745372830773704e-05\n",
      "7 seconds passed from the start, the iteration took 7 seconds\n",
      "ground truth and obtained formula\n"
     ]
    },
    {
     "data": {
      "text/latex": [
       "$\\displaystyle -0.351x_{1}^{3.667}-1.105x_{2}^{1.583}+0.031x_{3}^{4.167}-0.813$"
      ],
      "text/plain": [
       "<IPython.core.display.Math object>"
      ]
     },
     "metadata": {},
     "output_type": "display_data"
    },
    {
     "data": {
      "text/latex": [
       "$\\displaystyle \\left(-0.330x_1^{3.316}-1.110x_2^{1.630}-0.060x_3^{-0.028}-0.751\\right)$"
      ],
      "text/plain": [
       "<IPython.core.display.Math object>"
      ]
     },
     "metadata": {},
     "output_type": "display_data"
    },
    {
     "name": "stdout",
     "output_type": "stream",
     "text": [
      "MSE between formula parameters is 2.53308899095165\n",
      "FAILURE\n",
      "\n",
      "\n",
      "----------------------------Exploring new formula #2----------------------------\n",
      "  Initialization #1\n",
      "  Finished run #1, loss 0.023854155093431473, best loss 0.023854155093431473\n",
      "  Initialization #2\n",
      "  Finished run #2, loss 3.515543325199877e-12, best loss 3.515543325199877e-12\n",
      "loss is smaller than 1e-05, terminating learning process\n",
      "15 seconds passed from the start, the iteration took 8 seconds\n",
      "ground truth and obtained formula\n"
     ]
    },
    {
     "data": {
      "text/latex": [
       "$\\displaystyle 0.633x_{1}^{4.917}+0.382x_{2}^{3.0}+0.863x_{3}^{2.25}-0.29$"
      ],
      "text/plain": [
       "<IPython.core.display.Math object>"
      ]
     },
     "metadata": {},
     "output_type": "display_data"
    },
    {
     "data": {
      "text/latex": [
       "$\\displaystyle \\left(0.633x_1^{4.917} + 0.382x_2^{3.000} + 0.863x_3^{2.250}-0.290\\right)$"
      ],
      "text/plain": [
       "<IPython.core.display.Math object>"
      ]
     },
     "metadata": {},
     "output_type": "display_data"
    },
    {
     "name": "stdout",
     "output_type": "stream",
     "text": [
      "MSE between formula parameters is 3.966699857471667e-09\n",
      "EXACT RECOVERY\n",
      "\n",
      "\n",
      "----------------------------Exploring new formula #3----------------------------\n",
      "  Initialization #1\n",
      "  Finished run #1, loss 0.00010168065637117252, best loss 0.00010168065637117252\n",
      "  Initialization #2\n",
      "  Finished run #2, loss 0.0019163433462381363, best loss 0.00010168065637117252\n",
      "  Initialization #3\n",
      "  Finished run #3, loss 8.153310045599937e-05, best loss 8.153310045599937e-05\n",
      "  Initialization #4\n",
      "    Epoch 5000, current loss 0.103, current formula \\left(3.138x_1^{-0.047} + 3.527x_2^{0.080} + 1.507x_3^{0.190}-6.595\\right)\n",
      "  Finished run #4, loss 0.10135713964700699, best loss 8.153310045599937e-05\n",
      "32 seconds passed from the start, the iteration took 17 seconds\n",
      "ground truth and obtained formula\n"
     ]
    },
    {
     "data": {
      "text/latex": [
       "$\\displaystyle -2.483x_{1}^{5.583}+0.53x_{2}^{2.167}+0.878x_{3}^{0.5}+0.833$"
      ],
      "text/plain": [
       "<IPython.core.display.Math object>"
      ]
     },
     "metadata": {},
     "output_type": "display_data"
    },
    {
     "data": {
      "text/latex": [
       "$\\displaystyle \\left(-2.477x_1^{5.726} + 0.527x_2^{2.178} + 1.477x_3^{0.234} + 0.206\\right)$"
      ],
      "text/plain": [
       "<IPython.core.display.Math object>"
      ]
     },
     "metadata": {},
     "output_type": "display_data"
    },
    {
     "name": "stdout",
     "output_type": "stream",
     "text": [
      "MSE between formula parameters is 0.12031066666264809\n",
      "FAILURE\n",
      "\n",
      "\n",
      "----------------------------Exploring new formula #4----------------------------\n",
      "  Initialization #1\n",
      "  Finished run #1, loss 0.003449678886681795, best loss 0.003449678886681795\n",
      "  Initialization #2\n",
      "    Epoch 5000, current loss 0.00674, current formula \\left(1.371x_1^{15.994}-3.345x_2^{-0.091} + 1.151x_3^{4.231} + 4.138\\right)\n",
      "    Epoch 10000, current loss 0.00615, current formula \\left(1.339x_1^{15.899}-4.661x_2^{-0.069} + 1.140x_3^{4.163} + 5.460\\right)\n",
      "  Finished run #2, loss 0.006145042832940817, best loss 0.003449678886681795\n",
      "  Initialization #3\n",
      "  Finished run #3, loss 0.010288733057677746, best loss 0.003449678886681795\n",
      "  Initialization #4\n",
      "  Finished run #4, loss 0.008053113706409931, best loss 0.003449678886681795\n",
      "53 seconds passed from the start, the iteration took 21 seconds\n",
      "ground truth and obtained formula\n"
     ]
    },
    {
     "data": {
      "text/latex": [
       "$\\displaystyle 0.439x_{1}^{5.0}+1.447x_{2}^{0.5}+1.877x_{3}^{5.583}-0.513$"
      ],
      "text/plain": [
       "<IPython.core.display.Math object>"
      ]
     },
     "metadata": {},
     "output_type": "display_data"
    },
    {
     "data": {
      "text/latex": [
       "$\\displaystyle \\left(-0.766x_1^{-0.224} + 1.056x_2^{1.063} + 3.915x_3^{6.875} + 0.909\\right)$"
      ],
      "text/plain": [
       "<IPython.core.display.Math object>"
      ]
     },
     "metadata": {},
     "output_type": "display_data"
    },
    {
     "name": "stdout",
     "output_type": "stream",
     "text": [
      "MSE between formula parameters is 5.2937639268161405\n",
      "FAILURE\n",
      "\n",
      "\n",
      "----------------------------Exploring new formula #5----------------------------\n",
      "  Initialization #1\n",
      "  Finished run #1, loss 3.8751313695684075e-05, best loss 3.8751313695684075e-05\n",
      "  Initialization #2\n",
      "  Finished run #2, loss 0.1136455088853836, best loss 3.8751313695684075e-05\n",
      "  Initialization #3\n",
      "  Finished run #3, loss 6.164668601982282e-12, best loss 6.164668601982282e-12\n",
      "loss is smaller than 1e-05, terminating learning process\n",
      "1 minutes 4 seconds passed from the start, the iteration took 11 seconds\n",
      "ground truth and obtained formula\n"
     ]
    },
    {
     "data": {
      "text/latex": [
       "$\\displaystyle -0.689x_{1}^{4.75}+0.907x_{2}^{4.417}-1.382x_{3}^{4.5}-1.104$"
      ],
      "text/plain": [
       "<IPython.core.display.Math object>"
      ]
     },
     "metadata": {},
     "output_type": "display_data"
    },
    {
     "data": {
      "text/latex": [
       "$\\displaystyle \\left(-0.689x_1^{4.750} + 0.907x_2^{4.416}-1.382x_3^{4.500}-1.104\\right)$"
      ],
      "text/plain": [
       "<IPython.core.display.Math object>"
      ]
     },
     "metadata": {},
     "output_type": "display_data"
    },
    {
     "name": "stdout",
     "output_type": "stream",
     "text": [
      "MSE between formula parameters is 6.608133722758274e-09\n",
      "EXACT RECOVERY\n",
      "\n",
      "################################################################################\n",
      "MSEs between parameters:\n",
      "[2.53308899095165, 3.966699857471667e-09, 0.12031066666264809, 5.2937639268161405, 6.608133722758274e-09]\n",
      "For 2 formulas out of 5 the error is less than 1e-05.\n",
      "\n",
      "\n",
      "----------------------------Exploring new formula #1----------------------------\n",
      "  Initialization #1\n",
      "  Finished run #1, loss 5.354856330086477e-05, best loss 5.354856330086477e-05\n",
      "  Initialization #2\n",
      "    Epoch 5000, current loss 0.0147, current formula \\left(-0.000x_1^{-1.273} + 6.812x_2^{-0.014} + 0.000x_3^{-2.260}-4.655x_4^{-0.042}-2.525\\right)\n",
      "    Epoch 10000, current loss 0.0147, current formula \\left(-0.000x_1^{-1.273} + 6.812x_2^{-0.014} + 0.000x_3^{-2.260}-4.655x_4^{-0.042}-2.525\\right)\n",
      "  Finished run #2, loss 0.01474956888705492, best loss 5.354856330086477e-05\n",
      "  Initialization #3\n",
      "  Finished run #3, loss 0.00029998295940458775, best loss 5.354856330086477e-05\n",
      "  Initialization #4\n",
      "  Finished run #4, loss 2.877329961847863e-06, best loss 2.877329961847863e-06\n",
      "loss is smaller than 1e-05, terminating learning process\n",
      "28 seconds passed from the start, the iteration took 28 seconds\n",
      "ground truth and obtained formula\n"
     ]
    },
    {
     "data": {
      "text/latex": [
       "$\\displaystyle 0.442x_{1}^{3.0}+1.397x_{2}^{5.0}+0.349x_{3}^{1.0}+0.466x_{4}^{5.0}-0.834$"
      ],
      "text/plain": [
       "<IPython.core.display.Math object>"
      ]
     },
     "metadata": {},
     "output_type": "display_data"
    },
    {
     "data": {
      "text/latex": [
       "$\\displaystyle \\left(0.436x_1^{3.094} + 1.484x_2^{5.551} + 0.321x_3^{1.126} + 0.351x_4^{4.021}-0.803\\right)$"
      ],
      "text/plain": [
       "<IPython.core.display.Math object>"
      ]
     },
     "metadata": {},
     "output_type": "display_data"
    },
    {
     "name": "stdout",
     "output_type": "stream",
     "text": [
      "MSE between formula parameters is 0.14557372256054346\n",
      "FAILURE\n",
      "\n",
      "\n",
      "----------------------------Exploring new formula #2----------------------------\n",
      "  Initialization #1\n",
      "  Finished run #1, loss 0.002931057708337903, best loss 0.002931057708337903\n",
      "  Initialization #2\n",
      "  Finished run #2, loss 0.0007172824116423726, best loss 0.0007172824116423726\n",
      "  Initialization #3\n",
      "  Finished run #3, loss 0.01664983108639717, best loss 0.0007172824116423726\n",
      "  Initialization #4\n",
      "  Finished run #4, loss 0.010195682756602764, best loss 0.0007172824116423726\n",
      "46 seconds passed from the start, the iteration took 19 seconds\n",
      "ground truth and obtained formula\n"
     ]
    },
    {
     "data": {
      "text/latex": [
       "$\\displaystyle 0.606x_{1}^{2.0}+1.58x_{2}^{3.0}-0.58x_{3}^{1.0}+1.075x_{4}^{6.0}-0.047$"
      ],
      "text/plain": [
       "<IPython.core.display.Math object>"
      ]
     },
     "metadata": {},
     "output_type": "display_data"
    },
    {
     "data": {
      "text/latex": [
       "$\\displaystyle \\left(1.659x_1^{0.052} + 1.985x_2^{5.176}-1.112x_3^{3.014} + 1.449x_4^{4.112}-1.506\\right)$"
      ],
      "text/plain": [
       "<IPython.core.display.Math object>"
      ]
     },
     "metadata": {},
     "output_type": "display_data"
    },
    {
     "name": "stdout",
     "output_type": "stream",
     "text": [
      "MSE between formula parameters is 2.218876035670529\n",
      "FAILURE\n",
      "\n",
      "\n",
      "----------------------------Exploring new formula #3----------------------------\n",
      "  Initialization #1\n",
      "  Finished run #1, loss 0.004005145747214556, best loss 0.004005145747214556\n",
      "  Initialization #2\n",
      "  Finished run #2, loss 0.0034435049165040255, best loss 0.0034435049165040255\n",
      "  Initialization #3\n",
      "  Finished run #3, loss 0.003555039409548044, best loss 0.0034435049165040255\n",
      "  Initialization #4\n",
      "  Finished run #4, loss 0.004030137788504362, best loss 0.0034435049165040255\n",
      "1 minutes 2 seconds passed from the start, the iteration took 16 seconds\n",
      "ground truth and obtained formula\n"
     ]
    },
    {
     "data": {
      "text/latex": [
       "$\\displaystyle 0.596x_{1}^{5.0}-0.54x_{2}^{6.0}-0.434x_{3}^{3.0}-0.485x_{4}^{1.0}-0.695$"
      ],
      "text/plain": [
       "<IPython.core.display.Math object>"
      ]
     },
     "metadata": {},
     "output_type": "display_data"
    },
    {
     "data": {
      "text/latex": [
       "$\\displaystyle \\left(-1.107x_1^{-0.321}-0.642x_2^{1.084} + 0.543x_3^{-0.011} + 0.799x_4^{-0.115}-0.889\\right)$"
      ],
      "text/plain": [
       "<IPython.core.display.Math object>"
      ]
     },
     "metadata": {},
     "output_type": "display_data"
    },
    {
     "name": "stdout",
     "output_type": "stream",
     "text": [
      "MSE between formula parameters is 7.592733434185645\n",
      "FAILURE\n",
      "\n",
      "\n",
      "----------------------------Exploring new formula #4----------------------------\n",
      "  Initialization #1\n",
      "  Finished run #1, loss 0.008134381845593452, best loss 0.008134381845593452\n",
      "  Initialization #2\n",
      "  Finished run #2, loss 0.007239498198032379, best loss 0.007239498198032379\n",
      "  Initialization #3\n",
      "  Finished run #3, loss 0.0012047657510265708, best loss 0.0012047657510265708\n",
      "  Initialization #4\n",
      "  Finished run #4, loss 0.0634712502360344, best loss 0.0012047657510265708\n",
      "1 minutes 18 seconds passed from the start, the iteration took 16 seconds\n",
      "ground truth and obtained formula\n"
     ]
    },
    {
     "data": {
      "text/latex": [
       "$\\displaystyle 0.723x_{1}^{2.0}-1.923x_{2}^{5.0}+0.483x_{3}^{6.0}-1.418x_{4}^{6.0}+0.688$"
      ],
      "text/plain": [
       "<IPython.core.display.Math object>"
      ]
     },
     "metadata": {},
     "output_type": "display_data"
    },
    {
     "data": {
      "text/latex": [
       "$\\displaystyle \\left(0.875x_1^{1.310}-2.461x_2^{9.917}-1.404x_3^{-0.033}-2.362x_4^{8.809} + 1.984\\right)$"
      ],
      "text/plain": [
       "<IPython.core.display.Math object>"
      ]
     },
     "metadata": {},
     "output_type": "display_data"
    },
    {
     "name": "stdout",
     "output_type": "stream",
     "text": [
      "MSE between formula parameters is 8.37529563913961\n",
      "FAILURE\n",
      "\n",
      "\n",
      "----------------------------Exploring new formula #5----------------------------\n",
      "  Initialization #1\n",
      "  Finished run #1, loss 0.004123495426028967, best loss 0.004123495426028967\n",
      "  Initialization #2\n",
      "  Finished run #2, loss 0.02138962782919407, best loss 0.004123495426028967\n",
      "  Initialization #3\n",
      "  Finished run #3, loss 0.0017478365916758776, best loss 0.0017478365916758776\n",
      "  Initialization #4\n",
      "    Epoch 5000, current loss 0.0216, current formula \\left(1.210x_1^{0.033} + 1.676x_2^{-0.130}-0.514x_3^{-0.207} + 0.000x_4^{-3.514}-2.917\\right)\n",
      "  Finished run #4, loss 0.021561454981565475, best loss 0.0017478365916758776\n",
      "1 minutes 41 seconds passed from the start, the iteration took 23 seconds\n",
      "ground truth and obtained formula\n"
     ]
    },
    {
     "data": {
      "text/latex": [
       "$\\displaystyle 1.114x_{1}^{6.0}-0.944x_{2}^{2.0}+0.262x_{3}^{2.0}-0.217x_{4}^{3.0}-0.283$"
      ],
      "text/plain": [
       "<IPython.core.display.Math object>"
      ]
     },
     "metadata": {},
     "output_type": "display_data"
    },
    {
     "data": {
      "text/latex": [
       "$\\displaystyle \\left(-0.332x_1^{-0.335}-1.157x_2^{3.256} + 0.437x_3^{2.145}-1.001x_4^{0.051} + 1.036\\right)$"
      ],
      "text/plain": [
       "<IPython.core.display.Math object>"
      ]
     },
     "metadata": {},
     "output_type": "display_data"
    },
    {
     "name": "stdout",
     "output_type": "stream",
     "text": [
      "MSE between formula parameters is 6.10474785141068\n",
      "FAILURE\n",
      "\n",
      "################################################################################\n",
      "MSEs between parameters:\n",
      "[0.14557372256054346, 2.218876035670529, 7.592733434185645, 8.37529563913961, 6.10474785141068]\n",
      "For 0 formulas out of 5 the error is less than 1e-05.\n",
      "\n",
      "\n",
      "----------------------------Exploring new formula #1----------------------------\n",
      "  Initialization #1\n",
      "  Finished run #1, loss 0.0023699053563177586, best loss 0.0023699053563177586\n",
      "  Initialization #2\n",
      "    Epoch 5000, current loss 0.00265, current formula \\left(-0.281x_1^{5.040}-2.694x_2^{-0.156} + 1.057x_3^{-0.162} + 1.176x_4^{0.571}-0.283\\right)\n",
      "  Finished run #2, loss 0.0026149465702474117, best loss 0.0023699053563177586\n",
      "  Initialization #3\n",
      "    Epoch 5000, current loss 0.00116, current formula \\left(-1.473x_1^{0.033} + 0.836x_2^{1.074} + 0.264x_3^{-0.550} + 2.272x_4^{0.322}-2.615\\right)\n",
      "  Finished run #3, loss 0.0011138885747641325, best loss 0.0011138885747641325\n",
      "  Initialization #4\n",
      "  Finished run #4, loss 0.003940691240131855, best loss 0.0011138885747641325\n",
      "30 seconds passed from the start, the iteration took 30 seconds\n",
      "ground truth and obtained formula\n"
     ]
    },
    {
     "data": {
      "text/latex": [
       "$\\displaystyle -0.68x_{1}^{5.0}+0.913x_{2}^{1.0}-0.751x_{3}^{0.5}+0.559x_{4}^{3.0}-1.281$"
      ],
      "text/plain": [
       "<IPython.core.display.Math object>"
      ]
     },
     "metadata": {},
     "output_type": "display_data"
    },
    {
     "data": {
      "text/latex": [
       "$\\displaystyle \\left(-1.489x_1^{0.032} + 0.843x_2^{1.063} + 0.307x_3^{-0.496} + 2.505x_4^{0.283}-2.885\\right)$"
      ],
      "text/plain": [
       "<IPython.core.display.Math object>"
      ]
     },
     "metadata": {},
     "output_type": "display_data"
    },
    {
     "name": "stdout",
     "output_type": "stream",
     "text": [
      "MSE between formula parameters is 4.577255898884069\n",
      "FAILURE\n",
      "\n",
      "\n",
      "----------------------------Exploring new formula #2----------------------------\n",
      "  Initialization #1\n",
      "  Finished run #1, loss 0.0225434098392725, best loss 0.0225434098392725\n",
      "  Initialization #2\n",
      "  Finished run #2, loss 0.01364421658217907, best loss 0.01364421658217907\n",
      "  Initialization #3\n",
      "  Finished run #3, loss 0.024782540276646614, best loss 0.01364421658217907\n",
      "  Initialization #4\n",
      "  Finished run #4, loss 0.024915913119912148, best loss 0.01364421658217907\n",
      "43 seconds passed from the start, the iteration took 13 seconds\n",
      "ground truth and obtained formula\n"
     ]
    },
    {
     "data": {
      "text/latex": [
       "$\\displaystyle -1.119x_{1}^{5.0}-0.57x_{2}^{4.5}-1.11x_{3}^{6.0}+0.812x_{4}^{4.0}+0.136$"
      ],
      "text/plain": [
       "<IPython.core.display.Math object>"
      ]
     },
     "metadata": {},
     "output_type": "display_data"
    },
    {
     "data": {
      "text/latex": [
       "$\\displaystyle \\left(-0.747x_1^{3.591} + 1.199x_2^{0.064} + 1.265x_3^{0.026}-1.797x_4^{-0.054}-0.457\\right)$"
      ],
      "text/plain": [
       "<IPython.core.display.Math object>"
      ]
     },
     "metadata": {},
     "output_type": "display_data"
    },
    {
     "name": "stdout",
     "output_type": "stream",
     "text": [
      "MSE between formula parameters is 9.983915746064836\n",
      "FAILURE\n",
      "\n",
      "\n",
      "----------------------------Exploring new formula #3----------------------------\n",
      "  Initialization #1\n",
      "  Finished run #1, loss 0.0037143081426620483, best loss 0.0037143081426620483\n",
      "  Initialization #2\n",
      "  Finished run #2, loss 0.012338962405920029, best loss 0.0037143081426620483\n",
      "  Initialization #3\n",
      "  Finished run #3, loss 0.0036100014112889767, best loss 0.0036100014112889767\n",
      "  Initialization #4\n",
      "  Finished run #4, loss 0.012282022275030613, best loss 0.0036100014112889767\n",
      "59 seconds passed from the start, the iteration took 16 seconds\n",
      "ground truth and obtained formula\n"
     ]
    },
    {
     "data": {
      "text/latex": [
       "$\\displaystyle -0.082x_{1}^{6.0}-0.476x_{2}^{6.0}-2.562x_{3}^{3.0}+0.754x_{4}^{5.5}-1.357$"
      ],
      "text/plain": [
       "<IPython.core.display.Math object>"
      ]
     },
     "metadata": {},
     "output_type": "display_data"
    },
    {
     "data": {
      "text/latex": [
       "$\\displaystyle \\left(-0.570x_1^{0.237} + 0.925x_2^{-0.224}-2.346x_3^{3.171} + 0.582x_4^{3.576}-2.161\\right)$"
      ],
      "text/plain": [
       "<IPython.core.display.Math object>"
      ]
     },
     "metadata": {},
     "output_type": "display_data"
    },
    {
     "name": "stdout",
     "output_type": "stream",
     "text": [
      "MSE between formula parameters is 8.73420225006289\n",
      "FAILURE\n",
      "\n",
      "\n",
      "----------------------------Exploring new formula #4----------------------------\n",
      "  Initialization #1\n",
      "  Finished run #1, loss 0.0011578649282455444, best loss 0.0011578649282455444\n",
      "  Initialization #2\n",
      "  Finished run #2, loss 0.00272566475905478, best loss 0.0011578649282455444\n",
      "  Initialization #3\n",
      "  Finished run #3, loss 0.0013895549345761538, best loss 0.0011578649282455444\n",
      "  Initialization #4\n",
      "    Epoch 5000, current loss 0.0135, current formula \\left(1.661x_1^{0.454} + 2.057x_2^{-0.103} + 2.775x_3^{-0.140}-5.826x_4^{0.019}-0.874\\right)\n",
      "    Epoch 10000, current loss 0.0127, current formula \\left(1.955x_1^{0.368} + 2.039x_2^{-0.105} + 4.153x_3^{-0.098}-7.447x_4^{0.016}-0.921\\right)\n",
      "  Finished run #4, loss 0.012666171416640282, best loss 0.0011578649282455444\n",
      "1 minutes 29 seconds passed from the start, the iteration took 29 seconds\n",
      "ground truth and obtained formula\n"
     ]
    },
    {
     "data": {
      "text/latex": [
       "$\\displaystyle 0.702x_{1}^{2.5}-0.396x_{2}^{3.0}-1.146x_{3}^{1.5}-0.589x_{4}^{6.0}+0.475$"
      ],
      "text/plain": [
       "<IPython.core.display.Math object>"
      ]
     },
     "metadata": {},
     "output_type": "display_data"
    },
    {
     "data": {
      "text/latex": [
       "$\\displaystyle \\left(1.008x_1^{0.661} + 0.764x_2^{-0.200}-1.145x_3^{1.315}-0.559x_4^{3.165}-0.863\\right)$"
      ],
      "text/plain": [
       "<IPython.core.display.Math object>"
      ]
     },
     "metadata": {},
     "output_type": "display_data"
    },
    {
     "name": "stdout",
     "output_type": "stream",
     "text": [
      "MSE between formula parameters is 2.7688006238070186\n",
      "FAILURE\n",
      "\n",
      "\n",
      "----------------------------Exploring new formula #5----------------------------\n",
      "  Initialization #1\n",
      "  Finished run #1, loss 0.017927810549736023, best loss 0.017927810549736023\n",
      "  Initialization #2\n",
      "  Finished run #2, loss 0.0035038343630731106, best loss 0.0035038343630731106\n",
      "  Initialization #3\n",
      "    Epoch 5000, current loss 0.00763, current formula \\left(-2.040x_1^{-0.032}-1.363x_2^{3.336}-0.156x_3^{0.974} + 1.824x_4^{0.184} + 1.405\\right)\n",
      "  Finished run #3, loss 0.0076070865616202354, best loss 0.0035038343630731106\n",
      "  Initialization #4\n",
      "  Finished run #4, loss 0.009207609109580517, best loss 0.0035038343630731106\n",
      "1 minutes 49 seconds passed from the start, the iteration took 20 seconds\n",
      "ground truth and obtained formula\n"
     ]
    },
    {
     "data": {
      "text/latex": [
       "$\\displaystyle 0.732x_{1}^{1.0}-1.425x_{2}^{5.0}+0.275x_{3}^{3.5}+0.692x_{4}^{4.0}+0.14$"
      ],
      "text/plain": [
       "<IPython.core.display.Math object>"
      ]
     },
     "metadata": {},
     "output_type": "display_data"
    },
    {
     "data": {
      "text/latex": [
       "$\\displaystyle \\left(0.484x_1^{1.125}-1.403x_2^{3.657}-2.156x_3^{0.004} + 2.080x_4^{0.171} + 0.864\\right)$"
      ],
      "text/plain": [
       "<IPython.core.display.Math object>"
      ]
     },
     "metadata": {},
     "output_type": "display_data"
    },
    {
     "name": "stdout",
     "output_type": "stream",
     "text": [
      "MSE between formula parameters is 4.125190111681769\n",
      "FAILURE\n",
      "\n",
      "################################################################################\n",
      "MSEs between parameters:\n",
      "[4.577255898884069, 9.983915746064836, 8.73420225006289, 2.7688006238070186, 4.125190111681769]\n",
      "For 0 formulas out of 5 the error is less than 1e-05.\n",
      "\n",
      "\n",
      "----------------------------Exploring new formula #1----------------------------\n",
      "  Initialization #1\n",
      "  Finished run #1, loss 0.00012119887105654925, best loss 0.00012119887105654925\n",
      "  Initialization #2\n",
      "  Finished run #2, loss 0.022244904190301895, best loss 0.00012119887105654925\n",
      "  Initialization #3\n",
      "    Epoch 5000, current loss 0.0972, current formula \\left(0.725x_1^{1.183}-0.457x_2^{0.241}-2.390x_3^{2.714} + 4.019x_4^{-0.066}-4.034\\right)\n",
      "    Epoch 10000, current loss 0.0946, current formula \\left(1.811x_1^{14.443}-0.172x_2^{0.357}-2.814x_3^{2.923} + 5.721x_4^{-0.054}-5.782\\right)\n",
      "  Finished run #3, loss 0.09462231397628784, best loss 0.00012119887105654925\n",
      "  Initialization #4\n",
      "  Finished run #4, loss 0.0984489843249321, best loss 0.00012119887105654925\n",
      "34 seconds passed from the start, the iteration took 34 seconds\n",
      "ground truth and obtained formula\n"
     ]
    },
    {
     "data": {
      "text/latex": [
       "$\\displaystyle 0.721x_{1}^{1.167}-0.338x_{2}^{5.0}-1.394x_{3}^{0.75}-2.076x_{4}^{3.167}+0.753$"
      ],
      "text/plain": [
       "<IPython.core.display.Math object>"
      ]
     },
     "metadata": {},
     "output_type": "display_data"
    },
    {
     "data": {
      "text/latex": [
       "$\\displaystyle \\left(1.000x_1^{1.039} + 0.000x_2^{-0.964}-1.609x_3^{0.810}-2.037x_4^{2.924} + 0.590\\right)$"
      ],
      "text/plain": [
       "<IPython.core.display.Math object>"
      ]
     },
     "metadata": {},
     "output_type": "display_data"
    },
    {
     "name": "stdout",
     "output_type": "stream",
     "text": [
      "MSE between formula parameters is 3.991040626432124\n",
      "FAILURE\n",
      "\n",
      "\n",
      "----------------------------Exploring new formula #2----------------------------\n",
      "  Initialization #1\n",
      "  Finished run #1, loss 0.0033996417187154293, best loss 0.0033996417187154293\n",
      "  Initialization #2\n",
      "  Finished run #2, loss 0.002981065306812525, best loss 0.002981065306812525\n",
      "  Initialization #3\n",
      "  Finished run #3, loss 0.003242702689021826, best loss 0.002981065306812525\n",
      "  Initialization #4\n",
      "  Finished run #4, loss 0.0034080962650477886, best loss 0.002981065306812525\n",
      "54 seconds passed from the start, the iteration took 20 seconds\n",
      "ground truth and obtained formula\n"
     ]
    },
    {
     "data": {
      "text/latex": [
       "$\\displaystyle -1.397x_{1}^{3.417}-0.053x_{2}^{0.083}-1.05x_{3}^{5.917}+0.548x_{4}^{2.583}-1.35$"
      ],
      "text/plain": [
       "<IPython.core.display.Math object>"
      ]
     },
     "metadata": {},
     "output_type": "display_data"
    },
    {
     "data": {
      "text/latex": [
       "$\\displaystyle \\left(-3.313x_1^{6.821}-0.219x_2^{0.779}-0.802x_3^{3.417}-1.282x_4^{-0.138} + 0.326\\right)$"
      ],
      "text/plain": [
       "<IPython.core.display.Math object>"
      ]
     },
     "metadata": {},
     "output_type": "display_data"
    },
    {
     "name": "stdout",
     "output_type": "stream",
     "text": [
      "MSE between formula parameters is 3.9605283027520053\n",
      "FAILURE\n",
      "\n",
      "\n",
      "----------------------------Exploring new formula #3----------------------------\n",
      "  Initialization #1\n",
      "  Finished run #1, loss 3.250142516231236e-11, best loss 3.250142516231236e-11\n",
      "loss is smaller than 1e-05, terminating learning process\n",
      "57 seconds passed from the start, the iteration took 3 seconds\n",
      "ground truth and obtained formula\n"
     ]
    },
    {
     "data": {
      "text/latex": [
       "$\\displaystyle 0.875x_{1}^{2.667}+0.129x_{2}^{4.167}+1.233x_{3}^{3.5}-0.649x_{4}^{3.5}+0.151$"
      ],
      "text/plain": [
       "<IPython.core.display.Math object>"
      ]
     },
     "metadata": {},
     "output_type": "display_data"
    },
    {
     "data": {
      "text/latex": [
       "$\\displaystyle \\left(0.875x_1^{2.667} + 0.129x_2^{4.166} + 1.233x_3^{3.500}-0.649x_4^{3.499} + 0.151\\right)$"
      ],
      "text/plain": [
       "<IPython.core.display.Math object>"
      ]
     },
     "metadata": {},
     "output_type": "display_data"
    },
    {
     "name": "stdout",
     "output_type": "stream",
     "text": [
      "MSE between formula parameters is 9.732739979383274e-08\n",
      "EXACT RECOVERY\n",
      "\n",
      "\n",
      "----------------------------Exploring new formula #4----------------------------\n",
      "  Initialization #1\n",
      "  Finished run #1, loss 0.0019186940044164658, best loss 0.0019186940044164658\n",
      "  Initialization #2\n",
      "  Finished run #2, loss 0.007201677653938532, best loss 0.0019186940044164658\n",
      "  Initialization #3\n",
      "  Finished run #3, loss 8.079115900727629e-07, best loss 8.079115900727629e-07\n",
      "loss is smaller than 1e-05, terminating learning process\n",
      "1 minutes 7 seconds passed from the start, the iteration took 10 seconds\n",
      "ground truth and obtained formula\n"
     ]
    },
    {
     "data": {
      "text/latex": [
       "$\\displaystyle 1.048x_{1}^{4.833}-0.431x_{2}^{6.0}+0.744x_{3}^{2.75}-0.353x_{4}^{2.417}+1.45$"
      ],
      "text/plain": [
       "<IPython.core.display.Math object>"
      ]
     },
     "metadata": {},
     "output_type": "display_data"
    },
    {
     "data": {
      "text/latex": [
       "$\\displaystyle \\left(1.015x_1^{4.544}-0.415x_2^{5.348} + 0.722x_3^{2.785}-0.354x_4^{2.317} + 1.456\\right)$"
      ],
      "text/plain": [
       "<IPython.core.display.Math object>"
      ]
     },
     "metadata": {},
     "output_type": "display_data"
    },
    {
     "name": "stdout",
     "output_type": "stream",
     "text": [
      "MSE between formula parameters is 0.0580786640721829\n",
      "FAILURE\n",
      "\n",
      "\n",
      "----------------------------Exploring new formula #5----------------------------\n",
      "  Initialization #1\n",
      "    Epoch 5000, current loss 0.0467, current formula \\left(0.317x_1^{1.837} + 2.706x_2^{0.084}-1.731x_3^{-0.191}-1.910x_4^{-0.107} + 2.726\\right)\n",
      "  Finished run #1, loss 0.046469151973724365, best loss 0.046469151973724365\n",
      "  Initialization #2\n",
      "  Finished run #2, loss 0.03203626722097397, best loss 0.03203626722097397\n",
      "  Initialization #3\n",
      "    Epoch 5000, current loss 0.0482, current formula \\left(0.408x_1^{3.430}-0.452x_2^{-0.217}-1.754x_3^{-0.218}-1.646x_4^{-0.122} + 5.639\\right)\n",
      "  Finished run #3, loss 0.047157011926174164, best loss 0.03203626722097397\n",
      "  Initialization #4\n",
      "  Finished run #4, loss 0.027841582894325256, best loss 0.027841582894325256\n",
      "1 minutes 44 seconds passed from the start, the iteration took 37 seconds\n",
      "ground truth and obtained formula\n"
     ]
    },
    {
     "data": {
      "text/latex": [
       "$\\displaystyle 0.952x_{1}^{5.5}+0.186x_{2}^{1.583}+1.103x_{3}^{1.917}+0.862x_{4}^{3.583}+0.332$"
      ],
      "text/plain": [
       "<IPython.core.display.Math object>"
      ]
     },
     "metadata": {},
     "output_type": "display_data"
    },
    {
     "data": {
      "text/latex": [
       "$\\displaystyle \\left(0.798x_1^{-0.254} + 3.304x_2^{0.153} + 3.592x_3^{19.346}-0.733x_4^{-0.135}-1.906\\right)$"
      ],
      "text/plain": [
       "<IPython.core.display.Math object>"
      ]
     },
     "metadata": {},
     "output_type": "display_data"
    },
    {
     "name": "stdout",
     "output_type": "stream",
     "text": [
      "MSE between formula parameters is 41.80525962483576\n",
      "FAILURE\n",
      "\n",
      "################################################################################\n",
      "MSEs between parameters:\n",
      "[3.991040626432124, 3.9605283027520053, 9.732739979383274e-08, 0.0580786640721829, 41.80525962483576]\n",
      "For 1 formulas out of 5 the error is less than 1e-05.\n",
      "\n",
      "\n",
      "----------------------------Exploring new formula #1----------------------------\n",
      "  Initialization #1\n",
      "  Finished run #1, loss 2.4344512516982775e-11, best loss 2.4344512516982775e-11\n",
      "loss is smaller than 1e-05, terminating learning process\n",
      "1 seconds passed from the start, the iteration took 1 seconds\n",
      "ground truth and obtained formula\n"
     ]
    },
    {
     "data": {
      "text/latex": [
       "$\\displaystyle 0.434x_{1}^{6.0}+0.491x_{2}^{1.0}-0.032$"
      ],
      "text/plain": [
       "<IPython.core.display.Math object>"
      ]
     },
     "metadata": {},
     "output_type": "display_data"
    },
    {
     "data": {
      "text/latex": [
       "$\\displaystyle \\left(0.434x_1^{6.000} + 0.491x_2^{1.000}-0.032\\right)$"
      ],
      "text/plain": [
       "<IPython.core.display.Math object>"
      ]
     },
     "metadata": {},
     "output_type": "display_data"
    },
    {
     "name": "stdout",
     "output_type": "stream",
     "text": [
      "MSE between formula parameters is 1.4730937636375785e-08\n",
      "EXACT RECOVERY\n",
      "\n",
      "\n",
      "----------------------------Exploring new formula #2----------------------------\n",
      "  Initialization #1\n",
      "    Epoch 5000, current loss 0.0235, current formula \\left(0.179x_1^{0.131} + 2.028x_2^{-0.038}-2.066\\right)\n",
      "  Finished run #1, loss 0.023471420630812645, best loss 0.023471420630812645\n",
      "  Initialization #2\n",
      "  Finished run #2, loss 1.6674594647755892e-12, best loss 1.6674594647755892e-12\n",
      "loss is smaller than 1e-05, terminating learning process\n",
      "10 seconds passed from the start, the iteration took 9 seconds\n",
      "ground truth and obtained formula\n"
     ]
    },
    {
     "data": {
      "text/latex": [
       "$\\displaystyle -0.206x_{1}^{6.0}-0.643x_{2}^{4.0}+0.374$"
      ],
      "text/plain": [
       "<IPython.core.display.Math object>"
      ]
     },
     "metadata": {},
     "output_type": "display_data"
    },
    {
     "data": {
      "text/latex": [
       "$\\displaystyle \\left(-0.206x_1^{6.000}-0.643x_2^{4.000} + 0.374\\right)$"
      ],
      "text/plain": [
       "<IPython.core.display.Math object>"
      ]
     },
     "metadata": {},
     "output_type": "display_data"
    },
    {
     "name": "stdout",
     "output_type": "stream",
     "text": [
      "MSE between formula parameters is 8.896582848194613e-09\n",
      "EXACT RECOVERY\n",
      "\n",
      "\n",
      "----------------------------Exploring new formula #3----------------------------\n",
      "  Initialization #1\n",
      "  Finished run #1, loss 3.4727776210274897e-13, best loss 3.4727776210274897e-13\n",
      "loss is smaller than 1e-05, terminating learning process\n",
      "12 seconds passed from the start, the iteration took 1 seconds\n",
      "ground truth and obtained formula\n"
     ]
    },
    {
     "data": {
      "text/latex": [
       "$\\displaystyle 0.902x_{1}^{1.0}-0.898x_{2}^{3.0}+0.532$"
      ],
      "text/plain": [
       "<IPython.core.display.Math object>"
      ]
     },
     "metadata": {},
     "output_type": "display_data"
    },
    {
     "data": {
      "text/latex": [
       "$\\displaystyle \\left(0.902x_1^{1.000}-0.898x_2^{3.000} + 0.532\\right)$"
      ],
      "text/plain": [
       "<IPython.core.display.Math object>"
      ]
     },
     "metadata": {},
     "output_type": "display_data"
    },
    {
     "name": "stdout",
     "output_type": "stream",
     "text": [
      "MSE between formula parameters is 9.222134167430341e-12\n",
      "EXACT RECOVERY\n",
      "\n",
      "\n",
      "----------------------------Exploring new formula #4----------------------------\n",
      "  Initialization #1\n",
      "    Epoch 5000, current loss 0.0183, current formula \\left(0.738x_1^{3.941}-3.533x_2^{-0.050} + 1.254\\right)\n",
      "    Epoch 10000, current loss 0.018, current formula \\left(0.737x_1^{3.925}-4.812x_2^{-0.038} + 2.536\\right)\n",
      "  Finished run #1, loss 0.01797664910554886, best loss 0.01797664910554886\n",
      "  Initialization #2\n",
      "    Epoch 5000, current loss 0.0182, current formula \\left(0.738x_1^{3.939}-3.685x_2^{-0.048} + 1.406\\right)\n",
      "    Epoch 10000, current loss 0.0179, current formula \\left(0.737x_1^{3.925}-5.019x_2^{-0.037} + 2.744\\right)\n",
      "  Finished run #2, loss 0.017941216006875038, best loss 0.017941216006875038\n",
      "  Initialization #3\n",
      "    Epoch 5000, current loss 0.0187, current formula \\left(-2.947x_1^{-0.030} + 0.741x_2^{1.899} + 0.433\\right)\n",
      "    Epoch 10000, current loss 0.0186, current formula \\left(-4.098x_1^{-0.022} + 0.741x_2^{1.895} + 1.586\\right)\n",
      "  Finished run #3, loss 0.018585428595542908, best loss 0.017941216006875038\n",
      "  Initialization #4\n",
      "    Epoch 5000, current loss 0.0188, current formula \\left(-2.675x_1^{-0.033} + 0.741x_2^{1.900} + 0.161\\right)\n",
      "    Epoch 10000, current loss 0.0186, current formula \\left(-4.033x_1^{-0.023} + 0.741x_2^{1.896} + 1.522\\right)\n",
      "  Finished run #4, loss 0.018591683357954025, best loss 0.017941216006875038\n",
      "1 minutes 1 seconds passed from the start, the iteration took 49 seconds\n",
      "ground truth and obtained formula\n"
     ]
    },
    {
     "data": {
      "text/latex": [
       "$\\displaystyle 0.723x_{1}^{4.0}+0.711x_{2}^{2.0}-2.708$"
      ],
      "text/plain": [
       "<IPython.core.display.Math object>"
      ]
     },
     "metadata": {},
     "output_type": "display_data"
    },
    {
     "data": {
      "text/latex": [
       "$\\displaystyle \\left(0.737x_1^{3.925}-5.020x_2^{-0.037} + 2.743\\right)$"
      ],
      "text/plain": [
       "<IPython.core.display.Math object>"
      ]
     },
     "metadata": {},
     "output_type": "display_data"
    },
    {
     "name": "stdout",
     "output_type": "stream",
     "text": [
      "MSE between formula parameters is 13.341028678258777\n",
      "FAILURE\n",
      "\n",
      "\n",
      "----------------------------Exploring new formula #5----------------------------\n",
      "  Initialization #1\n",
      "  Finished run #1, loss 1.6909495722042256e-12, best loss 1.6909495722042256e-12\n",
      "loss is smaller than 1e-05, terminating learning process\n",
      "1 minutes 3 seconds passed from the start, the iteration took 1 seconds\n",
      "ground truth and obtained formula\n"
     ]
    },
    {
     "data": {
      "text/latex": [
       "$\\displaystyle 0.594x_{1}^{4.0}-2.427x_{2}^{4.0}-2.238$"
      ],
      "text/plain": [
       "<IPython.core.display.Math object>"
      ]
     },
     "metadata": {},
     "output_type": "display_data"
    },
    {
     "data": {
      "text/latex": [
       "$\\displaystyle \\left(0.594x_1^{4.000}-2.427x_2^{4.000}-2.238\\right)$"
      ],
      "text/plain": [
       "<IPython.core.display.Math object>"
      ]
     },
     "metadata": {},
     "output_type": "display_data"
    },
    {
     "name": "stdout",
     "output_type": "stream",
     "text": [
      "MSE between formula parameters is 2.8754243430739736e-11\n",
      "EXACT RECOVERY\n",
      "\n",
      "################################################################################\n",
      "MSEs between parameters:\n",
      "[1.4730937636375785e-08, 8.896582848194613e-09, 9.222134167430341e-12, 13.341028678258777, 2.8754243430739736e-11]\n",
      "For 4 formulas out of 5 the error is less than 1e-05.\n",
      "\n",
      "\n",
      "----------------------------Exploring new formula #1----------------------------\n",
      "  Initialization #1\n",
      "    Epoch 5000, current loss 0.0139, current formula \\left(-1.793x_1^{2.397} + 2.368x_2^{-0.049}-2.187\\right)\n",
      "    Epoch 10000, current loss 0.0136, current formula \\left(-1.792x_1^{2.397} + 3.611x_2^{-0.033}-3.434\\right)\n",
      "  Finished run #1, loss 0.013625863008201122, best loss 0.013625863008201122\n",
      "  Initialization #2\n",
      "    Epoch 5000, current loss 0.0139, current formula \\left(-1.793x_1^{2.397} + 2.387x_2^{-0.048}-2.206\\right)\n",
      "    Epoch 10000, current loss 0.0136, current formula \\left(-1.792x_1^{2.397} + 3.525x_2^{-0.034}-3.348\\right)\n",
      "  Finished run #2, loss 0.013637155294418335, best loss 0.013625863008201122\n",
      "  Initialization #3\n",
      "    Epoch 5000, current loss 0.148, current formula \\left(7.952x_1^{-0.029}-0.779x_2^{3.218}-8.229\\right)\n",
      "    Epoch 10000, current loss 0.146, current formula \\left(12.001x_1^{-0.021}-0.773x_2^{3.200}-12.290\\right)\n",
      "  Finished run #3, loss 0.1457207053899765, best loss 0.013625863008201122\n",
      "  Initialization #4\n",
      "  Finished run #4, loss 0.012571489438414574, best loss 0.012571489438414574\n",
      "39 seconds passed from the start, the iteration took 39 seconds\n",
      "ground truth and obtained formula\n"
     ]
    },
    {
     "data": {
      "text/latex": [
       "$\\displaystyle -1.696x_{1}^{2.5}-0.566x_{2}^{2.5}+0.418$"
      ],
      "text/plain": [
       "<IPython.core.display.Math object>"
      ]
     },
     "metadata": {},
     "output_type": "display_data"
    },
    {
     "data": {
      "text/latex": [
       "$\\displaystyle \\left(-1.789x_1^{2.396}-3.836x_2^{0.038} + 3.996\\right)$"
      ],
      "text/plain": [
       "<IPython.core.display.Math object>"
      ]
     },
     "metadata": {},
     "output_type": "display_data"
    },
    {
     "name": "stdout",
     "output_type": "stream",
     "text": [
      "MSE between formula parameters is 5.916256157522384\n",
      "FAILURE\n",
      "\n",
      "\n",
      "----------------------------Exploring new formula #2----------------------------\n",
      "  Initialization #1\n",
      "  Finished run #1, loss 4.751025244331686e-07, best loss 4.751025244331686e-07\n",
      "loss is smaller than 1e-05, terminating learning process\n",
      "40 seconds passed from the start, the iteration took 1 seconds\n",
      "ground truth and obtained formula\n"
     ]
    },
    {
     "data": {
      "text/latex": [
       "$\\displaystyle -0.655x_{1}^{2.0}+0.006x_{2}^{1.0}-1.637$"
      ],
      "text/plain": [
       "<IPython.core.display.Math object>"
      ]
     },
     "metadata": {},
     "output_type": "display_data"
    },
    {
     "data": {
      "text/latex": [
       "$\\displaystyle \\left(-0.655x_1^{2.000} + 0.615x_2^{0.003}-2.247\\right)$"
      ],
      "text/plain": [
       "<IPython.core.display.Math object>"
      ]
     },
     "metadata": {},
     "output_type": "display_data"
    },
    {
     "name": "stdout",
     "output_type": "stream",
     "text": [
      "MSE between formula parameters is 0.34728889635097343\n",
      "FAILURE\n",
      "\n",
      "\n",
      "----------------------------Exploring new formula #3----------------------------\n",
      "  Initialization #1\n",
      "    Epoch 5000, current loss 0.00298, current formula \\left(-0.812x_1^{2.078} + 1.451x_2^{0.056} + 0.480\\right)\n",
      "  Finished run #1, loss 4.793321121965288e-12, best loss 4.793321121965288e-12\n",
      "loss is smaller than 1e-05, terminating learning process\n",
      "50 seconds passed from the start, the iteration took 10 seconds\n",
      "ground truth and obtained formula\n"
     ]
    },
    {
     "data": {
      "text/latex": [
       "$\\displaystyle -0.778x_{1}^{2.0}+0.329x_{2}^{1.5}+1.719$"
      ],
      "text/plain": [
       "<IPython.core.display.Math object>"
      ]
     },
     "metadata": {},
     "output_type": "display_data"
    },
    {
     "data": {
      "text/latex": [
       "$\\displaystyle \\left(-0.778x_1^{2.000} + 0.329x_2^{1.500} + 1.719\\right)$"
      ],
      "text/plain": [
       "<IPython.core.display.Math object>"
      ]
     },
     "metadata": {},
     "output_type": "display_data"
    },
    {
     "name": "stdout",
     "output_type": "stream",
     "text": [
      "MSE between formula parameters is 1.458666254450236e-09\n",
      "EXACT RECOVERY\n",
      "\n",
      "\n",
      "----------------------------Exploring new formula #4----------------------------\n",
      "  Initialization #1\n",
      "  Finished run #1, loss 9.97923965684322e-13, best loss 9.97923965684322e-13\n",
      "loss is smaller than 1e-05, terminating learning process\n",
      "52 seconds passed from the start, the iteration took 2 seconds\n",
      "ground truth and obtained formula\n"
     ]
    },
    {
     "data": {
      "text/latex": [
       "$\\displaystyle 0.803x_{1}^{3.5}+0.662x_{2}^{5.0}+0.179$"
      ],
      "text/plain": [
       "<IPython.core.display.Math object>"
      ]
     },
     "metadata": {},
     "output_type": "display_data"
    },
    {
     "data": {
      "text/latex": [
       "$\\displaystyle \\left(0.803x_1^{3.500} + 0.662x_2^{5.000} + 0.179\\right)$"
      ],
      "text/plain": [
       "<IPython.core.display.Math object>"
      ]
     },
     "metadata": {},
     "output_type": "display_data"
    },
    {
     "name": "stdout",
     "output_type": "stream",
     "text": [
      "MSE between formula parameters is 2.5134458958575576e-10\n",
      "EXACT RECOVERY\n",
      "\n",
      "\n",
      "----------------------------Exploring new formula #5----------------------------\n",
      "  Initialization #1\n",
      "  Finished run #1, loss 1.7785683949916864e-12, best loss 1.7785683949916864e-12\n",
      "loss is smaller than 1e-05, terminating learning process\n",
      "54 seconds passed from the start, the iteration took 2 seconds\n",
      "ground truth and obtained formula\n"
     ]
    },
    {
     "data": {
      "text/latex": [
       "$\\displaystyle -0.808x_{1}^{2.5}-0.516x_{2}^{4.5}-0.461$"
      ],
      "text/plain": [
       "<IPython.core.display.Math object>"
      ]
     },
     "metadata": {},
     "output_type": "display_data"
    },
    {
     "data": {
      "text/latex": [
       "$\\displaystyle \\left(-0.808x_1^{2.500}-0.516x_2^{4.500}-0.461\\right)$"
      ],
      "text/plain": [
       "<IPython.core.display.Math object>"
      ]
     },
     "metadata": {},
     "output_type": "display_data"
    },
    {
     "name": "stdout",
     "output_type": "stream",
     "text": [
      "MSE between formula parameters is 5.356088905728029e-11\n",
      "EXACT RECOVERY\n",
      "\n",
      "################################################################################\n",
      "MSEs between parameters:\n",
      "[5.916256157522384, 0.34728889635097343, 1.458666254450236e-09, 2.5134458958575576e-10, 5.356088905728029e-11]\n",
      "For 3 formulas out of 5 the error is less than 1e-05.\n",
      "\n",
      "\n",
      "----------------------------Exploring new formula #1----------------------------\n",
      "  Initialization #1\n",
      "    Epoch 5000, current loss 0.0476, current formula \\left(-1.044x_1^{2.127}-4.851x_2^{-0.056} + 5.279\\right)\n",
      "    Epoch 10000, current loss 0.0464, current formula \\left(-1.041x_1^{2.134}-7.587x_2^{-0.037} + 8.022\\right)\n",
      "  Finished run #1, loss 0.046443499624729156, best loss 0.046443499624729156\n",
      "  Initialization #2\n",
      "  Finished run #2, loss 1.6793921938859646e-12, best loss 1.6793921938859646e-12\n",
      "loss is smaller than 1e-05, terminating learning process\n",
      "14 seconds passed from the start, the iteration took 14 seconds\n",
      "ground truth and obtained formula\n"
     ]
    },
    {
     "data": {
      "text/latex": [
       "$\\displaystyle -1.1x_{1}^{1.917}+1.099x_{2}^{2.083}-0.19$"
      ],
      "text/plain": [
       "<IPython.core.display.Math object>"
      ]
     },
     "metadata": {},
     "output_type": "display_data"
    },
    {
     "data": {
      "text/latex": [
       "$\\displaystyle \\left(-1.100x_1^{1.917} + 1.099x_2^{2.083}-0.190\\right)$"
      ],
      "text/plain": [
       "<IPython.core.display.Math object>"
      ]
     },
     "metadata": {},
     "output_type": "display_data"
    },
    {
     "name": "stdout",
     "output_type": "stream",
     "text": [
      "MSE between formula parameters is 2.0339285811132868e-13\n",
      "EXACT RECOVERY\n",
      "\n",
      "\n",
      "----------------------------Exploring new formula #2----------------------------\n",
      "  Initialization #1\n",
      "    Epoch 5000, current loss 0.0257, current formula \\left(-6.515x_1^{-0.033} + 5.332x_2^{-0.012} + 1.425\\right)\n",
      "    Epoch 10000, current loss 0.0251, current formula \\left(-8.730x_1^{-0.025} + 7.515x_2^{-0.009} + 1.459\\right)\n",
      "  Finished run #1, loss 0.025086238980293274, best loss 0.025086238980293274\n",
      "  Initialization #2\n",
      "  Finished run #2, loss 0.024278709664940834, best loss 0.024278709664940834\n",
      "  Initialization #3\n",
      "  Finished run #3, loss 0.003999479580670595, best loss 0.003999479580670595\n",
      "  Initialization #4\n",
      "    Epoch 5000, current loss 0.0232, current formula \\left(-4.663x_1^{-0.045}-0.291x_2^{1.704} + 5.075\\right)\n",
      "    Epoch 10000, current loss 0.0223, current formula \\left(-6.821x_1^{-0.032}-0.294x_2^{1.700} + 7.242\\right)\n",
      "  Finished run #4, loss 0.022280719131231308, best loss 0.003999479580670595\n",
      "45 seconds passed from the start, the iteration took 31 seconds\n",
      "ground truth and obtained formula\n"
     ]
    },
    {
     "data": {
      "text/latex": [
       "$\\displaystyle 1.097x_{1}^{0.75}-0.351x_{2}^{1.75}-0.428$"
      ],
      "text/plain": [
       "<IPython.core.display.Math object>"
      ]
     },
     "metadata": {},
     "output_type": "display_data"
    },
    {
     "data": {
      "text/latex": [
       "$\\displaystyle \\left(1.066x_1^{0.750} + 1.177x_2^{-0.063}-1.791\\right)$"
      ],
      "text/plain": [
       "<IPython.core.display.Math object>"
      ]
     },
     "metadata": {},
     "output_type": "display_data"
    },
    {
     "name": "stdout",
     "output_type": "stream",
     "text": [
      "MSE between formula parameters is 1.4961441492203726\n",
      "FAILURE\n",
      "\n",
      "\n",
      "----------------------------Exploring new formula #3----------------------------\n",
      "  Initialization #1\n",
      "    Epoch 5000, current loss 3.26e-12, current formula \\left(0.302x_1^{2.833}-0.390x_2^{2.667} + 1.844\\right)\n",
      "  Finished run #1, loss 3.255990962958144e-12, best loss 3.255990962958144e-12\n",
      "loss is smaller than 1e-05, terminating learning process\n",
      "52 seconds passed from the start, the iteration took 7 seconds\n",
      "ground truth and obtained formula\n"
     ]
    },
    {
     "data": {
      "text/latex": [
       "$\\displaystyle 0.302x_{1}^{2.833}-0.39x_{2}^{2.667}+1.844$"
      ],
      "text/plain": [
       "<IPython.core.display.Math object>"
      ]
     },
     "metadata": {},
     "output_type": "display_data"
    },
    {
     "data": {
      "text/latex": [
       "$\\displaystyle \\left(0.302x_1^{2.833}-0.390x_2^{2.667} + 1.844\\right)$"
      ],
      "text/plain": [
       "<IPython.core.display.Math object>"
      ]
     },
     "metadata": {},
     "output_type": "display_data"
    },
    {
     "name": "stdout",
     "output_type": "stream",
     "text": [
      "MSE between formula parameters is 2.0560580793471673e-09\n",
      "EXACT RECOVERY\n",
      "\n",
      "\n",
      "----------------------------Exploring new formula #4----------------------------\n",
      "  Initialization #1\n",
      "    Epoch 5000, current loss 0.0335, current formula \\left(0.963x_1^{-0.076} + 1.943x_2^{-0.047}-2.894\\right)\n",
      "  Finished run #1, loss 0.03314011171460152, best loss 0.03314011171460152\n",
      "  Initialization #2\n",
      "    Epoch 5000, current loss 0.00533, current formula \\left(-0.988x_1^{0.087}-0.735x_2^{2.968} + 1.256\\right)\n",
      "  Finished run #2, loss 2.498314922994016e-12, best loss 2.498314922994016e-12\n",
      "loss is smaller than 1e-05, terminating learning process\n",
      "1 minutes 11 seconds passed from the start, the iteration took 18 seconds\n",
      "ground truth and obtained formula\n"
     ]
    },
    {
     "data": {
      "text/latex": [
       "$\\displaystyle -0.35x_{1}^{2.667}-0.745x_{2}^{3.167}+0.443$"
      ],
      "text/plain": [
       "<IPython.core.display.Math object>"
      ]
     },
     "metadata": {},
     "output_type": "display_data"
    },
    {
     "data": {
      "text/latex": [
       "$\\displaystyle \\left(-0.350x_1^{2.667}-0.745x_2^{3.167} + 0.443\\right)$"
      ],
      "text/plain": [
       "<IPython.core.display.Math object>"
      ]
     },
     "metadata": {},
     "output_type": "display_data"
    },
    {
     "name": "stdout",
     "output_type": "stream",
     "text": [
      "MSE between formula parameters is 1.1763123808350429e-10\n",
      "EXACT RECOVERY\n",
      "\n",
      "\n",
      "----------------------------Exploring new formula #5----------------------------\n",
      "  Initialization #1\n",
      "    Epoch 5000, current loss 0.106, current formula \\left(4.552x_1^{-0.060} + 1.061x_2^{0.143}-5.775\\right)\n",
      "    Epoch 10000, current loss 0.105, current formula \\left(5.887x_1^{-0.048} + 1.246x_2^{0.117}-7.306\\right)\n",
      "  Finished run #1, loss 0.1050925999879837, best loss 0.1050925999879837\n",
      "  Initialization #2\n",
      "    Epoch 5000, current loss 0.107, current formula \\left(4.173x_1^{-0.065} + 1.001x_2^{0.154}-5.335\\right)\n",
      "    Epoch 10000, current loss 0.105, current formula \\left(5.695x_1^{-0.050} + 1.217x_2^{0.120}-7.083\\right)\n",
      "  Finished run #2, loss 0.10521990805864334, best loss 0.1050925999879837\n",
      "  Initialization #3\n",
      "    Epoch 5000, current loss 0.0043, current formula \\left(-1.466x_1^{4.725}-2.115x_2^{-0.046} + 2.433\\right)\n",
      "    Epoch 10000, current loss 0.00414, current formula \\left(-1.466x_1^{4.726}-3.126x_2^{-0.032} + 3.446\\right)\n",
      "  Finished run #3, loss 0.004140645731240511, best loss 0.004140645731240511\n",
      "  Initialization #4\n",
      "    Epoch 5000, current loss 0.104, current formula \\left(6.509x_1^{-0.044}-0.450x_2^{-0.179}-6.259\\right)\n",
      "    Epoch 10000, current loss 0.103, current formula \\left(9.348x_1^{-0.032}-0.495x_2^{-0.167}-9.060\\right)\n",
      "  Finished run #4, loss 0.102992944419384, best loss 0.004140645731240511\n",
      "2 minutes 0 seconds passed from the start, the iteration took 50 seconds\n",
      "ground truth and obtained formula\n"
     ]
    },
    {
     "data": {
      "text/latex": [
       "$\\displaystyle -1.503x_{1}^{4.75}+0.466x_{2}^{0.917}-0.036$"
      ],
      "text/plain": [
       "<IPython.core.display.Math object>"
      ]
     },
     "metadata": {},
     "output_type": "display_data"
    },
    {
     "data": {
      "text/latex": [
       "$\\displaystyle \\left(-1.466x_1^{4.726}-3.126x_2^{-0.032} + 3.446\\right)$"
      ],
      "text/plain": [
       "<IPython.core.display.Math object>"
      ]
     },
     "metadata": {},
     "output_type": "display_data"
    },
    {
     "name": "stdout",
     "output_type": "stream",
     "text": [
      "MSE between formula parameters is 5.184420004257274\n",
      "FAILURE\n",
      "\n",
      "################################################################################\n",
      "MSEs between parameters:\n",
      "[2.0339285811132868e-13, 1.4961441492203726, 2.0560580793471673e-09, 1.1763123808350429e-10, 5.184420004257274]\n",
      "For 3 formulas out of 5 the error is less than 1e-05.\n",
      "\n",
      "\n",
      "----------------------------Exploring new formula #1----------------------------\n",
      "  Initialization #1\n",
      "  Finished run #1, loss 2.4688072766676505e-12, best loss 2.4688072766676505e-12\n",
      "loss is smaller than 1e-05, terminating learning process\n",
      "2 seconds passed from the start, the iteration took 2 seconds\n",
      "ground truth and obtained formula\n"
     ]
    },
    {
     "data": {
      "text/latex": [
       "$\\displaystyle -1.502x_{1}^{5.0}+0.322x_{2}^{3.0}-2.148x_{3}^{5.0}-0.441$"
      ],
      "text/plain": [
       "<IPython.core.display.Math object>"
      ]
     },
     "metadata": {},
     "output_type": "display_data"
    },
    {
     "data": {
      "text/latex": [
       "$\\displaystyle \\left(-1.502x_1^{5.000} + 0.322x_2^{3.000}-2.148x_3^{5.000}-0.441\\right)$"
      ],
      "text/plain": [
       "<IPython.core.display.Math object>"
      ]
     },
     "metadata": {},
     "output_type": "display_data"
    },
    {
     "name": "stdout",
     "output_type": "stream",
     "text": [
      "MSE between formula parameters is 4.665800444416033e-10\n",
      "EXACT RECOVERY\n",
      "\n",
      "\n",
      "----------------------------Exploring new formula #2----------------------------\n",
      "  Initialization #1\n",
      "    Epoch 5000, current loss 0.171, current formula \\left(-4.426x_1^{-0.051} + 8.644x_2^{0.002} + 0.773x_3^{3.531}-1.372\\right)\n",
      "  Finished run #1, loss 0.16979774832725525, best loss 0.16979774832725525\n",
      "  Initialization #2\n",
      "    Epoch 5000, current loss 0.0226, current formula \\left(1.747x_1^{4.060} + 0.029x_2^{13.098} + 2.251x_3^{0.109} + 0.340\\right)\n",
      "  Finished run #2, loss 2.3715075042618494e-12, best loss 2.3715075042618494e-12\n",
      "loss is smaller than 1e-05, terminating learning process\n",
      "27 seconds passed from the start, the iteration took 25 seconds\n",
      "ground truth and obtained formula\n"
     ]
    },
    {
     "data": {
      "text/latex": [
       "$\\displaystyle 1.727x_{1}^{5.0}+0.054x_{2}^{4.0}+0.804x_{3}^{3.0}+2.214$"
      ],
      "text/plain": [
       "<IPython.core.display.Math object>"
      ]
     },
     "metadata": {},
     "output_type": "display_data"
    },
    {
     "data": {
      "text/latex": [
       "$\\displaystyle \\left(1.727x_1^{5.000} + 0.054x_2^{4.000} + 0.804x_3^{3.000} + 2.214\\right)$"
      ],
      "text/plain": [
       "<IPython.core.display.Math object>"
      ]
     },
     "metadata": {},
     "output_type": "display_data"
    },
    {
     "name": "stdout",
     "output_type": "stream",
     "text": [
      "MSE between formula parameters is 2.5163148548961497e-08\n",
      "EXACT RECOVERY\n",
      "\n",
      "\n",
      "----------------------------Exploring new formula #3----------------------------\n",
      "  Initialization #1\n",
      "    Epoch 5000, current loss 0.0361, current formula \\left(1.586x_1^{4.618}-5.834x_2^{-0.032} + 5.770x_3^{-0.013} + 0.619\\right)\n",
      "    Epoch 10000, current loss 0.0359, current formula \\left(1.586x_1^{4.615}-7.795x_2^{-0.024} + 7.722x_3^{-0.010} + 0.629\\right)\n",
      "  Finished run #1, loss 0.035865962505340576, best loss 0.035865962505340576\n",
      "  Initialization #2\n",
      "  Finished run #2, loss 3.5288239344510863e-12, best loss 3.5288239344510863e-12\n",
      "loss is smaller than 1e-05, terminating learning process\n",
      "45 seconds passed from the start, the iteration took 18 seconds\n",
      "ground truth and obtained formula\n"
     ]
    },
    {
     "data": {
      "text/latex": [
       "$\\displaystyle 1.486x_{1}^{4.0}+0.764x_{2}^{2.0}-0.75x_{3}^{6.0}+0.287$"
      ],
      "text/plain": [
       "<IPython.core.display.Math object>"
      ]
     },
     "metadata": {},
     "output_type": "display_data"
    },
    {
     "data": {
      "text/latex": [
       "$\\displaystyle \\left(1.486x_1^{4.000} + 0.764x_2^{2.000}-0.750x_3^{6.000} + 0.287\\right)$"
      ],
      "text/plain": [
       "<IPython.core.display.Math object>"
      ]
     },
     "metadata": {},
     "output_type": "display_data"
    },
    {
     "name": "stdout",
     "output_type": "stream",
     "text": [
      "MSE between formula parameters is 1.388614683557015e-09\n",
      "EXACT RECOVERY\n",
      "\n",
      "\n",
      "----------------------------Exploring new formula #4----------------------------\n",
      "  Initialization #1\n",
      "  Finished run #1, loss 0.01778271794319153, best loss 0.01778271794319153\n",
      "  Initialization #2\n",
      "    Epoch 5000, current loss 0.0169, current formula \\left(1.399x_1^{0.073}-0.237x_2^{2.486} + 1.069x_3^{4.411}-0.707\\right)\n",
      "  Finished run #2, loss 9.584599823878048e-13, best loss 9.584599823878048e-13\n",
      "loss is smaller than 1e-05, terminating learning process\n",
      "59 seconds passed from the start, the iteration took 14 seconds\n",
      "ground truth and obtained formula\n"
     ]
    },
    {
     "data": {
      "text/latex": [
       "$\\displaystyle 0.753x_{1}^{6.0}-0.238x_{2}^{4.0}+0.924x_{3}^{4.0}+0.492$"
      ],
      "text/plain": [
       "<IPython.core.display.Math object>"
      ]
     },
     "metadata": {},
     "output_type": "display_data"
    },
    {
     "data": {
      "text/latex": [
       "$\\displaystyle \\left(0.753x_1^{6.000}-0.238x_2^{4.000} + 0.924x_3^{4.000} + 0.492\\right)$"
      ],
      "text/plain": [
       "<IPython.core.display.Math object>"
      ]
     },
     "metadata": {},
     "output_type": "display_data"
    },
    {
     "name": "stdout",
     "output_type": "stream",
     "text": [
      "MSE between formula parameters is 2.5705532940329637e-11\n",
      "EXACT RECOVERY\n",
      "\n",
      "\n",
      "----------------------------Exploring new formula #5----------------------------\n",
      "  Initialization #1\n",
      "  Finished run #1, loss 0.0003820324782282114, best loss 0.0003820324782282114\n",
      "  Initialization #2\n",
      "  Finished run #2, loss 0.00040684640407562256, best loss 0.0003820324782282114\n",
      "  Initialization #3\n",
      "  Finished run #3, loss 0.06046895682811737, best loss 0.0003820324782282114\n",
      "  Initialization #4\n",
      "  Finished run #4, loss 0.00040853218524716794, best loss 0.0003820324782282114\n",
      "1 minutes 9 seconds passed from the start, the iteration took 10 seconds\n",
      "ground truth and obtained formula\n"
     ]
    },
    {
     "data": {
      "text/latex": [
       "$\\displaystyle 1.218x_{1}^{4.0}-0.101x_{2}^{6.0}+0.771x_{3}^{1.0}+1.178$"
      ],
      "text/plain": [
       "<IPython.core.display.Math object>"
      ]
     },
     "metadata": {},
     "output_type": "display_data"
    },
    {
     "data": {
      "text/latex": [
       "$\\displaystyle \\left(1.220x_1^{4.089}-0.157x_2^{0.104} + 0.776x_3^{1.027} + 1.311\\right)$"
      ],
      "text/plain": [
       "<IPython.core.display.Math object>"
      ]
     },
     "metadata": {},
     "output_type": "display_data"
    },
    {
     "name": "stdout",
     "output_type": "stream",
     "text": [
      "MSE between formula parameters is 4.971124643802717\n",
      "FAILURE\n",
      "\n",
      "################################################################################\n",
      "MSEs between parameters:\n",
      "[4.665800444416033e-10, 2.5163148548961497e-08, 1.388614683557015e-09, 2.5705532940329637e-11, 4.971124643802717]\n",
      "For 4 formulas out of 5 the error is less than 1e-05.\n",
      "\n",
      "\n",
      "----------------------------Exploring new formula #1----------------------------\n",
      "  Initialization #1\n",
      "  Finished run #1, loss 0.04068044573068619, best loss 0.04068044573068619\n",
      "  Initialization #2\n",
      "  Finished run #2, loss 3.6620801946440906e-09, best loss 3.6620801946440906e-09\n",
      "loss is smaller than 1e-05, terminating learning process\n",
      "5 seconds passed from the start, the iteration took 5 seconds\n",
      "ground truth and obtained formula\n"
     ]
    },
    {
     "data": {
      "text/latex": [
       "$\\displaystyle 0.0x_{1}^{5.0}+0.817x_{2}^{6.0}+0.228x_{3}^{4.5}-0.199$"
      ],
      "text/plain": [
       "<IPython.core.display.Math object>"
      ]
     },
     "metadata": {},
     "output_type": "display_data"
    },
    {
     "data": {
      "text/latex": [
       "$\\displaystyle \\left(2.296x_1^{0.000} + 0.817x_2^{6.001} + 0.228x_3^{4.500}-2.495\\right)$"
      ],
      "text/plain": [
       "<IPython.core.display.Math object>"
      ]
     },
     "metadata": {},
     "output_type": "display_data"
    },
    {
     "name": "stdout",
     "output_type": "stream",
     "text": [
      "MSE between formula parameters is 5.076884583624841\n",
      "FAILURE\n",
      "\n",
      "\n",
      "----------------------------Exploring new formula #2----------------------------\n",
      "  Initialization #1\n",
      "    Epoch 5000, current loss 0.0628, current formula \\left(0.798x_1^{0.794} + 3.231x_2^{-0.063}-0.219x_3^{1.530}-4.375\\right)\n",
      "  Finished run #1, loss 0.06256654113531113, best loss 0.06256654113531113\n",
      "  Initialization #2\n",
      "    Epoch 5000, current loss 0.0628, current formula \\left(0.794x_1^{0.787} + 5.466x_2^{-0.040}-1.458x_3^{0.051}-5.316\\right)\n",
      "    Epoch 10000, current loss 0.062, current formula \\left(0.793x_1^{0.784} + 9.796x_2^{-0.023}-1.478x_3^{0.051}-9.633\\right)\n",
      "  Finished run #2, loss 0.06195090711116791, best loss 0.06195090711116791\n",
      "  Initialization #3\n",
      "  Finished run #3, loss 1.207803301817023e-10, best loss 1.207803301817023e-10\n",
      "loss is smaller than 1e-05, terminating learning process\n",
      "32 seconds passed from the start, the iteration took 27 seconds\n",
      "ground truth and obtained formula\n"
     ]
    },
    {
     "data": {
      "text/latex": [
       "$\\displaystyle 0.841x_{1}^{0.5}-1.363x_{2}^{3.5}-0.24x_{3}^{3.0}-0.782$"
      ],
      "text/plain": [
       "<IPython.core.display.Math object>"
      ]
     },
     "metadata": {},
     "output_type": "display_data"
    },
    {
     "data": {
      "text/latex": [
       "$\\displaystyle \\left(0.841x_1^{0.500}-1.363x_2^{3.500}-0.240x_3^{3.000}-0.782\\right)$"
      ],
      "text/plain": [
       "<IPython.core.display.Math object>"
      ]
     },
     "metadata": {},
     "output_type": "display_data"
    },
    {
     "name": "stdout",
     "output_type": "stream",
     "text": [
      "MSE between formula parameters is 8.309076886854022e-09\n",
      "EXACT RECOVERY\n",
      "\n",
      "\n",
      "----------------------------Exploring new formula #3----------------------------\n",
      "  Initialization #1\n",
      "  Finished run #1, loss 0.002207367215305567, best loss 0.002207367215305567\n",
      "  Initialization #2\n",
      "  Finished run #2, loss 0.002559815300628543, best loss 0.002207367215305567\n",
      "  Initialization #3\n",
      "  Finished run #3, loss 0.002014582511037588, best loss 0.002014582511037588\n",
      "  Initialization #4\n",
      "  Finished run #4, loss 0.0004780963354278356, best loss 0.0004780963354278356\n",
      "40 seconds passed from the start, the iteration took 8 seconds\n",
      "ground truth and obtained formula\n"
     ]
    },
    {
     "data": {
      "text/latex": [
       "$\\displaystyle -0.586x_{1}^{0.5}-0.157x_{2}^{3.5}-0.201x_{3}^{3.5}+0.063$"
      ],
      "text/plain": [
       "<IPython.core.display.Math object>"
      ]
     },
     "metadata": {},
     "output_type": "display_data"
    },
    {
     "data": {
      "text/latex": [
       "$\\displaystyle \\left(-1.237x_1^{0.152}-0.166x_2^{3.560}-0.211x_3^{3.976} + 0.748\\right)$"
      ],
      "text/plain": [
       "<IPython.core.display.Math object>"
      ]
     },
     "metadata": {},
     "output_type": "display_data"
    },
    {
     "name": "stdout",
     "output_type": "stream",
     "text": [
      "MSE between formula parameters is 0.1776789313259548\n",
      "FAILURE\n",
      "\n",
      "\n",
      "----------------------------Exploring new formula #4----------------------------\n",
      "  Initialization #1\n",
      "    Epoch 5000, current loss 6.54e-12, current formula \\left(-0.676x_1^{1.000}-0.613x_2^{4.000}-0.811x_3^{1.500}-1.118\\right)\n",
      "  Finished run #1, loss 3.037712225859024e-12, best loss 3.037712225859024e-12\n",
      "loss is smaller than 1e-05, terminating learning process\n",
      "49 seconds passed from the start, the iteration took 8 seconds\n",
      "ground truth and obtained formula\n"
     ]
    },
    {
     "data": {
      "text/latex": [
       "$\\displaystyle -0.676x_{1}^{1.0}-0.613x_{2}^{4.0}-0.811x_{3}^{1.5}-1.118$"
      ],
      "text/plain": [
       "<IPython.core.display.Math object>"
      ]
     },
     "metadata": {},
     "output_type": "display_data"
    },
    {
     "data": {
      "text/latex": [
       "$\\displaystyle \\left(-0.676x_1^{1.000}-0.613x_2^{4.000}-0.811x_3^{1.500}-1.118\\right)$"
      ],
      "text/plain": [
       "<IPython.core.display.Math object>"
      ]
     },
     "metadata": {},
     "output_type": "display_data"
    },
    {
     "name": "stdout",
     "output_type": "stream",
     "text": [
      "MSE between formula parameters is 6.747973608461117e-11\n",
      "EXACT RECOVERY\n",
      "\n",
      "\n",
      "----------------------------Exploring new formula #5----------------------------\n",
      "  Initialization #1\n",
      "  Finished run #1, loss 3.4681541492831425e-12, best loss 3.4681541492831425e-12\n",
      "loss is smaller than 1e-05, terminating learning process\n",
      "50 seconds passed from the start, the iteration took 2 seconds\n",
      "ground truth and obtained formula\n"
     ]
    },
    {
     "data": {
      "text/latex": [
       "$\\displaystyle 1.509x_{1}^{2.0}-0.032x_{2}^{3.0}-0.64x_{3}^{4.5}+0.154$"
      ],
      "text/plain": [
       "<IPython.core.display.Math object>"
      ]
     },
     "metadata": {},
     "output_type": "display_data"
    },
    {
     "data": {
      "text/latex": [
       "$\\displaystyle \\left(1.509x_1^{2.000}-0.032x_2^{3.000}-0.640x_3^{4.500} + 0.154\\right)$"
      ],
      "text/plain": [
       "<IPython.core.display.Math object>"
      ]
     },
     "metadata": {},
     "output_type": "display_data"
    },
    {
     "name": "stdout",
     "output_type": "stream",
     "text": [
      "MSE between formula parameters is 9.502539842300349e-09\n",
      "EXACT RECOVERY\n",
      "\n",
      "################################################################################\n",
      "MSEs between parameters:\n",
      "[5.076884583624841, 8.309076886854022e-09, 0.1776789313259548, 6.747973608461117e-11, 9.502539842300349e-09]\n",
      "For 3 formulas out of 5 the error is less than 1e-05.\n",
      "\n",
      "\n",
      "----------------------------Exploring new formula #1----------------------------\n",
      "  Initialization #1\n",
      "  Finished run #1, loss 0.0018235986353829503, best loss 0.0018235986353829503\n",
      "  Initialization #2\n",
      "  Finished run #2, loss 2.2626800433300787e-10, best loss 2.2626800433300787e-10\n",
      "loss is smaller than 1e-05, terminating learning process\n",
      "7 seconds passed from the start, the iteration took 7 seconds\n",
      "ground truth and obtained formula\n"
     ]
    },
    {
     "data": {
      "text/latex": [
       "$\\displaystyle 0.416x_{1}^{0.75}+2.278x_{2}^{2.667}-0.981x_{3}^{1.0}+0.9$"
      ],
      "text/plain": [
       "<IPython.core.display.Math object>"
      ]
     },
     "metadata": {},
     "output_type": "display_data"
    },
    {
     "data": {
      "text/latex": [
       "$\\displaystyle \\left(0.416x_1^{0.750} + 2.278x_2^{2.667}-0.981x_3^{1.000} + 0.900\\right)$"
      ],
      "text/plain": [
       "<IPython.core.display.Math object>"
      ]
     },
     "metadata": {},
     "output_type": "display_data"
    },
    {
     "name": "stdout",
     "output_type": "stream",
     "text": [
      "MSE between formula parameters is 1.792315121714897e-08\n",
      "EXACT RECOVERY\n",
      "\n",
      "\n",
      "----------------------------Exploring new formula #2----------------------------\n",
      "  Initialization #1\n",
      "  Finished run #1, loss 5.724144491736638e-10, best loss 5.724144491736638e-10\n",
      "loss is smaller than 1e-05, terminating learning process\n",
      "9 seconds passed from the start, the iteration took 2 seconds\n",
      "ground truth and obtained formula\n"
     ]
    },
    {
     "data": {
      "text/latex": [
       "$\\displaystyle -0.686x_{1}^{0.833}+0.421x_{2}^{0.417}-1.119x_{3}^{2.083}-0.53$"
      ],
      "text/plain": [
       "<IPython.core.display.Math object>"
      ]
     },
     "metadata": {},
     "output_type": "display_data"
    },
    {
     "data": {
      "text/latex": [
       "$\\displaystyle \\left(-0.686x_1^{0.833} + 0.421x_2^{0.417}-1.119x_3^{2.083}-0.529\\right)$"
      ],
      "text/plain": [
       "<IPython.core.display.Math object>"
      ]
     },
     "metadata": {},
     "output_type": "display_data"
    },
    {
     "name": "stdout",
     "output_type": "stream",
     "text": [
      "MSE between formula parameters is 3.8065172601266436e-08\n",
      "EXACT RECOVERY\n",
      "\n",
      "\n",
      "----------------------------Exploring new formula #3----------------------------\n",
      "  Initialization #1\n",
      "  Finished run #1, loss 0.015947211533784866, best loss 0.015947211533784866\n",
      "  Initialization #2\n",
      "  Finished run #2, loss 0.0018647781107574701, best loss 0.0018647781107574701\n",
      "  Initialization #3\n",
      "    Epoch 5000, current loss 0.0196, current formula \\left(-2.649x_1^{-0.042}-0.258x_2^{10.365}-0.569x_3^{-0.060} + 2.115\\right)\n",
      "  Finished run #3, loss 0.019635416567325592, best loss 0.0018647781107574701\n",
      "  Initialization #4\n",
      "    Epoch 5000, current loss 0.0212, current formula \\left(-3.164x_1^{-0.035} + 2.052x_2^{-0.007} + 1.023x_3^{0.044}-1.044\\right)\n",
      "    Epoch 10000, current loss 0.0212, current formula \\left(-3.698x_1^{-0.031} + 2.601x_2^{-0.006} + 0.956x_3^{0.047}-0.990\\right)\n",
      "  Finished run #4, loss 0.0211800504475832, best loss 0.0018647781107574701\n",
      "40 seconds passed from the start, the iteration took 32 seconds\n",
      "ground truth and obtained formula\n"
     ]
    },
    {
     "data": {
      "text/latex": [
       "$\\displaystyle 0.56x_{1}^{3.75}-0.235x_{2}^{5.917}+0.192x_{3}^{5.833}-1.407$"
      ],
      "text/plain": [
       "<IPython.core.display.Math object>"
      ]
     },
     "metadata": {},
     "output_type": "display_data"
    },
    {
     "data": {
      "text/latex": [
       "$\\displaystyle \\left(0.589x_1^{3.907}-0.243x_2^{5.293}-0.523x_3^{-0.059}-0.817\\right)$"
      ],
      "text/plain": [
       "<IPython.core.display.Math object>"
      ]
     },
     "metadata": {},
     "output_type": "display_data"
    },
    {
     "name": "stdout",
     "output_type": "stream",
     "text": [
      "MSE between formula parameters is 5.141683537056532\n",
      "FAILURE\n",
      "\n",
      "\n",
      "----------------------------Exploring new formula #4----------------------------\n",
      "  Initialization #1\n",
      "    Epoch 5000, current loss 0.119, current formula \\left(-2.636x_1^{-0.072}-3.272x_2^{-0.046}-0.586x_3^{0.168} + 6.177\\right)\n",
      "  Finished run #1, loss 0.1193196177482605, best loss 0.1193196177482605\n",
      "  Initialization #2\n",
      "  Finished run #2, loss 3.181384818162769e-05, best loss 3.181384818162769e-05\n",
      "  Initialization #3\n",
      "    Epoch 5000, current loss 0.0689, current formula \\left(1.224x_1^{6.139}-4.466x_2^{-0.049} + 0.072x_3^{-0.389} + 3.816\\right)\n",
      "    Epoch 10000, current loss 0.0677, current formula \\left(1.233x_1^{6.187}-6.650x_2^{-0.034} + 0.057x_3^{-0.426} + 6.026\\right)\n",
      "  Finished run #3, loss 0.06771243363618851, best loss 3.181384818162769e-05\n",
      "  Initialization #4\n",
      "  Finished run #4, loss 0.05197737738490105, best loss 3.181384818162769e-05\n",
      "1 minutes 13 seconds passed from the start, the iteration took 33 seconds\n",
      "ground truth and obtained formula\n"
     ]
    },
    {
     "data": {
      "text/latex": [
       "$\\displaystyle 1.119x_{1}^{4.583}+1.419x_{2}^{2.25}-0.031x_{3}^{3.75}-1.178$"
      ],
      "text/plain": [
       "<IPython.core.display.Math object>"
      ]
     },
     "metadata": {},
     "output_type": "display_data"
    },
    {
     "data": {
      "text/latex": [
       "$\\displaystyle \\left(1.120x_1^{4.592} + 1.416x_2^{2.237}-0.642x_3^{0.007}-0.547\\right)$"
      ],
      "text/plain": [
       "<IPython.core.display.Math object>"
      ]
     },
     "metadata": {},
     "output_type": "display_data"
    },
    {
     "name": "stdout",
     "output_type": "stream",
     "text": [
      "MSE between formula parameters is 2.1120047077831514\n",
      "FAILURE\n",
      "\n",
      "\n",
      "----------------------------Exploring new formula #5----------------------------\n",
      "  Initialization #1\n",
      "  Finished run #1, loss 8.441136287729023e-07, best loss 8.441136287729023e-07\n",
      "loss is smaller than 1e-05, terminating learning process\n",
      "1 minutes 15 seconds passed from the start, the iteration took 2 seconds\n",
      "ground truth and obtained formula\n"
     ]
    },
    {
     "data": {
      "text/latex": [
       "$\\displaystyle -0.584x_{1}^{1.583}-0.847x_{2}^{1.667}-0.504x_{3}^{0.167}-1.278$"
      ],
      "text/plain": [
       "<IPython.core.display.Math object>"
      ]
     },
     "metadata": {},
     "output_type": "display_data"
    },
    {
     "data": {
      "text/latex": [
       "$\\displaystyle \\left(-0.585x_1^{1.578}-0.847x_2^{1.665}-0.538x_3^{0.152}-1.243\\right)$"
      ],
      "text/plain": [
       "<IPython.core.display.Math object>"
      ]
     },
     "metadata": {},
     "output_type": "display_data"
    },
    {
     "name": "stdout",
     "output_type": "stream",
     "text": [
      "MSE between formula parameters is 0.00037318537199088856\n",
      "FAILURE\n",
      "\n",
      "################################################################################\n",
      "MSEs between parameters:\n",
      "[1.792315121714897e-08, 3.8065172601266436e-08, 5.141683537056532, 2.1120047077831514, 0.00037318537199088856]\n",
      "For 2 formulas out of 5 the error is less than 1e-05.\n",
      "\n",
      "\n",
      "----------------------------Exploring new formula #1----------------------------\n",
      "  Initialization #1\n",
      "  Finished run #1, loss 0.0015070484951138496, best loss 0.0015070484951138496\n",
      "  Initialization #2\n",
      "  Finished run #2, loss 4.251734381233163e-12, best loss 4.251734381233163e-12\n",
      "loss is smaller than 1e-05, terminating learning process\n",
      "7 seconds passed from the start, the iteration took 7 seconds\n",
      "ground truth and obtained formula\n"
     ]
    },
    {
     "data": {
      "text/latex": [
       "$\\displaystyle 0.437x_{1}^{6.0}+0.765x_{2}^{2.0}-0.199x_{3}^{5.0}-0.428x_{4}^{6.0}-0.455$"
      ],
      "text/plain": [
       "<IPython.core.display.Math object>"
      ]
     },
     "metadata": {},
     "output_type": "display_data"
    },
    {
     "data": {
      "text/latex": [
       "$\\displaystyle \\left(0.437x_1^{6.000} + 0.765x_2^{2.000}-0.199x_3^{5.000}-0.428x_4^{6.000}-0.455\\right)$"
      ],
      "text/plain": [
       "<IPython.core.display.Math object>"
      ]
     },
     "metadata": {},
     "output_type": "display_data"
    },
    {
     "name": "stdout",
     "output_type": "stream",
     "text": [
      "MSE between formula parameters is 1.472591234138084e-08\n",
      "EXACT RECOVERY\n",
      "\n",
      "\n",
      "----------------------------Exploring new formula #2----------------------------\n",
      "  Initialization #1\n",
      "  Finished run #1, loss 0.04018872603774071, best loss 0.04018872603774071\n",
      "  Initialization #2\n",
      "    Epoch 5000, current loss 0.058, current formula \\left(2.415x_1^{-0.069} + 0.279x_2^{3.469} + 2.616x_3^{-0.085}-1.827x_4^{6.266}-5.629\\right)\n",
      "  Finished run #2, loss 0.05724754184484482, best loss 0.04018872603774071\n",
      "  Initialization #3\n",
      "  Finished run #3, loss 0.0013390857493504882, best loss 0.0013390857493504882\n",
      "  Initialization #4\n",
      "  Finished run #4, loss 0.001512455171905458, best loss 0.0013390857493504882\n",
      "38 seconds passed from the start, the iteration took 32 seconds\n",
      "ground truth and obtained formula\n"
     ]
    },
    {
     "data": {
      "text/latex": [
       "$\\displaystyle -0.887x_{1}^{3.0}+0.177x_{2}^{4.0}-0.903x_{3}^{1.0}-1.77x_{4}^{6.0}+0.536$"
      ],
      "text/plain": [
       "<IPython.core.display.Math object>"
      ]
     },
     "metadata": {},
     "output_type": "display_data"
    },
    {
     "data": {
      "text/latex": [
       "$\\displaystyle \\left(-0.912x_1^{3.112} + 0.402x_2^{0.100}-0.903x_3^{1.010}-1.745x_4^{5.888} + 0.207\\right)$"
      ],
      "text/plain": [
       "<IPython.core.display.Math object>"
      ]
     },
     "metadata": {},
     "output_type": "display_data"
    },
    {
     "name": "stdout",
     "output_type": "stream",
     "text": [
      "MSE between formula parameters is 1.7109454745997998\n",
      "FAILURE\n",
      "\n",
      "\n",
      "----------------------------Exploring new formula #3----------------------------\n",
      "  Initialization #1\n",
      "    Epoch 5000, current loss 0.00212, current formula \\left(1.090x_1^{3.029} + 1.199x_2^{-0.026}-2.387x_3^{2.996} + 1.365x_4^{0.062} + 0.778\\right)\n",
      "  Finished run #1, loss 0.00025092571740970016, best loss 0.00025092571740970016\n",
      "  Initialization #2\n",
      "    Epoch 5000, current loss 0.264, current formula \\left(1.305x_1^{1.920} + 2.398x_2^{0.021} + 16.609x_3^{-0.023} + 0.459x_4^{51.673}-16.899\\right)\n",
      "    Epoch 10000, current loss 0.262, current formula \\left(1.304x_1^{1.928} + 2.368x_2^{0.021} + 25.290x_3^{-0.016} + 0.458x_4^{50.505}-25.557\\right)\n",
      "  Finished run #2, loss 0.26215222477912903, best loss 0.00025092571740970016\n",
      "  Initialization #3\n",
      "  Finished run #3, loss 0.0015578577294945717, best loss 0.00025092571740970016\n",
      "  Initialization #4\n",
      "  Finished run #4, loss 0.0028167034033685923, best loss 0.00025092571740970016\n",
      "1 minutes 20 seconds passed from the start, the iteration took 42 seconds\n",
      "ground truth and obtained formula\n"
     ]
    },
    {
     "data": {
      "text/latex": [
       "$\\displaystyle 1.075x_{1}^{3.0}-0.087x_{2}^{2.0}-2.38x_{3}^{3.0}+0.309x_{4}^{1.0}+3.165$"
      ],
      "text/plain": [
       "<IPython.core.display.Math object>"
      ]
     },
     "metadata": {},
     "output_type": "display_data"
    },
    {
     "data": {
      "text/latex": [
       "$\\displaystyle \\left(1.075x_1^{3.023} + 2.284x_2^{-0.009}-2.395x_3^{2.976} + 0.314x_4^{1.035} + 0.839\\right)$"
      ],
      "text/plain": [
       "<IPython.core.display.Math object>"
      ]
     },
     "metadata": {},
     "output_type": "display_data"
    },
    {
     "name": "stdout",
     "output_type": "stream",
     "text": [
      "MSE between formula parameters is 1.6741945900299489\n",
      "FAILURE\n",
      "\n",
      "\n",
      "----------------------------Exploring new formula #4----------------------------\n",
      "  Initialization #1\n",
      "    Epoch 5000, current loss 0.0815, current formula \\left(-8.225x_1^{-0.018} + 1.222x_2^{6.020} + 0.694x_3^{12.790} + 9.825x_4^{-0.032}-1.589\\right)\n",
      "    Epoch 10000, current loss 0.0803, current formula \\left(-13.078x_1^{-0.011} + 1.221x_2^{5.981} + 0.684x_3^{12.261} + 14.708x_4^{-0.022}-1.625\\right)\n",
      "  Finished run #1, loss 0.08031754195690155, best loss 0.08031754195690155\n",
      "  Initialization #2\n",
      "  Finished run #2, loss 0.07315336912870407, best loss 0.07315336912870407\n",
      "  Initialization #3\n",
      "    Epoch 5000, current loss 0.0679, current formula \\left(0.643x_1^{1.514} + 1.132x_2^{4.929} + 0.617x_3^{7.919} + 5.924x_4^{-0.052}-6.354\\right)\n",
      "    Epoch 10000, current loss 0.0661, current formula \\left(0.645x_1^{1.511} + 1.130x_2^{4.894} + 0.614x_3^{7.834} + 9.383x_4^{-0.034}-9.826\\right)\n",
      "  Finished run #3, loss 0.06613371521234512, best loss 0.06613371521234512\n",
      "  Initialization #4\n",
      "    Epoch 5000, current loss 0.151, current formula \\left(-2.799x_1^{-0.038}-3.790x_2^{-0.043}-1.495x_3^{-0.026} + 6.941x_4^{-0.047} + 1.538\\right)\n",
      "  Finished run #4, loss 0.15035715699195862, best loss 0.06613371521234512\n",
      "2 minutes 16 seconds passed from the start, the iteration took 56 seconds\n",
      "ground truth and obtained formula\n"
     ]
    },
    {
     "data": {
      "text/latex": [
       "$\\displaystyle 0.662x_{1}^{1.0}+1.085x_{2}^{5.0}+0.479x_{3}^{6.0}-1.472x_{4}^{2.0}+0.301$"
      ],
      "text/plain": [
       "<IPython.core.display.Math object>"
      ]
     },
     "metadata": {},
     "output_type": "display_data"
    },
    {
     "data": {
      "text/latex": [
       "$\\displaystyle \\left(0.645x_1^{1.511} + 1.130x_2^{4.894} + 0.614x_3^{7.834} + 9.384x_4^{-0.034}-9.826\\right)$"
      ],
      "text/plain": [
       "<IPython.core.display.Math object>"
      ]
     },
     "metadata": {},
     "output_type": "display_data"
    },
    {
     "name": "stdout",
     "output_type": "stream",
     "text": [
      "MSE between formula parameters is 25.355036656826584\n",
      "FAILURE\n",
      "\n",
      "\n",
      "----------------------------Exploring new formula #5----------------------------\n",
      "  Initialization #1\n",
      "    Epoch 5000, current loss 0.206, current formula \\left(-9.457x_1^{-0.009}-1.446x_2^{4.054}-2.034x_3^{0.030} + 10.110x_4^{-0.029} + 1.496\\right)\n",
      "    Epoch 10000, current loss 0.206, current formula \\left(-12.610x_1^{-0.007}-1.447x_2^{4.060}-2.043x_3^{0.030} + 13.300x_4^{-0.023} + 1.464\\right)\n",
      "  Finished run #1, loss 0.20557108521461487, best loss 0.20557108521461487\n",
      "  Initialization #2\n",
      "    Epoch 5000, current loss 0.206, current formula \\left(-9.368x_1^{-0.009}-1.446x_2^{4.052}-1.113x_3^{0.060} + 11.298x_4^{-0.026}-0.706\\right)\n",
      "    Epoch 10000, current loss 0.205, current formula \\left(-12.978x_1^{-0.006}-1.447x_2^{4.058}-1.104x_3^{0.060} + 14.939x_4^{-0.020}-0.750\\right)\n",
      "  Finished run #2, loss 0.20525367558002472, best loss 0.20525367558002472\n",
      "  Initialization #3\n",
      "    Epoch 5000, current loss 0.00445, current formula \\left(0.460x_1^{3.118}-1.749x_2^{4.156} + 2.642x_3^{-0.032}-1.879x_4^{5.830}-2.072\\right)\n",
      "    Epoch 10000, current loss 0.00436, current formula \\left(0.460x_1^{3.124}-1.750x_2^{4.155} + 3.608x_3^{-0.024}-1.880x_4^{5.833}-3.039\\right)\n",
      "  Finished run #3, loss 0.00435591908171773, best loss 0.00435591908171773\n",
      "  Initialization #4\n",
      "    Epoch 5000, current loss 0.00455, current formula \\left(0.461x_1^{3.113}-1.748x_2^{4.157} + 2.028x_3^{-0.040}-1.878x_4^{5.826}-1.457\\right)\n",
      "    Epoch 10000, current loss 0.0044, current formula \\left(0.460x_1^{3.121}-1.750x_2^{4.155} + 3.049x_3^{-0.028}-1.880x_4^{5.831}-2.481\\right)\n",
      "  Finished run #4, loss 0.004402149468660355, best loss 0.00435591908171773\n",
      "3 minutes 30 seconds passed from the start, the iteration took 1 minutes 14 seconds\n",
      "ground truth and obtained formula\n"
     ]
    },
    {
     "data": {
      "text/latex": [
       "$\\displaystyle 0.414x_{1}^{3.0}-1.719x_{2}^{4.0}-0.417x_{3}^{1.0}-1.934x_{4}^{6.0}+0.887$"
      ],
      "text/plain": [
       "<IPython.core.display.Math object>"
      ]
     },
     "metadata": {},
     "output_type": "display_data"
    },
    {
     "data": {
      "text/latex": [
       "$\\displaystyle \\left(0.460x_1^{3.124}-1.750x_2^{4.155} + 3.607x_3^{-0.024}-1.880x_4^{5.833}-3.039\\right)$"
      ],
      "text/plain": [
       "<IPython.core.display.Math object>"
      ]
     },
     "metadata": {},
     "output_type": "display_data"
    },
    {
     "name": "stdout",
     "output_type": "stream",
     "text": [
      "MSE between formula parameters is 3.6369353913403617\n",
      "FAILURE\n",
      "\n",
      "################################################################################\n",
      "MSEs between parameters:\n",
      "[1.472591234138084e-08, 1.7109454745997998, 1.6741945900299489, 25.355036656826584, 3.6369353913403617]\n",
      "For 1 formulas out of 5 the error is less than 1e-05.\n",
      "\n",
      "\n",
      "----------------------------Exploring new formula #1----------------------------\n",
      "  Initialization #1\n",
      "  Finished run #1, loss 0.008193603716790676, best loss 0.008193603716790676\n",
      "  Initialization #2\n",
      "    Epoch 5000, current loss 0.244, current formula \\left(-2.551x_1^{-0.003} + 9.037x_2^{-0.047} + 0.134x_3^{-0.230}-4.835x_4^{28.243}-6.536\\right)\n",
      "    Epoch 10000, current loss 0.241, current formula \\left(-2.769x_1^{-0.003} + 11.022x_2^{-0.040} + 0.168x_3^{-0.202}-4.804x_4^{28.175}-8.348\\right)\n",
      "  Finished run #2, loss 0.24089393019676208, best loss 0.008193603716790676\n",
      "  Initialization #3\n",
      "  Finished run #3, loss 0.0052524167113006115, best loss 0.0052524167113006115\n",
      "  Initialization #4\n",
      "  Finished run #4, loss 0.002036715392023325, best loss 0.002036715392023325\n",
      "31 seconds passed from the start, the iteration took 31 seconds\n",
      "ground truth and obtained formula\n"
     ]
    },
    {
     "data": {
      "text/latex": [
       "$\\displaystyle -0.226x_{1}^{5.0}-2.454x_{2}^{3.0}+0.006x_{3}^{3.5}-0.394x_{4}^{5.0}+1.262$"
      ],
      "text/plain": [
       "<IPython.core.display.Math object>"
      ]
     },
     "metadata": {},
     "output_type": "display_data"
    },
    {
     "data": {
      "text/latex": [
       "$\\displaystyle \\left(0.447x_1^{-0.040}-2.415x_2^{2.978} + 0.202x_3^{62.557}-0.453x_4^{5.806} + 0.749\\right)$"
      ],
      "text/plain": [
       "<IPython.core.display.Math object>"
      ]
     },
     "metadata": {},
     "output_type": "display_data"
    },
    {
     "name": "stdout",
     "output_type": "stream",
     "text": [
      "MSE between formula parameters is 390.5082625423973\n",
      "FAILURE\n",
      "\n",
      "\n",
      "----------------------------Exploring new formula #2----------------------------\n",
      "  Initialization #1\n",
      "    Epoch 5000, current loss 0.0148, current formula \\left(-1.158x_1^{4.497} + 2.268x_2^{-0.028}-1.414x_3^{1.012}-1.828x_4^{3.007}-2.822\\right)\n",
      "    Epoch 10000, current loss 0.0146, current formula \\left(-1.155x_1^{4.491} + 3.395x_2^{-0.020}-1.413x_3^{1.013}-1.829x_4^{3.011}-3.954\\right)\n",
      "  Finished run #1, loss 0.014607646502554417, best loss 0.014607646502554417\n",
      "  Initialization #2\n",
      "  Finished run #2, loss 1.1680265261937439e-11, best loss 1.1680265261937439e-11\n",
      "loss is smaller than 1e-05, terminating learning process\n",
      "51 seconds passed from the start, the iteration took 21 seconds\n",
      "ground truth and obtained formula\n"
     ]
    },
    {
     "data": {
      "text/latex": [
       "$\\displaystyle -1.064x_{1}^{4.5}-0.695x_{2}^{4.0}-1.393x_{3}^{1.0}-1.851x_{4}^{3.0}-0.388$"
      ],
      "text/plain": [
       "<IPython.core.display.Math object>"
      ]
     },
     "metadata": {},
     "output_type": "display_data"
    },
    {
     "data": {
      "text/latex": [
       "$\\displaystyle \\left(-1.064x_1^{4.500}-0.695x_2^{4.000}-1.393x_3^{1.000}-1.851x_4^{3.000}-0.388\\right)$"
      ],
      "text/plain": [
       "<IPython.core.display.Math object>"
      ]
     },
     "metadata": {},
     "output_type": "display_data"
    },
    {
     "name": "stdout",
     "output_type": "stream",
     "text": [
      "MSE between formula parameters is 2.6961927012002382e-09\n",
      "EXACT RECOVERY\n",
      "\n",
      "\n",
      "----------------------------Exploring new formula #3----------------------------\n",
      "  Initialization #1\n",
      "  Finished run #1, loss 7.1329786695273345e-12, best loss 7.1329786695273345e-12\n",
      "loss is smaller than 1e-05, terminating learning process\n",
      "54 seconds passed from the start, the iteration took 2 seconds\n",
      "ground truth and obtained formula\n"
     ]
    },
    {
     "data": {
      "text/latex": [
       "$\\displaystyle 1.478x_{1}^{1.5}+0.168x_{2}^{3.0}-0.129x_{3}^{4.5}-0.46x_{4}^{4.5}+0.632$"
      ],
      "text/plain": [
       "<IPython.core.display.Math object>"
      ]
     },
     "metadata": {},
     "output_type": "display_data"
    },
    {
     "data": {
      "text/latex": [
       "$\\displaystyle \\left(1.478x_1^{1.500} + 0.168x_2^{3.000}-0.129x_3^{4.500}-0.460x_4^{4.500} + 0.632\\right)$"
      ],
      "text/plain": [
       "<IPython.core.display.Math object>"
      ]
     },
     "metadata": {},
     "output_type": "display_data"
    },
    {
     "name": "stdout",
     "output_type": "stream",
     "text": [
      "MSE between formula parameters is 3.066514558330229e-08\n",
      "EXACT RECOVERY\n",
      "\n",
      "\n",
      "----------------------------Exploring new formula #4----------------------------\n",
      "  Initialization #1\n",
      "    Epoch 5000, current loss 0.0447, current formula \\left(-0.760x_1^{4.012}-0.411x_2^{3.552} + 0.087x_3^{3.785}-4.453x_4^{-0.046} + 4.101\\right)\n",
      "    Epoch 10000, current loss 0.0438, current formula \\left(-0.760x_1^{3.999}-0.413x_2^{3.544} + 0.087x_3^{3.855}-6.795x_4^{-0.032} + 6.447\\right)\n",
      "  Finished run #1, loss 0.0437622107565403, best loss 0.0437622107565403\n",
      "  Initialization #2\n",
      "    Epoch 5000, current loss 0.0069, current formula \\left(-0.800x_1^{4.072} + 1.719x_2^{-0.033} + 0.256x_3^{3.631} + 1.096x_4^{2.672}-2.713\\right)\n",
      "    Epoch 10000, current loss 0.00686, current formula \\left(-0.800x_1^{4.071} + 2.362x_2^{-0.025} + 0.256x_3^{3.629} + 1.096x_4^{2.672}-3.357\\right)\n",
      "  Finished run #2, loss 0.006855357903987169, best loss 0.006855357903987169\n",
      "  Initialization #3\n",
      "  Finished run #3, loss 0.002103472827002406, best loss 0.002103472827002406\n",
      "  Initialization #4\n",
      "  Finished run #4, loss 0.03968960419297218, best loss 0.002103472827002406\n",
      "1 minutes 40 seconds passed from the start, the iteration took 46 seconds\n",
      "ground truth and obtained formula\n"
     ]
    },
    {
     "data": {
      "text/latex": [
       "$\\displaystyle -0.811x_{1}^{4.0}-0.383x_{2}^{3.5}+0.237x_{3}^{3.5}+1.081x_{4}^{2.5}-0.857$"
      ],
      "text/plain": [
       "<IPython.core.display.Math object>"
      ]
     },
     "metadata": {},
     "output_type": "display_data"
    },
    {
     "data": {
      "text/latex": [
       "$\\displaystyle \\left(-0.783x_1^{4.034}-0.388x_2^{3.515}-0.471x_3^{-0.103} + 1.064x_4^{2.425}-0.299\\right)$"
      ],
      "text/plain": [
       "<IPython.core.display.Math object>"
      ]
     },
     "metadata": {},
     "output_type": "display_data"
    },
    {
     "name": "stdout",
     "output_type": "stream",
     "text": [
      "MSE between formula parameters is 1.5331967786626752\n",
      "FAILURE\n",
      "\n",
      "\n",
      "----------------------------Exploring new formula #5----------------------------\n",
      "  Initialization #1\n",
      "    Epoch 5000, current loss 0.0798, current formula \\left(-0.995x_1^{0.084} + 5.866x_2^{-0.028} + 0.689x_3^{2.550}-5.383x_4^{-0.029} + 0.082\\right)\n",
      "  Finished run #1, loss 0.07933960855007172, best loss 0.07933960855007172\n",
      "  Initialization #2\n",
      "  Finished run #2, loss 0.015920674428343773, best loss 0.015920674428343773\n",
      "  Initialization #3\n",
      "    Epoch 5000, current loss 0.0409, current formula \\left(1.980x_1^{-0.041}-1.152x_2^{0.811} + 0.616x_3^{3.365}-5.661x_4^{-0.032} + 4.106\\right)\n",
      "  Finished run #3, loss 0.04052399471402168, best loss 0.015920674428343773\n",
      "  Initialization #4\n",
      "    Epoch 5000, current loss 0.0775, current formula \\left(0.136x_1^{-0.311} + 9.437x_2^{-0.018} + 0.691x_3^{2.492}-9.796x_4^{-0.017}-0.199\\right)\n",
      "    Epoch 10000, current loss 0.0764, current formula \\left(0.148x_1^{-0.296} + 15.742x_2^{-0.011} + 0.688x_3^{2.503}-16.096x_4^{-0.010}-0.217\\right)\n",
      "  Finished run #4, loss 0.07635290175676346, best loss 0.015920674428343773\n",
      "2 minutes 32 seconds passed from the start, the iteration took 52 seconds\n",
      "ground truth and obtained formula\n"
     ]
    },
    {
     "data": {
      "text/latex": [
       "$\\displaystyle -0.202x_{1}^{3.0}-1.045x_{2}^{1.0}+0.562x_{3}^{3.5}+1.01x_{4}^{2.0}-0.07$"
      ],
      "text/plain": [
       "<IPython.core.display.Math object>"
      ]
     },
     "metadata": {},
     "output_type": "display_data"
    },
    {
     "data": {
      "text/latex": [
       "$\\displaystyle \\left(0.990x_1^{-0.058}-1.141x_2^{0.839}-0.943x_3^{-0.063} + 0.997x_4^{1.823} + 0.037\\right)$"
      ],
      "text/plain": [
       "<IPython.core.display.Math object>"
      ]
     },
     "metadata": {},
     "output_type": "display_data"
    },
    {
     "name": "stdout",
     "output_type": "stream",
     "text": [
      "MSE between formula parameters is 2.8672235655346303\n",
      "FAILURE\n",
      "\n",
      "################################################################################\n",
      "MSEs between parameters:\n",
      "[390.5082625423973, 2.6961927012002382e-09, 3.066514558330229e-08, 1.5331967786626752, 2.8672235655346303]\n",
      "For 2 formulas out of 5 the error is less than 1e-05.\n",
      "\n",
      "\n",
      "----------------------------Exploring new formula #1----------------------------\n",
      "  Initialization #1\n",
      "  Finished run #1, loss 0.00756984343752265, best loss 0.00756984343752265\n",
      "  Initialization #2\n",
      "  Finished run #2, loss 5.486793311360039e-12, best loss 5.486793311360039e-12\n",
      "loss is smaller than 1e-05, terminating learning process\n",
      "4 seconds passed from the start, the iteration took 4 seconds\n",
      "ground truth and obtained formula\n"
     ]
    },
    {
     "data": {
      "text/latex": [
       "$\\displaystyle -0.453x_{1}^{4.0}-0.283x_{2}^{4.833}-0.223x_{3}^{3.917}-0.965x_{4}^{5.25}-0.383$"
      ],
      "text/plain": [
       "<IPython.core.display.Math object>"
      ]
     },
     "metadata": {},
     "output_type": "display_data"
    },
    {
     "data": {
      "text/latex": [
       "$\\displaystyle \\left(-0.453x_1^{4.000}-0.283x_2^{4.833}-0.223x_3^{3.917}-0.965x_4^{5.250}-0.383\\right)$"
      ],
      "text/plain": [
       "<IPython.core.display.Math object>"
      ]
     },
     "metadata": {},
     "output_type": "display_data"
    },
    {
     "name": "stdout",
     "output_type": "stream",
     "text": [
      "MSE between formula parameters is 3.46691485396554e-09\n",
      "EXACT RECOVERY\n",
      "\n",
      "\n",
      "----------------------------Exploring new formula #2----------------------------\n",
      "  Initialization #1\n",
      "  Finished run #1, loss 0.0057274354621768, best loss 0.0057274354621768\n",
      "  Initialization #2\n",
      "  Finished run #2, loss 0.2112259417772293, best loss 0.0057274354621768\n",
      "  Initialization #3\n",
      "  Finished run #3, loss 0.015481709502637386, best loss 0.0057274354621768\n",
      "  Initialization #4\n",
      "    Epoch 5000, current loss 0.211, current formula \\left(0.660x_1^{0.207} + 1.778x_2^{-0.039}-4.977x_3^{-0.040}-0.423x_4^{-0.070} + 5.013\\right)\n",
      "  Finished run #4, loss 0.20962442457675934, best loss 0.0057274354621768\n",
      "40 seconds passed from the start, the iteration took 36 seconds\n",
      "ground truth and obtained formula\n"
     ]
    },
    {
     "data": {
      "text/latex": [
       "$\\displaystyle 0.266x_{1}^{4.75}-0.238x_{2}^{1.917}+2.055x_{3}^{5.667}+0.421x_{4}^{3.75}+1.387$"
      ],
      "text/plain": [
       "<IPython.core.display.Math object>"
      ]
     },
     "metadata": {},
     "output_type": "display_data"
    },
    {
     "data": {
      "text/latex": [
       "$\\displaystyle \\left(-0.521x_1^{-0.057} + 1.792x_2^{-0.031} + 2.008x_3^{5.548} + 0.437x_4^{3.789} + 0.073\\right)$"
      ],
      "text/plain": [
       "<IPython.core.display.Math object>"
      ]
     },
     "metadata": {},
     "output_type": "display_data"
    },
    {
     "name": "stdout",
     "output_type": "stream",
     "text": [
      "MSE between formula parameters is 3.709969230569779\n",
      "FAILURE\n",
      "\n",
      "\n",
      "----------------------------Exploring new formula #3----------------------------\n",
      "  Initialization #1\n",
      "    Epoch 5000, current loss 0.019, current formula \\left(-0.253x_1^{0.931} + 1.623x_2^{-0.033} + 4.009x_3^{-0.034} + 1.941x_4^{5.438}-5.558\\right)\n",
      "  Finished run #1, loss 0.018929652869701385, best loss 0.018929652869701385\n",
      "  Initialization #2\n",
      "  Finished run #2, loss 8.095480015513079e-12, best loss 8.095480015513079e-12\n",
      "loss is smaller than 1e-05, terminating learning process\n",
      "1 minutes 2 seconds passed from the start, the iteration took 22 seconds\n",
      "ground truth and obtained formula\n"
     ]
    },
    {
     "data": {
      "text/latex": [
       "$\\displaystyle -0.19x_{1}^{1.083}-0.34x_{2}^{3.083}-0.621x_{3}^{2.083}+2.021x_{4}^{5.75}+0.508$"
      ],
      "text/plain": [
       "<IPython.core.display.Math object>"
      ]
     },
     "metadata": {},
     "output_type": "display_data"
    },
    {
     "data": {
      "text/latex": [
       "$\\displaystyle \\left(-0.190x_1^{1.083}-0.340x_2^{3.083}-0.621x_3^{2.083} + 2.021x_4^{5.750} + 0.508\\right)$"
      ],
      "text/plain": [
       "<IPython.core.display.Math object>"
      ]
     },
     "metadata": {},
     "output_type": "display_data"
    },
    {
     "name": "stdout",
     "output_type": "stream",
     "text": [
      "MSE between formula parameters is 2.0222650221057847e-09\n",
      "EXACT RECOVERY\n",
      "\n",
      "\n",
      "----------------------------Exploring new formula #4----------------------------\n",
      "  Initialization #1\n",
      "  Finished run #1, loss 0.0008274665451608598, best loss 0.0008274665451608598\n",
      "  Initialization #2\n",
      "    Epoch 5000, current loss 0.039, current formula \\left(-5.227x_1^{-0.027}-0.148x_2^{-0.213} + 7.905x_3^{-0.013}-1.605x_4^{4.635}-2.670\\right)\n",
      "    Epoch 10000, current loss 0.0389, current formula \\left(-6.158x_1^{-0.023}-0.176x_2^{-0.186} + 8.840x_3^{-0.012}-1.605x_4^{4.636}-2.646\\right)\n",
      "  Finished run #2, loss 0.03885452821850777, best loss 0.0008274665451608598\n",
      "  Initialization #3\n",
      "  Finished run #3, loss 2.1188268153893297e-11, best loss 2.1188268153893297e-11\n",
      "loss is smaller than 1e-05, terminating learning process\n",
      "1 minutes 25 seconds passed from the start, the iteration took 23 seconds\n",
      "ground truth and obtained formula\n"
     ]
    },
    {
     "data": {
      "text/latex": [
       "$\\displaystyle 0.763x_{1}^{5.167}+0.156x_{2}^{2.667}-0.478x_{3}^{1.583}-1.554x_{4}^{4.167}-0.174$"
      ],
      "text/plain": [
       "<IPython.core.display.Math object>"
      ]
     },
     "metadata": {},
     "output_type": "display_data"
    },
    {
     "data": {
      "text/latex": [
       "$\\displaystyle \\left(0.763x_1^{5.167} + 0.156x_2^{2.667}-0.478x_3^{1.583}-1.554x_4^{4.167}-0.174\\right)$"
      ],
      "text/plain": [
       "<IPython.core.display.Math object>"
      ]
     },
     "metadata": {},
     "output_type": "display_data"
    },
    {
     "name": "stdout",
     "output_type": "stream",
     "text": [
      "MSE between formula parameters is 4.052564333494818e-09\n",
      "EXACT RECOVERY\n",
      "\n",
      "\n",
      "----------------------------Exploring new formula #5----------------------------\n",
      "  Initialization #1\n",
      "  Finished run #1, loss 2.3500836050516227e-06, best loss 2.3500836050516227e-06\n",
      "loss is smaller than 1e-05, terminating learning process\n",
      "1 minutes 30 seconds passed from the start, the iteration took 5 seconds\n",
      "ground truth and obtained formula\n"
     ]
    },
    {
     "data": {
      "text/latex": [
       "$\\displaystyle -0.68x_{1}^{4.167}+0.76x_{2}^{1.333}-1.167x_{3}^{0.833}-1.002x_{4}^{0.167}+0.22$"
      ],
      "text/plain": [
       "<IPython.core.display.Math object>"
      ]
     },
     "metadata": {},
     "output_type": "display_data"
    },
    {
     "data": {
      "text/latex": [
       "$\\displaystyle \\left(-0.679x_1^{4.179} + 0.759x_2^{1.330}-1.167x_3^{0.833}-0.915x_4^{0.188} + 0.132\\right)$"
      ],
      "text/plain": [
       "<IPython.core.display.Math object>"
      ]
     },
     "metadata": {},
     "output_type": "display_data"
    },
    {
     "name": "stdout",
     "output_type": "stream",
     "text": [
      "MSE between formula parameters is 0.0017830325144106121\n",
      "FAILURE\n",
      "\n",
      "################################################################################\n",
      "MSEs between parameters:\n",
      "[3.46691485396554e-09, 3.709969230569779, 2.0222650221057847e-09, 4.052564333494818e-09, 0.0017830325144106121]\n",
      "For 3 formulas out of 5 the error is less than 1e-05.\n",
      "\n",
      "\n",
      "----------------------------Exploring new formula #1----------------------------\n",
      "  Initialization #1\n",
      "  Finished run #1, loss 1.0802135011131475e-12, best loss 1.0802135011131475e-12\n",
      "loss is smaller than 1e-05, terminating learning process\n",
      "3 seconds passed from the start, the iteration took 3 seconds\n",
      "ground truth and obtained formula\n"
     ]
    },
    {
     "data": {
      "text/latex": [
       "$\\displaystyle -1.173x_{1}^{2.0}+0.332x_{2}^{3.0}-0.356$"
      ],
      "text/plain": [
       "<IPython.core.display.Math object>"
      ]
     },
     "metadata": {},
     "output_type": "display_data"
    },
    {
     "data": {
      "text/latex": [
       "$\\displaystyle \\left(-1.173x_1^{2.000} + 0.332x_2^{3.000}-0.356\\right)$"
      ],
      "text/plain": [
       "<IPython.core.display.Math object>"
      ]
     },
     "metadata": {},
     "output_type": "display_data"
    },
    {
     "name": "stdout",
     "output_type": "stream",
     "text": [
      "MSE between formula parameters is 9.122302913056046e-11\n",
      "EXACT RECOVERY\n",
      "\n",
      "\n",
      "----------------------------Exploring new formula #2----------------------------\n",
      "  Initialization #1\n",
      "  Finished run #1, loss 0.0025965955574065447, best loss 0.0025965955574065447\n",
      "  Initialization #2\n",
      "    Epoch 5000, current loss 0.00266, current formula \\left(0.863x_1^{-0.043}-0.259x_2^{4.155}-0.147\\right)\n",
      "  Finished run #2, loss 0.002640967722982168, best loss 0.0025965955574065447\n",
      "  Initialization #3\n",
      "  Finished run #3, loss 0.005758494604378939, best loss 0.0025965955574065447\n",
      "  Initialization #4\n",
      "  Finished run #4, loss 1.3623254000588725e-12, best loss 1.3623254000588725e-12\n",
      "loss is smaller than 1e-05, terminating learning process\n",
      "34 seconds passed from the start, the iteration took 31 seconds\n",
      "ground truth and obtained formula\n"
     ]
    },
    {
     "data": {
      "text/latex": [
       "$\\displaystyle -0.249x_{1}^{4.0}-0.259x_{2}^{4.0}+0.804$"
      ],
      "text/plain": [
       "<IPython.core.display.Math object>"
      ]
     },
     "metadata": {},
     "output_type": "display_data"
    },
    {
     "data": {
      "text/latex": [
       "$\\displaystyle \\left(-0.249x_1^{4.000}-0.259x_2^{4.000} + 0.804\\right)$"
      ],
      "text/plain": [
       "<IPython.core.display.Math object>"
      ]
     },
     "metadata": {},
     "output_type": "display_data"
    },
    {
     "name": "stdout",
     "output_type": "stream",
     "text": [
      "MSE between formula parameters is 6.018487486159074e-10\n",
      "EXACT RECOVERY\n",
      "\n",
      "\n",
      "----------------------------Exploring new formula #3----------------------------\n",
      "  Initialization #1\n",
      "  Finished run #1, loss 6.8507686502849996e-12, best loss 6.8507686502849996e-12\n",
      "loss is smaller than 1e-05, terminating learning process\n",
      "41 seconds passed from the start, the iteration took 7 seconds\n",
      "ground truth and obtained formula\n"
     ]
    },
    {
     "data": {
      "text/latex": [
       "$\\displaystyle 0.618x_{1}^{1.0}+2.887x_{2}^{6.0}+1.527$"
      ],
      "text/plain": [
       "<IPython.core.display.Math object>"
      ]
     },
     "metadata": {},
     "output_type": "display_data"
    },
    {
     "data": {
      "text/latex": [
       "$\\displaystyle \\left(0.618x_1^{1.000} + 2.887x_2^{6.000} + 1.527\\right)$"
      ],
      "text/plain": [
       "<IPython.core.display.Math object>"
      ]
     },
     "metadata": {},
     "output_type": "display_data"
    },
    {
     "name": "stdout",
     "output_type": "stream",
     "text": [
      "MSE between formula parameters is 3.2802205396365025e-10\n",
      "EXACT RECOVERY\n",
      "\n",
      "\n",
      "----------------------------Exploring new formula #4----------------------------\n",
      "  Initialization #1\n",
      "  Finished run #1, loss 2.837972912228537e-12, best loss 2.837972912228537e-12\n",
      "loss is smaller than 1e-05, terminating learning process\n",
      "44 seconds passed from the start, the iteration took 3 seconds\n",
      "ground truth and obtained formula\n"
     ]
    },
    {
     "data": {
      "text/latex": [
       "$\\displaystyle -0.36x_{1}^{1.0}+0.247x_{2}^{3.0}+0.194$"
      ],
      "text/plain": [
       "<IPython.core.display.Math object>"
      ]
     },
     "metadata": {},
     "output_type": "display_data"
    },
    {
     "data": {
      "text/latex": [
       "$\\displaystyle \\left(-0.360x_1^{1.000} + 0.247x_2^{3.000} + 0.194\\right)$"
      ],
      "text/plain": [
       "<IPython.core.display.Math object>"
      ]
     },
     "metadata": {},
     "output_type": "display_data"
    },
    {
     "name": "stdout",
     "output_type": "stream",
     "text": [
      "MSE between formula parameters is 2.0694561619905015e-10\n",
      "EXACT RECOVERY\n",
      "\n",
      "\n",
      "----------------------------Exploring new formula #5----------------------------\n",
      "  Initialization #1\n",
      "    Epoch 5000, current loss 0.00492, current formula \\left(1.606x_1^{-0.041}-0.397x_2^{4.009}-2.508\\right)\n",
      "    Epoch 10000, current loss 0.00483, current formula \\left(2.352x_1^{-0.029}-0.397x_2^{4.012}-3.257\\right)\n",
      "  Finished run #1, loss 0.004829380661249161, best loss 0.004829380661249161\n",
      "  Initialization #2\n",
      "    Epoch 5000, current loss 0.00407, current formula \\left(-1.189x_1^{0.081}-0.395x_2^{4.005} + 0.265\\right)\n",
      "  Finished run #2, loss 2.2435352187155644e-12, best loss 2.2435352187155644e-12\n",
      "loss is smaller than 1e-05, terminating learning process\n",
      "1 minutes 32 seconds passed from the start, the iteration took 48 seconds\n",
      "ground truth and obtained formula\n"
     ]
    },
    {
     "data": {
      "text/latex": [
       "$\\displaystyle -0.342x_{1}^{2.0}-0.388x_{2}^{4.0}-0.723$"
      ],
      "text/plain": [
       "<IPython.core.display.Math object>"
      ]
     },
     "metadata": {},
     "output_type": "display_data"
    },
    {
     "data": {
      "text/latex": [
       "$\\displaystyle \\left(-0.342x_1^{2.000}-0.388x_2^{4.000}-0.723\\right)$"
      ],
      "text/plain": [
       "<IPython.core.display.Math object>"
      ]
     },
     "metadata": {},
     "output_type": "display_data"
    },
    {
     "name": "stdout",
     "output_type": "stream",
     "text": [
      "MSE between formula parameters is 6.895994886235712e-12\n",
      "EXACT RECOVERY\n",
      "\n",
      "################################################################################\n",
      "MSEs between parameters:\n",
      "[9.122302913056046e-11, 6.018487486159074e-10, 3.2802205396365025e-10, 2.0694561619905015e-10, 6.895994886235712e-12]\n",
      "For 5 formulas out of 5 the error is less than 1e-05.\n",
      "\n",
      "\n",
      "----------------------------Exploring new formula #1----------------------------\n",
      "  Initialization #1\n",
      "  Finished run #1, loss 4.65960690171352e-12, best loss 4.65960690171352e-12\n",
      "loss is smaller than 1e-05, terminating learning process\n",
      "3 seconds passed from the start, the iteration took 3 seconds\n",
      "ground truth and obtained formula\n"
     ]
    },
    {
     "data": {
      "text/latex": [
       "$\\displaystyle 0.343x_{1}^{1.0}+1.021x_{2}^{5.5}-0.322$"
      ],
      "text/plain": [
       "<IPython.core.display.Math object>"
      ]
     },
     "metadata": {},
     "output_type": "display_data"
    },
    {
     "data": {
      "text/latex": [
       "$\\displaystyle \\left(0.343x_1^{1.000} + 1.021x_2^{5.500}-0.322\\right)$"
      ],
      "text/plain": [
       "<IPython.core.display.Math object>"
      ]
     },
     "metadata": {},
     "output_type": "display_data"
    },
    {
     "name": "stdout",
     "output_type": "stream",
     "text": [
      "MSE between formula parameters is 4.644457263225377e-10\n",
      "EXACT RECOVERY\n",
      "\n",
      "\n",
      "----------------------------Exploring new formula #2----------------------------\n",
      "  Initialization #1\n",
      "    Epoch 5000, current loss 0.00765, current formula \\left(-1.775x_1^{0.046}-1.437x_2^{0.171} + 2.213\\right)\n",
      "  Finished run #1, loss 0.006461970508098602, best loss 0.006461970508098602\n",
      "  Initialization #2\n",
      "    Epoch 5000, current loss 0.0114, current formula \\left(1.078x_1^{-0.053} + 2.777x_2^{-0.054}-4.784\\right)\n",
      "  Finished run #2, loss 0.011346105486154556, best loss 0.006461970508098602\n",
      "  Initialization #3\n",
      "  Finished run #3, loss 2.405197430110917e-10, best loss 2.405197430110917e-10\n",
      "loss is smaller than 1e-05, terminating learning process\n",
      "45 seconds passed from the start, the iteration took 42 seconds\n",
      "ground truth and obtained formula\n"
     ]
    },
    {
     "data": {
      "text/latex": [
       "$\\displaystyle -0.381x_{1}^{3.0}-0.744x_{2}^{0.5}-0.118$"
      ],
      "text/plain": [
       "<IPython.core.display.Math object>"
      ]
     },
     "metadata": {},
     "output_type": "display_data"
    },
    {
     "data": {
      "text/latex": [
       "$\\displaystyle \\left(-0.381x_1^{3.000}-0.744x_2^{0.500}-0.118\\right)$"
      ],
      "text/plain": [
       "<IPython.core.display.Math object>"
      ]
     },
     "metadata": {},
     "output_type": "display_data"
    },
    {
     "name": "stdout",
     "output_type": "stream",
     "text": [
      "MSE between formula parameters is 1.3817188737608176e-08\n",
      "EXACT RECOVERY\n",
      "\n",
      "\n",
      "----------------------------Exploring new formula #3----------------------------\n",
      "  Initialization #1\n",
      "    Epoch 5000, current loss 0.00643, current formula \\left(1.343x_1^{-0.033}-0.727x_2^{0.987}-0.478\\right)\n",
      "  Finished run #1, loss 0.006407676264643669, best loss 0.006407676264643669\n",
      "  Initialization #2\n",
      "  Finished run #2, loss 0.014765364117920399, best loss 0.006407676264643669\n",
      "  Initialization #3\n",
      "  Finished run #3, loss 0.005848884582519531, best loss 0.005848884582519531\n",
      "  Initialization #4\n",
      "  Finished run #4, loss 0.006365525536239147, best loss 0.005848884582519531\n",
      "1 minutes 30 seconds passed from the start, the iteration took 45 seconds\n",
      "ground truth and obtained formula\n"
     ]
    },
    {
     "data": {
      "text/latex": [
       "$\\displaystyle -0.356x_{1}^{4.5}-0.739x_{2}^{1.0}+0.982$"
      ],
      "text/plain": [
       "<IPython.core.display.Math object>"
      ]
     },
     "metadata": {},
     "output_type": "display_data"
    },
    {
     "data": {
      "text/latex": [
       "$\\displaystyle \\left(-0.832x_1^{0.082}-0.729x_2^{0.979} + 1.683\\right)$"
      ],
      "text/plain": [
       "<IPython.core.display.Math object>"
      ]
     },
     "metadata": {},
     "output_type": "display_data"
    },
    {
     "name": "stdout",
     "output_type": "stream",
     "text": [
      "MSE between formula parameters is 4.047763167880102\n",
      "FAILURE\n",
      "\n",
      "\n",
      "----------------------------Exploring new formula #4----------------------------\n",
      "  Initialization #1\n",
      "  Finished run #1, loss 9.228102223340917e-13, best loss 9.228102223340917e-13\n",
      "loss is smaller than 1e-05, terminating learning process\n",
      "1 minutes 33 seconds passed from the start, the iteration took 3 seconds\n",
      "ground truth and obtained formula\n"
     ]
    },
    {
     "data": {
      "text/latex": [
       "$\\displaystyle 0.413x_{1}^{3.5}-0.372x_{2}^{2.0}-1.832$"
      ],
      "text/plain": [
       "<IPython.core.display.Math object>"
      ]
     },
     "metadata": {},
     "output_type": "display_data"
    },
    {
     "data": {
      "text/latex": [
       "$\\displaystyle \\left(0.413x_1^{3.500}-0.372x_2^{2.000}-1.832\\right)$"
      ],
      "text/plain": [
       "<IPython.core.display.Math object>"
      ]
     },
     "metadata": {},
     "output_type": "display_data"
    },
    {
     "name": "stdout",
     "output_type": "stream",
     "text": [
      "MSE between formula parameters is 2.4213111515791754e-10\n",
      "EXACT RECOVERY\n",
      "\n",
      "\n",
      "----------------------------Exploring new formula #5----------------------------\n",
      "  Initialization #1\n",
      "    Epoch 5000, current loss 0.0313, current formula \\left(-1.200x_1^{1.061}-4.880x_2^{-0.055} + 5.387\\right)\n",
      "    Epoch 10000, current loss 0.0304, current formula \\left(-1.201x_1^{1.057}-7.299x_2^{-0.039} + 7.815\\right)\n",
      "  Finished run #1, loss 0.03036501072347164, best loss 0.03036501072347164\n",
      "  Initialization #2\n",
      "  Finished run #2, loss 4.6330114224224506e-12, best loss 4.6330114224224506e-12\n",
      "loss is smaller than 1e-05, terminating learning process\n",
      "2 minutes 5 seconds passed from the start, the iteration took 32 seconds\n",
      "ground truth and obtained formula\n"
     ]
    },
    {
     "data": {
      "text/latex": [
       "$\\displaystyle -1.198x_{1}^{1.0}+1.049x_{2}^{1.5}-0.166$"
      ],
      "text/plain": [
       "<IPython.core.display.Math object>"
      ]
     },
     "metadata": {},
     "output_type": "display_data"
    },
    {
     "data": {
      "text/latex": [
       "$\\displaystyle \\left(-1.198x_1^{1.000} + 1.049x_2^{1.500}-0.166\\right)$"
      ],
      "text/plain": [
       "<IPython.core.display.Math object>"
      ]
     },
     "metadata": {},
     "output_type": "display_data"
    },
    {
     "name": "stdout",
     "output_type": "stream",
     "text": [
      "MSE between formula parameters is 6.633076310436082e-11\n",
      "EXACT RECOVERY\n",
      "\n",
      "################################################################################\n",
      "MSEs between parameters:\n",
      "[4.644457263225377e-10, 1.3817188737608176e-08, 4.047763167880102, 2.4213111515791754e-10, 6.633076310436082e-11]\n",
      "For 4 formulas out of 5 the error is less than 1e-05.\n",
      "\n",
      "\n",
      "----------------------------Exploring new formula #1----------------------------\n",
      "  Initialization #1\n",
      "    Epoch 5000, current loss 0.075, current formula \\left(-4.066x_1^{-0.043}-0.277x_2^{2.482} + 2.578\\right)\n",
      "    Epoch 10000, current loss 0.0742, current formula \\left(-6.049x_1^{-0.030}-0.276x_2^{2.453} + 4.567\\right)\n",
      "  Finished run #1, loss 0.07421904802322388, best loss 0.07421904802322388\n",
      "  Initialization #2\n",
      "  Finished run #2, loss 9.2615693760012e-13, best loss 9.2615693760012e-13\n",
      "loss is smaller than 1e-05, terminating learning process\n",
      "31 seconds passed from the start, the iteration took 31 seconds\n",
      "ground truth and obtained formula\n"
     ]
    },
    {
     "data": {
      "text/latex": [
       "$\\displaystyle 1.308x_{1}^{4.083}-0.255x_{2}^{2.333}-1.918$"
      ],
      "text/plain": [
       "<IPython.core.display.Math object>"
      ]
     },
     "metadata": {},
     "output_type": "display_data"
    },
    {
     "data": {
      "text/latex": [
       "$\\displaystyle \\left(1.308x_1^{4.083}-0.255x_2^{2.333}-1.918\\right)$"
      ],
      "text/plain": [
       "<IPython.core.display.Math object>"
      ]
     },
     "metadata": {},
     "output_type": "display_data"
    },
    {
     "name": "stdout",
     "output_type": "stream",
     "text": [
      "MSE between formula parameters is 8.173017818080553e-13\n",
      "EXACT RECOVERY\n",
      "\n",
      "\n",
      "----------------------------Exploring new formula #2----------------------------\n",
      "  Initialization #1\n",
      "  Finished run #1, loss 1.3705658786708486e-12, best loss 1.3705658786708486e-12\n",
      "loss is smaller than 1e-05, terminating learning process\n",
      "36 seconds passed from the start, the iteration took 5 seconds\n",
      "ground truth and obtained formula\n"
     ]
    },
    {
     "data": {
      "text/latex": [
       "$\\displaystyle 1.733x_{1}^{5.75}+0.624x_{2}^{2.5}+1.535$"
      ],
      "text/plain": [
       "<IPython.core.display.Math object>"
      ]
     },
     "metadata": {},
     "output_type": "display_data"
    },
    {
     "data": {
      "text/latex": [
       "$\\displaystyle \\left(1.733x_1^{5.750} + 0.624x_2^{2.500} + 1.535\\right)$"
      ],
      "text/plain": [
       "<IPython.core.display.Math object>"
      ]
     },
     "metadata": {},
     "output_type": "display_data"
    },
    {
     "name": "stdout",
     "output_type": "stream",
     "text": [
      "MSE between formula parameters is 3.2568436836299955e-11\n",
      "EXACT RECOVERY\n",
      "\n",
      "\n",
      "----------------------------Exploring new formula #3----------------------------\n",
      "  Initialization #1\n",
      "    Epoch 5000, current loss 0.023, current formula \\left(3.475x_1^{-0.048}-2.235x_2^{0.046}-2.227\\right)\n",
      "  Finished run #1, loss 0.022976741194725037, best loss 0.022976741194725037\n",
      "  Initialization #2\n",
      "  Finished run #2, loss 0.017666088417172432, best loss 0.017666088417172432\n",
      "  Initialization #3\n",
      "    Epoch 5000, current loss 0.00694, current formula \\left(3.238x_1^{-0.051}-0.616x_2^{3.950}-3.999\\right)\n",
      "    Epoch 10000, current loss 0.00644, current formula \\left(4.888x_1^{-0.036}-0.617x_2^{3.956}-5.654\\right)\n",
      "  Finished run #3, loss 0.006438555661588907, best loss 0.006438555661588907\n",
      "  Initialization #4\n",
      "    Epoch 5000, current loss 0.00735, current formula \\left(2.519x_1^{-0.064}-0.617x_2^{3.953}-3.275\\right)\n",
      "  Finished run #4, loss 0.007321961224079132, best loss 0.006438555661588907\n",
      "1 minutes 41 seconds passed from the start, the iteration took 1 minutes 4 seconds\n",
      "ground truth and obtained formula\n"
     ]
    },
    {
     "data": {
      "text/latex": [
       "$\\displaystyle -0.896x_{1}^{0.5}-0.608x_{2}^{3.833}+0.017$"
      ],
      "text/plain": [
       "<IPython.core.display.Math object>"
      ]
     },
     "metadata": {},
     "output_type": "display_data"
    },
    {
     "data": {
      "text/latex": [
       "$\\displaystyle \\left(4.888x_1^{-0.036}-0.617x_2^{3.956}-5.654\\right)$"
      ],
      "text/plain": [
       "<IPython.core.display.Math object>"
      ]
     },
     "metadata": {},
     "output_type": "display_data"
    },
    {
     "name": "stdout",
     "output_type": "stream",
     "text": [
      "MSE between formula parameters is 13.185522023853485\n",
      "FAILURE\n",
      "\n",
      "\n",
      "----------------------------Exploring new formula #4----------------------------\n",
      "  Initialization #1\n",
      "  Finished run #1, loss 2.524093998049204e-12, best loss 2.524093998049204e-12\n",
      "loss is smaller than 1e-05, terminating learning process\n",
      "1 minutes 44 seconds passed from the start, the iteration took 3 seconds\n",
      "ground truth and obtained formula\n"
     ]
    },
    {
     "data": {
      "text/latex": [
       "$\\displaystyle -1.728x_{1}^{2.167}-1.461x_{2}^{3.75}+0.483$"
      ],
      "text/plain": [
       "<IPython.core.display.Math object>"
      ]
     },
     "metadata": {},
     "output_type": "display_data"
    },
    {
     "data": {
      "text/latex": [
       "$\\displaystyle \\left(-1.728x_1^{2.167}-1.461x_2^{3.750} + 0.483\\right)$"
      ],
      "text/plain": [
       "<IPython.core.display.Math object>"
      ]
     },
     "metadata": {},
     "output_type": "display_data"
    },
    {
     "name": "stdout",
     "output_type": "stream",
     "text": [
      "MSE between formula parameters is 3.779678792170671e-11\n",
      "EXACT RECOVERY\n",
      "\n",
      "\n",
      "----------------------------Exploring new formula #5----------------------------\n",
      "  Initialization #1\n",
      "  Finished run #1, loss 0.0039855195209383965, best loss 0.0039855195209383965\n",
      "  Initialization #2\n",
      "  Finished run #2, loss 0.0039762454107403755, best loss 0.0039762454107403755\n",
      "  Initialization #3\n",
      "    Epoch 5000, current loss 7.54e-07, current formula \\left(0.607x_1^{1.425}-0.297x_2^{4.574} + 0.667\\right)\n",
      "  Finished run #3, loss 1.4743149192794625e-12, best loss 1.4743149192794625e-12\n",
      "loss is smaller than 1e-05, terminating learning process\n",
      "2 minutes 17 seconds passed from the start, the iteration took 33 seconds\n",
      "ground truth and obtained formula\n"
     ]
    },
    {
     "data": {
      "text/latex": [
       "$\\displaystyle 0.604x_{1}^{1.417}-0.298x_{2}^{4.583}+0.667$"
      ],
      "text/plain": [
       "<IPython.core.display.Math object>"
      ]
     },
     "metadata": {},
     "output_type": "display_data"
    },
    {
     "data": {
      "text/latex": [
       "$\\displaystyle \\left(0.604x_1^{1.417}-0.298x_2^{4.583} + 0.667\\right)$"
      ],
      "text/plain": [
       "<IPython.core.display.Math object>"
      ]
     },
     "metadata": {},
     "output_type": "display_data"
    },
    {
     "name": "stdout",
     "output_type": "stream",
     "text": [
      "MSE between formula parameters is 4.6456776203740445e-10\n",
      "EXACT RECOVERY\n",
      "\n",
      "################################################################################\n",
      "MSEs between parameters:\n",
      "[8.173017818080553e-13, 3.2568436836299955e-11, 13.185522023853485, 3.779678792170671e-11, 4.6456776203740445e-10]\n",
      "For 4 formulas out of 5 the error is less than 1e-05.\n",
      "\n",
      "\n",
      "----------------------------Exploring new formula #1----------------------------\n",
      "  Initialization #1\n",
      "    Epoch 5000, current loss 0.122, current formula \\left(6.141x_1^{-0.053} + 1.082x_2^{0.958}-0.645x_3^{4.160}-6.376\\right)\n",
      "    Epoch 10000, current loss 0.119, current formula \\left(8.133x_1^{-0.042} + 1.085x_2^{0.952}-0.645x_3^{4.166}-8.381\\right)\n",
      "  Finished run #1, loss 0.11938940733671188, best loss 0.11938940733671188\n",
      "  Initialization #2\n",
      "    Epoch 5000, current loss 0.138, current formula \\left(8.369x_1^{-0.041} + 1.082x_2^{1.073}-2.533x_3^{0.040}-6.265\\right)\n",
      "    Epoch 10000, current loss 0.135, current formula \\left(14.255x_1^{-0.025} + 1.083x_2^{1.072}-2.568x_3^{0.039}-12.131\\right)\n",
      "  Finished run #2, loss 0.1351490169763565, best loss 0.11938940733671188\n",
      "  Initialization #3\n",
      "  Finished run #3, loss 2.7345240655174408e-11, best loss 2.7345240655174408e-11\n",
      "loss is smaller than 1e-05, terminating learning process\n",
      "1 minutes 6 seconds passed from the start, the iteration took 1 minutes 6 seconds\n",
      "ground truth and obtained formula\n"
     ]
    },
    {
     "data": {
      "text/latex": [
       "$\\displaystyle -1.676x_{1}^{2.0}+1.074x_{2}^{1.0}-0.629x_{3}^{5.0}+0.661$"
      ],
      "text/plain": [
       "<IPython.core.display.Math object>"
      ]
     },
     "metadata": {},
     "output_type": "display_data"
    },
    {
     "data": {
      "text/latex": [
       "$\\displaystyle \\left(-1.676x_1^{2.000} + 1.074x_2^{1.000}-0.629x_3^{5.000} + 0.661\\right)$"
      ],
      "text/plain": [
       "<IPython.core.display.Math object>"
      ]
     },
     "metadata": {},
     "output_type": "display_data"
    },
    {
     "name": "stdout",
     "output_type": "stream",
     "text": [
      "MSE between formula parameters is 1.3846224484430942e-09\n",
      "EXACT RECOVERY\n",
      "\n",
      "\n",
      "----------------------------Exploring new formula #2----------------------------\n",
      "  Initialization #1\n",
      "    Epoch 5000, current loss 0.00865, current formula \\left(4.277x_1^{-0.017}-4.570x_2^{-0.021}-0.545x_3^{4.944}-1.458\\right)\n",
      "  Finished run #1, loss 0.008651587180793285, best loss 0.008651587180793285\n",
      "  Initialization #2\n",
      "  Finished run #2, loss 0.012467961758375168, best loss 0.008651587180793285\n",
      "  Initialization #3\n",
      "    Epoch 5000, current loss 0.0147, current formula \\left(-2.470x_1^{0.035} + 0.418x_2^{1.963} + 2.781x_3^{-0.023}-2.464\\right)\n",
      "  Finished run #3, loss 0.014741851948201656, best loss 0.008651587180793285\n",
      "  Initialization #4\n",
      "    Epoch 5000, current loss 0.00682, current formula \\left(-0.296x_1^{1.038}-2.077x_2^{-0.042}-0.539x_3^{4.884} + 0.535\\right)\n",
      "    Epoch 10000, current loss 0.00669, current formula \\left(-0.297x_1^{1.033}-3.109x_2^{-0.029}-0.540x_3^{4.885} + 1.571\\right)\n",
      "  Finished run #4, loss 0.00669441232457757, best loss 0.00669441232457757\n",
      "2 minutes 15 seconds passed from the start, the iteration took 1 minutes 9 seconds\n",
      "ground truth and obtained formula\n"
     ]
    },
    {
     "data": {
      "text/latex": [
       "$\\displaystyle -0.287x_{1}^{1.0}+0.428x_{2}^{2.0}-0.552x_{3}^{5.0}-1.772$"
      ],
      "text/plain": [
       "<IPython.core.display.Math object>"
      ]
     },
     "metadata": {},
     "output_type": "display_data"
    },
    {
     "data": {
      "text/latex": [
       "$\\displaystyle \\left(-0.297x_1^{1.033}-3.109x_2^{-0.029}-0.540x_3^{4.885} + 1.571\\right)$"
      ],
      "text/plain": [
       "<IPython.core.display.Math object>"
      ]
     },
     "metadata": {},
     "output_type": "display_data"
    },
    {
     "name": "stdout",
     "output_type": "stream",
     "text": [
      "MSE between formula parameters is 3.973571316650377\n",
      "FAILURE\n",
      "\n",
      "\n",
      "----------------------------Exploring new formula #3----------------------------\n",
      "  Initialization #1\n",
      "    Epoch 5000, current loss 0.057, current formula \\left(7.737x_1^{-0.021} + 0.789x_2^{1.074}-8.055x_3^{-0.018} + 1.472\\right)\n",
      "  Finished run #1, loss 0.05653609707951546, best loss 0.05653609707951546\n",
      "  Initialization #2\n",
      "    Epoch 5000, current loss 0.0112, current formula \\left(-1.028x_1^{3.018} + 0.855x_2^{0.985}-3.370x_3^{-0.041} + 4.884\\right)\n",
      "    Epoch 10000, current loss 0.0108, current formula \\left(-1.029x_1^{3.013} + 0.854x_2^{0.988}-5.074x_3^{-0.029} + 6.593\\right)\n",
      "  Finished run #2, loss 0.010844987817108631, best loss 0.010844987817108631\n",
      "  Initialization #3\n",
      "  Finished run #3, loss 0.07169333100318909, best loss 0.010844987817108631\n",
      "  Initialization #4\n",
      "  Finished run #4, loss 1.4920719174082997e-11, best loss 1.4920719174082997e-11\n",
      "loss is smaller than 1e-05, terminating learning process\n",
      "3 minutes 23 seconds passed from the start, the iteration took 1 minutes 8 seconds\n",
      "ground truth and obtained formula\n"
     ]
    },
    {
     "data": {
      "text/latex": [
       "$\\displaystyle -1.072x_{1}^{3.0}+0.835x_{2}^{1.0}+0.672x_{3}^{1.0}+1.052$"
      ],
      "text/plain": [
       "<IPython.core.display.Math object>"
      ]
     },
     "metadata": {},
     "output_type": "display_data"
    },
    {
     "data": {
      "text/latex": [
       "$\\displaystyle \\left(-1.072x_1^{3.000} + 0.835x_2^{1.000} + 0.672x_3^{1.000} + 1.052\\right)$"
      ],
      "text/plain": [
       "<IPython.core.display.Math object>"
      ]
     },
     "metadata": {},
     "output_type": "display_data"
    },
    {
     "name": "stdout",
     "output_type": "stream",
     "text": [
      "MSE between formula parameters is 3.785599135751129e-10\n",
      "EXACT RECOVERY\n",
      "\n",
      "\n",
      "----------------------------Exploring new formula #4----------------------------\n",
      "  Initialization #1\n",
      "  Finished run #1, loss 8.28249249025248e-05, best loss 8.28249249025248e-05\n",
      "  Initialization #2\n",
      "  Finished run #2, loss 0.0015705632977187634, best loss 8.28249249025248e-05\n",
      "  Initialization #3\n",
      "    Epoch 5000, current loss 0.0159, current formula \\left(0.054x_1^{2.664} + 2.059x_2^{-0.005} + 1.781x_3^{-0.038}-3.783\\right)\n",
      "  Finished run #3, loss 0.015826134011149406, best loss 8.28249249025248e-05\n",
      "  Initialization #4\n",
      "  Finished run #4, loss 0.0015559322200715542, best loss 8.28249249025248e-05\n",
      "4 minutes 6 seconds passed from the start, the iteration took 43 seconds\n",
      "ground truth and obtained formula\n"
     ]
    },
    {
     "data": {
      "text/latex": [
       "$\\displaystyle 0.059x_{1}^{1.0}-0.19x_{2}^{6.0}-0.596x_{3}^{5.0}+0.25$"
      ],
      "text/plain": [
       "<IPython.core.display.Math object>"
      ]
     },
     "metadata": {},
     "output_type": "display_data"
    },
    {
     "data": {
      "text/latex": [
       "$\\displaystyle \\left(-0.280x_1^{-0.046}-0.191x_2^{6.089}-0.595x_3^{4.972} + 0.573\\right)$"
      ],
      "text/plain": [
       "<IPython.core.display.Math object>"
      ]
     },
     "metadata": {},
     "output_type": "display_data"
    },
    {
     "name": "stdout",
     "output_type": "stream",
     "text": [
      "MSE between formula parameters is 0.18899522698198587\n",
      "FAILURE\n",
      "\n",
      "\n",
      "----------------------------Exploring new formula #5----------------------------\n",
      "  Initialization #1\n",
      "  Finished run #1, loss 0.002559511223807931, best loss 0.002559511223807931\n",
      "  Initialization #2\n",
      "    Epoch 5000, current loss 0.00245, current formula \\left(0.858x_1^{0.062} + 1.112x_2^{4.007}-0.462x_3^{3.113} + 0.291\\right)\n",
      "  Finished run #2, loss 5.279829958654281e-12, best loss 5.279829958654281e-12\n",
      "loss is smaller than 1e-05, terminating learning process\n",
      "4 minutes 33 seconds passed from the start, the iteration took 27 seconds\n",
      "ground truth and obtained formula\n"
     ]
    },
    {
     "data": {
      "text/latex": [
       "$\\displaystyle 0.246x_{1}^{3.0}+1.113x_{2}^{4.0}-0.452x_{3}^{3.0}+1.038$"
      ],
      "text/plain": [
       "<IPython.core.display.Math object>"
      ]
     },
     "metadata": {},
     "output_type": "display_data"
    },
    {
     "data": {
      "text/latex": [
       "$\\displaystyle \\left(0.246x_1^{3.000} + 1.113x_2^{4.000}-0.452x_3^{3.000} + 1.038\\right)$"
      ],
      "text/plain": [
       "<IPython.core.display.Math object>"
      ]
     },
     "metadata": {},
     "output_type": "display_data"
    },
    {
     "name": "stdout",
     "output_type": "stream",
     "text": [
      "MSE between formula parameters is 2.197930091897758e-09\n",
      "EXACT RECOVERY\n",
      "\n",
      "################################################################################\n",
      "MSEs between parameters:\n",
      "[1.3846224484430942e-09, 3.973571316650377, 3.785599135751129e-10, 0.18899522698198587, 2.197930091897758e-09]\n",
      "For 3 formulas out of 5 the error is less than 1e-05.\n",
      "\n",
      "\n",
      "----------------------------Exploring new formula #1----------------------------\n",
      "  Initialization #1\n",
      "  Finished run #1, loss 1.8448283265609655e-12, best loss 1.8448283265609655e-12\n",
      "loss is smaller than 1e-05, terminating learning process\n",
      "4 seconds passed from the start, the iteration took 4 seconds\n",
      "ground truth and obtained formula\n"
     ]
    },
    {
     "data": {
      "text/latex": [
       "$\\displaystyle 0.524x_{1}^{4.0}-0.28x_{2}^{4.0}+1.048x_{3}^{4.0}+0.767$"
      ],
      "text/plain": [
       "<IPython.core.display.Math object>"
      ]
     },
     "metadata": {},
     "output_type": "display_data"
    },
    {
     "data": {
      "text/latex": [
       "$\\displaystyle \\left(0.524x_1^{4.000}-0.280x_2^{4.000} + 1.048x_3^{4.000} + 0.767\\right)$"
      ],
      "text/plain": [
       "<IPython.core.display.Math object>"
      ]
     },
     "metadata": {},
     "output_type": "display_data"
    },
    {
     "name": "stdout",
     "output_type": "stream",
     "text": [
      "MSE between formula parameters is 3.9473402324574636e-10\n",
      "EXACT RECOVERY\n",
      "\n",
      "\n",
      "----------------------------Exploring new formula #2----------------------------\n",
      "  Initialization #1\n",
      "    Epoch 5000, current loss 0.165, current formula \\left(-4.645x_1^{-0.035} + 4.720x_2^{-0.037} + 0.493x_3^{0.528}-1.513\\right)\n",
      "  Finished run #1, loss 0.16481851041316986, best loss 0.16481851041316986\n",
      "  Initialization #2\n",
      "  Finished run #2, loss 3.761677774827277e-11, best loss 3.761677774827277e-11\n",
      "loss is smaller than 1e-05, terminating learning process\n",
      "30 seconds passed from the start, the iteration took 26 seconds\n",
      "ground truth and obtained formula\n"
     ]
    },
    {
     "data": {
      "text/latex": [
       "$\\displaystyle 1.19x_{1}^{4.5}-1.443x_{2}^{4.5}+0.515x_{3}^{0.5}-1.399$"
      ],
      "text/plain": [
       "<IPython.core.display.Math object>"
      ]
     },
     "metadata": {},
     "output_type": "display_data"
    },
    {
     "data": {
      "text/latex": [
       "$\\displaystyle \\left(1.190x_1^{4.500}-1.443x_2^{4.500} + 0.515x_3^{0.500}-1.399\\right)$"
      ],
      "text/plain": [
       "<IPython.core.display.Math object>"
      ]
     },
     "metadata": {},
     "output_type": "display_data"
    },
    {
     "name": "stdout",
     "output_type": "stream",
     "text": [
      "MSE between formula parameters is 1.9502819676680313e-09\n",
      "EXACT RECOVERY\n",
      "\n",
      "\n",
      "----------------------------Exploring new formula #3----------------------------\n",
      "  Initialization #1\n",
      "  Finished run #1, loss 0.0013958173803985119, best loss 0.0013958173803985119\n",
      "  Initialization #2\n",
      "  Finished run #2, loss 0.00026233922108076513, best loss 0.00026233922108076513\n",
      "  Initialization #3\n",
      "    Epoch 5000, current loss 0.0014, current formula \\left(-0.075x_1^{3.340} + 0.732x_2^{4.566} + 1.384x_3^{-0.028}-0.443\\right)\n",
      "    Epoch 10000, current loss 0.00139, current formula \\left(-0.075x_1^{3.342} + 0.732x_2^{4.565} + 1.753x_3^{-0.023}-0.813\\right)\n",
      "  Finished run #3, loss 0.0013920816127210855, best loss 0.00026233922108076513\n",
      "  Initialization #4\n",
      "  Finished run #4, loss 0.00028813155950047076, best loss 0.00026233922108076513\n",
      "1 minutes 14 seconds passed from the start, the iteration took 44 seconds\n",
      "ground truth and obtained formula\n"
     ]
    },
    {
     "data": {
      "text/latex": [
       "$\\displaystyle -0.078x_{1}^{3.5}+0.728x_{2}^{4.5}-0.186x_{3}^{2.0}+1.044$"
      ],
      "text/plain": [
       "<IPython.core.display.Math object>"
      ]
     },
     "metadata": {},
     "output_type": "display_data"
    },
    {
     "data": {
      "text/latex": [
       "$\\displaystyle \\left(-0.622x_1^{0.025} + 0.728x_2^{4.542}-0.186x_3^{2.036} + 1.634\\right)$"
      ],
      "text/plain": [
       "<IPython.core.display.Math object>"
      ]
     },
     "metadata": {},
     "output_type": "display_data"
    },
    {
     "name": "stdout",
     "output_type": "stream",
     "text": [
      "MSE between formula parameters is 1.8177014422259958\n",
      "FAILURE\n",
      "\n",
      "\n",
      "----------------------------Exploring new formula #4----------------------------\n",
      "  Initialization #1\n",
      "    Epoch 5000, current loss 0.0319, current formula \\left(3.630x_1^{-0.044} + 1.064x_2^{2.385}-1.130x_3^{6.358}-3.203\\right)\n",
      "    Epoch 10000, current loss 0.0311, current formula \\left(5.832x_1^{-0.029} + 1.064x_2^{2.384}-1.130x_3^{6.357}-5.411\\right)\n",
      "  Finished run #1, loss 0.031148917973041534, best loss 0.031148917973041534\n",
      "  Initialization #2\n",
      "  Finished run #2, loss 8.126693762378068e-12, best loss 8.126693762378068e-12\n",
      "loss is smaller than 1e-05, terminating learning process\n",
      "1 minutes 48 seconds passed from the start, the iteration took 34 seconds\n",
      "ground truth and obtained formula\n"
     ]
    },
    {
     "data": {
      "text/latex": [
       "$\\displaystyle -0.872x_{1}^{2.0}+1.074x_{2}^{2.5}-1.16x_{3}^{6.0}+0.902$"
      ],
      "text/plain": [
       "<IPython.core.display.Math object>"
      ]
     },
     "metadata": {},
     "output_type": "display_data"
    },
    {
     "data": {
      "text/latex": [
       "$\\displaystyle \\left(-0.872x_1^{2.000} + 1.074x_2^{2.500}-1.160x_3^{6.000} + 0.902\\right)$"
      ],
      "text/plain": [
       "<IPython.core.display.Math object>"
      ]
     },
     "metadata": {},
     "output_type": "display_data"
    },
    {
     "name": "stdout",
     "output_type": "stream",
     "text": [
      "MSE between formula parameters is 3.2343144036011447e-10\n",
      "EXACT RECOVERY\n",
      "\n",
      "\n",
      "----------------------------Exploring new formula #5----------------------------\n",
      "  Initialization #1\n",
      "  Finished run #1, loss 0.004749011714011431, best loss 0.004749011714011431\n",
      "  Initialization #2\n",
      "  Finished run #2, loss 0.1199023574590683, best loss 0.004749011714011431\n",
      "  Initialization #3\n",
      "  Finished run #3, loss 0.004842622205615044, best loss 0.004749011714011431\n",
      "  Initialization #4\n",
      "  Finished run #4, loss 5.167721155885374e-06, best loss 5.167721155885374e-06\n",
      "loss is smaller than 1e-05, terminating learning process\n",
      "2 minutes 11 seconds passed from the start, the iteration took 23 seconds\n",
      "ground truth and obtained formula\n"
     ]
    },
    {
     "data": {
      "text/latex": [
       "$\\displaystyle 0.333x_{1}^{4.5}-0.01x_{2}^{5.0}-1.581x_{3}^{4.0}-0.451$"
      ],
      "text/plain": [
       "<IPython.core.display.Math object>"
      ]
     },
     "metadata": {},
     "output_type": "display_data"
    },
    {
     "data": {
      "text/latex": [
       "$\\displaystyle \\left(0.333x_1^{4.497}-2.902x_2^{0.001}-1.581x_3^{4.003} + 2.448\\right)$"
      ],
      "text/plain": [
       "<IPython.core.display.Math object>"
      ]
     },
     "metadata": {},
     "output_type": "display_data"
    },
    {
     "name": "stdout",
     "output_type": "stream",
     "text": [
      "MSE between formula parameters is 5.965881388275327\n",
      "FAILURE\n",
      "\n",
      "################################################################################\n",
      "MSEs between parameters:\n",
      "[3.9473402324574636e-10, 1.9502819676680313e-09, 1.8177014422259958, 3.2343144036011447e-10, 5.965881388275327]\n",
      "For 3 formulas out of 5 the error is less than 1e-05.\n",
      "\n",
      "\n",
      "----------------------------Exploring new formula #1----------------------------\n",
      "  Initialization #1\n",
      "    Epoch 5000, current loss 0.0396, current formula \\left(-1.771x_1^{3.128}-0.579x_2^{3.806}-2.908x_3^{-0.036} + 2.935\\right)\n",
      "    Epoch 10000, current loss 0.0393, current formula \\left(-1.771x_1^{3.125}-0.579x_2^{3.812}-4.438x_3^{-0.025} + 4.469\\right)\n",
      "  Finished run #1, loss 0.039291661232709885, best loss 0.039291661232709885\n",
      "  Initialization #2\n",
      "  Finished run #2, loss 1.701597711475586e-13, best loss 1.701597711475586e-13\n",
      "loss is smaller than 1e-05, terminating learning process\n",
      "34 seconds passed from the start, the iteration took 34 seconds\n",
      "ground truth and obtained formula\n"
     ]
    },
    {
     "data": {
      "text/latex": [
       "$\\displaystyle -1.784x_{1}^{3.083}-0.6x_{2}^{4.917}+0.947x_{3}^{5.833}-0.23$"
      ],
      "text/plain": [
       "<IPython.core.display.Math object>"
      ]
     },
     "metadata": {},
     "output_type": "display_data"
    },
    {
     "data": {
      "text/latex": [
       "$\\displaystyle \\left(-1.784x_1^{3.083}-0.600x_2^{4.917} + 0.947x_3^{5.833}-0.230\\right)$"
      ],
      "text/plain": [
       "<IPython.core.display.Math object>"
      ]
     },
     "metadata": {},
     "output_type": "display_data"
    },
    {
     "name": "stdout",
     "output_type": "stream",
     "text": [
      "MSE between formula parameters is 1.1847919470905514e-11\n",
      "EXACT RECOVERY\n",
      "\n",
      "\n",
      "----------------------------Exploring new formula #2----------------------------\n",
      "  Initialization #1\n",
      "    Epoch 5000, current loss 0.02, current formula \\left(0.948x_1^{4.087} + 1.256x_2^{0.917} + 2.722x_3^{-0.035}-1.428\\right)\n",
      "    Epoch 10000, current loss 0.0196, current formula \\left(0.948x_1^{4.093} + 1.257x_2^{0.915} + 4.335x_3^{-0.023}-3.048\\right)\n",
      "  Finished run #1, loss 0.019638603553175926, best loss 0.019638603553175926\n",
      "  Initialization #2\n",
      "  Finished run #2, loss 0.03800521418452263, best loss 0.019638603553175926\n",
      "  Initialization #3\n",
      "  Finished run #3, loss 5.1795245176178284e-11, best loss 5.1795245176178284e-11\n",
      "loss is smaller than 1e-05, terminating learning process\n",
      "1 minutes 14 seconds passed from the start, the iteration took 40 seconds\n",
      "ground truth and obtained formula\n"
     ]
    },
    {
     "data": {
      "text/latex": [
       "$\\displaystyle 0.949x_{1}^{4.25}+1.252x_{2}^{0.917}-0.652x_{3}^{3.0}+1.562$"
      ],
      "text/plain": [
       "<IPython.core.display.Math object>"
      ]
     },
     "metadata": {},
     "output_type": "display_data"
    },
    {
     "data": {
      "text/latex": [
       "$\\displaystyle \\left(0.949x_1^{4.250} + 1.252x_2^{0.917}-0.652x_3^{3.000} + 1.562\\right)$"
      ],
      "text/plain": [
       "<IPython.core.display.Math object>"
      ]
     },
     "metadata": {},
     "output_type": "display_data"
    },
    {
     "name": "stdout",
     "output_type": "stream",
     "text": [
      "MSE between formula parameters is 3.7146890008443734e-09\n",
      "EXACT RECOVERY\n",
      "\n",
      "\n",
      "----------------------------Exploring new formula #3----------------------------\n",
      "  Initialization #1\n",
      "    Epoch 5000, current loss 0.0732, current formula \\left(2.336x_1^{4.752} + 3.052x_2^{-0.052} + 1.498x_3^{-0.067}-5.800\\right)\n",
      "  Finished run #1, loss 0.0730489194393158, best loss 0.0730489194393158\n",
      "  Initialization #2\n",
      "  Finished run #2, loss 2.583725334376341e-12, best loss 2.583725334376341e-12\n",
      "loss is smaller than 1e-05, terminating learning process\n",
      "1 minutes 34 seconds passed from the start, the iteration took 20 seconds\n",
      "ground truth and obtained formula\n"
     ]
    },
    {
     "data": {
      "text/latex": [
       "$\\displaystyle 2.303x_{1}^{4.75}-1.124x_{2}^{3.25}-0.599x_{3}^{2.0}-0.51$"
      ],
      "text/plain": [
       "<IPython.core.display.Math object>"
      ]
     },
     "metadata": {},
     "output_type": "display_data"
    },
    {
     "data": {
      "text/latex": [
       "$\\displaystyle \\left(2.303x_1^{4.750}-1.124x_2^{3.250}-0.599x_3^{2.000}-0.510\\right)$"
      ],
      "text/plain": [
       "<IPython.core.display.Math object>"
      ]
     },
     "metadata": {},
     "output_type": "display_data"
    },
    {
     "name": "stdout",
     "output_type": "stream",
     "text": [
      "MSE between formula parameters is 8.739726402901787e-11\n",
      "EXACT RECOVERY\n",
      "\n",
      "\n",
      "----------------------------Exploring new formula #4----------------------------\n",
      "  Initialization #1\n",
      "  Finished run #1, loss 0.046650148928165436, best loss 0.046650148928165436\n",
      "  Initialization #2\n",
      "  Finished run #2, loss 7.610094326082617e-05, best loss 7.610094326082617e-05\n",
      "  Initialization #3\n",
      "  Finished run #3, loss 0.0003383141302037984, best loss 7.610094326082617e-05\n",
      "  Initialization #4\n",
      "  Finished run #4, loss 1.5568628330964174e-10, best loss 1.5568628330964174e-10\n",
      "loss is smaller than 1e-05, terminating learning process\n",
      "1 minutes 52 seconds passed from the start, the iteration took 18 seconds\n",
      "ground truth and obtained formula\n"
     ]
    },
    {
     "data": {
      "text/latex": [
       "$\\displaystyle 1.012x_{1}^{4.0}+0.283x_{2}^{0.417}+0.304x_{3}^{3.0}-0.415$"
      ],
      "text/plain": [
       "<IPython.core.display.Math object>"
      ]
     },
     "metadata": {},
     "output_type": "display_data"
    },
    {
     "data": {
      "text/latex": [
       "$\\displaystyle \\left(1.012x_1^{4.000} + 0.283x_2^{0.416} + 0.304x_3^{3.000}-0.415\\right)$"
      ],
      "text/plain": [
       "<IPython.core.display.Math object>"
      ]
     },
     "metadata": {},
     "output_type": "display_data"
    },
    {
     "name": "stdout",
     "output_type": "stream",
     "text": [
      "MSE between formula parameters is 2.4805867328479636e-08\n",
      "EXACT RECOVERY\n",
      "\n",
      "\n",
      "----------------------------Exploring new formula #5----------------------------\n",
      "  Initialization #1\n",
      "    Epoch 5000, current loss 0.0313, current formula \\left(0.310x_1^{0.954} + 2.834x_2^{0.019}-5.509x_3^{-0.037} + 3.037\\right)\n",
      "    Epoch 10000, current loss 0.0302, current formula \\left(0.309x_1^{0.974} + 2.891x_2^{0.019}-10.488x_3^{-0.020} + 7.969\\right)\n",
      "  Finished run #1, loss 0.03021642193198204, best loss 0.03021642193198204\n",
      "  Initialization #2\n",
      "    Epoch 5000, current loss 0.0317, current formula \\left(2.181x_1^{0.043} + 0.314x_2^{0.292}-7.708x_3^{-0.027} + 5.846\\right)\n",
      "    Epoch 10000, current loss 0.0312, current formula \\left(2.200x_1^{0.043} + 0.299x_2^{0.317}-10.887x_3^{-0.020} + 9.027\\right)\n",
      "  Finished run #2, loss 0.031224364414811134, best loss 0.03021642193198204\n",
      "  Initialization #3\n",
      "    Epoch 5000, current loss 0.00277, current formula \\left(-1.699x_1^{-0.042}-0.684x_2^{-0.067} + 0.945x_3^{1.421} + 2.370\\right)\n",
      "  Finished run #3, loss 0.0027599858585745096, best loss 0.0027599858585745096\n",
      "  Initialization #4\n",
      "  Finished run #4, loss 0.0025961108040064573, best loss 0.0025961108040064573\n",
      "3 minutes 15 seconds passed from the start, the iteration took 1 minutes 23 seconds\n",
      "ground truth and obtained formula\n"
     ]
    },
    {
     "data": {
      "text/latex": [
       "$\\displaystyle 0.301x_{1}^{1.333}+0.415x_{2}^{0.167}+0.951x_{3}^{1.417}-0.627$"
      ],
      "text/plain": [
       "<IPython.core.display.Math object>"
      ]
     },
     "metadata": {},
     "output_type": "display_data"
    },
    {
     "data": {
      "text/latex": [
       "$\\displaystyle \\left(-3.328x_1^{-0.023} + 1.618x_2^{0.036} + 0.945x_3^{1.419} + 1.705\\right)$"
      ],
      "text/plain": [
       "<IPython.core.display.Math object>"
      ]
     },
     "metadata": {},
     "output_type": "display_data"
    },
    {
     "name": "stdout",
     "output_type": "stream",
     "text": [
      "MSE between formula parameters is 3.129586872708039\n",
      "FAILURE\n",
      "\n",
      "################################################################################\n",
      "MSEs between parameters:\n",
      "[1.1847919470905514e-11, 3.7146890008443734e-09, 8.739726402901787e-11, 2.4805867328479636e-08, 3.129586872708039]\n",
      "For 4 formulas out of 5 the error is less than 1e-05.\n",
      "\n",
      "\n",
      "----------------------------Exploring new formula #1----------------------------\n",
      "  Initialization #1\n",
      "  Finished run #1, loss 2.1631051984327687e-12, best loss 2.1631051984327687e-12\n",
      "loss is smaller than 1e-05, terminating learning process\n",
      "8 seconds passed from the start, the iteration took 8 seconds\n",
      "ground truth and obtained formula\n"
     ]
    },
    {
     "data": {
      "text/latex": [
       "$\\displaystyle 0.861x_{1}^{1.0}-0.383x_{2}^{2.0}+0.665x_{3}^{5.0}-0.939x_{4}^{2.0}+1.589$"
      ],
      "text/plain": [
       "<IPython.core.display.Math object>"
      ]
     },
     "metadata": {},
     "output_type": "display_data"
    },
    {
     "data": {
      "text/latex": [
       "$\\displaystyle \\left(0.861x_1^{1.000}-0.383x_2^{2.000} + 0.665x_3^{5.000}-0.939x_4^{2.000} + 1.589\\right)$"
      ],
      "text/plain": [
       "<IPython.core.display.Math object>"
      ]
     },
     "metadata": {},
     "output_type": "display_data"
    },
    {
     "name": "stdout",
     "output_type": "stream",
     "text": [
      "MSE between formula parameters is 1.5502542459621005e-10\n",
      "EXACT RECOVERY\n",
      "\n",
      "\n",
      "----------------------------Exploring new formula #2----------------------------\n",
      "  Initialization #1\n",
      "    Epoch 5000, current loss 0.0838, current formula \\left(8.401x_1^{-0.010} + 1.250x_2^{0.809}-12.861x_3^{-0.027} + 4.401x_4^{0.031}-0.852\\right)\n",
      "  Finished run #1, loss 0.08335302770137787, best loss 0.08335302770137787\n",
      "  Initialization #2\n",
      "  Finished run #2, loss 1.0432863774278989e-11, best loss 1.0432863774278989e-11\n",
      "loss is smaller than 1e-05, terminating learning process\n",
      "40 seconds passed from the start, the iteration took 32 seconds\n",
      "ground truth and obtained formula\n"
     ]
    },
    {
     "data": {
      "text/latex": [
       "$\\displaystyle -0.578x_{1}^{3.0}+1.213x_{2}^{1.0}+1.432x_{3}^{1.0}+0.877x_{4}^{5.0}-1.951$"
      ],
      "text/plain": [
       "<IPython.core.display.Math object>"
      ]
     },
     "metadata": {},
     "output_type": "display_data"
    },
    {
     "data": {
      "text/latex": [
       "$\\displaystyle \\left(-0.578x_1^{3.000} + 1.213x_2^{1.000} + 1.432x_3^{1.000} + 0.877x_4^{5.000}-1.951\\right)$"
      ],
      "text/plain": [
       "<IPython.core.display.Math object>"
      ]
     },
     "metadata": {},
     "output_type": "display_data"
    },
    {
     "name": "stdout",
     "output_type": "stream",
     "text": [
      "MSE between formula parameters is 1.2448961367934115e-09\n",
      "EXACT RECOVERY\n",
      "\n",
      "\n",
      "----------------------------Exploring new formula #3----------------------------\n",
      "  Initialization #1\n",
      "    Epoch 5000, current loss 0.163, current formula \\left(-0.540x_1^{1.731} + 0.676x_2^{2.996}-0.086x_3^{20.489} + 6.769x_4^{-0.038}-4.858\\right)\n",
      "    Epoch 10000, current loss 0.162, current formula \\left(-0.540x_1^{1.738} + 0.676x_2^{2.988}-0.082x_3^{19.352} + 10.234x_4^{-0.026}-8.331\\right)\n",
      "  Finished run #1, loss 0.16179600358009338, best loss 0.16179600358009338\n",
      "  Initialization #2\n",
      "    Epoch 5000, current loss 0.013, current formula \\left(3.727x_1^{-0.028} + 0.740x_2^{3.269} + 0.739x_3^{-0.013}-1.898x_4^{3.940}-2.219\\right)\n",
      "    Epoch 10000, current loss 0.0128, current formula \\left(5.681x_1^{-0.019} + 0.739x_2^{3.267} + 0.722x_3^{-0.014}-1.898x_4^{3.940}-4.158\\right)\n",
      "  Finished run #2, loss 0.01284653227776289, best loss 0.01284653227776289\n",
      "  Initialization #3\n",
      "    Epoch 5000, current loss 0.0126, current formula \\left(3.919x_1^{-0.027} + 0.736x_2^{3.240}-0.096x_3^{5.276}-1.900x_4^{3.942}-1.648\\right)\n",
      "    Epoch 10000, current loss 0.0125, current formula \\left(5.025x_1^{-0.022} + 0.736x_2^{3.238}-0.096x_3^{5.295}-1.900x_4^{3.943}-2.756\\right)\n",
      "  Finished run #3, loss 0.012450575828552246, best loss 0.012450575828552246\n",
      "  Initialization #4\n",
      "    Epoch 5000, current loss 0.163, current formula \\left(-0.540x_1^{1.731} + 0.676x_2^{2.996}-0.086x_3^{20.674} + 6.798x_4^{-0.038}-4.887\\right)\n",
      "    Epoch 10000, current loss 0.162, current formula \\left(-0.540x_1^{1.738} + 0.676x_2^{2.988}-0.081x_3^{19.409} + 10.609x_4^{-0.026}-8.707\\right)\n",
      "  Finished run #4, loss 0.1616797149181366, best loss 0.012450575828552246\n",
      "2 minutes 57 seconds passed from the start, the iteration took 2 minutes 17 seconds\n",
      "ground truth and obtained formula\n"
     ]
    },
    {
     "data": {
      "text/latex": [
       "$\\displaystyle -0.562x_{1}^{2.0}+0.707x_{2}^{3.0}-0.111x_{3}^{6.0}-1.914x_{4}^{4.0}+2.559$"
      ],
      "text/plain": [
       "<IPython.core.display.Math object>"
      ]
     },
     "metadata": {},
     "output_type": "display_data"
    },
    {
     "data": {
      "text/latex": [
       "$\\displaystyle \\left(5.025x_1^{-0.022} + 0.736x_2^{3.238}-0.096x_3^{5.295}-1.900x_4^{3.943}-2.756\\right)$"
      ],
      "text/plain": [
       "<IPython.core.display.Math object>"
      ]
     },
     "metadata": {},
     "output_type": "display_data"
    },
    {
     "name": "stdout",
     "output_type": "stream",
     "text": [
      "MSE between formula parameters is 7.123449290802954\n",
      "FAILURE\n",
      "\n",
      "\n",
      "----------------------------Exploring new formula #4----------------------------\n",
      "  Initialization #1\n",
      "  Finished run #1, loss 0.0001717297564027831, best loss 0.0001717297564027831\n",
      "  Initialization #2\n",
      "  Finished run #2, loss 0.07922468334436417, best loss 0.0001717297564027831\n",
      "  Initialization #3\n",
      "  Finished run #3, loss 0.0009555600699968636, best loss 0.0001717297564027831\n",
      "  Initialization #4\n",
      "    Epoch 5000, current loss 0.0132, current formula \\left(0.082x_1^{3.696} + 2.451x_2^{-0.032}-1.303x_3^{1.977} + 0.122x_4^{3.894}-3.604\\right)\n",
      "    Epoch 10000, current loss 0.013, current formula \\left(0.082x_1^{3.658} + 3.774x_2^{-0.022}-1.303x_3^{1.978} + 0.122x_4^{3.878}-4.932\\right)\n",
      "  Finished run #4, loss 0.013041789643466473, best loss 0.0001717297564027831\n",
      "3 minutes 54 seconds passed from the start, the iteration took 57 seconds\n",
      "ground truth and obtained formula\n"
     ]
    },
    {
     "data": {
      "text/latex": [
       "$\\displaystyle 0.059x_{1}^{4.0}-0.507x_{2}^{3.0}-1.316x_{3}^{2.0}+0.145x_{4}^{5.0}-0.938$"
      ],
      "text/plain": [
       "<IPython.core.display.Math object>"
      ]
     },
     "metadata": {},
     "output_type": "display_data"
    },
    {
     "data": {
      "text/latex": [
       "$\\displaystyle \\left(-0.315x_1^{-0.027}-0.510x_2^{2.992}-1.317x_3^{2.000} + 0.148x_4^{5.014}-0.601\\right)$"
      ],
      "text/plain": [
       "<IPython.core.display.Math object>"
      ]
     },
     "metadata": {},
     "output_type": "display_data"
    },
    {
     "name": "stdout",
     "output_type": "stream",
     "text": [
      "MSE between formula parameters is 1.83039446241337\n",
      "FAILURE\n",
      "\n",
      "\n",
      "----------------------------Exploring new formula #5----------------------------\n",
      "  Initialization #1\n",
      "    Epoch 5000, current loss 0.0682, current formula \\left(-0.913x_1^{0.897} + 2.317x_2^{0.060}-2.867x_3^{-0.033} + 4.325x_4^{-0.032}-2.031\\right)\n",
      "  Finished run #1, loss 0.05827435851097107, best loss 0.05827435851097107\n",
      "  Initialization #2\n",
      "  Finished run #2, loss 0.024942874908447266, best loss 0.024942874908447266\n",
      "  Initialization #3\n",
      "  Finished run #3, loss 5.744894143733248e-12, best loss 5.744894143733248e-12\n",
      "loss is smaller than 1e-05, terminating learning process\n",
      "4 minutes 31 seconds passed from the start, the iteration took 37 seconds\n",
      "ground truth and obtained formula\n"
     ]
    },
    {
     "data": {
      "text/latex": [
       "$\\displaystyle -0.87x_{1}^{1.0}+0.453x_{2}^{2.0}+0.496x_{3}^{3.0}-1.082x_{4}^{5.0}+1.504$"
      ],
      "text/plain": [
       "<IPython.core.display.Math object>"
      ]
     },
     "metadata": {},
     "output_type": "display_data"
    },
    {
     "data": {
      "text/latex": [
       "$\\displaystyle \\left(-0.870x_1^{1.000} + 0.453x_2^{2.000} + 0.496x_3^{3.000}-1.082x_4^{5.000} + 1.504\\right)$"
      ],
      "text/plain": [
       "<IPython.core.display.Math object>"
      ]
     },
     "metadata": {},
     "output_type": "display_data"
    },
    {
     "name": "stdout",
     "output_type": "stream",
     "text": [
      "MSE between formula parameters is 4.5771870244632534e-10\n",
      "EXACT RECOVERY\n",
      "\n",
      "################################################################################\n",
      "MSEs between parameters:\n",
      "[1.5502542459621005e-10, 1.2448961367934115e-09, 7.123449290802954, 1.83039446241337, 4.5771870244632534e-10]\n",
      "For 3 formulas out of 5 the error is less than 1e-05.\n",
      "\n",
      "\n",
      "----------------------------Exploring new formula #1----------------------------\n",
      "  Initialization #1\n",
      "  Finished run #1, loss 0.0036706782411783934, best loss 0.0036706782411783934\n",
      "  Initialization #2\n",
      "  Finished run #2, loss 0.0032332974951714277, best loss 0.0032332974951714277\n",
      "  Initialization #3\n",
      "  Finished run #3, loss 5.408468496170826e-05, best loss 5.408468496170826e-05\n",
      "  Initialization #4\n",
      "  Finished run #4, loss 1.2250271630431797e-10, best loss 1.2250271630431797e-10\n",
      "loss is smaller than 1e-05, terminating learning process\n",
      "26 seconds passed from the start, the iteration took 26 seconds\n",
      "ground truth and obtained formula\n"
     ]
    },
    {
     "data": {
      "text/latex": [
       "$\\displaystyle 0.146x_{1}^{4.0}+0.32x_{2}^{1.5}-1.157x_{3}^{6.0}+0.098x_{4}^{0.5}-0.185$"
      ],
      "text/plain": [
       "<IPython.core.display.Math object>"
      ]
     },
     "metadata": {},
     "output_type": "display_data"
    },
    {
     "data": {
      "text/latex": [
       "$\\displaystyle \\left(0.146x_1^{3.999} + 0.320x_2^{1.500}-1.157x_3^{6.000} + 0.098x_4^{0.499}-0.185\\right)$"
      ],
      "text/plain": [
       "<IPython.core.display.Math object>"
      ]
     },
     "metadata": {},
     "output_type": "display_data"
    },
    {
     "name": "stdout",
     "output_type": "stream",
     "text": [
      "MSE between formula parameters is 1.265497638039095e-07\n",
      "EXACT RECOVERY\n",
      "\n",
      "\n",
      "----------------------------Exploring new formula #2----------------------------\n",
      "  Initialization #1\n",
      "  Finished run #1, loss 0.009779330343008041, best loss 0.009779330343008041\n",
      "  Initialization #2\n",
      "    Epoch 5000, current loss 0.0326, current formula \\left(5.993x_1^{-0.014}-6.134x_2^{-0.024} + 1.061x_3^{6.204}-0.536x_4^{3.402} + 0.422\\right)\n",
      "    Epoch 10000, current loss 0.0323, current formula \\left(8.766x_1^{-0.010}-8.908x_2^{-0.017} + 1.061x_3^{6.199}-0.537x_4^{3.404} + 0.424\\right)\n",
      "  Finished run #2, loss 0.03232680261135101, best loss 0.009779330343008041\n",
      "  Initialization #3\n",
      "    Epoch 5000, current loss 0.021, current formula \\left(-0.683x_1^{4.104}-5.609x_2^{-0.026} + 1.054x_3^{5.907} + 5.740x_4^{-0.015} + 0.169\\right)\n",
      "    Epoch 10000, current loss 0.0207, current formula \\left(-0.683x_1^{4.102}-8.931x_2^{-0.017} + 1.054x_3^{5.902} + 9.058x_4^{-0.009} + 0.175\\right)\n",
      "  Finished run #3, loss 0.0206905547529459, best loss 0.009779330343008041\n",
      "  Initialization #4\n",
      "  Finished run #4, loss 0.013859379105269909, best loss 0.009779330343008041\n",
      "1 minutes 49 seconds passed from the start, the iteration took 1 minutes 24 seconds\n",
      "ground truth and obtained formula\n"
     ]
    },
    {
     "data": {
      "text/latex": [
       "$\\displaystyle -0.692x_{1}^{4.0}+0.624x_{2}^{1.0}+1.036x_{3}^{5.5}-0.54x_{4}^{3.0}+0.058$"
      ],
      "text/plain": [
       "<IPython.core.display.Math object>"
      ]
     },
     "metadata": {},
     "output_type": "display_data"
    },
    {
     "data": {
      "text/latex": [
       "$\\displaystyle \\left(-0.691x_1^{4.187}-1.682x_2^{-0.073} + 1.039x_3^{5.789}-0.525x_4^{3.029} + 2.180\\right)$"
      ],
      "text/plain": [
       "<IPython.core.display.Math object>"
      ]
     },
     "metadata": {},
     "output_type": "display_data"
    },
    {
     "name": "stdout",
     "output_type": "stream",
     "text": [
      "MSE between formula parameters is 1.2323521655175902\n",
      "FAILURE\n",
      "\n",
      "\n",
      "----------------------------Exploring new formula #3----------------------------\n",
      "  Initialization #1\n",
      "  Finished run #1, loss 4.3607613180174365e-12, best loss 4.3607613180174365e-12\n",
      "loss is smaller than 1e-05, terminating learning process\n",
      "1 minutes 53 seconds passed from the start, the iteration took 4 seconds\n",
      "ground truth and obtained formula\n"
     ]
    },
    {
     "data": {
      "text/latex": [
       "$\\displaystyle -0.816x_{1}^{4.5}-0.593x_{2}^{2.5}-0.581x_{3}^{6.0}-0.924x_{4}^{3.5}-0.052$"
      ],
      "text/plain": [
       "<IPython.core.display.Math object>"
      ]
     },
     "metadata": {},
     "output_type": "display_data"
    },
    {
     "data": {
      "text/latex": [
       "$\\displaystyle \\left(-0.816x_1^{4.500}-0.593x_2^{2.500}-0.581x_3^{6.000}-0.924x_4^{3.500}-0.052\\right)$"
      ],
      "text/plain": [
       "<IPython.core.display.Math object>"
      ]
     },
     "metadata": {},
     "output_type": "display_data"
    },
    {
     "name": "stdout",
     "output_type": "stream",
     "text": [
      "MSE between formula parameters is 6.471424399443235e-10\n",
      "EXACT RECOVERY\n",
      "\n",
      "\n",
      "----------------------------Exploring new formula #4----------------------------\n",
      "  Initialization #1\n",
      "  Finished run #1, loss 0.0002797266351990402, best loss 0.0002797266351990402\n",
      "  Initialization #2\n",
      "  Finished run #2, loss 6.4769452821911155e-12, best loss 6.4769452821911155e-12\n",
      "loss is smaller than 1e-05, terminating learning process\n",
      "2 minutes 1 seconds passed from the start, the iteration took 8 seconds\n",
      "ground truth and obtained formula\n"
     ]
    },
    {
     "data": {
      "text/latex": [
       "$\\displaystyle -1.27x_{1}^{2.0}+0.971x_{2}^{1.0}+0.078x_{3}^{4.5}+1.196x_{4}^{5.0}+0.122$"
      ],
      "text/plain": [
       "<IPython.core.display.Math object>"
      ]
     },
     "metadata": {},
     "output_type": "display_data"
    },
    {
     "data": {
      "text/latex": [
       "$\\displaystyle \\left(-1.270x_1^{2.000} + 0.971x_2^{1.000} + 0.078x_3^{4.500} + 1.196x_4^{5.000} + 0.122\\right)$"
      ],
      "text/plain": [
       "<IPython.core.display.Math object>"
      ]
     },
     "metadata": {},
     "output_type": "display_data"
    },
    {
     "name": "stdout",
     "output_type": "stream",
     "text": [
      "MSE between formula parameters is 3.980398282581948e-09\n",
      "EXACT RECOVERY\n",
      "\n",
      "\n",
      "----------------------------Exploring new formula #5----------------------------\n",
      "  Initialization #1\n",
      "  Finished run #1, loss 2.9291632017702796e-06, best loss 2.9291632017702796e-06\n",
      "loss is smaller than 1e-05, terminating learning process\n",
      "2 minutes 5 seconds passed from the start, the iteration took 4 seconds\n",
      "ground truth and obtained formula\n"
     ]
    },
    {
     "data": {
      "text/latex": [
       "$\\displaystyle 0.631x_{1}^{2.5}+0.333x_{2}^{4.0}-0.008x_{3}^{4.0}-0.413x_{4}^{4.5}-1.079$"
      ],
      "text/plain": [
       "<IPython.core.display.Math object>"
      ]
     },
     "metadata": {},
     "output_type": "display_data"
    },
    {
     "data": {
      "text/latex": [
       "$\\displaystyle \\left(0.631x_1^{2.501} + 0.333x_2^{3.991}-0.135x_3^{0.010}-0.413x_4^{4.494}-0.946\\right)$"
      ],
      "text/plain": [
       "<IPython.core.display.Math object>"
      ]
     },
     "metadata": {},
     "output_type": "display_data"
    },
    {
     "name": "stdout",
     "output_type": "stream",
     "text": [
      "MSE between formula parameters is 1.7728944629853993\n",
      "FAILURE\n",
      "\n",
      "################################################################################\n",
      "MSEs between parameters:\n",
      "[1.265497638039095e-07, 1.2323521655175902, 6.471424399443235e-10, 3.980398282581948e-09, 1.7728944629853993]\n",
      "For 3 formulas out of 5 the error is less than 1e-05.\n",
      "\n",
      "\n",
      "----------------------------Exploring new formula #1----------------------------\n",
      "  Initialization #1\n",
      "  Finished run #1, loss 0.08903150260448456, best loss 0.08903150260448456\n",
      "  Initialization #2\n",
      "    Epoch 5000, current loss 0.00447, current formula \\left(1.378x_1^{4.188} + 0.880x_2^{4.586} + 0.071x_3^{2.358} + 2.637x_4^{-0.076}-3.270\\right)\n",
      "    Epoch 10000, current loss 0.00405, current formula \\left(1.379x_1^{4.187} + 0.880x_2^{4.575} + 0.071x_3^{2.327} + 4.041x_4^{-0.052}-4.679\\right)\n",
      "  Finished run #2, loss 0.004054446704685688, best loss 0.004054446704685688\n",
      "  Initialization #3\n",
      "    Epoch 5000, current loss 0.0889, current formula \\left(-3.328x_1^{-0.052} + 0.822x_2^{3.879} + 3.308x_3^{0.001}-1.219x_4^{0.318} + 0.980\\right)\n",
      "  Finished run #3, loss 0.08852311968803406, best loss 0.004054446704685688\n",
      "  Initialization #4\n",
      "  Finished run #4, loss 0.00023435418552253395, best loss 0.00023435418552253395\n",
      "1 minutes 20 seconds passed from the start, the iteration took 1 minutes 20 seconds\n",
      "ground truth and obtained formula\n"
     ]
    },
    {
     "data": {
      "text/latex": [
       "$\\displaystyle 1.399x_{1}^{4.167}+0.886x_{2}^{4.5}+0.073x_{3}^{2.75}-0.95x_{4}^{0.5}+0.204$"
      ],
      "text/plain": [
       "<IPython.core.display.Math object>"
      ]
     },
     "metadata": {},
     "output_type": "display_data"
    },
    {
     "data": {
      "text/latex": [
       "$\\displaystyle \\left(1.399x_1^{4.154} + 0.882x_2^{4.508}-0.965x_3^{-0.015}-0.946x_4^{0.503} + 1.200\\right)$"
      ],
      "text/plain": [
       "<IPython.core.display.Math object>"
      ]
     },
     "metadata": {},
     "output_type": "display_data"
    },
    {
     "name": "stdout",
     "output_type": "stream",
     "text": [
      "MSE between formula parameters is 1.0796828952345197\n",
      "FAILURE\n",
      "\n",
      "\n",
      "----------------------------Exploring new formula #2----------------------------\n",
      "  Initialization #1\n",
      "  Finished run #1, loss 1.8030647197520011e-06, best loss 1.8030647197520011e-06\n",
      "loss is smaller than 1e-05, terminating learning process\n",
      "1 minutes 27 seconds passed from the start, the iteration took 7 seconds\n",
      "ground truth and obtained formula\n"
     ]
    },
    {
     "data": {
      "text/latex": [
       "$\\displaystyle 1.445x_{1}^{3.583}-1.449x_{2}^{4.833}-0.344x_{3}^{6.0}-0.01x_{4}^{1.083}+0.187$"
      ],
      "text/plain": [
       "<IPython.core.display.Math object>"
      ]
     },
     "metadata": {},
     "output_type": "display_data"
    },
    {
     "data": {
      "text/latex": [
       "$\\displaystyle \\left(1.445x_1^{3.583}-1.449x_2^{4.834}-0.344x_3^{5.995}-2.281x_4^{0.001} + 2.461\\right)$"
      ],
      "text/plain": [
       "<IPython.core.display.Math object>"
      ]
     },
     "metadata": {},
     "output_type": "display_data"
    },
    {
     "name": "stdout",
     "output_type": "stream",
     "text": [
      "MSE between formula parameters is 1.2780035269006769\n",
      "FAILURE\n",
      "\n",
      "\n",
      "----------------------------Exploring new formula #3----------------------------\n",
      "  Initialization #1\n",
      "  Finished run #1, loss 0.0023499701637774706, best loss 0.0023499701637774706\n",
      "  Initialization #2\n",
      "  Finished run #2, loss 5.9399811458416e-12, best loss 5.9399811458416e-12\n",
      "loss is smaller than 1e-05, terminating learning process\n",
      "1 minutes 36 seconds passed from the start, the iteration took 9 seconds\n",
      "ground truth and obtained formula\n"
     ]
    },
    {
     "data": {
      "text/latex": [
       "$\\displaystyle 2.028x_{1}^{4.0}-1.496x_{2}^{3.25}-0.188x_{3}^{4.75}+0.228x_{4}^{2.75}-0.257$"
      ],
      "text/plain": [
       "<IPython.core.display.Math object>"
      ]
     },
     "metadata": {},
     "output_type": "display_data"
    },
    {
     "data": {
      "text/latex": [
       "$\\displaystyle \\left(2.028x_1^{4.000}-1.496x_2^{3.250}-0.188x_3^{4.750} + 0.228x_4^{2.750}-0.257\\right)$"
      ],
      "text/plain": [
       "<IPython.core.display.Math object>"
      ]
     },
     "metadata": {},
     "output_type": "display_data"
    },
    {
     "name": "stdout",
     "output_type": "stream",
     "text": [
      "MSE between formula parameters is 8.815118659713209e-09\n",
      "EXACT RECOVERY\n",
      "\n",
      "\n",
      "----------------------------Exploring new formula #4----------------------------\n",
      "  Initialization #1\n",
      "  Finished run #1, loss 0.03164186701178551, best loss 0.03164186701178551\n",
      "  Initialization #2\n",
      "    Epoch 5000, current loss 0.0312, current formula \\left(0.489x_1^{2.345}-4.819x_2^{-0.052}-1.591x_3^{5.587}-0.374x_4^{-0.075} + 6.824\\right)\n",
      "    Epoch 10000, current loss 0.0305, current formula \\left(0.490x_1^{2.355}-6.655x_2^{-0.039}-1.592x_3^{5.595}-0.387x_4^{-0.073} + 8.678\\right)\n",
      "  Finished run #2, loss 0.030519748106598854, best loss 0.030519748106598854\n",
      "  Initialization #3\n",
      "  Finished run #3, loss 0.0024875339586287737, best loss 0.0024875339586287737\n",
      "  Initialization #4\n",
      "  Finished run #4, loss 0.12089672684669495, best loss 0.0024875339586287737\n",
      "2 minutes 39 seconds passed from the start, the iteration took 1 minutes 3 seconds\n",
      "ground truth and obtained formula\n"
     ]
    },
    {
     "data": {
      "text/latex": [
       "$\\displaystyle 0.512x_{1}^{2.167}+1.062x_{2}^{1.333}-1.618x_{3}^{5.917}+0.234x_{4}^{4.5}+0.825$"
      ],
      "text/plain": [
       "<IPython.core.display.Math object>"
      ]
     },
     "metadata": {},
     "output_type": "display_data"
    },
    {
     "data": {
      "text/latex": [
       "$\\displaystyle \\left(0.513x_1^{2.236} + 1.056x_2^{1.315}-1.624x_3^{5.948}-0.539x_4^{-0.051} + 1.436\\right)$"
      ],
      "text/plain": [
       "<IPython.core.display.Math object>"
      ]
     },
     "metadata": {},
     "output_type": "display_data"
    },
    {
     "name": "stdout",
     "output_type": "stream",
     "text": [
      "MSE between formula parameters is 2.409908402194681\n",
      "FAILURE\n",
      "\n",
      "\n",
      "----------------------------Exploring new formula #5----------------------------\n",
      "  Initialization #1\n",
      "    Epoch 5000, current loss 0.000541, current formula \\left(-2.310x_1^{0.057}-1.707x_2^{3.511}-0.216x_3^{2.993} + 0.760x_4^{3.161} + 0.825\\right)\n",
      "  Finished run #1, loss 0.0005394443869590759, best loss 0.0005394443869590759\n",
      "  Initialization #2\n",
      "  Finished run #2, loss 0.001983054680749774, best loss 0.0005394443869590759\n",
      "  Initialization #3\n",
      "    Epoch 5000, current loss 0.00125, current formula \\left(1.568x_1^{-0.063}-1.707x_2^{3.513}-0.212x_3^{3.007} + 0.760x_4^{3.155}-3.036\\right)\n",
      "    Epoch 10000, current loss 0.00111, current formula \\left(2.405x_1^{-0.043}-1.707x_2^{3.513}-0.213x_3^{3.013} + 0.760x_4^{3.155}-3.876\\right)\n",
      "  Finished run #3, loss 0.0011076084338128567, best loss 0.0005394443869590759\n",
      "  Initialization #4\n",
      "  Finished run #4, loss 0.002600552514195442, best loss 0.0005394443869590759\n",
      "3 minutes 40 seconds passed from the start, the iteration took 1 minutes 1 seconds\n",
      "ground truth and obtained formula\n"
     ]
    },
    {
     "data": {
      "text/latex": [
       "$\\displaystyle -0.62x_{1}^{0.333}-1.705x_{2}^{3.5}-0.22x_{3}^{2.917}+0.758x_{4}^{3.167}-0.891$"
      ],
      "text/plain": [
       "<IPython.core.display.Math object>"
      ]
     },
     "metadata": {},
     "output_type": "display_data"
    },
    {
     "data": {
      "text/latex": [
       "$\\displaystyle \\left(-2.297x_1^{0.058}-1.707x_2^{3.511}-0.216x_3^{2.992} + 0.760x_4^{3.161} + 0.812\\right)$"
      ],
      "text/plain": [
       "<IPython.core.display.Math object>"
      ]
     },
     "metadata": {},
     "output_type": "display_data"
    },
    {
     "name": "stdout",
     "output_type": "stream",
     "text": [
      "MSE between formula parameters is 0.6438943612612393\n",
      "FAILURE\n",
      "\n",
      "################################################################################\n",
      "MSEs between parameters:\n",
      "[1.0796828952345197, 1.2780035269006769, 8.815118659713209e-09, 2.409908402194681, 0.6438943612612393]\n",
      "For 1 formulas out of 5 the error is less than 1e-05.\n"
     ]
    }
   ],
   "source": [
    "for j in range(2):\n",
    "    results = {}\n",
    "    for m_samples in [10, 100, 1000]:\n",
    "        results[m_samples] = {}\n",
    "        for n_variables in range(2, 5):\n",
    "            results[m_samples][n_variables] = []\n",
    "            i = 0\n",
    "            for min_power, max_power, divide_powers_by in ((1, 6, 1),\n",
    "                                                           (1, 12, 2), (1, 72,\n",
    "                                                                        12)):\n",
    "                recoveries = explore.explore(n_variables=n_variables,\n",
    "                                             m_samples=m_samples,\n",
    "                                             number_of_tested_formulas=5,\n",
    "                                             min_power=min_power,\n",
    "                                             max_power=max_power,\n",
    "                                             divide_powers_by=divide_powers_by)\n",
    "                results[m_samples][n_variables].append(recoveries / 5)\n",
    "                i += 1\n",
    "\n",
    "    with open(\"results\" + str(j + 76) + \".pkl\", \"wb\") as fout:\n",
    "        pickle.dump(results, fout)"
   ]
  },
  {
   "cell_type": "code",
   "execution_count": null,
   "metadata": {},
   "outputs": [],
   "source": []
  }
 ],
 "metadata": {
  "accelerator": "GPU",
  "colab": {
   "name": "demonstration.ipynb",
   "provenance": []
  },
  "kernelspec": {
   "display_name": "Python 3",
   "language": "python",
   "name": "python3"
  },
  "language_info": {
   "codemirror_mode": {
    "name": "ipython",
    "version": 3
   },
   "file_extension": ".py",
   "mimetype": "text/x-python",
   "name": "python",
   "nbconvert_exporter": "python",
   "pygments_lexer": "ipython3",
   "version": "3.6.9"
  },
  "toc": {
   "base_numbering": 1,
   "nav_menu": {},
   "number_sections": true,
   "sideBar": true,
   "skip_h1_title": false,
   "title_cell": "Table of Contents",
   "title_sidebar": "Contents",
   "toc_cell": false,
   "toc_position": {},
   "toc_section_display": true,
   "toc_window_display": false
  },
  "varInspector": {
   "cols": {
    "lenName": 16,
    "lenType": 16,
    "lenVar": 40
   },
   "kernels_config": {
    "python": {
     "delete_cmd_postfix": "",
     "delete_cmd_prefix": "del ",
     "library": "var_list.py",
     "varRefreshCmd": "print(var_dic_list())"
    },
    "r": {
     "delete_cmd_postfix": ") ",
     "delete_cmd_prefix": "rm(",
     "library": "var_list.r",
     "varRefreshCmd": "cat(var_dic_list()) "
    }
   },
   "types_to_exclude": [
    "module",
    "function",
    "builtin_function_or_method",
    "instance",
    "_Feature"
   ],
   "window_display": false
  }
 },
 "nbformat": 4,
 "nbformat_minor": 1
}
