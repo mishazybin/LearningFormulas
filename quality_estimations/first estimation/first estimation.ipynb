{
 "cells": [
  {
   "cell_type": "code",
   "execution_count": 4,
   "metadata": {},
   "outputs": [],
   "source": [
    "import sys\n",
    "from os.path import dirname\n",
    "current_location = sys.path[0]\n",
    "sys.path.append(dirname(dirname(current_location)) + \"/lib\")\n",
    "sys.path.append(dirname(current_location) + \"/lib\")"
   ]
  },
  {
   "cell_type": "code",
   "execution_count": 7,
   "metadata": {},
   "outputs": [],
   "source": [
    "import numpy as np\n",
    "import pandas as pd\n",
    "from matplotlib import pyplot as plt\n",
    "import matplotlib.patches as mpatches\n",
    "\n",
    "from sklearn.metrics import mean_squared_error\n",
    "from torch.nn import MSELoss\n",
    "import torch\n",
    "import torch.nn as nn\n",
    "import torch.nn.functional as F\n",
    "import torch.optim as optim\n",
    "import copy\n",
    "import time\n",
    "from IPython.display import display, Math, Latex\n",
    "\n",
    "import pickle\n",
    "import nested_formula\n",
    "import explore\n",
    "import auxiliary_functions\n",
    "\n",
    "device = torch.device(\"cpu\")\n",
    "if torch.cuda.is_available():\n",
    "    device = torch.device(\"cuda\")"
   ]
  },
  {
   "cell_type": "markdown",
   "metadata": {},
   "source": [
    "## Linear combination of 3 variables and bias with standard-normally distributed coefficients"
   ]
  },
  {
   "cell_type": "code",
   "execution_count": 32,
   "metadata": {
    "collapsed": true
   },
   "outputs": [
    {
     "name": "stdout",
     "output_type": "stream",
     "text": [
      "\n",
      "\n",
      "----------------------------Exploring new formula #1----------------------------\n",
      "  Initialization #1\n",
      "    Epoch 5000, current loss 0.0449, current formula \\left(-11.424x_1^{-0.027} + 10.731x_2^{-0.015} + 0.915x_3^{1.071} + 0.819\\right)\n",
      "  Finished run #1, loss 0.04426300898194313, best loss 0.04426300898194313\n",
      "  Initialization #2\n",
      "  Finished run #2, loss 0.011057988740503788, best loss 0.011057988740503788\n",
      "  Initialization #3\n",
      "  Finished run #3, loss 7.58524076882594e-10, best loss 7.58524076882594e-10\n",
      "loss is smaller than 1e-05, terminating learning process\n",
      "38 seconds passed from the start, the iteration took 38 seconds\n",
      "ground truth and obtained formula\n"
     ]
    },
    {
     "data": {
      "text/latex": [
       "$\\displaystyle 1.276x_{1}^{1}-0.65x_{2}^{1}+0.9x_{3}^{1}-0.344$"
      ],
      "text/plain": [
       "<IPython.core.display.Math object>"
      ]
     },
     "metadata": {},
     "output_type": "display_data"
    },
    {
     "data": {
      "text/latex": [
       "$\\displaystyle \\left(1.276x_1^{1.000}-0.650x_2^{1.000} + 0.900x_3^{1.000}-0.344\\right)$"
      ],
      "text/plain": [
       "<IPython.core.display.Math object>"
      ]
     },
     "metadata": {},
     "output_type": "display_data"
    },
    {
     "name": "stdout",
     "output_type": "stream",
     "text": [
      "MSE between formula parameters is 1.2181853367313319e-08\n",
      "EXACT RECOVERY\n",
      "\n",
      "\n",
      "----------------------------Exploring new formula #2----------------------------\n",
      "  Initialization #1\n",
      "  Finished run #1, loss 0.01343916542828083, best loss 0.01343916542828083\n",
      "  Initialization #2\n",
      "  Finished run #2, loss 0.0015267726266756654, best loss 0.0015267726266756654\n",
      "  Initialization #3\n",
      "  Finished run #3, loss 0.013873125426471233, best loss 0.0015267726266756654\n",
      "  Initialization #4\n",
      "  Finished run #4, loss 0.011437230743467808, best loss 0.0015267726266756654\n",
      "  Initialization #5\n",
      "  Finished run #5, loss 0.00028848694637417793, best loss 0.00028848694637417793\n",
      "  Initialization #6\n",
      "  Finished run #6, loss 0.011361205950379372, best loss 0.00028848694637417793\n",
      "  Initialization #7\n",
      "  Finished run #7, loss 0.012482903897762299, best loss 0.00028848694637417793\n",
      "  Initialization #8\n",
      "    Epoch 5000, current loss 0.00934, current formula \\left(5.719x_1^{-0.029}-0.210x_2^{1.102} + 1.330x_3^{-0.024}-6.305\\right)\n",
      "  Finished run #8, loss 0.00918937474489212, best loss 0.00028848694637417793\n",
      "  Initialization #9\n",
      "  Finished run #9, loss 0.011318389326334, best loss 0.00028848694637417793\n",
      "  Initialization #10\n",
      "  Finished run #10, loss 0.00027836591470986605, best loss 0.00027836591470986605\n",
      "1 minutes 34 seconds passed from the start, the iteration took 56 seconds\n",
      "ground truth and obtained formula\n"
     ]
    },
    {
     "data": {
      "text/latex": [
       "$\\displaystyle -0.675x_{1}^{1}-0.208x_{2}^{1}-0.127x_{3}^{1}+1.352$"
      ],
      "text/plain": [
       "<IPython.core.display.Math object>"
      ]
     },
     "metadata": {},
     "output_type": "display_data"
    },
    {
     "data": {
      "text/latex": [
       "$\\displaystyle \\left(-0.674x_1^{0.997}-0.211x_2^{0.978}-1.659x_3^{0.021} + 2.916\\right)$"
      ],
      "text/plain": [
       "<IPython.core.display.Math object>"
      ]
     },
     "metadata": {},
     "output_type": "display_data"
    },
    {
     "name": "stdout",
     "output_type": "stream",
     "text": [
      "MSE between formula parameters is 0.8217513293213506\n",
      "FAILURE\n",
      "\n",
      "\n",
      "----------------------------Exploring new formula #3----------------------------\n",
      "  Initialization #1\n",
      "  Finished run #1, loss 0.0004741509328596294, best loss 0.0004741509328596294\n",
      "  Initialization #2\n",
      "  Finished run #2, loss 0.00046852396917529404, best loss 0.00046852396917529404\n",
      "  Initialization #3\n",
      "  Finished run #3, loss 0.000554167025256902, best loss 0.00046852396917529404\n",
      "  Initialization #4\n",
      "  Finished run #4, loss 2.823388856043607e-09, best loss 2.823388856043607e-09\n",
      "loss is smaller than 1e-05, terminating learning process\n",
      "1 minutes 49 seconds passed from the start, the iteration took 15 seconds\n",
      "ground truth and obtained formula\n"
     ]
    },
    {
     "data": {
      "text/latex": [
       "$\\displaystyle -0.58x_{1}^{1}-1.201x_{2}^{1}+0.161x_{3}^{1}-1.495$"
      ],
      "text/plain": [
       "<IPython.core.display.Math object>"
      ]
     },
     "metadata": {},
     "output_type": "display_data"
    },
    {
     "data": {
      "text/latex": [
       "$\\displaystyle \\left(-0.580x_1^{1.000}-1.201x_2^{1.000} + 0.161x_3^{1.002}-1.495\\right)$"
      ],
      "text/plain": [
       "<IPython.core.display.Math object>"
      ]
     },
     "metadata": {},
     "output_type": "display_data"
    },
    {
     "name": "stdout",
     "output_type": "stream",
     "text": [
      "MSE between formula parameters is 7.0111635002463e-07\n",
      "EXACT RECOVERY\n",
      "\n",
      "\n",
      "----------------------------Exploring new formula #4----------------------------\n",
      "  Initialization #1\n",
      "  Finished run #1, loss 7.996097672879898e-10, best loss 7.996097672879898e-10\n",
      "loss is smaller than 1e-05, terminating learning process\n",
      "1 minutes 51 seconds passed from the start, the iteration took 2 seconds\n",
      "ground truth and obtained formula\n"
     ]
    },
    {
     "data": {
      "text/latex": [
       "$\\displaystyle 0.571x_{1}^{1}-0.64x_{2}^{1}-0.373x_{3}^{1}+0.536$"
      ],
      "text/plain": [
       "<IPython.core.display.Math object>"
      ]
     },
     "metadata": {},
     "output_type": "display_data"
    },
    {
     "data": {
      "text/latex": [
       "$\\displaystyle \\left(0.571x_1^{1.000}-0.640x_2^{1.000}-0.373x_3^{1.000} + 0.536\\right)$"
      ],
      "text/plain": [
       "<IPython.core.display.Math object>"
      ]
     },
     "metadata": {},
     "output_type": "display_data"
    },
    {
     "name": "stdout",
     "output_type": "stream",
     "text": [
      "MSE between formula parameters is 5.000738325021205e-08\n",
      "EXACT RECOVERY\n",
      "\n",
      "\n",
      "----------------------------Exploring new formula #5----------------------------\n",
      "  Initialization #1\n",
      "    Epoch 5000, current loss 0.119, current formula \\left(0.060x_1^{5.802}-9.050x_2^{-0.051}-1.181x_3^{0.991} + 9.822\\right)\n",
      "    Epoch 10000, current loss 0.114, current formula \\left(0.059x_1^{5.951}-14.402x_2^{-0.034}-1.188x_3^{0.977} + 15.199\\right)\n",
      "  Finished run #1, loss 0.11366713047027588, best loss 0.11366713047027588\n",
      "  Initialization #2\n",
      "  Finished run #2, loss 2.2134427624109776e-08, best loss 2.2134427624109776e-08\n",
      "loss is smaller than 1e-05, terminating learning process\n",
      "2 minutes 32 seconds passed from the start, the iteration took 41 seconds\n",
      "ground truth and obtained formula\n"
     ]
    },
    {
     "data": {
      "text/latex": [
       "$\\displaystyle -0.065x_{1}^{1}+2.196x_{2}^{1}-1.213x_{3}^{1}-0.766$"
      ],
      "text/plain": [
       "<IPython.core.display.Math object>"
      ]
     },
     "metadata": {},
     "output_type": "display_data"
    },
    {
     "data": {
      "text/latex": [
       "$\\displaystyle \\left(-0.065x_1^{0.993} + 2.195x_2^{1.000}-1.213x_3^{0.999}-0.765\\right)$"
      ],
      "text/plain": [
       "<IPython.core.display.Math object>"
      ]
     },
     "metadata": {},
     "output_type": "display_data"
    },
    {
     "name": "stdout",
     "output_type": "stream",
     "text": [
      "MSE between formula parameters is 6.7070178810246794e-06\n",
      "EXACT RECOVERY\n",
      "\n",
      "\n",
      "----------------------------Exploring new formula #6----------------------------\n",
      "  Initialization #1\n",
      "  Finished run #1, loss 3.651099422796733e-09, best loss 3.651099422796733e-09\n",
      "loss is smaller than 1e-05, terminating learning process\n",
      "2 minutes 34 seconds passed from the start, the iteration took 2 seconds\n",
      "ground truth and obtained formula\n"
     ]
    },
    {
     "data": {
      "text/latex": [
       "$\\displaystyle -0.423x_{1}^{1}-0.364x_{2}^{1}-0.849x_{3}^{1}-0.66$"
      ],
      "text/plain": [
       "<IPython.core.display.Math object>"
      ]
     },
     "metadata": {},
     "output_type": "display_data"
    },
    {
     "data": {
      "text/latex": [
       "$\\displaystyle \\left(-0.424x_1^{1.000}-0.365x_2^{0.999}-0.849x_3^{1.000}-0.660\\right)$"
      ],
      "text/plain": [
       "<IPython.core.display.Math object>"
      ]
     },
     "metadata": {},
     "output_type": "display_data"
    },
    {
     "name": "stdout",
     "output_type": "stream",
     "text": [
      "MSE between formula parameters is 3.073016812444556e-07\n",
      "EXACT RECOVERY\n",
      "\n",
      "\n",
      "----------------------------Exploring new formula #7----------------------------\n",
      "  Initialization #1\n",
      "  Finished run #1, loss 0.012222030200064182, best loss 0.012222030200064182\n",
      "  Initialization #2\n",
      "  Finished run #2, loss 2.1197285704488422e-08, best loss 2.1197285704488422e-08\n",
      "loss is smaller than 1e-05, terminating learning process\n",
      "2 minutes 38 seconds passed from the start, the iteration took 3 seconds\n",
      "ground truth and obtained formula\n"
     ]
    },
    {
     "data": {
      "text/latex": [
       "$\\displaystyle 0.847x_{1}^{1}+0.59x_{2}^{1}+0.205x_{3}^{1}+1.124$"
      ],
      "text/plain": [
       "<IPython.core.display.Math object>"
      ]
     },
     "metadata": {},
     "output_type": "display_data"
    },
    {
     "data": {
      "text/latex": [
       "$\\displaystyle \\left(0.847x_1^{0.999} + 0.590x_2^{0.999} + 0.206x_3^{0.996} + 1.123\\right)$"
      ],
      "text/plain": [
       "<IPython.core.display.Math object>"
      ]
     },
     "metadata": {},
     "output_type": "display_data"
    },
    {
     "name": "stdout",
     "output_type": "stream",
     "text": [
      "MSE between formula parameters is 3.166313272906507e-06\n",
      "EXACT RECOVERY\n",
      "\n",
      "\n",
      "----------------------------Exploring new formula #8----------------------------\n",
      "  Initialization #1\n",
      "  Finished run #1, loss 5.693628679637186e-09, best loss 5.693628679637186e-09\n",
      "loss is smaller than 1e-05, terminating learning process\n",
      "2 minutes 40 seconds passed from the start, the iteration took 2 seconds\n",
      "ground truth and obtained formula\n"
     ]
    },
    {
     "data": {
      "text/latex": [
       "$\\displaystyle -0.68x_{1}^{1}+0.608x_{2}^{1}-0.857x_{3}^{1}+0.342$"
      ],
      "text/plain": [
       "<IPython.core.display.Math object>"
      ]
     },
     "metadata": {},
     "output_type": "display_data"
    },
    {
     "data": {
      "text/latex": [
       "$\\displaystyle \\left(-0.679x_1^{1.001} + 0.608x_2^{0.999}-0.857x_3^{1.001} + 0.341\\right)$"
      ],
      "text/plain": [
       "<IPython.core.display.Math object>"
      ]
     },
     "metadata": {},
     "output_type": "display_data"
    },
    {
     "name": "stdout",
     "output_type": "stream",
     "text": [
      "MSE between formula parameters is 1.9255488898599943e-07\n",
      "EXACT RECOVERY\n",
      "\n",
      "\n",
      "----------------------------Exploring new formula #9----------------------------\n",
      "  Initialization #1\n",
      "  Finished run #1, loss 0.0002396345662418753, best loss 0.0002396345662418753\n",
      "  Initialization #2\n",
      "  Finished run #2, loss 0.0001678973058005795, best loss 0.0001678973058005795\n",
      "  Initialization #3\n",
      "  Finished run #3, loss 0.002253648592159152, best loss 0.0001678973058005795\n",
      "  Initialization #4\n",
      "  Finished run #4, loss 0.0036190208047628403, best loss 0.0001678973058005795\n",
      "  Initialization #5\n",
      "  Finished run #5, loss 4.4747611172013535e-10, best loss 4.4747611172013535e-10\n",
      "loss is smaller than 1e-05, terminating learning process\n",
      "2 minutes 52 seconds passed from the start, the iteration took 13 seconds\n",
      "ground truth and obtained formula\n"
     ]
    },
    {
     "data": {
      "text/latex": [
       "$\\displaystyle 2.421x_{1}^{1}-0.371x_{2}^{1}+0.112x_{3}^{1}-1.21$"
      ],
      "text/plain": [
       "<IPython.core.display.Math object>"
      ]
     },
     "metadata": {},
     "output_type": "display_data"
    },
    {
     "data": {
      "text/latex": [
       "$\\displaystyle \\left(2.421x_1^{1.000}-0.371x_2^{1.000} + 0.112x_3^{1.001}-1.210\\right)$"
      ],
      "text/plain": [
       "<IPython.core.display.Math object>"
      ]
     },
     "metadata": {},
     "output_type": "display_data"
    },
    {
     "name": "stdout",
     "output_type": "stream",
     "text": [
      "MSE between formula parameters is 2.1145637650400927e-07\n",
      "EXACT RECOVERY\n",
      "\n",
      "\n",
      "----------------------------Exploring new formula #10----------------------------\n",
      "  Initialization #1\n",
      "  Finished run #1, loss 0.012512505054473877, best loss 0.012512505054473877\n",
      "  Initialization #2\n",
      "  Finished run #2, loss 0.011847813613712788, best loss 0.011847813613712788\n",
      "  Initialization #3\n",
      "  Finished run #3, loss 0.04677753150463104, best loss 0.011847813613712788\n",
      "  Initialization #4\n",
      "  Finished run #4, loss 2.9658236977425645e-10, best loss 2.9658236977425645e-10\n",
      "loss is smaller than 1e-05, terminating learning process\n",
      "3 minutes 6 seconds passed from the start, the iteration took 13 seconds\n",
      "ground truth and obtained formula\n"
     ]
    },
    {
     "data": {
      "text/latex": [
       "$\\displaystyle 0.744x_{1}^{1}-0.694x_{2}^{1}-0.945x_{3}^{1}+0.209$"
      ],
      "text/plain": [
       "<IPython.core.display.Math object>"
      ]
     },
     "metadata": {},
     "output_type": "display_data"
    },
    {
     "data": {
      "text/latex": [
       "$\\displaystyle \\left(0.744x_1^{1.000}-0.694x_2^{1.000}-0.945x_3^{1.000} + 0.209\\right)$"
      ],
      "text/plain": [
       "<IPython.core.display.Math object>"
      ]
     },
     "metadata": {},
     "output_type": "display_data"
    },
    {
     "name": "stdout",
     "output_type": "stream",
     "text": [
      "MSE between formula parameters is 7.622096477786857e-09\n",
      "EXACT RECOVERY\n",
      "\n",
      "################################################################################\n",
      "MSEs between parameters:\n",
      "[1.2181853367313319e-08, 0.8217513293213506, 7.0111635002463e-07, 5.000738325021205e-08, 6.7070178810246794e-06, 3.073016812444556e-07, 3.166313272906507e-06, 1.9255488898599943e-07, 2.1145637650400927e-07, 7.622096477786857e-09]\n",
      "For 9 formulas out of 10 the error is less than 1e-05.\n"
     ]
    }
   ],
   "source": [
    "explore.explore()"
   ]
  },
  {
   "cell_type": "markdown",
   "metadata": {},
   "source": [
    "## Linear combination of 3 squared variables and bias with standard-normally distributed coefficients"
   ]
  },
  {
   "cell_type": "code",
   "execution_count": 11,
   "metadata": {
    "collapsed": true
   },
   "outputs": [
    {
     "name": "stdout",
     "output_type": "stream",
     "text": [
      "\n",
      "\n",
      "----------------------------Exploring new formula #1----------------------------\n",
      "  Initialization #1\n",
      "  Finished run #1, loss 0.19504092633724213, best loss 0.19504092633724213\n",
      "  Initialization #2\n",
      "  Finished run #2, loss 0.007013747934252024, best loss 0.007013747934252024\n",
      "  Initialization #3\n",
      "  Finished run #3, loss 0.009375261142849922, best loss 0.007013747934252024\n",
      "  Initialization #4\n",
      "  Finished run #4, loss 0.009800040163099766, best loss 0.007013747934252024\n",
      "  Initialization #5\n",
      "  Finished run #5, loss 1.8762023185070476e-12, best loss 1.8762023185070476e-12\n",
      "loss is smaller than 0.001, terminating learning process\n",
      "15 seconds passed from the start, the iteration took 15 seconds\n",
      "ground truth and obtained formula\n"
     ]
    },
    {
     "data": {
      "text/latex": [
       "$\\displaystyle -2.118x_{1}^{2}-2.121x_{2}^{2}+0.462x_{3}^{2}+0.852$"
      ],
      "text/plain": [
       "<IPython.core.display.Math object>"
      ]
     },
     "metadata": {},
     "output_type": "display_data"
    },
    {
     "data": {
      "text/latex": [
       "$\\displaystyle \\left(-2.118x_1^{2.000}-2.121x_2^{2.000} + 0.462x_3^{2.000} + 0.852\\right)$"
      ],
      "text/plain": [
       "<IPython.core.display.Math object>"
      ]
     },
     "metadata": {},
     "output_type": "display_data"
    },
    {
     "name": "stdout",
     "output_type": "stream",
     "text": [
      "MSE between formula parameters is 6.69699216717033e-12\n",
      "EXACT RECOVERY\n",
      "\n",
      "\n",
      "----------------------------Exploring new formula #2----------------------------\n",
      "  Initialization #1\n",
      "  Finished run #1, loss 3.5127137743701242e-12, best loss 3.5127137743701242e-12\n",
      "loss is smaller than 0.001, terminating learning process\n",
      "16 seconds passed from the start, the iteration took 1 seconds\n",
      "ground truth and obtained formula\n"
     ]
    },
    {
     "data": {
      "text/latex": [
       "$\\displaystyle -0.787x_{1}^{2}-0.506x_{2}^{2}-1.607x_{3}^{2}+1.722$"
      ],
      "text/plain": [
       "<IPython.core.display.Math object>"
      ]
     },
     "metadata": {},
     "output_type": "display_data"
    },
    {
     "data": {
      "text/latex": [
       "$\\displaystyle \\left(-0.787x_1^{2.000}-0.506x_2^{2.000}-1.607x_3^{2.000} + 1.722\\right)$"
      ],
      "text/plain": [
       "<IPython.core.display.Math object>"
      ]
     },
     "metadata": {},
     "output_type": "display_data"
    },
    {
     "name": "stdout",
     "output_type": "stream",
     "text": [
      "MSE between formula parameters is 7.412026548081485e-11\n",
      "EXACT RECOVERY\n",
      "\n",
      "\n",
      "----------------------------Exploring new formula #3----------------------------\n",
      "  Initialization #1\n",
      "  Finished run #1, loss 0.1483605057001114, best loss 0.1483605057001114\n",
      "  Initialization #2\n",
      "  Finished run #2, loss 0.02518836408853531, best loss 0.02518836408853531\n",
      "  Initialization #3\n",
      "  Finished run #3, loss 1.3154793226943795e-11, best loss 1.3154793226943795e-11\n",
      "loss is smaller than 0.001, terminating learning process\n",
      "32 seconds passed from the start, the iteration took 15 seconds\n",
      "ground truth and obtained formula\n"
     ]
    },
    {
     "data": {
      "text/latex": [
       "$\\displaystyle -1.043x_{1}^{2}-1.52x_{2}^{2}-0.755x_{3}^{2}-0.242$"
      ],
      "text/plain": [
       "<IPython.core.display.Math object>"
      ]
     },
     "metadata": {},
     "output_type": "display_data"
    },
    {
     "data": {
      "text/latex": [
       "$\\displaystyle \\left(-1.043x_1^{2.000}-1.520x_2^{2.000}-0.755x_3^{2.000}-0.242\\right)$"
      ],
      "text/plain": [
       "<IPython.core.display.Math object>"
      ]
     },
     "metadata": {},
     "output_type": "display_data"
    },
    {
     "name": "stdout",
     "output_type": "stream",
     "text": [
      "MSE between formula parameters is 3.558649565503304e-10\n",
      "EXACT RECOVERY\n",
      "\n",
      "\n",
      "----------------------------Exploring new formula #4----------------------------\n",
      "  Initialization #1\n",
      "  Finished run #1, loss 1.5556061647159503e-11, best loss 1.5556061647159503e-11\n",
      "loss is smaller than 0.001, terminating learning process\n",
      "33 seconds passed from the start, the iteration took 2 seconds\n",
      "ground truth and obtained formula\n"
     ]
    },
    {
     "data": {
      "text/latex": [
       "$\\displaystyle -0.549x_{1}^{2}+0.916x_{2}^{2}+1.277x_{3}^{2}+0.891$"
      ],
      "text/plain": [
       "<IPython.core.display.Math object>"
      ]
     },
     "metadata": {},
     "output_type": "display_data"
    },
    {
     "data": {
      "text/latex": [
       "$\\displaystyle \\left(-0.549x_1^{2.000} + 0.916x_2^{2.000} + 1.277x_3^{2.000} + 0.891\\right)$"
      ],
      "text/plain": [
       "<IPython.core.display.Math object>"
      ]
     },
     "metadata": {},
     "output_type": "display_data"
    },
    {
     "name": "stdout",
     "output_type": "stream",
     "text": [
      "MSE between formula parameters is 4.6123866630815817e-10\n",
      "EXACT RECOVERY\n",
      "\n",
      "\n",
      "----------------------------Exploring new formula #5----------------------------\n",
      "  Initialization #1\n",
      "  Finished run #1, loss 0.0013860539766028523, best loss 0.0013860539766028523\n",
      "  Initialization #2\n",
      "  Finished run #2, loss 0.0016387712676078081, best loss 0.0013860539766028523\n",
      "  Initialization #3\n",
      "  Finished run #3, loss 5.024526801566953e-12, best loss 5.024526801566953e-12\n",
      "loss is smaller than 0.001, terminating learning process\n",
      "38 seconds passed from the start, the iteration took 5 seconds\n",
      "ground truth and obtained formula\n"
     ]
    },
    {
     "data": {
      "text/latex": [
       "$\\displaystyle 0.11x_{1}^{2}-2.128x_{2}^{2}+0.169x_{3}^{2}-0.251$"
      ],
      "text/plain": [
       "<IPython.core.display.Math object>"
      ]
     },
     "metadata": {},
     "output_type": "display_data"
    },
    {
     "data": {
      "text/latex": [
       "$\\displaystyle \\left(0.110x_1^{2.000}-2.128x_2^{2.000} + 0.169x_3^{2.000}-0.251\\right)$"
      ],
      "text/plain": [
       "<IPython.core.display.Math object>"
      ]
     },
     "metadata": {},
     "output_type": "display_data"
    },
    {
     "name": "stdout",
     "output_type": "stream",
     "text": [
      "MSE between formula parameters is 3.520428805612953e-09\n",
      "EXACT RECOVERY\n",
      "\n",
      "\n",
      "----------------------------Exploring new formula #6----------------------------\n",
      "  Initialization #1\n",
      "  Finished run #1, loss 0.03510764613747597, best loss 0.03510764613747597\n",
      "  Initialization #2\n",
      "  Finished run #2, loss 0.03426942229270935, best loss 0.03426942229270935\n",
      "  Initialization #3\n",
      "  Finished run #3, loss 0.035176824778318405, best loss 0.03426942229270935\n",
      "  Initialization #4\n",
      "  Finished run #4, loss 0.023263581097126007, best loss 0.023263581097126007\n",
      "  Initialization #5\n",
      "    Epoch 5000, current loss 0.054, current formula \\left(0.879x_1^{1.832}-8.612x_2^{-0.023} + 8.933x_3^{-0.019}-1.041\\right)\n",
      "    Epoch 10000, current loss 0.0535, current formula \\left(0.879x_1^{1.835}-12.666x_2^{-0.016} + 12.986x_3^{-0.013}-1.041\\right)\n",
      "  Finished run #5, loss 0.05348413810133934, best loss 0.023263581097126007\n",
      "  Initialization #6\n",
      "  Finished run #6, loss 8.06729336111367e-12, best loss 8.06729336111367e-12\n",
      "loss is smaller than 0.001, terminating learning process\n",
      "1 minutes 29 seconds passed from the start, the iteration took 51 seconds\n",
      "ground truth and obtained formula\n"
     ]
    },
    {
     "data": {
      "text/latex": [
       "$\\displaystyle 0.917x_{1}^{2}+0.782x_{2}^{2}-0.866x_{3}^{2}-0.72$"
      ],
      "text/plain": [
       "<IPython.core.display.Math object>"
      ]
     },
     "metadata": {},
     "output_type": "display_data"
    },
    {
     "data": {
      "text/latex": [
       "$\\displaystyle \\left(0.917x_1^{2.000} + 0.782x_2^{2.000}-0.866x_3^{2.000}-0.720\\right)$"
      ],
      "text/plain": [
       "<IPython.core.display.Math object>"
      ]
     },
     "metadata": {},
     "output_type": "display_data"
    },
    {
     "name": "stdout",
     "output_type": "stream",
     "text": [
      "MSE between formula parameters is 3.1134510842483516e-10\n",
      "EXACT RECOVERY\n",
      "\n",
      "\n",
      "----------------------------Exploring new formula #7----------------------------\n",
      "  Initialization #1\n",
      "  Finished run #1, loss 0.010849709622561932, best loss 0.010849709622561932\n",
      "  Initialization #2\n",
      "  Finished run #2, loss 0.038911230862140656, best loss 0.010849709622561932\n",
      "  Initialization #3\n",
      "  Finished run #3, loss 0.009395286440849304, best loss 0.009395286440849304\n",
      "  Initialization #4\n",
      "  Finished run #4, loss 0.0017017177306115627, best loss 0.0017017177306115627\n",
      "  Initialization #5\n",
      "  Finished run #5, loss 0.03575057163834572, best loss 0.0017017177306115627\n",
      "  Initialization #6\n",
      "  Finished run #6, loss 0.011514522135257721, best loss 0.0017017177306115627\n",
      "  Initialization #7\n",
      "    Epoch 5000, current loss 0.0114, current formula \\left(-5.762x_1^{-0.020} + 0.945x_2^{1.895} + 3.524x_3^{-0.011} + 3.652\\right)\n",
      "  Finished run #7, loss 0.011352745816111565, best loss 0.0017017177306115627\n",
      "  Initialization #8\n",
      "  Finished run #8, loss 1.14887084221027e-11, best loss 1.14887084221027e-11\n",
      "loss is smaller than 0.001, terminating learning process\n",
      "2 minutes 46 seconds passed from the start, the iteration took 1 minutes 17 seconds\n",
      "ground truth and obtained formula\n"
     ]
    },
    {
     "data": {
      "text/latex": [
       "$\\displaystyle 0.517x_{1}^{2}+0.938x_{2}^{2}-0.182x_{3}^{2}+1.244$"
      ],
      "text/plain": [
       "<IPython.core.display.Math object>"
      ]
     },
     "metadata": {},
     "output_type": "display_data"
    },
    {
     "data": {
      "text/latex": [
       "$\\displaystyle \\left(0.517x_1^{2.000} + 0.938x_2^{2.000}-0.182x_3^{2.000} + 1.244\\right)$"
      ],
      "text/plain": [
       "<IPython.core.display.Math object>"
      ]
     },
     "metadata": {},
     "output_type": "display_data"
    },
    {
     "name": "stdout",
     "output_type": "stream",
     "text": [
      "MSE between formula parameters is 6.36695601003672e-09\n",
      "EXACT RECOVERY\n",
      "\n",
      "\n",
      "----------------------------Exploring new formula #8----------------------------\n",
      "  Initialization #1\n",
      "  Finished run #1, loss 0.00043949144310317934, best loss 0.00043949144310317934\n",
      "loss is smaller than 0.001, terminating learning process\n",
      "2 minutes 48 seconds passed from the start, the iteration took 2 seconds\n",
      "ground truth and obtained formula\n"
     ]
    },
    {
     "data": {
      "text/latex": [
       "$\\displaystyle -0.118x_{1}^{2}-0.574x_{2}^{2}-0.106x_{3}^{2}+2.927$"
      ],
      "text/plain": [
       "<IPython.core.display.Math object>"
      ]
     },
     "metadata": {},
     "output_type": "display_data"
    },
    {
     "data": {
      "text/latex": [
       "$\\displaystyle \\left(-0.118x_1^{1.944}-0.576x_2^{2.009} + 2.378x_3^{-0.010} + 0.491\\right)$"
      ],
      "text/plain": [
       "<IPython.core.display.Math object>"
      ]
     },
     "metadata": {},
     "output_type": "display_data"
    },
    {
     "name": "stdout",
     "output_type": "stream",
     "text": [
      "MSE between formula parameters is 2.306655452500273\n",
      "FAILURE\n",
      "\n",
      "\n",
      "----------------------------Exploring new formula #9----------------------------\n",
      "  Initialization #1\n",
      "  Finished run #1, loss 2.1731370175581688e-11, best loss 2.1731370175581688e-11\n",
      "loss is smaller than 0.001, terminating learning process\n",
      "2 minutes 50 seconds passed from the start, the iteration took 2 seconds\n",
      "ground truth and obtained formula\n"
     ]
    },
    {
     "data": {
      "text/latex": [
       "$\\displaystyle 1.098x_{1}^{2}+0.082x_{2}^{2}-1.988x_{3}^{2}-0.771$"
      ],
      "text/plain": [
       "<IPython.core.display.Math object>"
      ]
     },
     "metadata": {},
     "output_type": "display_data"
    },
    {
     "data": {
      "text/latex": [
       "$\\displaystyle \\left(1.098x_1^{2.000} + 0.082x_2^{1.999}-1.988x_3^{2.000}-0.771\\right)$"
      ],
      "text/plain": [
       "<IPython.core.display.Math object>"
      ]
     },
     "metadata": {},
     "output_type": "display_data"
    },
    {
     "name": "stdout",
     "output_type": "stream",
     "text": [
      "MSE between formula parameters is 7.782828465030533e-08\n",
      "EXACT RECOVERY\n",
      "\n",
      "\n",
      "----------------------------Exploring new formula #10----------------------------\n",
      "  Initialization #1\n",
      "  Finished run #1, loss 7.292567591465904e-12, best loss 7.292567591465904e-12\n",
      "loss is smaller than 0.001, terminating learning process\n",
      "2 minutes 55 seconds passed from the start, the iteration took 6 seconds\n",
      "ground truth and obtained formula\n"
     ]
    },
    {
     "data": {
      "text/latex": [
       "$\\displaystyle -0.726x_{1}^{2}-0.951x_{2}^{2}+0.516x_{3}^{2}-0.259$"
      ],
      "text/plain": [
       "<IPython.core.display.Math object>"
      ]
     },
     "metadata": {},
     "output_type": "display_data"
    },
    {
     "data": {
      "text/latex": [
       "$\\displaystyle \\left(-0.726x_1^{2.000}-0.951x_2^{2.000} + 0.516x_3^{2.000}-0.259\\right)$"
      ],
      "text/plain": [
       "<IPython.core.display.Math object>"
      ]
     },
     "metadata": {},
     "output_type": "display_data"
    },
    {
     "name": "stdout",
     "output_type": "stream",
     "text": [
      "MSE between formula parameters is 5.295644557788495e-10\n",
      "EXACT RECOVERY\n",
      "\n",
      "################################################################################\n",
      "MSEs between parameters:\n",
      "[6.69699216717033e-12, 7.412026548081485e-11, 3.558649565503304e-10, 4.6123866630815817e-10, 3.520428805612953e-09, 3.1134510842483516e-10, 6.36695601003672e-09, 2.306655452500273, 7.782828465030533e-08, 5.295644557788495e-10]\n",
      "For 9 formulas out of 10 the error is less than 1e-05.\n"
     ]
    }
   ],
   "source": [
    "explore(min_power=2, max_power=2)"
   ]
  },
  {
   "cell_type": "markdown",
   "metadata": {},
   "source": [
    "## Linear combination of 3 variables with powers uniformly distributed over {1, 2 ,3 ,4, 5} and standard-normally distributed coefficients"
   ]
  },
  {
   "cell_type": "code",
   "execution_count": 35,
   "metadata": {
    "collapsed": true
   },
   "outputs": [
    {
     "name": "stdout",
     "output_type": "stream",
     "text": [
      "\n",
      "\n",
      "----------------------------Exploring new formula #1----------------------------\n",
      "  Initialization #1\n",
      "  Finished run #1, loss 0.06304360181093216, best loss 0.06304360181093216\n",
      "  Initialization #2\n",
      "  Finished run #2, loss 0.004367060959339142, best loss 0.004367060959339142\n",
      "  Initialization #3\n",
      "  Finished run #3, loss 1.3601357019832339e-11, best loss 1.3601357019832339e-11\n",
      "loss is smaller than 1e-05, terminating learning process\n",
      "6 seconds passed from the start, the iteration took 6 seconds\n",
      "ground truth and obtained formula\n"
     ]
    },
    {
     "data": {
      "text/latex": [
       "$\\displaystyle -1.126x_{1}^{2}-1.236x_{2}^{2}+0.312x_{3}^{3}+0.729$"
      ],
      "text/plain": [
       "<IPython.core.display.Math object>"
      ]
     },
     "metadata": {},
     "output_type": "display_data"
    },
    {
     "data": {
      "text/latex": [
       "$\\displaystyle \\left(-1.126x_1^{2.000}-1.236x_2^{2.000} + 0.312x_3^{3.000} + 0.729\\right)$"
      ],
      "text/plain": [
       "<IPython.core.display.Math object>"
      ]
     },
     "metadata": {},
     "output_type": "display_data"
    },
    {
     "name": "stdout",
     "output_type": "stream",
     "text": [
      "MSE between formula parameters is 5.667260058065235e-09\n",
      "EXACT RECOVERY\n",
      "\n",
      "\n",
      "----------------------------Exploring new formula #2----------------------------\n",
      "  Initialization #1\n",
      "  Finished run #1, loss 0.08279216289520264, best loss 0.08279216289520264\n",
      "  Initialization #2\n",
      "  Finished run #2, loss 1.7293509289514897e-12, best loss 1.7293509289514897e-12\n",
      "loss is smaller than 1e-05, terminating learning process\n",
      "10 seconds passed from the start, the iteration took 4 seconds\n",
      "ground truth and obtained formula\n"
     ]
    },
    {
     "data": {
      "text/latex": [
       "$\\displaystyle -0.937x_{1}^{4}-0.922x_{2}^{4}+1.209x_{3}^{5}+1.655$"
      ],
      "text/plain": [
       "<IPython.core.display.Math object>"
      ]
     },
     "metadata": {},
     "output_type": "display_data"
    },
    {
     "data": {
      "text/latex": [
       "$\\displaystyle \\left(-0.937x_1^{4.000}-0.922x_2^{4.000} + 1.209x_3^{5.000} + 1.655\\right)$"
      ],
      "text/plain": [
       "<IPython.core.display.Math object>"
      ]
     },
     "metadata": {},
     "output_type": "display_data"
    },
    {
     "name": "stdout",
     "output_type": "stream",
     "text": [
      "MSE between formula parameters is 1.1465926620855628e-10\n",
      "EXACT RECOVERY\n",
      "\n",
      "\n",
      "----------------------------Exploring new formula #3----------------------------\n",
      "  Initialization #1\n",
      "  Finished run #1, loss 7.422276226791424e-13, best loss 7.422276226791424e-13\n",
      "loss is smaller than 1e-05, terminating learning process\n",
      "14 seconds passed from the start, the iteration took 4 seconds\n",
      "ground truth and obtained formula\n"
     ]
    },
    {
     "data": {
      "text/latex": [
       "$\\displaystyle -1.539x_{1}^{6}-1.276x_{2}^{3}-0.967x_{3}^{6}-0.346$"
      ],
      "text/plain": [
       "<IPython.core.display.Math object>"
      ]
     },
     "metadata": {},
     "output_type": "display_data"
    },
    {
     "data": {
      "text/latex": [
       "$\\displaystyle \\left(-1.539x_1^{6.000}-1.276x_2^{3.000}-0.967x_3^{6.000}-0.346\\right)$"
      ],
      "text/plain": [
       "<IPython.core.display.Math object>"
      ]
     },
     "metadata": {},
     "output_type": "display_data"
    },
    {
     "name": "stdout",
     "output_type": "stream",
     "text": [
      "MSE between formula parameters is 1.1858755247625855e-10\n",
      "EXACT RECOVERY\n",
      "\n",
      "\n",
      "----------------------------Exploring new formula #4----------------------------\n",
      "  Initialization #1\n",
      "  Finished run #1, loss 0.002982549136504531, best loss 0.002982549136504531\n",
      "  Initialization #2\n",
      "  Finished run #2, loss 0.033160265535116196, best loss 0.002982549136504531\n",
      "  Initialization #3\n",
      "  Finished run #3, loss 0.09207728505134583, best loss 0.002982549136504531\n",
      "  Initialization #4\n",
      "  Finished run #4, loss 0.03271259367465973, best loss 0.002982549136504531\n",
      "  Initialization #5\n",
      "  Finished run #5, loss 0.0027095582336187363, best loss 0.0027095582336187363\n",
      "  Initialization #6\n",
      "  Finished run #6, loss 2.9511610169508096e-12, best loss 2.9511610169508096e-12\n",
      "loss is smaller than 1e-05, terminating learning process\n",
      "36 seconds passed from the start, the iteration took 22 seconds\n",
      "ground truth and obtained formula\n"
     ]
    },
    {
     "data": {
      "text/latex": [
       "$\\displaystyle 1.452x_{1}^{4}-0.316x_{2}^{1}-0.89x_{3}^{6}-1.062$"
      ],
      "text/plain": [
       "<IPython.core.display.Math object>"
      ]
     },
     "metadata": {},
     "output_type": "display_data"
    },
    {
     "data": {
      "text/latex": [
       "$\\displaystyle \\left(1.452x_1^{4.000}-0.316x_2^{1.000}-0.890x_3^{6.000}-1.062\\right)$"
      ],
      "text/plain": [
       "<IPython.core.display.Math object>"
      ]
     },
     "metadata": {},
     "output_type": "display_data"
    },
    {
     "name": "stdout",
     "output_type": "stream",
     "text": [
      "MSE between formula parameters is 3.3764445208005004e-10\n",
      "EXACT RECOVERY\n",
      "\n",
      "\n",
      "----------------------------Exploring new formula #5----------------------------\n",
      "  Initialization #1\n",
      "    Epoch 5000, current loss 0.0621, current formula \\left(-7.449x_1^{-0.011}-0.163x_2^{3.560} + 6.996x_3^{-0.015} + 0.764\\right)\n",
      "  Finished run #1, loss 0.06207393482327461, best loss 0.06207393482327461\n",
      "  Initialization #2\n",
      "    Epoch 5000, current loss 0.0622, current formula \\left(-7.718x_1^{-0.011}-0.163x_2^{3.565} + 6.194x_3^{-0.017} + 1.836\\right)\n",
      "  Finished run #2, loss 0.06211938336491585, best loss 0.06207393482327461\n",
      "  Initialization #3\n",
      "  Finished run #3, loss 1.208213824127613e-11, best loss 1.208213824127613e-11\n",
      "loss is smaller than 1e-05, terminating learning process\n",
      "1 minutes 25 seconds passed from the start, the iteration took 49 seconds\n",
      "ground truth and obtained formula\n"
     ]
    },
    {
     "data": {
      "text/latex": [
       "$\\displaystyle 0.526x_{1}^{4}-0.143x_{2}^{2}-1.118x_{3}^{6}+0.4$"
      ],
      "text/plain": [
       "<IPython.core.display.Math object>"
      ]
     },
     "metadata": {},
     "output_type": "display_data"
    },
    {
     "data": {
      "text/latex": [
       "$\\displaystyle \\left(0.526x_1^{4.000}-0.143x_2^{2.000}-1.118x_3^{6.000} + 0.400\\right)$"
      ],
      "text/plain": [
       "<IPython.core.display.Math object>"
      ]
     },
     "metadata": {},
     "output_type": "display_data"
    },
    {
     "name": "stdout",
     "output_type": "stream",
     "text": [
      "MSE between formula parameters is 1.4469741119579486e-08\n",
      "EXACT RECOVERY\n",
      "\n",
      "\n",
      "----------------------------Exploring new formula #6----------------------------\n",
      "  Initialization #1\n",
      "  Finished run #1, loss 0.08188065886497498, best loss 0.08188065886497498\n",
      "  Initialization #2\n",
      "    Epoch 5000, current loss 0.182, current formula \\left(-9.522x_1^{-0.026} + 1.402x_2^{4.533} + 2.577x_3^{0.022} + 8.277\\right)\n",
      "  Finished run #2, loss 0.18087251484394073, best loss 0.08188065886497498\n",
      "  Initialization #3\n",
      "  Finished run #3, loss 0.0822642371058464, best loss 0.08188065886497498\n",
      "  Initialization #4\n",
      "  Finished run #4, loss 2.086057455247259e-12, best loss 2.086057455247259e-12\n",
      "loss is smaller than 1e-05, terminating learning process\n",
      "2 minutes 3 seconds passed from the start, the iteration took 38 seconds\n",
      "ground truth and obtained formula\n"
     ]
    },
    {
     "data": {
      "text/latex": [
       "$\\displaystyle 1.963x_{1}^{5}+1.38x_{2}^{5}+0.423x_{3}^{6}+0.658$"
      ],
      "text/plain": [
       "<IPython.core.display.Math object>"
      ]
     },
     "metadata": {},
     "output_type": "display_data"
    },
    {
     "data": {
      "text/latex": [
       "$\\displaystyle \\left(1.963x_1^{5.000} + 1.380x_2^{5.000} + 0.423x_3^{6.000} + 0.658\\right)$"
      ],
      "text/plain": [
       "<IPython.core.display.Math object>"
      ]
     },
     "metadata": {},
     "output_type": "display_data"
    },
    {
     "name": "stdout",
     "output_type": "stream",
     "text": [
      "MSE between formula parameters is 1.5023411086596232e-10\n",
      "EXACT RECOVERY\n",
      "\n",
      "\n",
      "----------------------------Exploring new formula #7----------------------------\n",
      "  Initialization #1\n",
      "  Finished run #1, loss 0.0009585803491063416, best loss 0.0009585803491063416\n",
      "  Initialization #2\n",
      "  Finished run #2, loss 0.016282297670841217, best loss 0.0009585803491063416\n",
      "  Initialization #3\n",
      "  Finished run #3, loss 0.016563350334763527, best loss 0.0009585803491063416\n",
      "  Initialization #4\n",
      "  Finished run #4, loss 6.829097292000708e-13, best loss 6.829097292000708e-13\n",
      "loss is smaller than 1e-05, terminating learning process\n",
      "2 minutes 31 seconds passed from the start, the iteration took 28 seconds\n",
      "ground truth and obtained formula\n"
     ]
    },
    {
     "data": {
      "text/latex": [
       "$\\displaystyle 1.571x_{1}^{5}+0.15x_{2}^{5}-0.613x_{3}^{2}+1.084$"
      ],
      "text/plain": [
       "<IPython.core.display.Math object>"
      ]
     },
     "metadata": {},
     "output_type": "display_data"
    },
    {
     "data": {
      "text/latex": [
       "$\\displaystyle \\left(1.571x_1^{5.000} + 0.150x_2^{5.000}-0.613x_3^{2.000} + 1.084\\right)$"
      ],
      "text/plain": [
       "<IPython.core.display.Math object>"
      ]
     },
     "metadata": {},
     "output_type": "display_data"
    },
    {
     "name": "stdout",
     "output_type": "stream",
     "text": [
      "MSE between formula parameters is 3.4865421660867923e-10\n",
      "EXACT RECOVERY\n",
      "\n",
      "\n",
      "----------------------------Exploring new formula #8----------------------------\n",
      "  Initialization #1\n",
      "  Finished run #1, loss 0.0010126919951289892, best loss 0.0010126919951289892\n",
      "  Initialization #2\n",
      "  Finished run #2, loss 5.297980804064295e-12, best loss 5.297980804064295e-12\n",
      "loss is smaller than 1e-05, terminating learning process\n",
      "2 minutes 34 seconds passed from the start, the iteration took 3 seconds\n",
      "ground truth and obtained formula\n"
     ]
    },
    {
     "data": {
      "text/latex": [
       "$\\displaystyle 0.154x_{1}^{5}-0.309x_{2}^{3}+1.08x_{3}^{1}+0.952$"
      ],
      "text/plain": [
       "<IPython.core.display.Math object>"
      ]
     },
     "metadata": {},
     "output_type": "display_data"
    },
    {
     "data": {
      "text/latex": [
       "$\\displaystyle \\left(0.154x_1^{5.000}-0.309x_2^{3.000} + 1.080x_3^{1.000} + 0.952\\right)$"
      ],
      "text/plain": [
       "<IPython.core.display.Math object>"
      ]
     },
     "metadata": {},
     "output_type": "display_data"
    },
    {
     "name": "stdout",
     "output_type": "stream",
     "text": [
      "MSE between formula parameters is 1.1178741107390318e-08\n",
      "EXACT RECOVERY\n",
      "\n",
      "\n",
      "----------------------------Exploring new formula #9----------------------------\n",
      "  Initialization #1\n",
      "  Finished run #1, loss 0.05849596858024597, best loss 0.05849596858024597\n",
      "  Initialization #2\n",
      "  Finished run #2, loss 0.000568809628020972, best loss 0.000568809628020972\n",
      "  Initialization #3\n",
      "    Epoch 5000, current loss 0.0352, current formula \\left(-1.289x_1^{-0.011}-5.506x_2^{-0.024} + 0.662x_3^{3.975} + 5.457\\right)\n",
      "  Finished run #3, loss 0.03520870953798294, best loss 0.000568809628020972\n",
      "  Initialization #4\n",
      "  Finished run #4, loss 0.034622740000486374, best loss 0.000568809628020972\n",
      "  Initialization #5\n",
      "  Finished run #5, loss 0.0006225152174010873, best loss 0.000568809628020972\n",
      "  Initialization #6\n",
      "  Finished run #6, loss 5.907022267159778e-12, best loss 5.907022267159778e-12\n",
      "loss is smaller than 1e-05, terminating learning process\n",
      "3 minutes 3 seconds passed from the start, the iteration took 29 seconds\n",
      "ground truth and obtained formula\n"
     ]
    },
    {
     "data": {
      "text/latex": [
       "$\\displaystyle 0.11x_{1}^{3}+0.842x_{2}^{3}+0.655x_{3}^{4}-1.72$"
      ],
      "text/plain": [
       "<IPython.core.display.Math object>"
      ]
     },
     "metadata": {},
     "output_type": "display_data"
    },
    {
     "data": {
      "text/latex": [
       "$\\displaystyle \\left(0.110x_1^{3.000} + 0.842x_2^{3.000} + 0.655x_3^{4.000}-1.720\\right)$"
      ],
      "text/plain": [
       "<IPython.core.display.Math object>"
      ]
     },
     "metadata": {},
     "output_type": "display_data"
    },
    {
     "name": "stdout",
     "output_type": "stream",
     "text": [
      "MSE between formula parameters is 2.363041794779213e-08\n",
      "EXACT RECOVERY\n",
      "\n",
      "\n",
      "----------------------------Exploring new formula #10----------------------------\n",
      "  Initialization #1\n",
      "  Finished run #1, loss 0.005140147637575865, best loss 0.005140147637575865\n",
      "  Initialization #2\n",
      "  Finished run #2, loss 1.1832983377868533e-11, best loss 1.1832983377868533e-11\n",
      "loss is smaller than 1e-05, terminating learning process\n",
      "3 minutes 6 seconds passed from the start, the iteration took 3 seconds\n",
      "ground truth and obtained formula\n"
     ]
    },
    {
     "data": {
      "text/latex": [
       "$\\displaystyle -0.014x_{1}^{3}+0.342x_{2}^{2}-0.814x_{3}^{6}+0.378$"
      ],
      "text/plain": [
       "<IPython.core.display.Math object>"
      ]
     },
     "metadata": {},
     "output_type": "display_data"
    },
    {
     "data": {
      "text/latex": [
       "$\\displaystyle \\left(-0.014x_1^{2.997} + 0.342x_2^{2.000}-0.814x_3^{6.000} + 0.378\\right)$"
      ],
      "text/plain": [
       "<IPython.core.display.Math object>"
      ]
     },
     "metadata": {},
     "output_type": "display_data"
    },
    {
     "name": "stdout",
     "output_type": "stream",
     "text": [
      "MSE between formula parameters is 9.018604936760181e-07\n",
      "EXACT RECOVERY\n",
      "\n",
      "################################################################################\n",
      "MSEs between parameters:\n",
      "[5.667260058065235e-09, 1.1465926620855628e-10, 1.1858755247625855e-10, 3.3764445208005004e-10, 1.4469741119579486e-08, 1.5023411086596232e-10, 3.4865421660867923e-10, 1.1178741107390318e-08, 2.363041794779213e-08, 9.018604936760181e-07]\n",
      "For 10 formulas out of 10 the error is less than 1e-05.\n"
     ]
    }
   ],
   "source": [
    "explore.explore(max_power=6)"
   ]
  },
  {
   "cell_type": "code",
   "execution_count": 46,
   "metadata": {
    "collapsed": true
   },
   "outputs": [
    {
     "name": "stdout",
     "output_type": "stream",
     "text": [
      "\n",
      "\n",
      "----------------------------Exploring new formula #1----------------------------\n",
      "  Initialization #1\n",
      "  Finished run #1, loss 0.0005649023805744946, best loss 0.0005649023805744946\n",
      "  Initialization #2\n",
      "  Finished run #2, loss 3.363373165046757e-12, best loss 3.363373165046757e-12\n",
      "loss is smaller than 1e-05, terminating learning process\n",
      "3 seconds passed from the start, the iteration took 3 seconds\n",
      "ground truth and obtained formula\n"
     ]
    },
    {
     "data": {
      "text/latex": [
       "$\\displaystyle 2.049x_{1}^{3.333}+0.114x_{2}^{4.667}+1.084x_{3}^{1.667}-0.099$"
      ],
      "text/plain": [
       "<IPython.core.display.Math object>"
      ]
     },
     "metadata": {},
     "output_type": "display_data"
    },
    {
     "data": {
      "text/latex": [
       "$\\displaystyle \\left(2.049x_1^{3.333} + 0.114x_2^{4.667} + 1.084x_3^{1.667}-0.099\\right)$"
      ],
      "text/plain": [
       "<IPython.core.display.Math object>"
      ]
     },
     "metadata": {},
     "output_type": "display_data"
    },
    {
     "name": "stdout",
     "output_type": "stream",
     "text": [
      "MSE between formula parameters is 1.0837911044804726e-09\n",
      "EXACT RECOVERY\n",
      "\n",
      "\n",
      "----------------------------Exploring new formula #2----------------------------\n",
      "  Initialization #1\n",
      "  Finished run #1, loss 0.043854933232069016, best loss 0.043854933232069016\n",
      "  Initialization #2\n",
      "  Finished run #2, loss 5.613911113755421e-09, best loss 5.613911113755421e-09\n",
      "loss is smaller than 1e-05, terminating learning process\n",
      "15 seconds passed from the start, the iteration took 12 seconds\n",
      "ground truth and obtained formula\n"
     ]
    },
    {
     "data": {
      "text/latex": [
       "$\\displaystyle -1.221x_{1}^{2.0}-1.776x_{2}^{0.667}-1.643x_{3}^{1.333}+1.616$"
      ],
      "text/plain": [
       "<IPython.core.display.Math object>"
      ]
     },
     "metadata": {},
     "output_type": "display_data"
    },
    {
     "data": {
      "text/latex": [
       "$\\displaystyle \\left(-1.221x_1^{2.000}-1.776x_2^{0.667}-1.643x_3^{1.334} + 1.615\\right)$"
      ],
      "text/plain": [
       "<IPython.core.display.Math object>"
      ]
     },
     "metadata": {},
     "output_type": "display_data"
    },
    {
     "name": "stdout",
     "output_type": "stream",
     "text": [
      "MSE between formula parameters is 7.233614190178222e-08\n",
      "EXACT RECOVERY\n",
      "\n",
      "\n",
      "----------------------------Exploring new formula #3----------------------------\n",
      "  Initialization #1\n",
      "  Finished run #1, loss 0.028962085023522377, best loss 0.028962085023522377\n",
      "  Initialization #2\n",
      "  Finished run #2, loss 4.988416549167596e-05, best loss 4.988416549167596e-05\n",
      "  Initialization #3\n",
      "  Finished run #3, loss 0.026912150904536247, best loss 4.988416549167596e-05\n",
      "  Initialization #4\n",
      "  Finished run #4, loss 0.14470908045768738, best loss 4.988416549167596e-05\n",
      "  Initialization #5\n",
      "  Finished run #5, loss 5.1276245358167216e-05, best loss 4.988416549167596e-05\n",
      "  Initialization #6\n",
      "    Epoch 5000, current loss 0.153, current formula \\left(0.061x_1^{14.948} + 13.875x_2^{-0.027}-12.422x_3^{-0.014}-2.685\\right)\n",
      "  Finished run #6, loss 0.15167467296123505, best loss 4.988416549167596e-05\n",
      "  Initialization #7\n",
      "  Finished run #7, loss 5.1009068556595594e-05, best loss 4.988416549167596e-05\n",
      "  Initialization #8\n",
      "  Finished run #8, loss 0.029082538560032845, best loss 4.988416549167596e-05\n",
      "  Initialization #9\n",
      "  Finished run #9, loss 0.02650262415409088, best loss 4.988416549167596e-05\n",
      "  Initialization #10\n",
      "  Finished run #10, loss 0.13250789046287537, best loss 4.988416549167596e-05\n",
      "1 minutes 27 seconds passed from the start, the iteration took 1 minutes 12 seconds\n",
      "ground truth and obtained formula\n"
     ]
    },
    {
     "data": {
      "text/latex": [
       "$\\displaystyle 0.033x_{1}^{3.667}-1.803x_{2}^{1.667}+0.798x_{3}^{2.333}-0.584$"
      ],
      "text/plain": [
       "<IPython.core.display.Math object>"
      ]
     },
     "metadata": {},
     "output_type": "display_data"
    },
    {
     "data": {
      "text/latex": [
       "$\\displaystyle \\left(-1.351x_1^{-0.004}-1.803x_2^{1.664} + 0.799x_3^{2.329} + 0.779\\right)$"
      ],
      "text/plain": [
       "<IPython.core.display.Math object>"
      ]
     },
     "metadata": {},
     "output_type": "display_data"
    },
    {
     "name": "stdout",
     "output_type": "stream",
     "text": [
      "MSE between formula parameters is 2.464195771728083\n",
      "FAILURE\n",
      "\n",
      "\n",
      "----------------------------Exploring new formula #4----------------------------\n",
      "  Initialization #1\n",
      "  Finished run #1, loss 0.00016132325981743634, best loss 0.00016132325981743634\n",
      "  Initialization #2\n",
      "  Finished run #2, loss 5.5267452940543915e-12, best loss 5.5267452940543915e-12\n",
      "loss is smaller than 1e-05, terminating learning process\n",
      "1 minutes 31 seconds passed from the start, the iteration took 3 seconds\n",
      "ground truth and obtained formula\n"
     ]
    },
    {
     "data": {
      "text/latex": [
       "$\\displaystyle -1.232x_{1}^{2.333}+0.259x_{2}^{4.0}-0.06x_{3}^{2.667}-0.169$"
      ],
      "text/plain": [
       "<IPython.core.display.Math object>"
      ]
     },
     "metadata": {},
     "output_type": "display_data"
    },
    {
     "data": {
      "text/latex": [
       "$\\displaystyle \\left(-1.232x_1^{2.333} + 0.259x_2^{4.000}-0.060x_3^{2.666}-0.169\\right)$"
      ],
      "text/plain": [
       "<IPython.core.display.Math object>"
      ]
     },
     "metadata": {},
     "output_type": "display_data"
    },
    {
     "name": "stdout",
     "output_type": "stream",
     "text": [
      "MSE between formula parameters is 3.936620335265317e-08\n",
      "EXACT RECOVERY\n",
      "\n",
      "\n",
      "----------------------------Exploring new formula #5----------------------------\n",
      "  Initialization #1\n",
      "  Finished run #1, loss 0.017211973667144775, best loss 0.017211973667144775\n",
      "  Initialization #2\n",
      "  Finished run #2, loss 1.972271304606643e-12, best loss 1.972271304606643e-12\n",
      "loss is smaller than 1e-05, terminating learning process\n",
      "1 minutes 39 seconds passed from the start, the iteration took 9 seconds\n",
      "ground truth and obtained formula\n"
     ]
    },
    {
     "data": {
      "text/latex": [
       "$\\displaystyle -0.623x_{1}^{2.0}-1.421x_{2}^{2.667}+1.193x_{3}^{2.333}-1.313$"
      ],
      "text/plain": [
       "<IPython.core.display.Math object>"
      ]
     },
     "metadata": {},
     "output_type": "display_data"
    },
    {
     "data": {
      "text/latex": [
       "$\\displaystyle \\left(-0.623x_1^{2.000}-1.421x_2^{2.667} + 1.193x_3^{2.333}-1.313\\right)$"
      ],
      "text/plain": [
       "<IPython.core.display.Math object>"
      ]
     },
     "metadata": {},
     "output_type": "display_data"
    },
    {
     "name": "stdout",
     "output_type": "stream",
     "text": [
      "MSE between formula parameters is 6.349257627594592e-11\n",
      "EXACT RECOVERY\n",
      "\n",
      "\n",
      "----------------------------Exploring new formula #6----------------------------\n",
      "  Initialization #1\n",
      "    Epoch 5000, current loss 0.0459, current formula \\left(-8.472x_1^{-0.034} + 7.621x_2^{-0.010}-2.173x_3^{3.907} + 1.297\\right)\n",
      "  Finished run #1, loss 0.045699264854192734, best loss 0.045699264854192734\n",
      "  Initialization #2\n",
      "  Finished run #2, loss 0.03883028030395508, best loss 0.03883028030395508\n",
      "  Initialization #3\n",
      "  Finished run #3, loss 0.010128953494131565, best loss 0.010128953494131565\n",
      "  Initialization #4\n",
      "    Epoch 5000, current loss 0.225, current formula \\left(1.250x_1^{0.741}-0.498x_2^{3.728} + 7.295x_3^{-0.041}-8.444\\right)\n",
      "    Epoch 10000, current loss 0.223, current formula \\left(1.254x_1^{0.735}-0.498x_2^{3.743} + 11.863x_3^{-0.026}-13.029\\right)\n",
      "  Finished run #4, loss 0.2226993441581726, best loss 0.010128953494131565\n",
      "  Initialization #5\n",
      "  Finished run #5, loss 4.736817708905772e-12, best loss 4.736817708905772e-12\n",
      "loss is smaller than 1e-05, terminating learning process\n",
      "2 minutes 55 seconds passed from the start, the iteration took 1 minutes 16 seconds\n",
      "ground truth and obtained formula\n"
     ]
    },
    {
     "data": {
      "text/latex": [
       "$\\displaystyle 1.241x_{1}^{1.0}-0.46x_{2}^{3.667}-2.218x_{3}^{4.0}-0.299$"
      ],
      "text/plain": [
       "<IPython.core.display.Math object>"
      ]
     },
     "metadata": {},
     "output_type": "display_data"
    },
    {
     "data": {
      "text/latex": [
       "$\\displaystyle \\left(1.241x_1^{1.000}-0.460x_2^{3.667}-2.218x_3^{4.000}-0.299\\right)$"
      ],
      "text/plain": [
       "<IPython.core.display.Math object>"
      ]
     },
     "metadata": {},
     "output_type": "display_data"
    },
    {
     "name": "stdout",
     "output_type": "stream",
     "text": [
      "MSE between formula parameters is 6.099755621237688e-11\n",
      "EXACT RECOVERY\n",
      "\n",
      "\n",
      "----------------------------Exploring new formula #7----------------------------\n",
      "  Initialization #1\n",
      "  Finished run #1, loss 4.2805082395291905e-12, best loss 4.2805082395291905e-12\n",
      "loss is smaller than 1e-05, terminating learning process\n",
      "2 minutes 57 seconds passed from the start, the iteration took 1 seconds\n",
      "ground truth and obtained formula\n"
     ]
    },
    {
     "data": {
      "text/latex": [
       "$\\displaystyle 3.203x_{1}^{2.333}-1.724x_{2}^{4.333}-0.757x_{3}^{1.667}-1.98$"
      ],
      "text/plain": [
       "<IPython.core.display.Math object>"
      ]
     },
     "metadata": {},
     "output_type": "display_data"
    },
    {
     "data": {
      "text/latex": [
       "$\\displaystyle \\left(3.203x_1^{2.333}-1.724x_2^{4.333}-0.757x_3^{1.667}-1.980\\right)$"
      ],
      "text/plain": [
       "<IPython.core.display.Math object>"
      ]
     },
     "metadata": {},
     "output_type": "display_data"
    },
    {
     "name": "stdout",
     "output_type": "stream",
     "text": [
      "MSE between formula parameters is 8.138962519816622e-11\n",
      "EXACT RECOVERY\n",
      "\n",
      "\n",
      "----------------------------Exploring new formula #8----------------------------\n",
      "  Initialization #1\n",
      "  Finished run #1, loss 0.016357822343707085, best loss 0.016357822343707085\n",
      "  Initialization #2\n",
      "  Finished run #2, loss 6.806492820032872e-06, best loss 6.806492820032872e-06\n",
      "loss is smaller than 1e-05, terminating learning process\n",
      "2 minutes 60 seconds passed from the start, the iteration took 3 seconds\n",
      "ground truth and obtained formula\n"
     ]
    },
    {
     "data": {
      "text/latex": [
       "$\\displaystyle -0.609x_{1}^{4.667}+0.781x_{2}^{5.0}-0.898x_{3}^{0.333}+1.012$"
      ],
      "text/plain": [
       "<IPython.core.display.Math object>"
      ]
     },
     "metadata": {},
     "output_type": "display_data"
    },
    {
     "data": {
      "text/latex": [
       "$\\displaystyle \\left(-0.608x_1^{4.660} + 0.780x_2^{4.990}-0.940x_3^{0.310} + 1.056\\right)$"
      ],
      "text/plain": [
       "<IPython.core.display.Math object>"
      ]
     },
     "metadata": {},
     "output_type": "display_data"
    },
    {
     "name": "stdout",
     "output_type": "stream",
     "text": [
      "MSE between formula parameters is 0.0006299513376686962\n",
      "FAILURE\n",
      "\n",
      "\n",
      "----------------------------Exploring new formula #9----------------------------\n",
      "  Initialization #1\n",
      "  Finished run #1, loss 1.62283077601022e-12, best loss 1.62283077601022e-12\n",
      "loss is smaller than 1e-05, terminating learning process\n",
      "3 minutes 1 seconds passed from the start, the iteration took 2 seconds\n",
      "ground truth and obtained formula\n"
     ]
    },
    {
     "data": {
      "text/latex": [
       "$\\displaystyle -1.027x_{1}^{4.667}+1.451x_{2}^{2.333}-1.368x_{3}^{2.667}-0.876$"
      ],
      "text/plain": [
       "<IPython.core.display.Math object>"
      ]
     },
     "metadata": {},
     "output_type": "display_data"
    },
    {
     "data": {
      "text/latex": [
       "$\\displaystyle \\left(-1.027x_1^{4.667} + 1.451x_2^{2.333}-1.368x_3^{2.667}-0.876\\right)$"
      ],
      "text/plain": [
       "<IPython.core.display.Math object>"
      ]
     },
     "metadata": {},
     "output_type": "display_data"
    },
    {
     "name": "stdout",
     "output_type": "stream",
     "text": [
      "MSE between formula parameters is 4.5763519957680336e-11\n",
      "EXACT RECOVERY\n",
      "\n",
      "\n",
      "----------------------------Exploring new formula #10----------------------------\n",
      "  Initialization #1\n",
      "  Finished run #1, loss 7.805804489180446e-05, best loss 7.805804489180446e-05\n",
      "  Initialization #2\n",
      "  Finished run #2, loss 0.04445670545101166, best loss 7.805804489180446e-05\n",
      "  Initialization #3\n",
      "  Finished run #3, loss 7.458134496118873e-05, best loss 7.458134496118873e-05\n",
      "  Initialization #4\n",
      "  Finished run #4, loss 6.3320629124064e-05, best loss 6.3320629124064e-05\n",
      "  Initialization #5\n",
      "  Finished run #5, loss 0.04257139191031456, best loss 6.3320629124064e-05\n",
      "  Initialization #6\n",
      "  Finished run #6, loss 0.04354075714945793, best loss 6.3320629124064e-05\n",
      "  Initialization #7\n",
      "  Finished run #7, loss 0.04352091625332832, best loss 6.3320629124064e-05\n",
      "  Initialization #8\n",
      "  Finished run #8, loss 6.833985389675945e-05, best loss 6.3320629124064e-05\n",
      "  Initialization #9\n",
      "    Epoch 5000, current loss 0.19, current formula \\left(-7.580x_1^{-0.043}-0.033x_2^{1.028} + 1.034x_3^{4.753} + 8.133\\right)\n",
      "  Finished run #9, loss 0.18901683390140533, best loss 6.3320629124064e-05\n",
      "  Initialization #10\n",
      "  Finished run #10, loss 0.24506711959838867, best loss 6.3320629124064e-05\n",
      "3 minutes 57 seconds passed from the start, the iteration took 56 seconds\n",
      "ground truth and obtained formula\n"
     ]
    },
    {
     "data": {
      "text/latex": [
       "$\\displaystyle 1.913x_{1}^{3.333}-0.043x_{2}^{1.667}+0.953x_{3}^{4.333}-0.265$"
      ],
      "text/plain": [
       "<IPython.core.display.Math object>"
      ]
     },
     "metadata": {},
     "output_type": "display_data"
    },
    {
     "data": {
      "text/latex": [
       "$\\displaystyle \\left(1.913x_1^{3.330}-2.160x_2^{0.005} + 0.954x_3^{4.325} + 1.869\\right)$"
      ],
      "text/plain": [
       "<IPython.core.display.Math object>"
      ]
     },
     "metadata": {},
     "output_type": "display_data"
    },
    {
     "name": "stdout",
     "output_type": "stream",
     "text": [
      "MSE between formula parameters is 1.6850588041040635\n",
      "FAILURE\n",
      "\n",
      "################################################################################\n",
      "MSEs between parameters:\n",
      "[1.0837911044804726e-09, 7.233614190178222e-08, 2.464195771728083, 3.936620335265317e-08, 6.349257627594592e-11, 6.099755621237688e-11, 8.138962519816622e-11, 0.0006299513376686962, 4.5763519957680336e-11, 1.6850588041040635]\n",
      "For 7 formulas out of 10 the error is less than 1e-05.\n"
     ]
    }
   ],
   "source": [
    "explore.explore(max_power=15, divide_powers_by=3)"
   ]
  },
  {
   "cell_type": "code",
   "execution_count": 16,
   "metadata": {
    "scrolled": true
   },
   "outputs": [
    {
     "name": "stdout",
     "output_type": "stream",
     "text": [
      "\n",
      "\n",
      "----------------------------Exploring new formula #1----------------------------\n",
      "  Initialization #1\n",
      "    Epoch 5000, current loss 0.0942, current formula \\left(-16.218x_1^{-0.017} + 14.928x_2^{-0.021} + 1.766x_3^{0.021} + 1.120x_4^{2.003}-0.748\\right)\n",
      "  Finished run #1, loss 0.0930163636803627, best loss 0.0930163636803627\n",
      "  Initialization #2\n",
      "    Epoch 5000, current loss 0.0951, current formula \\left(-12.279x_1^{-0.022} + 13.479x_2^{-0.023}-0.602x_3^{-0.045} + 1.120x_4^{2.003}-0.878\\right)\n",
      "    Epoch 10000, current loss 0.0946, current formula \\left(-13.577x_1^{-0.020} + 14.814x_2^{-0.021}-0.647x_3^{-0.042} + 1.120x_4^{2.003}-0.870\\right)\n",
      "  Finished run #2, loss 0.09464673697948456, best loss 0.0930163636803627\n",
      "  Initialization #3\n",
      "    Epoch 5000, current loss 0.0474, current formula \\left(-4.589x_1^{-0.053}-1.287x_2^{1.368}-0.519x_3^{-0.052} + 1.140x_4^{1.980} + 5.665\\right)\n",
      "  Finished run #3, loss 0.046409040689468384, best loss 0.046409040689468384\n",
      "  Initialization #4\n",
      "    Epoch 5000, current loss 0.1, current formula \\left(1.143x_1^{1.339} + 12.331x_2^{-0.026} + 0.332x_3^{5.156}-13.906x_4^{-0.018} + 1.078\\right)\n",
      "    Epoch 10000, current loss 0.0988, current formula \\left(1.144x_1^{1.343} + 18.714x_2^{-0.018} + 0.332x_3^{5.143}-20.276x_4^{-0.013} + 1.062\\right)\n",
      "  Finished run #4, loss 0.09879747033119202, best loss 0.046409040689468384\n",
      "  Initialization #5\n",
      "    Epoch 5000, current loss 0.0532, current formula \\left(1.160x_1^{1.292}-1.310x_2^{1.280} + 0.301x_3^{3.468}-5.114x_4^{-0.046} + 5.475\\right)\n",
      "    Epoch 10000, current loss 0.052, current formula \\left(1.159x_1^{1.300}-1.311x_2^{1.279} + 0.301x_3^{3.467}-8.301x_4^{-0.030} + 8.680\\right)\n",
      "  Finished run #5, loss 0.05199287459254265, best loss 0.046409040689468384\n",
      "  Initialization #6\n",
      "  Finished run #6, loss 7.338774032916717e-11, best loss 7.338774032916717e-11\n",
      "loss is smaller than 1e-05, terminating learning process\n",
      "4 minutes 3 seconds passed from the start, the iteration took 4 minutes 3 seconds\n",
      "ground truth and obtained formula\n"
     ]
    },
    {
     "data": {
      "text/latex": [
       "$\\displaystyle 1.136x_{1}^{1.333}-1.342x_{2}^{1.25}+0.295x_{3}^{3.083}+1.159x_{4}^{1.917}-0.244$"
      ],
      "text/plain": [
       "<IPython.core.display.Math object>"
      ]
     },
     "metadata": {},
     "output_type": "display_data"
    },
    {
     "data": {
      "text/latex": [
       "$\\displaystyle \\left(1.136x_1^{1.333}-1.342x_2^{1.250} + 0.295x_3^{3.083} + 1.159x_4^{1.917}-0.244\\right)$"
      ],
      "text/plain": [
       "<IPython.core.display.Math object>"
      ]
     },
     "metadata": {},
     "output_type": "display_data"
    },
    {
     "name": "stdout",
     "output_type": "stream",
     "text": [
      "MSE between formula parameters is 2.3299586704439434e-09\n",
      "EXACT RECOVERY\n",
      "\n",
      "\n",
      "----------------------------Exploring new formula #2----------------------------\n",
      "  Initialization #1\n",
      "  Finished run #1, loss 0.0011191540397703648, best loss 0.0011191540397703648\n",
      "  Initialization #2\n",
      "  Finished run #2, loss 0.001156878424808383, best loss 0.0011191540397703648\n",
      "  Initialization #3\n",
      "  Finished run #3, loss 0.0633557066321373, best loss 0.0011191540397703648\n",
      "  Initialization #4\n",
      "    Epoch 5000, current loss 0.0646, current formula \\left(-0.155x_1^{1.299}-6.539x_2^{-0.044}-2.509x_3^{0.649}-1.934x_4^{1.843} + 8.407\\right)\n",
      "    Epoch 10000, current loss 0.0624, current formula \\left(-0.159x_1^{1.085}-10.400x_2^{-0.029}-2.516x_3^{0.645}-1.935x_4^{1.843} + 12.296\\right)\n",
      "  Finished run #4, loss 0.06237761676311493, best loss 0.0011191540397703648\n",
      "  Initialization #5\n",
      "    Epoch 5000, current loss 0.168, current formula \\left(-0.488x_1^{0.047} + 1.332x_2^{1.668}-2.287x_3^{0.731} + 18.646x_4^{-0.021}-18.460\\right)\n",
      "    Epoch 10000, current loss 0.165, current formula \\left(-0.521x_1^{0.045} + 1.332x_2^{1.666}-2.287x_3^{0.731} + 30.321x_4^{-0.014}-30.114\\right)\n",
      "  Finished run #5, loss 0.164914071559906, best loss 0.0011191540397703648\n",
      "  Initialization #6\n",
      "    Epoch 5000, current loss 0.178, current formula \\left(-3.719x_1^{0.005} + 1.329x_2^{1.699}-2.316x_3^{0.706} + 7.729x_4^{-0.046}-4.231\\right)\n",
      "    Epoch 10000, current loss 0.172, current formula \\left(-6.899x_1^{0.003} + 1.331x_2^{1.676}-2.292x_3^{0.726} + 11.487x_4^{-0.033}-4.863\\right)\n",
      "  Finished run #6, loss 0.17245455086231232, best loss 0.0011191540397703648\n",
      "  Initialization #7\n",
      "    Epoch 5000, current loss 0.221, current formula \\left(-0.335x_1^{0.161}-18.382x_2^{-0.018}-2.383x_3^{0.703} + 19.902x_4^{-0.020}-0.604\\right)\n",
      "    Epoch 10000, current loss 0.218, current formula \\left(-0.373x_1^{0.141}-24.744x_2^{-0.013}-2.383x_3^{0.704} + 26.302x_4^{-0.015}-0.607\\right)\n",
      "  Finished run #7, loss 0.21840810775756836, best loss 0.0011191540397703648\n",
      "  Initialization #8\n",
      "    Epoch 5000, current loss 0.178, current formula \\left(-3.591x_1^{0.005} + 1.330x_2^{1.697}-2.315x_3^{0.707} + 7.812x_4^{-0.045}-4.445\\right)\n",
      "  Finished run #8, loss 0.1738404929637909, best loss 0.0011191540397703648\n",
      "  Initialization #9\n",
      "    Epoch 5000, current loss 0.0724, current formula \\left(-8.389x_1^{0.001} + 1.331x_2^{1.632} + 11.748x_3^{-0.045}-1.975x_4^{1.966}-4.453\\right)\n",
      "    Epoch 10000, current loss 0.0707, current formula \\left(-10.230x_1^{0.001} + 1.332x_2^{1.628} + 13.701x_3^{-0.040}-1.975x_4^{1.967}-4.573\\right)\n",
      "  Finished run #9, loss 0.07067271322011948, best loss 0.0011191540397703648\n",
      "  Initialization #10\n",
      "    Epoch 5000, current loss 0.0776, current formula \\left(-4.134x_1^{0.001} + 1.327x_2^{1.663} + 8.133x_3^{-0.062}-1.974x_4^{1.955}-5.063\\right)\n",
      "    Epoch 10000, current loss 0.0709, current formula \\left(-9.018x_1^{0.001} + 1.331x_2^{1.628} + 13.352x_3^{-0.041}-1.975x_4^{1.967}-5.434\\right)\n",
      "  Finished run #10, loss 0.07094106823205948, best loss 0.0011191540397703648\n",
      "10 minutes 8 seconds passed from the start, the iteration took 6 minutes 6 seconds\n",
      "ground truth and obtained formula\n"
     ]
    },
    {
     "data": {
      "text/latex": [
       "$\\displaystyle -0.163x_{1}^{4.0}+1.352x_{2}^{1.5}-2.43x_{3}^{0.667}-1.985x_{4}^{1.833}+0.952$"
      ],
      "text/plain": [
       "<IPython.core.display.Math object>"
      ]
     },
     "metadata": {},
     "output_type": "display_data"
    },
    {
     "data": {
      "text/latex": [
       "$\\displaystyle \\left(-1.169x_1^{0.023} + 1.350x_2^{1.496}-2.425x_3^{0.667}-1.980x_4^{1.832} + 2.058\\right)$"
      ],
      "text/plain": [
       "<IPython.core.display.Math object>"
      ]
     },
     "metadata": {},
     "output_type": "display_data"
    },
    {
     "name": "stdout",
     "output_type": "stream",
     "text": [
      "MSE between formula parameters is 2.0063896865672595\n",
      "FAILURE\n",
      "\n",
      "\n",
      "----------------------------Exploring new formula #3----------------------------\n",
      "  Initialization #1\n",
      "    Epoch 5000, current loss 0.207, current formula \\left(-0.154x_1^{0.389}-7.613x_2^{-0.043}-0.251x_3^{1.166}-2.744x_4^{-0.048} + 10.734\\right)\n",
      "  Finished run #1, loss 0.2074088603258133, best loss 0.2074088603258133\n",
      "  Initialization #2\n",
      "    Epoch 5000, current loss 0.0717, current formula \\left(-0.093x_1^{7.623} + 1.774x_2^{2.433} + 7.794x_3^{-0.010}-9.239x_4^{-0.019} + 0.696\\right)\n",
      "  Finished run #2, loss 0.07172449678182602, best loss 0.07172449678182602\n",
      "  Initialization #3\n",
      "  Finished run #3, loss 2.259490247524809e-05, best loss 2.259490247524809e-05\n",
      "  Initialization #4\n",
      "  Finished run #4, loss 3.4714398022828163e-11, best loss 3.4714398022828163e-11\n",
      "loss is smaller than 1e-05, terminating learning process\n",
      "11 minutes 8 seconds passed from the start, the iteration took 1 minutes 0 seconds\n",
      "ground truth and obtained formula\n"
     ]
    },
    {
     "data": {
      "text/latex": [
       "$\\displaystyle -0.029x_{1}^{1.333}+1.801x_{2}^{2.417}-0.361x_{3}^{2.083}+1.207x_{4}^{3.417}-1.003$"
      ],
      "text/plain": [
       "<IPython.core.display.Math object>"
      ]
     },
     "metadata": {},
     "output_type": "display_data"
    },
    {
     "data": {
      "text/latex": [
       "$\\displaystyle \\left(-0.029x_1^{1.332} + 1.801x_2^{2.417}-0.361x_3^{2.083} + 1.207x_4^{3.417}-1.003\\right)$"
      ],
      "text/plain": [
       "<IPython.core.display.Math object>"
      ]
     },
     "metadata": {},
     "output_type": "display_data"
    },
    {
     "name": "stdout",
     "output_type": "stream",
     "text": [
      "MSE between formula parameters is 2.8310162592125474e-07\n",
      "EXACT RECOVERY\n",
      "\n",
      "\n",
      "----------------------------Exploring new formula #4----------------------------\n",
      "  Initialization #1\n",
      "    Epoch 5000, current loss 0.146, current formula \\left(1.570x_1^{2.314}-5.034x_2^{-0.051}-0.235x_3^{3.021} + 0.117x_4^{6.323} + 5.976\\right)\n",
      "  Finished run #1, loss 0.14529700577259064, best loss 0.14529700577259064\n",
      "  Initialization #2\n",
      "  Finished run #2, loss 0.0028159967623651028, best loss 0.0028159967623651028\n",
      "  Initialization #3\n",
      "  Finished run #3, loss 0.00048364687245339155, best loss 0.00048364687245339155\n",
      "  Initialization #4\n",
      "  Finished run #4, loss 0.003353861393406987, best loss 0.00048364687245339155\n",
      "  Initialization #5\n",
      "  Finished run #5, loss 6.656671307919693e-12, best loss 6.656671307919693e-12\n",
      "loss is smaller than 1e-05, terminating learning process\n",
      "12 minutes 2 seconds passed from the start, the iteration took 54 seconds\n",
      "ground truth and obtained formula\n"
     ]
    },
    {
     "data": {
      "text/latex": [
       "$\\displaystyle 1.585x_{1}^{2.083}+1.683x_{2}^{3.0}-0.242x_{3}^{2.667}+0.109x_{4}^{1.917}+0.174$"
      ],
      "text/plain": [
       "<IPython.core.display.Math object>"
      ]
     },
     "metadata": {},
     "output_type": "display_data"
    },
    {
     "data": {
      "text/latex": [
       "$\\displaystyle \\left(1.585x_1^{2.083} + 1.683x_2^{3.000}-0.242x_3^{2.667} + 0.109x_4^{1.917} + 0.174\\right)$"
      ],
      "text/plain": [
       "<IPython.core.display.Math object>"
      ]
     },
     "metadata": {},
     "output_type": "display_data"
    },
    {
     "name": "stdout",
     "output_type": "stream",
     "text": [
      "MSE between formula parameters is 4.067346564489643e-09\n",
      "EXACT RECOVERY\n",
      "\n",
      "\n",
      "----------------------------Exploring new formula #5----------------------------\n",
      "  Initialization #1\n",
      "    Epoch 5000, current loss 0.0636, current formula \\left(-1.213x_1^{0.641} + 0.128x_2^{1.892}-9.821x_3^{-0.020} + 8.572x_4^{-0.034}-0.525\\right)\n",
      "    Epoch 10000, current loss 0.062, current formula \\left(-1.212x_1^{0.641} + 0.129x_2^{1.852}-17.596x_3^{-0.012} + 16.359x_4^{-0.018}-0.544\\right)\n",
      "  Finished run #1, loss 0.06200076639652252, best loss 0.06200076639652252\n",
      "  Initialization #2\n",
      "    Epoch 5000, current loss 0.0556, current formula \\left(3.211x_1^{-0.071} + 0.134x_2^{2.998} + 0.898x_3^{2.649} + 3.351x_4^{-0.079}-9.748\\right)\n"
     ]
    },
    {
     "ename": "KeyboardInterrupt",
     "evalue": "",
     "output_type": "error",
     "traceback": [
      "\u001b[0;31m---------------------------------------------------------------------------\u001b[0m",
      "\u001b[0;31mKeyboardInterrupt\u001b[0m                         Traceback (most recent call last)",
      "\u001b[0;32m<ipython-input-16-5fd5fc00a897>\u001b[0m in \u001b[0;36m<module>\u001b[0;34m\u001b[0m\n\u001b[0;32m----> 1\u001b[0;31m \u001b[0mexplore\u001b[0m\u001b[0;34m.\u001b[0m\u001b[0mexplore\u001b[0m\u001b[0;34m(\u001b[0m\u001b[0mn_variables\u001b[0m\u001b[0;34m=\u001b[0m\u001b[0;36m4\u001b[0m\u001b[0;34m,\u001b[0m \u001b[0mmax_power\u001b[0m\u001b[0;34m=\u001b[0m\u001b[0;36m48\u001b[0m\u001b[0;34m,\u001b[0m \u001b[0mdivide_powers_by\u001b[0m\u001b[0;34m=\u001b[0m\u001b[0;36m12\u001b[0m\u001b[0;34m,\u001b[0m \u001b[0;34m)\u001b[0m\u001b[0;34m\u001b[0m\u001b[0;34m\u001b[0m\u001b[0m\n\u001b[0m",
      "\u001b[0;32m/home/zybinmikhail/Documents/personal github projects/LearningFormulas/explore.py\u001b[0m in \u001b[0;36mexplore\u001b[0;34m(n_variables, m_samples, min_power, max_power, number_of_tested_formulas, recovery_threshold, divide_powers_by)\u001b[0m\n\u001b[1;32m     71\u001b[0m         \u001b[0mcoeffs\u001b[0m\u001b[0;34m,\u001b[0m \u001b[0mpowers\u001b[0m\u001b[0;34m,\u001b[0m \u001b[0mb\u001b[0m\u001b[0;34m,\u001b[0m \u001b[0mX\u001b[0m\u001b[0;34m,\u001b[0m \u001b[0my\u001b[0m\u001b[0;34m,\u001b[0m \u001b[0mtrue_params\u001b[0m \u001b[0;34m=\u001b[0m \u001b[0mgenerate_data\u001b[0m\u001b[0;34m(\u001b[0m\u001b[0mn_variables\u001b[0m\u001b[0;34m,\u001b[0m \u001b[0mm_samples\u001b[0m\u001b[0;34m,\u001b[0m \u001b[0mmin_power\u001b[0m\u001b[0;34m,\u001b[0m \u001b[0mmax_power\u001b[0m \u001b[0;34m+\u001b[0m \u001b[0;36m1\u001b[0m\u001b[0;34m,\u001b[0m \u001b[0mdivide_powers_by\u001b[0m\u001b[0;34m)\u001b[0m\u001b[0;34m\u001b[0m\u001b[0;34m\u001b[0m\u001b[0m\n\u001b[1;32m     72\u001b[0m         \u001b[0mcnt_iteration\u001b[0m \u001b[0;34m=\u001b[0m \u001b[0mtime\u001b[0m\u001b[0;34m.\u001b[0m\u001b[0mperf_counter\u001b[0m\u001b[0;34m(\u001b[0m\u001b[0;34m)\u001b[0m\u001b[0;34m\u001b[0m\u001b[0;34m\u001b[0m\u001b[0m\n\u001b[0;32m---> 73\u001b[0;31m         \u001b[0mregressor\u001b[0m\u001b[0;34m,\u001b[0m \u001b[0m_\u001b[0m \u001b[0;34m=\u001b[0m \u001b[0mNestedFormula\u001b[0m\u001b[0;34m.\u001b[0m\u001b[0mLearnFormula\u001b[0m\u001b[0;34m(\u001b[0m\u001b[0mX\u001b[0m\u001b[0;34m,\u001b[0m \u001b[0my\u001b[0m\u001b[0;34m,\u001b[0m \u001b[0moptimizer_for_formula\u001b[0m\u001b[0;34m=\u001b[0m\u001b[0mtorch\u001b[0m\u001b[0;34m.\u001b[0m\u001b[0moptim\u001b[0m\u001b[0;34m.\u001b[0m\u001b[0mRprop\u001b[0m\u001b[0;34m,\u001b[0m \u001b[0mn_init\u001b[0m\u001b[0;34m=\u001b[0m\u001b[0;36m10\u001b[0m\u001b[0;34m)\u001b[0m\u001b[0;34m\u001b[0m\u001b[0;34m\u001b[0m\u001b[0m\n\u001b[0m\u001b[1;32m     74\u001b[0m         \u001b[0mprint_time\u001b[0m\u001b[0;34m(\u001b[0m\u001b[0mcnt\u001b[0m\u001b[0;34m,\u001b[0m \u001b[0mcnt_iteration\u001b[0m\u001b[0;34m)\u001b[0m\u001b[0;34m\u001b[0m\u001b[0;34m\u001b[0m\u001b[0m\n\u001b[1;32m     75\u001b[0m         \u001b[0mprint\u001b[0m\u001b[0;34m(\u001b[0m\u001b[0;34m\"ground truth and obtained formula\"\u001b[0m\u001b[0;34m)\u001b[0m\u001b[0;34m\u001b[0m\u001b[0;34m\u001b[0m\u001b[0m\n",
      "\u001b[0;32m/home/zybinmikhail/Documents/personal github projects/LearningFormulas/NestedFormula.py\u001b[0m in \u001b[0;36mLearnFormula\u001b[0;34m(X, y, optimizer_for_formula, device, n_init, max_iter, lr, depth, verbose, verbose_frequency, max_epochs_without_improvement, minimal_acceptable_improvement, max_tol, use_swa)\u001b[0m\n\u001b[1;32m    264\u001b[0m             \u001b[0moptimizer\u001b[0m\u001b[0;34m.\u001b[0m\u001b[0mstep\u001b[0m\u001b[0;34m(\u001b[0m\u001b[0;34m)\u001b[0m\u001b[0;34m\u001b[0m\u001b[0;34m\u001b[0m\u001b[0m\n\u001b[1;32m    265\u001b[0m             \u001b[0mepoch\u001b[0m \u001b[0;34m+=\u001b[0m \u001b[0;36m1\u001b[0m\u001b[0;34m\u001b[0m\u001b[0;34m\u001b[0m\u001b[0m\n\u001b[0;32m--> 266\u001b[0;31m             \u001b[0;32mif\u001b[0m \u001b[0mtorch\u001b[0m\u001b[0;34m.\u001b[0m\u001b[0mabs\u001b[0m\u001b[0;34m(\u001b[0m\u001b[0mprevious_loss\u001b[0m \u001b[0;34m-\u001b[0m \u001b[0mloss\u001b[0m\u001b[0;34m)\u001b[0m \u001b[0;34m<\u001b[0m \u001b[0mminimal_acceptable_improvement\u001b[0m\u001b[0;34m:\u001b[0m\u001b[0;34m\u001b[0m\u001b[0;34m\u001b[0m\u001b[0m\n\u001b[0m\u001b[1;32m    267\u001b[0m                 \u001b[0mepochs_without_improvement\u001b[0m \u001b[0;34m+=\u001b[0m \u001b[0;36m1\u001b[0m\u001b[0;34m\u001b[0m\u001b[0;34m\u001b[0m\u001b[0m\n\u001b[1;32m    268\u001b[0m             \u001b[0;32melse\u001b[0m\u001b[0;34m:\u001b[0m\u001b[0;34m\u001b[0m\u001b[0;34m\u001b[0m\u001b[0m\n",
      "\u001b[0;31mKeyboardInterrupt\u001b[0m: "
     ]
    }
   ],
   "source": [
    "explore.explore(\n",
    "    n_variables=4,\n",
    "    max_power=48,\n",
    "    divide_powers_by=12,\n",
    ")"
   ]
  },
  {
   "cell_type": "code",
   "execution_count": 3,
   "metadata": {
    "scrolled": true
   },
   "outputs": [
    {
     "name": "stdout",
     "output_type": "stream",
     "text": [
      "\n",
      "\n",
      "----------------------------Exploring new formula #1----------------------------\n",
      "  Initialization #1\n",
      "  Finished run #1, loss 2.0261449407144028e-08, best loss 2.0261449407144028e-08\n",
      "loss is smaller than 1e-05, terminating learning process\n",
      "1 seconds passed from the start, the iteration took 1 seconds\n",
      "ground truth and obtained formula\n"
     ]
    },
    {
     "data": {
      "text/latex": [
       "$\\displaystyle 0.491x_{1}^{4.0}-0.935x_{2}^{2.0}-0.006$"
      ],
      "text/plain": [
       "<IPython.core.display.Math object>"
      ]
     },
     "metadata": {},
     "output_type": "display_data"
    },
    {
     "data": {
      "text/latex": [
       "$\\displaystyle \\left(0.492x_1^{4.028}-0.936x_2^{1.994}-0.005\\right)$"
      ],
      "text/plain": [
       "<IPython.core.display.Math object>"
      ]
     },
     "metadata": {},
     "output_type": "display_data"
    },
    {
     "name": "stdout",
     "output_type": "stream",
     "text": [
      "MSE between formula parameters is 0.00016596720811166494\n",
      "FAILURE\n",
      "\n",
      "\n",
      "----------------------------Exploring new formula #2----------------------------\n",
      "  Initialization #1\n",
      "  Finished run #1, loss 5.672545766444159e-13, best loss 5.672545766444159e-13\n",
      "loss is smaller than 1e-05, terminating learning process\n",
      "3 seconds passed from the start, the iteration took 1 seconds\n",
      "ground truth and obtained formula\n"
     ]
    },
    {
     "data": {
      "text/latex": [
       "$\\displaystyle 1.327x_{1}^{4.0}-1.245x_{2}^{3.0}+0.028$"
      ],
      "text/plain": [
       "<IPython.core.display.Math object>"
      ]
     },
     "metadata": {},
     "output_type": "display_data"
    },
    {
     "data": {
      "text/latex": [
       "$\\displaystyle \\left(1.327x_1^{4.000}-1.245x_2^{3.000} + 0.028\\right)$"
      ],
      "text/plain": [
       "<IPython.core.display.Math object>"
      ]
     },
     "metadata": {},
     "output_type": "display_data"
    },
    {
     "name": "stdout",
     "output_type": "stream",
     "text": [
      "MSE between formula parameters is 2.684466607338898e-11\n",
      "EXACT RECOVERY\n",
      "\n",
      "\n",
      "----------------------------Exploring new formula #3----------------------------\n",
      "  Initialization #1\n",
      "  Finished run #1, loss 0.00852009654045105, best loss 0.00852009654045105\n",
      "  Initialization #2\n",
      "  Finished run #2, loss 2.1039375797116122e-10, best loss 2.1039375797116122e-10\n",
      "loss is smaller than 1e-05, terminating learning process\n",
      "8 seconds passed from the start, the iteration took 6 seconds\n",
      "ground truth and obtained formula\n"
     ]
    },
    {
     "data": {
      "text/latex": [
       "$\\displaystyle -1.326x_{1}^{5.0}-0.401x_{2}^{2.0}-0.041$"
      ],
      "text/plain": [
       "<IPython.core.display.Math object>"
      ]
     },
     "metadata": {},
     "output_type": "display_data"
    },
    {
     "data": {
      "text/latex": [
       "$\\displaystyle \\left(-1.324x_1^{4.996}-0.401x_2^{2.001}-0.041\\right)$"
      ],
      "text/plain": [
       "<IPython.core.display.Math object>"
      ]
     },
     "metadata": {},
     "output_type": "display_data"
    },
    {
     "name": "stdout",
     "output_type": "stream",
     "text": [
      "MSE between formula parameters is 3.194146757048988e-06\n",
      "EXACT RECOVERY\n",
      "\n",
      "\n",
      "----------------------------Exploring new formula #4----------------------------\n",
      "  Initialization #1\n",
      "  Finished run #1, loss 0.0006071350071579218, best loss 0.0006071350071579218\n",
      "  Initialization #2\n",
      "  Finished run #2, loss 0.004937557503581047, best loss 0.0006071350071579218\n",
      "  Initialization #3\n",
      "  Finished run #3, loss 0.01582016795873642, best loss 0.0006071350071579218\n",
      "  Initialization #4\n",
      "  Finished run #4, loss 0.015445942990481853, best loss 0.0006071350071579218\n",
      "19 seconds passed from the start, the iteration took 11 seconds\n",
      "ground truth and obtained formula\n"
     ]
    },
    {
     "data": {
      "text/latex": [
       "$\\displaystyle -1.426x_{1}^{3.0}+0.256x_{2}^{3.0}+0.506$"
      ],
      "text/plain": [
       "<IPython.core.display.Math object>"
      ]
     },
     "metadata": {},
     "output_type": "display_data"
    },
    {
     "data": {
      "text/latex": [
       "$\\displaystyle \\left(-0.933x_1^{1.418}-3.500x_2^{110.691} + 0.681\\right)$"
      ],
      "text/plain": [
       "<IPython.core.display.Math object>"
      ]
     },
     "metadata": {},
     "output_type": "display_data"
    },
    {
     "name": "stdout",
     "output_type": "stream",
     "text": [
      "MSE between formula parameters is 2322.8296425815106\n",
      "FAILURE\n",
      "\n",
      "\n",
      "----------------------------Exploring new formula #5----------------------------\n",
      "  Initialization #1\n",
      "    Epoch 5000, current loss 0.0788, current formula \\left(6.687x_1^{-0.268} + 1.010x_2^{1.068}-8.812\\right)\n",
      "    Epoch 10000, current loss 0.0764, current formula \\left(9.039x_1^{-0.205} + 1.018x_2^{1.063}-11.178\\right)\n",
      "  Finished run #1, loss 0.07638335973024368, best loss 0.07638335973024368\n",
      "  Initialization #2\n",
      "  Finished run #2, loss 8.344080634770101e-12, best loss 8.344080634770101e-12\n",
      "loss is smaller than 1e-05, terminating learning process\n",
      "30 seconds passed from the start, the iteration took 12 seconds\n",
      "ground truth and obtained formula\n"
     ]
    },
    {
     "data": {
      "text/latex": [
       "$\\displaystyle -1.941x_{1}^{5.0}+1.112x_{2}^{1.0}-0.765$"
      ],
      "text/plain": [
       "<IPython.core.display.Math object>"
      ]
     },
     "metadata": {},
     "output_type": "display_data"
    },
    {
     "data": {
      "text/latex": [
       "$\\displaystyle \\left(-1.941x_1^{5.000} + 1.112x_2^{1.000}-0.765\\right)$"
      ],
      "text/plain": [
       "<IPython.core.display.Math object>"
      ]
     },
     "metadata": {},
     "output_type": "display_data"
    },
    {
     "name": "stdout",
     "output_type": "stream",
     "text": [
      "MSE between formula parameters is 3.3002791610670103e-10\n",
      "EXACT RECOVERY\n",
      "\n",
      "################################################################################\n",
      "MSEs between parameters:\n",
      "[0.00016596720811166494, 2.684466607338898e-11, 3.194146757048988e-06, 2322.8296425815106, 3.3002791610670103e-10]\n",
      "For 3 formulas out of 5 the error is less than 1e-05.\n",
      "\n",
      "\n",
      "----------------------------Exploring new formula #1----------------------------\n",
      "  Initialization #1\n",
      "  Finished run #1, loss 0.012539874762296677, best loss 0.012539874762296677\n",
      "  Initialization #2\n",
      "  Finished run #2, loss 0.01325070858001709, best loss 0.012539874762296677\n",
      "  Initialization #3\n",
      "  Finished run #3, loss 0.011086439713835716, best loss 0.011086439713835716\n",
      "  Initialization #4\n",
      "  Finished run #4, loss 0.01105429232120514, best loss 0.01105429232120514\n",
      "29 seconds passed from the start, the iteration took 29 seconds\n",
      "ground truth and obtained formula\n"
     ]
    },
    {
     "data": {
      "text/latex": [
       "$\\displaystyle 0.141x_{1}^{2.5}+0.763x_{2}^{3.0}-0.803$"
      ],
      "text/plain": [
       "<IPython.core.display.Math object>"
      ]
     },
     "metadata": {},
     "output_type": "display_data"
    },
    {
     "data": {
      "text/latex": [
       "$\\displaystyle \\left(0.261x_1^{1.212}-2.017x_2^{-0.180} + 1.684\\right)$"
      ],
      "text/plain": [
       "<IPython.core.display.Math object>"
      ]
     },
     "metadata": {},
     "output_type": "display_data"
    },
    {
     "name": "stdout",
     "output_type": "stream",
     "text": [
      "MSE between formula parameters is 5.13898947510706\n",
      "FAILURE\n",
      "\n",
      "\n",
      "----------------------------Exploring new formula #2----------------------------\n",
      "  Initialization #1\n",
      "  Finished run #1, loss 0.0015452116494998336, best loss 0.0015452116494998336\n",
      "  Initialization #2\n",
      "  Finished run #2, loss 1.5867130526148188e-11, best loss 1.5867130526148188e-11\n",
      "loss is smaller than 1e-05, terminating learning process\n",
      "35 seconds passed from the start, the iteration took 5 seconds\n",
      "ground truth and obtained formula\n"
     ]
    },
    {
     "data": {
      "text/latex": [
       "$\\displaystyle -0.098x_{1}^{4.0}+0.319x_{2}^{4.5}-0.663$"
      ],
      "text/plain": [
       "<IPython.core.display.Math object>"
      ]
     },
     "metadata": {},
     "output_type": "display_data"
    },
    {
     "data": {
      "text/latex": [
       "$\\displaystyle \\left(-0.098x_1^{4.002} + 0.319x_2^{4.499}-0.663\\right)$"
      ],
      "text/plain": [
       "<IPython.core.display.Math object>"
      ]
     },
     "metadata": {},
     "output_type": "display_data"
    },
    {
     "name": "stdout",
     "output_type": "stream",
     "text": [
      "MSE between formula parameters is 9.613262348939777e-07\n",
      "EXACT RECOVERY\n",
      "\n",
      "\n",
      "----------------------------Exploring new formula #3----------------------------\n",
      "  Initialization #1\n",
      "    Epoch 5000, current loss 0.00281, current formula \\left(-0.890x_1^{0.020} + 0.843x_2^{-0.061}-1.068\\right)\n",
      "  Finished run #1, loss 0.0028045806102454662, best loss 0.0028045806102454662\n",
      "  Initialization #2\n",
      "  Finished run #2, loss 1.6033041214114085e-11, best loss 1.6033041214114085e-11\n",
      "loss is smaller than 1e-05, terminating learning process\n",
      "47 seconds passed from the start, the iteration took 12 seconds\n",
      "ground truth and obtained formula\n"
     ]
    },
    {
     "data": {
      "text/latex": [
       "$\\displaystyle 0.23x_{1}^{3.5}-0.253x_{2}^{4.5}-0.997$"
      ],
      "text/plain": [
       "<IPython.core.display.Math object>"
      ]
     },
     "metadata": {},
     "output_type": "display_data"
    },
    {
     "data": {
      "text/latex": [
       "$\\displaystyle \\left(0.230x_1^{3.498}-0.253x_2^{4.500}-0.997\\right)$"
      ],
      "text/plain": [
       "<IPython.core.display.Math object>"
      ]
     },
     "metadata": {},
     "output_type": "display_data"
    },
    {
     "name": "stdout",
     "output_type": "stream",
     "text": [
      "MSE between formula parameters is 5.359365282675554e-07\n",
      "EXACT RECOVERY\n",
      "\n",
      "\n",
      "----------------------------Exploring new formula #4----------------------------\n",
      "  Initialization #1\n",
      "  Finished run #1, loss 0.005440554115921259, best loss 0.005440554115921259\n",
      "  Initialization #2\n",
      "  Finished run #2, loss 0.0020946164149791002, best loss 0.0020946164149791002\n",
      "  Initialization #3\n",
      "  Finished run #3, loss 0.0002347720437683165, best loss 0.0002347720437683165\n",
      "  Initialization #4\n",
      "  Finished run #4, loss 0.005405937787145376, best loss 0.0002347720437683165\n",
      "54 seconds passed from the start, the iteration took 7 seconds\n",
      "ground truth and obtained formula\n"
     ]
    },
    {
     "data": {
      "text/latex": [
       "$\\displaystyle -0.339x_{1}^{4.5}-0.382x_{2}^{3.5}+0.126$"
      ],
      "text/plain": [
       "<IPython.core.display.Math object>"
      ]
     },
     "metadata": {},
     "output_type": "display_data"
    },
    {
     "data": {
      "text/latex": [
       "$\\displaystyle \\left(-0.377x_1^{5.546} + 0.113x_2^{-0.468}-0.094\\right)$"
      ],
      "text/plain": [
       "<IPython.core.display.Math object>"
      ]
     },
     "metadata": {},
     "output_type": "display_data"
    },
    {
     "name": "stdout",
     "output_type": "stream",
     "text": [
      "MSE between formula parameters is 3.4266497131602223\n",
      "FAILURE\n",
      "\n",
      "\n",
      "----------------------------Exploring new formula #5----------------------------\n",
      "  Initialization #1\n",
      "  Finished run #1, loss 0.0009635782917030156, best loss 0.0009635782917030156\n",
      "  Initialization #2\n",
      "    Epoch 5000, current loss 0.00628, current formula \\left(-1.583x_1^{-0.040}-0.043x_2^{1.707} + 0.152\\right)\n",
      "    Epoch 10000, current loss 0.00623, current formula \\left(-2.185x_1^{-0.030}-0.043x_2^{1.715} + 0.755\\right)\n",
      "  Finished run #2, loss 0.0062287310138344765, best loss 0.0009635782917030156\n",
      "  Initialization #3\n",
      "  Finished run #3, loss 0.006213583517819643, best loss 0.0009635782917030156\n",
      "  Initialization #4\n",
      "  Finished run #4, loss 0.0009628385887481272, best loss 0.0009628385887481272\n",
      "1 minutes 16 seconds passed from the start, the iteration took 22 seconds\n",
      "ground truth and obtained formula\n"
     ]
    },
    {
     "data": {
      "text/latex": [
       "$\\displaystyle 0.842x_{1}^{5.0}-0.158x_{2}^{5.5}-1.58$"
      ],
      "text/plain": [
       "<IPython.core.display.Math object>"
      ]
     },
     "metadata": {},
     "output_type": "display_data"
    },
    {
     "data": {
      "text/latex": [
       "$\\displaystyle \\left(0.476x_1^{2.648}-0.968x_2^{0.007}-0.668\\right)$"
      ],
      "text/plain": [
       "<IPython.core.display.Math object>"
      ]
     },
     "metadata": {},
     "output_type": "display_data"
    },
    {
     "name": "stdout",
     "output_type": "stream",
     "text": [
      "MSE between formula parameters is 7.465098012900606\n",
      "FAILURE\n",
      "\n",
      "################################################################################\n",
      "MSEs between parameters:\n",
      "[5.13898947510706, 9.613262348939777e-07, 5.359365282675554e-07, 3.4266497131602223, 7.465098012900606]\n",
      "For 2 formulas out of 5 the error is less than 1e-05.\n",
      "\n",
      "\n",
      "----------------------------Exploring new formula #1----------------------------\n",
      "  Initialization #1\n",
      "  Finished run #1, loss 0.0004746333579532802, best loss 0.0004746333579532802\n",
      "  Initialization #2\n",
      "  Finished run #2, loss 1.8544620616012253e-05, best loss 1.8544620616012253e-05\n",
      "  Initialization #3\n",
      "    Epoch 5000, current loss 0.00092, current formula \\left(-0.309x_1^{0.726}-1.517x_2^{-0.180} + 3.212\\right)\n",
      "  Finished run #3, loss 0.0008934688521549106, best loss 1.8544620616012253e-05\n",
      "  Initialization #4\n",
      "  Finished run #4, loss 0.0006942421314306557, best loss 1.8544620616012253e-05\n",
      "19 seconds passed from the start, the iteration took 19 seconds\n",
      "ground truth and obtained formula\n"
     ]
    },
    {
     "data": {
      "text/latex": [
       "$\\displaystyle -0.359x_{1}^{0.667}+1.813x_{2}^{0.25}-0.034$"
      ],
      "text/plain": [
       "<IPython.core.display.Math object>"
      ]
     },
     "metadata": {},
     "output_type": "display_data"
    },
    {
     "data": {
      "text/latex": [
       "$\\displaystyle \\left(-0.364x_1^{0.701} + 1.531x_2^{0.314} + 0.252\\right)$"
      ],
      "text/plain": [
       "<IPython.core.display.Math object>"
      ]
     },
     "metadata": {},
     "output_type": "display_data"
    },
    {
     "name": "stdout",
     "output_type": "stream",
     "text": [
      "MSE between formula parameters is 0.03338729402236941\n",
      "FAILURE\n",
      "\n",
      "\n",
      "----------------------------Exploring new formula #2----------------------------\n",
      "  Initialization #1\n",
      "  Finished run #1, loss 7.836091526769451e-07, best loss 7.836091526769451e-07\n",
      "loss is smaller than 1e-05, terminating learning process\n",
      "21 seconds passed from the start, the iteration took 2 seconds\n",
      "ground truth and obtained formula\n"
     ]
    },
    {
     "data": {
      "text/latex": [
       "$\\displaystyle 0.572x_{1}^{0.083}+1.742x_{2}^{5.833}-1.244$"
      ],
      "text/plain": [
       "<IPython.core.display.Math object>"
      ]
     },
     "metadata": {},
     "output_type": "display_data"
    },
    {
     "data": {
      "text/latex": [
       "$\\displaystyle \\left(1.090x_1^{0.040} + 1.741x_2^{5.830}-1.763\\right)$"
      ],
      "text/plain": [
       "<IPython.core.display.Math object>"
      ]
     },
     "metadata": {},
     "output_type": "display_data"
    },
    {
     "name": "stdout",
     "output_type": "stream",
     "text": [
      "MSE between formula parameters is 0.10777169353995039\n",
      "FAILURE\n",
      "\n",
      "\n",
      "----------------------------Exploring new formula #3----------------------------\n",
      "  Initialization #1\n",
      "  Finished run #1, loss 2.2248513795175562e-11, best loss 2.2248513795175562e-11\n",
      "loss is smaller than 1e-05, terminating learning process\n",
      "24 seconds passed from the start, the iteration took 3 seconds\n",
      "ground truth and obtained formula\n"
     ]
    },
    {
     "data": {
      "text/latex": [
       "$\\displaystyle 1.256x_{1}^{0.667}+0.766x_{2}^{4.167}-0.533$"
      ],
      "text/plain": [
       "<IPython.core.display.Math object>"
      ]
     },
     "metadata": {},
     "output_type": "display_data"
    },
    {
     "data": {
      "text/latex": [
       "$\\displaystyle \\left(1.256x_1^{0.667} + 0.766x_2^{4.167}-0.533\\right)$"
      ],
      "text/plain": [
       "<IPython.core.display.Math object>"
      ]
     },
     "metadata": {},
     "output_type": "display_data"
    },
    {
     "name": "stdout",
     "output_type": "stream",
     "text": [
      "MSE between formula parameters is 6.141286945648972e-09\n",
      "EXACT RECOVERY\n",
      "\n",
      "\n",
      "----------------------------Exploring new formula #4----------------------------\n",
      "  Initialization #1\n",
      "  Finished run #1, loss 9.789586329134181e-05, best loss 9.789586329134181e-05\n",
      "  Initialization #2\n",
      "  Finished run #2, loss 1.308902426444547e-07, best loss 1.308902426444547e-07\n",
      "loss is smaller than 1e-05, terminating learning process\n",
      "27 seconds passed from the start, the iteration took 4 seconds\n",
      "ground truth and obtained formula\n"
     ]
    },
    {
     "data": {
      "text/latex": [
       "$\\displaystyle 0.562x_{1}^{2.75}-0.257x_{2}^{1.667}+0.111$"
      ],
      "text/plain": [
       "<IPython.core.display.Math object>"
      ]
     },
     "metadata": {},
     "output_type": "display_data"
    },
    {
     "data": {
      "text/latex": [
       "$\\displaystyle \\left(0.559x_1^{2.700}-0.265x_2^{1.753} + 0.108\\right)$"
      ],
      "text/plain": [
       "<IPython.core.display.Math object>"
      ]
     },
     "metadata": {},
     "output_type": "display_data"
    },
    {
     "name": "stdout",
     "output_type": "stream",
     "text": [
      "MSE between formula parameters is 0.002012487476838143\n",
      "FAILURE\n",
      "\n",
      "\n",
      "----------------------------Exploring new formula #5----------------------------\n",
      "  Initialization #1\n",
      "  Finished run #1, loss 3.900595471617585e-11, best loss 3.900595471617585e-11\n",
      "loss is smaller than 1e-05, terminating learning process\n",
      "29 seconds passed from the start, the iteration took 2 seconds\n",
      "ground truth and obtained formula\n"
     ]
    },
    {
     "data": {
      "text/latex": [
       "$\\displaystyle -0.74x_{1}^{4.25}-0.345x_{2}^{2.167}-1.24$"
      ],
      "text/plain": [
       "<IPython.core.display.Math object>"
      ]
     },
     "metadata": {},
     "output_type": "display_data"
    },
    {
     "data": {
      "text/latex": [
       "$\\displaystyle \\left(-0.740x_1^{4.250}-0.345x_2^{2.166}-1.240\\right)$"
      ],
      "text/plain": [
       "<IPython.core.display.Math object>"
      ]
     },
     "metadata": {},
     "output_type": "display_data"
    },
    {
     "name": "stdout",
     "output_type": "stream",
     "text": [
      "MSE between formula parameters is 1.1107936419563202e-07\n",
      "EXACT RECOVERY\n",
      "\n",
      "################################################################################\n",
      "MSEs between parameters:\n",
      "[0.03338729402236941, 0.10777169353995039, 6.141286945648972e-09, 0.002012487476838143, 1.1107936419563202e-07]\n",
      "For 2 formulas out of 5 the error is less than 1e-05.\n",
      "\n",
      "\n",
      "----------------------------Exploring new formula #1----------------------------\n",
      "  Initialization #1\n",
      "  Finished run #1, loss 0.009570987895131111, best loss 0.009570987895131111\n",
      "  Initialization #2\n",
      "  Finished run #2, loss 9.90989701676881e-06, best loss 9.90989701676881e-06\n",
      "loss is smaller than 1e-05, terminating learning process\n",
      "8 seconds passed from the start, the iteration took 8 seconds\n",
      "ground truth and obtained formula\n"
     ]
    },
    {
     "data": {
      "text/latex": [
       "$\\displaystyle -0.036x_{1}^{3.0}+0.131x_{2}^{3.0}-0.632x_{3}^{2.0}-0.0$"
      ],
      "text/plain": [
       "<IPython.core.display.Math object>"
      ]
     },
     "metadata": {},
     "output_type": "display_data"
    },
    {
     "data": {
      "text/latex": [
       "$\\displaystyle \\left(-0.220x_1^{0.037} + 0.099x_2^{2.240}-0.632x_3^{2.002} + 0.203\\right)$"
      ],
      "text/plain": [
       "<IPython.core.display.Math object>"
      ]
     },
     "metadata": {},
     "output_type": "display_data"
    },
    {
     "name": "stdout",
     "output_type": "stream",
     "text": [
      "MSE between formula parameters is 1.3478706979263448\n",
      "FAILURE\n",
      "\n",
      "\n",
      "----------------------------Exploring new formula #2----------------------------\n",
      "  Initialization #1\n",
      "  Finished run #1, loss 1.9820915742041478e-10, best loss 1.9820915742041478e-10\n",
      "loss is smaller than 1e-05, terminating learning process\n",
      "10 seconds passed from the start, the iteration took 2 seconds\n",
      "ground truth and obtained formula\n"
     ]
    },
    {
     "data": {
      "text/latex": [
       "$\\displaystyle 0.152x_{1}^{6.0}+0.28x_{2}^{6.0}-0.67x_{3}^{2.0}-0.207$"
      ],
      "text/plain": [
       "<IPython.core.display.Math object>"
      ]
     },
     "metadata": {},
     "output_type": "display_data"
    },
    {
     "data": {
      "text/latex": [
       "$\\displaystyle \\left(0.151x_1^{5.978} + 0.280x_2^{6.001}-0.670x_3^{1.999}-0.206\\right)$"
      ],
      "text/plain": [
       "<IPython.core.display.Math object>"
      ]
     },
     "metadata": {},
     "output_type": "display_data"
    },
    {
     "name": "stdout",
     "output_type": "stream",
     "text": [
      "MSE between formula parameters is 7.065537805235016e-05\n",
      "EXACT RECOVERY\n",
      "\n",
      "\n",
      "----------------------------Exploring new formula #3----------------------------\n",
      "  Initialization #1\n",
      "  Finished run #1, loss 0.00044768533552996814, best loss 0.00044768533552996814\n",
      "  Initialization #2\n",
      "  Finished run #2, loss 0.006539390422403812, best loss 0.00044768533552996814\n",
      "  Initialization #3\n",
      "    Epoch 5000, current loss 0.0505, current formula \\left(3.683x_1^{-0.118}-2.020x_2^{-0.114}-3.268x_3^{0.010}-1.035\\right)\n",
      "    Epoch 10000, current loss 0.0485, current formula \\left(6.688x_1^{-0.070}-2.035x_2^{-0.116}-6.131x_3^{0.005}-1.172\\right)\n",
      "  Finished run #3, loss 0.048523370176553726, best loss 0.00044768533552996814\n",
      "  Initialization #4\n",
      "  Finished run #4, loss 0.005677252076566219, best loss 0.00044768533552996814\n",
      "36 seconds passed from the start, the iteration took 27 seconds\n",
      "ground truth and obtained formula\n"
     ]
    },
    {
     "data": {
      "text/latex": [
       "$\\displaystyle -1.007x_{1}^{6.0}+0.328x_{2}^{1.0}-1.0x_{3}^{5.0}-2.357$"
      ],
      "text/plain": [
       "<IPython.core.display.Math object>"
      ]
     },
     "metadata": {},
     "output_type": "display_data"
    },
    {
     "data": {
      "text/latex": [
       "$\\displaystyle \\left(-0.985x_1^{4.477}-2.435x_2^{-0.053}-1.108x_3^{6.455} + 0.373\\right)$"
      ],
      "text/plain": [
       "<IPython.core.display.Math object>"
      ]
     },
     "metadata": {},
     "output_type": "display_data"
    },
    {
     "name": "stdout",
     "output_type": "stream",
     "text": [
      "MSE between formula parameters is 2.949076359196186\n",
      "FAILURE\n",
      "\n",
      "\n",
      "----------------------------Exploring new formula #4----------------------------\n",
      "  Initialization #1\n",
      "  Finished run #1, loss 1.1024070111637085e-12, best loss 1.1024070111637085e-12\n",
      "loss is smaller than 1e-05, terminating learning process\n",
      "39 seconds passed from the start, the iteration took 3 seconds\n",
      "ground truth and obtained formula\n"
     ]
    },
    {
     "data": {
      "text/latex": [
       "$\\displaystyle 0.867x_{1}^{3.0}-1.141x_{2}^{4.0}+0.571x_{3}^{5.0}+0.798$"
      ],
      "text/plain": [
       "<IPython.core.display.Math object>"
      ]
     },
     "metadata": {},
     "output_type": "display_data"
    },
    {
     "data": {
      "text/latex": [
       "$\\displaystyle \\left(0.867x_1^{3.000}-1.141x_2^{4.000} + 0.571x_3^{5.000} + 0.798\\right)$"
      ],
      "text/plain": [
       "<IPython.core.display.Math object>"
      ]
     },
     "metadata": {},
     "output_type": "display_data"
    },
    {
     "name": "stdout",
     "output_type": "stream",
     "text": [
      "MSE between formula parameters is 3.226351249655376e-10\n",
      "EXACT RECOVERY\n",
      "\n",
      "\n",
      "----------------------------Exploring new formula #5----------------------------\n",
      "  Initialization #1\n",
      "  Finished run #1, loss 0.026694979518651962, best loss 0.026694979518651962\n",
      "  Initialization #2\n",
      "  Finished run #2, loss 0.011165634728968143, best loss 0.011165634728968143\n",
      "  Initialization #3\n",
      "  Finished run #3, loss 0.017392152920365334, best loss 0.011165634728968143\n",
      "  Initialization #4\n",
      "  Finished run #4, loss 0.025807542726397514, best loss 0.011165634728968143\n",
      "53 seconds passed from the start, the iteration took 14 seconds\n",
      "ground truth and obtained formula\n"
     ]
    },
    {
     "data": {
      "text/latex": [
       "$\\displaystyle -1.604x_{1}^{6.0}-0.349x_{2}^{1.0}-0.95x_{3}^{3.0}+1.092$"
      ],
      "text/plain": [
       "<IPython.core.display.Math object>"
      ]
     },
     "metadata": {},
     "output_type": "display_data"
    },
    {
     "data": {
      "text/latex": [
       "$\\displaystyle \\left(2.008x_1^{-0.507} + 0.775x_2^{1.315}-2.005x_3^{1.586}-2.155\\right)$"
      ],
      "text/plain": [
       "<IPython.core.display.Math object>"
      ]
     },
     "metadata": {},
     "output_type": "display_data"
    },
    {
     "name": "stdout",
     "output_type": "stream",
     "text": [
      "MSE between formula parameters is 10.058998564018404\n",
      "FAILURE\n",
      "\n",
      "################################################################################\n",
      "MSEs between parameters:\n",
      "[1.3478706979263448, 7.065537805235016e-05, 2.949076359196186, 3.226351249655376e-10, 10.058998564018404]\n",
      "For 1 formulas out of 5 the error is less than 1e-05.\n",
      "\n",
      "\n",
      "----------------------------Exploring new formula #1----------------------------\n",
      "  Initialization #1\n",
      "  Finished run #1, loss 0.0032837269827723503, best loss 0.0032837269827723503\n",
      "  Initialization #2\n",
      "  Finished run #2, loss 0.0029850767459720373, best loss 0.0029850767459720373\n",
      "  Initialization #3\n",
      "  Finished run #3, loss 0.005138542503118515, best loss 0.0029850767459720373\n",
      "  Initialization #4\n",
      "  Finished run #4, loss 0.002051868010312319, best loss 0.002051868010312319\n",
      "13 seconds passed from the start, the iteration took 13 seconds\n",
      "ground truth and obtained formula\n"
     ]
    },
    {
     "data": {
      "text/latex": [
       "$\\displaystyle 0.037x_{1}^{5.0}+0.335x_{2}^{4.5}+0.413x_{3}^{3.5}+2.244$"
      ],
      "text/plain": [
       "<IPython.core.display.Math object>"
      ]
     },
     "metadata": {},
     "output_type": "display_data"
    },
    {
     "data": {
      "text/latex": [
       "$\\displaystyle \\left(-0.000x_1^{-1.777} + 2.430x_2^{0.039} + 0.508x_3^{3.308}-0.052\\right)$"
      ],
      "text/plain": [
       "<IPython.core.display.Math object>"
      ]
     },
     "metadata": {},
     "output_type": "display_data"
    },
    {
     "name": "stdout",
     "output_type": "stream",
     "text": [
      "MSE between formula parameters is 10.791518390106434\n",
      "FAILURE\n",
      "\n",
      "\n",
      "----------------------------Exploring new formula #2----------------------------\n",
      "  Initialization #1\n",
      "  Finished run #1, loss 0.0026381555944681168, best loss 0.0026381555944681168\n",
      "  Initialization #2\n",
      "  Finished run #2, loss 0.0044603003188967705, best loss 0.0026381555944681168\n",
      "  Initialization #3\n",
      "    Epoch 5000, current loss 0.0026, current formula \\left(-0.636x_1^{0.023} + 0.862x_2^{0.076} + 0.984x_3^{6.076} + 1.130\\right)\n",
      "  Finished run #3, loss 0.002601208630949259, best loss 0.002601208630949259\n",
      "  Initialization #4\n",
      "  Finished run #4, loss 0.0027385230641812086, best loss 0.002601208630949259\n",
      "36 seconds passed from the start, the iteration took 23 seconds\n",
      "ground truth and obtained formula\n"
     ]
    },
    {
     "data": {
      "text/latex": [
       "$\\displaystyle 1.157x_{1}^{5.0}+0.4x_{2}^{1.5}+0.392x_{3}^{4.0}+1.14$"
      ],
      "text/plain": [
       "<IPython.core.display.Math object>"
      ]
     },
     "metadata": {},
     "output_type": "display_data"
    },
    {
     "data": {
      "text/latex": [
       "$\\displaystyle \\left(-0.635x_1^{0.022} + 0.843x_2^{0.078} + 0.984x_3^{6.078} + 1.150\\right)$"
      ],
      "text/plain": [
       "<IPython.core.display.Math object>"
      ]
     },
     "metadata": {},
     "output_type": "display_data"
    },
    {
     "name": "stdout",
     "output_type": "stream",
     "text": [
      "MSE between formula parameters is 4.98202402279256\n",
      "FAILURE\n",
      "\n",
      "\n",
      "----------------------------Exploring new formula #3----------------------------\n",
      "  Initialization #1\n",
      "  Finished run #1, loss 0.0003939237794838846, best loss 0.0003939237794838846\n",
      "  Initialization #2\n",
      "  Finished run #2, loss 1.4053114574807957e-11, best loss 1.4053114574807957e-11\n",
      "loss is smaller than 1e-05, terminating learning process\n",
      "40 seconds passed from the start, the iteration took 4 seconds\n",
      "ground truth and obtained formula\n"
     ]
    },
    {
     "data": {
      "text/latex": [
       "$\\displaystyle 0.12x_{1}^{5.0}+1.231x_{2}^{3.5}+1.578x_{3}^{4.0}-1.497$"
      ],
      "text/plain": [
       "<IPython.core.display.Math object>"
      ]
     },
     "metadata": {},
     "output_type": "display_data"
    },
    {
     "data": {
      "text/latex": [
       "$\\displaystyle \\left(0.120x_1^{4.999} + 1.231x_2^{3.500} + 1.578x_3^{4.000}-1.497\\right)$"
      ],
      "text/plain": [
       "<IPython.core.display.Math object>"
      ]
     },
     "metadata": {},
     "output_type": "display_data"
    },
    {
     "name": "stdout",
     "output_type": "stream",
     "text": [
      "MSE between formula parameters is 2.616922627247347e-07\n",
      "EXACT RECOVERY\n",
      "\n",
      "\n",
      "----------------------------Exploring new formula #4----------------------------\n",
      "  Initialization #1\n",
      "  Finished run #1, loss 8.501180559505883e-07, best loss 8.501180559505883e-07\n",
      "loss is smaller than 1e-05, terminating learning process\n",
      "44 seconds passed from the start, the iteration took 4 seconds\n",
      "ground truth and obtained formula\n"
     ]
    },
    {
     "data": {
      "text/latex": [
       "$\\displaystyle 1.817x_{1}^{2.0}-0.341x_{2}^{1.5}+0.166x_{3}^{0.5}-0.41$"
      ],
      "text/plain": [
       "<IPython.core.display.Math object>"
      ]
     },
     "metadata": {},
     "output_type": "display_data"
    },
    {
     "data": {
      "text/latex": [
       "$\\displaystyle \\left(1.818x_1^{1.991}-0.340x_2^{1.485} + 1.406x_3^{0.048}-1.654\\right)$"
      ],
      "text/plain": [
       "<IPython.core.display.Math object>"
      ]
     },
     "metadata": {},
     "output_type": "display_data"
    },
    {
     "name": "stdout",
     "output_type": "stream",
     "text": [
      "MSE between formula parameters is 0.46973675187538627\n",
      "FAILURE\n",
      "\n",
      "\n",
      "----------------------------Exploring new formula #5----------------------------\n",
      "  Initialization #1\n",
      "  Finished run #1, loss 0.08620265871286392, best loss 0.08620265871286392\n",
      "  Initialization #2\n",
      "  Finished run #2, loss 0.0012681969674304128, best loss 0.0012681969674304128\n",
      "  Initialization #3\n",
      "  Finished run #3, loss 0.08738066256046295, best loss 0.0012681969674304128\n",
      "  Initialization #4\n",
      "  Finished run #4, loss 0.08765256404876709, best loss 0.0012681969674304128\n",
      "1 minutes 7 seconds passed from the start, the iteration took 22 seconds\n",
      "ground truth and obtained formula\n"
     ]
    },
    {
     "data": {
      "text/latex": [
       "$\\displaystyle 0.334x_{1}^{5.0}-1.704x_{2}^{3.0}-0.536x_{3}^{1.0}-1.358$"
      ],
      "text/plain": [
       "<IPython.core.display.Math object>"
      ]
     },
     "metadata": {},
     "output_type": "display_data"
    },
    {
     "data": {
      "text/latex": [
       "$\\displaystyle \\left(-2.849x_1^{-0.038}-1.511x_2^{3.699}-0.253x_3^{4.909} + 1.368\\right)$"
      ],
      "text/plain": [
       "<IPython.core.display.Math object>"
      ]
     },
     "metadata": {},
     "output_type": "display_data"
    },
    {
     "name": "stdout",
     "output_type": "stream",
     "text": [
      "MSE between formula parameters is 8.404091825861311\n",
      "FAILURE\n",
      "\n",
      "################################################################################\n",
      "MSEs between parameters:\n",
      "[10.791518390106434, 4.98202402279256, 2.616922627247347e-07, 0.46973675187538627, 8.404091825861311]\n",
      "For 1 formulas out of 5 the error is less than 1e-05.\n",
      "\n",
      "\n",
      "----------------------------Exploring new formula #1----------------------------\n",
      "  Initialization #1\n",
      "  Finished run #1, loss 0.00800520833581686, best loss 0.00800520833581686\n",
      "  Initialization #2\n",
      "    Epoch 5000, current loss 0.00627, current formula \\left(0.833x_1^{0.720}-1.014x_2^{-0.281}-0.268x_3^{-0.302} + 1.868\\right)\n",
      "  Finished run #2, loss 0.006221104878932238, best loss 0.006221104878932238\n",
      "  Initialization #3\n",
      "  Finished run #3, loss 7.298266427824274e-05, best loss 7.298266427824274e-05\n",
      "  Initialization #4\n",
      "  Finished run #4, loss 0.0030978957656770945, best loss 7.298266427824274e-05\n",
      "17 seconds passed from the start, the iteration took 17 seconds\n",
      "ground truth and obtained formula\n"
     ]
    },
    {
     "data": {
      "text/latex": [
       "$\\displaystyle 0.369x_{1}^{4.5}+0.792x_{2}^{5.5}+0.074x_{3}^{1.167}+0.454$"
      ],
      "text/plain": [
       "<IPython.core.display.Math object>"
      ]
     },
     "metadata": {},
     "output_type": "display_data"
    },
    {
     "data": {
      "text/latex": [
       "$\\displaystyle \\left(0.346x_1^{4.631} + 0.821x_2^{5.782} + 0.673x_3^{0.029}-0.163\\right)$"
      ],
      "text/plain": [
       "<IPython.core.display.Math object>"
      ]
     },
     "metadata": {},
     "output_type": "display_data"
    },
    {
     "name": "stdout",
     "output_type": "stream",
     "text": [
      "MSE between formula parameters is 0.3043596496627718\n",
      "FAILURE\n",
      "\n",
      "\n",
      "----------------------------Exploring new formula #2----------------------------\n",
      "  Initialization #1\n",
      "    Epoch 5000, current loss 0.042, current formula \\left(-5.537x_1^{-0.055}-0.516x_2^{0.082} + 0.546x_3^{11.214} + 7.087\\right)\n",
      "    Epoch 10000, current loss 0.0414, current formula \\left(-7.570x_1^{-0.041}-0.522x_2^{0.081} + 0.520x_3^{10.162} + 9.129\\right)\n",
      "  Finished run #1, loss 0.04137333855032921, best loss 0.04137333855032921\n",
      "  Initialization #2\n",
      "  Finished run #2, loss 6.524211926262069e-08, best loss 6.524211926262069e-08\n",
      "loss is smaller than 1e-05, terminating learning process\n",
      "36 seconds passed from the start, the iteration took 19 seconds\n",
      "ground truth and obtained formula\n"
     ]
    },
    {
     "data": {
      "text/latex": [
       "$\\displaystyle 1.063x_{1}^{3.333}+0.087x_{2}^{5.75}-0.407x_{3}^{0.083}+0.828$"
      ],
      "text/plain": [
       "<IPython.core.display.Math object>"
      ]
     },
     "metadata": {},
     "output_type": "display_data"
    },
    {
     "data": {
      "text/latex": [
       "$\\displaystyle \\left(1.063x_1^{3.327} + 0.087x_2^{5.760}-2.430x_3^{0.013} + 2.852\\right)$"
      ],
      "text/plain": [
       "<IPython.core.display.Math object>"
      ]
     },
     "metadata": {},
     "output_type": "display_data"
    },
    {
     "name": "stdout",
     "output_type": "stream",
     "text": [
      "MSE between formula parameters is 1.170800244115396\n",
      "FAILURE\n",
      "\n",
      "\n",
      "----------------------------Exploring new formula #3----------------------------\n",
      "  Initialization #1\n",
      "    Epoch 5000, current loss 0.141, current formula \\left(7.315x_1^{-0.023}-10.318x_2^{-0.015} + 4.569x_3^{-0.074}-1.011\\right)\n",
      "  Finished run #1, loss 0.14049272239208221, best loss 0.14049272239208221\n",
      "  Initialization #2\n",
      "  Finished run #2, loss 0.055378176271915436, best loss 0.055378176271915436\n",
      "  Initialization #3\n",
      "  Finished run #3, loss 0.003071073442697525, best loss 0.003071073442697525\n",
      "  Initialization #4\n",
      "  Finished run #4, loss 0.05516880005598068, best loss 0.003071073442697525\n",
      "1 minutes 2 seconds passed from the start, the iteration took 26 seconds\n",
      "ground truth and obtained formula\n"
     ]
    },
    {
     "data": {
      "text/latex": [
       "$\\displaystyle -1.752x_{1}^{5.917}-0.777x_{2}^{4.083}-1.682x_{3}^{5.0}+1.624$"
      ],
      "text/plain": [
       "<IPython.core.display.Math object>"
      ]
     },
     "metadata": {},
     "output_type": "display_data"
    },
    {
     "data": {
      "text/latex": [
       "$\\displaystyle \\left(-1.815x_1^{9.052} + 0.766x_2^{-0.220}-1.930x_3^{3.212} + 0.680\\right)$"
      ],
      "text/plain": [
       "<IPython.core.display.Math object>"
      ]
     },
     "metadata": {},
     "output_type": "display_data"
    },
    {
     "name": "stdout",
     "output_type": "stream",
     "text": [
      "MSE between formula parameters is 4.98324109651808\n",
      "FAILURE\n",
      "\n",
      "\n",
      "----------------------------Exploring new formula #4----------------------------\n",
      "  Initialization #1\n",
      "    Epoch 5000, current loss 0.00137, current formula \\left(0.035x_1^{-1.242} + 7.794x_2^{-0.004}-0.200x_3^{-1.072}-6.142\\right)\n",
      "  Finished run #1, loss 0.0013736301334574819, best loss 0.0013736301334574819\n",
      "  Initialization #2\n",
      "  Finished run #2, loss 9.973423584597185e-05, best loss 9.973423584597185e-05\n",
      "  Initialization #3\n",
      "  Finished run #3, loss 0.001434842823073268, best loss 9.973423584597185e-05\n",
      "  Initialization #4\n",
      "  Finished run #4, loss 0.0004524136602412909, best loss 9.973423584597185e-05\n",
      "1 minutes 21 seconds passed from the start, the iteration took 19 seconds\n",
      "ground truth and obtained formula\n"
     ]
    },
    {
     "data": {
      "text/latex": [
       "$\\displaystyle -0.572x_{1}^{0.833}-0.063x_{2}^{0.583}+0.392x_{3}^{1.75}+1.621$"
      ],
      "text/plain": [
       "<IPython.core.display.Math object>"
      ]
     },
     "metadata": {},
     "output_type": "display_data"
    },
    {
     "data": {
      "text/latex": [
       "$\\displaystyle \\left(-0.984x_1^{3.457} + 2.837x_2^{-0.003} + 0.689x_3^{11.939}-1.281\\right)$"
      ],
      "text/plain": [
       "<IPython.core.display.Math object>"
      ]
     },
     "metadata": {},
     "output_type": "display_data"
    },
    {
     "name": "stdout",
     "output_type": "stream",
     "text": [
      "MSE between formula parameters is 18.305740298875143\n",
      "FAILURE\n",
      "\n",
      "\n",
      "----------------------------Exploring new formula #5----------------------------\n",
      "  Initialization #1\n",
      "  Finished run #1, loss 1.351311007535827e-10, best loss 1.351311007535827e-10\n",
      "loss is smaller than 1e-05, terminating learning process\n",
      "1 minutes 24 seconds passed from the start, the iteration took 3 seconds\n",
      "ground truth and obtained formula\n"
     ]
    },
    {
     "data": {
      "text/latex": [
       "$\\displaystyle 0.536x_{1}^{2.25}+0.908x_{2}^{1.667}+2.276x_{3}^{4.0}-0.525$"
      ],
      "text/plain": [
       "<IPython.core.display.Math object>"
      ]
     },
     "metadata": {},
     "output_type": "display_data"
    },
    {
     "data": {
      "text/latex": [
       "$\\displaystyle \\left(0.536x_1^{2.250} + 0.908x_2^{1.667} + 2.275x_3^{3.999}-0.525\\right)$"
      ],
      "text/plain": [
       "<IPython.core.display.Math object>"
      ]
     },
     "metadata": {},
     "output_type": "display_data"
    },
    {
     "name": "stdout",
     "output_type": "stream",
     "text": [
      "MSE between formula parameters is 1.8373740268933553e-07\n",
      "EXACT RECOVERY\n",
      "\n",
      "################################################################################\n",
      "MSEs between parameters:\n",
      "[0.3043596496627718, 1.170800244115396, 4.98324109651808, 18.305740298875143, 1.8373740268933553e-07]\n",
      "For 1 formulas out of 5 the error is less than 1e-05.\n",
      "\n",
      "\n",
      "----------------------------Exploring new formula #1----------------------------\n",
      "  Initialization #1\n",
      "    Epoch 5000, current loss 0.0291, current formula \\left(3.645x_1^{-0.163}-0.618x_2^{0.265}-2.342x_3^{-0.115} + 3.618x_4^{0.024}-3.620\\right)\n",
      "  Finished run #1, loss 0.028747325763106346, best loss 0.028747325763106346\n",
      "  Initialization #2\n",
      "    Epoch 5000, current loss 0.00522, current formula \\left(0.002x_1^{-3.888} + 0.759x_2^{-0.251} + 0.949x_3^{1.015}-0.363x_4^{2.230}-0.580\\right)\n",
      "  Finished run #2, loss 0.00502643920481205, best loss 0.00502643920481205\n",
      "  Initialization #3\n",
      "  Finished run #3, loss 0.006181525997817516, best loss 0.00502643920481205\n",
      "  Initialization #4\n",
      "    Epoch 5000, current loss 0.0338, current formula \\left(-3.483x_1^{0.174} + 3.440x_2^{-0.050}-2.889x_3^{-0.108}-2.126x_4^{53.415} + 3.622\\right)\n",
      "    Epoch 10000, current loss 0.0327, current formula \\left(-4.385x_1^{0.135} + 5.211x_2^{-0.034}-3.793x_3^{-0.085}-2.706x_4^{58.443} + 3.658\\right)\n",
      "  Finished run #4, loss 0.032736483961343765, best loss 0.00502643920481205\n",
      "59 seconds passed from the start, the iteration took 59 seconds\n",
      "ground truth and obtained formula\n"
     ]
    },
    {
     "data": {
      "text/latex": [
       "$\\displaystyle 0.271x_{1}^{6.0}-1.666x_{2}^{2.0}+1.601x_{3}^{2.0}-0.972x_{4}^{1.0}+1.302$"
      ],
      "text/plain": [
       "<IPython.core.display.Math object>"
      ]
     },
     "metadata": {},
     "output_type": "display_data"
    },
    {
     "data": {
      "text/latex": [
       "$\\displaystyle \\left(0.001x_1^{-4.574} + 0.801x_2^{-0.244} + 0.946x_3^{1.014}-0.391x_4^{1.942}-0.590\\right)$"
      ],
      "text/plain": [
       "<IPython.core.display.Math object>"
      ]
     },
     "metadata": {},
     "output_type": "display_data"
    },
    {
     "name": "stdout",
     "output_type": "stream",
     "text": [
      "MSE between formula parameters is 14.35657187139502\n",
      "FAILURE\n",
      "\n",
      "\n",
      "----------------------------Exploring new formula #2----------------------------\n",
      "  Initialization #1\n",
      "    Epoch 5000, current loss 0.00111, current formula \\left(0.963x_1^{-0.205} + 1.114x_2^{14.160} + 0.291x_3^{0.569}-0.573x_4^{0.159}-0.974\\right)\n",
      "  Finished run #1, loss 0.0010969496797770262, best loss 0.0010969496797770262\n",
      "  Initialization #2\n",
      "  Finished run #2, loss 0.0001767244830261916, best loss 0.0001767244830261916\n",
      "  Initialization #3\n",
      "  Finished run #3, loss 0.00023427676933351904, best loss 0.0001767244830261916\n",
      "  Initialization #4\n",
      "  Finished run #4, loss 0.0003635585308074951, best loss 0.0001767244830261916\n",
      "1 minutes 15 seconds passed from the start, the iteration took 15 seconds\n",
      "ground truth and obtained formula\n"
     ]
    },
    {
     "data": {
      "text/latex": [
       "$\\displaystyle -0.329x_{1}^{3.0}+0.906x_{2}^{5.0}+0.377x_{3}^{2.0}-0.219x_{4}^{4.0}-0.125$"
      ],
      "text/plain": [
       "<IPython.core.display.Math object>"
      ]
     },
     "metadata": {},
     "output_type": "display_data"
    },
    {
     "data": {
      "text/latex": [
       "$\\displaystyle \\left(-0.737x_1^{0.589} + 1.029x_2^{15.271} + 0.773x_3^{0.163}-0.374x_4^{0.177} + 0.029\\right)$"
      ],
      "text/plain": [
       "<IPython.core.display.Math object>"
      ]
     },
     "metadata": {},
     "output_type": "display_data"
    },
    {
     "name": "stdout",
     "output_type": "stream",
     "text": [
      "MSE between formula parameters is 14.408309340146177\n",
      "FAILURE\n",
      "\n",
      "\n",
      "----------------------------Exploring new formula #3----------------------------\n",
      "  Initialization #1\n",
      "  Finished run #1, loss 0.002155545400455594, best loss 0.002155545400455594\n",
      "  Initialization #2\n",
      "  Finished run #2, loss 0.0001032429063343443, best loss 0.0001032429063343443\n",
      "  Initialization #3\n",
      "    Epoch 5000, current loss 0.00366, current formula \\left(-1.373x_1^{4.687}-2.155x_2^{3.231} + 0.000x_3^{-1.710}-1.746x_4^{23.427}-0.531\\right)\n",
      "    Epoch 10000, current loss 0.003, current formula \\left(-1.375x_1^{4.680}-2.158x_2^{3.229} + 0.000x_3^{-1.710}-1.746x_4^{23.427}-0.529\\right)\n",
      "  Finished run #3, loss 0.0030046370811760426, best loss 0.0001032429063343443\n",
      "  Initialization #4\n",
      "  Finished run #4, loss 0.0015292409807443619, best loss 0.0001032429063343443\n",
      "1 minutes 42 seconds passed from the start, the iteration took 27 seconds\n",
      "ground truth and obtained formula\n"
     ]
    },
    {
     "data": {
      "text/latex": [
       "$\\displaystyle -1.389x_{1}^{5.0}-2.099x_{2}^{2.0}-0.137x_{3}^{1.0}+0.532x_{4}^{4.0}-0.261$"
      ],
      "text/plain": [
       "<IPython.core.display.Math object>"
      ]
     },
     "metadata": {},
     "output_type": "display_data"
    },
    {
     "data": {
      "text/latex": [
       "$\\displaystyle \\left(-1.318x_1^{4.698}-1.990x_2^{1.970} + 0.087x_3^{-0.140} + 0.553x_4^{4.997}-0.466\\right)$"
      ],
      "text/plain": [
       "<IPython.core.display.Math object>"
      ]
     },
     "metadata": {},
     "output_type": "display_data"
    },
    {
     "name": "stdout",
     "output_type": "stream",
     "text": [
      "MSE between formula parameters is 0.27729158786088637\n",
      "FAILURE\n",
      "\n",
      "\n",
      "----------------------------Exploring new formula #4----------------------------\n",
      "  Initialization #1\n",
      "  Finished run #1, loss 0.019236039370298386, best loss 0.019236039370298386\n",
      "  Initialization #2\n",
      "  Finished run #2, loss 0.0019627721048891544, best loss 0.0019627721048891544\n",
      "  Initialization #3\n",
      "  Finished run #3, loss 0.019136006012558937, best loss 0.0019627721048891544\n",
      "  Initialization #4\n",
      "    Epoch 5000, current loss 0.00616, current formula \\left(125546.969x_1^{71.652}-0.739x_2^{1.205}-0.602x_3^{4.655}-1.824x_4^{-0.107} + 1.590\\right)\n",
      "  Finished run #4, loss 0.006041194312274456, best loss 0.0019627721048891544\n",
      "2 minutes 1 seconds passed from the start, the iteration took 19 seconds\n",
      "ground truth and obtained formula\n"
     ]
    },
    {
     "data": {
      "text/latex": [
       "$\\displaystyle 0.618x_{1}^{4.0}-1.27x_{2}^{2.0}-0.474x_{3}^{5.0}+0.516x_{4}^{3.0}-0.606$"
      ],
      "text/plain": [
       "<IPython.core.display.Math object>"
      ]
     },
     "metadata": {},
     "output_type": "display_data"
    },
    {
     "data": {
      "text/latex": [
       "$\\displaystyle \\left(-0.255x_1^{0.480} + 1.201x_2^{-0.182}-2.358x_3^{39.567} + 1.304x_4^{0.375}-3.000\\right)$"
      ],
      "text/plain": [
       "<IPython.core.display.Math object>"
      ]
     },
     "metadata": {},
     "output_type": "display_data"
    },
    {
     "name": "stdout",
     "output_type": "stream",
     "text": [
      "MSE between formula parameters is 137.30073655488735\n",
      "FAILURE\n",
      "\n",
      "\n",
      "----------------------------Exploring new formula #5----------------------------\n",
      "  Initialization #1\n",
      "  Finished run #1, loss 0.008604031056165695, best loss 0.008604031056165695\n",
      "  Initialization #2\n",
      "  Finished run #2, loss 0.002040989464148879, best loss 0.002040989464148879\n",
      "  Initialization #3\n",
      "  Finished run #3, loss 0.005556877702474594, best loss 0.002040989464148879\n",
      "  Initialization #4\n",
      "    Epoch 5000, current loss 0.00854, current formula \\left(-0.903x_1^{3.111}-2.276x_2^{0.064} + 0.003x_3^{-1.783}-0.296x_4^{-0.266} + 2.652\\right)\n",
      "    Epoch 10000, current loss 0.00839, current formula \\left(-0.895x_1^{3.074}-2.830x_2^{0.051} + 0.003x_3^{-1.768}-0.415x_4^{-0.207} + 3.328\\right)\n",
      "  Finished run #4, loss 0.008386553265154362, best loss 0.002040989464148879\n",
      "2 minutes 28 seconds passed from the start, the iteration took 27 seconds\n",
      "ground truth and obtained formula\n"
     ]
    },
    {
     "data": {
      "text/latex": [
       "$\\displaystyle -0.541x_{1}^{2.0}+0.14x_{2}^{4.0}+1.573x_{3}^{5.0}+1.213x_{4}^{6.0}+0.024$"
      ],
      "text/plain": [
       "<IPython.core.display.Math object>"
      ]
     },
     "metadata": {},
     "output_type": "display_data"
    },
    {
     "data": {
      "text/latex": [
       "$\\displaystyle \\left(-1.449x_1^{0.081}-0.108x_2^{-0.399} + 2.837x_3^{5.672} + 0.957x_4^{3.288} + 1.297\\right)$"
      ],
      "text/plain": [
       "<IPython.core.display.Math object>"
      ]
     },
     "metadata": {},
     "output_type": "display_data"
    },
    {
     "name": "stdout",
     "output_type": "stream",
     "text": [
      "MSE between formula parameters is 3.889591606950337\n",
      "FAILURE\n",
      "\n",
      "################################################################################\n",
      "MSEs between parameters:\n",
      "[14.35657187139502, 14.408309340146177, 0.27729158786088637, 137.30073655488735, 3.889591606950337]\n",
      "For 0 formulas out of 5 the error is less than 1e-05.\n",
      "\n",
      "\n",
      "----------------------------Exploring new formula #1----------------------------\n",
      "  Initialization #1\n",
      "  Finished run #1, loss 3.5174880963495525e-07, best loss 3.5174880963495525e-07\n",
      "loss is smaller than 1e-05, terminating learning process\n",
      "2 seconds passed from the start, the iteration took 2 seconds\n",
      "ground truth and obtained formula\n"
     ]
    },
    {
     "data": {
      "text/latex": [
       "$\\displaystyle -1.075x_{1}^{4.0}-0.777x_{2}^{4.0}+0.005x_{3}^{2.5}-1.749x_{4}^{4.0}-1.502$"
      ],
      "text/plain": [
       "<IPython.core.display.Math object>"
      ]
     },
     "metadata": {},
     "output_type": "display_data"
    },
    {
     "data": {
      "text/latex": [
       "$\\displaystyle \\left(-1.074x_1^{3.993}-0.777x_2^{4.055}-0.054x_3^{-0.018}-1.746x_4^{4.017}-1.451\\right)$"
      ],
      "text/plain": [
       "<IPython.core.display.Math object>"
      ]
     },
     "metadata": {},
     "output_type": "display_data"
    },
    {
     "name": "stdout",
     "output_type": "stream",
     "text": [
      "MSE between formula parameters is 0.705387268501682\n",
      "FAILURE\n",
      "\n",
      "\n",
      "----------------------------Exploring new formula #2----------------------------\n",
      "  Initialization #1\n",
      "    Epoch 5000, current loss 0.0405, current formula \\left(15409.301x_1^{38.937}-2.113x_2^{4.172}-2.379x_3^{-0.166}-1.676x_4^{0.155} + 3.964\\right)\n",
      "  Finished run #1, loss 0.04034990817308426, best loss 0.04034990817308426\n",
      "  Initialization #2\n",
      "  Finished run #2, loss 0.0006833169027231634, best loss 0.0006833169027231634\n",
      "  Initialization #3\n",
      "  Finished run #3, loss 0.03735480085015297, best loss 0.0006833169027231634\n",
      "  Initialization #4\n",
      "    Epoch 5000, current loss 0.038, current formula \\left(0.002x_1^{-1.932} + 0.129x_2^{-0.488}-2.442x_3^{-0.190}-2.956x_4^{-0.079} + 5.354\\right)\n",
      "  Finished run #4, loss 0.03743605315685272, best loss 0.0006833169027231634\n",
      "34 seconds passed from the start, the iteration took 32 seconds\n",
      "ground truth and obtained formula\n"
     ]
    },
    {
     "data": {
      "text/latex": [
       "$\\displaystyle 0.189x_{1}^{4.5}+1.206x_{2}^{4.5}+1.736x_{3}^{2.5}-0.711x_{4}^{4.5}-1.137$"
      ],
      "text/plain": [
       "<IPython.core.display.Math object>"
      ]
     },
     "metadata": {},
     "output_type": "display_data"
    },
    {
     "data": {
      "text/latex": [
       "$\\displaystyle \\left(8500.469x_1^{41.414}-0.046x_2^{-0.219} + 1.392x_3^{2.950}-1.433x_4^{0.049} + 0.581\\right)$"
      ],
      "text/plain": [
       "<IPython.core.display.Math object>"
      ]
     },
     "metadata": {},
     "output_type": "display_data"
    },
    {
     "name": "stdout",
     "output_type": "stream",
     "text": [
      "MSE between formula parameters is 8028462.971131046\n",
      "FAILURE\n",
      "\n",
      "\n",
      "----------------------------Exploring new formula #3----------------------------\n",
      "  Initialization #1\n",
      "  Finished run #1, loss 0.0008673677803017199, best loss 0.0008673677803017199\n",
      "  Initialization #2\n",
      "  Finished run #2, loss 0.0024793297052383423, best loss 0.0008673677803017199\n",
      "  Initialization #3\n",
      "    Epoch 5000, current loss 0.00196, current formula \\left(-0.677x_1^{3.686} + 0.465x_2^{0.590}-0.551x_3^{0.148}-0.158x_4^{0.968}-1.011\\right)\n",
      "  Finished run #3, loss 0.0008043718407861888, best loss 0.0008043718407861888\n",
      "  Initialization #4\n",
      "  Finished run #4, loss 0.006009235978126526, best loss 0.0008043718407861888\n",
      "54 seconds passed from the start, the iteration took 20 seconds\n",
      "ground truth and obtained formula\n"
     ]
    },
    {
     "data": {
      "text/latex": [
       "$\\displaystyle -0.675x_{1}^{6.0}+0.834x_{2}^{5.0}-0.273x_{3}^{2.5}-0.168x_{4}^{5.5}-1.323$"
      ],
      "text/plain": [
       "<IPython.core.display.Math object>"
      ]
     },
     "metadata": {},
     "output_type": "display_data"
    },
    {
     "data": {
      "text/latex": [
       "$\\displaystyle \\left(-0.634x_1^{5.114} + 0.730x_2^{5.856}-0.511x_3^{0.104}-0.109x_4^{0.986}-0.873\\right)$"
      ],
      "text/plain": [
       "<IPython.core.display.Math object>"
      ]
     },
     "metadata": {},
     "output_type": "display_data"
    },
    {
     "name": "stdout",
     "output_type": "stream",
     "text": [
      "MSE between formula parameters is 3.100673363762327\n",
      "FAILURE\n",
      "\n",
      "\n",
      "----------------------------Exploring new formula #4----------------------------\n",
      "  Initialization #1\n",
      "    Epoch 5000, current loss 0.017, current formula \\left(-1.095x_1^{0.008}-0.631x_2^{-0.020}-3.946x_3^{-0.047} + 2.960x_4^{-0.093} + 0.169\\right)\n",
      "    Epoch 10000, current loss 0.0165, current formula \\left(-1.096x_1^{0.007}-0.647x_2^{-0.023}-6.417x_3^{-0.030} + 5.454x_4^{-0.053} + 0.169\\right)\n",
      "  Finished run #1, loss 0.01646966114640236, best loss 0.01646966114640236\n",
      "  Initialization #2\n",
      "  Finished run #2, loss 0.00028700969414785504, best loss 0.00028700969414785504\n",
      "  Initialization #3\n",
      "    Epoch 5000, current loss 0.0065, current formula \\left(-10.548x_1^{9.211} + 4499.714x_2^{23.424}-1.660x_3^{-0.150}-0.652x_4^{2.847}-0.372\\right)\n",
      "  Finished run #3, loss 0.005906354170292616, best loss 0.00028700969414785504\n",
      "  Initialization #4\n",
      "  Finished run #4, loss 0.00040338258258998394, best loss 0.00028700969414785504\n",
      "1 minutes 27 seconds passed from the start, the iteration took 33 seconds\n",
      "ground truth and obtained formula\n"
     ]
    },
    {
     "data": {
      "text/latex": [
       "$\\displaystyle -0.23x_{1}^{3.5}+0.333x_{2}^{2.5}+0.559x_{3}^{2.0}-1.099x_{4}^{0.5}-1.938$"
      ],
      "text/plain": [
       "<IPython.core.display.Math object>"
      ]
     },
     "metadata": {},
     "output_type": "display_data"
    },
    {
     "data": {
      "text/latex": [
       "$\\displaystyle \\left(-0.081x_1^{1.755}-1.011x_2^{-0.055} + 0.554x_3^{2.249}-1.006x_4^{0.609}-0.900\\right)$"
      ],
      "text/plain": [
       "<IPython.core.display.Math object>"
      ]
     },
     "metadata": {},
     "output_type": "display_data"
    },
    {
     "name": "stdout",
     "output_type": "stream",
     "text": [
      "MSE between formula parameters is 1.3957320973185927\n",
      "FAILURE\n",
      "\n",
      "\n",
      "----------------------------Exploring new formula #5----------------------------\n",
      "  Initialization #1\n",
      "    Epoch 5000, current loss 0.00828, current formula \\left(1.888x_1^{-0.163}-2.401x_2^{-0.132}-14.462x_3^{47.749} + 1.669x_4^{-0.079}-0.678\\right)\n",
      "    Epoch 10000, current loss 0.0078, current formula \\left(3.197x_1^{-0.102}-3.704x_2^{-0.091}-19.120x_3^{52.662} + 1.667x_4^{-0.079}-0.682\\right)\n",
      "  Finished run #1, loss 0.007797351572662592, best loss 0.007797351572662592\n",
      "  Initialization #2\n",
      "  Finished run #2, loss 0.010641127824783325, best loss 0.007797351572662592\n",
      "  Initialization #3\n",
      "  Finished run #3, loss 0.0061689335852861404, best loss 0.0061689335852861404\n",
      "  Initialization #4\n",
      "  Finished run #4, loss 0.004517701454460621, best loss 0.004517701454460621\n",
      "2 minutes 3 seconds passed from the start, the iteration took 36 seconds\n",
      "ground truth and obtained formula\n"
     ]
    },
    {
     "data": {
      "text/latex": [
       "$\\displaystyle -0.659x_{1}^{4.5}+1.29x_{2}^{0.5}-0.511x_{3}^{6.0}+0.181x_{4}^{5.5}-0.299$"
      ],
      "text/plain": [
       "<IPython.core.display.Math object>"
      ]
     },
     "metadata": {},
     "output_type": "display_data"
    },
    {
     "data": {
      "text/latex": [
       "$\\displaystyle \\left(-0.596x_1^{3.255}-2.044x_2^{-0.134}-0.354x_3^{4.665} + 2.922x_4^{0.007} + 0.079\\right)$"
      ],
      "text/plain": [
       "<IPython.core.display.Math object>"
      ]
     },
     "metadata": {},
     "output_type": "display_data"
    },
    {
     "name": "stdout",
     "output_type": "stream",
     "text": [
      "MSE between formula parameters is 5.857286266897303\n",
      "FAILURE\n",
      "\n",
      "################################################################################\n",
      "MSEs between parameters:\n",
      "[0.705387268501682, 8028462.971131046, 3.100673363762327, 1.3957320973185927, 5.857286266897303]\n",
      "For 0 formulas out of 5 the error is less than 1e-05.\n",
      "\n",
      "\n",
      "----------------------------Exploring new formula #1----------------------------\n",
      "  Initialization #1\n",
      "  Finished run #1, loss 8.156694093486294e-06, best loss 8.156694093486294e-06\n",
      "loss is smaller than 1e-05, terminating learning process\n",
      "2 seconds passed from the start, the iteration took 2 seconds\n",
      "ground truth and obtained formula\n"
     ]
    },
    {
     "data": {
      "text/latex": [
       "$\\displaystyle -1.021x_{1}^{3.5}-0.652x_{2}^{0.917}-1.225x_{3}^{1.5}-0.724x_{4}^{1.083}+0.227$"
      ],
      "text/plain": [
       "<IPython.core.display.Math object>"
      ]
     },
     "metadata": {},
     "output_type": "display_data"
    },
    {
     "data": {
      "text/latex": [
       "$\\displaystyle \\left(-1.075x_1^{3.711}-0.654x_2^{0.737}-1.221x_3^{1.743}-0.612x_4^{1.164} + 0.187\\right)$"
      ],
      "text/plain": [
       "<IPython.core.display.Math object>"
      ]
     },
     "metadata": {},
     "output_type": "display_data"
    },
    {
     "name": "stdout",
     "output_type": "stream",
     "text": [
      "MSE between formula parameters is 0.017707679007974778\n",
      "FAILURE\n",
      "\n",
      "\n",
      "----------------------------Exploring new formula #2----------------------------\n",
      "  Initialization #1\n",
      "  Finished run #1, loss 2.9745422125415644e-06, best loss 2.9745422125415644e-06\n",
      "loss is smaller than 1e-05, terminating learning process\n",
      "5 seconds passed from the start, the iteration took 2 seconds\n",
      "ground truth and obtained formula\n"
     ]
    },
    {
     "data": {
      "text/latex": [
       "$\\displaystyle 1.852x_{1}^{0.083}-1.334x_{2}^{1.75}-0.412x_{3}^{3.75}-1.055x_{4}^{1.833}-1.068$"
      ],
      "text/plain": [
       "<IPython.core.display.Math object>"
      ]
     },
     "metadata": {},
     "output_type": "display_data"
    },
    {
     "data": {
      "text/latex": [
       "$\\displaystyle \\left(0.994x_1^{0.166}-1.337x_2^{1.741}-0.409x_3^{3.528}-1.057x_4^{1.800}-0.198\\right)$"
      ],
      "text/plain": [
       "<IPython.core.display.Math object>"
      ]
     },
     "metadata": {},
     "output_type": "display_data"
    },
    {
     "name": "stdout",
     "output_type": "stream",
     "text": [
      "MSE between formula parameters is 0.17237976601615165\n",
      "FAILURE\n",
      "\n",
      "\n",
      "----------------------------Exploring new formula #3----------------------------\n",
      "  Initialization #1\n",
      "  Finished run #1, loss 0.00030915127717889845, best loss 0.00030915127717889845\n",
      "  Initialization #2\n",
      "  Finished run #2, loss 6.80158264003694e-05, best loss 6.80158264003694e-05\n",
      "  Initialization #3\n",
      "  Finished run #3, loss 9.218080231221393e-05, best loss 6.80158264003694e-05\n",
      "  Initialization #4\n",
      "  Finished run #4, loss 0.005383823998272419, best loss 6.80158264003694e-05\n",
      "18 seconds passed from the start, the iteration took 14 seconds\n",
      "ground truth and obtained formula\n"
     ]
    },
    {
     "data": {
      "text/latex": [
       "$\\displaystyle 0.657x_{1}^{4.583}-0.213x_{2}^{1.083}-0.158x_{3}^{1.25}-0.192x_{4}^{2.833}+0.695$"
      ],
      "text/plain": [
       "<IPython.core.display.Math object>"
      ]
     },
     "metadata": {},
     "output_type": "display_data"
    },
    {
     "data": {
      "text/latex": [
       "$\\displaystyle \\left(0.568x_1^{4.553}-3.187x_2^{0.030} + 2.174x_3^{-0.013}-0.167x_4^{1.300} + 1.468\\right)$"
      ],
      "text/plain": [
       "<IPython.core.display.Math object>"
      ]
     },
     "metadata": {},
     "output_type": "display_data"
    },
    {
     "name": "stdout",
     "output_type": "stream",
     "text": [
      "MSE between formula parameters is 2.2163256800399616\n",
      "FAILURE\n",
      "\n",
      "\n",
      "----------------------------Exploring new formula #4----------------------------\n",
      "  Initialization #1\n",
      "  Finished run #1, loss 0.0008296475280076265, best loss 0.0008296475280076265\n",
      "  Initialization #2\n",
      "  Finished run #2, loss 0.001235198462381959, best loss 0.0008296475280076265\n",
      "  Initialization #3\n",
      "  Finished run #3, loss 0.001962666865438223, best loss 0.0008296475280076265\n",
      "  Initialization #4\n",
      "  Finished run #4, loss 0.0009860638529062271, best loss 0.0008296475280076265\n",
      "27 seconds passed from the start, the iteration took 9 seconds\n",
      "ground truth and obtained formula\n"
     ]
    },
    {
     "data": {
      "text/latex": [
       "$\\displaystyle -0.401x_{1}^{5.5}-0.277x_{2}^{2.583}+0.636x_{3}^{1.0}-2.125x_{4}^{3.75}+1.018$"
      ],
      "text/plain": [
       "<IPython.core.display.Math object>"
      ]
     },
     "metadata": {},
     "output_type": "display_data"
    },
    {
     "data": {
      "text/latex": [
       "$\\displaystyle \\left(-2.131x_1^{0.103}-0.118x_2^{4.102} + 0.877x_3^{0.593}-2.216x_4^{4.163} + 2.602\\right)$"
      ],
      "text/plain": [
       "<IPython.core.display.Math object>"
      ]
     },
     "metadata": {},
     "output_type": "display_data"
    },
    {
     "name": "stdout",
     "output_type": "stream",
     "text": [
      "MSE between formula parameters is 4.152183407276323\n",
      "FAILURE\n",
      "\n",
      "\n",
      "----------------------------Exploring new formula #5----------------------------\n",
      "  Initialization #1\n",
      "  Finished run #1, loss 0.004211184568703175, best loss 0.004211184568703175\n",
      "  Initialization #2\n",
      "  Finished run #2, loss 0.0007072753505781293, best loss 0.0007072753505781293\n",
      "  Initialization #3\n",
      "  Finished run #3, loss 0.0006538288434967399, best loss 0.0006538288434967399\n",
      "  Initialization #4\n",
      "  Finished run #4, loss 0.00453972676768899, best loss 0.0006538288434967399\n",
      "42 seconds passed from the start, the iteration took 15 seconds\n",
      "ground truth and obtained formula\n"
     ]
    },
    {
     "data": {
      "text/latex": [
       "$\\displaystyle -0.17x_{1}^{4.167}-1.502x_{2}^{1.0}+1.422x_{3}^{2.667}+0.472x_{4}^{4.167}-1.726$"
      ],
      "text/plain": [
       "<IPython.core.display.Math object>"
      ]
     },
     "metadata": {},
     "output_type": "display_data"
    },
    {
     "data": {
      "text/latex": [
       "$\\displaystyle \\left(-1.549x_1^{-0.007}-1.506x_2^{1.509} + 1.718x_3^{2.973}-0.154x_4^{-0.151}-0.063\\right)$"
      ],
      "text/plain": [
       "<IPython.core.display.Math object>"
      ]
     },
     "metadata": {},
     "output_type": "display_data"
    },
    {
     "name": "stdout",
     "output_type": "stream",
     "text": [
      "MSE between formula parameters is 4.617771779615031\n",
      "FAILURE\n",
      "\n",
      "################################################################################\n",
      "MSEs between parameters:\n",
      "[0.017707679007974778, 0.17237976601615165, 2.2163256800399616, 4.152183407276323, 4.617771779615031]\n",
      "For 0 formulas out of 5 the error is less than 1e-05.\n",
      "\n",
      "\n",
      "----------------------------Exploring new formula #1----------------------------\n",
      "  Initialization #1\n",
      "  Finished run #1, loss 3.4090917324647307e-06, best loss 3.4090917324647307e-06\n",
      "loss is smaller than 1e-05, terminating learning process\n",
      "1 seconds passed from the start, the iteration took 1 seconds\n",
      "ground truth and obtained formula\n"
     ]
    },
    {
     "data": {
      "text/latex": [
       "$\\displaystyle 1.382x_{1}^{6.0}-0.008x_{2}^{3.0}-0.649$"
      ],
      "text/plain": [
       "<IPython.core.display.Math object>"
      ]
     },
     "metadata": {},
     "output_type": "display_data"
    },
    {
     "data": {
      "text/latex": [
       "$\\displaystyle \\left(1.382x_1^{6.002}-0.459x_2^{0.004}-0.194\\right)$"
      ],
      "text/plain": [
       "<IPython.core.display.Math object>"
      ]
     },
     "metadata": {},
     "output_type": "display_data"
    },
    {
     "name": "stdout",
     "output_type": "stream",
     "text": [
      "MSE between formula parameters is 1.8777209149811191\n",
      "FAILURE\n",
      "\n",
      "\n",
      "----------------------------Exploring new formula #2----------------------------\n",
      "  Initialization #1\n",
      "  Finished run #1, loss 2.4197531998948474e-12, best loss 2.4197531998948474e-12\n",
      "loss is smaller than 1e-05, terminating learning process\n",
      "3 seconds passed from the start, the iteration took 1 seconds\n",
      "ground truth and obtained formula\n"
     ]
    },
    {
     "data": {
      "text/latex": [
       "$\\displaystyle 0.038x_{1}^{2.0}-0.586x_{2}^{3.0}-0.606$"
      ],
      "text/plain": [
       "<IPython.core.display.Math object>"
      ]
     },
     "metadata": {},
     "output_type": "display_data"
    },
    {
     "data": {
      "text/latex": [
       "$\\displaystyle \\left(0.038x_1^{1.999}-0.586x_2^{3.000}-0.606\\right)$"
      ],
      "text/plain": [
       "<IPython.core.display.Math object>"
      ]
     },
     "metadata": {},
     "output_type": "display_data"
    },
    {
     "name": "stdout",
     "output_type": "stream",
     "text": [
      "MSE between formula parameters is 6.882841998567813e-08\n",
      "EXACT RECOVERY\n",
      "\n",
      "\n",
      "----------------------------Exploring new formula #3----------------------------\n",
      "  Initialization #1\n",
      "    Epoch 5000, current loss 0.00976, current formula \\left(-1.645x_1^{6.686}-1.710x_2^{-0.065} + 1.105\\right)\n",
      "    Epoch 10000, current loss 0.00961, current formula \\left(-1.645x_1^{6.677}-2.500x_2^{-0.046} + 1.898\\right)\n",
      "  Finished run #1, loss 0.00960551667958498, best loss 0.00960551667958498\n",
      "  Initialization #2\n",
      "  Finished run #2, loss 1.718962754256037e-12, best loss 1.718962754256037e-12\n",
      "loss is smaller than 1e-05, terminating learning process\n",
      "17 seconds passed from the start, the iteration took 14 seconds\n",
      "ground truth and obtained formula\n"
     ]
    },
    {
     "data": {
      "text/latex": [
       "$\\displaystyle -1.578x_{1}^{6.0}+0.48x_{2}^{3.0}-0.82$"
      ],
      "text/plain": [
       "<IPython.core.display.Math object>"
      ]
     },
     "metadata": {},
     "output_type": "display_data"
    },
    {
     "data": {
      "text/latex": [
       "$\\displaystyle \\left(-1.578x_1^{6.000} + 0.480x_2^{3.000}-0.820\\right)$"
      ],
      "text/plain": [
       "<IPython.core.display.Math object>"
      ]
     },
     "metadata": {},
     "output_type": "display_data"
    },
    {
     "name": "stdout",
     "output_type": "stream",
     "text": [
      "MSE between formula parameters is 6.703615440528665e-11\n",
      "EXACT RECOVERY\n",
      "\n",
      "\n",
      "----------------------------Exploring new formula #4----------------------------\n",
      "  Initialization #1\n",
      "  Finished run #1, loss 0.02499689720571041, best loss 0.02499689720571041\n",
      "  Initialization #2\n",
      "  Finished run #2, loss 2.812683354454226e-13, best loss 2.812683354454226e-13\n",
      "loss is smaller than 1e-05, terminating learning process\n",
      "23 seconds passed from the start, the iteration took 6 seconds\n",
      "ground truth and obtained formula\n"
     ]
    },
    {
     "data": {
      "text/latex": [
       "$\\displaystyle -0.089x_{1}^{5.0}+0.711x_{2}^{6.0}+0.675$"
      ],
      "text/plain": [
       "<IPython.core.display.Math object>"
      ]
     },
     "metadata": {},
     "output_type": "display_data"
    },
    {
     "data": {
      "text/latex": [
       "$\\displaystyle \\left(-0.089x_1^{5.000} + 0.711x_2^{6.000} + 0.675\\right)$"
      ],
      "text/plain": [
       "<IPython.core.display.Math object>"
      ]
     },
     "metadata": {},
     "output_type": "display_data"
    },
    {
     "name": "stdout",
     "output_type": "stream",
     "text": [
      "MSE between formula parameters is 4.87335261034616e-09\n",
      "EXACT RECOVERY\n",
      "\n",
      "\n",
      "----------------------------Exploring new formula #5----------------------------\n",
      "  Initialization #1\n",
      "    Epoch 5000, current loss 0.183, current formula \\left(7.112x_1^{-0.068}-0.982x_2^{2.767}-7.657\\right)\n",
      "    Epoch 10000, current loss 0.181, current formula \\left(10.286x_1^{-0.049}-0.983x_2^{2.784}-10.845\\right)\n",
      "  Finished run #1, loss 0.18068772554397583, best loss 0.18068772554397583\n",
      "  Initialization #2\n",
      "  Finished run #2, loss 1.8358869112444776e-12, best loss 1.8358869112444776e-12\n",
      "loss is smaller than 1e-05, terminating learning process\n",
      "37 seconds passed from the start, the iteration took 14 seconds\n",
      "ground truth and obtained formula\n"
     ]
    },
    {
     "data": {
      "text/latex": [
       "$\\displaystyle -2.443x_{1}^{4.0}-0.731x_{2}^{4.0}+0.265$"
      ],
      "text/plain": [
       "<IPython.core.display.Math object>"
      ]
     },
     "metadata": {},
     "output_type": "display_data"
    },
    {
     "data": {
      "text/latex": [
       "$\\displaystyle \\left(-2.443x_1^{4.000}-0.731x_2^{4.000} + 0.265\\right)$"
      ],
      "text/plain": [
       "<IPython.core.display.Math object>"
      ]
     },
     "metadata": {},
     "output_type": "display_data"
    },
    {
     "name": "stdout",
     "output_type": "stream",
     "text": [
      "MSE between formula parameters is 5.364796606954769e-10\n",
      "EXACT RECOVERY\n",
      "\n",
      "################################################################################\n",
      "MSEs between parameters:\n",
      "[1.8777209149811191, 6.882841998567813e-08, 6.703615440528665e-11, 4.87335261034616e-09, 5.364796606954769e-10]\n",
      "For 4 formulas out of 5 the error is less than 1e-05.\n",
      "\n",
      "\n",
      "----------------------------Exploring new formula #1----------------------------\n",
      "  Initialization #1\n",
      "    Epoch 5000, current loss 0.0242, current formula \\left(-3.030x_1^{-0.055}-0.223x_2^{-0.104} + 2.038\\right)\n",
      "  Finished run #1, loss 0.023716280236840248, best loss 0.023716280236840248\n",
      "  Initialization #2\n",
      "    Epoch 5000, current loss 0.000835, current formula \\left(0.864x_1^{1.530}-1.128x_2^{-0.022}-0.608\\right)\n",
      "    Epoch 10000, current loss 0.000822, current formula \\left(0.863x_1^{1.531}-1.536x_2^{-0.017}-0.200\\right)\n",
      "  Finished run #2, loss 0.0008216925198212266, best loss 0.0008216925198212266\n",
      "  Initialization #3\n",
      "  Finished run #3, loss 0.0233934223651886, best loss 0.0008216925198212266\n",
      "  Initialization #4\n",
      "    Epoch 5000, current loss 0.0225, current formula \\left(-5.104x_1^{-0.036} + 0.180x_2^{0.860} + 3.771\\right)\n",
      "    Epoch 10000, current loss 0.0221, current formula \\left(-6.750x_1^{-0.028} + 0.178x_2^{0.894} + 5.423\\right)\n",
      "  Finished run #4, loss 0.022116536274552345, best loss 0.0008216925198212266\n",
      "45 seconds passed from the start, the iteration took 45 seconds\n",
      "ground truth and obtained formula\n"
     ]
    },
    {
     "data": {
      "text/latex": [
       "$\\displaystyle 0.872x_{1}^{1.5}+0.151x_{2}^{1.0}-1.848$"
      ],
      "text/plain": [
       "<IPython.core.display.Math object>"
      ]
     },
     "metadata": {},
     "output_type": "display_data"
    },
    {
     "data": {
      "text/latex": [
       "$\\displaystyle \\left(0.863x_1^{1.531}-1.536x_2^{-0.017}-0.200\\right)$"
      ],
      "text/plain": [
       "<IPython.core.display.Math object>"
      ]
     },
     "metadata": {},
     "output_type": "display_data"
    },
    {
     "name": "stdout",
     "output_type": "stream",
     "text": [
      "MSE between formula parameters is 1.3198060815706925\n",
      "FAILURE\n",
      "\n",
      "\n",
      "----------------------------Exploring new formula #2----------------------------\n",
      "  Initialization #1\n",
      "    Epoch 5000, current loss 0.0348, current formula \\left(1.172x_1^{2.370}-4.409x_2^{-0.046} + 3.798\\right)\n",
      "    Epoch 10000, current loss 0.0346, current formula \\left(1.171x_1^{2.372}-5.670x_2^{-0.036} + 5.062\\right)\n",
      "  Finished run #1, loss 0.03458832949399948, best loss 0.03458832949399948\n",
      "  Initialization #2\n",
      "    Epoch 5000, current loss 0.0351, current formula \\left(1.173x_1^{2.368}-3.471x_2^{-0.056} + 2.857\\right)\n",
      "    Epoch 10000, current loss 0.0347, current formula \\left(1.171x_1^{2.372}-5.119x_2^{-0.040} + 4.510\\right)\n",
      "  Finished run #2, loss 0.034674424678087234, best loss 0.03458832949399948\n",
      "  Initialization #3\n",
      "  Finished run #3, loss 9.36140054363932e-13, best loss 9.36140054363932e-13\n",
      "loss is smaller than 1e-05, terminating learning process\n",
      "1 minutes 13 seconds passed from the start, the iteration took 28 seconds\n",
      "ground truth and obtained formula\n"
     ]
    },
    {
     "data": {
      "text/latex": [
       "$\\displaystyle 1.14x_{1}^{2.5}+0.885x_{2}^{5.0}-0.918$"
      ],
      "text/plain": [
       "<IPython.core.display.Math object>"
      ]
     },
     "metadata": {},
     "output_type": "display_data"
    },
    {
     "data": {
      "text/latex": [
       "$\\displaystyle \\left(1.140x_1^{2.500} + 0.885x_2^{5.000}-0.918\\right)$"
      ],
      "text/plain": [
       "<IPython.core.display.Math object>"
      ]
     },
     "metadata": {},
     "output_type": "display_data"
    },
    {
     "name": "stdout",
     "output_type": "stream",
     "text": [
      "MSE between formula parameters is 2.5777922019187825e-10\n",
      "EXACT RECOVERY\n",
      "\n",
      "\n",
      "----------------------------Exploring new formula #3----------------------------\n",
      "  Initialization #1\n",
      "    Epoch 5000, current loss 0.057, current formula \\left(4.566x_1^{-0.070}-1.281x_2^{0.066}-2.596\\right)\n",
      "  Finished run #1, loss 0.05693826079368591, best loss 0.05693826079368591\n",
      "  Initialization #2\n",
      "    Epoch 5000, current loss 0.0571, current formula \\left(4.438x_1^{-0.072}-6.704x_2^{0.011} + 2.960\\right)\n",
      "  Finished run #2, loss 0.05569102242588997, best loss 0.05569102242588997\n",
      "  Initialization #3\n",
      "  Finished run #3, loss 0.05753617361187935, best loss 0.05569102242588997\n",
      "  Initialization #4\n",
      "  Finished run #4, loss 0.0008146733161993325, best loss 0.0008146733161993325\n",
      "1 minutes 35 seconds passed from the start, the iteration took 22 seconds\n",
      "ground truth and obtained formula\n"
     ]
    },
    {
     "data": {
      "text/latex": [
       "$\\displaystyle -1.311x_{1}^{2.0}-0.153x_{2}^{1.5}+1.607$"
      ],
      "text/plain": [
       "<IPython.core.display.Math object>"
      ]
     },
     "metadata": {},
     "output_type": "display_data"
    },
    {
     "data": {
      "text/latex": [
       "$\\displaystyle \\left(-1.316x_1^{1.983}-2.392x_2^{0.016} + 3.903\\right)$"
      ],
      "text/plain": [
       "<IPython.core.display.Math object>"
      ]
     },
     "metadata": {},
     "output_type": "display_data"
    },
    {
     "name": "stdout",
     "output_type": "stream",
     "text": [
      "MSE between formula parameters is 2.4987212086194384\n",
      "FAILURE\n",
      "\n",
      "\n",
      "----------------------------Exploring new formula #4----------------------------\n",
      "  Initialization #1\n",
      "  Finished run #1, loss 0.010390237905085087, best loss 0.010390237905085087\n",
      "  Initialization #2\n",
      "    Epoch 5000, current loss 0.0114, current formula \\left(-3.648x_1^{-0.032} + 2.518x_2^{0.030} + 1.865\\right)\n",
      "  Finished run #2, loss 0.011386478319764137, best loss 0.010390237905085087\n",
      "  Initialization #3\n",
      "    Epoch 5000, current loss 0.0113, current formula \\left(-1.916x_1^{-0.056} + 0.840x_2^{0.111} + 1.817\\right)\n",
      "  Finished run #3, loss 0.010218576528131962, best loss 0.010218576528131962\n",
      "  Initialization #4\n",
      "  Finished run #4, loss 2.1695889442646665e-12, best loss 2.1695889442646665e-12\n",
      "loss is smaller than 1e-05, terminating learning process\n",
      "1 minutes 57 seconds passed from the start, the iteration took 22 seconds\n",
      "ground truth and obtained formula\n"
     ]
    },
    {
     "data": {
      "text/latex": [
       "$\\displaystyle 0.496x_{1}^{3.0}+0.275x_{2}^{1.0}+0.295$"
      ],
      "text/plain": [
       "<IPython.core.display.Math object>"
      ]
     },
     "metadata": {},
     "output_type": "display_data"
    },
    {
     "data": {
      "text/latex": [
       "$\\displaystyle \\left(0.496x_1^{3.000} + 0.275x_2^{1.000} + 0.295\\right)$"
      ],
      "text/plain": [
       "<IPython.core.display.Math object>"
      ]
     },
     "metadata": {},
     "output_type": "display_data"
    },
    {
     "name": "stdout",
     "output_type": "stream",
     "text": [
      "MSE between formula parameters is 7.044382854815012e-10\n",
      "EXACT RECOVERY\n",
      "\n",
      "\n",
      "----------------------------Exploring new formula #5----------------------------\n",
      "  Initialization #1\n",
      "    Epoch 5000, current loss 0.00846, current formula \\left(-1.445x_1^{-0.049} + 0.472x_2^{5.354} + 1.359\\right)\n",
      "    Epoch 10000, current loss 0.0084, current formula \\left(-2.057x_1^{-0.035} + 0.472x_2^{5.355} + 1.973\\right)\n",
      "  Finished run #1, loss 0.008401645347476006, best loss 0.008401645347476006\n",
      "  Initialization #2\n",
      "    Epoch 5000, current loss 0.0138, current formula \\left(-1.392x_1^{-0.054}-1.264x_2^{-0.052} + 2.703\\right)\n",
      "  Finished run #2, loss 0.013807040639221668, best loss 0.008401645347476006\n",
      "  Initialization #3\n",
      "  Finished run #3, loss 0.014181237667798996, best loss 0.008401645347476006\n",
      "  Initialization #4\n",
      "  Finished run #4, loss 0.013584158383309841, best loss 0.008401645347476006\n",
      "2 minutes 25 seconds passed from the start, the iteration took 28 seconds\n",
      "ground truth and obtained formula\n"
     ]
    },
    {
     "data": {
      "text/latex": [
       "$\\displaystyle 0.489x_{1}^{5.0}+0.51x_{2}^{5.0}-0.241$"
      ],
      "text/plain": [
       "<IPython.core.display.Math object>"
      ]
     },
     "metadata": {},
     "output_type": "display_data"
    },
    {
     "data": {
      "text/latex": [
       "$\\displaystyle \\left(-2.058x_1^{-0.035} + 0.472x_2^{5.355} + 1.973\\right)$"
      ],
      "text/plain": [
       "<IPython.core.display.Math object>"
      ]
     },
     "metadata": {},
     "output_type": "display_data"
    },
    {
     "name": "stdout",
     "output_type": "stream",
     "text": [
      "MSE between formula parameters is 7.372894793892085\n",
      "FAILURE\n",
      "\n",
      "################################################################################\n",
      "MSEs between parameters:\n",
      "[1.3198060815706925, 2.5777922019187825e-10, 2.4987212086194384, 7.044382854815012e-10, 7.372894793892085]\n",
      "For 2 formulas out of 5 the error is less than 1e-05.\n",
      "\n",
      "\n",
      "----------------------------Exploring new formula #1----------------------------\n",
      "  Initialization #1\n",
      "    Epoch 5000, current loss 0.0268, current formula \\left(3.086x_1^{-0.045} + 0.414x_2^{1.553}-4.024\\right)\n",
      "    Epoch 10000, current loss 0.0265, current formula \\left(4.558x_1^{-0.032} + 0.413x_2^{1.574}-5.499\\right)\n",
      "  Finished run #1, loss 0.026512235403060913, best loss 0.026512235403060913\n",
      "  Initialization #2\n",
      "  Finished run #2, loss 1.7064572411379375e-12, best loss 1.7064572411379375e-12\n",
      "loss is smaller than 1e-05, terminating learning process\n",
      "15 seconds passed from the start, the iteration took 15 seconds\n",
      "ground truth and obtained formula\n"
     ]
    },
    {
     "data": {
      "text/latex": [
       "$\\displaystyle -0.81x_{1}^{3.833}+0.354x_{2}^{2.917}-0.546$"
      ],
      "text/plain": [
       "<IPython.core.display.Math object>"
      ]
     },
     "metadata": {},
     "output_type": "display_data"
    },
    {
     "data": {
      "text/latex": [
       "$\\displaystyle \\left(-0.810x_1^{3.833} + 0.354x_2^{2.917}-0.546\\right)$"
      ],
      "text/plain": [
       "<IPython.core.display.Math object>"
      ]
     },
     "metadata": {},
     "output_type": "display_data"
    },
    {
     "name": "stdout",
     "output_type": "stream",
     "text": [
      "MSE between formula parameters is 4.3229153590118585e-10\n",
      "EXACT RECOVERY\n",
      "\n",
      "\n",
      "----------------------------Exploring new formula #2----------------------------\n",
      "  Initialization #1\n",
      "  Finished run #1, loss 4.063878140253552e-12, best loss 4.063878140253552e-12\n",
      "loss is smaller than 1e-05, terminating learning process\n",
      "17 seconds passed from the start, the iteration took 1 seconds\n",
      "ground truth and obtained formula\n"
     ]
    },
    {
     "data": {
      "text/latex": [
       "$\\displaystyle 1.434x_{1}^{5.167}+1.04x_{2}^{2.083}+1.391$"
      ],
      "text/plain": [
       "<IPython.core.display.Math object>"
      ]
     },
     "metadata": {},
     "output_type": "display_data"
    },
    {
     "data": {
      "text/latex": [
       "$\\displaystyle \\left(1.434x_1^{5.167} + 1.040x_2^{2.083} + 1.391\\right)$"
      ],
      "text/plain": [
       "<IPython.core.display.Math object>"
      ]
     },
     "metadata": {},
     "output_type": "display_data"
    },
    {
     "name": "stdout",
     "output_type": "stream",
     "text": [
      "MSE between formula parameters is 2.033232249232242e-10\n",
      "EXACT RECOVERY\n",
      "\n",
      "\n",
      "----------------------------Exploring new formula #3----------------------------\n",
      "  Initialization #1\n",
      "  Finished run #1, loss 0.022878427058458328, best loss 0.022878427058458328\n",
      "  Initialization #2\n",
      "  Finished run #2, loss 0.048666179180145264, best loss 0.022878427058458328\n",
      "  Initialization #3\n",
      "  Finished run #3, loss 1.0565481866134374e-12, best loss 1.0565481866134374e-12\n",
      "loss is smaller than 1e-05, terminating learning process\n",
      "26 seconds passed from the start, the iteration took 9 seconds\n",
      "ground truth and obtained formula\n"
     ]
    },
    {
     "data": {
      "text/latex": [
       "$\\displaystyle 0.665x_{1}^{5.333}+0.986x_{2}^{3.167}-0.288$"
      ],
      "text/plain": [
       "<IPython.core.display.Math object>"
      ]
     },
     "metadata": {},
     "output_type": "display_data"
    },
    {
     "data": {
      "text/latex": [
       "$\\displaystyle \\left(0.665x_1^{5.333} + 0.986x_2^{3.167}-0.288\\right)$"
      ],
      "text/plain": [
       "<IPython.core.display.Math object>"
      ]
     },
     "metadata": {},
     "output_type": "display_data"
    },
    {
     "name": "stdout",
     "output_type": "stream",
     "text": [
      "MSE between formula parameters is 1.8959429581855148e-10\n",
      "EXACT RECOVERY\n",
      "\n",
      "\n",
      "----------------------------Exploring new formula #4----------------------------\n",
      "  Initialization #1\n",
      "  Finished run #1, loss 2.942576065834146e-05, best loss 2.942576065834146e-05\n",
      "  Initialization #2\n",
      "  Finished run #2, loss 2.6883933969656937e-05, best loss 2.6883933969656937e-05\n",
      "  Initialization #3\n",
      "  Finished run #3, loss 0.008942930959165096, best loss 2.6883933969656937e-05\n",
      "  Initialization #4\n",
      "  Finished run #4, loss 0.009095248766243458, best loss 2.6883933969656937e-05\n",
      "32 seconds passed from the start, the iteration took 6 seconds\n",
      "ground truth and obtained formula\n"
     ]
    },
    {
     "data": {
      "text/latex": [
       "$\\displaystyle -0.446x_{1}^{5.0}+0.027x_{2}^{2.333}-0.163$"
      ],
      "text/plain": [
       "<IPython.core.display.Math object>"
      ]
     },
     "metadata": {},
     "output_type": "display_data"
    },
    {
     "data": {
      "text/latex": [
       "$\\displaystyle \\left(-0.444x_1^{4.994} + 0.105x_2^{0.076}-0.252\\right)$"
      ],
      "text/plain": [
       "<IPython.core.display.Math object>"
      ]
     },
     "metadata": {},
     "output_type": "display_data"
    },
    {
     "name": "stdout",
     "output_type": "stream",
     "text": [
      "MSE between formula parameters is 1.0220143211032928\n",
      "FAILURE\n",
      "\n",
      "\n",
      "----------------------------Exploring new formula #5----------------------------\n",
      "  Initialization #1\n",
      "  Finished run #1, loss 0.0056528570130467415, best loss 0.0056528570130467415\n",
      "  Initialization #2\n",
      "  Finished run #2, loss 8.95591923105038e-13, best loss 8.95591923105038e-13\n",
      "loss is smaller than 1e-05, terminating learning process\n",
      "35 seconds passed from the start, the iteration took 3 seconds\n",
      "ground truth and obtained formula\n"
     ]
    },
    {
     "data": {
      "text/latex": [
       "$\\displaystyle -0.128x_{1}^{4.167}+0.359x_{2}^{3.5}-0.144$"
      ],
      "text/plain": [
       "<IPython.core.display.Math object>"
      ]
     },
     "metadata": {},
     "output_type": "display_data"
    },
    {
     "data": {
      "text/latex": [
       "$\\displaystyle \\left(-0.128x_1^{4.167} + 0.359x_2^{3.500}-0.144\\right)$"
      ],
      "text/plain": [
       "<IPython.core.display.Math object>"
      ]
     },
     "metadata": {},
     "output_type": "display_data"
    },
    {
     "name": "stdout",
     "output_type": "stream",
     "text": [
      "MSE between formula parameters is 5.809483605290211e-09\n",
      "EXACT RECOVERY\n",
      "\n",
      "################################################################################\n",
      "MSEs between parameters:\n",
      "[4.3229153590118585e-10, 2.033232249232242e-10, 1.8959429581855148e-10, 1.0220143211032928, 5.809483605290211e-09]\n",
      "For 4 formulas out of 5 the error is less than 1e-05.\n",
      "\n",
      "\n",
      "----------------------------Exploring new formula #1----------------------------\n",
      "  Initialization #1\n",
      "    Epoch 5000, current loss 0.0935, current formula \\left(-0.263x_1^{0.998} + 2.036x_2^{-0.028}-4.713x_3^{-0.076} + 3.186\\right)\n",
      "  Finished run #1, loss 0.09333398938179016, best loss 0.09333398938179016\n",
      "  Initialization #2\n",
      "  Finished run #2, loss 0.001231847913004458, best loss 0.001231847913004458\n",
      "  Initialization #3\n",
      "  Finished run #3, loss 0.0015028244815766811, best loss 0.001231847913004458\n",
      "  Initialization #4\n",
      "  Finished run #4, loss 0.0012362035922706127, best loss 0.001231847913004458\n",
      "14 seconds passed from the start, the iteration took 14 seconds\n",
      "ground truth and obtained formula\n"
     ]
    },
    {
     "data": {
      "text/latex": [
       "$\\displaystyle -0.152x_{1}^{5.0}-0.095x_{2}^{5.0}+1.692x_{3}^{3.0}-0.277$"
      ],
      "text/plain": [
       "<IPython.core.display.Math object>"
      ]
     },
     "metadata": {},
     "output_type": "display_data"
    },
    {
     "data": {
      "text/latex": [
       "$\\displaystyle \\left(1.746x_1^{-0.013}-0.066x_2^{3.434} + 1.685x_3^{2.969}-2.077\\right)$"
      ],
      "text/plain": [
       "<IPython.core.display.Math object>"
      ]
     },
     "metadata": {},
     "output_type": "display_data"
    },
    {
     "name": "stdout",
     "output_type": "stream",
     "text": [
      "MSE between formula parameters is 4.917898946688601\n",
      "FAILURE\n",
      "\n",
      "\n",
      "----------------------------Exploring new formula #2----------------------------\n",
      "  Initialization #1\n",
      "  Finished run #1, loss 3.951221728276666e-12, best loss 3.951221728276666e-12\n",
      "loss is smaller than 1e-05, terminating learning process\n",
      "16 seconds passed from the start, the iteration took 2 seconds\n",
      "ground truth and obtained formula\n"
     ]
    },
    {
     "data": {
      "text/latex": [
       "$\\displaystyle -1.351x_{1}^{5.0}+0.111x_{2}^{3.0}-0.46x_{3}^{6.0}-0.827$"
      ],
      "text/plain": [
       "<IPython.core.display.Math object>"
      ]
     },
     "metadata": {},
     "output_type": "display_data"
    },
    {
     "data": {
      "text/latex": [
       "$\\displaystyle \\left(-1.351x_1^{5.000} + 0.111x_2^{3.000}-0.460x_3^{6.000}-0.827\\right)$"
      ],
      "text/plain": [
       "<IPython.core.display.Math object>"
      ]
     },
     "metadata": {},
     "output_type": "display_data"
    },
    {
     "name": "stdout",
     "output_type": "stream",
     "text": [
      "MSE between formula parameters is 3.612923682450031e-09\n",
      "EXACT RECOVERY\n",
      "\n",
      "\n",
      "----------------------------Exploring new formula #3----------------------------\n",
      "  Initialization #1\n",
      "    Epoch 5000, current loss 0.1, current formula \\left(0.938x_1^{3.226}-1.563x_2^{6.264} + 4.455x_3^{-0.054}-6.242\\right)\n",
      "    Epoch 10000, current loss 0.099, current formula \\left(0.936x_1^{3.186}-1.566x_2^{6.281} + 7.181x_3^{-0.035}-8.977\\right)\n",
      "  Finished run #1, loss 0.09898222237825394, best loss 0.09898222237825394\n",
      "  Initialization #2\n",
      "  Finished run #2, loss 1.4510348218116365e-12, best loss 1.4510348218116365e-12\n",
      "loss is smaller than 1e-05, terminating learning process\n",
      "36 seconds passed from the start, the iteration took 20 seconds\n",
      "ground truth and obtained formula\n"
     ]
    },
    {
     "data": {
      "text/latex": [
       "$\\displaystyle 0.754x_{1}^{5.0}-1.296x_{2}^{3.0}-1.607x_{3}^{6.0}-1.085$"
      ],
      "text/plain": [
       "<IPython.core.display.Math object>"
      ]
     },
     "metadata": {},
     "output_type": "display_data"
    },
    {
     "data": {
      "text/latex": [
       "$\\displaystyle \\left(0.754x_1^{5.000}-1.296x_2^{3.000}-1.607x_3^{6.000}-1.085\\right)$"
      ],
      "text/plain": [
       "<IPython.core.display.Math object>"
      ]
     },
     "metadata": {},
     "output_type": "display_data"
    },
    {
     "name": "stdout",
     "output_type": "stream",
     "text": [
      "MSE between formula parameters is 6.789185087135202e-11\n",
      "EXACT RECOVERY\n",
      "\n",
      "\n",
      "----------------------------Exploring new formula #4----------------------------\n",
      "  Initialization #1\n",
      "  Finished run #1, loss 0.004938783124089241, best loss 0.004938783124089241\n",
      "  Initialization #2\n",
      "  Finished run #2, loss 3.3244962772266407e-12, best loss 3.3244962772266407e-12\n",
      "loss is smaller than 1e-05, terminating learning process\n",
      "40 seconds passed from the start, the iteration took 4 seconds\n",
      "ground truth and obtained formula\n"
     ]
    },
    {
     "data": {
      "text/latex": [
       "$\\displaystyle 1.271x_{1}^{4.0}-0.458x_{2}^{2.0}-0.432x_{3}^{5.0}+0.562$"
      ],
      "text/plain": [
       "<IPython.core.display.Math object>"
      ]
     },
     "metadata": {},
     "output_type": "display_data"
    },
    {
     "data": {
      "text/latex": [
       "$\\displaystyle \\left(1.271x_1^{4.000}-0.458x_2^{2.000}-0.432x_3^{5.000} + 0.562\\right)$"
      ],
      "text/plain": [
       "<IPython.core.display.Math object>"
      ]
     },
     "metadata": {},
     "output_type": "display_data"
    },
    {
     "name": "stdout",
     "output_type": "stream",
     "text": [
      "MSE between formula parameters is 3.6264444146029616e-09\n",
      "EXACT RECOVERY\n",
      "\n",
      "\n",
      "----------------------------Exploring new formula #5----------------------------\n",
      "  Initialization #1\n",
      "  Finished run #1, loss 0.0164964497089386, best loss 0.0164964497089386\n",
      "  Initialization #2\n",
      "  Finished run #2, loss 1.2766676821610035e-12, best loss 1.2766676821610035e-12\n",
      "loss is smaller than 1e-05, terminating learning process\n",
      "49 seconds passed from the start, the iteration took 9 seconds\n",
      "ground truth and obtained formula\n"
     ]
    },
    {
     "data": {
      "text/latex": [
       "$\\displaystyle 0.183x_{1}^{4.0}+0.561x_{2}^{4.0}+0.759x_{3}^{4.0}+0.602$"
      ],
      "text/plain": [
       "<IPython.core.display.Math object>"
      ]
     },
     "metadata": {},
     "output_type": "display_data"
    },
    {
     "data": {
      "text/latex": [
       "$\\displaystyle \\left(0.183x_1^{4.000} + 0.561x_2^{4.000} + 0.759x_3^{4.000} + 0.602\\right)$"
      ],
      "text/plain": [
       "<IPython.core.display.Math object>"
      ]
     },
     "metadata": {},
     "output_type": "display_data"
    },
    {
     "name": "stdout",
     "output_type": "stream",
     "text": [
      "MSE between formula parameters is 1.1951029372474815e-09\n",
      "EXACT RECOVERY\n",
      "\n",
      "################################################################################\n",
      "MSEs between parameters:\n",
      "[4.917898946688601, 3.612923682450031e-09, 6.789185087135202e-11, 3.6264444146029616e-09, 1.1951029372474815e-09]\n",
      "For 4 formulas out of 5 the error is less than 1e-05.\n",
      "\n",
      "\n",
      "----------------------------Exploring new formula #1----------------------------\n",
      "  Initialization #1\n",
      "  Finished run #1, loss 0.03418006747961044, best loss 0.03418006747961044\n",
      "  Initialization #2\n",
      "  Finished run #2, loss 6.128512194253366e-12, best loss 6.128512194253366e-12\n",
      "loss is smaller than 1e-05, terminating learning process\n",
      "6 seconds passed from the start, the iteration took 6 seconds\n",
      "ground truth and obtained formula\n"
     ]
    },
    {
     "data": {
      "text/latex": [
       "$\\displaystyle 0.511x_{1}^{3.5}-0.95x_{2}^{3.5}-0.373x_{3}^{2.0}-0.056$"
      ],
      "text/plain": [
       "<IPython.core.display.Math object>"
      ]
     },
     "metadata": {},
     "output_type": "display_data"
    },
    {
     "data": {
      "text/latex": [
       "$\\displaystyle \\left(0.511x_1^{3.500}-0.950x_2^{3.500}-0.373x_3^{2.000}-0.056\\right)$"
      ],
      "text/plain": [
       "<IPython.core.display.Math object>"
      ]
     },
     "metadata": {},
     "output_type": "display_data"
    },
    {
     "name": "stdout",
     "output_type": "stream",
     "text": [
      "MSE between formula parameters is 2.407409162891965e-09\n",
      "EXACT RECOVERY\n",
      "\n",
      "\n",
      "----------------------------Exploring new formula #2----------------------------\n",
      "  Initialization #1\n",
      "  Finished run #1, loss 3.023181748343373e-12, best loss 3.023181748343373e-12\n",
      "loss is smaller than 1e-05, terminating learning process\n",
      "8 seconds passed from the start, the iteration took 2 seconds\n",
      "ground truth and obtained formula\n"
     ]
    },
    {
     "data": {
      "text/latex": [
       "$\\displaystyle -1.177x_{1}^{6.0}-1.362x_{2}^{2.5}+0.13x_{3}^{1.5}-0.749$"
      ],
      "text/plain": [
       "<IPython.core.display.Math object>"
      ]
     },
     "metadata": {},
     "output_type": "display_data"
    },
    {
     "data": {
      "text/latex": [
       "$\\displaystyle \\left(-1.177x_1^{6.000}-1.362x_2^{2.500} + 0.130x_3^{1.500}-0.749\\right)$"
      ],
      "text/plain": [
       "<IPython.core.display.Math object>"
      ]
     },
     "metadata": {},
     "output_type": "display_data"
    },
    {
     "name": "stdout",
     "output_type": "stream",
     "text": [
      "MSE between formula parameters is 1.3159584533184443e-10\n",
      "EXACT RECOVERY\n",
      "\n",
      "\n",
      "----------------------------Exploring new formula #3----------------------------\n",
      "  Initialization #1\n",
      "    Epoch 5000, current loss 0.124, current formula \\left(-1.400x_1^{1.028}-11.486x_2^{-0.017}-0.805x_3^{0.253} + 12.123\\right)\n",
      "    Epoch 10000, current loss 0.123, current formula \\left(-1.401x_1^{1.028}-14.721x_2^{-0.014}-0.806x_3^{0.252} + 15.362\\right)\n",
      "  Finished run #1, loss 0.12325240671634674, best loss 0.12325240671634674\n",
      "  Initialization #2\n",
      "    Epoch 5000, current loss 0.0673, current formula \\left(5.356x_1^{-0.041} + 1.594x_2^{4.154} + 0.402x_3^{-0.155}-7.278\\right)\n",
      "    Epoch 10000, current loss 0.0655, current formula \\left(7.097x_1^{-0.032} + 1.594x_2^{4.155} + 0.543x_3^{-0.125}-9.172\\right)\n",
      "  Finished run #2, loss 0.06552641093730927, best loss 0.06552641093730927\n",
      "  Initialization #3\n",
      "  Finished run #3, loss 4.75849394609984e-11, best loss 4.75849394609984e-11\n",
      "loss is smaller than 1e-05, terminating learning process\n",
      "43 seconds passed from the start, the iteration took 35 seconds\n",
      "ground truth and obtained formula\n"
     ]
    },
    {
     "data": {
      "text/latex": [
       "$\\displaystyle -1.356x_{1}^{1.0}+1.611x_{2}^{4.0}-0.322x_{3}^{1.5}-0.453$"
      ],
      "text/plain": [
       "<IPython.core.display.Math object>"
      ]
     },
     "metadata": {},
     "output_type": "display_data"
    },
    {
     "data": {
      "text/latex": [
       "$\\displaystyle \\left(-1.356x_1^{1.000} + 1.611x_2^{4.000}-0.322x_3^{1.500}-0.453\\right)$"
      ],
      "text/plain": [
       "<IPython.core.display.Math object>"
      ]
     },
     "metadata": {},
     "output_type": "display_data"
    },
    {
     "name": "stdout",
     "output_type": "stream",
     "text": [
      "MSE between formula parameters is 5.957373642015032e-09\n",
      "EXACT RECOVERY\n",
      "\n",
      "\n",
      "----------------------------Exploring new formula #4----------------------------\n",
      "  Initialization #1\n",
      "    Epoch 5000, current loss 0.0102, current formula \\left(2.635x_1^{-0.033} + 0.487x_2^{1.794} + 1.444x_3^{2.429}-1.951\\right)\n",
      "    Epoch 10000, current loss 0.01, current formula \\left(4.114x_1^{-0.022} + 0.488x_2^{1.791} + 1.445x_3^{2.429}-3.434\\right)\n",
      "  Finished run #1, loss 0.010007391683757305, best loss 0.010007391683757305\n",
      "  Initialization #2\n",
      "  Finished run #2, loss 5.832774367664495e-12, best loss 5.832774367664495e-12\n",
      "loss is smaller than 1e-05, terminating learning process\n",
      "1 minutes 2 seconds passed from the start, the iteration took 18 seconds\n",
      "ground truth and obtained formula\n"
     ]
    },
    {
     "data": {
      "text/latex": [
       "$\\displaystyle -0.499x_{1}^{1.5}+0.499x_{2}^{1.5}+1.439x_{3}^{2.5}+0.965$"
      ],
      "text/plain": [
       "<IPython.core.display.Math object>"
      ]
     },
     "metadata": {},
     "output_type": "display_data"
    },
    {
     "data": {
      "text/latex": [
       "$\\displaystyle \\left(-0.499x_1^{1.500} + 0.499x_2^{1.500} + 1.439x_3^{2.500} + 0.965\\right)$"
      ],
      "text/plain": [
       "<IPython.core.display.Math object>"
      ]
     },
     "metadata": {},
     "output_type": "display_data"
    },
    {
     "name": "stdout",
     "output_type": "stream",
     "text": [
      "MSE between formula parameters is 3.215349256687919e-10\n",
      "EXACT RECOVERY\n",
      "\n",
      "\n",
      "----------------------------Exploring new formula #5----------------------------\n",
      "  Initialization #1\n",
      "  Finished run #1, loss 0.028248224407434464, best loss 0.028248224407434464\n",
      "  Initialization #2\n",
      "    Epoch 5000, current loss 0.0282, current formula \\left(1.050x_1^{5.473} + 3.103x_2^{-0.049} + 0.401x_3^{6.421}-2.705\\right)\n",
      "    Epoch 10000, current loss 0.0279, current formula \\left(1.049x_1^{5.446} + 4.500x_2^{-0.035} + 0.401x_3^{6.411}-4.108\\right)\n",
      "  Finished run #2, loss 0.02792559564113617, best loss 0.02792559564113617\n",
      "  Initialization #3\n",
      "    Epoch 5000, current loss 0.0284, current formula \\left(1.051x_1^{5.488} + 2.595x_2^{-0.058} + 0.402x_3^{6.430}-2.196\\right)\n",
      "    Epoch 10000, current loss 0.028, current formula \\left(1.049x_1^{5.455} + 3.930x_2^{-0.040} + 0.401x_3^{6.414}-3.537\\right)\n",
      "  Finished run #3, loss 0.02801743894815445, best loss 0.02792559564113617\n",
      "  Initialization #4\n",
      "    Epoch 5000, current loss 0.0282, current formula \\left(1.050x_1^{5.474} + 3.073x_2^{-0.050} + 0.402x_3^{6.423}-2.676\\right)\n",
      "    Epoch 10000, current loss 0.028, current formula \\left(1.049x_1^{5.450} + 4.278x_2^{-0.037} + 0.401x_3^{6.412}-3.885\\right)\n",
      "  Finished run #4, loss 0.027958739548921585, best loss 0.02792559564113617\n",
      "1 minutes 56 seconds passed from the start, the iteration took 55 seconds\n",
      "ground truth and obtained formula\n"
     ]
    },
    {
     "data": {
      "text/latex": [
       "$\\displaystyle 0.943x_{1}^{5.0}-0.872x_{2}^{3.5}+0.24x_{3}^{2.5}+0.742$"
      ],
      "text/plain": [
       "<IPython.core.display.Math object>"
      ]
     },
     "metadata": {},
     "output_type": "display_data"
    },
    {
     "data": {
      "text/latex": [
       "$\\displaystyle \\left(1.049x_1^{5.446} + 4.500x_2^{-0.035} + 0.401x_3^{6.411}-4.108\\right)$"
      ],
      "text/plain": [
       "<IPython.core.display.Math object>"
      ]
     },
     "metadata": {},
     "output_type": "display_data"
    },
    {
     "name": "stdout",
     "output_type": "stream",
     "text": [
      "MSE between formula parameters is 11.487333458090148\n",
      "FAILURE\n",
      "\n",
      "################################################################################\n",
      "MSEs between parameters:\n",
      "[2.407409162891965e-09, 1.3159584533184443e-10, 5.957373642015032e-09, 3.215349256687919e-10, 11.487333458090148]\n",
      "For 4 formulas out of 5 the error is less than 1e-05.\n",
      "\n",
      "\n",
      "----------------------------Exploring new formula #1----------------------------\n",
      "  Initialization #1\n",
      "    Epoch 5000, current loss 0.0605, current formula \\left(-0.254x_1^{23.335}-3.777x_2^{-0.036} + 1.405x_3^{1.177} + 3.704\\right)\n",
      "    Epoch 10000, current loss 0.0597, current formula \\left(-0.252x_1^{23.381}-6.517x_2^{-0.022} + 1.403x_3^{1.170} + 6.449\\right)\n",
      "  Finished run #1, loss 0.0596839003264904, best loss 0.0596839003264904\n",
      "  Initialization #2\n",
      "  Finished run #2, loss 6.382316983938319e-12, best loss 6.382316983938319e-12\n",
      "loss is smaller than 1e-05, terminating learning process\n",
      "17 seconds passed from the start, the iteration took 17 seconds\n",
      "ground truth and obtained formula\n"
     ]
    },
    {
     "data": {
      "text/latex": [
       "$\\displaystyle -0.229x_{1}^{4.667}+1.108x_{2}^{3.583}+1.242x_{3}^{1.667}-0.261$"
      ],
      "text/plain": [
       "<IPython.core.display.Math object>"
      ]
     },
     "metadata": {},
     "output_type": "display_data"
    },
    {
     "data": {
      "text/latex": [
       "$\\displaystyle \\left(-0.229x_1^{4.667} + 1.108x_2^{3.583} + 1.242x_3^{1.667}-0.261\\right)$"
      ],
      "text/plain": [
       "<IPython.core.display.Math object>"
      ]
     },
     "metadata": {},
     "output_type": "display_data"
    },
    {
     "name": "stdout",
     "output_type": "stream",
     "text": [
      "MSE between formula parameters is 2.760592421324759e-09\n",
      "EXACT RECOVERY\n",
      "\n",
      "\n",
      "----------------------------Exploring new formula #2----------------------------\n",
      "  Initialization #1\n",
      "  Finished run #1, loss 5.732856152462773e-05, best loss 5.732856152462773e-05\n",
      "  Initialization #2\n",
      "  Finished run #2, loss 0.01712324656546116, best loss 5.732856152462773e-05\n",
      "  Initialization #3\n",
      "  Finished run #3, loss 0.061319757252931595, best loss 5.732856152462773e-05\n",
      "  Initialization #4\n",
      "  Finished run #4, loss 5.620526644634083e-05, best loss 5.620526644634083e-05\n",
      "29 seconds passed from the start, the iteration took 12 seconds\n",
      "ground truth and obtained formula\n"
     ]
    },
    {
     "data": {
      "text/latex": [
       "$\\displaystyle -1.269x_{1}^{2.75}+0.587x_{2}^{4.083}-0.037x_{3}^{6.0}+0.786$"
      ],
      "text/plain": [
       "<IPython.core.display.Math object>"
      ]
     },
     "metadata": {},
     "output_type": "display_data"
    },
    {
     "data": {
      "text/latex": [
       "$\\displaystyle \\left(-1.269x_1^{2.753} + 0.588x_2^{4.108} + 0.323x_3^{-0.018} + 0.452\\right)$"
      ],
      "text/plain": [
       "<IPython.core.display.Math object>"
      ]
     },
     "metadata": {},
     "output_type": "display_data"
    },
    {
     "name": "stdout",
     "output_type": "stream",
     "text": [
      "MSE between formula parameters is 5.208362354073666\n",
      "FAILURE\n",
      "\n",
      "\n",
      "----------------------------Exploring new formula #3----------------------------\n",
      "  Initialization #1\n",
      "  Finished run #1, loss 1.730811024017176e-12, best loss 1.730811024017176e-12\n",
      "loss is smaller than 1e-05, terminating learning process\n",
      "31 seconds passed from the start, the iteration took 2 seconds\n",
      "ground truth and obtained formula\n"
     ]
    },
    {
     "data": {
      "text/latex": [
       "$\\displaystyle -0.045x_{1}^{5.417}-0.724x_{2}^{4.0}-0.391x_{3}^{4.75}-0.913$"
      ],
      "text/plain": [
       "<IPython.core.display.Math object>"
      ]
     },
     "metadata": {},
     "output_type": "display_data"
    },
    {
     "data": {
      "text/latex": [
       "$\\displaystyle \\left(-0.045x_1^{5.416}-0.724x_2^{4.000}-0.391x_3^{4.750}-0.913\\right)$"
      ],
      "text/plain": [
       "<IPython.core.display.Math object>"
      ]
     },
     "metadata": {},
     "output_type": "display_data"
    },
    {
     "name": "stdout",
     "output_type": "stream",
     "text": [
      "MSE between formula parameters is 3.953134778451288e-08\n",
      "EXACT RECOVERY\n",
      "\n",
      "\n",
      "----------------------------Exploring new formula #4----------------------------\n",
      "  Initialization #1\n",
      "  Finished run #1, loss 0.0012736439239233732, best loss 0.0012736439239233732\n",
      "  Initialization #2\n",
      "    Epoch 5000, current loss 0.093, current formula \\left(10.889x_1^{-0.014} + 2.435x_2^{0.015}-8.062x_3^{-0.027}-3.382\\right)\n",
      "    Epoch 10000, current loss 0.0924, current formula \\left(14.561x_1^{-0.011} + 2.435x_2^{0.016}-11.736x_3^{-0.019}-3.380\\right)\n",
      "  Finished run #2, loss 0.09235882014036179, best loss 0.0012736439239233732\n",
      "  Initialization #3\n",
      "    Epoch 5000, current loss 0.0489, current formula \\left(4.639x_1^{-0.030} + 0.212x_2^{3.160} + 1.124x_3^{3.368}-3.334\\right)\n",
      "    Epoch 10000, current loss 0.0482, current formula \\left(6.926x_1^{-0.021} + 0.212x_2^{3.144} + 1.123x_3^{3.354}-5.628\\right)\n",
      "  Finished run #3, loss 0.048210203647613525, best loss 0.0012736439239233732\n",
      "  Initialization #4\n",
      "  Finished run #4, loss 0.05291248857975006, best loss 0.0012736439239233732\n",
      "1 minutes 9 seconds passed from the start, the iteration took 38 seconds\n",
      "ground truth and obtained formula\n"
     ]
    },
    {
     "data": {
      "text/latex": [
       "$\\displaystyle -1.075x_{1}^{2.25}+0.255x_{2}^{1.167}+0.968x_{3}^{3.0}+1.749$"
      ],
      "text/plain": [
       "<IPython.core.display.Math object>"
      ]
     },
     "metadata": {},
     "output_type": "display_data"
    },
    {
     "data": {
      "text/latex": [
       "$\\displaystyle \\left(-1.094x_1^{2.135} + 1.624x_2^{0.043} + 0.955x_3^{2.850} + 0.324\\right)$"
      ],
      "text/plain": [
       "<IPython.core.display.Math object>"
      ]
     },
     "metadata": {},
     "output_type": "display_data"
    },
    {
     "name": "stdout",
     "output_type": "stream",
     "text": [
      "MSE between formula parameters is 0.7433172437591453\n",
      "FAILURE\n",
      "\n",
      "\n",
      "----------------------------Exploring new formula #5----------------------------\n",
      "  Initialization #1\n",
      "    Epoch 5000, current loss 0.0555, current formula \\left(-0.814x_1^{0.080} + 2.483x_2^{0.010}-2.884x_3^{-0.093} + 1.801\\right)\n",
      "    Epoch 10000, current loss 0.0547, current formula \\left(-1.107x_1^{0.059} + 2.646x_2^{0.009}-4.072x_3^{-0.068} + 3.123\\right)\n",
      "  Finished run #1, loss 0.054698895663022995, best loss 0.054698895663022995\n",
      "  Initialization #2\n",
      "  Finished run #2, loss 0.05578703060746193, best loss 0.054698895663022995\n",
      "  Initialization #3\n",
      "  Finished run #3, loss 0.0003465069457888603, best loss 0.0003465069457888603\n",
      "  Initialization #4\n",
      "  Finished run #4, loss 0.00035562782431952655, best loss 0.0003465069457888603\n",
      "1 minutes 38 seconds passed from the start, the iteration took 29 seconds\n",
      "ground truth and obtained formula\n"
     ]
    },
    {
     "data": {
      "text/latex": [
       "$\\displaystyle 0.103x_{1}^{5.833}-0.05x_{2}^{3.333}+1.247x_{3}^{5.333}+0.17$"
      ],
      "text/plain": [
       "<IPython.core.display.Math object>"
      ]
     },
     "metadata": {},
     "output_type": "display_data"
    },
    {
     "data": {
      "text/latex": [
       "$\\displaystyle \\left(1.172x_1^{0.012}-0.054x_2^{2.456} + 1.259x_3^{5.349}-0.974\\right)$"
      ],
      "text/plain": [
       "<IPython.core.display.Math object>"
      ]
     },
     "metadata": {},
     "output_type": "display_data"
    },
    {
     "name": "stdout",
     "output_type": "stream",
     "text": [
      "MSE between formula parameters is 5.302069617446444\n",
      "FAILURE\n",
      "\n",
      "################################################################################\n",
      "MSEs between parameters:\n",
      "[2.760592421324759e-09, 5.208362354073666, 3.953134778451288e-08, 0.7433172437591453, 5.302069617446444]\n",
      "For 2 formulas out of 5 the error is less than 1e-05.\n",
      "\n",
      "\n",
      "----------------------------Exploring new formula #1----------------------------\n",
      "  Initialization #1\n",
      "    Epoch 5000, current loss 0.0662, current formula \\left(-0.758x_1^{3.180} + 6.517x_2^{-0.011} + 0.474x_3^{1.080}-6.287x_4^{-0.017} + 0.005\\right)\n",
      "    Epoch 10000, current loss 0.0661, current formula \\left(-0.759x_1^{3.184} + 8.178x_2^{-0.009} + 0.474x_3^{1.079}-7.953x_4^{-0.014} + 0.010\\right)\n",
      "  Finished run #1, loss 0.06606684625148773, best loss 0.06606684625148773\n",
      "  Initialization #2\n",
      "  Finished run #2, loss 0.04072442278265953, best loss 0.04072442278265953\n",
      "  Initialization #3\n",
      "    Epoch 5000, current loss 0.0185, current formula \\left(-0.973x_1^{4.612}-0.408x_2^{0.607}-4.857x_3^{-0.016} + 1.094x_4^{5.045} + 5.436\\right)\n",
      "    Epoch 10000, current loss 0.0184, current formula \\left(-0.973x_1^{4.614}-0.407x_2^{0.610}-5.666x_3^{-0.014} + 1.093x_4^{5.043} + 6.244\\right)\n",
      "  Finished run #3, loss 0.01841145008802414, best loss 0.01841145008802414\n",
      "  Initialization #4\n",
      "    Epoch 5000, current loss 0.0792, current formula \\left(5.321x_1^{-0.016}-0.403x_2^{1.696} + 0.526x_3^{1.505}-6.201x_4^{-0.015} + 1.089\\right)\n",
      "  Finished run #4, loss 0.07908178865909576, best loss 0.01841145008802414\n",
      "1 minutes 25 seconds passed from the start, the iteration took 1 minutes 25 seconds\n",
      "ground truth and obtained formula\n"
     ]
    },
    {
     "data": {
      "text/latex": [
       "$\\displaystyle -0.879x_{1}^{4.0}-0.34x_{2}^{2.0}+0.572x_{3}^{3.0}+1.155x_{4}^{5.0}+0.206$"
      ],
      "text/plain": [
       "<IPython.core.display.Math object>"
      ]
     },
     "metadata": {},
     "output_type": "display_data"
    },
    {
     "data": {
      "text/latex": [
       "$\\displaystyle \\left(-0.973x_1^{4.614}-0.407x_2^{0.610}-5.666x_3^{-0.014} + 1.093x_4^{5.043} + 6.244\\right)$"
      ],
      "text/plain": [
       "<IPython.core.display.Math object>"
      ]
     },
     "metadata": {},
     "output_type": "display_data"
    },
    {
     "name": "stdout",
     "output_type": "stream",
     "text": [
      "MSE between formula parameters is 9.641907502679462\n",
      "FAILURE\n",
      "\n",
      "\n",
      "----------------------------Exploring new formula #2----------------------------\n",
      "  Initialization #1\n",
      "  Finished run #1, loss 1.8980088334341616e-11, best loss 1.8980088334341616e-11\n",
      "loss is smaller than 1e-05, terminating learning process\n",
      "1 minutes 30 seconds passed from the start, the iteration took 5 seconds\n",
      "ground truth and obtained formula\n"
     ]
    },
    {
     "data": {
      "text/latex": [
       "$\\displaystyle -0.913x_{1}^{5.0}-0.444x_{2}^{5.0}+1.805x_{3}^{5.0}-1.283x_{4}^{2.0}-1.456$"
      ],
      "text/plain": [
       "<IPython.core.display.Math object>"
      ]
     },
     "metadata": {},
     "output_type": "display_data"
    },
    {
     "data": {
      "text/latex": [
       "$\\displaystyle \\left(-0.913x_1^{5.000}-0.444x_2^{5.000} + 1.805x_3^{5.000}-1.283x_4^{2.000}-1.456\\right)$"
      ],
      "text/plain": [
       "<IPython.core.display.Math object>"
      ]
     },
     "metadata": {},
     "output_type": "display_data"
    },
    {
     "name": "stdout",
     "output_type": "stream",
     "text": [
      "MSE between formula parameters is 2.2715799611698153e-09\n",
      "EXACT RECOVERY\n",
      "\n",
      "\n",
      "----------------------------Exploring new formula #3----------------------------\n",
      "  Initialization #1\n",
      "    Epoch 5000, current loss 0.102, current formula \\left(2.911x_1^{-0.064} + 0.553x_2^{16.652}-1.474x_3^{0.838} + 0.252x_4^{0.658}-5.287\\right)\n",
      "  Finished run #1, loss 0.10202406346797943, best loss 0.10202406346797943\n",
      "  Initialization #2\n",
      "    Epoch 5000, current loss 0.136, current formula \\left(3.026x_1^{-0.065}-3.653x_2^{-0.008} + 3.655x_3^{-0.094} + 0.228x_4^{0.972}-6.485\\right)\n",
      "  Finished run #2, loss 0.13502369821071625, best loss 0.10202406346797943\n",
      "  Initialization #3\n",
      "  Finished run #3, loss 0.026026593521237373, best loss 0.026026593521237373\n",
      "  Initialization #4\n",
      "  Finished run #4, loss 4.156675004196586e-12, best loss 4.156675004196586e-12\n",
      "loss is smaller than 1e-05, terminating learning process\n",
      "2 minutes 54 seconds passed from the start, the iteration took 1 minutes 24 seconds\n",
      "ground truth and obtained formula\n"
     ]
    },
    {
     "data": {
      "text/latex": [
       "$\\displaystyle -1.603x_{1}^{6.0}+0.347x_{2}^{4.0}-1.271x_{3}^{1.0}+0.441x_{4}^{1.0}-2.15$"
      ],
      "text/plain": [
       "<IPython.core.display.Math object>"
      ]
     },
     "metadata": {},
     "output_type": "display_data"
    },
    {
     "data": {
      "text/latex": [
       "$\\displaystyle \\left(-1.603x_1^{6.000} + 0.347x_2^{4.000}-1.271x_3^{1.000} + 0.441x_4^{1.000}-2.150\\right)$"
      ],
      "text/plain": [
       "<IPython.core.display.Math object>"
      ]
     },
     "metadata": {},
     "output_type": "display_data"
    },
    {
     "name": "stdout",
     "output_type": "stream",
     "text": [
      "MSE between formula parameters is 2.0493592008582104e-10\n",
      "EXACT RECOVERY\n",
      "\n",
      "\n",
      "----------------------------Exploring new formula #4----------------------------\n",
      "  Initialization #1\n",
      "  Finished run #1, loss 0.060171760618686676, best loss 0.060171760618686676\n",
      "  Initialization #2\n",
      "    Epoch 5000, current loss 0.0163, current formula \\left(0.631x_1^{5.671}-1.328x_2^{2.078} + 2.242x_3^{0.012}-1.946x_4^{-0.046}-0.583\\right)\n",
      "    Epoch 10000, current loss 0.0162, current formula \\left(0.631x_1^{5.676}-1.328x_2^{2.074} + 2.947x_3^{0.009}-2.681x_4^{-0.035}-0.552\\right)\n",
      "  Finished run #2, loss 0.016249803826212883, best loss 0.016249803826212883\n",
      "  Initialization #3\n",
      "    Epoch 5000, current loss 0.0162, current formula \\left(0.631x_1^{5.685}-1.328x_2^{2.073} + 1.140x_3^{0.023}-2.874x_4^{-0.033} + 1.449\\right)\n",
      "    Epoch 10000, current loss 0.0162, current formula \\left(0.631x_1^{5.682}-1.328x_2^{2.071} + 1.972x_3^{0.013}-3.722x_4^{-0.026} + 1.466\\right)\n",
      "  Finished run #3, loss 0.016179634258151054, best loss 0.016179634258151054\n",
      "  Initialization #4\n",
      "  Finished run #4, loss 0.00018529107910580933, best loss 0.00018529107910580933\n",
      "4 minutes 5 seconds passed from the start, the iteration took 1 minutes 11 seconds\n",
      "ground truth and obtained formula\n"
     ]
    },
    {
     "data": {
      "text/latex": [
       "$\\displaystyle 0.659x_{1}^{6.0}-1.33x_{2}^{2.0}+0.064x_{3}^{3.0}+0.691x_{4}^{5.0}-0.52$"
      ],
      "text/plain": [
       "<IPython.core.display.Math object>"
      ]
     },
     "metadata": {},
     "output_type": "display_data"
    },
    {
     "data": {
      "text/latex": [
       "$\\displaystyle \\left(0.652x_1^{5.759}-1.327x_2^{1.999}-0.509x_3^{-0.026} + 0.682x_4^{5.029} + 0.019\\right)$"
      ],
      "text/plain": [
       "<IPython.core.display.Math object>"
      ]
     },
     "metadata": {},
     "output_type": "display_data"
    },
    {
     "name": "stdout",
     "output_type": "stream",
     "text": [
      "MSE between formula parameters is 1.0925257669802715\n",
      "FAILURE\n",
      "\n",
      "\n",
      "----------------------------Exploring new formula #5----------------------------\n",
      "  Initialization #1\n",
      "  Finished run #1, loss 0.029535925015807152, best loss 0.029535925015807152\n",
      "  Initialization #2\n",
      "  Finished run #2, loss 3.8238036868809555e-12, best loss 3.8238036868809555e-12\n",
      "loss is smaller than 1e-05, terminating learning process\n",
      "4 minutes 22 seconds passed from the start, the iteration took 17 seconds\n",
      "ground truth and obtained formula\n"
     ]
    },
    {
     "data": {
      "text/latex": [
       "$\\displaystyle 0.642x_{1}^{4.0}+0.483x_{2}^{3.0}+1.622x_{3}^{4.0}+0.596x_{4}^{3.0}+0.291$"
      ],
      "text/plain": [
       "<IPython.core.display.Math object>"
      ]
     },
     "metadata": {},
     "output_type": "display_data"
    },
    {
     "data": {
      "text/latex": [
       "$\\displaystyle \\left(0.642x_1^{4.000} + 0.483x_2^{3.000} + 1.622x_3^{4.000} + 0.596x_4^{3.000} + 0.291\\right)$"
      ],
      "text/plain": [
       "<IPython.core.display.Math object>"
      ]
     },
     "metadata": {},
     "output_type": "display_data"
    },
    {
     "name": "stdout",
     "output_type": "stream",
     "text": [
      "MSE between formula parameters is 5.400552104283128e-10\n",
      "EXACT RECOVERY\n",
      "\n",
      "################################################################################\n",
      "MSEs between parameters:\n",
      "[9.641907502679462, 2.2715799611698153e-09, 2.0493592008582104e-10, 1.0925257669802715, 5.400552104283128e-10]\n",
      "For 3 formulas out of 5 the error is less than 1e-05.\n",
      "\n",
      "\n",
      "----------------------------Exploring new formula #1----------------------------\n",
      "  Initialization #1\n",
      "  Finished run #1, loss 1.8459046791097222e-11, best loss 1.8459046791097222e-11\n",
      "loss is smaller than 1e-05, terminating learning process\n",
      "5 seconds passed from the start, the iteration took 5 seconds\n",
      "ground truth and obtained formula\n"
     ]
    },
    {
     "data": {
      "text/latex": [
       "$\\displaystyle -0.573x_{1}^{2.0}-1.865x_{2}^{2.0}-0.898x_{3}^{4.5}+0.479x_{4}^{1.0}-1.022$"
      ],
      "text/plain": [
       "<IPython.core.display.Math object>"
      ]
     },
     "metadata": {},
     "output_type": "display_data"
    },
    {
     "data": {
      "text/latex": [
       "$\\displaystyle \\left(-0.573x_1^{2.000}-1.865x_2^{2.000}-0.898x_3^{4.500} + 0.479x_4^{1.000}-1.022\\right)$"
      ],
      "text/plain": [
       "<IPython.core.display.Math object>"
      ]
     },
     "metadata": {},
     "output_type": "display_data"
    },
    {
     "name": "stdout",
     "output_type": "stream",
     "text": [
      "MSE between formula parameters is 1.5083941996686514e-09\n",
      "EXACT RECOVERY\n",
      "\n",
      "\n",
      "----------------------------Exploring new formula #2----------------------------\n",
      "  Initialization #1\n",
      "  Finished run #1, loss 0.014089646749198437, best loss 0.014089646749198437\n",
      "  Initialization #2\n",
      "  Finished run #2, loss 0.014221224002540112, best loss 0.014089646749198437\n",
      "  Initialization #3\n",
      "  Finished run #3, loss 3.4404276649802057e-10, best loss 3.4404276649802057e-10\n",
      "loss is smaller than 1e-05, terminating learning process\n",
      "27 seconds passed from the start, the iteration took 22 seconds\n",
      "ground truth and obtained formula\n"
     ]
    },
    {
     "data": {
      "text/latex": [
       "$\\displaystyle -0.549x_{1}^{2.0}+0.669x_{2}^{2.0}+0.362x_{3}^{3.5}-0.682x_{4}^{0.5}+1.594$"
      ],
      "text/plain": [
       "<IPython.core.display.Math object>"
      ]
     },
     "metadata": {},
     "output_type": "display_data"
    },
    {
     "data": {
      "text/latex": [
       "$\\displaystyle \\left(-0.549x_1^{2.000} + 0.669x_2^{2.000} + 0.362x_3^{3.500}-0.682x_4^{0.500} + 1.594\\right)$"
      ],
      "text/plain": [
       "<IPython.core.display.Math object>"
      ]
     },
     "metadata": {},
     "output_type": "display_data"
    },
    {
     "name": "stdout",
     "output_type": "stream",
     "text": [
      "MSE between formula parameters is 1.4294731916682698e-08\n",
      "EXACT RECOVERY\n",
      "\n",
      "\n",
      "----------------------------Exploring new formula #3----------------------------\n",
      "  Initialization #1\n",
      "    Epoch 5000, current loss 0.0485, current formula \\left(5.662x_1^{-0.028}-6.053x_2^{-0.027}-3.678x_3^{0.014}-1.195x_4^{-0.013} + 4.296\\right)\n",
      "    Epoch 10000, current loss 0.048, current formula \\left(9.212x_1^{-0.018}-9.595x_2^{-0.018}-3.678x_3^{0.014}-1.202x_4^{-0.013} + 4.296\\right)\n",
      "  Finished run #1, loss 0.04801196604967117, best loss 0.04801196604967117\n",
      "  Initialization #2\n",
      "    Epoch 5000, current loss 0.0484, current formula \\left(6.586x_1^{-0.024}-4.825x_2^{-0.034}-2.038x_3^{0.026} + 1.731x_4^{0.010}-2.424\\right)\n",
      "    Epoch 10000, current loss 0.048, current formula \\left(9.800x_1^{-0.017}-8.042x_2^{-0.021}-2.034x_3^{0.025} + 1.730x_4^{0.010}-2.422\\right)\n",
      "  Finished run #2, loss 0.048002008348703384, best loss 0.048002008348703384\n",
      "  Initialization #3\n",
      "    Epoch 5000, current loss 0.00586, current formula \\left(-0.960x_1^{3.590}-2.273x_2^{-0.062}-0.213x_3^{3.934} + 0.170x_4^{11.593} + 1.723\\right)\n",
      "    Epoch 10000, current loss 0.00562, current formula \\left(-0.960x_1^{3.580}-3.432x_2^{-0.043}-0.209x_3^{3.854} + 0.164x_4^{11.245} + 2.885\\right)\n",
      "  Finished run #3, loss 0.005615648813545704, best loss 0.005615648813545704\n",
      "  Initialization #4\n",
      "  Finished run #4, loss 1.1201928273862904e-11, best loss 1.1201928273862904e-11\n",
      "loss is smaller than 1e-05, terminating learning process\n",
      "2 minutes 27 seconds passed from the start, the iteration took 2 minutes 0 seconds\n",
      "ground truth and obtained formula\n"
     ]
    },
    {
     "data": {
      "text/latex": [
       "$\\displaystyle -0.976x_{1}^{3.5}+0.596x_{2}^{1.0}-0.146x_{3}^{3.0}+0.065x_{4}^{3.0}-0.987$"
      ],
      "text/plain": [
       "<IPython.core.display.Math object>"
      ]
     },
     "metadata": {},
     "output_type": "display_data"
    },
    {
     "data": {
      "text/latex": [
       "$\\displaystyle \\left(-0.976x_1^{3.500} + 0.596x_2^{1.000}-0.146x_3^{3.000} + 0.065x_4^{3.000}-0.987\\right)$"
      ],
      "text/plain": [
       "<IPython.core.display.Math object>"
      ]
     },
     "metadata": {},
     "output_type": "display_data"
    },
    {
     "name": "stdout",
     "output_type": "stream",
     "text": [
      "MSE between formula parameters is 1.0352136117466573e-08\n",
      "EXACT RECOVERY\n",
      "\n",
      "\n",
      "----------------------------Exploring new formula #4----------------------------\n",
      "  Initialization #1\n",
      "    Epoch 5000, current loss 0.0356, current formula \\left(-1.036x_1^{1.249} + 2.258x_2^{-0.071} + 0.542x_3^{0.353}-0.129x_4^{8.933}-1.815\\right)\n",
      "    Epoch 10000, current loss 0.0352, current formula \\left(-1.037x_1^{1.254} + 3.185x_2^{-0.053} + 0.597x_3^{0.308}-0.129x_4^{8.958}-2.805\\right)\n",
      "  Finished run #1, loss 0.035219721496105194, best loss 0.035219721496105194\n",
      "  Initialization #2\n",
      "  Finished run #2, loss 0.003424225142225623, best loss 0.003424225142225623\n",
      "  Initialization #3\n",
      "    Epoch 5000, current loss 0.0772, current formula \\left(3.754x_1^{-0.042} + 1.219x_2^{-0.101} + 0.511x_3^{0.428}-0.030x_4^{-0.102}-5.086\\right)\n",
      "  Finished run #3, loss 0.07638367265462875, best loss 0.003424225142225623\n",
      "  Initialization #4\n",
      "  Finished run #4, loss 0.03527706116437912, best loss 0.003424225142225623\n",
      "4 minutes 1 seconds passed from the start, the iteration took 1 minutes 34 seconds\n",
      "ground truth and obtained formula\n"
     ]
    },
    {
     "data": {
      "text/latex": [
       "$\\displaystyle -0.968x_{1}^{1.5}-1.05x_{2}^{5.5}+0.37x_{3}^{2.0}-0.058x_{4}^{5.5}+0.936$"
      ],
      "text/plain": [
       "<IPython.core.display.Math object>"
      ]
     },
     "metadata": {},
     "output_type": "display_data"
    },
    {
     "data": {
      "text/latex": [
       "$\\displaystyle \\left(-0.964x_1^{1.478}-0.948x_2^{4.857} + 3.063x_3^{0.047} + 0.071x_4^{-0.064}-1.956\\right)$"
      ],
      "text/plain": [
       "<IPython.core.display.Math object>"
      ]
     },
     "metadata": {},
     "output_type": "display_data"
    },
    {
     "name": "stdout",
     "output_type": "stream",
     "text": [
      "MSE between formula parameters is 5.647364188708266\n",
      "FAILURE\n",
      "\n",
      "\n",
      "----------------------------Exploring new formula #5----------------------------\n",
      "  Initialization #1\n",
      "  Finished run #1, loss 0.005949580576270819, best loss 0.005949580576270819\n",
      "  Initialization #2\n",
      "  Finished run #2, loss 0.00013589805166702718, best loss 0.00013589805166702718\n",
      "  Initialization #3\n",
      "  Finished run #3, loss 0.0038584969006478786, best loss 0.00013589805166702718\n",
      "  Initialization #4\n",
      "    Epoch 5000, current loss 0.0168, current formula \\left(-0.018x_1^{-0.335}-0.122x_2^{-0.127}-3.530x_3^{-0.089} + 0.913x_4^{1.536} + 6.298\\right)\n",
      "    Epoch 10000, current loss 0.0159, current formula \\left(-0.023x_1^{-0.307}-0.197x_2^{-0.094}-4.771x_3^{-0.069} + 0.917x_4^{1.543} + 7.628\\right)\n",
      "  Finished run #4, loss 0.015860261395573616, best loss 0.00013589805166702718\n",
      "4 minutes 53 seconds passed from the start, the iteration took 52 seconds\n",
      "ground truth and obtained formula\n"
     ]
    },
    {
     "data": {
      "text/latex": [
       "$\\displaystyle 0.054x_{1}^{2.5}+0.327x_{2}^{6.0}+1.496x_{3}^{0.5}+1.069x_{4}^{1.5}+1.112$"
      ],
      "text/plain": [
       "<IPython.core.display.Math object>"
      ]
     },
     "metadata": {},
     "output_type": "display_data"
    },
    {
     "data": {
      "text/latex": [
       "$\\displaystyle \\left(1.575x_1^{0.005} + 0.322x_2^{6.220} + 1.504x_3^{0.496} + 1.063x_4^{1.487}-0.443\\right)$"
      ],
      "text/plain": [
       "<IPython.core.display.Math object>"
      ]
     },
     "metadata": {},
     "output_type": "display_data"
    },
    {
     "name": "stdout",
     "output_type": "stream",
     "text": [
      "MSE between formula parameters is 1.222595576033378\n",
      "FAILURE\n",
      "\n",
      "################################################################################\n",
      "MSEs between parameters:\n",
      "[1.5083941996686514e-09, 1.4294731916682698e-08, 1.0352136117466573e-08, 5.647364188708266, 1.222595576033378]\n",
      "For 3 formulas out of 5 the error is less than 1e-05.\n",
      "\n",
      "\n",
      "----------------------------Exploring new formula #1----------------------------\n",
      "  Initialization #1\n",
      "  Finished run #1, loss 0.03141942247748375, best loss 0.03141942247748375\n",
      "  Initialization #2\n",
      "    Epoch 5000, current loss 0.0321, current formula \\left(-0.388x_1^{3.162}-0.000x_2^{-2.091}-2.500x_3^{-0.037} + 1.512x_4^{3.189} + 2.594\\right)\n",
      "  Finished run #2, loss 0.03191608935594559, best loss 0.03141942247748375\n",
      "  Initialization #3\n",
      "  Finished run #3, loss 0.004320216365158558, best loss 0.004320216365158558\n",
      "  Initialization #4\n",
      "  Finished run #4, loss 0.00015108135994523764, best loss 0.00015108135994523764\n",
      "23 seconds passed from the start, the iteration took 23 seconds\n",
      "ground truth and obtained formula\n"
     ]
    },
    {
     "data": {
      "text/latex": [
       "$\\displaystyle -0.368x_{1}^{2.75}-0.055x_{2}^{4.5}+0.747x_{3}^{2.25}+1.491x_{4}^{3.333}-0.217$"
      ],
      "text/plain": [
       "<IPython.core.display.Math object>"
      ]
     },
     "metadata": {},
     "output_type": "display_data"
    },
    {
     "data": {
      "text/latex": [
       "$\\displaystyle \\left(-0.358x_1^{2.665} + 0.095x_2^{-0.082} + 0.745x_3^{2.259} + 1.482x_4^{3.307}-0.332\\right)$"
      ],
      "text/plain": [
       "<IPython.core.display.Math object>"
      ]
     },
     "metadata": {},
     "output_type": "display_data"
    },
    {
     "name": "stdout",
     "output_type": "stream",
     "text": [
      "MSE between formula parameters is 2.337323529384914\n",
      "FAILURE\n",
      "\n",
      "\n",
      "----------------------------Exploring new formula #2----------------------------\n",
      "  Initialization #1\n",
      "  Finished run #1, loss 0.0055180941708385944, best loss 0.0055180941708385944\n",
      "  Initialization #2\n",
      "  Finished run #2, loss 0.0005143257440067828, best loss 0.0005143257440067828\n",
      "  Initialization #3\n",
      "    Epoch 5000, current loss 0.00596, current formula \\left(-1.292x_1^{-0.030}-2.258x_2^{-0.014}-0.242x_3^{8.621}-0.855x_4^{0.184} + 3.712\\right)\n",
      "    Epoch 10000, current loss 0.0059, current formula \\left(-2.045x_1^{-0.020}-2.214x_2^{-0.014}-0.244x_3^{8.704}-0.890x_4^{0.174} + 4.459\\right)\n",
      "  Finished run #3, loss 0.005904426332563162, best loss 0.0005143257440067828\n",
      "  Initialization #4\n",
      "  Finished run #4, loss 0.00042744536767713726, best loss 0.00042744536767713726\n",
      "51 seconds passed from the start, the iteration took 28 seconds\n",
      "ground truth and obtained formula\n"
     ]
    },
    {
     "data": {
      "text/latex": [
       "$\\displaystyle 0.405x_{1}^{4.833}+0.103x_{2}^{2.917}-0.19x_{3}^{5.5}-0.863x_{4}^{0.167}+0.023$"
      ],
      "text/plain": [
       "<IPython.core.display.Math object>"
      ]
     },
     "metadata": {},
     "output_type": "display_data"
    },
    {
     "data": {
      "text/latex": [
       "$\\displaystyle \\left(0.401x_1^{4.891} + 0.937x_2^{0.027}-0.185x_3^{5.549}-0.765x_4^{0.199}-0.966\\right)$"
      ],
      "text/plain": [
       "<IPython.core.display.Math object>"
      ]
     },
     "metadata": {},
     "output_type": "display_data"
    },
    {
     "name": "stdout",
     "output_type": "stream",
     "text": [
      "MSE between formula parameters is 1.1151649070688856\n",
      "FAILURE\n",
      "\n",
      "\n",
      "----------------------------Exploring new formula #3----------------------------\n",
      "  Initialization #1\n",
      "    Epoch 5000, current loss 0.14, current formula \\left(-6.612x_1^{-0.029}-0.423x_2^{7.885}-2.023x_3^{8.644}-1.146x_4^{-0.051} + 7.892\\right)\n",
      "    Epoch 10000, current loss 0.139, current formula \\left(-9.224x_1^{-0.021}-0.424x_2^{7.850}-2.024x_3^{8.640}-1.146x_4^{-0.051} + 10.508\\right)\n",
      "  Finished run #1, loss 0.13928255438804626, best loss 0.13928255438804626\n",
      "  Initialization #2\n",
      "  Finished run #2, loss 0.146260604262352, best loss 0.13928255438804626\n",
      "  Initialization #3\n",
      "  Finished run #3, loss 0.2850750982761383, best loss 0.13928255438804626\n",
      "  Initialization #4\n",
      "  Finished run #4, loss 0.15091758966445923, best loss 0.13928255438804626\n",
      "1 minutes 28 seconds passed from the start, the iteration took 37 seconds\n",
      "ground truth and obtained formula\n"
     ]
    },
    {
     "data": {
      "text/latex": [
       "$\\displaystyle 1.728x_{1}^{5.833}-0.441x_{2}^{5.25}-1.951x_{3}^{5.917}+0.327x_{4}^{5.5}-0.328$"
      ],
      "text/plain": [
       "<IPython.core.display.Math object>"
      ]
     },
     "metadata": {},
     "output_type": "display_data"
    },
    {
     "data": {
      "text/latex": [
       "$\\displaystyle \\left(-9.224x_1^{-0.021}-0.424x_2^{7.850}-2.024x_3^{8.640}-1.146x_4^{-0.051} + 10.508\\right)$"
      ],
      "text/plain": [
       "<IPython.core.display.Math object>"
      ]
     },
     "metadata": {},
     "output_type": "display_data"
    },
    {
     "name": "stdout",
     "output_type": "stream",
     "text": [
      "MSE between formula parameters is 35.42339697773912\n",
      "FAILURE\n",
      "\n",
      "\n",
      "----------------------------Exploring new formula #4----------------------------\n",
      "  Initialization #1\n",
      "    Epoch 5000, current loss 0.105, current formula \\left(0.629x_1^{3.208} + 1.056x_2^{4.369} + 1.314x_3^{-0.061} + 4.830x_4^{-0.067}-6.703\\right)\n",
      "    Epoch 10000, current loss 0.103, current formula \\left(0.632x_1^{3.203} + 1.053x_2^{4.341} + 1.747x_3^{-0.049} + 6.183x_4^{-0.054}-8.502\\right)\n",
      "  Finished run #1, loss 0.10316217690706253, best loss 0.10316217690706253\n",
      "  Initialization #2\n",
      "    Epoch 5000, current loss 0.117, current formula \\left(0.707x_1^{3.118}-10.670x_2^{-0.016}-0.751x_3^{2.360} + 10.931x_4^{-0.033}-0.232\\right)\n",
      "    Epoch 10000, current loss 0.116, current formula \\left(0.708x_1^{3.129}-16.962x_2^{-0.010}-0.756x_3^{2.394} + 17.236x_4^{-0.022}-0.254\\right)\n",
      "  Finished run #2, loss 0.11580738425254822, best loss 0.10316217690706253\n",
      "  Initialization #3\n",
      "  Finished run #3, loss 5.6636206141602585e-12, best loss 5.6636206141602585e-12\n",
      "loss is smaller than 1e-05, terminating learning process\n",
      "2 minutes 8 seconds passed from the start, the iteration took 40 seconds\n",
      "ground truth and obtained formula\n"
     ]
    },
    {
     "data": {
      "text/latex": [
       "$\\displaystyle 0.544x_{1}^{3.167}+1.304x_{2}^{4.333}-0.826x_{3}^{2.667}-1.482x_{4}^{1.667}+0.666$"
      ],
      "text/plain": [
       "<IPython.core.display.Math object>"
      ]
     },
     "metadata": {},
     "output_type": "display_data"
    },
    {
     "data": {
      "text/latex": [
       "$\\displaystyle \\left(0.544x_1^{3.167} + 1.304x_2^{4.333}-0.826x_3^{2.667}-1.482x_4^{1.667} + 0.666\\right)$"
      ],
      "text/plain": [
       "<IPython.core.display.Math object>"
      ]
     },
     "metadata": {},
     "output_type": "display_data"
    },
    {
     "name": "stdout",
     "output_type": "stream",
     "text": [
      "MSE between formula parameters is 1.0335309891868545e-09\n",
      "EXACT RECOVERY\n",
      "\n",
      "\n",
      "----------------------------Exploring new formula #5----------------------------\n",
      "  Initialization #1\n",
      "  Finished run #1, loss 4.7259817587130826e-12, best loss 4.7259817587130826e-12\n",
      "loss is smaller than 1e-05, terminating learning process\n",
      "2 minutes 10 seconds passed from the start, the iteration took 2 seconds\n",
      "ground truth and obtained formula\n"
     ]
    },
    {
     "data": {
      "text/latex": [
       "$\\displaystyle 2.167x_{1}^{2.583}+1.884x_{2}^{2.667}-1.306x_{3}^{3.417}+0.482x_{4}^{2.0}-0.372$"
      ],
      "text/plain": [
       "<IPython.core.display.Math object>"
      ]
     },
     "metadata": {},
     "output_type": "display_data"
    },
    {
     "data": {
      "text/latex": [
       "$\\displaystyle \\left(2.167x_1^{2.583} + 1.884x_2^{2.667}-1.306x_3^{3.417} + 0.482x_4^{2.000}-0.372\\right)$"
      ],
      "text/plain": [
       "<IPython.core.display.Math object>"
      ]
     },
     "metadata": {},
     "output_type": "display_data"
    },
    {
     "name": "stdout",
     "output_type": "stream",
     "text": [
      "MSE between formula parameters is 1.6475117566490855e-11\n",
      "EXACT RECOVERY\n",
      "\n",
      "################################################################################\n",
      "MSEs between parameters:\n",
      "[2.337323529384914, 1.1151649070688856, 35.42339697773912, 1.0335309891868545e-09, 1.6475117566490855e-11]\n",
      "For 2 formulas out of 5 the error is less than 1e-05.\n",
      "\n",
      "\n",
      "----------------------------Exploring new formula #1----------------------------\n",
      "  Initialization #1\n",
      "    Epoch 5000, current loss 0.0204, current formula \\left(-2.114x_1^{-0.037} + 0.742x_2^{4.273} + 0.625\\right)\n",
      "    Epoch 10000, current loss 0.0203, current formula \\left(-2.977x_1^{-0.027} + 0.742x_2^{4.274} + 1.491\\right)\n",
      "  Finished run #1, loss 0.020256146788597107, best loss 0.020256146788597107\n",
      "  Initialization #2\n",
      "  Finished run #2, loss 0.04669633507728577, best loss 0.020256146788597107\n",
      "  Initialization #3\n",
      "  Finished run #3, loss 1.8036736383966745e-12, best loss 1.8036736383966745e-12\n",
      "loss is smaller than 1e-05, terminating learning process\n",
      "53 seconds passed from the start, the iteration took 53 seconds\n",
      "ground truth and obtained formula\n"
     ]
    },
    {
     "data": {
      "text/latex": [
       "$\\displaystyle 0.701x_{1}^{6.0}+0.737x_{2}^{4.0}-1.672$"
      ],
      "text/plain": [
       "<IPython.core.display.Math object>"
      ]
     },
     "metadata": {},
     "output_type": "display_data"
    },
    {
     "data": {
      "text/latex": [
       "$\\displaystyle \\left(0.701x_1^{6.000} + 0.737x_2^{4.000}-1.672\\right)$"
      ],
      "text/plain": [
       "<IPython.core.display.Math object>"
      ]
     },
     "metadata": {},
     "output_type": "display_data"
    },
    {
     "name": "stdout",
     "output_type": "stream",
     "text": [
      "MSE between formula parameters is 3.5137759368808474e-10\n",
      "EXACT RECOVERY\n",
      "\n",
      "\n",
      "----------------------------Exploring new formula #2----------------------------\n",
      "  Initialization #1\n",
      "    Epoch 5000, current loss 0.0158, current formula \\left(3.843x_1^{-0.045}-1.130x_2^{0.956}-3.824\\right)\n",
      "    Epoch 10000, current loss 0.0152, current formula \\left(6.000x_1^{-0.030}-1.129x_2^{0.958}-5.990\\right)\n",
      "  Finished run #1, loss 0.015168736688792706, best loss 0.015168736688792706\n",
      "  Initialization #2\n",
      "  Finished run #2, loss 1.4236549222487738e-12, best loss 1.4236549222487738e-12\n",
      "loss is smaller than 1e-05, terminating learning process\n",
      "1 minutes 32 seconds passed from the start, the iteration took 39 seconds\n",
      "ground truth and obtained formula\n"
     ]
    },
    {
     "data": {
      "text/latex": [
       "$\\displaystyle -0.802x_{1}^{1.0}-1.105x_{2}^{1.0}+0.577$"
      ],
      "text/plain": [
       "<IPython.core.display.Math object>"
      ]
     },
     "metadata": {},
     "output_type": "display_data"
    },
    {
     "data": {
      "text/latex": [
       "$\\displaystyle \\left(-0.802x_1^{1.000}-1.105x_2^{1.000} + 0.577\\right)$"
      ],
      "text/plain": [
       "<IPython.core.display.Math object>"
      ]
     },
     "metadata": {},
     "output_type": "display_data"
    },
    {
     "name": "stdout",
     "output_type": "stream",
     "text": [
      "MSE between formula parameters is 3.8522784961969594e-11\n",
      "EXACT RECOVERY\n",
      "\n",
      "\n",
      "----------------------------Exploring new formula #3----------------------------\n",
      "  Initialization #1\n",
      "  Finished run #1, loss 1.3632695233106729e-12, best loss 1.3632695233106729e-12\n",
      "loss is smaller than 1e-05, terminating learning process\n",
      "1 minutes 43 seconds passed from the start, the iteration took 11 seconds\n",
      "ground truth and obtained formula\n"
     ]
    },
    {
     "data": {
      "text/latex": [
       "$\\displaystyle 0.442x_{1}^{6.0}-1.6x_{2}^{2.0}+0.752$"
      ],
      "text/plain": [
       "<IPython.core.display.Math object>"
      ]
     },
     "metadata": {},
     "output_type": "display_data"
    },
    {
     "data": {
      "text/latex": [
       "$\\displaystyle \\left(0.442x_1^{6.000}-1.600x_2^{2.000} + 0.752\\right)$"
      ],
      "text/plain": [
       "<IPython.core.display.Math object>"
      ]
     },
     "metadata": {},
     "output_type": "display_data"
    },
    {
     "name": "stdout",
     "output_type": "stream",
     "text": [
      "MSE between formula parameters is 1.3496634920784346e-10\n",
      "EXACT RECOVERY\n",
      "\n",
      "\n",
      "----------------------------Exploring new formula #4----------------------------\n",
      "  Initialization #1\n",
      "  Finished run #1, loss 6.793276878525045e-13, best loss 6.793276878525045e-13\n",
      "loss is smaller than 1e-05, terminating learning process\n",
      "1 minutes 48 seconds passed from the start, the iteration took 5 seconds\n",
      "ground truth and obtained formula\n"
     ]
    },
    {
     "data": {
      "text/latex": [
       "$\\displaystyle -0.802x_{1}^{4.0}+0.422x_{2}^{4.0}-0.541$"
      ],
      "text/plain": [
       "<IPython.core.display.Math object>"
      ]
     },
     "metadata": {},
     "output_type": "display_data"
    },
    {
     "data": {
      "text/latex": [
       "$\\displaystyle \\left(-0.802x_1^{4.000} + 0.422x_2^{4.000}-0.541\\right)$"
      ],
      "text/plain": [
       "<IPython.core.display.Math object>"
      ]
     },
     "metadata": {},
     "output_type": "display_data"
    },
    {
     "name": "stdout",
     "output_type": "stream",
     "text": [
      "MSE between formula parameters is 1.8060237749750742e-10\n",
      "EXACT RECOVERY\n",
      "\n",
      "\n",
      "----------------------------Exploring new formula #5----------------------------\n",
      "  Initialization #1\n",
      "  Finished run #1, loss 0.0028919687028974295, best loss 0.0028919687028974295\n",
      "  Initialization #2\n",
      "  Finished run #2, loss 2.3286687248630367e-12, best loss 2.3286687248630367e-12\n",
      "loss is smaller than 1e-05, terminating learning process\n",
      "1 minutes 57 seconds passed from the start, the iteration took 9 seconds\n",
      "ground truth and obtained formula\n"
     ]
    },
    {
     "data": {
      "text/latex": [
       "$\\displaystyle -0.249x_{1}^{4.0}+0.355x_{2}^{2.0}-0.084$"
      ],
      "text/plain": [
       "<IPython.core.display.Math object>"
      ]
     },
     "metadata": {},
     "output_type": "display_data"
    },
    {
     "data": {
      "text/latex": [
       "$\\displaystyle \\left(-0.249x_1^{4.000} + 0.355x_2^{2.000}-0.084\\right)$"
      ],
      "text/plain": [
       "<IPython.core.display.Math object>"
      ]
     },
     "metadata": {},
     "output_type": "display_data"
    },
    {
     "name": "stdout",
     "output_type": "stream",
     "text": [
      "MSE between formula parameters is 4.005481102353769e-09\n",
      "EXACT RECOVERY\n",
      "\n",
      "################################################################################\n",
      "MSEs between parameters:\n",
      "[3.5137759368808474e-10, 3.8522784961969594e-11, 1.3496634920784346e-10, 1.8060237749750742e-10, 4.005481102353769e-09]\n",
      "For 5 formulas out of 5 the error is less than 1e-05.\n",
      "\n",
      "\n",
      "----------------------------Exploring new formula #1----------------------------\n",
      "  Initialization #1\n",
      "  Finished run #1, loss 0.003113966668024659, best loss 0.003113966668024659\n",
      "  Initialization #2\n",
      "  Finished run #2, loss 0.0031195797491818666, best loss 0.003113966668024659\n",
      "  Initialization #3\n",
      "  Finished run #3, loss 0.0029509728774428368, best loss 0.0029509728774428368\n",
      "  Initialization #4\n",
      "  Finished run #4, loss 1.9503687131040143e-13, best loss 1.9503687131040143e-13\n",
      "loss is smaller than 1e-05, terminating learning process\n",
      "21 seconds passed from the start, the iteration took 21 seconds\n",
      "ground truth and obtained formula\n"
     ]
    },
    {
     "data": {
      "text/latex": [
       "$\\displaystyle 0.247x_{1}^{4.5}+0.727x_{2}^{4.0}+0.53$"
      ],
      "text/plain": [
       "<IPython.core.display.Math object>"
      ]
     },
     "metadata": {},
     "output_type": "display_data"
    },
    {
     "data": {
      "text/latex": [
       "$\\displaystyle \\left(0.247x_1^{4.500} + 0.727x_2^{4.000} + 0.530\\right)$"
      ],
      "text/plain": [
       "<IPython.core.display.Math object>"
      ]
     },
     "metadata": {},
     "output_type": "display_data"
    },
    {
     "name": "stdout",
     "output_type": "stream",
     "text": [
      "MSE between formula parameters is 1.982279673740095e-10\n",
      "EXACT RECOVERY\n",
      "\n",
      "\n",
      "----------------------------Exploring new formula #2----------------------------\n",
      "  Initialization #1\n",
      "    Epoch 5000, current loss 0.0756, current formula \\left(-1.324x_1^{-0.018} + 2.883x_2^{-0.051}-0.847\\right)\n",
      "  Finished run #1, loss 0.07558725774288177, best loss 0.07558725774288177\n",
      "  Initialization #2\n",
      "  Finished run #2, loss 0.0006842242437414825, best loss 0.0006842242437414825\n",
      "  Initialization #3\n",
      "  Finished run #3, loss 9.342518078603312e-13, best loss 9.342518078603312e-13\n",
      "loss is smaller than 1e-05, terminating learning process\n",
      "55 seconds passed from the start, the iteration took 33 seconds\n",
      "ground truth and obtained formula\n"
     ]
    },
    {
     "data": {
      "text/latex": [
       "$\\displaystyle 0.129x_{1}^{3.0}-1.293x_{2}^{6.0}+0.986$"
      ],
      "text/plain": [
       "<IPython.core.display.Math object>"
      ]
     },
     "metadata": {},
     "output_type": "display_data"
    },
    {
     "data": {
      "text/latex": [
       "$\\displaystyle \\left(0.129x_1^{3.000}-1.293x_2^{6.000} + 0.986\\right)$"
      ],
      "text/plain": [
       "<IPython.core.display.Math object>"
      ]
     },
     "metadata": {},
     "output_type": "display_data"
    },
    {
     "name": "stdout",
     "output_type": "stream",
     "text": [
      "MSE between formula parameters is 1.9529327932588104e-09\n",
      "EXACT RECOVERY\n",
      "\n",
      "\n",
      "----------------------------Exploring new formula #3----------------------------\n",
      "  Initialization #1\n",
      "    Epoch 5000, current loss 0.0691, current formula \\left(0.669x_1^{3.034} + 6.420x_2^{-0.044}-8.410\\right)\n",
      "    Epoch 10000, current loss 0.0671, current formula \\left(0.669x_1^{3.028} + 9.799x_2^{-0.031}-11.799\\right)\n",
      "  Finished run #1, loss 0.06713587045669556, best loss 0.06713587045669556\n",
      "  Initialization #2\n",
      "  Finished run #2, loss 6.550315845288424e-13, best loss 6.550315845288424e-13\n",
      "loss is smaller than 1e-05, terminating learning process\n",
      "1 minutes 33 seconds passed from the start, the iteration took 38 seconds\n",
      "ground truth and obtained formula\n"
     ]
    },
    {
     "data": {
      "text/latex": [
       "$\\displaystyle 0.655x_{1}^{3.0}-1.387x_{2}^{1.5}-1.129$"
      ],
      "text/plain": [
       "<IPython.core.display.Math object>"
      ]
     },
     "metadata": {},
     "output_type": "display_data"
    },
    {
     "data": {
      "text/latex": [
       "$\\displaystyle \\left(0.655x_1^{3.000}-1.387x_2^{1.500}-1.129\\right)$"
      ],
      "text/plain": [
       "<IPython.core.display.Math object>"
      ]
     },
     "metadata": {},
     "output_type": "display_data"
    },
    {
     "name": "stdout",
     "output_type": "stream",
     "text": [
      "MSE between formula parameters is 1.5205614545266144e-12\n",
      "EXACT RECOVERY\n",
      "\n",
      "\n",
      "----------------------------Exploring new formula #4----------------------------\n",
      "  Initialization #1\n",
      "  Finished run #1, loss 4.845577064593876e-12, best loss 4.845577064593876e-12\n",
      "loss is smaller than 1e-05, terminating learning process\n",
      "1 minutes 37 seconds passed from the start, the iteration took 4 seconds\n",
      "ground truth and obtained formula\n"
     ]
    },
    {
     "data": {
      "text/latex": [
       "$\\displaystyle 0.88x_{1}^{5.0}+0.609x_{2}^{1.5}+0.284$"
      ],
      "text/plain": [
       "<IPython.core.display.Math object>"
      ]
     },
     "metadata": {},
     "output_type": "display_data"
    },
    {
     "data": {
      "text/latex": [
       "$\\displaystyle \\left(0.880x_1^{5.000} + 0.609x_2^{1.500} + 0.284\\right)$"
      ],
      "text/plain": [
       "<IPython.core.display.Math object>"
      ]
     },
     "metadata": {},
     "output_type": "display_data"
    },
    {
     "name": "stdout",
     "output_type": "stream",
     "text": [
      "MSE between formula parameters is 6.039307720584475e-10\n",
      "EXACT RECOVERY\n",
      "\n",
      "\n",
      "----------------------------Exploring new formula #5----------------------------\n",
      "  Initialization #1\n",
      "    Epoch 5000, current loss 0.013, current formula \\left(3.717x_1^{-0.044}-0.960x_2^{3.526}-4.349\\right)\n",
      "    Epoch 10000, current loss 0.0125, current formula \\left(5.348x_1^{-0.032}-0.960x_2^{3.524}-5.985\\right)\n",
      "  Finished run #1, loss 0.01252511516213417, best loss 0.01252511516213417\n",
      "  Initialization #2\n",
      "  Finished run #2, loss 3.688671763868445e-12, best loss 3.688671763868445e-12\n",
      "loss is smaller than 1e-05, terminating learning process\n",
      "2 minutes 18 seconds passed from the start, the iteration took 41 seconds\n",
      "ground truth and obtained formula\n"
     ]
    },
    {
     "data": {
      "text/latex": [
       "$\\displaystyle -0.734x_{1}^{1.0}-0.962x_{2}^{3.5}-0.096$"
      ],
      "text/plain": [
       "<IPython.core.display.Math object>"
      ]
     },
     "metadata": {},
     "output_type": "display_data"
    },
    {
     "data": {
      "text/latex": [
       "$\\displaystyle \\left(-0.734x_1^{1.000}-0.962x_2^{3.500}-0.096\\right)$"
      ],
      "text/plain": [
       "<IPython.core.display.Math object>"
      ]
     },
     "metadata": {},
     "output_type": "display_data"
    },
    {
     "name": "stdout",
     "output_type": "stream",
     "text": [
      "MSE between formula parameters is 4.7950454717948786e-11\n",
      "EXACT RECOVERY\n",
      "\n",
      "################################################################################\n",
      "MSEs between parameters:\n",
      "[1.982279673740095e-10, 1.9529327932588104e-09, 1.5205614545266144e-12, 6.039307720584475e-10, 4.7950454717948786e-11]\n",
      "For 5 formulas out of 5 the error is less than 1e-05.\n",
      "\n",
      "\n",
      "----------------------------Exploring new formula #1----------------------------\n",
      "  Initialization #1\n",
      "    Epoch 5000, current loss 1.27e-05, current formula \\left(-0.401x_1^{0.572} + 0.537x_2^{4.056} + 0.073\\right)\n",
      "  Finished run #1, loss 5.771468719606432e-11, best loss 5.771468719606432e-11\n",
      "loss is smaller than 1e-05, terminating learning process\n",
      "22 seconds passed from the start, the iteration took 22 seconds\n",
      "ground truth and obtained formula\n"
     ]
    },
    {
     "data": {
      "text/latex": [
       "$\\displaystyle -0.425x_{1}^{0.5}+0.538x_{2}^{4.083}+0.102$"
      ],
      "text/plain": [
       "<IPython.core.display.Math object>"
      ]
     },
     "metadata": {},
     "output_type": "display_data"
    },
    {
     "data": {
      "text/latex": [
       "$\\displaystyle \\left(-0.425x_1^{0.500} + 0.538x_2^{4.083} + 0.102\\right)$"
      ],
      "text/plain": [
       "<IPython.core.display.Math object>"
      ]
     },
     "metadata": {},
     "output_type": "display_data"
    },
    {
     "name": "stdout",
     "output_type": "stream",
     "text": [
      "MSE between formula parameters is 6.486313752773753e-09\n",
      "EXACT RECOVERY\n",
      "\n",
      "\n",
      "----------------------------Exploring new formula #2----------------------------\n",
      "  Initialization #1\n",
      "    Epoch 5000, current loss 0.00583, current formula \\left(-1.811x_1^{0.035} + 0.263x_2^{2.285} + 1.614\\right)\n",
      "    Epoch 10000, current loss 0.00562, current formula \\left(-0.838x_1^{0.088} + 0.263x_2^{2.287} + 0.634\\right)\n",
      "  Finished run #1, loss 0.005615436937659979, best loss 0.005615436937659979\n",
      "  Initialization #2\n",
      "  Finished run #2, loss 1.1618580446695614e-12, best loss 1.1618580446695614e-12\n",
      "loss is smaller than 1e-05, terminating learning process\n",
      "1 minutes 1 seconds passed from the start, the iteration took 39 seconds\n",
      "ground truth and obtained formula\n"
     ]
    },
    {
     "data": {
      "text/latex": [
       "$\\displaystyle -0.369x_{1}^{4.583}+0.272x_{2}^{2.167}-0.075$"
      ],
      "text/plain": [
       "<IPython.core.display.Math object>"
      ]
     },
     "metadata": {},
     "output_type": "display_data"
    },
    {
     "data": {
      "text/latex": [
       "$\\displaystyle \\left(-0.369x_1^{4.583} + 0.272x_2^{2.167}-0.075\\right)$"
      ],
      "text/plain": [
       "<IPython.core.display.Math object>"
      ]
     },
     "metadata": {},
     "output_type": "display_data"
    },
    {
     "name": "stdout",
     "output_type": "stream",
     "text": [
      "MSE between formula parameters is 1.5673759623524574e-09\n",
      "EXACT RECOVERY\n",
      "\n",
      "\n",
      "----------------------------Exploring new formula #3----------------------------\n",
      "  Initialization #1\n",
      "  Finished run #1, loss 2.8962502968826742e-12, best loss 2.8962502968826742e-12\n",
      "loss is smaller than 1e-05, terminating learning process\n",
      "1 minutes 5 seconds passed from the start, the iteration took 4 seconds\n",
      "ground truth and obtained formula\n"
     ]
    },
    {
     "data": {
      "text/latex": [
       "$\\displaystyle 1.387x_{1}^{1.417}+0.105x_{2}^{5.833}+0.562$"
      ],
      "text/plain": [
       "<IPython.core.display.Math object>"
      ]
     },
     "metadata": {},
     "output_type": "display_data"
    },
    {
     "data": {
      "text/latex": [
       "$\\displaystyle \\left(1.387x_1^{1.417} + 0.105x_2^{5.833} + 0.562\\right)$"
      ],
      "text/plain": [
       "<IPython.core.display.Math object>"
      ]
     },
     "metadata": {},
     "output_type": "display_data"
    },
    {
     "name": "stdout",
     "output_type": "stream",
     "text": [
      "MSE between formula parameters is 6.130695712203149e-08\n",
      "EXACT RECOVERY\n",
      "\n",
      "\n",
      "----------------------------Exploring new formula #4----------------------------\n",
      "  Initialization #1\n",
      "  Finished run #1, loss 3.053791811438722e-12, best loss 3.053791811438722e-12\n",
      "loss is smaller than 1e-05, terminating learning process\n",
      "1 minutes 9 seconds passed from the start, the iteration took 4 seconds\n",
      "ground truth and obtained formula\n"
     ]
    },
    {
     "data": {
      "text/latex": [
       "$\\displaystyle -0.77x_{1}^{2.833}-1.164x_{2}^{3.583}+1.054$"
      ],
      "text/plain": [
       "<IPython.core.display.Math object>"
      ]
     },
     "metadata": {},
     "output_type": "display_data"
    },
    {
     "data": {
      "text/latex": [
       "$\\displaystyle \\left(-0.770x_1^{2.833}-1.164x_2^{3.583} + 1.054\\right)$"
      ],
      "text/plain": [
       "<IPython.core.display.Math object>"
      ]
     },
     "metadata": {},
     "output_type": "display_data"
    },
    {
     "name": "stdout",
     "output_type": "stream",
     "text": [
      "MSE between formula parameters is 2.9585649485852627e-10\n",
      "EXACT RECOVERY\n",
      "\n",
      "\n",
      "----------------------------Exploring new formula #5----------------------------\n",
      "  Initialization #1\n",
      "    Epoch 5000, current loss 0.0102, current formula \\left(0.481x_1^{2.615} + 3.380x_2^{-0.023}-4.383\\right)\n",
      "    Epoch 10000, current loss 0.0101, current formula \\left(0.481x_1^{2.617} + 4.298x_2^{-0.019}-5.302\\right)\n",
      "  Finished run #1, loss 0.010111363604664803, best loss 0.010111363604664803\n",
      "  Initialization #2\n",
      "  Finished run #2, loss 8.277591936542428e-13, best loss 8.277591936542428e-13\n",
      "loss is smaller than 1e-05, terminating learning process\n",
      "1 minutes 53 seconds passed from the start, the iteration took 44 seconds\n",
      "ground truth and obtained formula\n"
     ]
    },
    {
     "data": {
      "text/latex": [
       "$\\displaystyle 0.471x_{1}^{2.667}-0.447x_{2}^{3.0}-0.802$"
      ],
      "text/plain": [
       "<IPython.core.display.Math object>"
      ]
     },
     "metadata": {},
     "output_type": "display_data"
    },
    {
     "data": {
      "text/latex": [
       "$\\displaystyle \\left(0.471x_1^{2.667}-0.447x_2^{3.000}-0.802\\right)$"
      ],
      "text/plain": [
       "<IPython.core.display.Math object>"
      ]
     },
     "metadata": {},
     "output_type": "display_data"
    },
    {
     "name": "stdout",
     "output_type": "stream",
     "text": [
      "MSE between formula parameters is 1.6268018043774646e-10\n",
      "EXACT RECOVERY\n",
      "\n",
      "################################################################################\n",
      "MSEs between parameters:\n",
      "[6.486313752773753e-09, 1.5673759623524574e-09, 6.130695712203149e-08, 2.9585649485852627e-10, 1.6268018043774646e-10]\n",
      "For 5 formulas out of 5 the error is less than 1e-05.\n",
      "\n",
      "\n",
      "----------------------------Exploring new formula #1----------------------------\n",
      "  Initialization #1\n",
      "  Finished run #1, loss 0.05691345036029816, best loss 0.05691345036029816\n",
      "  Initialization #2\n",
      "    Epoch 5000, current loss 0.102, current formula \\left(-1.077x_1^{3.747} + 5.188x_2^{-0.036}-0.606x_3^{2.713}-4.969\\right)\n",
      "    Epoch 10000, current loss 0.101, current formula \\left(-1.077x_1^{3.753} + 7.684x_2^{-0.025}-0.605x_3^{2.711}-7.471\\right)\n",
      "  Finished run #2, loss 0.10084150731563568, best loss 0.05691345036029816\n",
      "  Initialization #3\n",
      "    Epoch 5000, current loss 0.102, current formula \\left(-1.077x_1^{3.745} + 4.713x_2^{-0.039}-0.606x_3^{2.713}-4.492\\right)\n",
      "    Epoch 10000, current loss 0.101, current formula \\left(-1.077x_1^{3.752} + 7.167x_2^{-0.027}-0.605x_3^{2.711}-6.953\\right)\n",
      "  Finished run #3, loss 0.10096649080514908, best loss 0.05691345036029816\n",
      "  Initialization #4\n",
      "    Epoch 5000, current loss 0.0197, current formula \\left(-1.093x_1^{4.191}-1.448x_2^{4.536} + 2.649x_3^{-0.038}-2.266\\right)\n",
      "    Epoch 10000, current loss 0.0194, current formula \\left(-1.093x_1^{4.191}-1.448x_2^{4.539} + 4.089x_3^{-0.026}-3.710\\right)\n",
      "  Finished run #4, loss 0.01938626356422901, best loss 0.01938626356422901\n",
      "2 minutes 11 seconds passed from the start, the iteration took 2 minutes 11 seconds\n",
      "ground truth and obtained formula\n"
     ]
    },
    {
     "data": {
      "text/latex": [
       "$\\displaystyle -1.121x_{1}^{4.0}-1.494x_{2}^{5.0}-0.658x_{3}^{3.0}+0.653$"
      ],
      "text/plain": [
       "<IPython.core.display.Math object>"
      ]
     },
     "metadata": {},
     "output_type": "display_data"
    },
    {
     "data": {
      "text/latex": [
       "$\\displaystyle \\left(-1.093x_1^{4.191}-1.448x_2^{4.539} + 4.090x_3^{-0.026}-3.710\\right)$"
      ],
      "text/plain": [
       "<IPython.core.display.Math object>"
      ]
     },
     "metadata": {},
     "output_type": "display_data"
    },
    {
     "name": "stdout",
     "output_type": "stream",
     "text": [
      "MSE between formula parameters is 7.284223660660613\n",
      "FAILURE\n",
      "\n",
      "\n",
      "----------------------------Exploring new formula #2----------------------------\n",
      "  Initialization #1\n",
      "    Epoch 5000, current loss 0.00116, current formula \\left(1.534x_1^{4.015}-0.629x_2^{2.963} + 1.293x_3^{-0.044}-1.723\\right)\n",
      "    Epoch 10000, current loss 0.00112, current formula \\left(1.534x_1^{4.013}-0.629x_2^{2.966} + 1.826x_3^{-0.032}-2.257\\right)\n",
      "  Finished run #1, loss 0.0011180868605151772, best loss 0.0011180868605151772\n",
      "  Initialization #2\n",
      "    Epoch 5000, current loss 0.131, current formula \\left(-8.834x_1^{-0.026} + 10.032x_2^{-0.014}-0.261x_3^{1.447}-1.207\\right)\n",
      "    Epoch 10000, current loss 0.13, current formula \\left(-12.321x_1^{-0.019} + 13.497x_2^{-0.011}-0.262x_3^{1.448}-1.181\\right)\n",
      "  Finished run #2, loss 0.13015246391296387, best loss 0.0011180868605151772\n",
      "  Initialization #3\n",
      "  Finished run #3, loss 1.1831226102987369e-11, best loss 1.1831226102987369e-11\n",
      "loss is smaller than 1e-05, terminating learning process\n",
      "3 minutes 43 seconds passed from the start, the iteration took 1 minutes 32 seconds\n",
      "ground truth and obtained formula\n"
     ]
    },
    {
     "data": {
      "text/latex": [
       "$\\displaystyle 1.532x_{1}^{4.0}-0.629x_{2}^{3.0}-0.235x_{3}^{1.0}-0.254$"
      ],
      "text/plain": [
       "<IPython.core.display.Math object>"
      ]
     },
     "metadata": {},
     "output_type": "display_data"
    },
    {
     "data": {
      "text/latex": [
       "$\\displaystyle \\left(1.532x_1^{4.000}-0.629x_2^{3.000}-0.235x_3^{1.000}-0.254\\right)$"
      ],
      "text/plain": [
       "<IPython.core.display.Math object>"
      ]
     },
     "metadata": {},
     "output_type": "display_data"
    },
    {
     "name": "stdout",
     "output_type": "stream",
     "text": [
      "MSE between formula parameters is 2.8741054298413768e-09\n",
      "EXACT RECOVERY\n",
      "\n",
      "\n",
      "----------------------------Exploring new formula #3----------------------------\n",
      "  Initialization #1\n",
      "  Finished run #1, loss 0.009590733796358109, best loss 0.009590733796358109\n",
      "  Initialization #2\n",
      "    Epoch 5000, current loss 0.0296, current formula \\left(0.147x_1^{4.412} + 2.575x_2^{-0.033}-1.794x_3^{0.039}-1.107\\right)\n",
      "  Finished run #2, loss 0.029533421620726585, best loss 0.009590733796358109\n",
      "  Initialization #3\n",
      "  Finished run #3, loss 0.00924820825457573, best loss 0.00924820825457573\n",
      "  Initialization #4\n",
      "    Epoch 5000, current loss 0.0088, current formula \\left(0.137x_1^{3.928}-0.713x_2^{6.172} + 2.194x_3^{-0.027}-2.329\\right)\n",
      "    Epoch 10000, current loss 0.00878, current formula \\left(0.137x_1^{3.926}-0.712x_2^{6.173} + 2.765x_3^{-0.022}-2.901\\right)\n",
      "  Finished run #4, loss 0.008777002803981304, best loss 0.008777002803981304\n",
      "5 minutes 7 seconds passed from the start, the iteration took 1 minutes 24 seconds\n",
      "ground truth and obtained formula\n"
     ]
    },
    {
     "data": {
      "text/latex": [
       "$\\displaystyle 0.125x_{1}^{4.0}-0.69x_{2}^{6.0}-0.451x_{3}^{6.0}-0.005$"
      ],
      "text/plain": [
       "<IPython.core.display.Math object>"
      ]
     },
     "metadata": {},
     "output_type": "display_data"
    },
    {
     "data": {
      "text/latex": [
       "$\\displaystyle \\left(0.137x_1^{3.926}-0.712x_2^{6.173} + 2.765x_3^{-0.022}-2.901\\right)$"
      ],
      "text/plain": [
       "<IPython.core.display.Math object>"
      ]
     },
     "metadata": {},
     "output_type": "display_data"
    },
    {
     "name": "stdout",
     "output_type": "stream",
     "text": [
      "MSE between formula parameters is 7.860626069213467\n",
      "FAILURE\n",
      "\n",
      "\n",
      "----------------------------Exploring new formula #4----------------------------\n",
      "  Initialization #1\n",
      "    Epoch 5000, current loss 0.0844, current formula \\left(-0.705x_1^{6.875}-4.978x_2^{-0.036}-0.495x_3^{3.912} + 6.128\\right)\n",
      "    Epoch 10000, current loss 0.0839, current formula \\left(-0.705x_1^{6.878}-7.043x_2^{-0.026}-0.495x_3^{3.904} + 8.198\\right)\n",
      "  Finished run #1, loss 0.08392179757356644, best loss 0.08392179757356644\n",
      "  Initialization #2\n",
      "    Epoch 5000, current loss 0.019, current formula \\left(1.892x_1^{-0.037} + 1.453x_2^{4.881}-0.506x_3^{2.790}-1.302\\right)\n",
      "    Epoch 10000, current loss 0.0189, current formula \\left(2.765x_1^{-0.027} + 1.452x_2^{4.880}-0.506x_3^{2.789}-2.179\\right)\n",
      "  Finished run #2, loss 0.01885896734893322, best loss 0.01885896734893322\n",
      "  Initialization #3\n",
      "  Finished run #3, loss 2.098837596775649e-12, best loss 2.098837596775649e-12\n",
      "loss is smaller than 1e-05, terminating learning process\n",
      "6 minutes 29 seconds passed from the start, the iteration took 1 minutes 22 seconds\n",
      "ground truth and obtained formula\n"
     ]
    },
    {
     "data": {
      "text/latex": [
       "$\\displaystyle -0.646x_{1}^{6.0}+1.456x_{2}^{5.0}-0.499x_{3}^{3.0}+0.753$"
      ],
      "text/plain": [
       "<IPython.core.display.Math object>"
      ]
     },
     "metadata": {},
     "output_type": "display_data"
    },
    {
     "data": {
      "text/latex": [
       "$\\displaystyle \\left(-0.646x_1^{6.000} + 1.456x_2^{5.000}-0.499x_3^{3.000} + 0.753\\right)$"
      ],
      "text/plain": [
       "<IPython.core.display.Math object>"
      ]
     },
     "metadata": {},
     "output_type": "display_data"
    },
    {
     "name": "stdout",
     "output_type": "stream",
     "text": [
      "MSE between formula parameters is 5.787675101081342e-11\n",
      "EXACT RECOVERY\n",
      "\n",
      "\n",
      "----------------------------Exploring new formula #5----------------------------\n",
      "  Initialization #1\n",
      "  Finished run #1, loss 0.0014334492152556777, best loss 0.0014334492152556777\n",
      "  Initialization #2\n",
      "  Finished run #2, loss 2.4498944539708134e-12, best loss 2.4498944539708134e-12\n",
      "loss is smaller than 1e-05, terminating learning process\n",
      "6 minutes 38 seconds passed from the start, the iteration took 9 seconds\n",
      "ground truth and obtained formula\n"
     ]
    },
    {
     "data": {
      "text/latex": [
       "$\\displaystyle -0.824x_{1}^{4.0}+0.19x_{2}^{6.0}-0.016x_{3}^{3.0}-2.408$"
      ],
      "text/plain": [
       "<IPython.core.display.Math object>"
      ]
     },
     "metadata": {},
     "output_type": "display_data"
    },
    {
     "data": {
      "text/latex": [
       "$\\displaystyle \\left(-0.824x_1^{4.000} + 0.190x_2^{6.000}-0.016x_3^{2.999}-2.408\\right)$"
      ],
      "text/plain": [
       "<IPython.core.display.Math object>"
      ]
     },
     "metadata": {},
     "output_type": "display_data"
    },
    {
     "name": "stdout",
     "output_type": "stream",
     "text": [
      "MSE between formula parameters is 1.8221443969998474e-07\n",
      "EXACT RECOVERY\n",
      "\n",
      "################################################################################\n",
      "MSEs between parameters:\n",
      "[7.284223660660613, 2.8741054298413768e-09, 7.860626069213467, 5.787675101081342e-11, 1.8221443969998474e-07]\n",
      "For 3 formulas out of 5 the error is less than 1e-05.\n",
      "\n",
      "\n",
      "----------------------------Exploring new formula #1----------------------------\n",
      "  Initialization #1\n",
      "    Epoch 5000, current loss 0.163, current formula \\left(11.262x_1^{-0.022} + 1.216x_2^{3.285}-8.999x_3^{-0.008}-1.421\\right)\n",
      "    Epoch 10000, current loss 0.162, current formula \\left(12.917x_1^{-0.020} + 1.215x_2^{3.289}-10.613x_3^{-0.007}-1.464\\right)\n",
      "  Finished run #1, loss 0.16249462962150574, best loss 0.16249462962150574\n",
      "  Initialization #2\n",
      "    Epoch 5000, current loss 0.236, current formula \\left(15.443x_1^{-0.018}-15.474x_2^{-0.013} + 2.936x_3^{0.029}-1.582\\right)\n",
      "  Finished run #2, loss 0.23535940051078796, best loss 0.16249462962150574\n",
      "  Initialization #3\n",
      "    Epoch 5000, current loss 0.00216, current formula \\left(-1.751x_1^{3.555} + 1.236x_2^{3.960}-2.187x_3^{-0.028} + 3.705\\right)\n",
      "    Epoch 10000, current loss 0.00213, current formula \\left(-1.751x_1^{3.554} + 1.236x_2^{3.961}-2.704x_3^{-0.023} + 4.223\\right)\n",
      "  Finished run #3, loss 0.0021343270782381296, best loss 0.0021343270782381296\n",
      "  Initialization #4\n",
      "  Finished run #4, loss 6.4904882683680665e-12, best loss 6.4904882683680665e-12\n",
      "loss is smaller than 1e-05, terminating learning process\n",
      "1 minutes 58 seconds passed from the start, the iteration took 1 minutes 58 seconds\n",
      "ground truth and obtained formula\n"
     ]
    },
    {
     "data": {
      "text/latex": [
       "$\\displaystyle -1.74x_{1}^{3.5}+1.241x_{2}^{4.0}+0.261x_{3}^{1.5}+1.354$"
      ],
      "text/plain": [
       "<IPython.core.display.Math object>"
      ]
     },
     "metadata": {},
     "output_type": "display_data"
    },
    {
     "data": {
      "text/latex": [
       "$\\displaystyle \\left(-1.740x_1^{3.500} + 1.241x_2^{4.000} + 0.261x_3^{1.500} + 1.354\\right)$"
      ],
      "text/plain": [
       "<IPython.core.display.Math object>"
      ]
     },
     "metadata": {},
     "output_type": "display_data"
    },
    {
     "name": "stdout",
     "output_type": "stream",
     "text": [
      "MSE between formula parameters is 6.949803272553773e-10\n",
      "EXACT RECOVERY\n",
      "\n",
      "\n",
      "----------------------------Exploring new formula #2----------------------------\n",
      "  Initialization #1\n",
      "    Epoch 5000, current loss 0.00965, current formula \\left(0.499x_1^{1.055} + 1.336x_2^{0.060}-1.412x_3^{3.412}-0.180\\right)\n",
      "  Finished run #1, loss 1.4278899243547194e-11, best loss 1.4278899243547194e-11\n",
      "loss is smaller than 1e-05, terminating learning process\n",
      "2 minutes 31 seconds passed from the start, the iteration took 33 seconds\n",
      "ground truth and obtained formula\n"
     ]
    },
    {
     "data": {
      "text/latex": [
       "$\\displaystyle 0.517x_{1}^{1.0}+0.508x_{2}^{6.0}-1.412x_{3}^{3.5}+0.99$"
      ],
      "text/plain": [
       "<IPython.core.display.Math object>"
      ]
     },
     "metadata": {},
     "output_type": "display_data"
    },
    {
     "data": {
      "text/latex": [
       "$\\displaystyle \\left(0.517x_1^{1.000} + 0.508x_2^{6.000}-1.412x_3^{3.500} + 0.990\\right)$"
      ],
      "text/plain": [
       "<IPython.core.display.Math object>"
      ]
     },
     "metadata": {},
     "output_type": "display_data"
    },
    {
     "name": "stdout",
     "output_type": "stream",
     "text": [
      "MSE between formula parameters is 9.267395739698259e-10\n",
      "EXACT RECOVERY\n",
      "\n",
      "\n",
      "----------------------------Exploring new formula #3----------------------------\n",
      "  Initialization #1\n",
      "    Epoch 5000, current loss 0.00375, current formula \\left(1.700x_1^{2.516}-0.887x_2^{5.544}-2.721x_3^{-0.034} + 0.782\\right)\n",
      "    Epoch 10000, current loss 0.00366, current formula \\left(1.700x_1^{2.516}-0.887x_2^{5.541}-3.613x_3^{-0.027} + 1.676\\right)\n",
      "  Finished run #1, loss 0.003656453685835004, best loss 0.003656453685835004\n",
      "  Initialization #2\n",
      "    Epoch 5000, current loss 0.0324, current formula \\left(1.678x_1^{2.464} + 3.025x_2^{-0.040} + 0.392x_3^{1.044}-5.508\\right)\n",
      "    Epoch 10000, current loss 0.0322, current formula \\left(1.678x_1^{2.464} + 4.672x_2^{-0.027} + 0.393x_3^{1.038}-7.163\\right)\n",
      "  Finished run #2, loss 0.03215403109788895, best loss 0.003656453685835004\n",
      "  Initialization #3\n",
      "  Finished run #3, loss 8.47295237443868e-12, best loss 8.47295237443868e-12\n",
      "loss is smaller than 1e-05, terminating learning process\n",
      "3 minutes 56 seconds passed from the start, the iteration took 1 minutes 25 seconds\n",
      "ground truth and obtained formula\n"
     ]
    },
    {
     "data": {
      "text/latex": [
       "$\\displaystyle 1.7x_{1}^{2.5}-0.883x_{2}^{5.5}+0.407x_{3}^{1.0}-2.239$"
      ],
      "text/plain": [
       "<IPython.core.display.Math object>"
      ]
     },
     "metadata": {},
     "output_type": "display_data"
    },
    {
     "data": {
      "text/latex": [
       "$\\displaystyle \\left(1.700x_1^{2.500}-0.883x_2^{5.500} + 0.407x_3^{1.000}-2.239\\right)$"
      ],
      "text/plain": [
       "<IPython.core.display.Math object>"
      ]
     },
     "metadata": {},
     "output_type": "display_data"
    },
    {
     "name": "stdout",
     "output_type": "stream",
     "text": [
      "MSE between formula parameters is 7.519741020343775e-10\n",
      "EXACT RECOVERY\n",
      "\n",
      "\n",
      "----------------------------Exploring new formula #4----------------------------\n",
      "  Initialization #1\n",
      "    Epoch 5000, current loss 0.151, current formula \\left(0.670x_1^{-0.036} + 5.401x_2^{-0.045}-0.494x_3^{1.335}-6.219\\right)\n",
      "  Finished run #1, loss 0.15001773834228516, best loss 0.15001773834228516\n",
      "  Initialization #2\n",
      "  Finished run #2, loss 9.478900303561133e-12, best loss 9.478900303561133e-12\n",
      "loss is smaller than 1e-05, terminating learning process\n",
      "4 minutes 31 seconds passed from the start, the iteration took 36 seconds\n",
      "ground truth and obtained formula\n"
     ]
    },
    {
     "data": {
      "text/latex": [
       "$\\displaystyle -0.116x_{1}^{6.0}-1.843x_{2}^{3.5}-0.486x_{3}^{1.5}+0.504$"
      ],
      "text/plain": [
       "<IPython.core.display.Math object>"
      ]
     },
     "metadata": {},
     "output_type": "display_data"
    },
    {
     "data": {
      "text/latex": [
       "$\\displaystyle \\left(-0.116x_1^{5.999}-1.843x_2^{3.500}-0.486x_3^{1.500} + 0.504\\right)$"
      ],
      "text/plain": [
       "<IPython.core.display.Math object>"
      ]
     },
     "metadata": {},
     "output_type": "display_data"
    },
    {
     "name": "stdout",
     "output_type": "stream",
     "text": [
      "MSE between formula parameters is 9.702178610515588e-08\n",
      "EXACT RECOVERY\n",
      "\n",
      "\n",
      "----------------------------Exploring new formula #5----------------------------\n",
      "  Initialization #1\n",
      "  Finished run #1, loss 1.4012577209676635e-10, best loss 1.4012577209676635e-10\n",
      "loss is smaller than 1e-05, terminating learning process\n",
      "4 minutes 36 seconds passed from the start, the iteration took 4 seconds\n",
      "ground truth and obtained formula\n"
     ]
    },
    {
     "data": {
      "text/latex": [
       "$\\displaystyle 2.0x_{1}^{1.5}-0.82x_{2}^{6.0}-0.152x_{3}^{0.5}-0.71$"
      ],
      "text/plain": [
       "<IPython.core.display.Math object>"
      ]
     },
     "metadata": {},
     "output_type": "display_data"
    },
    {
     "data": {
      "text/latex": [
       "$\\displaystyle \\left(2.000x_1^{1.500}-0.820x_2^{6.000}-0.152x_3^{0.501}-0.710\\right)$"
      ],
      "text/plain": [
       "<IPython.core.display.Math object>"
      ]
     },
     "metadata": {},
     "output_type": "display_data"
    },
    {
     "name": "stdout",
     "output_type": "stream",
     "text": [
      "MSE between formula parameters is 6.027351532164208e-08\n",
      "EXACT RECOVERY\n",
      "\n",
      "################################################################################\n",
      "MSEs between parameters:\n",
      "[6.949803272553773e-10, 9.267395739698259e-10, 7.519741020343775e-10, 9.702178610515588e-08, 6.027351532164208e-08]\n",
      "For 5 formulas out of 5 the error is less than 1e-05.\n",
      "\n",
      "\n",
      "----------------------------Exploring new formula #1----------------------------\n",
      "  Initialization #1\n",
      "  Finished run #1, loss 0.0007867843960411847, best loss 0.0007867843960411847\n",
      "  Initialization #2\n",
      "  Finished run #2, loss 0.00010512123844819143, best loss 0.00010512123844819143\n",
      "  Initialization #3\n",
      "  Finished run #3, loss 0.0007041909266263247, best loss 0.00010512123844819143\n",
      "  Initialization #4\n",
      "  Finished run #4, loss 0.0001057800036505796, best loss 0.00010512123844819143\n",
      "20 seconds passed from the start, the iteration took 20 seconds\n",
      "ground truth and obtained formula\n"
     ]
    },
    {
     "data": {
      "text/latex": [
       "$\\displaystyle -0.054x_{1}^{6.0}+1.905x_{2}^{4.5}+0.266x_{3}^{0.667}-0.129$"
      ],
      "text/plain": [
       "<IPython.core.display.Math object>"
      ]
     },
     "metadata": {},
     "output_type": "display_data"
    },
    {
     "data": {
      "text/latex": [
       "$\\displaystyle \\left(-0.796x_1^{0.009} + 1.901x_2^{4.487} + 0.267x_3^{0.668} + 0.653\\right)$"
      ],
      "text/plain": [
       "<IPython.core.display.Math object>"
      ]
     },
     "metadata": {},
     "output_type": "display_data"
    },
    {
     "name": "stdout",
     "output_type": "stream",
     "text": [
      "MSE between formula parameters is 5.294024172230482\n",
      "FAILURE\n",
      "\n",
      "\n",
      "----------------------------Exploring new formula #2----------------------------\n",
      "  Initialization #1\n",
      "  Finished run #1, loss 0.006559659261256456, best loss 0.006559659261256456\n",
      "  Initialization #2\n",
      "    Epoch 5000, current loss 0.0222, current formula \\left(1.734x_1^{0.994} + 4.556x_2^{-0.050} + 0.421x_3^{5.221}-5.243\\right)\n",
      "    Epoch 10000, current loss 0.0212, current formula \\left(1.736x_1^{0.990} + 7.079x_2^{-0.034} + 0.422x_3^{5.222}-7.776\\right)\n",
      "  Finished run #2, loss 0.021222131326794624, best loss 0.006559659261256456\n",
      "  Initialization #3\n",
      "  Finished run #3, loss 1.1340981105611991e-11, best loss 1.1340981105611991e-11\n",
      "loss is smaller than 1e-05, terminating learning process\n",
      "1 minutes 10 seconds passed from the start, the iteration took 50 seconds\n",
      "ground truth and obtained formula\n"
     ]
    },
    {
     "data": {
      "text/latex": [
       "$\\displaystyle 1.731x_{1}^{1.0}-0.983x_{2}^{1.083}+0.425x_{3}^{5.583}+0.03$"
      ],
      "text/plain": [
       "<IPython.core.display.Math object>"
      ]
     },
     "metadata": {},
     "output_type": "display_data"
    },
    {
     "data": {
      "text/latex": [
       "$\\displaystyle \\left(1.731x_1^{1.000}-0.983x_2^{1.083} + 0.425x_3^{5.583} + 0.030\\right)$"
      ],
      "text/plain": [
       "<IPython.core.display.Math object>"
      ]
     },
     "metadata": {},
     "output_type": "display_data"
    },
    {
     "name": "stdout",
     "output_type": "stream",
     "text": [
      "MSE between formula parameters is 4.809579445521786e-09\n",
      "EXACT RECOVERY\n",
      "\n",
      "\n",
      "----------------------------Exploring new formula #3----------------------------\n",
      "  Initialization #1\n",
      "  Finished run #1, loss 4.2698968172771856e-05, best loss 4.2698968172771856e-05\n",
      "  Initialization #2\n",
      "  Finished run #2, loss 0.0001934144092956558, best loss 4.2698968172771856e-05\n",
      "  Initialization #3\n",
      "  Finished run #3, loss 0.00015097047435119748, best loss 4.2698968172771856e-05\n",
      "  Initialization #4\n",
      "  Finished run #4, loss 4.272081423550844e-05, best loss 4.2698968172771856e-05\n",
      "1 minutes 27 seconds passed from the start, the iteration took 18 seconds\n",
      "ground truth and obtained formula\n"
     ]
    },
    {
     "data": {
      "text/latex": [
       "$\\displaystyle 0.201x_{1}^{0.417}-0.031x_{2}^{3.5}+0.715x_{3}^{5.417}-0.014$"
      ],
      "text/plain": [
       "<IPython.core.display.Math object>"
      ]
     },
     "metadata": {},
     "output_type": "display_data"
    },
    {
     "data": {
      "text/latex": [
       "$\\displaystyle \\left(0.200x_1^{0.422}-0.553x_2^{0.011} + 0.716x_3^{5.401} + 0.527\\right)$"
      ],
      "text/plain": [
       "<IPython.core.display.Math object>"
      ]
     },
     "metadata": {},
     "output_type": "display_data"
    },
    {
     "name": "stdout",
     "output_type": "stream",
     "text": [
      "MSE between formula parameters is 1.8200460575808948\n",
      "FAILURE\n",
      "\n",
      "\n",
      "----------------------------Exploring new formula #4----------------------------\n",
      "  Initialization #1\n",
      "    Epoch 5000, current loss 0.456, current formula \\left(6.511x_1^{-0.057} + 1.870x_2^{-0.078} + 1.077x_3^{0.443}-9.670\\right)\n",
      "    Epoch 10000, current loss 0.451, current formula \\left(8.395x_1^{-0.046} + 2.547x_2^{-0.062} + 1.130x_3^{0.407}-12.307\\right)\n",
      "  Finished run #1, loss 0.45144394040107727, best loss 0.45144394040107727\n",
      "  Initialization #2\n",
      "    Epoch 5000, current loss 0.456, current formula \\left(6.565x_1^{-0.056} + 1.909x_2^{-0.077} + 1.076x_3^{0.444}-9.761\\right)\n",
      "    Epoch 10000, current loss 0.451, current formula \\left(8.740x_1^{-0.044} + 2.636x_2^{-0.060} + 1.131x_3^{0.406}-12.744\\right)\n",
      "  Finished run #2, loss 0.450878769159317, best loss 0.450878769159317\n",
      "  Initialization #3\n",
      "  Finished run #3, loss 5.947567115072161e-05, best loss 5.947567115072161e-05\n",
      "  Initialization #4\n",
      "    Epoch 5000, current loss 0.0432, current formula \\left(-2.887x_1^{4.898} + 3.209x_2^{-0.053} + 1.505x_3^{0.244}-4.078\\right)\n",
      "    Epoch 10000, current loss 0.0423, current formula \\left(-2.886x_1^{4.890} + 4.482x_2^{-0.040} + 1.601x_3^{0.223}-5.455\\right)\n",
      "  Finished run #4, loss 0.04234626889228821, best loss 5.947567115072161e-05\n",
      "3 minutes 43 seconds passed from the start, the iteration took 2 minutes 16 seconds\n",
      "ground truth and obtained formula\n"
     ]
    },
    {
     "data": {
      "text/latex": [
       "$\\displaystyle -2.852x_{1}^{4.917}-0.975x_{2}^{2.167}+1.529x_{3}^{0.25}-0.395$"
      ],
      "text/plain": [
       "<IPython.core.display.Math object>"
      ]
     },
     "metadata": {},
     "output_type": "display_data"
    },
    {
     "data": {
      "text/latex": [
       "$\\displaystyle \\left(-2.852x_1^{4.914}-0.974x_2^{2.157} + 1.779x_3^{0.201}-0.652\\right)$"
      ],
      "text/plain": [
       "<IPython.core.display.Math object>"
      ]
     },
     "metadata": {},
     "output_type": "display_data"
    },
    {
     "name": "stdout",
     "output_type": "stream",
     "text": [
      "MSE between formula parameters is 0.018735735447031825\n",
      "FAILURE\n",
      "\n",
      "\n",
      "----------------------------Exploring new formula #5----------------------------\n",
      "  Initialization #1\n",
      "  Finished run #1, loss 0.0013138848589733243, best loss 0.0013138848589733243\n",
      "  Initialization #2\n",
      "  Finished run #2, loss 0.0011716000735759735, best loss 0.0011716000735759735\n",
      "  Initialization #3\n",
      "  Finished run #3, loss 1.6621925169602036e-07, best loss 1.6621925169602036e-07\n",
      "loss is smaller than 1e-05, terminating learning process\n",
      "3 minutes 59 seconds passed from the start, the iteration took 16 seconds\n",
      "ground truth and obtained formula\n"
     ]
    },
    {
     "data": {
      "text/latex": [
       "$\\displaystyle -1.198x_{1}^{2.833}-0.086x_{2}^{0.083}+0.224x_{3}^{1.083}-2.165$"
      ],
      "text/plain": [
       "<IPython.core.display.Math object>"
      ]
     },
     "metadata": {},
     "output_type": "display_data"
    },
    {
     "data": {
      "text/latex": [
       "$\\displaystyle \\left(-1.197x_1^{2.833}-1.394x_2^{0.004} + 0.224x_3^{1.085}-0.857\\right)$"
      ],
      "text/plain": [
       "<IPython.core.display.Math object>"
      ]
     },
     "metadata": {},
     "output_type": "display_data"
    },
    {
     "name": "stdout",
     "output_type": "stream",
     "text": [
      "MSE between formula parameters is 0.489618906714437\n",
      "FAILURE\n",
      "\n",
      "################################################################################\n",
      "MSEs between parameters:\n",
      "[5.294024172230482, 4.809579445521786e-09, 1.8200460575808948, 0.018735735447031825, 0.489618906714437]\n",
      "For 1 formulas out of 5 the error is less than 1e-05.\n",
      "\n",
      "\n",
      "----------------------------Exploring new formula #1----------------------------\n",
      "  Initialization #1\n",
      "    Epoch 5000, current loss 0.303, current formula \\left(1.419x_1^{1.237} + 1.314x_2^{0.010} + 17.299x_3^{-0.023}-17.286x_4^{-0.010} + 0.326\\right)\n",
      "    Epoch 10000, current loss 0.301, current formula \\left(1.420x_1^{1.236} + 1.299x_2^{0.010} + 22.993x_3^{-0.018}-22.956x_4^{-0.008} + 0.313\\right)\n",
      "  Finished run #1, loss 0.3013624846935272, best loss 0.3013624846935272\n",
      "  Initialization #2\n",
      "    Epoch 5000, current loss 0.199, current formula \\left(1.407x_1^{1.098} + 0.070x_2^{2.570} + 8.998x_3^{-0.042} + 1.617x_4^{5.494}-7.819\\right)\n",
      "    Epoch 10000, current loss 0.196, current formula \\left(1.410x_1^{1.092} + 0.069x_2^{2.535} + 14.039x_3^{-0.028} + 1.617x_4^{5.502}-12.875\\right)\n",
      "  Finished run #2, loss 0.19641263782978058, best loss 0.19641263782978058\n",
      "  Initialization #3\n",
      "    Epoch 5000, current loss 0.198, current formula \\left(1.414x_1^{1.086}-3.322x_2^{-0.005} + 10.918x_3^{-0.036} + 1.621x_4^{5.505}-6.394\\right)\n",
      "    Epoch 10000, current loss 0.196, current formula \\left(1.414x_1^{1.084}-3.404x_2^{-0.005} + 14.134x_3^{-0.028} + 1.621x_4^{5.507}-9.535\\right)\n",
      "  Finished run #3, loss 0.19647006690502167, best loss 0.19641263782978058\n",
      "  Initialization #4\n",
      "  Finished run #4, loss 2.4426793970633298e-05, best loss 2.4426793970633298e-05\n",
      "2 minutes 54 seconds passed from the start, the iteration took 2 minutes 54 seconds\n",
      "ground truth and obtained formula\n"
     ]
    },
    {
     "data": {
      "text/latex": [
       "$\\displaystyle 1.458x_{1}^{1.0}+0.025x_{2}^{6.0}-2.101x_{3}^{3.0}+1.508x_{4}^{5.0}+2.058$"
      ],
      "text/plain": [
       "<IPython.core.display.Math object>"
      ]
     },
     "metadata": {},
     "output_type": "display_data"
    },
    {
     "data": {
      "text/latex": [
       "$\\displaystyle \\left(1.459x_1^{0.999}-0.956x_2^{-0.003}-2.101x_3^{3.000} + 1.510x_4^{5.000} + 3.019\\right)$"
      ],
      "text/plain": [
       "<IPython.core.display.Math object>"
      ]
     },
     "metadata": {},
     "output_type": "display_data"
    },
    {
     "name": "stdout",
     "output_type": "stream",
     "text": [
      "MSE between formula parameters is 4.213307420358695\n",
      "FAILURE\n",
      "\n",
      "\n",
      "----------------------------Exploring new formula #2----------------------------\n",
      "  Initialization #1\n",
      "    Epoch 5000, current loss 0.0823, current formula \\left(-0.841x_1^{4.317} + 0.286x_2^{-0.034} + 0.775x_3^{1.251}-4.474x_4^{-0.037} + 3.254\\right)\n",
      "  Finished run #1, loss 0.08215327560901642, best loss 0.08215327560901642\n",
      "  Initialization #2\n",
      "  Finished run #2, loss 0.01826668716967106, best loss 0.01826668716967106\n",
      "  Initialization #3\n",
      "    Epoch 5000, current loss 0.0818, current formula \\left(-0.837x_1^{4.303}-0.108x_2^{4.175} + 0.775x_3^{1.242}-3.877x_4^{-0.042} + 2.972\\right)\n",
      "    Epoch 10000, current loss 0.0811, current formula \\left(-0.837x_1^{4.301}-0.108x_2^{4.090} + 0.773x_3^{1.247}-6.126x_4^{-0.028} + 5.228\\right)\n",
      "  Finished run #3, loss 0.08105306327342987, best loss 0.01826668716967106\n",
      "  Initialization #4\n",
      "    Epoch 5000, current loss 0.0156, current formula \\left(-0.814x_1^{3.936}-0.186x_2^{4.094}-3.805x_3^{-0.044} + 1.405x_4^{5.042} + 3.054\\right)\n",
      "    Epoch 10000, current loss 0.015, current formula \\left(-0.813x_1^{3.920}-0.186x_2^{4.025}-5.765x_3^{-0.030} + 1.405x_4^{5.045} + 5.021\\right)\n",
      "  Finished run #4, loss 0.015007313340902328, best loss 0.015007313340902328\n",
      "6 minutes 30 seconds passed from the start, the iteration took 3 minutes 36 seconds\n",
      "ground truth and obtained formula\n"
     ]
    },
    {
     "data": {
      "text/latex": [
       "$\\displaystyle -0.81x_{1}^{4.0}-0.177x_{2}^{4.0}+0.789x_{3}^{1.0}+1.378x_{4}^{5.0}-1.322$"
      ],
      "text/plain": [
       "<IPython.core.display.Math object>"
      ]
     },
     "metadata": {},
     "output_type": "display_data"
    },
    {
     "data": {
      "text/latex": [
       "$\\displaystyle \\left(-0.813x_1^{3.920}-0.186x_2^{4.025}-5.765x_3^{-0.030} + 1.405x_4^{5.045} + 5.021\\right)$"
      ],
      "text/plain": [
       "<IPython.core.display.Math object>"
      ]
     },
     "metadata": {},
     "output_type": "display_data"
    },
    {
     "name": "stdout",
     "output_type": "stream",
     "text": [
      "MSE between formula parameters is 9.363136214211472\n",
      "FAILURE\n",
      "\n",
      "\n",
      "----------------------------Exploring new formula #3----------------------------\n",
      "  Initialization #1\n",
      "    Epoch 5000, current loss 0.0289, current formula \\left(3.001x_1^{1.972}-2.590x_2^{-0.037}-1.033x_3^{1.975} + 1.012x_4^{5.243} + 3.139\\right)\n",
      "    Epoch 10000, current loss 0.0286, current formula \\left(3.001x_1^{1.972}-4.500x_2^{-0.022}-1.033x_3^{1.976} + 1.013x_4^{5.243} + 5.055\\right)\n",
      "  Finished run #1, loss 0.028631271794438362, best loss 0.028631271794438362\n",
      "  Initialization #2\n",
      "    Epoch 5000, current loss 0.438, current formula \\left(-11.093x_1^{-0.050} + 0.768x_2^{3.897}-1.044x_3^{2.230}-0.959x_4^{-0.085} + 14.178\\right)\n",
      "    Epoch 10000, current loss 0.43, current formula \\left(-14.565x_1^{-0.039} + 0.768x_2^{3.909}-1.040x_3^{2.211}-1.323x_4^{-0.068} + 18.038\\right)\n",
      "  Finished run #2, loss 0.4304814040660858, best loss 0.028631271794438362\n",
      "  Initialization #3\n",
      "  Finished run #3, loss 1.9384923354015537e-12, best loss 1.9384923354015537e-12\n",
      "loss is smaller than 1e-05, terminating learning process\n",
      "8 minutes 3 seconds passed from the start, the iteration took 1 minutes 33 seconds\n",
      "ground truth and obtained formula\n"
     ]
    },
    {
     "data": {
      "text/latex": [
       "$\\displaystyle 2.985x_{1}^{2.0}+0.82x_{2}^{5.0}-1.015x_{3}^{2.0}+1.018x_{4}^{5.0}+0.317$"
      ],
      "text/plain": [
       "<IPython.core.display.Math object>"
      ]
     },
     "metadata": {},
     "output_type": "display_data"
    },
    {
     "data": {
      "text/latex": [
       "$\\displaystyle \\left(2.985x_1^{2.000} + 0.820x_2^{5.000}-1.015x_3^{2.000} + 1.018x_4^{5.000} + 0.317\\right)$"
      ],
      "text/plain": [
       "<IPython.core.display.Math object>"
      ]
     },
     "metadata": {},
     "output_type": "display_data"
    },
    {
     "name": "stdout",
     "output_type": "stream",
     "text": [
      "MSE between formula parameters is 1.262710430043828e-10\n",
      "EXACT RECOVERY\n",
      "\n",
      "\n",
      "----------------------------Exploring new formula #4----------------------------\n",
      "  Initialization #1\n",
      "    Epoch 5000, current loss 0.063, current formula \\left(-2.632x_1^{-0.014} + 1.098x_2^{-0.018}-2.420x_3^{3.048}-6.648x_4^{-0.019} + 8.488\\right)\n",
      "    Epoch 10000, current loss 0.0627, current formula \\left(-2.621x_1^{-0.014} + 1.101x_2^{-0.018}-2.419x_3^{3.049}-9.862x_4^{-0.013} + 11.690\\right)\n",
      "  Finished run #1, loss 0.06274164468050003, best loss 0.06274164468050003\n",
      "  Initialization #2\n",
      "  Finished run #2, loss 5.272420087326646e-12, best loss 5.272420087326646e-12\n",
      "loss is smaller than 1e-05, terminating learning process\n",
      "8 minutes 49 seconds passed from the start, the iteration took 46 seconds\n",
      "ground truth and obtained formula\n"
     ]
    },
    {
     "data": {
      "text/latex": [
       "$\\displaystyle 0.16x_{1}^{4.0}-0.132x_{2}^{6.0}-2.395x_{3}^{3.0}+1.199x_{4}^{6.0}-0.025$"
      ],
      "text/plain": [
       "<IPython.core.display.Math object>"
      ]
     },
     "metadata": {},
     "output_type": "display_data"
    },
    {
     "data": {
      "text/latex": [
       "$\\displaystyle \\left(0.160x_1^{4.000}-0.132x_2^{6.000}-2.395x_3^{3.000} + 1.199x_4^{6.000}-0.025\\right)$"
      ],
      "text/plain": [
       "<IPython.core.display.Math object>"
      ]
     },
     "metadata": {},
     "output_type": "display_data"
    },
    {
     "name": "stdout",
     "output_type": "stream",
     "text": [
      "MSE between formula parameters is 3.529787864621338e-08\n",
      "EXACT RECOVERY\n",
      "\n",
      "\n",
      "----------------------------Exploring new formula #5----------------------------\n",
      "  Initialization #1\n",
      "  Finished run #1, loss 0.0009949271334335208, best loss 0.0009949271334335208\n",
      "  Initialization #2\n",
      "  Finished run #2, loss 0.0010267916368320584, best loss 0.0009949271334335208\n",
      "  Initialization #3\n",
      "  Finished run #3, loss 4.683851397013772e-12, best loss 4.683851397013772e-12\n",
      "loss is smaller than 1e-05, terminating learning process\n",
      "9 minutes 20 seconds passed from the start, the iteration took 31 seconds\n",
      "ground truth and obtained formula\n"
     ]
    },
    {
     "data": {
      "text/latex": [
       "$\\displaystyle -1.088x_{1}^{5.0}-0.657x_{2}^{1.0}+1.108x_{3}^{6.0}-0.15x_{4}^{5.0}-0.77$"
      ],
      "text/plain": [
       "<IPython.core.display.Math object>"
      ]
     },
     "metadata": {},
     "output_type": "display_data"
    },
    {
     "data": {
      "text/latex": [
       "$\\displaystyle \\left(-1.088x_1^{5.000}-0.657x_2^{1.000} + 1.108x_3^{6.000}-0.150x_4^{5.000}-0.770\\right)$"
      ],
      "text/plain": [
       "<IPython.core.display.Math object>"
      ]
     },
     "metadata": {},
     "output_type": "display_data"
    },
    {
     "name": "stdout",
     "output_type": "stream",
     "text": [
      "MSE between formula parameters is 9.523435571010294e-09\n",
      "EXACT RECOVERY\n",
      "\n",
      "################################################################################\n",
      "MSEs between parameters:\n",
      "[4.213307420358695, 9.363136214211472, 1.262710430043828e-10, 3.529787864621338e-08, 9.523435571010294e-09]\n",
      "For 3 formulas out of 5 the error is less than 1e-05.\n",
      "\n",
      "\n",
      "----------------------------Exploring new formula #1----------------------------\n",
      "  Initialization #1\n",
      "  Finished run #1, loss 0.011352215893566608, best loss 0.011352215893566608\n",
      "  Initialization #2\n",
      "    Epoch 5000, current loss 0.00213, current formula \\left(-1.189x_1^{-0.026} + 0.973x_2^{0.508}-0.210x_3^{5.569}-0.329x_4^{0.124} + 1.103\\right)\n",
      "  Finished run #2, loss 0.0006267574499361217, best loss 0.0006267574499361217\n",
      "  Initialization #3\n",
      "  Finished run #3, loss 0.003621661802753806, best loss 0.0006267574499361217\n",
      "  Initialization #4\n",
      "  Finished run #4, loss 0.0017877682112157345, best loss 0.0006267574499361217\n",
      "48 seconds passed from the start, the iteration took 48 seconds\n",
      "ground truth and obtained formula\n"
     ]
    },
    {
     "data": {
      "text/latex": [
       "$\\displaystyle 0.128x_{1}^{2.0}+0.988x_{2}^{0.5}-0.205x_{3}^{6.0}-0.194x_{4}^{5.0}-0.437$"
      ],
      "text/plain": [
       "<IPython.core.display.Math object>"
      ]
     },
     "metadata": {},
     "output_type": "display_data"
    },
    {
     "data": {
      "text/latex": [
       "$\\displaystyle \\left(-1.465x_1^{-0.021} + 0.984x_2^{0.503}-0.204x_3^{6.028}-0.196x_4^{5.293} + 1.104\\right)$"
      ],
      "text/plain": [
       "<IPython.core.display.Math object>"
      ]
     },
     "metadata": {},
     "output_type": "display_data"
    },
    {
     "name": "stdout",
     "output_type": "stream",
     "text": [
      "MSE between formula parameters is 1.0092570517027788\n",
      "FAILURE\n",
      "\n",
      "\n",
      "----------------------------Exploring new formula #2----------------------------\n",
      "  Initialization #1\n",
      "    Epoch 5000, current loss 0.148, current formula \\left(-13.512x_1^{-0.028}-1.568x_2^{1.439} + 13.479x_3^{-0.010} + 4.418x_4^{0.025}-3.409\\right)\n",
      "    Epoch 10000, current loss 0.147, current formula \\left(-19.639x_1^{-0.020}-1.568x_2^{1.440} + 19.587x_3^{-0.007} + 4.417x_4^{0.025}-3.384\\right)\n",
      "  Finished run #1, loss 0.14662125706672668, best loss 0.14662125706672668\n",
      "  Initialization #2\n",
      "    Epoch 5000, current loss 0.103, current formula \\left(1.632x_1^{1.381} + 8.296x_2^{-0.036}-1.117x_3^{4.903} + 0.686x_4^{4.496}-9.281\\right)\n",
      "    Epoch 10000, current loss 0.1, current formula \\left(1.632x_1^{1.379} + 12.978x_2^{-0.024}-1.121x_3^{4.930} + 0.686x_4^{4.474}-13.978\\right)\n",
      "  Finished run #2, loss 0.10024882107973099, best loss 0.10024882107973099\n",
      "  Initialization #3\n",
      "    Epoch 5000, current loss 0.0499, current formula \\left(1.632x_1^{1.561}-1.581x_2^{1.536} + 3.369x_3^{-0.037} + 0.704x_4^{5.477}-3.647\\right)\n",
      "    Epoch 10000, current loss 0.0494, current formula \\left(1.633x_1^{1.559}-1.581x_2^{1.538} + 5.314x_3^{-0.025} + 0.704x_4^{5.463}-5.599\\right)\n",
      "  Finished run #3, loss 0.049419060349464417, best loss 0.049419060349464417\n",
      "  Initialization #4\n",
      "  Finished run #4, loss 0.13412368297576904, best loss 0.049419060349464417\n",
      "3 minutes 12 seconds passed from the start, the iteration took 2 minutes 24 seconds\n",
      "ground truth and obtained formula\n"
     ]
    },
    {
     "data": {
      "text/latex": [
       "$\\displaystyle 1.618x_{1}^{1.5}-1.606x_{2}^{1.5}-1.111x_{3}^{4.5}+0.674x_{4}^{4.5}+0.034$"
      ],
      "text/plain": [
       "<IPython.core.display.Math object>"
      ]
     },
     "metadata": {},
     "output_type": "display_data"
    },
    {
     "data": {
      "text/latex": [
       "$\\displaystyle \\left(1.633x_1^{1.559}-1.581x_2^{1.538} + 5.314x_3^{-0.025} + 0.704x_4^{5.463}-5.599\\right)$"
      ],
      "text/plain": [
       "<IPython.core.display.Math object>"
      ]
     },
     "metadata": {},
     "output_type": "display_data"
    },
    {
     "name": "stdout",
     "output_type": "stream",
     "text": [
      "MSE between formula parameters is 10.491184355952758\n",
      "FAILURE\n",
      "\n",
      "\n",
      "----------------------------Exploring new formula #3----------------------------\n",
      "  Initialization #1\n",
      "    Epoch 5000, current loss 0.188, current formula \\left(-0.146x_1^{3.287} + 5.842x_2^{-0.049} + 1.315x_3^{1.755}-0.661x_4^{1.104}-7.105\\right)\n",
      "  Finished run #1, loss 0.18713903427124023, best loss 0.18713903427124023\n",
      "  Initialization #2\n",
      "    Epoch 5000, current loss 0.0577, current formula \\left(-0.170x_1^{12.485}-2.039x_2^{3.091}-4.869x_3^{-0.053}-0.665x_4^{1.757} + 5.075\\right)\n",
      "  Finished run #2, loss 0.057617150247097015, best loss 0.057617150247097015\n",
      "  Initialization #3\n",
      "    Epoch 5000, current loss 0.0575, current formula \\left(2.473x_1^{-0.004}-2.039x_2^{3.081}-6.262x_3^{-0.042}-0.667x_4^{1.726} + 3.983\\right)\n",
      "  Finished run #3, loss 0.05688629299402237, best loss 0.05688629299402237\n",
      "  Initialization #4\n",
      "    Epoch 5000, current loss 0.0577, current formula \\left(2.311x_1^{-0.004}-2.039x_2^{3.081}-5.982x_3^{-0.044}-0.667x_4^{1.726} + 3.864\\right)\n",
      "    Epoch 10000, current loss 0.0567, current formula \\left(2.390x_1^{-0.004}-2.039x_2^{3.081}-7.815x_3^{-0.035}-0.668x_4^{1.722} + 5.624\\right)\n",
      "  Finished run #4, loss 0.05667022615671158, best loss 0.05667022615671158\n",
      "5 minutes 19 seconds passed from the start, the iteration took 2 minutes 7 seconds\n",
      "ground truth and obtained formula\n"
     ]
    },
    {
     "data": {
      "text/latex": [
       "$\\displaystyle -0.165x_{1}^{4.5}-2.0x_{2}^{3.0}+1.28x_{3}^{1.5}-0.687x_{4}^{1.5}-0.543$"
      ],
      "text/plain": [
       "<IPython.core.display.Math object>"
      ]
     },
     "metadata": {},
     "output_type": "display_data"
    },
    {
     "data": {
      "text/latex": [
       "$\\displaystyle \\left(2.390x_1^{-0.004}-2.039x_2^{3.081}-7.815x_3^{-0.035}-0.668x_4^{1.722} + 5.624\\right)$"
      ],
      "text/plain": [
       "<IPython.core.display.Math object>"
      ]
     },
     "metadata": {},
     "output_type": "display_data"
    },
    {
     "name": "stdout",
     "output_type": "stream",
     "text": [
      "MSE between formula parameters is 16.663888709911962\n",
      "FAILURE\n",
      "\n",
      "\n",
      "----------------------------Exploring new formula #4----------------------------\n",
      "  Initialization #1\n",
      "  Finished run #1, loss 0.0021674917079508305, best loss 0.0021674917079508305\n",
      "  Initialization #2\n",
      "    Epoch 5000, current loss 0.0091, current formula \\left(-0.624x_1^{0.005}-3.547x_2^{-0.013} + 1.280x_3^{1.470} + 4.363x_4^{-0.045}-1.396\\right)\n",
      "    Epoch 10000, current loss 0.0087, current formula \\left(-0.647x_1^{0.005}-5.481x_2^{-0.009} + 1.280x_3^{1.470} + 6.338x_4^{-0.032}-1.418\\right)\n",
      "  Finished run #2, loss 0.008703825995326042, best loss 0.0021674917079508305\n",
      "  Initialization #3\n",
      "  Finished run #3, loss 0.060112323611974716, best loss 0.0021674917079508305\n",
      "  Initialization #4\n",
      "    Epoch 5000, current loss 0.0585, current formula \\left(0.225x_1^{0.013} + 0.239x_2^{1.849}-4.960x_3^{-0.051}-0.943x_4^{0.495} + 5.008\\right)\n",
      "  Finished run #4, loss 0.05826294794678688, best loss 0.0021674917079508305\n",
      "6 minutes 44 seconds passed from the start, the iteration took 1 minutes 25 seconds\n",
      "ground truth and obtained formula\n"
     ]
    },
    {
     "data": {
      "text/latex": [
       "$\\displaystyle 0.003x_{1}^{1.0}+0.225x_{2}^{2.5}+1.275x_{3}^{1.5}-0.971x_{4}^{0.5}-0.458$"
      ],
      "text/plain": [
       "<IPython.core.display.Math object>"
      ]
     },
     "metadata": {},
     "output_type": "display_data"
    },
    {
     "data": {
      "text/latex": [
       "$\\displaystyle \\left(0.002x_1^{0.763}-2.583x_2^{-0.018} + 1.281x_3^{1.493}-0.957x_4^{0.523} + 2.213\\right)$"
      ],
      "text/plain": [
       "<IPython.core.display.Math object>"
      ]
     },
     "metadata": {},
     "output_type": "display_data"
    },
    {
     "name": "stdout",
     "output_type": "stream",
     "text": [
      "MSE between formula parameters is 2.379183509716312\n",
      "FAILURE\n",
      "\n",
      "\n",
      "----------------------------Exploring new formula #5----------------------------\n",
      "  Initialization #1\n",
      "    Epoch 5000, current loss 0.00648, current formula \\left(1.016x_1^{2.953} + 3.793x_2^{-0.044} + 1.116x_3^{3.546} + 0.076x_4^{1.647}-4.741\\right)\n",
      "    Epoch 10000, current loss 0.00609, current formula \\left(1.017x_1^{2.953} + 5.325x_2^{-0.033} + 1.116x_3^{3.547} + 0.076x_4^{1.576}-6.278\\right)\n",
      "  Finished run #1, loss 0.0060875737108290195, best loss 0.0060875737108290195\n",
      "  Initialization #2\n",
      "    Epoch 5000, current loss 0.057, current formula \\left(1.007x_1^{2.972}-0.786x_2^{0.595}-3.763x_3^{-0.043} + 0.042x_4^{1.901} + 3.906\\right)\n",
      "    Epoch 10000, current loss 0.056, current formula \\left(1.008x_1^{2.977}-0.792x_2^{0.585}-6.370x_3^{-0.027} + 0.042x_4^{1.927} + 6.528\\right)\n",
      "  Finished run #2, loss 0.056017689406871796, best loss 0.0060875737108290195\n",
      "  Initialization #3\n",
      "  Finished run #3, loss 0.04694350063800812, best loss 0.0060875737108290195\n",
      "  Initialization #4\n",
      "  Finished run #4, loss 0.00019030326802749187, best loss 0.00019030326802749187\n",
      "8 minutes 21 seconds passed from the start, the iteration took 1 minutes 37 seconds\n",
      "ground truth and obtained formula\n"
     ]
    },
    {
     "data": {
      "text/latex": [
       "$\\displaystyle 1.021x_{1}^{3.0}-0.872x_{2}^{0.5}+1.113x_{3}^{3.5}+0.069x_{4}^{2.0}-0.183$"
      ],
      "text/plain": [
       "<IPython.core.display.Math object>"
      ]
     },
     "metadata": {},
     "output_type": "display_data"
    },
    {
     "data": {
      "text/latex": [
       "$\\displaystyle \\left(1.021x_1^{3.000}-0.874x_2^{0.496} + 1.112x_3^{3.495} + 0.801x_4^{0.021}-0.941\\right)$"
      ],
      "text/plain": [
       "<IPython.core.display.Math object>"
      ]
     },
     "metadata": {},
     "output_type": "display_data"
    },
    {
     "name": "stdout",
     "output_type": "stream",
     "text": [
      "MSE between formula parameters is 0.5588497294654737\n",
      "FAILURE\n",
      "\n",
      "################################################################################\n",
      "MSEs between parameters:\n",
      "[1.0092570517027788, 10.491184355952758, 16.663888709911962, 2.379183509716312, 0.5588497294654737]\n",
      "For 0 formulas out of 5 the error is less than 1e-05.\n",
      "\n",
      "\n",
      "----------------------------Exploring new formula #1----------------------------\n",
      "  Initialization #1\n",
      "  Finished run #1, loss 0.11668173223733902, best loss 0.11668173223733902\n",
      "  Initialization #2\n",
      "    Epoch 5000, current loss 0.0375, current formula \\left(-0.216x_1^{4.476}-1.594x_2^{5.559} + 0.113x_3^{26.350} + 4.599x_4^{-0.041}-5.070\\right)\n",
      "    Epoch 10000, current loss 0.0366, current formula \\left(-0.215x_1^{4.440}-1.595x_2^{5.560} + 0.113x_3^{27.275} + 6.625x_4^{-0.030}-7.112\\right)\n",
      "  Finished run #2, loss 0.036643318831920624, best loss 0.036643318831920624\n",
      "  Initialization #3\n",
      "  Finished run #3, loss 0.038396988064050674, best loss 0.036643318831920624\n",
      "  Initialization #4\n",
      "  Finished run #4, loss 0.001982675399631262, best loss 0.001982675399631262\n",
      "1 minutes 7 seconds passed from the start, the iteration took 1 minutes 7 seconds\n",
      "ground truth and obtained formula\n"
     ]
    },
    {
     "data": {
      "text/latex": [
       "$\\displaystyle -0.196x_{1}^{3.417}-1.58x_{2}^{5.25}+0.056x_{3}^{4.917}-0.946x_{4}^{1.917}+0.051$"
      ],
      "text/plain": [
       "<IPython.core.display.Math object>"
      ]
     },
     "metadata": {},
     "output_type": "display_data"
    },
    {
     "data": {
      "text/latex": [
       "$\\displaystyle \\left(1.644x_1^{-0.021}-1.580x_2^{5.285}-1.673x_3^{-0.005}-0.953x_4^{1.924} + 0.018\\right)$"
      ],
      "text/plain": [
       "<IPython.core.display.Math object>"
      ]
     },
     "metadata": {},
     "output_type": "display_data"
    },
    {
     "name": "stdout",
     "output_type": "stream",
     "text": [
      "MSE between formula parameters is 4.71323496871114\n",
      "FAILURE\n",
      "\n",
      "\n",
      "----------------------------Exploring new formula #2----------------------------\n",
      "  Initialization #1\n",
      "  Finished run #1, loss 0.03747618570923805, best loss 0.03747618570923805\n",
      "  Initialization #2\n",
      "  Finished run #2, loss 0.01439367700368166, best loss 0.01439367700368166\n",
      "  Initialization #3\n",
      "    Epoch 5000, current loss 0.0138, current formula \\left(-0.875x_1^{2.928} + 4.154x_2^{-0.054} + 0.515x_3^{2.350} + 0.402x_4^{3.082}-3.205\\right)\n",
      "    Epoch 10000, current loss 0.0131, current formula \\left(-0.875x_1^{2.932} + 6.284x_2^{-0.038} + 0.516x_3^{2.341} + 0.403x_4^{3.078}-5.343\\right)\n",
      "  Finished run #3, loss 0.013074316084384918, best loss 0.013074316084384918\n",
      "  Initialization #4\n",
      "    Epoch 5000, current loss 0.0427, current formula \\left(2.707x_1^{-0.056}-1.052x_2^{0.623} + 0.530x_3^{2.582}-2.889x_4^{-0.026} + 1.827\\right)\n",
      "  Finished run #4, loss 0.042711641639471054, best loss 0.013074316084384918\n",
      "2 minutes 29 seconds passed from the start, the iteration took 1 minutes 22 seconds\n",
      "ground truth and obtained formula\n"
     ]
    },
    {
     "data": {
      "text/latex": [
       "$\\displaystyle -0.901x_{1}^{2.917}-1.013x_{2}^{0.75}+0.52x_{3}^{2.417}+0.429x_{4}^{3.333}+1.778$"
      ],
      "text/plain": [
       "<IPython.core.display.Math object>"
      ]
     },
     "metadata": {},
     "output_type": "display_data"
    },
    {
     "data": {
      "text/latex": [
       "$\\displaystyle \\left(-0.875x_1^{2.932} + 6.284x_2^{-0.038} + 0.516x_3^{2.341} + 0.403x_4^{3.078}-5.344\\right)$"
      ],
      "text/plain": [
       "<IPython.core.display.Math object>"
      ]
     },
     "metadata": {},
     "output_type": "display_data"
    },
    {
     "name": "stdout",
     "output_type": "stream",
     "text": [
      "MSE between formula parameters is 11.62731082991836\n",
      "FAILURE\n",
      "\n",
      "\n",
      "----------------------------Exploring new formula #3----------------------------\n",
      "  Initialization #1\n",
      "  Finished run #1, loss 2.7001970104301165e-10, best loss 2.7001970104301165e-10\n",
      "loss is smaller than 1e-05, terminating learning process\n",
      "2 minutes 35 seconds passed from the start, the iteration took 6 seconds\n",
      "ground truth and obtained formula\n"
     ]
    },
    {
     "data": {
      "text/latex": [
       "$\\displaystyle -1.202x_{1}^{0.417}-0.922x_{2}^{4.0}+0.614x_{3}^{1.917}+0.493x_{4}^{2.583}-0.196$"
      ],
      "text/plain": [
       "<IPython.core.display.Math object>"
      ]
     },
     "metadata": {},
     "output_type": "display_data"
    },
    {
     "data": {
      "text/latex": [
       "$\\displaystyle \\left(-1.202x_1^{0.417}-0.922x_2^{4.000} + 0.614x_3^{1.917} + 0.493x_4^{2.583}-0.196\\right)$"
      ],
      "text/plain": [
       "<IPython.core.display.Math object>"
      ]
     },
     "metadata": {},
     "output_type": "display_data"
    },
    {
     "name": "stdout",
     "output_type": "stream",
     "text": [
      "MSE between formula parameters is 9.928283306592789e-09\n",
      "EXACT RECOVERY\n",
      "\n",
      "\n",
      "----------------------------Exploring new formula #4----------------------------\n",
      "  Initialization #1\n",
      "  Finished run #1, loss 0.07169807702302933, best loss 0.07169807702302933\n",
      "  Initialization #2\n",
      "  Finished run #2, loss 0.010754821822047234, best loss 0.010754821822047234\n",
      "  Initialization #3\n",
      "  Finished run #3, loss 0.06234350800514221, best loss 0.010754821822047234\n",
      "  Initialization #4\n",
      "    Epoch 5000, current loss 0.0724, current formula \\left(-1.625x_1^{-0.047}-4.829x_2^{-0.042}-1.563x_3^{0.497}-0.487x_4^{2.191} + 5.161\\right)\n",
      "  Finished run #4, loss 0.0719979926943779, best loss 0.010754821822047234\n",
      "3 minutes 39 seconds passed from the start, the iteration took 1 minutes 4 seconds\n",
      "ground truth and obtained formula\n"
     ]
    },
    {
     "data": {
      "text/latex": [
       "$\\displaystyle 0.478x_{1}^{2.167}+1.172x_{2}^{3.0}-1.617x_{3}^{0.5}-0.516x_{4}^{2.167}-1.98$"
      ],
      "text/plain": [
       "<IPython.core.display.Math object>"
      ]
     },
     "metadata": {},
     "output_type": "display_data"
    },
    {
     "data": {
      "text/latex": [
       "$\\displaystyle \\left(-1.572x_1^{-0.051} + 1.166x_2^{2.990}-1.580x_3^{0.508}-0.528x_4^{2.363}-0.208\\right)$"
      ],
      "text/plain": [
       "<IPython.core.display.Math object>"
      ]
     },
     "metadata": {},
     "output_type": "display_data"
    },
    {
     "name": "stdout",
     "output_type": "stream",
     "text": [
      "MSE between formula parameters is 1.366857101712928\n",
      "FAILURE\n",
      "\n",
      "\n",
      "----------------------------Exploring new formula #5----------------------------\n",
      "  Initialization #1\n",
      "    Epoch 5000, current loss 0.0128, current formula \\left(-1.867x_1^{-0.038} + 1.894x_2^{3.394} + 1.056x_3^{3.951}-1.537x_4^{3.909} + 1.963\\right)\n",
      "    Epoch 10000, current loss 0.0127, current formula \\left(-2.895x_1^{-0.025} + 1.894x_2^{3.395} + 1.056x_3^{3.950}-1.538x_4^{3.910} + 2.991\\right)\n",
      "  Finished run #1, loss 0.012664072215557098, best loss 0.012664072215557098\n",
      "  Initialization #2\n",
      "    Epoch 5000, current loss 0.165, current formula \\left(-1.135x_1^{-0.058}-8.179x_2^{-0.034} + 1.081x_3^{4.459}-1.563x_4^{3.894} + 10.130\\right)\n",
      "    Epoch 10000, current loss 0.164, current formula \\left(-1.149x_1^{-0.058}-10.964x_2^{-0.026} + 1.081x_3^{4.467}-1.563x_4^{3.894} + 12.935\\right)\n",
      "  Finished run #2, loss 0.16391098499298096, best loss 0.012664072215557098\n",
      "  Initialization #3\n",
      "    Epoch 5000, current loss 0.122, current formula \\left(0.599x_1^{5.514} + 1.946x_2^{3.586} + 1.081x_3^{3.873} + 6.566x_4^{-0.031}-7.179\\right)\n",
      "    Epoch 10000, current loss 0.12, current formula \\left(0.599x_1^{5.516} + 1.947x_2^{3.584} + 1.081x_3^{3.864} + 10.764x_4^{-0.020}-11.388\\right)\n",
      "  Finished run #3, loss 0.1199827715754509, best loss 0.012664072215557098\n",
      "  Initialization #4\n",
      "    Epoch 5000, current loss 0.283, current formula \\left(0.581x_1^{5.608}-15.771x_2^{-0.018} + 1.102x_3^{4.328} + 16.608x_4^{-0.013}-0.693\\right)\n",
      "    Epoch 10000, current loss 0.28, current formula \\left(0.581x_1^{5.606}-21.294x_2^{-0.014} + 1.102x_3^{4.329} + 22.082x_4^{-0.010}-0.689\\right)\n",
      "  Finished run #4, loss 0.2797815799713135, best loss 0.012664072215557098\n",
      "6 minutes 48 seconds passed from the start, the iteration took 3 minutes 9 seconds\n",
      "ground truth and obtained formula\n"
     ]
    },
    {
     "data": {
      "text/latex": [
       "$\\displaystyle 0.539x_{1}^{5.0}+1.9x_{2}^{3.417}+1.061x_{3}^{4.083}-1.523x_{4}^{3.917}-0.064$"
      ],
      "text/plain": [
       "<IPython.core.display.Math object>"
      ]
     },
     "metadata": {},
     "output_type": "display_data"
    },
    {
     "data": {
      "text/latex": [
       "$\\displaystyle \\left(-2.895x_1^{-0.025} + 1.894x_2^{3.395} + 1.056x_3^{3.950}-1.538x_4^{3.910} + 2.991\\right)$"
      ],
      "text/plain": [
       "<IPython.core.display.Math object>"
      ]
     },
     "metadata": {},
     "output_type": "display_data"
    },
    {
     "name": "stdout",
     "output_type": "stream",
     "text": [
      "MSE between formula parameters is 5.1554894790799075\n",
      "FAILURE\n",
      "\n",
      "################################################################################\n",
      "MSEs between parameters:\n",
      "[4.71323496871114, 11.62731082991836, 9.928283306592789e-09, 1.366857101712928, 5.1554894790799075]\n",
      "For 1 formulas out of 5 the error is less than 1e-05.\n"
     ]
    }
   ],
   "source": [
    "for j in range(1):\n",
    "    results = {}\n",
    "    for m_samples in [10, 100, 1000]:\n",
    "        results[m_samples] = {}\n",
    "        for n_variables in range(2, 5):\n",
    "            results[m_samples][n_variables] = []\n",
    "            i = 0\n",
    "            for min_power, max_power, divide_powers_by in ((1, 6, 1),\n",
    "                                                           (1, 12, 2), (1, 72,\n",
    "                                                                        12)):\n",
    "                recoveries = explore.explore(n_variables=n_variables,\n",
    "                                             m_samples=m_samples,\n",
    "                                             number_of_tested_formulas=5,\n",
    "                                             min_power=min_power,\n",
    "                                             max_power=max_power,\n",
    "                                             divide_powers_by=divide_powers_by)\n",
    "                results[m_samples][n_variables].append(recoveries / 5)\n",
    "                i += 1\n",
    "\n",
    "    with open(\"results\" + str(j + 75) + \".pkl\", \"wb\") as fout:\n",
    "        pickle.dump(results, fout)"
   ]
  },
  {
   "cell_type": "code",
   "execution_count": 22,
   "metadata": {},
   "outputs": [
    {
     "name": "stdout",
     "output_type": "stream",
     "text": [
      "The experiments took 1 hour 3 minutes 31 seconds\n"
     ]
    }
   ],
   "source": [
    "times = np.array([(5, 42), (4, 34), (3, 43), (3, 26), (4, 47), (3, 46),\n",
    "                  (3, 27), (2, 7), (3, 12), (1, 33), (2, 44), (1, 50), (2, 50),\n",
    "                  (0, 58), (1, 44), (1, 25), (1, 12), (0, 8), (2, 45), (1, 58),\n",
    "                  (2, 16), (1, 55), (1, 12), (1, 38), (0, 48), (0, 46),\n",
    "                  (1, 5)])\n",
    "seconds = (times[:, 0].sum() * 60 + times[:, 1].sum())\n",
    "minutes, seconds = divmod(seconds, 60)\n",
    "hours, minutes = divmod(minutes, 60)\n",
    "print(\n",
    "    f\"The experiments took {hours} hour {minutes} minutes {seconds} seconds.\")"
   ]
  },
  {
   "cell_type": "code",
   "execution_count": 3,
   "metadata": {},
   "outputs": [
    {
     "data": {
      "text/plain": [
       "{10: {2: [0.2, 0.6, 0.4], 3: [0.2, 0.6, 0.0], 4: [0.0, 0.0, 0.2]},\n",
       " 100: {2: [1.0, 0.8, 0.8], 3: [0.6, 0.8, 0.4], 4: [0.6, 0.2, 0.6]},\n",
       " 1000: {2: [0.8, 0.6, 0.8], 3: [1.0, 0.6, 0.4], 4: [0.2, 0.2, 0.4]}}"
      ]
     },
     "execution_count": 3,
     "metadata": {},
     "output_type": "execute_result"
    }
   ],
   "source": [
    "results"
   ]
  },
  {
   "cell_type": "code",
   "execution_count": 73,
   "metadata": {},
   "outputs": [],
   "source": [
    "se = {}\n",
    "for m_samples in [10, 100, 1000]:\n",
    "    se[m_samples] = {}\n",
    "    for n_variables in range(2, 5):\n",
    "        a = np.array(results[m_samples][n_variables])\n",
    "        se[m_samples][n_variables] = np.sqrt(a * (1 - a) / 5)"
   ]
  },
  {
   "cell_type": "code",
   "execution_count": 58,
   "metadata": {},
   "outputs": [
    {
     "data": {
      "image/png": "[encoded data removed]",
      "text/plain": [
       "<Figure size 1080x720 with 1 Axes>"
      ]
     },
     "metadata": {
      "needs_background": "light"
     },
     "output_type": "display_data"
    }
   ],
   "source": [
    "barwidth = 1 / 6\n",
    "a = np.arange(-1, 2) / 4\n",
    "colors = {10: \"orange\", 100: \"cyan\", 1000: \"red\"}\n",
    "patches = []\n",
    "plt.figure(figsize=(15, 10))\n",
    "for n_variables in range(2, 5):\n",
    "    for m_samples in [1000, 100, 10]:\n",
    "        plt.bar(a + n_variables,\n",
    "                results[m_samples][n_variables],\n",
    "                width=1 / 4,\n",
    "                yerr=1.96 * se[m_samples][n_variables],\n",
    "                color=colors[m_samples],\n",
    "                edgecolor='black',\n",
    "                capsize=4,\n",
    "                alpha=0.5)\n",
    "    patches.append(\n",
    "        mpatches.Patch(color=colors[m_samples],\n",
    "                       label=str(m_samples) + \" samples\"))\n",
    "plt.xlabel('n variables')\n",
    "plt.ylabel('recovery rate')\n",
    "plt.xticks([2, 3, 4])\n",
    "plt.title(\n",
    "    \"NestedFormula experiments, 5 for each configuration, with 95% confidence intervals\"\n",
    ")\n",
    "plt.legend(handles=patches)\n",
    "plt.show()"
   ]
  },
  {
   "cell_type": "code",
   "execution_count": 93,
   "metadata": {},
   "outputs": [
    {
     "data": {
      "image/png": "[encoded data removed]",
      "text/plain": [
       "<Figure size 1080x1080 with 1 Axes>"
      ]
     },
     "metadata": {
      "needs_background": "light"
     },
     "output_type": "display_data"
    }
   ],
   "source": [
    "import matplotlib.pyplot as plt\n",
    "import numpy as np\n",
    "barwidth = 1 / 4\n",
    "a = np.arange(-1, 2) / 4\n",
    "colors = ['C0', 'C1', 'C2']\n",
    "ecolors = ['C3', 'C4', 'C5']\n",
    "# colors = [1, 2, 3]\n",
    "patches = []\n",
    "plt.figure(figsize=(15, 15))\n",
    "for i in range(3):\n",
    "    patches.append(\n",
    "        mpatches.Patch(color=colors[i], label=str(10**(i + 1)) + \" samples\"))\n",
    "# n_variables = 4\n",
    "# # for n_variables in range(2, 5):\n",
    "# for powers_\n",
    "# for m_samples in [1000, 100, 10]:\n",
    "#     plt.bar(a + n_variables, results[m_samples][n_variables], width=1/4, yerr=1.96 * se[m_samples][n_variables],\n",
    "#             color=colors[m_samples], edgecolor = 'black', capsize=4, alpha=0.5)\n",
    "\n",
    "for powers_type in range(3):\n",
    "    heights_a = [\n",
    "        pd.DataFrame(results).loc[:, 10][i][powers_type] for i in (2, 3, 4)\n",
    "    ]\n",
    "    heights_b = [\n",
    "        pd.DataFrame(results).loc[:, 100][i][powers_type] for i in (2, 3, 4)\n",
    "    ]\n",
    "    heights_c = [\n",
    "        pd.DataFrame(results).loc[:, 1000][i][powers_type] for i in (2, 3, 4)\n",
    "    ]\n",
    "\n",
    "    se_a = [pd.DataFrame(se).loc[:, 10][i][powers_type] for i in (2, 3, 4)]\n",
    "    se_b = [pd.DataFrame(se).loc[:, 100][i][powers_type] for i in (2, 3, 4)]\n",
    "    se_c = [pd.DataFrame(se).loc[:, 1000][i][powers_type] for i in (2, 3, 4)]\n",
    "\n",
    "    position = np.arange(2, 5) + (powers_type - 1) / 4\n",
    "\n",
    "    for x, ha, hb, hc, sea, seb, sec in zip(position, heights_a, heights_b,\n",
    "                                            heights_c, se_a, se_b, se_c):\n",
    "        for i, (h, serr, c, ec) in enumerate(\n",
    "                sorted(zip([ha, hb, hc], [sea, seb, sec], colors, ecolors))):\n",
    "            plt.bar(x,\n",
    "                    h,\n",
    "                    color=c,\n",
    "                    zorder=-i,\n",
    "                    width=barwidth,\n",
    "                    edgecolor='black')\n",
    "\n",
    "plt.xlabel('n variables')\n",
    "plt.ylabel('recovery rate')\n",
    "# plt.xticks([2 - 0.25, 2, 2 + 0.25,\n",
    "#            3 - 0.25, 3, 3 + 0.25,\n",
    "#            4 - 0.25, 4, 4 + 0.25],\n",
    "#            [\"integer powers\", \"half-integer\\n powers\\n2\", \"powers with \\ndenominator 12\",\n",
    "#            \"integer powers\", \"half-integer\\n powers\\n3\", \"powers with \\ndenominator 12\"\n",
    "#            \"integer powers\", \"half-integer\\n powers\\n4\", \"powers with \\ndenominator 12\"])\n",
    "plt.yticks(np.linspace(0, 1, 11))\n",
    "plt.grid()\n",
    "plt.title(\"NestedFormula experiments, 5 for each configuration\")\n",
    "plt.legend(handles=patches)\n",
    "plt.show()"
   ]
  },
  {
   "cell_type": "code",
   "execution_count": 94,
   "metadata": {},
   "outputs": [
    {
     "data": {
      "image/png": "[encoded data removed]",
      "text/plain": [
       "<Figure size 1080x1080 with 1 Axes>"
      ]
     },
     "metadata": {
      "needs_background": "light"
     },
     "output_type": "display_data"
    }
   ],
   "source": [
    "import matplotlib.pyplot as plt\n",
    "import numpy as np\n",
    "barwidth = 1 / 4\n",
    "a = np.arange(-1, 2) / 4\n",
    "colors = ['C0', 'C1', 'C2']\n",
    "ecolors = ['C3', 'C4', 'C5']\n",
    "# colors = [1, 2, 3]\n",
    "patches = []\n",
    "plt.figure(figsize=(15, 15))\n",
    "for i in range(3):\n",
    "    patches.append(\n",
    "        mpatches.Patch(color=colors[i], label=str(10**(i + 1)) + \" samples\"))\n",
    "    patches.append(\n",
    "        mpatches.Patch(color=ecolors[i],\n",
    "                       label=str(10**(i + 1)) +\n",
    "                       \" samples 95% confidence interval\"))\n",
    "# n_variables = 4\n",
    "# # for n_variables in range(2, 5):\n",
    "# for powers_\n",
    "# for m_samples in [1000, 100, 10]:\n",
    "#     plt.bar(a + n_variables, results[m_samples][n_variables], width=1/4, yerr=1.96 * se[m_samples][n_variables],\n",
    "#             color=colors[m_samples], edgecolor = 'black', capsize=4, alpha=0.5)\n",
    "\n",
    "for powers_type in range(3):\n",
    "    heights_a = [\n",
    "        pd.DataFrame(results).loc[:, 10][i][powers_type] for i in (2, 3, 4)\n",
    "    ]\n",
    "    heights_b = [\n",
    "        pd.DataFrame(results).loc[:, 100][i][powers_type] for i in (2, 3, 4)\n",
    "    ]\n",
    "    heights_c = [\n",
    "        pd.DataFrame(results).loc[:, 1000][i][powers_type] for i in (2, 3, 4)\n",
    "    ]\n",
    "\n",
    "    se_a = [pd.DataFrame(se).loc[:, 10][i][powers_type] for i in (2, 3, 4)]\n",
    "    se_b = [pd.DataFrame(se).loc[:, 100][i][powers_type] for i in (2, 3, 4)]\n",
    "    se_c = [pd.DataFrame(se).loc[:, 1000][i][powers_type] for i in (2, 3, 4)]\n",
    "\n",
    "    position = np.arange(2, 5) + (powers_type - 1) / 4\n",
    "\n",
    "    for x, ha, hb, hc, sea, seb, sec in zip(position, heights_a, heights_b,\n",
    "                                            heights_c, se_a, se_b, se_c):\n",
    "        for i, (h, serr, c, ec) in enumerate(\n",
    "                sorted(zip([ha, hb, hc], [sea, seb, sec], colors, ecolors))):\n",
    "            plt.bar(x,\n",
    "                    h,\n",
    "                    yerr=1.96 * serr,\n",
    "                    capsize=4,\n",
    "                    color=c,\n",
    "                    ecolor=ec,\n",
    "                    zorder=-i,\n",
    "                    width=barwidth,\n",
    "                    edgecolor='black')\n",
    "\n",
    "plt.xlabel('n variables')\n",
    "plt.ylabel('recovery rate')\n",
    "plt.xticks([2, 3, 4])\n",
    "plt.yticks(np.linspace(0, 1, 11))\n",
    "plt.grid()\n",
    "plt.title(\n",
    "    \"NestedFormula experiments, 5 for each configuration, with 95% confidence intervals\"\n",
    ")\n",
    "plt.legend(handles=patches)\n",
    "plt.show()"
   ]
  }
 ],
 "metadata": {
  "accelerator": "GPU",
  "colab": {
   "name": "demonstration.ipynb",
   "provenance": []
  },
  "kernelspec": {
   "display_name": "Python 3",
   "language": "python",
   "name": "python3"
  },
  "language_info": {
   "codemirror_mode": {
    "name": "ipython",
    "version": 3
   },
   "file_extension": ".py",
   "mimetype": "text/x-python",
   "name": "python",
   "nbconvert_exporter": "python",
   "pygments_lexer": "ipython3",
   "version": "3.6.9"
  },
  "toc": {
   "base_numbering": 1,
   "nav_menu": {},
   "number_sections": true,
   "sideBar": true,
   "skip_h1_title": false,
   "title_cell": "Table of Contents",
   "title_sidebar": "Contents",
   "toc_cell": false,
   "toc_position": {},
   "toc_section_display": true,
   "toc_window_display": false
  },
  "varInspector": {
   "cols": {
    "lenName": 16,
    "lenType": 16,
    "lenVar": 40
   },
   "kernels_config": {
    "python": {
     "delete_cmd_postfix": "",
     "delete_cmd_prefix": "del ",
     "library": "var_list.py",
     "varRefreshCmd": "print(var_dic_list())"
    },
    "r": {
     "delete_cmd_postfix": ") ",
     "delete_cmd_prefix": "rm(",
     "library": "var_list.r",
     "varRefreshCmd": "cat(var_dic_list()) "
    }
   },
   "types_to_exclude": [
    "module",
    "function",
    "builtin_function_or_method",
    "instance",
    "_Feature"
   ],
   "window_display": false
  }
 },
 "nbformat": 4,
 "nbformat_minor": 1
}
