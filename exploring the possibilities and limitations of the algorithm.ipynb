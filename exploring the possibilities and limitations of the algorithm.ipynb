{
 "cells": [
  {
   "cell_type": "markdown",
   "metadata": {},
   "source": [
    "In this notebook we explore how well the algorithm is capable of recovering the following dependencies:\n",
    "- Linear combination of 3 variables and bias with standard-normally distributed coefficients\n",
    "  \n",
    "  We can see that in 6 cases out of 10 the formulas are recovered exactly, while in other 5 cases there is a strong similarity (the degree of one variable is a small number, and the loss is compensated by the bias term).\n",
    "\n",
    "\n",
    "- Linear combination of 3 squared variables and bias with standard-normally distributed coefficients\n",
    "\n",
    "    We can clearly see that in 9 cases out of 10 the formulas are recovered exactly.\n",
    "\n",
    "\n",
    "- Linear combination of 3 variables with powers uniformly distributed over {1, 2 ,3 ,4, 5} and standard-normally distributed coefficients\n",
    "\n",
    "    We can see that in 6 cases out of 10 the formulas are recovered exactly, while in other 3 cases there is no similarity (the degree of one variable is a small number, and the loss is compensated by the bias term)."
   ]
  },
  {
   "cell_type": "code",
   "execution_count": 25,
   "metadata": {
    "colab": {},
    "colab_type": "code",
    "id": "q41R-POjCq1e"
   },
   "outputs": [],
   "source": [
    "import numpy as np\n",
    "import pandas as pd\n",
    "from matplotlib import pyplot as plt\n",
    "from sklearn.metrics import mean_squared_error\n",
    "from torch.nn import MSELoss\n",
    "import torch\n",
    "import torch.nn as nn\n",
    "import torch.nn.functional as F\n",
    "import torch.optim as optim\n",
    "import copy\n",
    "import time\n",
    "from IPython.display import display, Math, Latex\n",
    "\n",
    "import NestedFormula\n",
    "import auxiliary_functions\n",
    "import explore\n",
    "import importlib\n",
    "from hessian import hessian\n",
    "from IPython.core.display import display, HTML\n",
    "# display(HTML(\"<style>.container { width:100% !important; }</style>\"))\n",
    "\n",
    "device = torch.device(\"cpu\")\n",
    "if torch.cuda.is_available():\n",
    "    device = torch.device(\"cuda\")"
   ]
  },
  {
   "cell_type": "code",
   "execution_count": 45,
   "metadata": {},
   "outputs": [
    {
     "data": {
      "text/plain": [
       "<module 'explore' from '/home/zybinmikhail/Documents/personal github projects/LearningFormulas/explore.py'>"
      ]
     },
     "execution_count": 45,
     "metadata": {},
     "output_type": "execute_result"
    }
   ],
   "source": [
    "importlib.reload(NestedFormula)\n",
    "importlib.reload(auxiliary_functions)\n",
    "importlib.reload(explore)"
   ]
  },
  {
   "cell_type": "markdown",
   "metadata": {},
   "source": [
    "## Linear combination of 3 variables and bias with standard-normally distributed coefficients"
   ]
  },
  {
   "cell_type": "code",
   "execution_count": 32,
   "metadata": {
    "scrolled": false
   },
   "outputs": [
    {
     "name": "stdout",
     "output_type": "stream",
     "text": [
      "\n",
      "\n",
      "----------------------------Exploring new formula #1----------------------------\n",
      "  Initialization #1\n",
      "    Epoch 5000, current loss 0.0449, current formula \\left(-11.424x_1^{-0.027} + 10.731x_2^{-0.015} + 0.915x_3^{1.071} + 0.819\\right)\n",
      "  Finished run #1, loss 0.04426300898194313, best loss 0.04426300898194313\n",
      "  Initialization #2\n",
      "  Finished run #2, loss 0.011057988740503788, best loss 0.011057988740503788\n",
      "  Initialization #3\n",
      "  Finished run #3, loss 7.58524076882594e-10, best loss 7.58524076882594e-10\n",
      "loss is smaller than 1e-05, terminating learning process\n",
      "38 seconds passed from the start, the iteration took 38 seconds\n",
      "ground truth and obtained formula\n"
     ]
    },
    {
     "data": {
      "text/latex": [
       "$\\displaystyle 1.276x_{1}^{1}-0.65x_{2}^{1}+0.9x_{3}^{1}-0.344$"
      ],
      "text/plain": [
       "<IPython.core.display.Math object>"
      ]
     },
     "metadata": {},
     "output_type": "display_data"
    },
    {
     "data": {
      "text/latex": [
       "$\\displaystyle \\left(1.276x_1^{1.000}-0.650x_2^{1.000} + 0.900x_3^{1.000}-0.344\\right)$"
      ],
      "text/plain": [
       "<IPython.core.display.Math object>"
      ]
     },
     "metadata": {},
     "output_type": "display_data"
    },
    {
     "name": "stdout",
     "output_type": "stream",
     "text": [
      "MSE between formula parameters is 1.2181853367313319e-08\n",
      "EXACT RECOVERY\n",
      "\n",
      "\n",
      "----------------------------Exploring new formula #2----------------------------\n",
      "  Initialization #1\n",
      "  Finished run #1, loss 0.01343916542828083, best loss 0.01343916542828083\n",
      "  Initialization #2\n",
      "  Finished run #2, loss 0.0015267726266756654, best loss 0.0015267726266756654\n",
      "  Initialization #3\n",
      "  Finished run #3, loss 0.013873125426471233, best loss 0.0015267726266756654\n",
      "  Initialization #4\n",
      "  Finished run #4, loss 0.011437230743467808, best loss 0.0015267726266756654\n",
      "  Initialization #5\n",
      "  Finished run #5, loss 0.00028848694637417793, best loss 0.00028848694637417793\n",
      "  Initialization #6\n",
      "  Finished run #6, loss 0.011361205950379372, best loss 0.00028848694637417793\n",
      "  Initialization #7\n",
      "  Finished run #7, loss 0.012482903897762299, best loss 0.00028848694637417793\n",
      "  Initialization #8\n",
      "    Epoch 5000, current loss 0.00934, current formula \\left(5.719x_1^{-0.029}-0.210x_2^{1.102} + 1.330x_3^{-0.024}-6.305\\right)\n",
      "  Finished run #8, loss 0.00918937474489212, best loss 0.00028848694637417793\n",
      "  Initialization #9\n",
      "  Finished run #9, loss 0.011318389326334, best loss 0.00028848694637417793\n",
      "  Initialization #10\n",
      "  Finished run #10, loss 0.00027836591470986605, best loss 0.00027836591470986605\n",
      "1 minutes 34 seconds passed from the start, the iteration took 56 seconds\n",
      "ground truth and obtained formula\n"
     ]
    },
    {
     "data": {
      "text/latex": [
       "$\\displaystyle -0.675x_{1}^{1}-0.208x_{2}^{1}-0.127x_{3}^{1}+1.352$"
      ],
      "text/plain": [
       "<IPython.core.display.Math object>"
      ]
     },
     "metadata": {},
     "output_type": "display_data"
    },
    {
     "data": {
      "text/latex": [
       "$\\displaystyle \\left(-0.674x_1^{0.997}-0.211x_2^{0.978}-1.659x_3^{0.021} + 2.916\\right)$"
      ],
      "text/plain": [
       "<IPython.core.display.Math object>"
      ]
     },
     "metadata": {},
     "output_type": "display_data"
    },
    {
     "name": "stdout",
     "output_type": "stream",
     "text": [
      "MSE between formula parameters is 0.8217513293213506\n",
      "FAILURE\n",
      "\n",
      "\n",
      "----------------------------Exploring new formula #3----------------------------\n",
      "  Initialization #1\n",
      "  Finished run #1, loss 0.0004741509328596294, best loss 0.0004741509328596294\n",
      "  Initialization #2\n",
      "  Finished run #2, loss 0.00046852396917529404, best loss 0.00046852396917529404\n",
      "  Initialization #3\n",
      "  Finished run #3, loss 0.000554167025256902, best loss 0.00046852396917529404\n",
      "  Initialization #4\n",
      "  Finished run #4, loss 2.823388856043607e-09, best loss 2.823388856043607e-09\n",
      "loss is smaller than 1e-05, terminating learning process\n",
      "1 minutes 49 seconds passed from the start, the iteration took 15 seconds\n",
      "ground truth and obtained formula\n"
     ]
    },
    {
     "data": {
      "text/latex": [
       "$\\displaystyle -0.58x_{1}^{1}-1.201x_{2}^{1}+0.161x_{3}^{1}-1.495$"
      ],
      "text/plain": [
       "<IPython.core.display.Math object>"
      ]
     },
     "metadata": {},
     "output_type": "display_data"
    },
    {
     "data": {
      "text/latex": [
       "$\\displaystyle \\left(-0.580x_1^{1.000}-1.201x_2^{1.000} + 0.161x_3^{1.002}-1.495\\right)$"
      ],
      "text/plain": [
       "<IPython.core.display.Math object>"
      ]
     },
     "metadata": {},
     "output_type": "display_data"
    },
    {
     "name": "stdout",
     "output_type": "stream",
     "text": [
      "MSE between formula parameters is 7.0111635002463e-07\n",
      "EXACT RECOVERY\n",
      "\n",
      "\n",
      "----------------------------Exploring new formula #4----------------------------\n",
      "  Initialization #1\n",
      "  Finished run #1, loss 7.996097672879898e-10, best loss 7.996097672879898e-10\n",
      "loss is smaller than 1e-05, terminating learning process\n",
      "1 minutes 51 seconds passed from the start, the iteration took 2 seconds\n",
      "ground truth and obtained formula\n"
     ]
    },
    {
     "data": {
      "text/latex": [
       "$\\displaystyle 0.571x_{1}^{1}-0.64x_{2}^{1}-0.373x_{3}^{1}+0.536$"
      ],
      "text/plain": [
       "<IPython.core.display.Math object>"
      ]
     },
     "metadata": {},
     "output_type": "display_data"
    },
    {
     "data": {
      "text/latex": [
       "$\\displaystyle \\left(0.571x_1^{1.000}-0.640x_2^{1.000}-0.373x_3^{1.000} + 0.536\\right)$"
      ],
      "text/plain": [
       "<IPython.core.display.Math object>"
      ]
     },
     "metadata": {},
     "output_type": "display_data"
    },
    {
     "name": "stdout",
     "output_type": "stream",
     "text": [
      "MSE between formula parameters is 5.000738325021205e-08\n",
      "EXACT RECOVERY\n",
      "\n",
      "\n",
      "----------------------------Exploring new formula #5----------------------------\n",
      "  Initialization #1\n",
      "    Epoch 5000, current loss 0.119, current formula \\left(0.060x_1^{5.802}-9.050x_2^{-0.051}-1.181x_3^{0.991} + 9.822\\right)\n",
      "    Epoch 10000, current loss 0.114, current formula \\left(0.059x_1^{5.951}-14.402x_2^{-0.034}-1.188x_3^{0.977} + 15.199\\right)\n",
      "  Finished run #1, loss 0.11366713047027588, best loss 0.11366713047027588\n",
      "  Initialization #2\n",
      "  Finished run #2, loss 2.2134427624109776e-08, best loss 2.2134427624109776e-08\n",
      "loss is smaller than 1e-05, terminating learning process\n",
      "2 minutes 32 seconds passed from the start, the iteration took 41 seconds\n",
      "ground truth and obtained formula\n"
     ]
    },
    {
     "data": {
      "text/latex": [
       "$\\displaystyle -0.065x_{1}^{1}+2.196x_{2}^{1}-1.213x_{3}^{1}-0.766$"
      ],
      "text/plain": [
       "<IPython.core.display.Math object>"
      ]
     },
     "metadata": {},
     "output_type": "display_data"
    },
    {
     "data": {
      "text/latex": [
       "$\\displaystyle \\left(-0.065x_1^{0.993} + 2.195x_2^{1.000}-1.213x_3^{0.999}-0.765\\right)$"
      ],
      "text/plain": [
       "<IPython.core.display.Math object>"
      ]
     },
     "metadata": {},
     "output_type": "display_data"
    },
    {
     "name": "stdout",
     "output_type": "stream",
     "text": [
      "MSE between formula parameters is 6.7070178810246794e-06\n",
      "EXACT RECOVERY\n",
      "\n",
      "\n",
      "----------------------------Exploring new formula #6----------------------------\n",
      "  Initialization #1\n",
      "  Finished run #1, loss 3.651099422796733e-09, best loss 3.651099422796733e-09\n",
      "loss is smaller than 1e-05, terminating learning process\n",
      "2 minutes 34 seconds passed from the start, the iteration took 2 seconds\n",
      "ground truth and obtained formula\n"
     ]
    },
    {
     "data": {
      "text/latex": [
       "$\\displaystyle -0.423x_{1}^{1}-0.364x_{2}^{1}-0.849x_{3}^{1}-0.66$"
      ],
      "text/plain": [
       "<IPython.core.display.Math object>"
      ]
     },
     "metadata": {},
     "output_type": "display_data"
    },
    {
     "data": {
      "text/latex": [
       "$\\displaystyle \\left(-0.424x_1^{1.000}-0.365x_2^{0.999}-0.849x_3^{1.000}-0.660\\right)$"
      ],
      "text/plain": [
       "<IPython.core.display.Math object>"
      ]
     },
     "metadata": {},
     "output_type": "display_data"
    },
    {
     "name": "stdout",
     "output_type": "stream",
     "text": [
      "MSE between formula parameters is 3.073016812444556e-07\n",
      "EXACT RECOVERY\n",
      "\n",
      "\n",
      "----------------------------Exploring new formula #7----------------------------\n",
      "  Initialization #1\n",
      "  Finished run #1, loss 0.012222030200064182, best loss 0.012222030200064182\n",
      "  Initialization #2\n",
      "  Finished run #2, loss 2.1197285704488422e-08, best loss 2.1197285704488422e-08\n",
      "loss is smaller than 1e-05, terminating learning process\n",
      "2 minutes 38 seconds passed from the start, the iteration took 3 seconds\n",
      "ground truth and obtained formula\n"
     ]
    },
    {
     "data": {
      "text/latex": [
       "$\\displaystyle 0.847x_{1}^{1}+0.59x_{2}^{1}+0.205x_{3}^{1}+1.124$"
      ],
      "text/plain": [
       "<IPython.core.display.Math object>"
      ]
     },
     "metadata": {},
     "output_type": "display_data"
    },
    {
     "data": {
      "text/latex": [
       "$\\displaystyle \\left(0.847x_1^{0.999} + 0.590x_2^{0.999} + 0.206x_3^{0.996} + 1.123\\right)$"
      ],
      "text/plain": [
       "<IPython.core.display.Math object>"
      ]
     },
     "metadata": {},
     "output_type": "display_data"
    },
    {
     "name": "stdout",
     "output_type": "stream",
     "text": [
      "MSE between formula parameters is 3.166313272906507e-06\n",
      "EXACT RECOVERY\n",
      "\n",
      "\n",
      "----------------------------Exploring new formula #8----------------------------\n",
      "  Initialization #1\n",
      "  Finished run #1, loss 5.693628679637186e-09, best loss 5.693628679637186e-09\n",
      "loss is smaller than 1e-05, terminating learning process\n",
      "2 minutes 40 seconds passed from the start, the iteration took 2 seconds\n",
      "ground truth and obtained formula\n"
     ]
    },
    {
     "data": {
      "text/latex": [
       "$\\displaystyle -0.68x_{1}^{1}+0.608x_{2}^{1}-0.857x_{3}^{1}+0.342$"
      ],
      "text/plain": [
       "<IPython.core.display.Math object>"
      ]
     },
     "metadata": {},
     "output_type": "display_data"
    },
    {
     "data": {
      "text/latex": [
       "$\\displaystyle \\left(-0.679x_1^{1.001} + 0.608x_2^{0.999}-0.857x_3^{1.001} + 0.341\\right)$"
      ],
      "text/plain": [
       "<IPython.core.display.Math object>"
      ]
     },
     "metadata": {},
     "output_type": "display_data"
    },
    {
     "name": "stdout",
     "output_type": "stream",
     "text": [
      "MSE between formula parameters is 1.9255488898599943e-07\n",
      "EXACT RECOVERY\n",
      "\n",
      "\n",
      "----------------------------Exploring new formula #9----------------------------\n",
      "  Initialization #1\n",
      "  Finished run #1, loss 0.0002396345662418753, best loss 0.0002396345662418753\n",
      "  Initialization #2\n",
      "  Finished run #2, loss 0.0001678973058005795, best loss 0.0001678973058005795\n",
      "  Initialization #3\n",
      "  Finished run #3, loss 0.002253648592159152, best loss 0.0001678973058005795\n",
      "  Initialization #4\n",
      "  Finished run #4, loss 0.0036190208047628403, best loss 0.0001678973058005795\n",
      "  Initialization #5\n",
      "  Finished run #5, loss 4.4747611172013535e-10, best loss 4.4747611172013535e-10\n",
      "loss is smaller than 1e-05, terminating learning process\n",
      "2 minutes 52 seconds passed from the start, the iteration took 13 seconds\n",
      "ground truth and obtained formula\n"
     ]
    },
    {
     "data": {
      "text/latex": [
       "$\\displaystyle 2.421x_{1}^{1}-0.371x_{2}^{1}+0.112x_{3}^{1}-1.21$"
      ],
      "text/plain": [
       "<IPython.core.display.Math object>"
      ]
     },
     "metadata": {},
     "output_type": "display_data"
    },
    {
     "data": {
      "text/latex": [
       "$\\displaystyle \\left(2.421x_1^{1.000}-0.371x_2^{1.000} + 0.112x_3^{1.001}-1.210\\right)$"
      ],
      "text/plain": [
       "<IPython.core.display.Math object>"
      ]
     },
     "metadata": {},
     "output_type": "display_data"
    },
    {
     "name": "stdout",
     "output_type": "stream",
     "text": [
      "MSE between formula parameters is 2.1145637650400927e-07\n",
      "EXACT RECOVERY\n",
      "\n",
      "\n",
      "----------------------------Exploring new formula #10----------------------------\n",
      "  Initialization #1\n",
      "  Finished run #1, loss 0.012512505054473877, best loss 0.012512505054473877\n",
      "  Initialization #2\n",
      "  Finished run #2, loss 0.011847813613712788, best loss 0.011847813613712788\n",
      "  Initialization #3\n",
      "  Finished run #3, loss 0.04677753150463104, best loss 0.011847813613712788\n",
      "  Initialization #4\n",
      "  Finished run #4, loss 2.9658236977425645e-10, best loss 2.9658236977425645e-10\n",
      "loss is smaller than 1e-05, terminating learning process\n",
      "3 minutes 6 seconds passed from the start, the iteration took 13 seconds\n",
      "ground truth and obtained formula\n"
     ]
    },
    {
     "data": {
      "text/latex": [
       "$\\displaystyle 0.744x_{1}^{1}-0.694x_{2}^{1}-0.945x_{3}^{1}+0.209$"
      ],
      "text/plain": [
       "<IPython.core.display.Math object>"
      ]
     },
     "metadata": {},
     "output_type": "display_data"
    },
    {
     "data": {
      "text/latex": [
       "$\\displaystyle \\left(0.744x_1^{1.000}-0.694x_2^{1.000}-0.945x_3^{1.000} + 0.209\\right)$"
      ],
      "text/plain": [
       "<IPython.core.display.Math object>"
      ]
     },
     "metadata": {},
     "output_type": "display_data"
    },
    {
     "name": "stdout",
     "output_type": "stream",
     "text": [
      "MSE between formula parameters is 7.622096477786857e-09\n",
      "EXACT RECOVERY\n",
      "\n",
      "################################################################################\n",
      "MSEs between parameters:\n",
      "[1.2181853367313319e-08, 0.8217513293213506, 7.0111635002463e-07, 5.000738325021205e-08, 6.7070178810246794e-06, 3.073016812444556e-07, 3.166313272906507e-06, 1.9255488898599943e-07, 2.1145637650400927e-07, 7.622096477786857e-09]\n",
      "For 9 formulas out of 10 the error is less than 1e-05.\n"
     ]
    }
   ],
   "source": [
    "explore.explore()"
   ]
  },
  {
   "cell_type": "markdown",
   "metadata": {},
   "source": [
    "## Linear combination of 3 squared variables and bias with standard-normally distributed coefficients"
   ]
  },
  {
   "cell_type": "code",
   "execution_count": 11,
   "metadata": {
    "scrolled": false
   },
   "outputs": [
    {
     "name": "stdout",
     "output_type": "stream",
     "text": [
      "\n",
      "\n",
      "----------------------------Exploring new formula #1----------------------------\n",
      "  Initialization #1\n",
      "  Finished run #1, loss 0.19504092633724213, best loss 0.19504092633724213\n",
      "  Initialization #2\n",
      "  Finished run #2, loss 0.007013747934252024, best loss 0.007013747934252024\n",
      "  Initialization #3\n",
      "  Finished run #3, loss 0.009375261142849922, best loss 0.007013747934252024\n",
      "  Initialization #4\n",
      "  Finished run #4, loss 0.009800040163099766, best loss 0.007013747934252024\n",
      "  Initialization #5\n",
      "  Finished run #5, loss 1.8762023185070476e-12, best loss 1.8762023185070476e-12\n",
      "loss is smaller than 0.001, terminating learning process\n",
      "15 seconds passed from the start, the iteration took 15 seconds\n",
      "ground truth and obtained formula\n"
     ]
    },
    {
     "data": {
      "text/latex": [
       "$\\displaystyle -2.118x_{1}^{2}-2.121x_{2}^{2}+0.462x_{3}^{2}+0.852$"
      ],
      "text/plain": [
       "<IPython.core.display.Math object>"
      ]
     },
     "metadata": {},
     "output_type": "display_data"
    },
    {
     "data": {
      "text/latex": [
       "$\\displaystyle \\left(-2.118x_1^{2.000}-2.121x_2^{2.000} + 0.462x_3^{2.000} + 0.852\\right)$"
      ],
      "text/plain": [
       "<IPython.core.display.Math object>"
      ]
     },
     "metadata": {},
     "output_type": "display_data"
    },
    {
     "name": "stdout",
     "output_type": "stream",
     "text": [
      "MSE between formula parameters is 6.69699216717033e-12\n",
      "EXACT RECOVERY\n",
      "\n",
      "\n",
      "----------------------------Exploring new formula #2----------------------------\n",
      "  Initialization #1\n",
      "  Finished run #1, loss 3.5127137743701242e-12, best loss 3.5127137743701242e-12\n",
      "loss is smaller than 0.001, terminating learning process\n",
      "16 seconds passed from the start, the iteration took 1 seconds\n",
      "ground truth and obtained formula\n"
     ]
    },
    {
     "data": {
      "text/latex": [
       "$\\displaystyle -0.787x_{1}^{2}-0.506x_{2}^{2}-1.607x_{3}^{2}+1.722$"
      ],
      "text/plain": [
       "<IPython.core.display.Math object>"
      ]
     },
     "metadata": {},
     "output_type": "display_data"
    },
    {
     "data": {
      "text/latex": [
       "$\\displaystyle \\left(-0.787x_1^{2.000}-0.506x_2^{2.000}-1.607x_3^{2.000} + 1.722\\right)$"
      ],
      "text/plain": [
       "<IPython.core.display.Math object>"
      ]
     },
     "metadata": {},
     "output_type": "display_data"
    },
    {
     "name": "stdout",
     "output_type": "stream",
     "text": [
      "MSE between formula parameters is 7.412026548081485e-11\n",
      "EXACT RECOVERY\n",
      "\n",
      "\n",
      "----------------------------Exploring new formula #3----------------------------\n",
      "  Initialization #1\n",
      "  Finished run #1, loss 0.1483605057001114, best loss 0.1483605057001114\n",
      "  Initialization #2\n",
      "  Finished run #2, loss 0.02518836408853531, best loss 0.02518836408853531\n",
      "  Initialization #3\n",
      "  Finished run #3, loss 1.3154793226943795e-11, best loss 1.3154793226943795e-11\n",
      "loss is smaller than 0.001, terminating learning process\n",
      "32 seconds passed from the start, the iteration took 15 seconds\n",
      "ground truth and obtained formula\n"
     ]
    },
    {
     "data": {
      "text/latex": [
       "$\\displaystyle -1.043x_{1}^{2}-1.52x_{2}^{2}-0.755x_{3}^{2}-0.242$"
      ],
      "text/plain": [
       "<IPython.core.display.Math object>"
      ]
     },
     "metadata": {},
     "output_type": "display_data"
    },
    {
     "data": {
      "text/latex": [
       "$\\displaystyle \\left(-1.043x_1^{2.000}-1.520x_2^{2.000}-0.755x_3^{2.000}-0.242\\right)$"
      ],
      "text/plain": [
       "<IPython.core.display.Math object>"
      ]
     },
     "metadata": {},
     "output_type": "display_data"
    },
    {
     "name": "stdout",
     "output_type": "stream",
     "text": [
      "MSE between formula parameters is 3.558649565503304e-10\n",
      "EXACT RECOVERY\n",
      "\n",
      "\n",
      "----------------------------Exploring new formula #4----------------------------\n",
      "  Initialization #1\n",
      "  Finished run #1, loss 1.5556061647159503e-11, best loss 1.5556061647159503e-11\n",
      "loss is smaller than 0.001, terminating learning process\n",
      "33 seconds passed from the start, the iteration took 2 seconds\n",
      "ground truth and obtained formula\n"
     ]
    },
    {
     "data": {
      "text/latex": [
       "$\\displaystyle -0.549x_{1}^{2}+0.916x_{2}^{2}+1.277x_{3}^{2}+0.891$"
      ],
      "text/plain": [
       "<IPython.core.display.Math object>"
      ]
     },
     "metadata": {},
     "output_type": "display_data"
    },
    {
     "data": {
      "text/latex": [
       "$\\displaystyle \\left(-0.549x_1^{2.000} + 0.916x_2^{2.000} + 1.277x_3^{2.000} + 0.891\\right)$"
      ],
      "text/plain": [
       "<IPython.core.display.Math object>"
      ]
     },
     "metadata": {},
     "output_type": "display_data"
    },
    {
     "name": "stdout",
     "output_type": "stream",
     "text": [
      "MSE between formula parameters is 4.6123866630815817e-10\n",
      "EXACT RECOVERY\n",
      "\n",
      "\n",
      "----------------------------Exploring new formula #5----------------------------\n",
      "  Initialization #1\n",
      "  Finished run #1, loss 0.0013860539766028523, best loss 0.0013860539766028523\n",
      "  Initialization #2\n",
      "  Finished run #2, loss 0.0016387712676078081, best loss 0.0013860539766028523\n",
      "  Initialization #3\n",
      "  Finished run #3, loss 5.024526801566953e-12, best loss 5.024526801566953e-12\n",
      "loss is smaller than 0.001, terminating learning process\n",
      "38 seconds passed from the start, the iteration took 5 seconds\n",
      "ground truth and obtained formula\n"
     ]
    },
    {
     "data": {
      "text/latex": [
       "$\\displaystyle 0.11x_{1}^{2}-2.128x_{2}^{2}+0.169x_{3}^{2}-0.251$"
      ],
      "text/plain": [
       "<IPython.core.display.Math object>"
      ]
     },
     "metadata": {},
     "output_type": "display_data"
    },
    {
     "data": {
      "text/latex": [
       "$\\displaystyle \\left(0.110x_1^{2.000}-2.128x_2^{2.000} + 0.169x_3^{2.000}-0.251\\right)$"
      ],
      "text/plain": [
       "<IPython.core.display.Math object>"
      ]
     },
     "metadata": {},
     "output_type": "display_data"
    },
    {
     "name": "stdout",
     "output_type": "stream",
     "text": [
      "MSE between formula parameters is 3.520428805612953e-09\n",
      "EXACT RECOVERY\n",
      "\n",
      "\n",
      "----------------------------Exploring new formula #6----------------------------\n",
      "  Initialization #1\n",
      "  Finished run #1, loss 0.03510764613747597, best loss 0.03510764613747597\n",
      "  Initialization #2\n",
      "  Finished run #2, loss 0.03426942229270935, best loss 0.03426942229270935\n",
      "  Initialization #3\n",
      "  Finished run #3, loss 0.035176824778318405, best loss 0.03426942229270935\n",
      "  Initialization #4\n",
      "  Finished run #4, loss 0.023263581097126007, best loss 0.023263581097126007\n",
      "  Initialization #5\n",
      "    Epoch 5000, current loss 0.054, current formula \\left(0.879x_1^{1.832}-8.612x_2^{-0.023} + 8.933x_3^{-0.019}-1.041\\right)\n",
      "    Epoch 10000, current loss 0.0535, current formula \\left(0.879x_1^{1.835}-12.666x_2^{-0.016} + 12.986x_3^{-0.013}-1.041\\right)\n",
      "  Finished run #5, loss 0.05348413810133934, best loss 0.023263581097126007\n",
      "  Initialization #6\n",
      "  Finished run #6, loss 8.06729336111367e-12, best loss 8.06729336111367e-12\n",
      "loss is smaller than 0.001, terminating learning process\n",
      "1 minutes 29 seconds passed from the start, the iteration took 51 seconds\n",
      "ground truth and obtained formula\n"
     ]
    },
    {
     "data": {
      "text/latex": [
       "$\\displaystyle 0.917x_{1}^{2}+0.782x_{2}^{2}-0.866x_{3}^{2}-0.72$"
      ],
      "text/plain": [
       "<IPython.core.display.Math object>"
      ]
     },
     "metadata": {},
     "output_type": "display_data"
    },
    {
     "data": {
      "text/latex": [
       "$\\displaystyle \\left(0.917x_1^{2.000} + 0.782x_2^{2.000}-0.866x_3^{2.000}-0.720\\right)$"
      ],
      "text/plain": [
       "<IPython.core.display.Math object>"
      ]
     },
     "metadata": {},
     "output_type": "display_data"
    },
    {
     "name": "stdout",
     "output_type": "stream",
     "text": [
      "MSE between formula parameters is 3.1134510842483516e-10\n",
      "EXACT RECOVERY\n",
      "\n",
      "\n",
      "----------------------------Exploring new formula #7----------------------------\n",
      "  Initialization #1\n",
      "  Finished run #1, loss 0.010849709622561932, best loss 0.010849709622561932\n",
      "  Initialization #2\n",
      "  Finished run #2, loss 0.038911230862140656, best loss 0.010849709622561932\n",
      "  Initialization #3\n",
      "  Finished run #3, loss 0.009395286440849304, best loss 0.009395286440849304\n",
      "  Initialization #4\n",
      "  Finished run #4, loss 0.0017017177306115627, best loss 0.0017017177306115627\n",
      "  Initialization #5\n",
      "  Finished run #5, loss 0.03575057163834572, best loss 0.0017017177306115627\n",
      "  Initialization #6\n",
      "  Finished run #6, loss 0.011514522135257721, best loss 0.0017017177306115627\n",
      "  Initialization #7\n",
      "    Epoch 5000, current loss 0.0114, current formula \\left(-5.762x_1^{-0.020} + 0.945x_2^{1.895} + 3.524x_3^{-0.011} + 3.652\\right)\n",
      "  Finished run #7, loss 0.011352745816111565, best loss 0.0017017177306115627\n",
      "  Initialization #8\n",
      "  Finished run #8, loss 1.14887084221027e-11, best loss 1.14887084221027e-11\n",
      "loss is smaller than 0.001, terminating learning process\n",
      "2 minutes 46 seconds passed from the start, the iteration took 1 minutes 17 seconds\n",
      "ground truth and obtained formula\n"
     ]
    },
    {
     "data": {
      "text/latex": [
       "$\\displaystyle 0.517x_{1}^{2}+0.938x_{2}^{2}-0.182x_{3}^{2}+1.244$"
      ],
      "text/plain": [
       "<IPython.core.display.Math object>"
      ]
     },
     "metadata": {},
     "output_type": "display_data"
    },
    {
     "data": {
      "text/latex": [
       "$\\displaystyle \\left(0.517x_1^{2.000} + 0.938x_2^{2.000}-0.182x_3^{2.000} + 1.244\\right)$"
      ],
      "text/plain": [
       "<IPython.core.display.Math object>"
      ]
     },
     "metadata": {},
     "output_type": "display_data"
    },
    {
     "name": "stdout",
     "output_type": "stream",
     "text": [
      "MSE between formula parameters is 6.36695601003672e-09\n",
      "EXACT RECOVERY\n",
      "\n",
      "\n",
      "----------------------------Exploring new formula #8----------------------------\n",
      "  Initialization #1\n",
      "  Finished run #1, loss 0.00043949144310317934, best loss 0.00043949144310317934\n",
      "loss is smaller than 0.001, terminating learning process\n",
      "2 minutes 48 seconds passed from the start, the iteration took 2 seconds\n",
      "ground truth and obtained formula\n"
     ]
    },
    {
     "data": {
      "text/latex": [
       "$\\displaystyle -0.118x_{1}^{2}-0.574x_{2}^{2}-0.106x_{3}^{2}+2.927$"
      ],
      "text/plain": [
       "<IPython.core.display.Math object>"
      ]
     },
     "metadata": {},
     "output_type": "display_data"
    },
    {
     "data": {
      "text/latex": [
       "$\\displaystyle \\left(-0.118x_1^{1.944}-0.576x_2^{2.009} + 2.378x_3^{-0.010} + 0.491\\right)$"
      ],
      "text/plain": [
       "<IPython.core.display.Math object>"
      ]
     },
     "metadata": {},
     "output_type": "display_data"
    },
    {
     "name": "stdout",
     "output_type": "stream",
     "text": [
      "MSE between formula parameters is 2.306655452500273\n",
      "FAILURE\n",
      "\n",
      "\n",
      "----------------------------Exploring new formula #9----------------------------\n",
      "  Initialization #1\n",
      "  Finished run #1, loss 2.1731370175581688e-11, best loss 2.1731370175581688e-11\n",
      "loss is smaller than 0.001, terminating learning process\n",
      "2 minutes 50 seconds passed from the start, the iteration took 2 seconds\n",
      "ground truth and obtained formula\n"
     ]
    },
    {
     "data": {
      "text/latex": [
       "$\\displaystyle 1.098x_{1}^{2}+0.082x_{2}^{2}-1.988x_{3}^{2}-0.771$"
      ],
      "text/plain": [
       "<IPython.core.display.Math object>"
      ]
     },
     "metadata": {},
     "output_type": "display_data"
    },
    {
     "data": {
      "text/latex": [
       "$\\displaystyle \\left(1.098x_1^{2.000} + 0.082x_2^{1.999}-1.988x_3^{2.000}-0.771\\right)$"
      ],
      "text/plain": [
       "<IPython.core.display.Math object>"
      ]
     },
     "metadata": {},
     "output_type": "display_data"
    },
    {
     "name": "stdout",
     "output_type": "stream",
     "text": [
      "MSE between formula parameters is 7.782828465030533e-08\n",
      "EXACT RECOVERY\n",
      "\n",
      "\n",
      "----------------------------Exploring new formula #10----------------------------\n",
      "  Initialization #1\n",
      "  Finished run #1, loss 7.292567591465904e-12, best loss 7.292567591465904e-12\n",
      "loss is smaller than 0.001, terminating learning process\n",
      "2 minutes 55 seconds passed from the start, the iteration took 6 seconds\n",
      "ground truth and obtained formula\n"
     ]
    },
    {
     "data": {
      "text/latex": [
       "$\\displaystyle -0.726x_{1}^{2}-0.951x_{2}^{2}+0.516x_{3}^{2}-0.259$"
      ],
      "text/plain": [
       "<IPython.core.display.Math object>"
      ]
     },
     "metadata": {},
     "output_type": "display_data"
    },
    {
     "data": {
      "text/latex": [
       "$\\displaystyle \\left(-0.726x_1^{2.000}-0.951x_2^{2.000} + 0.516x_3^{2.000}-0.259\\right)$"
      ],
      "text/plain": [
       "<IPython.core.display.Math object>"
      ]
     },
     "metadata": {},
     "output_type": "display_data"
    },
    {
     "name": "stdout",
     "output_type": "stream",
     "text": [
      "MSE between formula parameters is 5.295644557788495e-10\n",
      "EXACT RECOVERY\n",
      "\n",
      "################################################################################\n",
      "MSEs between parameters:\n",
      "[6.69699216717033e-12, 7.412026548081485e-11, 3.558649565503304e-10, 4.6123866630815817e-10, 3.520428805612953e-09, 3.1134510842483516e-10, 6.36695601003672e-09, 2.306655452500273, 7.782828465030533e-08, 5.295644557788495e-10]\n",
      "For 9 formulas out of 10 the error is less than 1e-05.\n"
     ]
    }
   ],
   "source": [
    "explore(min_power=2, max_power=2)"
   ]
  },
  {
   "cell_type": "markdown",
   "metadata": {},
   "source": [
    "## Linear combination of 3 variables with powers uniformly distributed over {1, 2 ,3 ,4, 5} and standard-normally distributed coefficients"
   ]
  },
  {
   "cell_type": "code",
   "execution_count": 35,
   "metadata": {
    "scrolled": false
   },
   "outputs": [
    {
     "name": "stdout",
     "output_type": "stream",
     "text": [
      "\n",
      "\n",
      "----------------------------Exploring new formula #1----------------------------\n",
      "  Initialization #1\n",
      "  Finished run #1, loss 0.06304360181093216, best loss 0.06304360181093216\n",
      "  Initialization #2\n",
      "  Finished run #2, loss 0.004367060959339142, best loss 0.004367060959339142\n",
      "  Initialization #3\n",
      "  Finished run #3, loss 1.3601357019832339e-11, best loss 1.3601357019832339e-11\n",
      "loss is smaller than 1e-05, terminating learning process\n",
      "6 seconds passed from the start, the iteration took 6 seconds\n",
      "ground truth and obtained formula\n"
     ]
    },
    {
     "data": {
      "text/latex": [
       "$\\displaystyle -1.126x_{1}^{2}-1.236x_{2}^{2}+0.312x_{3}^{3}+0.729$"
      ],
      "text/plain": [
       "<IPython.core.display.Math object>"
      ]
     },
     "metadata": {},
     "output_type": "display_data"
    },
    {
     "data": {
      "text/latex": [
       "$\\displaystyle \\left(-1.126x_1^{2.000}-1.236x_2^{2.000} + 0.312x_3^{3.000} + 0.729\\right)$"
      ],
      "text/plain": [
       "<IPython.core.display.Math object>"
      ]
     },
     "metadata": {},
     "output_type": "display_data"
    },
    {
     "name": "stdout",
     "output_type": "stream",
     "text": [
      "MSE between formula parameters is 5.667260058065235e-09\n",
      "EXACT RECOVERY\n",
      "\n",
      "\n",
      "----------------------------Exploring new formula #2----------------------------\n",
      "  Initialization #1\n",
      "  Finished run #1, loss 0.08279216289520264, best loss 0.08279216289520264\n",
      "  Initialization #2\n",
      "  Finished run #2, loss 1.7293509289514897e-12, best loss 1.7293509289514897e-12\n",
      "loss is smaller than 1e-05, terminating learning process\n",
      "10 seconds passed from the start, the iteration took 4 seconds\n",
      "ground truth and obtained formula\n"
     ]
    },
    {
     "data": {
      "text/latex": [
       "$\\displaystyle -0.937x_{1}^{4}-0.922x_{2}^{4}+1.209x_{3}^{5}+1.655$"
      ],
      "text/plain": [
       "<IPython.core.display.Math object>"
      ]
     },
     "metadata": {},
     "output_type": "display_data"
    },
    {
     "data": {
      "text/latex": [
       "$\\displaystyle \\left(-0.937x_1^{4.000}-0.922x_2^{4.000} + 1.209x_3^{5.000} + 1.655\\right)$"
      ],
      "text/plain": [
       "<IPython.core.display.Math object>"
      ]
     },
     "metadata": {},
     "output_type": "display_data"
    },
    {
     "name": "stdout",
     "output_type": "stream",
     "text": [
      "MSE between formula parameters is 1.1465926620855628e-10\n",
      "EXACT RECOVERY\n",
      "\n",
      "\n",
      "----------------------------Exploring new formula #3----------------------------\n",
      "  Initialization #1\n",
      "  Finished run #1, loss 7.422276226791424e-13, best loss 7.422276226791424e-13\n",
      "loss is smaller than 1e-05, terminating learning process\n",
      "14 seconds passed from the start, the iteration took 4 seconds\n",
      "ground truth and obtained formula\n"
     ]
    },
    {
     "data": {
      "text/latex": [
       "$\\displaystyle -1.539x_{1}^{6}-1.276x_{2}^{3}-0.967x_{3}^{6}-0.346$"
      ],
      "text/plain": [
       "<IPython.core.display.Math object>"
      ]
     },
     "metadata": {},
     "output_type": "display_data"
    },
    {
     "data": {
      "text/latex": [
       "$\\displaystyle \\left(-1.539x_1^{6.000}-1.276x_2^{3.000}-0.967x_3^{6.000}-0.346\\right)$"
      ],
      "text/plain": [
       "<IPython.core.display.Math object>"
      ]
     },
     "metadata": {},
     "output_type": "display_data"
    },
    {
     "name": "stdout",
     "output_type": "stream",
     "text": [
      "MSE between formula parameters is 1.1858755247625855e-10\n",
      "EXACT RECOVERY\n",
      "\n",
      "\n",
      "----------------------------Exploring new formula #4----------------------------\n",
      "  Initialization #1\n",
      "  Finished run #1, loss 0.002982549136504531, best loss 0.002982549136504531\n",
      "  Initialization #2\n",
      "  Finished run #2, loss 0.033160265535116196, best loss 0.002982549136504531\n",
      "  Initialization #3\n",
      "  Finished run #3, loss 0.09207728505134583, best loss 0.002982549136504531\n",
      "  Initialization #4\n",
      "  Finished run #4, loss 0.03271259367465973, best loss 0.002982549136504531\n",
      "  Initialization #5\n",
      "  Finished run #5, loss 0.0027095582336187363, best loss 0.0027095582336187363\n",
      "  Initialization #6\n",
      "  Finished run #6, loss 2.9511610169508096e-12, best loss 2.9511610169508096e-12\n",
      "loss is smaller than 1e-05, terminating learning process\n",
      "36 seconds passed from the start, the iteration took 22 seconds\n",
      "ground truth and obtained formula\n"
     ]
    },
    {
     "data": {
      "text/latex": [
       "$\\displaystyle 1.452x_{1}^{4}-0.316x_{2}^{1}-0.89x_{3}^{6}-1.062$"
      ],
      "text/plain": [
       "<IPython.core.display.Math object>"
      ]
     },
     "metadata": {},
     "output_type": "display_data"
    },
    {
     "data": {
      "text/latex": [
       "$\\displaystyle \\left(1.452x_1^{4.000}-0.316x_2^{1.000}-0.890x_3^{6.000}-1.062\\right)$"
      ],
      "text/plain": [
       "<IPython.core.display.Math object>"
      ]
     },
     "metadata": {},
     "output_type": "display_data"
    },
    {
     "name": "stdout",
     "output_type": "stream",
     "text": [
      "MSE between formula parameters is 3.3764445208005004e-10\n",
      "EXACT RECOVERY\n",
      "\n",
      "\n",
      "----------------------------Exploring new formula #5----------------------------\n",
      "  Initialization #1\n",
      "    Epoch 5000, current loss 0.0621, current formula \\left(-7.449x_1^{-0.011}-0.163x_2^{3.560} + 6.996x_3^{-0.015} + 0.764\\right)\n",
      "  Finished run #1, loss 0.06207393482327461, best loss 0.06207393482327461\n",
      "  Initialization #2\n",
      "    Epoch 5000, current loss 0.0622, current formula \\left(-7.718x_1^{-0.011}-0.163x_2^{3.565} + 6.194x_3^{-0.017} + 1.836\\right)\n",
      "  Finished run #2, loss 0.06211938336491585, best loss 0.06207393482327461\n",
      "  Initialization #3\n",
      "  Finished run #3, loss 1.208213824127613e-11, best loss 1.208213824127613e-11\n",
      "loss is smaller than 1e-05, terminating learning process\n",
      "1 minutes 25 seconds passed from the start, the iteration took 49 seconds\n",
      "ground truth and obtained formula\n"
     ]
    },
    {
     "data": {
      "text/latex": [
       "$\\displaystyle 0.526x_{1}^{4}-0.143x_{2}^{2}-1.118x_{3}^{6}+0.4$"
      ],
      "text/plain": [
       "<IPython.core.display.Math object>"
      ]
     },
     "metadata": {},
     "output_type": "display_data"
    },
    {
     "data": {
      "text/latex": [
       "$\\displaystyle \\left(0.526x_1^{4.000}-0.143x_2^{2.000}-1.118x_3^{6.000} + 0.400\\right)$"
      ],
      "text/plain": [
       "<IPython.core.display.Math object>"
      ]
     },
     "metadata": {},
     "output_type": "display_data"
    },
    {
     "name": "stdout",
     "output_type": "stream",
     "text": [
      "MSE between formula parameters is 1.4469741119579486e-08\n",
      "EXACT RECOVERY\n",
      "\n",
      "\n",
      "----------------------------Exploring new formula #6----------------------------\n",
      "  Initialization #1\n",
      "  Finished run #1, loss 0.08188065886497498, best loss 0.08188065886497498\n",
      "  Initialization #2\n",
      "    Epoch 5000, current loss 0.182, current formula \\left(-9.522x_1^{-0.026} + 1.402x_2^{4.533} + 2.577x_3^{0.022} + 8.277\\right)\n",
      "  Finished run #2, loss 0.18087251484394073, best loss 0.08188065886497498\n",
      "  Initialization #3\n",
      "  Finished run #3, loss 0.0822642371058464, best loss 0.08188065886497498\n",
      "  Initialization #4\n",
      "  Finished run #4, loss 2.086057455247259e-12, best loss 2.086057455247259e-12\n",
      "loss is smaller than 1e-05, terminating learning process\n",
      "2 minutes 3 seconds passed from the start, the iteration took 38 seconds\n",
      "ground truth and obtained formula\n"
     ]
    },
    {
     "data": {
      "text/latex": [
       "$\\displaystyle 1.963x_{1}^{5}+1.38x_{2}^{5}+0.423x_{3}^{6}+0.658$"
      ],
      "text/plain": [
       "<IPython.core.display.Math object>"
      ]
     },
     "metadata": {},
     "output_type": "display_data"
    },
    {
     "data": {
      "text/latex": [
       "$\\displaystyle \\left(1.963x_1^{5.000} + 1.380x_2^{5.000} + 0.423x_3^{6.000} + 0.658\\right)$"
      ],
      "text/plain": [
       "<IPython.core.display.Math object>"
      ]
     },
     "metadata": {},
     "output_type": "display_data"
    },
    {
     "name": "stdout",
     "output_type": "stream",
     "text": [
      "MSE between formula parameters is 1.5023411086596232e-10\n",
      "EXACT RECOVERY\n",
      "\n",
      "\n",
      "----------------------------Exploring new formula #7----------------------------\n",
      "  Initialization #1\n",
      "  Finished run #1, loss 0.0009585803491063416, best loss 0.0009585803491063416\n",
      "  Initialization #2\n",
      "  Finished run #2, loss 0.016282297670841217, best loss 0.0009585803491063416\n",
      "  Initialization #3\n",
      "  Finished run #3, loss 0.016563350334763527, best loss 0.0009585803491063416\n",
      "  Initialization #4\n",
      "  Finished run #4, loss 6.829097292000708e-13, best loss 6.829097292000708e-13\n",
      "loss is smaller than 1e-05, terminating learning process\n",
      "2 minutes 31 seconds passed from the start, the iteration took 28 seconds\n",
      "ground truth and obtained formula\n"
     ]
    },
    {
     "data": {
      "text/latex": [
       "$\\displaystyle 1.571x_{1}^{5}+0.15x_{2}^{5}-0.613x_{3}^{2}+1.084$"
      ],
      "text/plain": [
       "<IPython.core.display.Math object>"
      ]
     },
     "metadata": {},
     "output_type": "display_data"
    },
    {
     "data": {
      "text/latex": [
       "$\\displaystyle \\left(1.571x_1^{5.000} + 0.150x_2^{5.000}-0.613x_3^{2.000} + 1.084\\right)$"
      ],
      "text/plain": [
       "<IPython.core.display.Math object>"
      ]
     },
     "metadata": {},
     "output_type": "display_data"
    },
    {
     "name": "stdout",
     "output_type": "stream",
     "text": [
      "MSE between formula parameters is 3.4865421660867923e-10\n",
      "EXACT RECOVERY\n",
      "\n",
      "\n",
      "----------------------------Exploring new formula #8----------------------------\n",
      "  Initialization #1\n",
      "  Finished run #1, loss 0.0010126919951289892, best loss 0.0010126919951289892\n",
      "  Initialization #2\n",
      "  Finished run #2, loss 5.297980804064295e-12, best loss 5.297980804064295e-12\n",
      "loss is smaller than 1e-05, terminating learning process\n",
      "2 minutes 34 seconds passed from the start, the iteration took 3 seconds\n",
      "ground truth and obtained formula\n"
     ]
    },
    {
     "data": {
      "text/latex": [
       "$\\displaystyle 0.154x_{1}^{5}-0.309x_{2}^{3}+1.08x_{3}^{1}+0.952$"
      ],
      "text/plain": [
       "<IPython.core.display.Math object>"
      ]
     },
     "metadata": {},
     "output_type": "display_data"
    },
    {
     "data": {
      "text/latex": [
       "$\\displaystyle \\left(0.154x_1^{5.000}-0.309x_2^{3.000} + 1.080x_3^{1.000} + 0.952\\right)$"
      ],
      "text/plain": [
       "<IPython.core.display.Math object>"
      ]
     },
     "metadata": {},
     "output_type": "display_data"
    },
    {
     "name": "stdout",
     "output_type": "stream",
     "text": [
      "MSE between formula parameters is 1.1178741107390318e-08\n",
      "EXACT RECOVERY\n",
      "\n",
      "\n",
      "----------------------------Exploring new formula #9----------------------------\n",
      "  Initialization #1\n",
      "  Finished run #1, loss 0.05849596858024597, best loss 0.05849596858024597\n",
      "  Initialization #2\n",
      "  Finished run #2, loss 0.000568809628020972, best loss 0.000568809628020972\n",
      "  Initialization #3\n",
      "    Epoch 5000, current loss 0.0352, current formula \\left(-1.289x_1^{-0.011}-5.506x_2^{-0.024} + 0.662x_3^{3.975} + 5.457\\right)\n",
      "  Finished run #3, loss 0.03520870953798294, best loss 0.000568809628020972\n",
      "  Initialization #4\n",
      "  Finished run #4, loss 0.034622740000486374, best loss 0.000568809628020972\n",
      "  Initialization #5\n",
      "  Finished run #5, loss 0.0006225152174010873, best loss 0.000568809628020972\n",
      "  Initialization #6\n",
      "  Finished run #6, loss 5.907022267159778e-12, best loss 5.907022267159778e-12\n",
      "loss is smaller than 1e-05, terminating learning process\n",
      "3 minutes 3 seconds passed from the start, the iteration took 29 seconds\n",
      "ground truth and obtained formula\n"
     ]
    },
    {
     "data": {
      "text/latex": [
       "$\\displaystyle 0.11x_{1}^{3}+0.842x_{2}^{3}+0.655x_{3}^{4}-1.72$"
      ],
      "text/plain": [
       "<IPython.core.display.Math object>"
      ]
     },
     "metadata": {},
     "output_type": "display_data"
    },
    {
     "data": {
      "text/latex": [
       "$\\displaystyle \\left(0.110x_1^{3.000} + 0.842x_2^{3.000} + 0.655x_3^{4.000}-1.720\\right)$"
      ],
      "text/plain": [
       "<IPython.core.display.Math object>"
      ]
     },
     "metadata": {},
     "output_type": "display_data"
    },
    {
     "name": "stdout",
     "output_type": "stream",
     "text": [
      "MSE between formula parameters is 2.363041794779213e-08\n",
      "EXACT RECOVERY\n",
      "\n",
      "\n",
      "----------------------------Exploring new formula #10----------------------------\n",
      "  Initialization #1\n",
      "  Finished run #1, loss 0.005140147637575865, best loss 0.005140147637575865\n",
      "  Initialization #2\n",
      "  Finished run #2, loss 1.1832983377868533e-11, best loss 1.1832983377868533e-11\n",
      "loss is smaller than 1e-05, terminating learning process\n",
      "3 minutes 6 seconds passed from the start, the iteration took 3 seconds\n",
      "ground truth and obtained formula\n"
     ]
    },
    {
     "data": {
      "text/latex": [
       "$\\displaystyle -0.014x_{1}^{3}+0.342x_{2}^{2}-0.814x_{3}^{6}+0.378$"
      ],
      "text/plain": [
       "<IPython.core.display.Math object>"
      ]
     },
     "metadata": {},
     "output_type": "display_data"
    },
    {
     "data": {
      "text/latex": [
       "$\\displaystyle \\left(-0.014x_1^{2.997} + 0.342x_2^{2.000}-0.814x_3^{6.000} + 0.378\\right)$"
      ],
      "text/plain": [
       "<IPython.core.display.Math object>"
      ]
     },
     "metadata": {},
     "output_type": "display_data"
    },
    {
     "name": "stdout",
     "output_type": "stream",
     "text": [
      "MSE between formula parameters is 9.018604936760181e-07\n",
      "EXACT RECOVERY\n",
      "\n",
      "################################################################################\n",
      "MSEs between parameters:\n",
      "[5.667260058065235e-09, 1.1465926620855628e-10, 1.1858755247625855e-10, 3.3764445208005004e-10, 1.4469741119579486e-08, 1.5023411086596232e-10, 3.4865421660867923e-10, 1.1178741107390318e-08, 2.363041794779213e-08, 9.018604936760181e-07]\n",
      "For 10 formulas out of 10 the error is less than 1e-05.\n"
     ]
    }
   ],
   "source": [
    "explore.explore(max_power=6)"
   ]
  },
  {
   "cell_type": "code",
   "execution_count": 46,
   "metadata": {
    "scrolled": false
   },
   "outputs": [
    {
     "name": "stdout",
     "output_type": "stream",
     "text": [
      "\n",
      "\n",
      "----------------------------Exploring new formula #1----------------------------\n",
      "  Initialization #1\n",
      "  Finished run #1, loss 0.0005649023805744946, best loss 0.0005649023805744946\n",
      "  Initialization #2\n",
      "  Finished run #2, loss 3.363373165046757e-12, best loss 3.363373165046757e-12\n",
      "loss is smaller than 1e-05, terminating learning process\n",
      "3 seconds passed from the start, the iteration took 3 seconds\n",
      "ground truth and obtained formula\n"
     ]
    },
    {
     "data": {
      "text/latex": [
       "$\\displaystyle 2.049x_{1}^{3.333}+0.114x_{2}^{4.667}+1.084x_{3}^{1.667}-0.099$"
      ],
      "text/plain": [
       "<IPython.core.display.Math object>"
      ]
     },
     "metadata": {},
     "output_type": "display_data"
    },
    {
     "data": {
      "text/latex": [
       "$\\displaystyle \\left(2.049x_1^{3.333} + 0.114x_2^{4.667} + 1.084x_3^{1.667}-0.099\\right)$"
      ],
      "text/plain": [
       "<IPython.core.display.Math object>"
      ]
     },
     "metadata": {},
     "output_type": "display_data"
    },
    {
     "name": "stdout",
     "output_type": "stream",
     "text": [
      "MSE between formula parameters is 1.0837911044804726e-09\n",
      "EXACT RECOVERY\n",
      "\n",
      "\n",
      "----------------------------Exploring new formula #2----------------------------\n",
      "  Initialization #1\n",
      "  Finished run #1, loss 0.043854933232069016, best loss 0.043854933232069016\n",
      "  Initialization #2\n",
      "  Finished run #2, loss 5.613911113755421e-09, best loss 5.613911113755421e-09\n",
      "loss is smaller than 1e-05, terminating learning process\n",
      "15 seconds passed from the start, the iteration took 12 seconds\n",
      "ground truth and obtained formula\n"
     ]
    },
    {
     "data": {
      "text/latex": [
       "$\\displaystyle -1.221x_{1}^{2.0}-1.776x_{2}^{0.667}-1.643x_{3}^{1.333}+1.616$"
      ],
      "text/plain": [
       "<IPython.core.display.Math object>"
      ]
     },
     "metadata": {},
     "output_type": "display_data"
    },
    {
     "data": {
      "text/latex": [
       "$\\displaystyle \\left(-1.221x_1^{2.000}-1.776x_2^{0.667}-1.643x_3^{1.334} + 1.615\\right)$"
      ],
      "text/plain": [
       "<IPython.core.display.Math object>"
      ]
     },
     "metadata": {},
     "output_type": "display_data"
    },
    {
     "name": "stdout",
     "output_type": "stream",
     "text": [
      "MSE between formula parameters is 7.233614190178222e-08\n",
      "EXACT RECOVERY\n",
      "\n",
      "\n",
      "----------------------------Exploring new formula #3----------------------------\n",
      "  Initialization #1\n",
      "  Finished run #1, loss 0.028962085023522377, best loss 0.028962085023522377\n",
      "  Initialization #2\n",
      "  Finished run #2, loss 4.988416549167596e-05, best loss 4.988416549167596e-05\n",
      "  Initialization #3\n",
      "  Finished run #3, loss 0.026912150904536247, best loss 4.988416549167596e-05\n",
      "  Initialization #4\n",
      "  Finished run #4, loss 0.14470908045768738, best loss 4.988416549167596e-05\n",
      "  Initialization #5\n",
      "  Finished run #5, loss 5.1276245358167216e-05, best loss 4.988416549167596e-05\n",
      "  Initialization #6\n",
      "    Epoch 5000, current loss 0.153, current formula \\left(0.061x_1^{14.948} + 13.875x_2^{-0.027}-12.422x_3^{-0.014}-2.685\\right)\n",
      "  Finished run #6, loss 0.15167467296123505, best loss 4.988416549167596e-05\n",
      "  Initialization #7\n",
      "  Finished run #7, loss 5.1009068556595594e-05, best loss 4.988416549167596e-05\n",
      "  Initialization #8\n",
      "  Finished run #8, loss 0.029082538560032845, best loss 4.988416549167596e-05\n",
      "  Initialization #9\n",
      "  Finished run #9, loss 0.02650262415409088, best loss 4.988416549167596e-05\n",
      "  Initialization #10\n",
      "  Finished run #10, loss 0.13250789046287537, best loss 4.988416549167596e-05\n",
      "1 minutes 27 seconds passed from the start, the iteration took 1 minutes 12 seconds\n",
      "ground truth and obtained formula\n"
     ]
    },
    {
     "data": {
      "text/latex": [
       "$\\displaystyle 0.033x_{1}^{3.667}-1.803x_{2}^{1.667}+0.798x_{3}^{2.333}-0.584$"
      ],
      "text/plain": [
       "<IPython.core.display.Math object>"
      ]
     },
     "metadata": {},
     "output_type": "display_data"
    },
    {
     "data": {
      "text/latex": [
       "$\\displaystyle \\left(-1.351x_1^{-0.004}-1.803x_2^{1.664} + 0.799x_3^{2.329} + 0.779\\right)$"
      ],
      "text/plain": [
       "<IPython.core.display.Math object>"
      ]
     },
     "metadata": {},
     "output_type": "display_data"
    },
    {
     "name": "stdout",
     "output_type": "stream",
     "text": [
      "MSE between formula parameters is 2.464195771728083\n",
      "FAILURE\n",
      "\n",
      "\n",
      "----------------------------Exploring new formula #4----------------------------\n",
      "  Initialization #1\n",
      "  Finished run #1, loss 0.00016132325981743634, best loss 0.00016132325981743634\n",
      "  Initialization #2\n",
      "  Finished run #2, loss 5.5267452940543915e-12, best loss 5.5267452940543915e-12\n",
      "loss is smaller than 1e-05, terminating learning process\n",
      "1 minutes 31 seconds passed from the start, the iteration took 3 seconds\n",
      "ground truth and obtained formula\n"
     ]
    },
    {
     "data": {
      "text/latex": [
       "$\\displaystyle -1.232x_{1}^{2.333}+0.259x_{2}^{4.0}-0.06x_{3}^{2.667}-0.169$"
      ],
      "text/plain": [
       "<IPython.core.display.Math object>"
      ]
     },
     "metadata": {},
     "output_type": "display_data"
    },
    {
     "data": {
      "text/latex": [
       "$\\displaystyle \\left(-1.232x_1^{2.333} + 0.259x_2^{4.000}-0.060x_3^{2.666}-0.169\\right)$"
      ],
      "text/plain": [
       "<IPython.core.display.Math object>"
      ]
     },
     "metadata": {},
     "output_type": "display_data"
    },
    {
     "name": "stdout",
     "output_type": "stream",
     "text": [
      "MSE between formula parameters is 3.936620335265317e-08\n",
      "EXACT RECOVERY\n",
      "\n",
      "\n",
      "----------------------------Exploring new formula #5----------------------------\n",
      "  Initialization #1\n",
      "  Finished run #1, loss 0.017211973667144775, best loss 0.017211973667144775\n",
      "  Initialization #2\n",
      "  Finished run #2, loss 1.972271304606643e-12, best loss 1.972271304606643e-12\n",
      "loss is smaller than 1e-05, terminating learning process\n",
      "1 minutes 39 seconds passed from the start, the iteration took 9 seconds\n",
      "ground truth and obtained formula\n"
     ]
    },
    {
     "data": {
      "text/latex": [
       "$\\displaystyle -0.623x_{1}^{2.0}-1.421x_{2}^{2.667}+1.193x_{3}^{2.333}-1.313$"
      ],
      "text/plain": [
       "<IPython.core.display.Math object>"
      ]
     },
     "metadata": {},
     "output_type": "display_data"
    },
    {
     "data": {
      "text/latex": [
       "$\\displaystyle \\left(-0.623x_1^{2.000}-1.421x_2^{2.667} + 1.193x_3^{2.333}-1.313\\right)$"
      ],
      "text/plain": [
       "<IPython.core.display.Math object>"
      ]
     },
     "metadata": {},
     "output_type": "display_data"
    },
    {
     "name": "stdout",
     "output_type": "stream",
     "text": [
      "MSE between formula parameters is 6.349257627594592e-11\n",
      "EXACT RECOVERY\n",
      "\n",
      "\n",
      "----------------------------Exploring new formula #6----------------------------\n",
      "  Initialization #1\n",
      "    Epoch 5000, current loss 0.0459, current formula \\left(-8.472x_1^{-0.034} + 7.621x_2^{-0.010}-2.173x_3^{3.907} + 1.297\\right)\n",
      "  Finished run #1, loss 0.045699264854192734, best loss 0.045699264854192734\n",
      "  Initialization #2\n",
      "  Finished run #2, loss 0.03883028030395508, best loss 0.03883028030395508\n",
      "  Initialization #3\n",
      "  Finished run #3, loss 0.010128953494131565, best loss 0.010128953494131565\n",
      "  Initialization #4\n",
      "    Epoch 5000, current loss 0.225, current formula \\left(1.250x_1^{0.741}-0.498x_2^{3.728} + 7.295x_3^{-0.041}-8.444\\right)\n",
      "    Epoch 10000, current loss 0.223, current formula \\left(1.254x_1^{0.735}-0.498x_2^{3.743} + 11.863x_3^{-0.026}-13.029\\right)\n",
      "  Finished run #4, loss 0.2226993441581726, best loss 0.010128953494131565\n",
      "  Initialization #5\n",
      "  Finished run #5, loss 4.736817708905772e-12, best loss 4.736817708905772e-12\n",
      "loss is smaller than 1e-05, terminating learning process\n",
      "2 minutes 55 seconds passed from the start, the iteration took 1 minutes 16 seconds\n",
      "ground truth and obtained formula\n"
     ]
    },
    {
     "data": {
      "text/latex": [
       "$\\displaystyle 1.241x_{1}^{1.0}-0.46x_{2}^{3.667}-2.218x_{3}^{4.0}-0.299$"
      ],
      "text/plain": [
       "<IPython.core.display.Math object>"
      ]
     },
     "metadata": {},
     "output_type": "display_data"
    },
    {
     "data": {
      "text/latex": [
       "$\\displaystyle \\left(1.241x_1^{1.000}-0.460x_2^{3.667}-2.218x_3^{4.000}-0.299\\right)$"
      ],
      "text/plain": [
       "<IPython.core.display.Math object>"
      ]
     },
     "metadata": {},
     "output_type": "display_data"
    },
    {
     "name": "stdout",
     "output_type": "stream",
     "text": [
      "MSE between formula parameters is 6.099755621237688e-11\n",
      "EXACT RECOVERY\n",
      "\n",
      "\n",
      "----------------------------Exploring new formula #7----------------------------\n",
      "  Initialization #1\n",
      "  Finished run #1, loss 4.2805082395291905e-12, best loss 4.2805082395291905e-12\n",
      "loss is smaller than 1e-05, terminating learning process\n",
      "2 minutes 57 seconds passed from the start, the iteration took 1 seconds\n",
      "ground truth and obtained formula\n"
     ]
    },
    {
     "data": {
      "text/latex": [
       "$\\displaystyle 3.203x_{1}^{2.333}-1.724x_{2}^{4.333}-0.757x_{3}^{1.667}-1.98$"
      ],
      "text/plain": [
       "<IPython.core.display.Math object>"
      ]
     },
     "metadata": {},
     "output_type": "display_data"
    },
    {
     "data": {
      "text/latex": [
       "$\\displaystyle \\left(3.203x_1^{2.333}-1.724x_2^{4.333}-0.757x_3^{1.667}-1.980\\right)$"
      ],
      "text/plain": [
       "<IPython.core.display.Math object>"
      ]
     },
     "metadata": {},
     "output_type": "display_data"
    },
    {
     "name": "stdout",
     "output_type": "stream",
     "text": [
      "MSE between formula parameters is 8.138962519816622e-11\n",
      "EXACT RECOVERY\n",
      "\n",
      "\n",
      "----------------------------Exploring new formula #8----------------------------\n",
      "  Initialization #1\n",
      "  Finished run #1, loss 0.016357822343707085, best loss 0.016357822343707085\n",
      "  Initialization #2\n",
      "  Finished run #2, loss 6.806492820032872e-06, best loss 6.806492820032872e-06\n",
      "loss is smaller than 1e-05, terminating learning process\n",
      "2 minutes 60 seconds passed from the start, the iteration took 3 seconds\n",
      "ground truth and obtained formula\n"
     ]
    },
    {
     "data": {
      "text/latex": [
       "$\\displaystyle -0.609x_{1}^{4.667}+0.781x_{2}^{5.0}-0.898x_{3}^{0.333}+1.012$"
      ],
      "text/plain": [
       "<IPython.core.display.Math object>"
      ]
     },
     "metadata": {},
     "output_type": "display_data"
    },
    {
     "data": {
      "text/latex": [
       "$\\displaystyle \\left(-0.608x_1^{4.660} + 0.780x_2^{4.990}-0.940x_3^{0.310} + 1.056\\right)$"
      ],
      "text/plain": [
       "<IPython.core.display.Math object>"
      ]
     },
     "metadata": {},
     "output_type": "display_data"
    },
    {
     "name": "stdout",
     "output_type": "stream",
     "text": [
      "MSE between formula parameters is 0.0006299513376686962\n",
      "FAILURE\n",
      "\n",
      "\n",
      "----------------------------Exploring new formula #9----------------------------\n",
      "  Initialization #1\n",
      "  Finished run #1, loss 1.62283077601022e-12, best loss 1.62283077601022e-12\n",
      "loss is smaller than 1e-05, terminating learning process\n",
      "3 minutes 1 seconds passed from the start, the iteration took 2 seconds\n",
      "ground truth and obtained formula\n"
     ]
    },
    {
     "data": {
      "text/latex": [
       "$\\displaystyle -1.027x_{1}^{4.667}+1.451x_{2}^{2.333}-1.368x_{3}^{2.667}-0.876$"
      ],
      "text/plain": [
       "<IPython.core.display.Math object>"
      ]
     },
     "metadata": {},
     "output_type": "display_data"
    },
    {
     "data": {
      "text/latex": [
       "$\\displaystyle \\left(-1.027x_1^{4.667} + 1.451x_2^{2.333}-1.368x_3^{2.667}-0.876\\right)$"
      ],
      "text/plain": [
       "<IPython.core.display.Math object>"
      ]
     },
     "metadata": {},
     "output_type": "display_data"
    },
    {
     "name": "stdout",
     "output_type": "stream",
     "text": [
      "MSE between formula parameters is 4.5763519957680336e-11\n",
      "EXACT RECOVERY\n",
      "\n",
      "\n",
      "----------------------------Exploring new formula #10----------------------------\n",
      "  Initialization #1\n",
      "  Finished run #1, loss 7.805804489180446e-05, best loss 7.805804489180446e-05\n",
      "  Initialization #2\n",
      "  Finished run #2, loss 0.04445670545101166, best loss 7.805804489180446e-05\n",
      "  Initialization #3\n",
      "  Finished run #3, loss 7.458134496118873e-05, best loss 7.458134496118873e-05\n",
      "  Initialization #4\n",
      "  Finished run #4, loss 6.3320629124064e-05, best loss 6.3320629124064e-05\n",
      "  Initialization #5\n",
      "  Finished run #5, loss 0.04257139191031456, best loss 6.3320629124064e-05\n",
      "  Initialization #6\n",
      "  Finished run #6, loss 0.04354075714945793, best loss 6.3320629124064e-05\n",
      "  Initialization #7\n",
      "  Finished run #7, loss 0.04352091625332832, best loss 6.3320629124064e-05\n",
      "  Initialization #8\n",
      "  Finished run #8, loss 6.833985389675945e-05, best loss 6.3320629124064e-05\n",
      "  Initialization #9\n",
      "    Epoch 5000, current loss 0.19, current formula \\left(-7.580x_1^{-0.043}-0.033x_2^{1.028} + 1.034x_3^{4.753} + 8.133\\right)\n",
      "  Finished run #9, loss 0.18901683390140533, best loss 6.3320629124064e-05\n",
      "  Initialization #10\n",
      "  Finished run #10, loss 0.24506711959838867, best loss 6.3320629124064e-05\n",
      "3 minutes 57 seconds passed from the start, the iteration took 56 seconds\n",
      "ground truth and obtained formula\n"
     ]
    },
    {
     "data": {
      "text/latex": [
       "$\\displaystyle 1.913x_{1}^{3.333}-0.043x_{2}^{1.667}+0.953x_{3}^{4.333}-0.265$"
      ],
      "text/plain": [
       "<IPython.core.display.Math object>"
      ]
     },
     "metadata": {},
     "output_type": "display_data"
    },
    {
     "data": {
      "text/latex": [
       "$\\displaystyle \\left(1.913x_1^{3.330}-2.160x_2^{0.005} + 0.954x_3^{4.325} + 1.869\\right)$"
      ],
      "text/plain": [
       "<IPython.core.display.Math object>"
      ]
     },
     "metadata": {},
     "output_type": "display_data"
    },
    {
     "name": "stdout",
     "output_type": "stream",
     "text": [
      "MSE between formula parameters is 1.6850588041040635\n",
      "FAILURE\n",
      "\n",
      "################################################################################\n",
      "MSEs between parameters:\n",
      "[1.0837911044804726e-09, 7.233614190178222e-08, 2.464195771728083, 3.936620335265317e-08, 6.349257627594592e-11, 6.099755621237688e-11, 8.138962519816622e-11, 0.0006299513376686962, 4.5763519957680336e-11, 1.6850588041040635]\n",
      "For 7 formulas out of 10 the error is less than 1e-05.\n"
     ]
    }
   ],
   "source": [
    "explore.explore(max_power=15, divide_powers_by=3)"
   ]
  },
  {
   "cell_type": "code",
   "execution_count": null,
   "metadata": {},
   "outputs": [],
   "source": []
  }
 ],
 "metadata": {
  "accelerator": "GPU",
  "colab": {
   "name": "demonstration.ipynb",
   "provenance": []
  },
  "kernelspec": {
   "display_name": "Python 3",
   "language": "python",
   "name": "python3"
  },
  "language_info": {
   "codemirror_mode": {
    "name": "ipython",
    "version": 3
   },
   "file_extension": ".py",
   "mimetype": "text/x-python",
   "name": "python",
   "nbconvert_exporter": "python",
   "pygments_lexer": "ipython3",
   "version": "3.7.3"
  }
 },
 "nbformat": 4,
 "nbformat_minor": 1
}
