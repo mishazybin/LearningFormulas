{
 "cells": [
  {
   "cell_type": "markdown",
   "metadata": {},
   "source": [
    "In this notebook we explore how well the algorithm is capable of recovering the following dependencies:\n",
    "- Linear combination of 3 variables and bias with standard-normally distributed coefficients\n",
    "  \n",
    "  We can see that in 5 cases out of 10 the formulas are recovered exactly, while in other 5 cases there is a strong similarity (the degree of one variable is a small number, and the loss is compensated by the bias term).\n",
    "\n",
    "\n",
    "- Linear combination of 3 squared variables and bias with standard-normally distributed coefficients\n",
    "\n",
    "    We can clearly see that all formulas are recovered exactly.\n",
    "\n",
    "\n",
    "- Linear combination of 3 variables with powers uniformly distributed over {1, 2 ,3 ,4, 5} and standard-normally distributed coefficients\n",
    "\n",
    "    We can see that in 7 cases out of 10 the formulas are recovered exactly, while in other 3 cases there is no similarity (the degree of one variable is a small number, and the loss is compensated by the bias term)."
   ]
  },
  {
   "cell_type": "code",
   "execution_count": 14,
   "metadata": {
    "colab": {},
    "colab_type": "code",
    "id": "q41R-POjCq1e"
   },
   "outputs": [
    {
     "data": {
      "text/html": [
       "<style>.container { width:100% !important; }</style>"
      ],
      "text/plain": [
       "<IPython.core.display.HTML object>"
      ]
     },
     "metadata": {},
     "output_type": "display_data"
    }
   ],
   "source": [
    "import numpy as np\n",
    "import pandas as pd\n",
    "from matplotlib import pyplot as plt\n",
    "from torch.nn import MSELoss\n",
    "import torch\n",
    "import torch.nn as nn\n",
    "import torch.nn.functional as F\n",
    "import torch.optim as optim\n",
    "import copy\n",
    "import time\n",
    "from IPython.display import display, Math, Latex\n",
    "\n",
    "import Formula\n",
    "from functions import *\n",
    "import importlib\n",
    "from hessian import hessian\n",
    "from IPython.core.display import display, HTML\n",
    "display(HTML(\"<style>.container { width:100% !important; }</style>\"))\n",
    "\n",
    "device = torch.device(\"cpu\")\n",
    "if torch.cuda.is_available():\n",
    "    device = torch.device(\"cuda\")"
   ]
  },
  {
   "cell_type": "code",
   "execution_count": 15,
   "metadata": {},
   "outputs": [
    {
     "data": {
      "text/plain": [
       "<module 'functions' from '/home/zybinmikhail/Documents/personal github projects/LearningFormulas/functions.py'>"
      ]
     },
     "execution_count": 15,
     "metadata": {},
     "output_type": "execute_result"
    }
   ],
   "source": [
    "importlib.reload(Formula)\n",
    "importlib.reload(functions)"
   ]
  },
  {
   "cell_type": "markdown",
   "metadata": {},
   "source": [
    "## Linear combination of 3 variables and bias with standard-normally distributed coefficients"
   ]
  },
  {
   "cell_type": "code",
   "execution_count": 17,
   "metadata": {
    "scrolled": false
   },
   "outputs": [
    {
     "name": "stdout",
     "output_type": "stream",
     "text": [
      "\n",
      "################################################\n",
      "Exploring new formula #1\n",
      "  Initialization #1\n",
      "  Finished run #1, loss 7.354784337110232e-09, best loss 7.354784337110232e-09\n",
      "loss is smaller than 0.001, terminating learning process\n",
      " 5 seconds passed from start, the iteration took 5 seconds\n",
      "The ground truth is 0.31715x_1 + 0.83558x_2 + 0.54501x_3 + 0.43609\n",
      "the obtained formula is\n"
     ]
    },
    {
     "data": {
      "text/latex": [
       "$\\displaystyle \\left(0.317x_1^{0.999} + 0.836x_2^{1.000} + 0.545x_3^{0.999} + 0.436\\right)$"
      ],
      "text/plain": [
       "<IPython.core.display.Math object>"
      ]
     },
     "metadata": {},
     "output_type": "display_data"
    },
    {
     "name": "stdout",
     "output_type": "stream",
     "text": [
      "\n",
      "################################################\n",
      "Exploring new formula #2\n",
      "  Initialization #1\n",
      "  Finished run #1, loss 0.07719771564006805, best loss 0.07719771564006805\n",
      "  Initialization #2\n",
      "  Finished run #2, loss 0.0005962764844298363, best loss 0.0005962764844298363\n",
      "loss is smaller than 0.001, terminating learning process\n",
      " 18 seconds passed from start, the iteration took 12 seconds\n",
      "The ground truth is 3.12719x_1 + 1.56414x_2 + 0.15039x_3 + 0.32429\n",
      "the obtained formula is\n"
     ]
    },
    {
     "data": {
      "text/latex": [
       "$\\displaystyle \\left(3.127x_1^{0.993} + 1.559x_2^{1.002}-0.225x_3^{-0.123} + 0.655\\right)$"
      ],
      "text/plain": [
       "<IPython.core.display.Math object>"
      ]
     },
     "metadata": {},
     "output_type": "display_data"
    },
    {
     "name": "stdout",
     "output_type": "stream",
     "text": [
      "\n",
      "################################################\n",
      "Exploring new formula #3\n",
      "  Initialization #1\n",
      "  Finished run #1, loss 5.107520517633191e-10, best loss 5.107520517633191e-10\n",
      "loss is smaller than 0.001, terminating learning process\n",
      " 24 seconds passed from start, the iteration took 6 seconds\n",
      "The ground truth is -0.92582x_1 + -1.55681x_2 + 0.88303x_3 + -0.71055\n",
      "the obtained formula is\n"
     ]
    },
    {
     "data": {
      "text/latex": [
       "$\\displaystyle \\left(-0.926x_1^{1.000}-1.557x_2^{1.000} + 0.883x_3^{1.000}-0.711\\right)$"
      ],
      "text/plain": [
       "<IPython.core.display.Math object>"
      ]
     },
     "metadata": {},
     "output_type": "display_data"
    },
    {
     "name": "stdout",
     "output_type": "stream",
     "text": [
      "\n",
      "################################################\n",
      "Exploring new formula #4\n",
      "  Initialization #1\n",
      "  Finished run #1, loss 0.0018470723880454898, best loss 0.0018470723880454898\n",
      "  Initialization #2\n",
      "  Finished run #2, loss 0.040945861488580704, best loss 0.0018470723880454898\n",
      "  Initialization #3\n",
      "  Finished run #3, loss 7.75964270616214e-09, best loss 7.75964270616214e-09\n",
      "loss is smaller than 0.001, terminating learning process\n",
      "1 minutes  9 seconds passed from start, the iteration took 44 seconds\n",
      "The ground truth is 1.28387x_1 + -0.35734x_2 + -1.74598x_3 + -3.07352\n",
      "the obtained formula is\n"
     ]
    },
    {
     "data": {
      "text/latex": [
       "$\\displaystyle \\left(1.284x_1^{1.000}-0.358x_2^{0.998}-1.746x_3^{1.000}-3.073\\right)$"
      ],
      "text/plain": [
       "<IPython.core.display.Math object>"
      ]
     },
     "metadata": {},
     "output_type": "display_data"
    },
    {
     "name": "stdout",
     "output_type": "stream",
     "text": [
      "\n",
      "################################################\n",
      "Exploring new formula #5\n",
      "  Initialization #1\n",
      "  Finished run #1, loss 0.003639231203123927, best loss 0.003639231203123927\n",
      "  Initialization #2\n",
      "  Finished run #2, loss 0.003334730863571167, best loss 0.003334730863571167\n",
      "  Initialization #3\n",
      "  Finished run #3, loss 0.023751549422740936, best loss 0.003334730863571167\n",
      "  Initialization #4\n",
      "  Finished run #4, loss 6.818019755883142e-05, best loss 6.818019755883142e-05\n",
      "loss is smaller than 0.001, terminating learning process\n",
      "1 minutes  30 seconds passed from start, the iteration took 21 seconds\n",
      "The ground truth is 0.40122x_1 + -0.06670x_2 + -0.86815x_3 + -1.37258\n",
      "the obtained formula is\n"
     ]
    },
    {
     "data": {
      "text/latex": [
       "$\\displaystyle \\left(0.400x_1^{1.000}-0.257x_2^{0.082}-0.867x_3^{1.004}-1.170\\right)$"
      ],
      "text/plain": [
       "<IPython.core.display.Math object>"
      ]
     },
     "metadata": {},
     "output_type": "display_data"
    },
    {
     "name": "stdout",
     "output_type": "stream",
     "text": [
      "\n",
      "################################################\n",
      "Exploring new formula #6\n",
      "  Initialization #1\n",
      "  Finished run #1, loss 0.0013618055963888764, best loss 0.0013618055963888764\n",
      "  Initialization #2\n",
      "  Finished run #2, loss 6.027839338784702e-10, best loss 6.027839338784702e-10\n",
      "loss is smaller than 0.001, terminating learning process\n",
      "1 minutes  37 seconds passed from start, the iteration took 7 seconds\n",
      "The ground truth is 0.46209x_1 + -0.27748x_2 + -0.21754x_3 + -0.27988\n",
      "the obtained formula is\n"
     ]
    },
    {
     "data": {
      "text/latex": [
       "$\\displaystyle \\left(0.462x_1^{1.000}-0.277x_2^{1.000}-0.218x_3^{0.999}-0.280\\right)$"
      ],
      "text/plain": [
       "<IPython.core.display.Math object>"
      ]
     },
     "metadata": {},
     "output_type": "display_data"
    },
    {
     "name": "stdout",
     "output_type": "stream",
     "text": [
      "\n",
      "################################################\n",
      "Exploring new formula #7\n",
      "  Initialization #1\n",
      "  Finished run #1, loss 0.0002936694072559476, best loss 0.0002936694072559476\n",
      "loss is smaller than 0.001, terminating learning process\n",
      "1 minutes  42 seconds passed from start, the iteration took 5 seconds\n",
      "The ground truth is -0.15868x_1 + -0.45698x_2 + -0.09552x_3 + 0.63750\n",
      "the obtained formula is\n"
     ]
    },
    {
     "data": {
      "text/latex": [
       "$\\displaystyle \\left(-0.160x_1^{1.010}-0.460x_2^{0.987} + 0.107x_3^{-0.137} + 0.469\\right)$"
      ],
      "text/plain": [
       "<IPython.core.display.Math object>"
      ]
     },
     "metadata": {},
     "output_type": "display_data"
    },
    {
     "name": "stdout",
     "output_type": "stream",
     "text": [
      "\n",
      "################################################\n",
      "Exploring new formula #8\n",
      "  Initialization #1\n",
      "  Finished run #1, loss 1.1544627059878465e-10, best loss 1.1544627059878465e-10\n",
      "loss is smaller than 0.001, terminating learning process\n",
      "1 minutes  46 seconds passed from start, the iteration took 5 seconds\n",
      "The ground truth is 1.48704x_1 + 0.54750x_2 + -0.19536x_3 + -0.30504\n",
      "the obtained formula is\n"
     ]
    },
    {
     "data": {
      "text/latex": [
       "$\\displaystyle \\left(1.487x_1^{1.000} + 0.547x_2^{1.000}-0.195x_3^{1.000}-0.305\\right)$"
      ],
      "text/plain": [
       "<IPython.core.display.Math object>"
      ]
     },
     "metadata": {},
     "output_type": "display_data"
    },
    {
     "name": "stdout",
     "output_type": "stream",
     "text": [
      "\n",
      "################################################\n",
      "Exploring new formula #9\n",
      "  Initialization #1\n",
      "  Finished run #1, loss 0.0001363002957077697, best loss 0.0001363002957077697\n",
      "loss is smaller than 0.001, terminating learning process\n",
      "1 minutes  50 seconds passed from start, the iteration took 4 seconds\n",
      "The ground truth is -1.22015x_1 + 0.08139x_2 + -0.48730x_3 + -0.01266\n",
      "the obtained formula is\n"
     ]
    },
    {
     "data": {
      "text/latex": [
       "$\\displaystyle \\left(-1.221x_1^{1.000}-1.742x_2^{-0.012}-0.489x_3^{0.995} + 1.792\\right)$"
      ],
      "text/plain": [
       "<IPython.core.display.Math object>"
      ]
     },
     "metadata": {},
     "output_type": "display_data"
    },
    {
     "name": "stdout",
     "output_type": "stream",
     "text": [
      "\n",
      "################################################\n",
      "Exploring new formula #10\n",
      "  Initialization #1\n",
      "  Finished run #1, loss 0.0013196622021496296, best loss 0.0013196622021496296\n",
      "  Initialization #2\n",
      "    Epoch 5000, current loss 0.0412, current formula \\left(11.298x_1^{-0.022} + 2.196x_2^{-0.032}-11.837x_3^{-0.015}-1.508\\right)\n",
      "  Finished run #2, loss 0.04066174477338791, best loss 0.0013196622021496296\n",
      "  Initialization #3\n",
      "  Finished run #3, loss 0.0009663255768828094, best loss 0.0009663255768828094\n",
      "loss is smaller than 0.001, terminating learning process\n",
      "3 minutes  17 seconds passed from start, the iteration took 1 minutes 27 seconds\n",
      "The ground truth is -1.07782x_1 + -0.28131x_2 + 0.75905x_3 + 0.59306\n",
      "the obtained formula is\n"
     ]
    },
    {
     "data": {
      "text/latex": [
       "$\\displaystyle \\left(-1.079x_1^{0.991}-0.641x_2^{0.167} + 0.755x_3^{1.015} + 1.011\\right)$"
      ],
      "text/plain": [
       "<IPython.core.display.Math object>"
      ]
     },
     "metadata": {},
     "output_type": "display_data"
    }
   ],
   "source": [
    "cnt = time.perf_counter()\n",
    "\n",
    "for i in range(10):\n",
    "    print(f\"\\n################################################\\nExploring new formula #{i + 1}\")\n",
    "    X = torch.rand(1000, 3)\n",
    "    b = torch.randn(1)\n",
    "    coeffs = torch.randn((3, 1))\n",
    "    y = X @ coeffs + b\n",
    "    cnt_iteration = time.perf_counter()\n",
    "    regressor = Formula.LearnFormula(X, y, optimizer_for_formula=torch.optim.Rprop, n_init=10)\n",
    "    time_from_start = time.perf_counter() - cnt\n",
    "    time_iteration = time.perf_counter() - cnt_iteration\n",
    "    min_from_start, sec_from_start = divmod(time_from_start, 60)\n",
    "    min_iteration, sec_iteration = divmod(time_iteration, 60)\n",
    "    print(f\"{remove_zero_minutes(min_from_start)}{sec_from_start :.0f} seconds passed from start, the iteration took {remove_zero_minutes(min_iteration)}{sec_iteration :.0f} seconds\")\n",
    "    print(f\"The ground truth is {coeffs[0].item() :.5f}x_1 + {coeffs[1].item() :.5f}x_2 + {coeffs[2].item() :.5f}x_3 + {b.item() :.5f}\")\n",
    "    print(\"the obtained formula is\")\n",
    "    PrintFormula(regressor[0])"
   ]
  },
  {
   "cell_type": "markdown",
   "metadata": {},
   "source": [
    "We can see that in 5 cases out of 10 the formulas are recovered exactly, while in other 5 cases there is a strong similarity (the degree of one variable is a small number, and the loss is compensated by the bias term)."
   ]
  },
  {
   "cell_type": "markdown",
   "metadata": {},
   "source": [
    "## Linear combination of 3 squared variables and bias with standard-normally distributed coefficients"
   ]
  },
  {
   "cell_type": "code",
   "execution_count": 13,
   "metadata": {
    "scrolled": false
   },
   "outputs": [
    {
     "name": "stdout",
     "output_type": "stream",
     "text": [
      "\n",
      "################################################\n",
      "Exploring new formula\n",
      "  Initialization #1\n",
      "    Epoch 5000, current loss 0.0259, current formula \\left(8.425x_1^{-0.011}-1.056x_2^{1.982}-5.304x_3^{-0.024}-2.587\\right)\n",
      "  Finished run #1, loss 0.02575080096721649, best loss 0.02575080096721649\n",
      "  Initialization #2\n",
      "  Finished run #2, loss 0.0095902718603611, best loss 0.0095902718603611\n",
      "  Initialization #3\n",
      "  Finished run #3, loss 0.047293826937675476, best loss 0.0095902718603611\n",
      "  Initialization #4\n",
      "  Finished run #4, loss 5.415963359213516e-13, best loss 5.415963359213516e-13\n",
      "loss is smaller than 0.001, terminating learning process\n",
      "1 minutes 40 seconds passed from start, the iteration took 1 minutes 40 seconds\n",
      "The ground truth is -0.46135x_1^2 + -1.05391x_2^2 + 0.64784x_3^2 + 0.41821\n",
      "the obtained formula is\n"
     ]
    },
    {
     "data": {
      "text/latex": [
       "$\\displaystyle \\left(-0.461x_1^{2.000}-1.054x_2^{2.000} + 0.648x_3^{2.000} + 0.418\\right)$"
      ],
      "text/plain": [
       "<IPython.core.display.Math object>"
      ]
     },
     "metadata": {},
     "output_type": "display_data"
    },
    {
     "name": "stdout",
     "output_type": "stream",
     "text": [
      "\n",
      "################################################\n",
      "Exploring new formula\n",
      "  Initialization #1\n",
      "  Finished run #1, loss 0.003711257129907608, best loss 0.003711257129907608\n",
      "  Initialization #2\n",
      "  Finished run #2, loss 0.003012477420270443, best loss 0.003012477420270443\n",
      "  Initialization #3\n",
      "  Finished run #3, loss 4.6382489862772935e-12, best loss 4.6382489862772935e-12\n",
      "loss is smaller than 0.001, terminating learning process\n",
      "1 minutes 53 seconds passed from start, the iteration took  13 seconds\n",
      "The ground truth is -1.92158x_1^2 + 0.29859x_2^2 + -1.72488x_3^2 + -0.71584\n",
      "the obtained formula is\n"
     ]
    },
    {
     "data": {
      "text/latex": [
       "$\\displaystyle \\left(-1.922x_1^{2.000} + 0.299x_2^{2.000}-1.725x_3^{2.000}-0.716\\right)$"
      ],
      "text/plain": [
       "<IPython.core.display.Math object>"
      ]
     },
     "metadata": {},
     "output_type": "display_data"
    },
    {
     "name": "stdout",
     "output_type": "stream",
     "text": [
      "\n",
      "################################################\n",
      "Exploring new formula\n",
      "  Initialization #1\n",
      "  Finished run #1, loss 6.161554773342903e-12, best loss 6.161554773342903e-12\n",
      "loss is smaller than 0.001, terminating learning process\n",
      "1 minutes 57 seconds passed from start, the iteration took  5 seconds\n",
      "The ground truth is -0.87280x_1^2 + -0.68851x_2^2 + 0.60958x_3^2 + 0.18754\n",
      "the obtained formula is\n"
     ]
    },
    {
     "data": {
      "text/latex": [
       "$\\displaystyle \\left(-0.873x_1^{2.000}-0.689x_2^{2.000} + 0.610x_3^{2.000} + 0.188\\right)$"
      ],
      "text/plain": [
       "<IPython.core.display.Math object>"
      ]
     },
     "metadata": {},
     "output_type": "display_data"
    },
    {
     "name": "stdout",
     "output_type": "stream",
     "text": [
      "\n",
      "################################################\n",
      "Exploring new formula\n",
      "  Initialization #1\n",
      "    Epoch 5000, current loss 0.117, current formula \\left(-1.091x_1^{1.895} + 1.370x_2^{2.168}-7.295x_3^{-0.048} + 7.958\\right)\n",
      "    Epoch 10000, current loss 0.115, current formula \\left(-1.092x_1^{1.894} + 1.370x_2^{2.162}-11.323x_3^{-0.032} + 11.997\\right)\n",
      "  Finished run #1, loss 0.11473514139652252, best loss 0.11473514139652252\n",
      "  Initialization #2\n",
      "  Finished run #2, loss 5.2393050835319865e-12, best loss 5.2393050835319865e-12\n",
      "loss is smaller than 0.001, terminating learning process\n",
      "3 minutes 36 seconds passed from start, the iteration took 1 minutes 39 seconds\n",
      "The ground truth is -1.09355x_1^2 + 1.34311x_2^2 + 1.73385x_3^2 + -0.31033\n",
      "the obtained formula is\n"
     ]
    },
    {
     "data": {
      "text/latex": [
       "$\\displaystyle \\left(-1.094x_1^{2.000} + 1.343x_2^{2.000} + 1.734x_3^{2.000}-0.310\\right)$"
      ],
      "text/plain": [
       "<IPython.core.display.Math object>"
      ]
     },
     "metadata": {},
     "output_type": "display_data"
    },
    {
     "name": "stdout",
     "output_type": "stream",
     "text": [
      "\n",
      "################################################\n",
      "Exploring new formula\n",
      "  Initialization #1\n",
      "  Finished run #1, loss 0.09681808203458786, best loss 0.09681808203458786\n",
      "  Initialization #2\n",
      "  Finished run #2, loss 0.030714891850948334, best loss 0.030714891850948334\n",
      "  Initialization #3\n",
      "  Finished run #3, loss 0.0020229965448379517, best loss 0.0020229965448379517\n",
      "  Initialization #4\n",
      "  Finished run #4, loss 0.10232152789831161, best loss 0.0020229965448379517\n",
      "  Initialization #5\n",
      "  Finished run #5, loss 1.3988738552933588e-12, best loss 1.3988738552933588e-12\n",
      "loss is smaller than 0.001, terminating learning process\n",
      "4 minutes 40 seconds passed from start, the iteration took 1 minutes 3 seconds\n",
      "The ground truth is -0.23807x_1^2 + 0.75887x_2^2 + 1.53341x_3^2 + -2.00596\n",
      "the obtained formula is\n"
     ]
    },
    {
     "data": {
      "text/latex": [
       "$\\displaystyle \\left(-0.238x_1^{2.000} + 0.759x_2^{2.000} + 1.533x_3^{2.000}-2.006\\right)$"
      ],
      "text/plain": [
       "<IPython.core.display.Math object>"
      ]
     },
     "metadata": {},
     "output_type": "display_data"
    },
    {
     "name": "stdout",
     "output_type": "stream",
     "text": [
      "\n",
      "################################################\n",
      "Exploring new formula\n",
      "  Initialization #1\n",
      "  Finished run #1, loss 1.5994885537579107e-12, best loss 1.5994885537579107e-12\n",
      "loss is smaller than 0.001, terminating learning process\n",
      "4 minutes 43 seconds passed from start, the iteration took  4 seconds\n",
      "The ground truth is -1.28443x_1^2 + -1.17497x_2^2 + -0.34448x_3^2 + -0.69709\n",
      "the obtained formula is\n"
     ]
    },
    {
     "data": {
      "text/latex": [
       "$\\displaystyle \\left(-1.284x_1^{2.000}-1.175x_2^{2.000}-0.344x_3^{2.000}-0.697\\right)$"
      ],
      "text/plain": [
       "<IPython.core.display.Math object>"
      ]
     },
     "metadata": {},
     "output_type": "display_data"
    },
    {
     "name": "stdout",
     "output_type": "stream",
     "text": [
      "\n",
      "################################################\n",
      "Exploring new formula\n",
      "  Initialization #1\n",
      "  Finished run #1, loss 0.07244506478309631, best loss 0.07244506478309631\n",
      "  Initialization #2\n",
      "    Epoch 5000, current loss 0.105, current formula \\left(-0.167x_1^{2.866}-7.658x_2^{-0.039}-1.339x_3^{2.083} + 8.422\\right)\n",
      "    Epoch 10000, current loss 0.102, current formula \\left(-0.166x_1^{2.848}-11.934x_2^{-0.026}-1.339x_3^{2.076} + 12.711\\right)\n",
      "  Finished run #2, loss 0.10210715979337692, best loss 0.07244506478309631\n",
      "  Initialization #3\n",
      "  Finished run #3, loss 0.001106248120777309, best loss 0.001106248120777309\n",
      "  Initialization #4\n",
      "  Finished run #4, loss 1.826691792619628e-12, best loss 1.826691792619628e-12\n",
      "loss is smaller than 0.001, terminating learning process\n",
      "6 minutes 54 seconds passed from start, the iteration took 2 minutes 10 seconds\n",
      "The ground truth is -0.15583x_1^2 + 1.52035x_2^2 + -1.31913x_3^2 + -0.04241\n",
      "the obtained formula is\n"
     ]
    },
    {
     "data": {
      "text/latex": [
       "$\\displaystyle \\left(-0.156x_1^{2.000} + 1.520x_2^{2.000}-1.319x_3^{2.000}-0.042\\right)$"
      ],
      "text/plain": [
       "<IPython.core.display.Math object>"
      ]
     },
     "metadata": {},
     "output_type": "display_data"
    },
    {
     "name": "stdout",
     "output_type": "stream",
     "text": [
      "\n",
      "################################################\n",
      "Exploring new formula\n",
      "  Initialization #1\n",
      "  Finished run #1, loss 1.2434580275166862e-11, best loss 1.2434580275166862e-11\n",
      "loss is smaller than 0.001, terminating learning process\n",
      "6 minutes 57 seconds passed from start, the iteration took  4 seconds\n",
      "The ground truth is 0.09355x_1^2 + 0.47588x_2^2 + 0.21546x_3^2 + -0.16814\n",
      "the obtained formula is\n"
     ]
    },
    {
     "data": {
      "text/latex": [
       "$\\displaystyle \\left(0.094x_1^{2.000} + 0.476x_2^{2.000} + 0.215x_3^{2.000}-0.168\\right)$"
      ],
      "text/plain": [
       "<IPython.core.display.Math object>"
      ]
     },
     "metadata": {},
     "output_type": "display_data"
    },
    {
     "name": "stdout",
     "output_type": "stream",
     "text": [
      "\n",
      "################################################\n",
      "Exploring new formula\n",
      "  Initialization #1\n",
      "  Finished run #1, loss 0.07074767351150513, best loss 0.07074767351150513\n",
      "  Initialization #2\n",
      "  Finished run #2, loss 0.05908520147204399, best loss 0.05908520147204399\n",
      "  Initialization #3\n",
      "  Finished run #3, loss 0.07862639427185059, best loss 0.05908520147204399\n",
      "  Initialization #4\n",
      "    Epoch 5000, current loss 0.07, current formula \\left(1.381x_1^{2.025} + 1.164x_2^{1.896} + 6.592x_3^{-0.039}-6.558\\right)\n",
      "  Finished run #4, loss 0.06955757737159729, best loss 0.05908520147204399\n",
      "  Initialization #5\n",
      "  Finished run #5, loss 0.14740465581417084, best loss 0.05908520147204399\n",
      "  Initialization #6\n",
      "    Epoch 5000, current loss 0.0761, current formula \\left(-6.147x_1^{-0.042} + 1.205x_2^{1.920}-1.365x_3^{1.992} + 7.648\\right)\n",
      "  Finished run #6, loss 0.07511308044195175, best loss 0.05908520147204399\n",
      "  Initialization #7\n",
      "  Finished run #7, loss 4.965912230037173e-12, best loss 4.965912230037173e-12\n",
      "loss is smaller than 0.001, terminating learning process\n",
      "10 minutes 41 seconds passed from start, the iteration took 3 minutes 44 seconds\n",
      "The ground truth is 1.34462x_1^2 + 1.19778x_2^2 + -1.30515x_3^2 + 0.75078\n",
      "the obtained formula is\n"
     ]
    },
    {
     "data": {
      "text/latex": [
       "$\\displaystyle \\left(1.345x_1^{2.000} + 1.198x_2^{2.000}-1.305x_3^{2.000} + 0.751\\right)$"
      ],
      "text/plain": [
       "<IPython.core.display.Math object>"
      ]
     },
     "metadata": {},
     "output_type": "display_data"
    },
    {
     "name": "stdout",
     "output_type": "stream",
     "text": [
      "\n",
      "################################################\n",
      "Exploring new formula\n",
      "  Initialization #1\n",
      "  Finished run #1, loss 7.260990853713567e-12, best loss 7.260990853713567e-12\n",
      "loss is smaller than 0.001, terminating learning process\n",
      "10 minutes 45 seconds passed from start, the iteration took  4 seconds\n",
      "The ground truth is 0.64230x_1^2 + -0.44023x_2^2 + 0.93300x_3^2 + 0.08010\n",
      "the obtained formula is\n"
     ]
    },
    {
     "data": {
      "text/latex": [
       "$\\displaystyle \\left(0.642x_1^{2.000}-0.440x_2^{2.000} + 0.933x_3^{2.000} + 0.080\\right)$"
      ],
      "text/plain": [
       "<IPython.core.display.Math object>"
      ]
     },
     "metadata": {},
     "output_type": "display_data"
    }
   ],
   "source": [
    "cnt = time.perf_counter()\n",
    "for i in range(10):\n",
    "    print(\"\\n################################################\\nExploring new formula\")\n",
    "    X = torch.rand(1000, 3)\n",
    "    b = torch.randn(1)\n",
    "    coeffs = torch.randn((3, 1))\n",
    "    y = X**2 @ coeffs + b\n",
    "#     print(f\"The ground truth is {coeffs[0].item()}x_1^2 + {coeffs[1].item()}x_2^2 + {coeffs[2].item()}x_3^2 + {b.item()}, time elapsed: {time.perf_counter() - cnt} sec\")\n",
    "    cnt_iteration = time.perf_counter()\n",
    "    regressor = Formula.LearnFormula(X, y, optimizer_for_formula=torch.optim.Rprop, n_init=10)\n",
    "    time_from_start = time.perf_counter() - cnt\n",
    "    time_iteration = time.perf_counter() - cnt_iteration\n",
    "    min_from_start, sec_from_start = divmod(time_from_start, 60)\n",
    "    min_iteration, sec_iteration = divmod(time_iteration, 60)\n",
    "    print(f\"{remove_zero_minutes(min_from_start)}{sec_from_start :.0f} seconds passed from start, the iteration took {remove_zero_minutes(min_iteration)}{sec_iteration :.0f} seconds\")\n",
    "    print(f\"The ground truth is {coeffs[0].item() :.5f}x_1^2 + {coeffs[1].item() :.5f}x_2^2 + {coeffs[2].item() :.5f}x_3^2 + {b.item() :.5f}\")\n",
    "    print(\"the obtained formula is\")\n",
    "    functions.PrintFormula(regressor[0])"
   ]
  },
  {
   "cell_type": "markdown",
   "metadata": {},
   "source": [
    "We can clearly see that all formulas are recovered exactly."
   ]
  },
  {
   "cell_type": "markdown",
   "metadata": {},
   "source": [
    "## Linear combination of 3 variables with powers uniformly distributed over {1, 2 ,3 ,4, 5} and standard-normally distributed coefficients"
   ]
  },
  {
   "cell_type": "code",
   "execution_count": 26,
   "metadata": {
    "scrolled": false
   },
   "outputs": [
    {
     "name": "stdout",
     "output_type": "stream",
     "text": [
      "\n",
      "################################################\n",
      "Exploring new formula #1\n",
      "  Initialization #1\n",
      "    Epoch 5000, current loss 0.0316, current formula \\left(-9.466x_1^{-0.026} + 7.954x_2^{-0.015}-0.845x_3^{3.716} + 2.412\\right)\n",
      "  Finished run #1, loss 0.03125760331749916, best loss 0.03125760331749916\n",
      "  Initialization #2\n",
      "  Finished run #2, loss 1.810018523951129e-10, best loss 1.810018523951129e-10\n",
      "loss is smaller than 0.001, terminating learning process\n",
      "31 seconds passed from start, the iteration took 31 seconds\n",
      "The ground truth is 1.04690x_1^1.00000 + -0.50033x_2^1.00000 + -0.85751x_3^4.00000 + 0.48699\n",
      "the obtained formula is\n"
     ]
    },
    {
     "data": {
      "text/latex": [
       "$\\displaystyle \\left(1.047x_1^{1.000}-0.500x_2^{1.000}-0.858x_3^{4.000} + 0.487\\right)$"
      ],
      "text/plain": [
       "<IPython.core.display.Math object>"
      ]
     },
     "metadata": {},
     "output_type": "display_data"
    },
    {
     "name": "stdout",
     "output_type": "stream",
     "text": [
      "\n",
      "################################################\n",
      "Exploring new formula #2\n",
      "  Initialization #1\n",
      "  Finished run #1, loss 2.7623378844737756e-12, best loss 2.7623378844737756e-12\n",
      "loss is smaller than 0.001, terminating learning process\n",
      "32 seconds passed from start, the iteration took 1 seconds\n",
      "The ground truth is 1.96755x_1^4.00000 + -2.00129x_2^4.00000 + -0.49969x_3^3.00000 + -1.02845\n",
      "the obtained formula is\n"
     ]
    },
    {
     "data": {
      "text/latex": [
       "$\\displaystyle \\left(1.968x_1^{4.000}-2.001x_2^{4.000}-0.500x_3^{3.000}-1.028\\right)$"
      ],
      "text/plain": [
       "<IPython.core.display.Math object>"
      ]
     },
     "metadata": {},
     "output_type": "display_data"
    },
    {
     "name": "stdout",
     "output_type": "stream",
     "text": [
      "\n",
      "################################################\n",
      "Exploring new formula #3\n",
      "  Initialization #1\n",
      "  Finished run #1, loss 0.04659643396735191, best loss 0.04659643396735191\n",
      "  Initialization #2\n",
      "  Finished run #2, loss 9.54726098525982e-13, best loss 9.54726098525982e-13\n",
      "loss is smaller than 0.001, terminating learning process\n",
      "51 seconds passed from start, the iteration took 19 seconds\n",
      "The ground truth is 0.05719x_1^4.00000 + -1.02649x_2^2.00000 + 0.28292x_3^3.00000 + -0.00062\n",
      "the obtained formula is\n"
     ]
    },
    {
     "data": {
      "text/latex": [
       "$\\displaystyle \\left(0.057x_1^{4.000}-1.026x_2^{2.000} + 0.283x_3^{3.000}-0.001\\right)$"
      ],
      "text/plain": [
       "<IPython.core.display.Math object>"
      ]
     },
     "metadata": {},
     "output_type": "display_data"
    },
    {
     "name": "stdout",
     "output_type": "stream",
     "text": [
      "\n",
      "################################################\n",
      "Exploring new formula #4\n",
      "  Initialization #1\n",
      "  Finished run #1, loss 0.07387366890907288, best loss 0.07387366890907288\n",
      "  Initialization #2\n",
      "  Finished run #2, loss 0.06977476924657822, best loss 0.06977476924657822\n",
      "  Initialization #3\n",
      "  Finished run #3, loss 0.008897770196199417, best loss 0.008897770196199417\n",
      "  Initialization #4\n",
      "  Finished run #4, loss 1.708343644497845e-12, best loss 1.708343644497845e-12\n",
      "loss is smaller than 0.001, terminating learning process\n",
      "59 seconds passed from start, the iteration took 8 seconds\n",
      "The ground truth is 0.34988x_1^3.00000 + -1.18744x_2^4.00000 + -0.47651x_3^4.00000 + 1.85232\n",
      "the obtained formula is\n"
     ]
    },
    {
     "data": {
      "text/latex": [
       "$\\displaystyle \\left(0.350x_1^{3.000}-1.187x_2^{4.000}-0.477x_3^{4.000} + 1.852\\right)$"
      ],
      "text/plain": [
       "<IPython.core.display.Math object>"
      ]
     },
     "metadata": {},
     "output_type": "display_data"
    },
    {
     "name": "stdout",
     "output_type": "stream",
     "text": [
      "\n",
      "################################################\n",
      "Exploring new formula #5\n",
      "  Initialization #1\n",
      "  Finished run #1, loss 0.002436675364151597, best loss 0.002436675364151597\n",
      "  Initialization #2\n",
      "  Finished run #2, loss 0.075251005589962, best loss 0.002436675364151597\n",
      "  Initialization #3\n",
      "  Finished run #3, loss 4.9128240538209855e-12, best loss 4.9128240538209855e-12\n",
      "loss is smaller than 0.001, terminating learning process\n",
      "1 minutes 13 seconds passed from start, the iteration took 14 seconds\n",
      "The ground truth is 0.40073x_1^1.00000 + 0.49468x_2^5.00000 + 1.63732x_3^1.00000 + -0.52644\n",
      "the obtained formula is\n"
     ]
    },
    {
     "data": {
      "text/latex": [
       "$\\displaystyle \\left(0.401x_1^{1.000} + 0.495x_2^{5.000} + 1.637x_3^{1.000}-0.526\\right)$"
      ],
      "text/plain": [
       "<IPython.core.display.Math object>"
      ]
     },
     "metadata": {},
     "output_type": "display_data"
    },
    {
     "name": "stdout",
     "output_type": "stream",
     "text": [
      "\n",
      "################################################\n",
      "Exploring new formula #6\n",
      "  Initialization #1\n",
      "  Finished run #1, loss 0.0014954707585275173, best loss 0.0014954707585275173\n",
      "  Initialization #2\n",
      "  Finished run #2, loss 0.005820596590638161, best loss 0.0014954707585275173\n",
      "  Initialization #3\n",
      "  Finished run #3, loss 0.0059574865736067295, best loss 0.0014954707585275173\n",
      "  Initialization #4\n",
      "  Finished run #4, loss 0.004812152124941349, best loss 0.0014954707585275173\n",
      "  Initialization #5\n",
      "  Finished run #5, loss 2.560833056025613e-12, best loss 2.560833056025613e-12\n",
      "loss is smaller than 0.001, terminating learning process\n",
      "1 minutes 23 seconds passed from start, the iteration took 10 seconds\n",
      "The ground truth is 0.18187x_1^4.00000 + 0.32836x_2^2.00000 + -0.73640x_3^5.00000 + -0.14892\n",
      "the obtained formula is\n"
     ]
    },
    {
     "data": {
      "text/latex": [
       "$\\displaystyle \\left(0.182x_1^{4.000} + 0.328x_2^{2.000}-0.736x_3^{5.000}-0.149\\right)$"
      ],
      "text/plain": [
       "<IPython.core.display.Math object>"
      ]
     },
     "metadata": {},
     "output_type": "display_data"
    },
    {
     "name": "stdout",
     "output_type": "stream",
     "text": [
      "\n",
      "################################################\n",
      "Exploring new formula #7\n",
      "  Initialization #1\n",
      "  Finished run #1, loss 0.0009458415443077683, best loss 0.0009458415443077683\n",
      "loss is smaller than 0.001, terminating learning process\n",
      "1 minutes 24 seconds passed from start, the iteration took 2 seconds\n",
      "The ground truth is -0.14255x_1^3.00000 + -1.33827x_2^2.00000 + 0.33409x_3^1.00000 + 0.10224\n",
      "the obtained formula is\n"
     ]
    },
    {
     "data": {
      "text/latex": [
       "$\\displaystyle \\left(0.661x_1^{-0.036}-1.336x_2^{2.008} + 0.330x_3^{1.009}-0.618\\right)$"
      ],
      "text/plain": [
       "<IPython.core.display.Math object>"
      ]
     },
     "metadata": {},
     "output_type": "display_data"
    },
    {
     "name": "stdout",
     "output_type": "stream",
     "text": [
      "\n",
      "################################################\n",
      "Exploring new formula #8\n",
      "  Initialization #1\n",
      "  Finished run #1, loss 0.013303198851644993, best loss 0.013303198851644993\n",
      "  Initialization #2\n",
      "  Finished run #2, loss 0.08214892446994781, best loss 0.013303198851644993\n",
      "  Initialization #3\n",
      "  Finished run #3, loss 0.05246569216251373, best loss 0.013303198851644993\n",
      "  Initialization #4\n",
      "  Finished run #4, loss 2.996856018552818e-12, best loss 2.996856018552818e-12\n",
      "loss is smaller than 0.001, terminating learning process\n",
      "1 minutes 36 seconds passed from start, the iteration took 12 seconds\n",
      "The ground truth is -0.91025x_1^5.00000 + -0.82579x_2^2.00000 + -0.51721x_3^4.00000 + -1.43149\n",
      "the obtained formula is\n"
     ]
    },
    {
     "data": {
      "text/latex": [
       "$\\displaystyle \\left(-0.910x_1^{5.000}-0.826x_2^{2.000}-0.517x_3^{4.000}-1.431\\right)$"
      ],
      "text/plain": [
       "<IPython.core.display.Math object>"
      ]
     },
     "metadata": {},
     "output_type": "display_data"
    },
    {
     "name": "stdout",
     "output_type": "stream",
     "text": [
      "\n",
      "################################################\n",
      "Exploring new formula #9\n",
      "  Initialization #1\n",
      "  Finished run #1, loss 0.17602725327014923, best loss 0.17602725327014923\n",
      "  Initialization #2\n",
      "  Finished run #2, loss 0.00014887080760672688, best loss 0.00014887080760672688\n",
      "loss is smaller than 0.001, terminating learning process\n",
      "1 minutes 50 seconds passed from start, the iteration took 15 seconds\n",
      "The ground truth is 0.06153x_1^5.00000 + -1.93765x_2^5.00000 + 0.58690x_3^4.00000 + 0.18340\n",
      "the obtained formula is\n"
     ]
    },
    {
     "data": {
      "text/latex": [
       "$\\displaystyle \\left(0.262x_1^{0.040}-1.938x_2^{4.984} + 0.587x_3^{3.988}-0.059\\right)$"
      ],
      "text/plain": [
       "<IPython.core.display.Math object>"
      ]
     },
     "metadata": {},
     "output_type": "display_data"
    },
    {
     "name": "stdout",
     "output_type": "stream",
     "text": [
      "\n",
      "################################################\n",
      "Exploring new formula #10\n",
      "  Initialization #1\n",
      "  Finished run #1, loss 0.0029752894770354033, best loss 0.0029752894770354033\n",
      "  Initialization #2\n",
      "  Finished run #2, loss 0.0030088808853179216, best loss 0.0029752894770354033\n",
      "  Initialization #3\n",
      "  Finished run #3, loss 0.0029299533925950527, best loss 0.0029299533925950527\n",
      "  Initialization #4\n",
      "  Finished run #4, loss 0.0027933071833103895, best loss 0.0027933071833103895\n",
      "  Initialization #5\n",
      "  Finished run #5, loss 0.0025655587669461966, best loss 0.0025655587669461966\n",
      "  Initialization #6\n",
      "  Finished run #6, loss 0.0048179225996136665, best loss 0.0025655587669461966\n",
      "  Initialization #7\n",
      "  Finished run #7, loss 0.005218200851231813, best loss 0.0025655587669461966\n",
      "  Initialization #8\n",
      "  Finished run #8, loss 0.004321394022554159, best loss 0.0025655587669461966\n",
      "  Initialization #9\n",
      "  Finished run #9, loss 0.0025181665550917387, best loss 0.0025181665550917387\n",
      "  Initialization #10\n",
      "  Finished run #10, loss 0.007556872442364693, best loss 0.0025181665550917387\n",
      "2 minutes 7 seconds passed from start, the iteration took 17 seconds\n",
      "The ground truth is 0.25151x_1^5.00000 + -0.33803x_2^3.00000 + -0.09138x_3^4.00000 + 2.80919\n",
      "the obtained formula is\n"
     ]
    },
    {
     "data": {
      "text/latex": [
       "$\\displaystyle \\left(0.767x_1^{0.060}-0.341x_2^{2.911}-0.091x_3^{4.357} + 2.129\\right)$"
      ],
      "text/plain": [
       "<IPython.core.display.Math object>"
      ]
     },
     "metadata": {},
     "output_type": "display_data"
    }
   ],
   "source": [
    "cnt = time.perf_counter()\n",
    "for i in range(10):\n",
    "    print(f\"\\n################################################\\nExploring new formula #{i + 1}\")\n",
    "    X = torch.rand(1000, 3)\n",
    "    b = torch.randn(1)\n",
    "    coeffs = torch.randn((3, 1))\n",
    "    powers = torch.randint(1, 6, (3, 1))\n",
    "    y = X**powers.T @ coeffs + b    \n",
    "    cnt_iteration = time.perf_counter()\n",
    "    regressor = Formula.LearnFormula(X, y, optimizer_for_formula=torch.optim.Rprop, n_init=10)\n",
    "    time_from_start = time.perf_counter() - cnt\n",
    "    time_iteration = time.perf_counter() - cnt_iteration\n",
    "    min_from_start, sec_from_start = divmod(time_from_start, 60)\n",
    "    min_iteration, sec_iteration = divmod(time_iteration, 60)\n",
    "    print(f\"{remove_zero_minutes(min_from_start)}{sec_from_start :.0f} seconds passed from start, the iteration took {remove_zero_minutes(min_iteration)}{sec_iteration :.0f} seconds\")\n",
    "    print(f\"The ground truth is {coeffs[0].item() :.5f}x_1^{powers[0].item() :.5f} + {coeffs[1].item() :.5f}x_2^{powers[1].item() :.5f} + {coeffs[2].item() :.5f}x_3^{powers[2].item() :.5f} + {b.item() :.5f}\")\n",
    "    print(\"the obtained formula is\")\n",
    "    functions.PrintFormula(regressor[0])"
   ]
  },
  {
   "cell_type": "markdown",
   "metadata": {},
   "source": [
    "We can see that in 7 cases out of 10 the formulas are recovered exactly, while in other 3 cases there is no similarity (the degree of one variable is a small number, and the loss is compensated by the bias term)."
   ]
  },
  {
   "cell_type": "code",
   "execution_count": null,
   "metadata": {},
   "outputs": [],
   "source": []
  }
 ],
 "metadata": {
  "accelerator": "GPU",
  "colab": {
   "name": "demonstration.ipynb",
   "provenance": []
  },
  "kernelspec": {
   "display_name": "Python 3",
   "language": "python",
   "name": "python3"
  },
  "language_info": {
   "codemirror_mode": {
    "name": "ipython",
    "version": 3
   },
   "file_extension": ".py",
   "mimetype": "text/x-python",
   "name": "python",
   "nbconvert_exporter": "python",
   "pygments_lexer": "ipython3",
   "version": "3.7.3"
  }
 },
 "nbformat": 4,
 "nbformat_minor": 1
}
