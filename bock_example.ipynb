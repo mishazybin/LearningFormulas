{
 "cells": [
  {
   "cell_type": "code",
   "execution_count": 2,
   "metadata": {},
   "outputs": [],
   "source": [
    "import torch\n",
    "import bock\n",
    "from bock import SingleTaskGP, ExpectedImprovement, bo_step, CustomCylindricalGP\n",
    "from IPython.display import clear_output\n"
   ]
  },
  {
   "cell_type": "code",
   "execution_count": 3,
   "metadata": {},
   "outputs": [],
   "source": [
    "import numpy as np\n",
    "import pandas as pd\n",
    "from matplotlib import pyplot as plt\n",
    "from torch.nn import MSELoss\n",
    "import torch\n",
    "import torch.nn as nn\n",
    "import torch.nn.functional as F\n",
    "import torch.optim as optim\n",
    "import copy\n",
    "from IPython.display import display, Math, Latex\n",
    "\n",
    "import Formula\n",
    "import functions\n",
    "import importlib\n",
    "from hessian import hessian\n",
    "# from IPython.core.display import display, HTML\n",
    "# display(HTML(\"<style>.container { width:100% !important; }</style>\"))\n",
    "\n",
    "device = torch.device(\"cpu\")\n",
    "if torch.cuda.is_available():\n",
    "    device = torch.device(\"cuda\")"
   ]
  },
  {
   "cell_type": "code",
   "execution_count": 4,
   "metadata": {},
   "outputs": [],
   "source": [
    "def opt_func(X):\n",
    "    return X.norm(dim=1)"
   ]
  },
  {
   "cell_type": "code",
   "execution_count": 11,
   "metadata": {},
   "outputs": [
    {
     "name": "stdout",
     "output_type": "stream",
     "text": [
      "tensor([[0.5000, 0.5000, 0.5000, 0.5000, 0.5000],\n",
      "        [0.7500, 0.2500, 0.7500, 0.2500, 0.7500],\n",
      "        [0.2500, 0.7500, 0.2500, 0.7500, 0.2500],\n",
      "        [0.3750, 0.3750, 0.6250, 0.1250, 0.8750],\n",
      "        [0.8750, 0.8750, 0.1250, 0.6250, 0.3750],\n",
      "        [0.6250, 0.1250, 0.3750, 0.3750, 0.1250],\n",
      "        [0.1250, 0.6250, 0.8750, 0.8750, 0.6250],\n",
      "        [0.1875, 0.3125, 0.3125, 0.6875, 0.5625],\n",
      "        [0.6875, 0.8125, 0.8125, 0.1875, 0.0625],\n",
      "        [0.9375, 0.0625, 0.5625, 0.9375, 0.3125],\n",
      "        [0.4375, 0.5625, 0.0625, 0.4375, 0.8125],\n",
      "        [0.3125, 0.1875, 0.9375, 0.5625, 0.4375],\n",
      "        [0.8125, 0.6875, 0.4375, 0.0625, 0.9375],\n",
      "        [0.5625, 0.4375, 0.1875, 0.8125, 0.6875],\n",
      "        [0.0625, 0.9375, 0.6875, 0.3125, 0.1875],\n",
      "        [0.0938, 0.4688, 0.8438, 0.4062, 0.2812],\n",
      "        [0.5938, 0.9688, 0.3438, 0.9062, 0.7812],\n",
      "        [0.8438, 0.2188, 0.0938, 0.1562, 0.5312],\n",
      "        [0.3438, 0.7188, 0.5938, 0.6562, 0.0312],\n",
      "        [0.4688, 0.0938, 0.4688, 0.2812, 0.6562]])\n"
     ]
    }
   ],
   "source": [
    "# dimensionality of the problem\n",
    "n_dim = 5\n",
    "# number of init measurements\n",
    "num_init = 20\n",
    "# size of search space\n",
    "x_step = 5.\n",
    "# center of search space\n",
    "center = 0.7\n",
    "\n",
    "borders = []\n",
    "for i in range(n_dim):\n",
    "    borders.append((center - x_step, center + x_step))\n",
    "borders = torch.tensor(borders).float()\n",
    "soboleng = torch.quasirandom.SobolEngine(dimension=n_dim)\n",
    "X = soboleng.draw(num_init).float()\n",
    "print(X)\n",
    "X = X * (borders[:, 1] - borders[:, 0]) + borders[:, 0]\n",
    "y = opt_func(X)"
   ]
  },
  {
   "cell_type": "code",
   "execution_count": 19,
   "metadata": {},
   "outputs": [
    {
     "data": {
      "text/plain": [
       "tensor([2.2361, 1.4142])"
      ]
     },
     "execution_count": 19,
     "metadata": {},
     "output_type": "execute_result"
    }
   ],
   "source": [
    "opt_func(torch.tensor([[1., 2.], [1., 1.]]))"
   ]
  },
  {
   "cell_type": "code",
   "execution_count": 12,
   "metadata": {},
   "outputs": [
    {
     "data": {
      "text/plain": [
       "(tensor([[ 0.7000,  0.7000,  0.7000,  0.7000,  0.7000],\n",
       "         [ 3.2000, -1.8000,  3.2000, -1.8000,  3.2000],\n",
       "         [-1.8000,  3.2000, -1.8000,  3.2000, -1.8000],\n",
       "         [-0.5500, -0.5500,  1.9500, -3.0500,  4.4500],\n",
       "         [ 4.4500,  4.4500, -3.0500,  1.9500, -0.5500],\n",
       "         [ 1.9500, -3.0500, -0.5500, -0.5500, -3.0500],\n",
       "         [-3.0500,  1.9500,  4.4500,  4.4500,  1.9500],\n",
       "         [-2.4250, -1.1750, -1.1750,  2.5750,  1.3250],\n",
       "         [ 2.5750,  3.8250,  3.8250, -2.4250, -3.6750],\n",
       "         [ 5.0750, -3.6750,  1.3250,  5.0750, -1.1750],\n",
       "         [ 0.0750,  1.3250, -3.6750,  0.0750,  3.8250],\n",
       "         [-1.1750, -2.4250,  5.0750,  1.3250,  0.0750],\n",
       "         [ 3.8250,  2.5750,  0.0750, -3.6750,  5.0750],\n",
       "         [ 1.3250,  0.0750, -2.4250,  3.8250,  2.5750],\n",
       "         [-3.6750,  5.0750,  2.5750, -1.1750, -2.4250],\n",
       "         [-3.3625,  0.3875,  4.1375, -0.2375, -1.4875],\n",
       "         [ 1.6375,  5.3875, -0.8625,  4.7625,  3.5125],\n",
       "         [ 4.1375, -2.1125, -3.3625, -2.7375,  1.0125],\n",
       "         [-0.8625,  2.8875,  1.6375,  2.2625, -3.9875],\n",
       "         [ 0.3875, -3.3625,  0.3875, -1.4875,  2.2625]]),\n",
       " tensor([1.5652, 6.0992, 5.4955, 5.7890, 7.2810, 4.7971, 7.5175, 4.1265, 7.4349,\n",
       "         8.2555, 5.4684, 5.8973, 7.7800, 5.3762, 7.2906, 5.5538, 8.2140, 6.4348,\n",
       "         5.7256, 4.3518]))"
      ]
     },
     "execution_count": 12,
     "metadata": {},
     "output_type": "execute_result"
    }
   ],
   "source": [
    "X, y"
   ]
  },
  {
   "cell_type": "code",
   "execution_count": 9,
   "metadata": {},
   "outputs": [
    {
     "name": "stdout",
     "output_type": "stream",
     "text": [
      "Last measurement tensor([0.9519, 1.3770, 0.7980, 1.0888, 0.2234]) tensor([2.1620])\n",
      "Best measurement tensor([-0.0048,  0.0826,  0.0454,  0.2058,  0.2111]) tensor(0.3096)\n"
     ]
    }
   ],
   "source": [
    "state_dict = None\n",
    "for i in range(100):\n",
    "    GP = lambda X, y, noise, borders: CustomCylindricalGP(X, y.view(-1, 1), noise, borders)\n",
    "    acquisition = lambda gp, y: ExpectedImprovement(gp, y.min(), maximize=False)\n",
    "    objective = lambda x: opt_func(x)\n",
    "    X, y, gp = bo_step(\n",
    "        X,\n",
    "        y.view(-1, 1),\n",
    "        noise=torch.zeros_like(y), # placeholder, not used\n",
    "        objective=objective,\n",
    "        bounds=borders.t(),\n",
    "        GP=GP,\n",
    "        acquisition=acquisition,\n",
    "        q=1,\n",
    "        state_dict=state_dict\n",
    "    )\n",
    "    state_dict = gp.state_dict()\n",
    "    clear_output()\n",
    "    print(\"Last measurement\", X[-1], y[-1])\n",
    "    print(\"Best measurement\", X[y.argmin()], y.min())"
   ]
  },
  {
   "cell_type": "code",
   "execution_count": 20,
   "metadata": {},
   "outputs": [
    {
     "data": {
      "text/plain": [
       "OrderedDict([('likelihood.noise_covar.raw_noise', tensor([0.0373])),\n",
       "             ('likelihood.noise_covar.noise_prior.concentration',\n",
       "              tensor(1.1000)),\n",
       "             ('likelihood.noise_covar.noise_prior.rate', tensor(0.0500)),\n",
       "             ('mean_module.constant', tensor([5.0975])),\n",
       "             ('covar_module.raw_outputscale', tensor(-1.0397)),\n",
       "             ('covar_module.base_kernel.raw_angular_weights',\n",
       "              tensor([13.5099,  1.0031, -3.6613, -3.2481])),\n",
       "             ('covar_module.base_kernel.raw_alpha', tensor([6.3350])),\n",
       "             ('covar_module.base_kernel.raw_beta', tensor([1.4034])),\n",
       "             ('covar_module.base_kernel.radial_base_kernel.raw_lengthscale',\n",
       "              tensor([[-0.3850]]))])"
      ]
     },
     "execution_count": 20,
     "metadata": {},
     "output_type": "execute_result"
    }
   ],
   "source": [
    "state_dict"
   ]
  },
  {
   "cell_type": "code",
   "execution_count": 21,
   "metadata": {},
   "outputs": [
    {
     "data": {
      "text/plain": [
       "tensor([[ 0.7000,  0.7000,  0.7000,  0.7000,  0.7000],\n",
       "        [ 3.2000, -1.8000,  3.2000, -1.8000,  3.2000],\n",
       "        [-1.8000,  3.2000, -1.8000,  3.2000, -1.8000],\n",
       "        [-0.5500, -0.5500,  1.9500, -3.0500,  4.4500],\n",
       "        [ 4.4500,  4.4500, -3.0500,  1.9500, -0.5500],\n",
       "        [ 1.9500, -3.0500, -0.5500, -0.5500, -3.0500],\n",
       "        [-3.0500,  1.9500,  4.4500,  4.4500,  1.9500],\n",
       "        [-2.4250, -1.1750, -1.1750,  2.5750,  1.3250],\n",
       "        [ 2.5750,  3.8250,  3.8250, -2.4250, -3.6750],\n",
       "        [ 5.0750, -3.6750,  1.3250,  5.0750, -1.1750],\n",
       "        [ 0.0750,  1.3250, -3.6750,  0.0750,  3.8250],\n",
       "        [-1.1750, -2.4250,  5.0750,  1.3250,  0.0750],\n",
       "        [ 3.8250,  2.5750,  0.0750, -3.6750,  5.0750],\n",
       "        [ 1.3250,  0.0750, -2.4250,  3.8250,  2.5750],\n",
       "        [-3.6750,  5.0750,  2.5750, -1.1750, -2.4250],\n",
       "        [-3.3625,  0.3875,  4.1375, -0.2375, -1.4875],\n",
       "        [ 1.6375,  5.3875, -0.8625,  4.7625,  3.5125],\n",
       "        [ 4.1375, -2.1125, -3.3625, -2.7375,  1.0125],\n",
       "        [-0.8625,  2.8875,  1.6375,  2.2625, -3.9875],\n",
       "        [ 0.3875, -3.3625,  0.3875, -1.4875,  2.2625]])"
      ]
     },
     "execution_count": 21,
     "metadata": {},
     "output_type": "execute_result"
    }
   ],
   "source": [
    "X"
   ]
  },
  {
   "cell_type": "code",
   "execution_count": null,
   "metadata": {},
   "outputs": [],
   "source": []
  }
 ],
 "metadata": {
  "kernelspec": {
   "display_name": "Python 3",
   "language": "python",
   "name": "python3"
  },
  "language_info": {
   "codemirror_mode": {
    "name": "ipython",
    "version": 3
   },
   "file_extension": ".py",
   "mimetype": "text/x-python",
   "name": "python",
   "nbconvert_exporter": "python",
   "pygments_lexer": "ipython3",
   "version": "3.7.3"
  }
 },
 "nbformat": 4,
 "nbformat_minor": 4
}
