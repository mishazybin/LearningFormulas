{
 "cells": [
  {
   "cell_type": "markdown",
   "metadata": {},
   "source": [
    "## Тестируем разные оптимизаторы на 5 разных формулах. На всех, кроме первой, получился достаточно разумный ответ. Лучшие оптимизаторы - RMSprop и Rprop."
   ]
  },
  {
   "cell_type": "code",
   "execution_count": 2,
   "metadata": {
    "colab": {},
    "colab_type": "code",
    "id": "q41R-POjCq1e"
   },
   "outputs": [],
   "source": [
    "import numpy as np\n",
    "import pandas as pd\n",
    "from matplotlib import pyplot as plt\n",
    "from torch.nn import MSELoss\n",
    "import torch\n",
    "import torch.nn as nn\n",
    "import torch.nn.functional as F\n",
    "import torch.optim as optim\n",
    "import copy\n",
    "from IPython.display import display, Math, Latex\n",
    "\n",
    "import Formula\n",
    "import functions\n",
    "import importlib\n",
    "from hessian import hessian\n",
    "# from IPython.core.display import display, HTML\n",
    "# display(HTML(\"<style>.container { width:100% !important; }</style>\"))\n",
    "\n",
    "device = torch.device(\"cpu\")\n",
    "if torch.cuda.is_available():\n",
    "    device = torch.device(\"cuda\")"
   ]
  },
  {
   "cell_type": "code",
   "execution_count": 43,
   "metadata": {},
   "outputs": [
    {
     "data": {
      "text/plain": [
       "<module 'functions' from '/home/zybinmikhail/Documents/personal github projects/LearningFormulas/functions.py'>"
      ]
     },
     "execution_count": 43,
     "metadata": {},
     "output_type": "execute_result"
    }
   ],
   "source": [
    "importlib.reload(Formula)\n",
    "importlib.reload(functions)"
   ]
  },
  {
   "cell_type": "code",
   "execution_count": null,
   "metadata": {},
   "outputs": [],
   "source": [
    "X = torch.rand(1000, 3) * 100"
   ]
  },
  {
   "cell_type": "markdown",
   "metadata": {},
   "source": [
    "## x_2^2 + x_1 * x_3"
   ]
  },
  {
   "cell_type": "code",
   "execution_count": 44,
   "metadata": {},
   "outputs": [
    {
     "name": "stdout",
     "output_type": "stream",
     "text": [
      "trying <class 'torch.optim.adam.Adam'>\n",
      "\tInitialization #1\n",
      "\tThe model does not seem to converge, finishing at epoch 1000\n",
      "\tFinished run #1, loss 7199410.5, best loss 7199410.5\n",
      "\tInitialization #2\n",
      "\tThe model does not seem to converge, finishing at epoch 1000\n",
      "\tFinished run #2, loss 3256536.0, best loss 3256536.0\n",
      "\tInitialization #3\n",
      "\tThe model does not seem to converge, finishing at epoch 1000\n",
      "\tFinished run #3, loss 2833460.5, best loss 2833460.5\n",
      "\tInitialization #4\n",
      "\tThe model does not seem to converge, finishing at epoch 1000\n",
      "\tFinished run #4, loss 10548683.0, best loss 2833460.5\n",
      "\tInitialization #5\n",
      "\tThe model does not seem to converge, finishing at epoch 1000\n",
      "\tFinished run #5, loss 1026801728.0, best loss 2833460.5\n",
      "trying <class 'torch.optim.rmsprop.RMSprop'>\n",
      "\tInitialization #1\n",
      "\tThe model does not seem to converge, finishing at epoch 1000\n",
      "\tFinished run #1, loss 16775435.0, best loss 16775435.0\n",
      "\tInitialization #2\n",
      "\tThe model does not seem to converge, finishing at epoch 1000\n",
      "\tFinished run #2, loss 19537914.0, best loss 16775435.0\n",
      "\tInitialization #3\n",
      "\tThe model does not seem to converge, finishing at epoch 1000\n",
      "\tFinished run #3, loss 10680713.0, best loss 10680713.0\n",
      "\tInitialization #4\n",
      "\tThe model does not seem to converge, finishing at epoch 1000\n",
      "\tFinished run #4, loss 3601518.0, best loss 3601518.0\n",
      "\tInitialization #5\n",
      "\tThe model does not seem to converge, finishing at epoch 1000\n",
      "\tFinished run #5, loss 3044732.5, best loss 3044732.5\n",
      "trying <class 'torch.optim.rprop.Rprop'>\n",
      "\tInitialization #1\n",
      "\tThe model does not seem to converge, finishing at epoch 1000\n",
      "\tFinished run #1, loss 1428615.5, best loss 1428615.5\n",
      "\tInitialization #2\n",
      "\tThe model does not seem to converge, finishing at epoch 1000\n",
      "\tFinished run #2, loss 1501570.75, best loss 1428615.5\n",
      "\tInitialization #3\n",
      "\tThe model does not seem to converge, finishing at epoch 1000\n",
      "\tFinished run #3, loss 759326.5, best loss 759326.5\n",
      "\tInitialization #4\n",
      "\tThe model does not seem to converge, finishing at epoch 1000\n",
      "\tFinished run #4, loss 1436483.75, best loss 759326.5\n",
      "\tInitialization #5\n",
      "\tThe model does not seem to converge, finishing at epoch 1000\n",
      "\tFinished run #5, loss 5449092.5, best loss 759326.5\n",
      "trying <class 'torch.optim.sgd.SGD'>\n",
      "\tInitialization #1\n",
      "\t\tEpoch 5000, current loss nan, current formula \\left(nanx_1^{nan}nanx_2^{nan}nanx_3^{nan}nan\\right)\n",
      "\t\tEpoch 10000, current loss nan, current formula \\left(nanx_1^{nan}nanx_2^{nan}nanx_3^{nan}nan\\right)\n",
      "\tFinished run #1, loss nan, best loss 1e+20\n",
      "\tInitialization #2\n",
      "\t\tEpoch 5000, current loss nan, current formula \\left(nanx_1^{nan}nanx_2^{nan}nanx_3^{nan}nan\\right)\n",
      "\t\tEpoch 10000, current loss nan, current formula \\left(nanx_1^{nan}nanx_2^{nan}nanx_3^{nan}nan\\right)\n",
      "\tFinished run #2, loss nan, best loss 1e+20\n",
      "\tInitialization #3\n",
      "\t\tEpoch 5000, current loss nan, current formula \\left(nanx_1^{nan}nanx_2^{nan}nanx_3^{nan}nan\\right)\n",
      "\t\tEpoch 10000, current loss nan, current formula \\left(nanx_1^{nan}nanx_2^{nan}nanx_3^{nan}nan\\right)\n",
      "\tFinished run #3, loss nan, best loss 1e+20\n",
      "\tInitialization #4\n",
      "\t\tEpoch 5000, current loss nan, current formula \\left(nanx_1^{nan}nanx_2^{nan}nanx_3^{nan}nan\\right)\n",
      "\t\tEpoch 10000, current loss nan, current formula \\left(nanx_1^{nan}nanx_2^{nan}nanx_3^{nan}nan\\right)\n",
      "\tFinished run #4, loss nan, best loss 1e+20\n",
      "\tInitialization #5\n",
      "\t\tEpoch 5000, current loss nan, current formula \\left(nanx_1^{nan}nanx_2^{nan}nanx_3^{nan}nan\\right)\n",
      "\t\tEpoch 10000, current loss nan, current formula \\left(nanx_1^{nan}nanx_2^{nan}nanx_3^{nan}nan\\right)\n",
      "\tFinished run #5, loss nan, best loss 1e+20\n"
     ]
    }
   ],
   "source": [
    "y = (X[:, 1]**2 + X[:, 0] * X[:, 2]).view(-1, 1)\n",
    "\n",
    "for optimizer in [torch.optim.Adam, torch.optim.RMSprop, torch.optim.Rprop, torch.optim.SGD]:\n",
    "    print('trying', optimizer)\n",
    "    regressor = Formula.LearnFormula(\n",
    "        X, y, optimizer_for_formula=optimizer, n_init=5)"
   ]
  },
  {
   "cell_type": "markdown",
   "metadata": {},
   "source": [
    "### Ничего не сошлось."
   ]
  },
  {
   "cell_type": "markdown",
   "metadata": {},
   "source": [
    " "
   ]
  },
  {
   "cell_type": "markdown",
   "metadata": {},
   "source": [
    "## x_1 + x_2 + x_3"
   ]
  },
  {
   "cell_type": "code",
   "execution_count": 47,
   "metadata": {},
   "outputs": [
    {
     "name": "stdout",
     "output_type": "stream",
     "text": [
      "trying <class 'torch.optim.adam.Adam'>\n",
      "\tInitialization #1\n",
      "\t\tEpoch 5000, current loss 9.03e+02, current formula \\left(1.1x_1^{1.02} + 1.68x_2^{0.934}-0.0238x_3^{-1.92} + 24.1\\right)\n",
      "\t\tEpoch 10000, current loss 8.16e+02, current formula \\left(1.38x_1^{0.932} + 1.76x_2^{0.884}-0.0289x_3^{-1.92} + 43.8\\right)\n",
      "\tFinished run #1, loss 816.0052490234375, best loss 816.0052490234375\n",
      "\tInitialization #2\n",
      "\t\tEpoch 5000, current loss 6.31e+02, current formula \\left(-45.5x_1^{-0.364} + 14.0x_2^{0.477} + 3.07x_3^{0.779} + 14.1\\right)\n",
      "\t\tEpoch 10000, current loss 4.75e+02, current formula \\left(-89.9x_1^{-0.28} + 8.83x_2^{0.561} + 4.28x_3^{0.71} + 42.8\\right)\n",
      "\tFinished run #2, loss 475.218505859375, best loss 475.218505859375\n",
      "\tInitialization #3\n",
      "\tThe model does not seem to converge, finishing at epoch 1000\n",
      "\tFinished run #3, loss 2425847.0, best loss 475.218505859375\n",
      "\tInitialization #4\n",
      "\t\tEpoch 5000, current loss 2.84e+03, current formula \\left(-0.0101x_1^{-2.49} + 2.16x_2^{0.979} + 0.0356x_3^{-1.1} + 32.9\\right)\n",
      "\t\tEpoch 10000, current loss 1.69e+03, current formula \\left(-0.421x_1^{-2.0} + 5.13x_2^{0.706}-3.01x_3^{-0.658} + 68.9\\right)\n",
      "\tFinished run #4, loss 1689.137939453125, best loss 475.218505859375\n",
      "\tInitialization #5\n",
      "\t\tEpoch 5000, current loss 1.84e+03, current formula \\left(-6.16x_1^{-0.736} + 15.1x_2^{0.532}-14.0x_3^{-0.522} + 32.0\\right)\n",
      "\t\tEpoch 10000, current loss 1.21e+03, current formula \\left(-48.8x_1^{-0.399} + 31.2x_2^{0.353}-60.1x_3^{-0.3} + 65.6\\right)\n",
      "\tFinished run #5, loss 1206.927001953125, best loss 475.218505859375\n",
      "trying <class 'torch.optim.rmsprop.RMSprop'>\n",
      "\tInitialization #1\n",
      "\t\tEpoch 5000, current loss 7e+02, current formula \\left(5.69x_1^{0.639}-30.2x_2^{-0.351} + 2.81x_3^{0.791} + 28.3\\right)\n",
      "\t\tEpoch 10000, current loss 5.58e+02, current formula \\left(5.39x_1^{0.653}-69.6x_2^{-0.281} + 4.05x_3^{0.72} + 40.6\\right)\n",
      "\tFinished run #1, loss 557.6411743164062, best loss 557.6411743164062\n",
      "\tInitialization #2\n",
      "\t\tEpoch 5000, current loss 6.68e+02, current formula \\left(8.57x_1^{0.574}-41.3x_2^{-0.345} + 3.01x_3^{0.792} + 22.9\\right)\n",
      "\t\tEpoch 10000, current loss 5.52e+02, current formula \\left(8.53x_1^{0.574}-76.6x_2^{-0.282} + 4.31x_3^{0.719} + 35.7\\right)\n",
      "\tFinished run #2, loss 551.7913818359375, best loss 551.7913818359375\n",
      "\tInitialization #3\n",
      "\t\tEpoch 5000, current loss 6.45e+02, current formula \\left(4.18x_1^{0.714}-44.6x_2^{-0.338} + 6.7x_3^{0.633} + 24.0\\right)\n",
      "\t\tEpoch 10000, current loss 5.39e+02, current formula \\left(4.34x_1^{0.707}-78.4x_2^{-0.281} + 7.77x_3^{0.604} + 37.3\\right)\n",
      "\tFinished run #3, loss 538.9784545898438, best loss 538.9784545898438\n",
      "\tInitialization #4\n",
      "\t\tEpoch 5000, current loss 6.39e+02, current formula \\left(6.5x_1^{0.627}-47.8x_2^{-0.333} + 4.83x_3^{0.698} + 24.0\\right)\n",
      "\t\tEpoch 10000, current loss 5.39e+02, current formula \\left(6.55x_1^{0.625}-80.5x_2^{-0.278} + 5.98x_3^{0.655} + 37.1\\right)\n",
      "\tFinished run #4, loss 538.8944091796875, best loss 538.8944091796875\n",
      "\tInitialization #5\n",
      "\t\tEpoch 5000, current loss 1.48e+03, current formula \\left(28.0x_1^{0.388}-32.7x_2^{-0.419}-32.6x_3^{-0.387} + 45.6\\right)\n",
      "\t\tEpoch 10000, current loss 1.19e+03, current formula \\left(37.2x_1^{0.321}-67.3x_2^{-0.31}-64.7x_3^{-0.289} + 75.6\\right)\n",
      "\tFinished run #5, loss 1191.391357421875, best loss 538.8944091796875\n",
      "trying <class 'torch.optim.rprop.Rprop'>\n",
      "\tInitialization #1\n",
      "\t\tEpoch 5000, current loss 2.41e+02, current formula \\left(-4.4e+02x_1^{-0.0619} + 1.66x_2^{0.894} + 2.07x_3^{0.851} + 3.92e+02\\right)\n",
      "\t\tEpoch 10000, current loss 2.26e+02, current formula \\left(-6.29e+02x_1^{-0.0422} + 1.17x_2^{0.968} + 1.42x_3^{0.929} + 5.86e+02\\right)\n",
      "\tFinished run #1, loss 225.9806671142578, best loss 225.9806671142578\n",
      "\tInitialization #2\n",
      "\t\tEpoch 5000, current loss 4.96e+02, current formula \\left(-4.12e+02x_1^{-0.0654}-4.48e+02x_2^{-0.0591} + 1.93x_3^{0.868} + 7.82e+02\\right)\n",
      "\t\tEpoch 10000, current loss 4.81e+02, current formula \\left(-4.95e+02x_1^{-0.0534}-5.43e+02x_2^{-0.0482} + 1.93x_3^{0.868} + 9.6e+02\\right)\n",
      "\tFinished run #2, loss 481.0252685546875, best loss 225.9806671142578\n",
      "\tInitialization #3\n",
      "\t\tEpoch 5000, current loss 0.195, current formula \\left(1.14x_1^{0.972} + 1.13x_2^{0.974} + 0.892x_3^{1.02}-1.15\\right)\n",
      "\tFinished run #3, loss 0.001079967594705522, best loss 0.001079967594705522\n",
      "\tInitialization #4\n",
      "\t\tEpoch 5000, current loss 2.59e+02, current formula \\left(0.451x_1^{1.17} + 1.3x_2^{0.943}-5.59e+02x_3^{-0.0447} + 5.31e+02\\right)\n",
      "\t\tEpoch 10000, current loss 2.5e+02, current formula \\left(0.572x_1^{1.12} + 1.28x_2^{0.945}-7.47e+02x_3^{-0.0331} + 7.17e+02\\right)\n",
      "\tFinished run #4, loss 249.8309326171875, best loss 0.001079967594705522\n",
      "\tInitialization #5\n",
      "\t\tEpoch 5000, current loss 5.08e+02, current formula \\left(0.957x_1^{1.01}-4.38e+02x_2^{-0.0607}-4.61e+02x_3^{-0.056} + 8.31e+02\\right)\n",
      "\t\tEpoch 10000, current loss 4.91e+02, current formula \\left(0.754x_1^{1.06}-5.21e+02x_2^{-0.0505}-5.47e+02x_3^{-0.0468} + 1e+03\\right)\n",
      "\tFinished run #5, loss 491.43365478515625, best loss 0.001079967594705522\n",
      "trying <class 'torch.optim.sgd.SGD'>\n",
      "\tInitialization #1\n",
      "\t\tEpoch 5000, current loss nan, current formula \\left(nanx_1^{nan}nanx_2^{nan}nanx_3^{nan}nan\\right)\n",
      "\t\tEpoch 10000, current loss nan, current formula \\left(nanx_1^{nan}nanx_2^{nan}nanx_3^{nan}nan\\right)\n",
      "\tFinished run #1, loss nan, best loss 1e+20\n",
      "\tInitialization #2\n",
      "\t\tEpoch 5000, current loss nan, current formula \\left(nanx_1^{nan}nanx_2^{nan}nanx_3^{nan}nan\\right)\n",
      "\t\tEpoch 10000, current loss nan, current formula \\left(nanx_1^{nan}nanx_2^{nan}nanx_3^{nan}nan\\right)\n",
      "\tFinished run #2, loss nan, best loss 1e+20\n",
      "\tInitialization #3\n",
      "\t\tEpoch 5000, current loss nan, current formula \\left(nanx_1^{nan}nanx_2^{nan}nanx_3^{nan}nan\\right)\n",
      "\t\tEpoch 10000, current loss nan, current formula \\left(nanx_1^{nan}nanx_2^{nan}nanx_3^{nan}nan\\right)\n",
      "\tFinished run #3, loss nan, best loss 1e+20\n",
      "\tInitialization #4\n",
      "\t\tEpoch 5000, current loss nan, current formula \\left(nanx_1^{nan}nanx_2^{nan}nanx_3^{nan}nan\\right)\n",
      "\t\tEpoch 10000, current loss nan, current formula \\left(nanx_1^{nan}nanx_2^{nan}nanx_3^{nan}nan\\right)\n",
      "\tFinished run #4, loss nan, best loss 1e+20\n",
      "\tInitialization #5\n",
      "\t\tEpoch 5000, current loss nan, current formula \\left(nanx_1^{nan}nanx_2^{nan}nanx_3^{nan}nan\\right)\n",
      "\t\tEpoch 10000, current loss nan, current formula \\left(nanx_1^{nan}nanx_2^{nan}nanx_3^{nan}nan\\right)\n",
      "\tFinished run #5, loss nan, best loss 1e+20\n"
     ]
    }
   ],
   "source": [
    "y = (X[:, 0] + X[:, 1] + X[:, 2]).view(-1, 1)\n",
    "\n",
    "for optimizer in [torch.optim.Adam, torch.optim.RMSprop, torch.optim.Rprop, torch.optim.SGD]:\n",
    "    print('trying', optimizer)\n",
    "    regressor = Formula.LearnFormula(\n",
    "        X, y, optimizer_for_formula=optimizer, n_init=5)"
   ]
  },
  {
   "cell_type": "markdown",
   "metadata": {},
   "source": [
    "best result - Rprop, loss 0.195"
   ]
  },
  {
   "cell_type": "code",
   "execution_count": 57,
   "metadata": {},
   "outputs": [
    {
     "data": {
      "text/latex": [
       "$\\displaystyle 1.14x_1^{0.972} + 1.13x_2^{0.974} + 0.892x_3^{1.02}-1.15$"
      ],
      "text/plain": [
       "<IPython.core.display.Math object>"
      ]
     },
     "metadata": {},
     "output_type": "display_data"
    }
   ],
   "source": [
    "display(Math('1.14x_1^{0.972} + 1.13x_2^{0.974} + 0.892x_3^{1.02}-1.15'))"
   ]
  },
  {
   "cell_type": "markdown",
   "metadata": {},
   "source": [
    "## x_1 + 2 * x_2 + 3 * x_3"
   ]
  },
  {
   "cell_type": "code",
   "execution_count": 48,
   "metadata": {},
   "outputs": [
    {
     "name": "stdout",
     "output_type": "stream",
     "text": [
      "trying <class 'torch.optim.adam.Adam'>\n",
      "\tInitialization #1\n",
      "\tThe model does not seem to converge, finishing at epoch 1000\n",
      "\tFinished run #1, loss 8974486528.0, best loss 8974486528.0\n",
      "\tInitialization #2\n",
      "\tThe model does not seem to converge, finishing at epoch 1000\n",
      "\tFinished run #2, loss 10835086.0, best loss 10835086.0\n",
      "\tInitialization #3\n",
      "\tThe model does not seem to converge, finishing at epoch 1000\n",
      "\tFinished run #3, loss 302868.4375, best loss 302868.4375\n",
      "\tInitialization #4\n",
      "\t\tEpoch 5000, current loss 9.25e+03, current formula \\left(0.383x_1^{1.35} + 8.32x_2^{0.799}-17.6x_3^{-0.661} + 23.6\\right)\n",
      "\t\tEpoch 10000, current loss 6.73e+03, current formula \\left(0.874x_1^{1.09} + 22.4x_2^{0.556}-64.3x_3^{-0.41} + 62.5\\right)\n",
      "\tFinished run #4, loss 6731.07080078125, best loss 6731.07080078125\n",
      "\tInitialization #5\n",
      "\t\tEpoch 5000, current loss 9.58e+02, current formula \\left(-10.3x_1^{-0.616} + 11.1x_2^{0.671} + 1.91x_3^{1.11} + 0.62\\right)\n",
      "\t\tEpoch 10000, current loss 6.95e+02, current formula \\left(-51.2x_1^{-0.376} + 18.8x_2^{0.554} + 2.01x_3^{1.09} + 13.1\\right)\n",
      "\tFinished run #5, loss 695.0648803710938, best loss 695.0648803710938\n",
      "trying <class 'torch.optim.rmsprop.RMSprop'>\n",
      "\tInitialization #1\n",
      "\t\tEpoch 5000, current loss 7.11e+02, current formula \\left(-38.0x_1^{-0.407} + 3.73x_2^{0.867} + 7.27x_3^{0.817} + 20.1\\right)\n",
      "\t\tEpoch 10000, current loss 6.05e+02, current formula \\left(-66.9x_1^{-0.343} + 4.26x_2^{0.839} + 7.32x_3^{0.815} + 30.2\\right)\n",
      "\tFinished run #1, loss 604.583740234375, best loss 604.583740234375\n",
      "\tInitialization #2\n",
      "\t\tEpoch 5000, current loss 7.25e+02, current formula \\left(-31.4x_1^{-0.444} + 4.54x_2^{0.84} + 4.53x_3^{0.926} + 25.8\\right)\n",
      "\t\tEpoch 10000, current loss 5.96e+02, current formula \\left(-63.1x_1^{-0.357} + 4.95x_2^{0.819} + 5.16x_3^{0.896} + 36.3\\right)\n",
      "\tFinished run #2, loss 595.8567504882812, best loss 595.8567504882812\n",
      "\tInitialization #3\n",
      "\t\tEpoch 5000, current loss 6.86e+03, current formula \\left(12.8x_1^{0.548} + 18.1x_2^{0.592}-51.8x_3^{-0.418} + 40.8\\right)\n",
      "\t\tEpoch 10000, current loss 6.04e+03, current formula \\left(18.3x_1^{0.454} + 21.7x_2^{0.542}-99.8x_3^{-0.335} + 66.2\\right)\n",
      "\tFinished run #3, loss 6044.6845703125, best loss 595.8567504882812\n",
      "\tInitialization #4\n",
      "\tThe model does not seem to converge, finishing at epoch 1000\n",
      "\tFinished run #4, loss 16499081.0, best loss 595.8567504882812\n",
      "\tInitialization #5\n",
      "\t\tEpoch 5000, current loss 65.0, current formula \\left(0.615x_1^{1.1} + 3.37x_2^{0.895} + 2.07x_3^{1.08} + 5.64\\right)\n",
      "\t\tEpoch 10000, current loss 56.9, current formula \\left(0.787x_1^{1.05} + 2.71x_2^{0.941} + 2.36x_3^{1.05} + 4.41\\right)\n",
      "\tFinished run #5, loss 56.94529342651367, best loss 56.94529342651367\n",
      "trying <class 'torch.optim.rprop.Rprop'>\n",
      "\tInitialization #1\n",
      "\t\tEpoch 5000, current loss 1.25e+03, current formula \\left(-3.32e+02x_1^{-0.0813}-9.84e+02x_2^{-0.0538} + 3.18x_3^{0.99} + 1.21e+03\\right)\n",
      "\t\tEpoch 10000, current loss 1.2e+03, current formula \\left(-4.25e+02x_1^{-0.0621}-1.29e+03x_2^{-0.0404} + 3.69x_3^{0.959} + 1.6e+03\\right)\n",
      "\tFinished run #1, loss 1195.6265869140625, best loss 1195.6265869140625\n",
      "\tInitialization #2\n",
      "\t\tEpoch 5000, current loss 9.65e+02, current formula \\left(0.196x_1^{1.34}-1.11e+03x_2^{-0.0475} + 3.37x_3^{0.977} + 1.04e+03\\right)\n",
      "\t\tEpoch 10000, current loss 9.25e+02, current formula \\left(0.293x_1^{1.26}-1.51e+03x_2^{-0.0343} + 3.78x_3^{0.953} + 1.44e+03\\right)\n",
      "\tFinished run #2, loss 924.75244140625, best loss 924.75244140625\n",
      "\tInitialization #3\n",
      "\t\tEpoch 5000, current loss 2.33e+03, current formula \\left(1.24x_1^{0.946} + 1.46x_2^{1.06}-1.74e+03x_3^{-0.043} + 1.65e+03\\right)\n",
      "\t\tEpoch 10000, current loss 2.25e+03, current formula \\left(0.674x_1^{1.08} + 1.85x_2^{1.01}-2.23e+03x_3^{-0.0333} + 2.14e+03\\right)\n",
      "\tFinished run #3, loss 2250.923828125, best loss 924.75244140625\n",
      "\tInitialization #4\n",
      "\t\tEpoch 5000, current loss 9.7e+02, current formula \\left(1.27x_1^{0.948}-1.09e+03x_2^{-0.0487} + 3.23x_3^{0.986} + 1.01e+03\\right)\n",
      "\t\tEpoch 10000, current loss 9.29e+02, current formula \\left(0.768x_1^{1.05}-1.46e+03x_2^{-0.0356} + 3.71x_3^{0.957} + 1.38e+03\\right)\n",
      "\tFinished run #4, loss 928.5148315429688, best loss 924.75244140625\n",
      "\tInitialization #5\n",
      "\t\tEpoch 5000, current loss 9.84e+02, current formula \\left(1.4x_1^{0.928}-1.01e+03x_2^{-0.0527} + 3.12x_3^{0.993} + 9.32e+02\\right)\n",
      "\t\tEpoch 10000, current loss 9.35e+02, current formula \\left(0.793x_1^{1.05}-1.38e+03x_2^{-0.0377} + 3.67x_3^{0.959} + 1.3e+03\\right)\n",
      "\tFinished run #5, loss 934.638916015625, best loss 924.75244140625\n",
      "trying <class 'torch.optim.sgd.SGD'>\n",
      "\tInitialization #1\n",
      "\t\tEpoch 5000, current loss nan, current formula \\left(nanx_1^{nan}nanx_2^{nan}nanx_3^{nan}nan\\right)\n",
      "\t\tEpoch 10000, current loss nan, current formula \\left(nanx_1^{nan}nanx_2^{nan}nanx_3^{nan}nan\\right)\n",
      "\tFinished run #1, loss nan, best loss 1e+20\n",
      "\tInitialization #2\n",
      "\t\tEpoch 5000, current loss nan, current formula \\left(nanx_1^{nan}nanx_2^{nan}nanx_3^{nan}nan\\right)\n",
      "\t\tEpoch 10000, current loss nan, current formula \\left(nanx_1^{nan}nanx_2^{nan}nanx_3^{nan}nan\\right)\n",
      "\tFinished run #2, loss nan, best loss 1e+20\n",
      "\tInitialization #3\n",
      "\t\tEpoch 5000, current loss nan, current formula \\left(nanx_1^{nan}nanx_2^{nan}nanx_3^{nan}nan\\right)\n",
      "\t\tEpoch 10000, current loss nan, current formula \\left(nanx_1^{nan}nanx_2^{nan}nanx_3^{nan}nan\\right)\n",
      "\tFinished run #3, loss nan, best loss 1e+20\n",
      "\tInitialization #4\n",
      "\t\tEpoch 5000, current loss nan, current formula \\left(nanx_1^{nan}nanx_2^{nan}nanx_3^{nan}nan\\right)\n",
      "\t\tEpoch 10000, current loss nan, current formula \\left(nanx_1^{nan}nanx_2^{nan}nanx_3^{nan}nan\\right)\n",
      "\tFinished run #4, loss nan, best loss 1e+20\n",
      "\tInitialization #5\n",
      "\t\tEpoch 5000, current loss nan, current formula \\left(nanx_1^{nan}nanx_2^{nan}nanx_3^{nan}nan\\right)\n",
      "\t\tEpoch 10000, current loss nan, current formula \\left(nanx_1^{nan}nanx_2^{nan}nanx_3^{nan}nan\\right)\n",
      "\tFinished run #5, loss nan, best loss 1e+20\n"
     ]
    }
   ],
   "source": [
    "y = (X[:, 0] + 2 * X[:, 1] + 3 * X[:, 2]).view(-1, 1)\n",
    "\n",
    "for optimizer in [torch.optim.Adam, torch.optim.RMSprop, torch.optim.Rprop, torch.optim.SGD]:\n",
    "    print('trying', optimizer)\n",
    "    regressor = Formula.LearnFormula(\n",
    "        X, y, optimizer_for_formula=optimizer, n_init=5)"
   ]
  },
  {
   "cell_type": "markdown",
   "metadata": {},
   "source": [
    "best result - RMSProp, loss 18.1"
   ]
  },
  {
   "cell_type": "code",
   "execution_count": 56,
   "metadata": {},
   "outputs": [
    {
     "data": {
      "text/latex": [
       "$\\displaystyle 0.787x_1^{1.05} + 2.71x_2^{0.941} + 2.36x_3^{1.05} + 4.41$"
      ],
      "text/plain": [
       "<IPython.core.display.Math object>"
      ]
     },
     "metadata": {},
     "output_type": "display_data"
    }
   ],
   "source": [
    "display(Math('0.787x_1^{1.05} + 2.71x_2^{0.941} + 2.36x_3^{1.05} + 4.41'))"
   ]
  },
  {
   "cell_type": "markdown",
   "metadata": {},
   "source": [
    "## x_1^2 + x_2^2 + x_3^2"
   ]
  },
  {
   "cell_type": "code",
   "execution_count": 49,
   "metadata": {
    "scrolled": true
   },
   "outputs": [
    {
     "name": "stdout",
     "output_type": "stream",
     "text": [
      "trying <class 'torch.optim.adam.Adam'>\n",
      "\tInitialization #1\n",
      "\tThe model does not seem to converge, finishing at epoch 1000\n",
      "\tFinished run #1, loss 122521040.0, best loss 122521040.0\n",
      "\tInitialization #2\n",
      "\tThe model does not seem to converge, finishing at epoch 1000\n",
      "\tFinished run #2, loss 36599548.0, best loss 36599548.0\n",
      "\tInitialization #3\n",
      "\tThe model does not seem to converge, finishing at epoch 1000\n",
      "\tFinished run #3, loss 10966159.0, best loss 10966159.0\n",
      "\tInitialization #4\n",
      "\tThe model does not seem to converge, finishing at epoch 1000\n",
      "\tFinished run #4, loss 291333865472.0, best loss 10966159.0\n",
      "\tInitialization #5\n",
      "\tThe model does not seem to converge, finishing at epoch 1000\n",
      "\tFinished run #5, loss 122447600.0, best loss 10966159.0\n",
      "trying <class 'torch.optim.rmsprop.RMSprop'>\n",
      "\tInitialization #1\n",
      "\tThe model does not seem to converge, finishing at epoch 1000\n",
      "\tFinished run #1, loss 11123194.0, best loss 11123194.0\n",
      "\tInitialization #2\n",
      "\tThe model does not seem to converge, finishing at epoch 1000\n",
      "\tFinished run #2, loss 115670.6875, best loss 115670.6875\n",
      "\tInitialization #3\n",
      "\tThe model does not seem to converge, finishing at epoch 1000\n",
      "\tFinished run #3, loss 11086611.0, best loss 115670.6875\n",
      "\tInitialization #4\n",
      "\tThe model does not seem to converge, finishing at epoch 1000\n",
      "\tFinished run #4, loss 187751.140625, best loss 115670.6875\n",
      "\tInitialization #5\n",
      "\tThe model does not seem to converge, finishing at epoch 1000\n",
      "\tFinished run #5, loss 3374728960.0, best loss 115670.6875\n",
      "trying <class 'torch.optim.rprop.Rprop'>\n",
      "\tInitialization #1\n",
      "\tThe model does not seem to converge, finishing at epoch 1000\n",
      "\tFinished run #1, loss 153892.34375, best loss 153892.34375\n",
      "\tInitialization #2\n",
      "\tThe model does not seem to converge, finishing at epoch 1000\n",
      "\tFinished run #2, loss 4463079.5, best loss 153892.34375\n",
      "\tInitialization #3\n",
      "\tThe model does not seem to converge, finishing at epoch 1000\n",
      "\tFinished run #3, loss 9583183.0, best loss 153892.34375\n",
      "\tInitialization #4\n",
      "\tThe model does not seem to converge, finishing at epoch 1000\n",
      "\tFinished run #4, loss 114131.5, best loss 114131.5\n",
      "\tInitialization #5\n",
      "\t\tEpoch 5000, current loss 1.2e+03, current formula \\left(1.15x_1^{1.97} + 1.17x_2^{1.97} + 1.18x_3^{1.96}-1.08e+02\\right)\n",
      "\t\tEpoch 10000, current loss 18.1, current formula \\left(1.02x_1^{2.0} + 1.02x_2^{2.0} + 1.02x_3^{2.0}-13.2\\right)\n",
      "\tFinished run #5, loss 18.108671188354492, best loss 18.108671188354492\n",
      "trying <class 'torch.optim.sgd.SGD'>\n",
      "\tInitialization #1\n",
      "\t\tEpoch 5000, current loss nan, current formula \\left(nanx_1^{nan}nanx_2^{nan}nanx_3^{nan}nan\\right)\n",
      "\t\tEpoch 10000, current loss nan, current formula \\left(nanx_1^{nan}nanx_2^{nan}nanx_3^{nan}nan\\right)\n",
      "\tFinished run #1, loss nan, best loss 1e+20\n",
      "\tInitialization #2\n",
      "\t\tEpoch 5000, current loss nan, current formula \\left(nanx_1^{nan}nanx_2^{nan}nanx_3^{nan}nan\\right)\n",
      "\t\tEpoch 10000, current loss nan, current formula \\left(nanx_1^{nan}nanx_2^{nan}nanx_3^{nan}nan\\right)\n",
      "\tFinished run #2, loss nan, best loss 1e+20\n",
      "\tInitialization #3\n",
      "\t\tEpoch 5000, current loss nan, current formula \\left(nanx_1^{nan}nanx_2^{nan}nanx_3^{nan}nan\\right)\n",
      "\t\tEpoch 10000, current loss nan, current formula \\left(nanx_1^{nan}nanx_2^{nan}nanx_3^{nan}nan\\right)\n",
      "\tFinished run #3, loss nan, best loss 1e+20\n",
      "\tInitialization #4\n",
      "\t\tEpoch 5000, current loss nan, current formula \\left(nanx_1^{nan}nanx_2^{nan}nanx_3^{nan}nan\\right)\n",
      "\t\tEpoch 10000, current loss nan, current formula \\left(nanx_1^{nan}nanx_2^{nan}nanx_3^{nan}nan\\right)\n",
      "\tFinished run #4, loss nan, best loss 1e+20\n",
      "\tInitialization #5\n",
      "\t\tEpoch 5000, current loss nan, current formula \\left(nanx_1^{nan}nanx_2^{nan}nanx_3^{nan}nan\\right)\n",
      "\t\tEpoch 10000, current loss nan, current formula \\left(nanx_1^{nan}nanx_2^{nan}nanx_3^{nan}nan\\right)\n",
      "\tFinished run #5, loss nan, best loss 1e+20\n"
     ]
    }
   ],
   "source": [
    "y = (X[:, 0]**2 + X[:, 1]**2 + X[:, 2]**2).view(-1, 1)\n",
    "\n",
    "for optimizer in [torch.optim.Adam, torch.optim.RMSprop, torch.optim.Rprop, torch.optim.SGD]:\n",
    "    print('trying', optimizer)\n",
    "    regressor = Formula.LearnFormula(\n",
    "        X, y, optimizer_for_formula=optimizer, n_init=5)"
   ]
  },
  {
   "cell_type": "markdown",
   "metadata": {},
   "source": [
    "best result - Rprop, loss 18.1"
   ]
  },
  {
   "cell_type": "code",
   "execution_count": 55,
   "metadata": {},
   "outputs": [
    {
     "data": {
      "text/latex": [
       "$\\displaystyle 1.02x_1^{2.0} + 1.02x_2^{2.0} + 1.02x_3^{2.0}-13.2$"
      ],
      "text/plain": [
       "<IPython.core.display.Math object>"
      ]
     },
     "metadata": {},
     "output_type": "display_data"
    }
   ],
   "source": [
    "display(Math('1.02x_1^{2.0} + 1.02x_2^{2.0} + 1.02x_3^{2.0}-13.2'))"
   ]
  },
  {
   "cell_type": "markdown",
   "metadata": {},
   "source": [
    "## x_1^2 + 2 * x_2^2 + 3 * x_3^2"
   ]
  },
  {
   "cell_type": "code",
   "execution_count": 50,
   "metadata": {},
   "outputs": [
    {
     "name": "stdout",
     "output_type": "stream",
     "text": [
      "trying <class 'torch.optim.adam.Adam'>\n",
      "\tInitialization #1\n",
      "\tThe model does not seem to converge, finishing at epoch 1000\n",
      "\tFinished run #1, loss 111430024.0, best loss 111430024.0\n",
      "\tInitialization #2\n",
      "\tThe model does not seem to converge, finishing at epoch 1000\n",
      "\tFinished run #2, loss 171606704.0, best loss 111430024.0\n",
      "\tInitialization #3\n",
      "\tThe model does not seem to converge, finishing at epoch 1000\n",
      "\tFinished run #3, loss 107149048.0, best loss 107149048.0\n",
      "\tInitialization #4\n",
      "\tThe model does not seem to converge, finishing at epoch 1000\n",
      "\tFinished run #4, loss 8586385686528.0, best loss 107149048.0\n",
      "\tInitialization #5\n",
      "\tThe model does not seem to converge, finishing at epoch 1000\n",
      "\tFinished run #5, loss 167880.578125, best loss 167880.578125\n",
      "trying <class 'torch.optim.rmsprop.RMSprop'>\n",
      "\tInitialization #1\n",
      "\tThe model does not seem to converge, finishing at epoch 1000\n",
      "\tFinished run #1, loss 106982144.0, best loss 106982144.0\n",
      "\tInitialization #2\n",
      "\tThe model does not seem to converge, finishing at epoch 1000\n",
      "\tFinished run #2, loss 514863904.0, best loss 106982144.0\n",
      "\tInitialization #3\n",
      "\tFinished run #3, loss 3.540042597591562e+23, best loss 106982144.0\n",
      "\tInitialization #4\n",
      "\tThe model does not seem to converge, finishing at epoch 1000\n",
      "\tFinished run #4, loss 46344968.0, best loss 46344968.0\n",
      "\tInitialization #5\n",
      "\tThe model does not seem to converge, finishing at epoch 1000\n",
      "\tFinished run #5, loss 106713416.0, best loss 46344968.0\n",
      "trying <class 'torch.optim.rprop.Rprop'>\n",
      "\tInitialization #1\n",
      "\tThe model does not seem to converge, finishing at epoch 1000\n",
      "\tFinished run #1, loss 4551421.0, best loss 4551421.0\n",
      "\tInitialization #2\n",
      "\tThe model does not seem to converge, finishing at epoch 1000\n",
      "\tFinished run #2, loss 18912274.0, best loss 4551421.0\n",
      "\tInitialization #3\n",
      "\tThe model does not seem to converge, finishing at epoch 1000\n",
      "\tFinished run #3, loss 125090.296875, best loss 125090.296875\n",
      "\tInitialization #4\n",
      "\t\tEpoch 5000, current loss 5.24e+02, current formula \\left(1.13x_1^{1.97} + 1.89x_2^{2.01} + 2.94x_3^{2.0} + 6.84\\right)\n",
      "\t\tEpoch 10000, current loss 12.8, current formula \\left(1.02x_1^{2.0} + 1.98x_2^{2.0} + 2.98x_3^{2.0} + 3.05\\right)\n",
      "\tFinished run #4, loss 12.770622253417969, best loss 12.770622253417969\n",
      "\tInitialization #5\n",
      "\tThe model does not seem to converge, finishing at epoch 1000\n",
      "\tFinished run #5, loss 18760010.0, best loss 12.770622253417969\n",
      "trying <class 'torch.optim.sgd.SGD'>\n",
      "\tInitialization #1\n",
      "\t\tEpoch 5000, current loss nan, current formula \\left(nanx_1^{nan}nanx_2^{nan}nanx_3^{nan}nan\\right)\n",
      "\t\tEpoch 10000, current loss nan, current formula \\left(nanx_1^{nan}nanx_2^{nan}nanx_3^{nan}nan\\right)\n",
      "\tFinished run #1, loss nan, best loss 1e+20\n",
      "\tInitialization #2\n",
      "\t\tEpoch 5000, current loss nan, current formula \\left(nanx_1^{nan}nanx_2^{nan}nanx_3^{nan}nan\\right)\n",
      "\t\tEpoch 10000, current loss nan, current formula \\left(nanx_1^{nan}nanx_2^{nan}nanx_3^{nan}nan\\right)\n",
      "\tFinished run #2, loss nan, best loss 1e+20\n",
      "\tInitialization #3\n",
      "\t\tEpoch 5000, current loss nan, current formula \\left(nanx_1^{nan}nanx_2^{nan}nanx_3^{nan}nan\\right)\n",
      "\t\tEpoch 10000, current loss nan, current formula \\left(nanx_1^{nan}nanx_2^{nan}nanx_3^{nan}nan\\right)\n",
      "\tFinished run #3, loss nan, best loss 1e+20\n",
      "\tInitialization #4\n",
      "\t\tEpoch 5000, current loss nan, current formula \\left(nanx_1^{nan}nanx_2^{nan}nanx_3^{nan}nan\\right)\n",
      "\t\tEpoch 10000, current loss nan, current formula \\left(nanx_1^{nan}nanx_2^{nan}nanx_3^{nan}nan\\right)\n",
      "\tFinished run #4, loss nan, best loss 1e+20\n",
      "\tInitialization #5\n",
      "\t\tEpoch 5000, current loss nan, current formula \\left(nanx_1^{nan}nanx_2^{nan}nanx_3^{nan}nan\\right)\n",
      "\t\tEpoch 10000, current loss nan, current formula \\left(nanx_1^{nan}nanx_2^{nan}nanx_3^{nan}nan\\right)\n",
      "\tFinished run #5, loss nan, best loss 1e+20\n"
     ]
    }
   ],
   "source": [
    "y = (X[:, 0]**2 + 2 * X[:, 1]**2 + 3 * X[:, 2]**2).view(-1, 1)\n",
    "\n",
    "for optimizer in [torch.optim.Adam, torch.optim.RMSprop, torch.optim.Rprop, torch.optim.SGD]:\n",
    "    print('trying', optimizer)\n",
    "    regressor = Formula.LearnFormula(\n",
    "        X, y, optimizer_for_formula=optimizer, n_init=5)"
   ]
  },
  {
   "cell_type": "markdown",
   "metadata": {},
   "source": [
    "best result - Rprop, loss 12.8"
   ]
  },
  {
   "cell_type": "code",
   "execution_count": 54,
   "metadata": {},
   "outputs": [
    {
     "data": {
      "text/latex": [
       "$\\displaystyle 1.02 x_1^{2.0} + 1.98x_2^{2.0} + 2.98x_3^{2.0} + 3.05$"
      ],
      "text/plain": [
       "<IPython.core.display.Math object>"
      ]
     },
     "metadata": {},
     "output_type": "display_data"
    }
   ],
   "source": [
    "display(Math('1.02 x_1^{2.0} + 1.98x_2^{2.0} + 2.98x_3^{2.0} + 3.05'))"
   ]
  },
  {
   "cell_type": "code",
   "execution_count": null,
   "metadata": {},
   "outputs": [],
   "source": []
  }
 ],
 "metadata": {
  "accelerator": "GPU",
  "colab": {
   "name": "demonstration.ipynb",
   "provenance": []
  },
  "kernelspec": {
   "display_name": "Python 3",
   "language": "python",
   "name": "python3"
  },
  "language_info": {
   "codemirror_mode": {
    "name": "ipython",
    "version": 3
   },
   "file_extension": ".py",
   "mimetype": "text/x-python",
   "name": "python",
   "nbconvert_exporter": "python",
   "pygments_lexer": "ipython3",
   "version": "3.6.9"
  },
  "toc": {
   "base_numbering": 1,
   "nav_menu": {},
   "number_sections": true,
   "sideBar": true,
   "skip_h1_title": false,
   "title_cell": "Table of Contents",
   "title_sidebar": "Contents",
   "toc_cell": false,
   "toc_position": {},
   "toc_section_display": true,
   "toc_window_display": false
  },
  "varInspector": {
   "cols": {
    "lenName": 16,
    "lenType": 16,
    "lenVar": 40
   },
   "kernels_config": {
    "python": {
     "delete_cmd_postfix": "",
     "delete_cmd_prefix": "del ",
     "library": "var_list.py",
     "varRefreshCmd": "print(var_dic_list())"
    },
    "r": {
     "delete_cmd_postfix": ") ",
     "delete_cmd_prefix": "rm(",
     "library": "var_list.r",
     "varRefreshCmd": "cat(var_dic_list()) "
    }
   },
   "types_to_exclude": [
    "module",
    "function",
    "builtin_function_or_method",
    "instance",
    "_Feature"
   ],
   "window_display": false
  }
 },
 "nbformat": 4,
 "nbformat_minor": 1
}
